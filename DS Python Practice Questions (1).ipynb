{
 "cells": [
  {
   "cell_type": "code",
   "execution_count": 83,
   "id": "ab95759e",
   "metadata": {},
   "outputs": [],
   "source": [
    "#1.Python Kick Off"
   ]
  },
  {
   "cell_type": "code",
   "execution_count": 84,
   "id": "28e1bd9f",
   "metadata": {},
   "outputs": [],
   "source": [
    "#Q1:\n",
    "# Hello World\n",
    "# Description\n",
    "# Build a function HelloWorld which returns \"Hello World\".\n",
    "\n",
    "# Examples\n",
    "# HelloWorld( ) return \"Hello World\""
   ]
  },
  {
   "cell_type": "code",
   "execution_count": 85,
   "id": "27570f24",
   "metadata": {},
   "outputs": [],
   "source": [
    "def HelloWorld():\n",
    "    return \"Hello World\""
   ]
  },
  {
   "cell_type": "code",
   "execution_count": 86,
   "id": "0ae56c63",
   "metadata": {},
   "outputs": [],
   "source": [
    "#Q2: Pound to Kilogram\n",
    "# Description\n",
    "# Build a function LB2KG which takes a value in pound as input and returns the corresponding value in kilogram. One pound equals to 0.4536 kg.\n",
    "\n",
    "# Examples\n",
    "# LB2KG(1) returns 0.4536"
   ]
  },
  {
   "cell_type": "code",
   "execution_count": 87,
   "id": "60c57320",
   "metadata": {},
   "outputs": [],
   "source": [
    "def LB2KG(pound):\n",
    "    kilogram = 0.4536 * pound\n",
    "    return kilogram"
   ]
  },
  {
   "cell_type": "code",
   "execution_count": 88,
   "id": "96443f5b",
   "metadata": {},
   "outputs": [],
   "source": [
    "#Q3: Odd Number\n",
    "# Description\n",
    "# Build a function Odd which takes an integer as input and returns a boolin to tell whether the integer is odd or not.\n",
    "\n",
    "# Examples\n",
    "# Odd(3) returns True\n",
    "# Odd(4) returns False"
   ]
  },
  {
   "cell_type": "code",
   "execution_count": 89,
   "id": "54b326ae",
   "metadata": {},
   "outputs": [],
   "source": [
    "#if后和else后都有:\n",
    "def Odd(num):\n",
    "    if num % 2 != 0: \n",
    "        return True\n",
    "    else:\n",
    "        return False"
   ]
  },
  {
   "cell_type": "code",
   "execution_count": 90,
   "id": "62cbd2bd",
   "metadata": {},
   "outputs": [],
   "source": [
    "#Q4:FizzBuzz\n",
    "# Description\n",
    "# Build a function FizzBuzz which takes a positive integer as input. If the number is divisible by 3, the function returns \"Fizz\". If the number is divisible by 5, the function returns \"Buzz\". If the number is divisible by both 3 and 5, the function returns \"FizzBuzz\". Otherwise, the function returns the number itself.\n",
    "\n",
    "# Examples\n",
    "# FizzBuzz(45) returns \"FizzBuzz\"\n",
    "# FizzBuzz(9) returns \"Fizz\"\n",
    "# FizzBuzz(25) returns \"Buzz\"\n",
    "# FizzBuzz(17) returns \"17\""
   ]
  },
  {
   "cell_type": "code",
   "execution_count": 91,
   "id": "91533138",
   "metadata": {},
   "outputs": [],
   "source": [
    "def FizzBuzz(num):\n",
    "    if num % 3 == 0 and num % 5 == 0:\n",
    "        return \"FizzBuzz\"        \n",
    "    if num % 3 == 0:\n",
    "        return \"Fizz\"\n",
    "    if num % 5 == 0:\n",
    "        return \"Buzz\"    \n",
    "    else:\n",
    "        return num\n",
    "\n",
    "#① % 代表整除取余\n",
    "#② == 代表判断，不可以用=代替\n",
    "#② 在逻辑上需要最先判断除以3和除以5均无余数的情况\n",
    "#③ 有3个if 1个else；有1个if 2个elif 1个else 都可以"
   ]
  },
  {
   "cell_type": "code",
   "execution_count": 92,
   "id": "87e26810",
   "metadata": {},
   "outputs": [],
   "source": [
    "#Q5:Square Root\n",
    "# Description\n",
    "# Build a function sqrt to calculate the square root of a positive integer number. If the result is not a integer, the function returns the nearest integer to the left of the result number.\n",
    "\n",
    "# Examples\n",
    "# sqrt(16) returns 4\n",
    "# sqrt(17) returns 4\n",
    "# sqrt(77) returns 8\n",
    "# sqrt(1) returns 1"
   ]
  },
  {
   "cell_type": "code",
   "execution_count": 93,
   "id": "74c9f28c",
   "metadata": {},
   "outputs": [
    {
     "data": {
      "text/plain": [
       "4"
      ]
     },
     "execution_count": 93,
     "metadata": {},
     "output_type": "execute_result"
    }
   ],
   "source": [
    "import math\n",
    "\n",
    "def sqrt(num):\n",
    "    result = math.sqrt(num)\n",
    "    return math.floor(result)\n",
    "\n",
    "sqrt(16) #4\n",
    "sqrt(17) #4"
   ]
  },
  {
   "cell_type": "code",
   "execution_count": 94,
   "id": "54e0be5b",
   "metadata": {},
   "outputs": [
    {
     "data": {
      "text/plain": [
       "4"
      ]
     },
     "execution_count": 94,
     "metadata": {},
     "output_type": "execute_result"
    }
   ],
   "source": [
    "def sqrt(num):\n",
    "    if num < 0:\n",
    "        raise ValueError(\"Input must be a non-negative integer.\")\n",
    "    if num == 0:\n",
    "        return 0\n",
    "    \n",
    "    for i in range(1, num + 1):\n",
    "        if i * i > num:\n",
    "            return i - 1\n",
    "    \n",
    "    return num\n",
    "\n",
    "sqrt(16) #4\n",
    "sqrt(17) #4\n",
    "\n",
    "#https://pythontutor.com/render.html#code=def%20sqrt%28num%29%3A%0A%20%20%20%20if%20num%20%3C%200%3A%0A%20%20%20%20%20%20%20%20raise%20ValueError%28%22Input%20must%20be%20a%20non-negative%20integer.%22%29%0A%20%20%20%20if%20num%20%3D%3D%200%3A%0A%20%20%20%20%20%20%20%20return%200%0A%20%20%20%20%0A%20%20%20%20for%20i%20in%20range%281,%20num%20%2B%201%29%3A%0A%20%20%20%20%20%20%20%20if%20i%20*%20i%20%3E%20num%3A%0A%20%20%20%20%20%20%20%20%20%20%20%20return%20i%20-%201%0A%20%20%20%20%0A%20%20%20%20return%20num%0A%0Asqrt%2816%29%20%234&cumulative=false&curInstr=0&heapPrimitives=nevernest&mode=display&origin=opt-frontend.js&py=3&rawInputLstJSON=%5B%5D&textReferences=false\n",
    "#https://pythontutor.com/render.html#code=def%20sqrt%28num%29%3A%0A%20%20%20%20if%20num%20%3C%200%3A%0A%20%20%20%20%20%20%20%20raise%20ValueError%28%22Input%20must%20be%20a%20non-negative%20integer.%22%29%0A%20%20%20%20if%20num%20%3D%3D%200%3A%0A%20%20%20%20%20%20%20%20return%200%0A%20%20%20%20%0A%20%20%20%20for%20i%20in%20range%281,%20num%20%2B%201%29%3A%0A%20%20%20%20%20%20%20%20if%20i%20*%20i%20%3E%20num%3A%0A%20%20%20%20%20%20%20%20%20%20%20%20return%20i%20-%201%0A%20%20%20%20%0A%20%20%20%20return%20num%0A%0Asqrt%2817%29%20%234&cumulative=false&curInstr=16&heapPrimitives=nevernest&mode=display&origin=opt-frontend.js&py=3&rawInputLstJSON=%5B%5D&textReferences=false"
   ]
  },
  {
   "cell_type": "code",
   "execution_count": 95,
   "id": "47e0616d",
   "metadata": {},
   "outputs": [],
   "source": [
    "def sqrt(num):\n",
    "    if num < 0:\n",
    "        raise ValueError(\"Input must be a non-negative integer.\")\n",
    "    if num == 0:\n",
    "        return 0\n",
    "    \n",
    "    left = 1\n",
    "    right = num\n",
    "    \n",
    "    while left <= right:\n",
    "        mid = (left + right) // 2\n",
    "        square = mid * mid\n",
    "        \n",
    "        if square == num:\n",
    "            return mid\n",
    "        elif square < num:\n",
    "            left = mid + 1\n",
    "        else:\n",
    "            right = mid - 1\n",
    "    \n",
    "    return right"
   ]
  },
  {
   "cell_type": "code",
   "execution_count": 96,
   "id": "ee012390",
   "metadata": {},
   "outputs": [],
   "source": [
    "#2. List I"
   ]
  },
  {
   "cell_type": "code",
   "execution_count": 97,
   "id": "aab0f982",
   "metadata": {},
   "outputs": [],
   "source": [
    "#Q1: 合并一个值域进list：\n",
    "# Description\n",
    "# Submissions\n",
    "# List Comprehension\n",
    "# Description\n",
    "# Build a function LstComp which takes two integers (i and j) as inputs and returns a list of numbers from i to j.\n",
    "\n",
    "# Examples\n",
    "# LstComp(1, 5) returns [1, 2, 3, 4, 5]"
   ]
  },
  {
   "cell_type": "code",
   "execution_count": 98,
   "id": "3b59edf7",
   "metadata": {},
   "outputs": [],
   "source": [
    "#法1：\n",
    "def LstComp(i, j):\n",
    "    a = []\n",
    "    for k in range(i, j+1):\n",
    "        a.append(k)\n",
    "    return a"
   ]
  },
  {
   "cell_type": "code",
   "execution_count": 99,
   "id": "4c96b4c7",
   "metadata": {},
   "outputs": [],
   "source": [
    "#法2：\n",
    "def LstComp(i, j):\n",
    "    return [k for k in range(i, j+1)]"
   ]
  },
  {
   "cell_type": "code",
   "execution_count": 100,
   "id": "b799299e",
   "metadata": {},
   "outputs": [],
   "source": [
    "#Q2：返回奇数\n",
    "# OddNums\n",
    "# Description\n",
    "# Build a function OddNums which takes two integers (i and j) as inputs and returns a list of ODD numbers between i and j inclusively.\n",
    "\n",
    "# Examples\n",
    "# OddNums(1, 5) returns [1, 3, 5]\n",
    "# OddNums(2, 6) returns [3, 5]\n",
    "# OddNums(1, 2) returns [1]"
   ]
  },
  {
   "cell_type": "code",
   "execution_count": 101,
   "id": "681c65af",
   "metadata": {},
   "outputs": [],
   "source": [
    "#法1：\n",
    "#def后；for后；if后 都有：\n",
    "def OddNums(i, j):\n",
    "    a = []\n",
    "    for k in range(i, j+1):\n",
    "        if k % 2 != 0:              #k是奇数\n",
    "            a.append(k)\n",
    "    return a\n",
    "\n",
    "#注意：\n",
    "#①：先建立一个空集a，如果是奇数，append到a中，最后return a\n",
    "#②：if k % 2 !=0 后面要加：\n",
    "#③：append的写法：list.append(num)"
   ]
  },
  {
   "cell_type": "code",
   "execution_count": 102,
   "id": "7c4cdf96",
   "metadata": {},
   "outputs": [],
   "source": [
    "#法2：return [k for k in range(a, b) if xxx]\n",
    "def OddNums(i, j):\n",
    "    return [k for k in range(i, j+1) if k % 2 !=0] "
   ]
  },
  {
   "cell_type": "code",
   "execution_count": 103,
   "id": "29c442f0",
   "metadata": {},
   "outputs": [],
   "source": [
    "#Q3：C2F:\n",
    "# C2F\n",
    "# Description\n",
    "# Build a function C2F which converts a list of temperatures in degrees from Celsius to Fahrenheit. F=C*1.8+32.\n",
    "\n",
    "# Examples\n",
    "# C2F([0, 38]) returns [32.0, 100.4]"
   ]
  },
  {
   "cell_type": "code",
   "execution_count": 104,
   "id": "ea7cdb83",
   "metadata": {},
   "outputs": [],
   "source": [
    "#①[ax + b for C in Cs]写法：\n",
    "def C2F(Cs):\n",
    "    return [C * 1.8 + 32 for C in Cs]\n",
    "\n",
    "#为什么必须加[]：\n",
    "#在给定的代码中，方括号[]用于创建列表推导式（list comprehension）。\n",
    "#列表推导式是一种简洁的方式，通过迭代现有可迭代对象（在这种情况下是列表Cs）并对每个元素应用表达式，来创建一个新的列表。\n",
    "#[]是一个列表推导式，它通过迭代输入列表Cs中的每个元素C*1.8+32，并将结果添加到新列表中。方括号将列表推导式括起来，并指示结果应该是一个列表。"
   ]
  },
  {
   "cell_type": "code",
   "execution_count": 105,
   "id": "71f772f1",
   "metadata": {},
   "outputs": [],
   "source": [
    "#②用for loop写法：\n",
    "#result为空集，for C in Cs时，F = ax + b，把每个F append进result中，最后return a\n",
    "def C2F(Cs):\n",
    "    result = []\n",
    "    for C in Cs:\n",
    "        F = C * 1.8 + 32\n",
    "        result.append(F)\n",
    "    return result"
   ]
  },
  {
   "cell_type": "code",
   "execution_count": 106,
   "id": "7298232b",
   "metadata": {},
   "outputs": [],
   "source": [
    "# Q4: Fibonacci List：斐波纳契数列：后一个数是前两个数之和\n",
    "# Description\n",
    "# The Fibonacci List is the list of numbers: 0, 1, 1, 2, 3, 5, 8, 13, 21, 34, … The next number is generated by adding up the two numbers before it. Build a function FibLst which takes an integer n as input and returns an n-element Fibonacci List. If n is less than 1, returns -1.\n",
    "\n",
    "# Examples\n",
    "# FibLst(1) returns [0]\n",
    "# FibLst(3) returns [0, 1, 1]\n",
    "# FibLst(6) returns [0, 1, 1, 2, 3, 5]\n",
    "# FibLst(-3) returns -1"
   ]
  },
  {
   "cell_type": "code",
   "execution_count": 107,
   "id": "b682a572",
   "metadata": {},
   "outputs": [
    {
     "data": {
      "text/plain": [
       "[0, 1, 1, 2]"
      ]
     },
     "execution_count": 107,
     "metadata": {},
     "output_type": "execute_result"
    }
   ],
   "source": [
    "def Fibonacci(n):\n",
    "    if n < 1:\n",
    "        return -1\n",
    "    a = []\n",
    "    for i in range(n):\n",
    "        if i == 0:\n",
    "            a.append(0)\n",
    "        elif i == 1:\n",
    "            a.append(1)\n",
    "        else:\n",
    "            a.append(a[i - 1] + a[i - 2])\n",
    "    return a\n",
    "\n",
    "#①：建立空list a，对于所有range(n)内的值i，如果是0，则赋值0，如果是1，则赋值1，否则赋值前两个数相加，最后return a\n",
    "#②：if n < 1的edge case, 和for loop是对齐的。\n",
    "#③：for loop下的if, elif, else分类讨论，else后不需要再写n>1等解释；elif不能写成if。\n",
    "#④：判断用==，不能写成=\n",
    "#⑤将每个数房间list用list.append()。如果加0/1直接赋值，就在括弧里写0/1。如果加前两数就写a[i-1]+a[i-2]。\n",
    "#⑥return与for loop进行对齐\n",
    "\n",
    "Fibonacci(1) \n",
    "#i in range(1) i = 0      #[0]\n",
    "Fibonacci(2) \n",
    "#i in range(2) i = 0,1    #[0, 1]\n",
    "Fibonacci(3) \n",
    "#i in range(3) i = 0,1,2  a[1]+a[0]=1 #[0, 1, 1]\n",
    "Fibonacci(4)\n",
    "#i in range(4) i = 0,1,2,3 a[1]+a[0]=1 a[2]+a[1]=2 #[0, 1, 1, 2]"
   ]
  },
  {
   "cell_type": "code",
   "execution_count": 108,
   "id": "e35b6364",
   "metadata": {},
   "outputs": [],
   "source": [
    "#Q5: Reverse List:反转list\n",
    "# Description\n",
    "# Build a function RevLst which reverses a list.\n",
    "\n",
    "# Examples\n",
    "# RevLst([3, 1, 9, 8, 4]) returns [4, 8, 9, 1, 3]"
   ]
  },
  {
   "cell_type": "code",
   "execution_count": 109,
   "id": "63bfbd51",
   "metadata": {},
   "outputs": [],
   "source": [
    "#法0：左右手，左手定为第一位置，右手是最末位置；当左小于右，让两者调换\n",
    "#左+1，右-1；再两者调换，直到右小于左\n",
    "def RevLst(nums):\n",
    "    left = 0\n",
    "    right = len(nums) - 1\n",
    "    while left < right:\n",
    "        nums[left], nums[right] = nums[right], nums[left]\n",
    "        left += 1\n",
    "        right -= 1\n",
    "    return nums"
   ]
  },
  {
   "cell_type": "code",
   "execution_count": 110,
   "id": "717837ea",
   "metadata": {},
   "outputs": [],
   "source": [
    "#方法1：list.reverse()\n",
    "def RevLst(nums):\n",
    "    nums.reverse()\n",
    "    return nums\n",
    "\n",
    "#注意：先写一行list.reverse()，再写return list，两者对齐\n",
    "#注意要写两行，不能直接return nums.reverse()。"
   ]
  },
  {
   "cell_type": "code",
   "execution_count": 111,
   "id": "b3306331",
   "metadata": {},
   "outputs": [],
   "source": [
    "#为什么不能写成：\n",
    "# def RevLst(a):    \n",
    "#     return a.reverse()\n",
    "\n",
    "#因为a.reverse()是一个动作，直接return返回的是None。需要操作动作后，返回a。\n",
    "#a.reverse() 方法在原地反转列表 a，并且不返回任何值，即它返回的是 None。所以实际上返回的是 None 而不是反转后的列表。\n",
    "#先使用 a.reverse() 来原地修改列表 a，然后再使用 return a 返回反转后的列表。这样先修改列表，然后在 return 语句中返回修改后的列表。\n",
    "#reverse() 方法是一个原地操作，它会修改列表本身，并不返回任何值。因此需要在 return 之前先执行 reverse()，然后使用 return 返回列表本身。"
   ]
  },
  {
   "cell_type": "code",
   "execution_count": 112,
   "id": "e08050ba",
   "metadata": {},
   "outputs": [],
   "source": [
    "#法2：list[::-1]\n",
    "def RevLst(nums):\n",
    "    return nums[::-1]\n",
    "\n",
    "#注意：只用写一行return list[::-1]"
   ]
  },
  {
   "cell_type": "code",
   "execution_count": 113,
   "id": "de40eec6",
   "metadata": {},
   "outputs": [],
   "source": [
    "#法3：\n",
    "def RevLst(nums):\n",
    "    left = 0\n",
    "    right = len(nums) - 1\n",
    "    while left < right:\n",
    "        nums[left], nums[right] = nums[right], nums[left]\n",
    "        left += 1\n",
    "        right -= 1\n",
    "    return nums"
   ]
  },
  {
   "cell_type": "code",
   "execution_count": 114,
   "id": "553d92d0",
   "metadata": {},
   "outputs": [],
   "source": [
    "#Q6:是否元素在list中的函数形式\n",
    "\n",
    "# Whether an Element in the List\n",
    "# Description\n",
    "# Build a function IsIn to tell whether a target element in a list.\n",
    "\n",
    "# Examples\n",
    "# IsIn([1, 2, 3, 4, 5], 2) returns True\n",
    "# IsIn([1, 2, 3, 4, 5], 6) returns False"
   ]
  },
  {
   "cell_type": "code",
   "execution_count": 115,
   "id": "6de71a3e",
   "metadata": {},
   "outputs": [],
   "source": [
    "#法1：if k in a： \n",
    "def IsIn(nums, target):\n",
    "    if target in nums:\n",
    "        return True\n",
    "    else:\n",
    "        return False\n",
    "\n",
    "#一个值在一个列表中：if a in list，return True False"
   ]
  },
  {
   "cell_type": "code",
   "execution_count": 116,
   "id": "1f5c98e1",
   "metadata": {},
   "outputs": [],
   "source": [
    "#法2：if target in nums:\n",
    "def IsIn(nums, target):\n",
    "    return target in nums\n",
    "\n",
    "#直接return k in a，返回结果是True False\n",
    "#return target in nums 是一个布尔表达式，它会返回一个布尔值，即 True 或 False。"
   ]
  },
  {
   "cell_type": "code",
   "execution_count": 117,
   "id": "23860e1f",
   "metadata": {},
   "outputs": [],
   "source": [
    "#Q7:Remove an Element\n",
    "# Description\n",
    "# Build a function RmEl to remove a target element from a list. If the target element appears in the list for multiple times, only remove the first one.\n",
    "\n",
    "# Examples\n",
    "# RmEl([1, 2, 3, 4, 5], 2) returns [1, 3, 4, 5]\n",
    "# RmEl([1, 2, 3, 4, 5], 6) returns [1, 2, 3, 4, 5]\n",
    "# RmEl([1, 2, 3, 3, 4, 5], 3) returns [1, 2, 3, 4, 5]"
   ]
  },
  {
   "cell_type": "code",
   "execution_count": 118,
   "id": "68753ed7",
   "metadata": {},
   "outputs": [],
   "source": [
    "def RmEl(nums, target):\n",
    "    if target in nums:   \n",
    "        nums.remove(target)\n",
    "    return nums\n",
    "\n",
    "#①：要检查target在nums中才可以进行remove操作\n",
    "#②：if k in a: 直接操作a.remove(k)，再return a。不用写nums = XXX。\n",
    "#③：return 应与if对齐"
   ]
  },
  {
   "cell_type": "code",
   "execution_count": 119,
   "id": "6441be98",
   "metadata": {},
   "outputs": [],
   "source": [
    "#Q8:Separate Numbers\n",
    "# Description\n",
    "# Build a function SepNum which extracts the odd numbers from a given list ands append the odd numbers at the end of the list.\n",
    "\n",
    "# Examples\n",
    "# SepNum([1, 2, 3, 4, 5, 6]) returns [2, 4, 6, 1, 3, 5]\n",
    "# SepNum([1, 3, 5]) returns [1, 3, 5]\n",
    "# SepNum([2, 4, 6]) returns [2, 4, 6]"
   ]
  },
  {
   "cell_type": "code",
   "execution_count": 120,
   "id": "1a6cddd6",
   "metadata": {},
   "outputs": [],
   "source": [
    "def SepNum(nums):\n",
    "    odds = []\n",
    "    evens = []\n",
    "    for num in nums:\n",
    "        if num % 2 == 0:          #放偶数\n",
    "            evens.append(num)\n",
    "        else:                     #放奇数\n",
    "            odds.append(num)\n",
    "    return evens + odds\n",
    "\n",
    "#①：分别建立偶数空集和奇数空集，对于在nums中的num，如果除以2余数为0，append到偶数集，否则奇数集。\n",
    "#②：for数字在列表中，可以写for num in nums。\n",
    "#③：两个list相连直接相加即可\n",
    "#④：在if 和else后分别进行append操作，return两个list相连与 for loop对齐。"
   ]
  },
  {
   "cell_type": "code",
   "execution_count": 121,
   "id": "a0d8e1cd",
   "metadata": {},
   "outputs": [],
   "source": [
    "#Q9:移除重复元素并返回更新后列表。\n",
    "# Remove Duplicates from a List\n",
    "# Description\n",
    "# Build a function RmDuplicate which remove all the duplicates from a list.\n",
    "\n",
    "# Examples\n",
    "# RmDuplicate([3, 1, 2, 3, 4, 5, 6]) returns [1, 2, 3, 4, 5, 6]\n",
    "# RmDuplicate([1, 3, 5]) returns [1, 3, 5]"
   ]
  },
  {
   "cell_type": "code",
   "execution_count": 122,
   "id": "4c1b6759",
   "metadata": {},
   "outputs": [],
   "source": [
    "#法1：如果num没在a空集中，就把num append进a中，并进行sort\n",
    "def RmDuplicate(nums):\n",
    "    a = []\n",
    "    for num in nums:\n",
    "        if num not in a:\n",
    "            a.append(num)\n",
    "            a.sort()\n",
    "    return a  \n",
    "\n",
    "#①：只需要建立一个最后需要return的a集，\n",
    "#②：for num in nums, if num not in a, a.append(num) 可以写成步步缩进格式:\n",
    "#即在num在nums中的时候，如果num没在a里，就把其放进去。\n",
    "#③：在append后，要进行sort。\n",
    "#④：return 和 for进行对齐。"
   ]
  },
  {
   "cell_type": "code",
   "execution_count": 123,
   "id": "624115f8",
   "metadata": {},
   "outputs": [],
   "source": [
    "#3. List II"
   ]
  },
  {
   "cell_type": "code",
   "execution_count": 124,
   "id": "6265c388",
   "metadata": {},
   "outputs": [],
   "source": [
    "# Q1: Sort a List：给序列排序\n",
    "# Description\n",
    "# Build a function SortLst which sorts a list. At this time you can just use the built-in function in Python.\n",
    "\n",
    "# Examples\n",
    "# SortLst([4, 2, 1, 3, 4, 5]) returns [1, 2, 3, 4, 4, 5]\n",
    "# SortLst([1, 3, 5]) returns [1, 3, 5]"
   ]
  },
  {
   "cell_type": "code",
   "execution_count": 125,
   "id": "e390dc2b",
   "metadata": {},
   "outputs": [],
   "source": [
    "#写法1：list.sort(); return nums\n",
    "def SortLst(nums):\n",
    "    nums.sort()\n",
    "    return nums"
   ]
  },
  {
   "cell_type": "code",
   "execution_count": 126,
   "id": "3a3f8329",
   "metadata": {},
   "outputs": [],
   "source": [
    "#写法2：return sorted(nums)\n",
    "def SortLst(nums):\n",
    "    return sorted(nums)"
   ]
  },
  {
   "cell_type": "code",
   "execution_count": 127,
   "id": "e3ebf94d",
   "metadata": {},
   "outputs": [],
   "source": [
    "#写法3：list = sorted(list) return list\n",
    "def SortLst(nums):\n",
    "    nums = sorted(nums)\n",
    "    return nums"
   ]
  },
  {
   "cell_type": "code",
   "execution_count": 128,
   "id": "51f1eedb",
   "metadata": {},
   "outputs": [],
   "source": [
    "# Q2:Insert a Number in a Sorted List：在list中插入一个值\n",
    "# Description\n",
    "# Build a function NumInsert which inserts a number in a sorted list.\n",
    "\n",
    "# Examples\n",
    "# NumInsert([1, 2, 3, 4, 5, 6], 3) returns [1, 2, 3, 3, 4, 5, 6]\n",
    "# NumInsert([1, 2, 3, 4, 5, 6], 7) returns [1, 2, 3, 4, 5, 6, 7]\n",
    "# NumInsert([1, 2, 3, 4, 5, 6], -1) returns [-1, 1, 2, 3, 4, 5, 6]"
   ]
  },
  {
   "cell_type": "code",
   "execution_count": 129,
   "id": "9d42a8bb",
   "metadata": {},
   "outputs": [],
   "source": [
    "#写法0：遍历法\n",
    "#让ind = list长度，从头至尾遍历所有元素，当list中的元素大于插入值时，让ind = i\n",
    "#list.insert(index, target)，让index位置插入target元素\n",
    "def NumInsert(nums, target):\n",
    "    ind = len(nums)\n",
    "    for i in range(len(nums)):\n",
    "        if nums[i] >= target:\n",
    "            ind = i\n",
    "            break\n",
    "    nums.insert(ind, target)\n",
    "    return nums"
   ]
  },
  {
   "cell_type": "code",
   "execution_count": 130,
   "id": "1784a8ea",
   "metadata": {},
   "outputs": [],
   "source": [
    "#写法1: 二分法\n",
    "#步骤：\n",
    "# 1.设定左右两个指针，分解为L和R\n",
    "# 2.L初始值为0，R初始值为List长度\n",
    "# 3.计算中间指针的值 M = (left + right) / 2\n",
    "#     3.1. 若M指针对应的数，大于需要插入的数，将M设为R\n",
    "#     3.2. 若M指针对应的数，小于需要插入的数，将M设为L\n",
    "# 4.重复步骤3，直到\n",
    "#     4.1M指针对应的值等于需要插入的值\n",
    "#     4.2或者，左右指针相遇\n",
    "# 5.将目标数字插入相应的位置\n",
    "\n",
    "#每次取一半，把另一半扔掉，比从头到尾遍历要快\n",
    "\n",
    "def NumInsert(nums, target):\n",
    "    left = 0\n",
    "    right = len(nums)\n",
    "    while right - left > 1:\n",
    "        mid = (left + right) // 2   #整数除法 //：向下取整\n",
    "        if nums[mid] == target:\n",
    "            nums.insert(mid, target)\n",
    "            return nums\n",
    "        elif nums[mid] > target:\n",
    "            right = mid\n",
    "        else:\n",
    "            left = mid\n",
    "    if target > nums[mid]:\n",
    "        nums.insert(right, target)\n",
    "    else:\n",
    "        nums.insert(left, target)\n",
    "    return nums"
   ]
  },
  {
   "cell_type": "code",
   "execution_count": 131,
   "id": "23f4c97b",
   "metadata": {},
   "outputs": [],
   "source": [
    "#写法3：return sorted(nums)\n",
    "def NumInsert(nums, target):\n",
    "    nums.append(target)\n",
    "    return sorted(nums)"
   ]
  },
  {
   "cell_type": "code",
   "execution_count": 132,
   "id": "0965dd83",
   "metadata": {},
   "outputs": [],
   "source": [
    "#写法4：nums = sorted(nums) return nums\n",
    "def NumInsert(nums, target):\n",
    "    nums.append(target)\n",
    "    nums = sorted(nums)\n",
    "    return nums"
   ]
  },
  {
   "cell_type": "code",
   "execution_count": 133,
   "id": "406c176b",
   "metadata": {},
   "outputs": [],
   "source": [
    "#写法4：nums.sort() return nums\n",
    "def NumInsert(nums, target):\n",
    "    nums.append(target)\n",
    "    nums.sort()\n",
    "    return nums "
   ]
  },
  {
   "cell_type": "code",
   "execution_count": 134,
   "id": "c25a7a88",
   "metadata": {},
   "outputs": [],
   "source": [
    "#写法5：\n",
    "def NumInsert(lst, num):\n",
    "    return sorted(lst + [num]) "
   ]
  },
  {
   "cell_type": "code",
   "execution_count": 135,
   "id": "95a102f0",
   "metadata": {},
   "outputs": [],
   "source": [
    "#写法6：在 i 小于 list 长度时，且 lst[i] < 插入数 时，lst[i]向后移动，\n",
    "#直到lst[i] >= 插入值时停止，返回i前原数列 + 插入值 + i后原数列\n",
    "def NumInsert(lst, num):\n",
    "    i = 0\n",
    "    while i < len(lst) and lst[i] < num:\n",
    "        i += 1\n",
    "    return lst[:i] + [num] + lst[i:]"
   ]
  },
  {
   "cell_type": "code",
   "execution_count": 136,
   "id": "7775755d",
   "metadata": {},
   "outputs": [],
   "source": [
    "# Q3:Remove duplicates from a sorted list：从排好序的列表中移除重复值\n",
    "# Description\n",
    "# Build a function SortRm which removes duplicate numbers in a sorted list.\n",
    "\n",
    "# Examples\n",
    "# SortRm([1, 2, 2, 3, 4, 4, 5, 6]) returns [1, 2, 3, 4, 5, 6]\n",
    "# SortRm([1, 2, 3, 4, 5, 6]) returns [1, 2, 3, 4, 5, 6]"
   ]
  },
  {
   "cell_type": "code",
   "execution_count": 137,
   "id": "32c626d4",
   "metadata": {},
   "outputs": [],
   "source": [
    "#写法1：正向：如果target【在】原list中，【remove】\n",
    "def RmEL(nums, target):\n",
    "    if target in nums:                 #如果target没出现在原表中，不写此句会报错\n",
    "        nums.remove(target)\n",
    "    return nums"
   ]
  },
  {
   "cell_type": "code",
   "execution_count": 138,
   "id": "4dae2210",
   "metadata": {},
   "outputs": [],
   "source": [
    "#注意不能写成，return nums.remove(target)，因为.remove()没有返回值。\n",
    "# def RmEL(nums, target):\n",
    "#     if target in nums:\n",
    "#         return nums.remove(target)\n",
    "\n",
    "#因为.remove()不会返回任何东西，所以必须赋值给新表, return 新表名"
   ]
  },
  {
   "cell_type": "code",
   "execution_count": 139,
   "id": "2bd086cf",
   "metadata": {},
   "outputs": [],
   "source": [
    "#写法2：反向：如果target【不在】新list中，【append】\n",
    "def SortRm(nums):\n",
    "    result = []\n",
    "    for num in nums:    \n",
    "        if num not in result:\n",
    "            result.append(num)\n",
    "    return result\n",
    "\n",
    "#因为已经是sorted list, 就不需要再append后再sort了。"
   ]
  },
  {
   "cell_type": "code",
   "execution_count": 140,
   "id": "9eff3bd4",
   "metadata": {},
   "outputs": [],
   "source": [
    "#写法3：pop1:tmp定为第一个位置元素，i指针指向第二位：如果i指针上元素与tmp相同，则移除；否则tmp = i位置元素，i向后走一位\n",
    "\n",
    "def SortRm(nums):\n",
    "    if len(nums) <= 1:\n",
    "        return nums\n",
    "    tmp = nums[0]\n",
    "    i = 1\n",
    "    while i < len(nums):\n",
    "        if nums[i] == tmp:\n",
    "            nums.pop(i)\n",
    "        else:\n",
    "            tmp = nums[i]\n",
    "            i += 1\n",
    "    return nums\n",
    "\n",
    "#https://pythontutor.com/render.html#code=def%20SortRm%28nums%29%3A%0A%20%20%20%20if%20len%28nums%29%20%3C%3D%201%3A%0A%20%20%20%20%20%20%20%20return%20nums%0A%20%20%20%20tmp%20%3D%20nums%5B0%5D%0A%20%20%20%20i%20%3D%201%0A%20%20%20%20while%20i%20%3C%20len%28nums%29%3A%0A%20%20%20%20%20%20%20%20print%28%22nums%20%3D%20%22,%20nums%29%0A%20%20%20%20%20%20%20%20print%28%22tmp%20%3D%20%22,%20tmp%29%0A%20%20%20%20%20%20%20%20print%28%22i%20%3D%20%22,%20i%29%0A%20%20%20%20%20%20%20%20print%28%22nums%5Bi%5D%20%3D%20%22,%20nums%5Bi%5D%29%0A%20%20%20%20%20%20%20%20print%28%22%3D%3D%3D%3D%22%29%0A%20%20%20%20%20%20%20%20if%20nums%5Bi%5D%20%3D%3D%20tmp%3A%0A%20%20%20%20%20%20%20%20%20%20%20%20nums.pop%28i%29%0A%20%20%20%20%20%20%20%20else%3A%0A%20%20%20%20%20%20%20%20%20%20%20%20tmp%20%3D%20nums%5Bi%5D%0A%20%20%20%20%20%20%20%20%20%20%20%20i%20%2B%3D%201%0A%20%20%20%20return%20nums%0A%0ASortRm%28%5B1,%202,%202,%203,%204,%204,%205,%206%5D%29&cumulative=false&curInstr=70&heapPrimitives=nevernest&mode=display&origin=opt-frontend.js&py=3&rawInputLstJSON=%5B%5D&textReferences=false"
   ]
  },
  {
   "cell_type": "code",
   "execution_count": 141,
   "id": "7296117b",
   "metadata": {},
   "outputs": [],
   "source": [
    "# Q4: Merge Two Sorted Lists:两个排好序的list合并\n",
    "# Description\n",
    "# Build a function MergeSorted which merges two sorted lists as one sorted list.\n",
    "\n",
    "# Examples\n",
    "# MergeSorted([1, 3, 5], [2, 4, 6]) returns [1, 2, 3, 4, 5, 6]\n",
    "# MergeSorted([1, 2, 3], [4, 5, 6]) returns [1, 2, 3, 4, 5, 6]"
   ]
  },
  {
   "cell_type": "code",
   "execution_count": 142,
   "id": "76c8d27c",
   "metadata": {},
   "outputs": [],
   "source": [
    "#写法1：直接return sorted(list1 + list2)\n",
    "def MergeSorted(Lst1, Lst2):\n",
    "    return sorted(Lst1 + Lst2)"
   ]
  },
  {
   "cell_type": "code",
   "execution_count": 143,
   "id": "a8efb85b",
   "metadata": {},
   "outputs": [],
   "source": [
    "#写法2：\n",
    "def MergeSorted(nums1, nums2):\n",
    "    nums3 = nums1 + nums2\n",
    "    return sorted(nums3)"
   ]
  },
  {
   "cell_type": "code",
   "execution_count": 144,
   "id": "dae8de31",
   "metadata": {},
   "outputs": [],
   "source": [
    "#写法3：i = 0, 如果list1[0]小于list2[i]个值，则把list1[0] pop出来，插入在list2[i]值之前；否则i后移1步，指向新的list2[i]。return list2+list1。\n",
    "\n",
    "def MergeSorted(Lst1, Lst2):\n",
    "    i = 0\n",
    "    while Lst1 and i < len(Lst2):\n",
    "        if Lst1[0] <= Lst2[i]:\n",
    "            num = Lst1.pop(0)\n",
    "            Lst2.insert(i, num)\n",
    "        i += 1\n",
    "    \n",
    "    if Lst1:\n",
    "        return Lst2 + Lst1\n",
    "    \n",
    "    return Lst2"
   ]
  },
  {
   "cell_type": "code",
   "execution_count": 145,
   "id": "92e7e1e5",
   "metadata": {},
   "outputs": [],
   "source": [
    "# Q5:List to Number：把一个序列转化为一个数字\n",
    "# Description\n",
    "# Build a function Lst2Num which convert a number list into one number.\n",
    "\n",
    "# Examples\n",
    "# Lst2Num([1, 3, 5]) returns 135\n",
    "# Lst2Num([0, 1, 2, 0, 3]) returns 1203"
   ]
  },
  {
   "cell_type": "code",
   "execution_count": 146,
   "id": "e4681e77",
   "metadata": {},
   "outputs": [],
   "source": [
    "def Lst2Num(nums):\n",
    "    result = 0\n",
    "    for num in nums:\n",
    "        result = result * 10 + num\n",
    "    return result"
   ]
  },
  {
   "cell_type": "code",
   "execution_count": 147,
   "id": "b589a439",
   "metadata": {},
   "outputs": [],
   "source": [
    "#字符串拼接：\n",
    "def Lst2Num(lst):\n",
    "    num_str = ''.join(map(str, lst))\n",
    "    num = int(num_str)\n",
    "    return num"
   ]
  },
  {
   "cell_type": "code",
   "execution_count": 148,
   "id": "32d98e81",
   "metadata": {},
   "outputs": [],
   "source": [
    "# Q6：Maximum Stock Gain：后值减去前值的最大值\n",
    "# Description\n",
    "# Build a function MaxGain to find the maximum you can gain by buying and selling stocks. The strock prices represented as a list of numbers. You need to buy stocks before you sell them.\n",
    "\n",
    "# Examples\n",
    "# MaxGain([3, 4, 1, 5, 7, 2]) returns 6 --Explanation: Buy stocks when the price is 1 and sell them when the price is 7.\n",
    "# MaxGain([5, 4, 3, 2, 1]) returns 0"
   ]
  },
  {
   "cell_type": "code",
   "execution_count": 149,
   "id": "7c809a12",
   "metadata": {},
   "outputs": [],
   "source": [
    "def MaxGain(prices):\n",
    "    max_gain = 0\n",
    "    for i in range(0, len(prices) - 1):\n",
    "        for j in range(i+1, len(prices)):\n",
    "            gain = prices[j] - prices[i]\n",
    "            if gain > max_gain:\n",
    "                max_gain = gain\n",
    "    return max_gain\n",
    "\n",
    "\n",
    "#①：i in range(0, len(num) - 1)：从第一个元素，到倒数第二个元素\n",
    "#②：j in range(i+1, len(num))：从i后的第一个元素，到最后一个元素\n",
    "#③：每一次在i值固定时，j每一次向后移动一个，用[j]值减去[i]值，如果gain超过max_gain则更新max_gain。\n",
    "#④：在j值走完后，让i值再向后一个，再在i值固定下走完所有j值。\n",
    "#link: https://pythontutor.com/render.html#code=def%20MaxGain%28prices%29%3A%0A%20%20%20%20max_gain%20%3D%200%0A%20%20%20%20for%20i%20in%20range%28len%28prices%29%20-%201%29%3A%0A%20%20%20%20%20%20%20%20for%20j%20in%20range%28i%20%2B%201,%20len%28prices%29%29%3A%0A%20%20%20%20%20%20%20%20%20%20%20%20gain%20%3D%20prices%5Bj%5D%20-%20prices%5Bi%5D%0A%20%20%20%20%20%20%20%20%20%20%20%20if%20gain%20%3E%20max_gain%3A%0A%20%20%20%20%20%20%20%20%20%20%20%20%20%20%20%20max_gain%20%3D%20gain%0A%20%20%20%20return%20max_gain%0A%20%20%20%20%0AMaxGain%28%5B3,%204,%201,%205,%207,%202%5D%29&cumulative=false&curInstr=0&heapPrimitives=nevernest&mode=display&origin=opt-frontend.js&py=3&rawInputLstJSON=%5B%5D&textReferences=false"
   ]
  },
  {
   "cell_type": "code",
   "execution_count": 150,
   "id": "70be6848",
   "metadata": {},
   "outputs": [],
   "source": [
    "# Q7：Sort List of Lists：\n",
    "# Description\n",
    "# Build a function SortLL which sorts a list of lists by their last elements.\n",
    "\n",
    "# Examples\n",
    "# SortLL([[1, 3, 5], [2, 4], [9, 7], [3]]) returns [[3], [2, 4], [1, 3, 5], [9, 7]]"
   ]
  },
  {
   "cell_type": "code",
   "execution_count": 151,
   "id": "8f2a5c77",
   "metadata": {},
   "outputs": [],
   "source": [
    "def SortLL(Lsts):\n",
    "    return sorted(Lsts, key = lambda x:x[-1])\n",
    "\n",
    "#用lsts来表示大list，x表示小list，x[-1]表示小list中最后一个值。\n",
    "#sorted(xxx, key)的key参数是一个函数，用于指定排序的规则。\n",
    "#lambda表达式: lambda x:x[-1]来表示每个小list的最后一个值\n",
    "#最外面的sorted表示进行排序。"
   ]
  },
  {
   "cell_type": "code",
   "execution_count": 152,
   "id": "48652805",
   "metadata": {},
   "outputs": [],
   "source": [
    "#错误答案：\n",
    "# def SortLL(Lsts):\n",
    "#     sorted(Lsts, key = lambda x:x[-1])\n",
    "#     return Lsts\n",
    "\n",
    "# 不能使用的原因：\n",
    "# sorted() 函数会返回一个新的排序后的列表，但它不会改变原始列表。必须写一个新的list名再返回。"
   ]
  },
  {
   "cell_type": "code",
   "execution_count": 153,
   "id": "ad84af99",
   "metadata": {},
   "outputs": [],
   "source": [
    "#修改1：\n",
    "def SortLL(Lsts):\n",
    "    Lsts = sorted(Lsts, key=lambda x: x[-1])\n",
    "    return Lsts"
   ]
  },
  {
   "cell_type": "code",
   "execution_count": 154,
   "id": "2cab9297",
   "metadata": {},
   "outputs": [],
   "source": [
    "#等同于：\n",
    "def SortLL(Lsts):\n",
    "    return sorted(Lsts, key=lambda x: x[-1])"
   ]
  },
  {
   "cell_type": "code",
   "execution_count": 155,
   "id": "6ccb0098",
   "metadata": {},
   "outputs": [],
   "source": [
    "#修改2：\n",
    "def SortLL(Lsts):\n",
    "    Lsts.sort(key=lambda x: x[-1])\n",
    "    return Lsts\n",
    "\n",
    "#注：sorted和.sort的区别和使用：\n",
    "#sorted返回新链表但不修改原始链表。所以要return 新起表名，或直接return sorted()。\n",
    "#.sort()不返回新链表但修改了原始链表。所以要return 旧表名有结果。\n",
    "#所以可以写return sorted(Lsts, key=lambda x: x[-1])；但不可以写return Lsts.sort(key=lambda x: x[-1])"
   ]
  },
  {
   "cell_type": "code",
   "execution_count": 156,
   "id": "289fab89",
   "metadata": {},
   "outputs": [],
   "source": [
    "# Q8：Pascals Triangle\n",
    "# 22.Pascals Triangle\n",
    "# Description\n",
    "# Build a function PascalsT which takes an integer n as an input and generate a n layer Pascals Triangle.\n",
    "\n",
    "# Examples\n",
    "# PascalsT(3) returns [[1], [1, 1], [1, 2, 1]]\n",
    "# PascalsT(5) returns [[1], [1, 1], [1, 2, 1], [1, 3, 3, 1], [1, 4, 6, 4, 1]]"
   ]
  },
  {
   "cell_type": "code",
   "execution_count": 159,
   "id": "b96fe022",
   "metadata": {},
   "outputs": [],
   "source": [
    "def PascalsT(n):\n",
    "    triangle = []\n",
    "    for i in range(n):\n",
    "        row = [1] * (i + 1)  # 创建当前行，初始元素都为1\n",
    "        for j in range(1, i):\n",
    "            row[j] = triangle[i-1][j-1] + triangle[i-1][j]  # 根据前一行计算当前行的中间元素\n",
    "        triangle.append(row)\n",
    "    return triangle\n",
    "\n",
    "# 它使用了相同的原则来生成帕斯卡三角形。我们遍历每一层，并根据帕斯卡三角形的规律计算每一行的元素。内部循环用于计算当前行的中间元素，这里我们使用了前一行的值进行计算。"
   ]
  },
  {
   "cell_type": "markdown",
   "id": "e143d1ad",
   "metadata": {},
   "source": [
    "## IV. String II "
   ]
  },
  {
   "cell_type": "markdown",
   "id": "faa431c6",
   "metadata": {},
   "source": [
    "## 1. All Red\n",
    "Description\n",
    "Build a function AllRed that takes a list of strings as input, returns a boolean indicating whether all the strings containing word \"red\".\n",
    "\n",
    "Examples\n",
    "AllRed([\"red hat\", \"a pair of red shoes\", \"three red apples\"]) returns True\n",
    "\n",
    "AllRed([\"red hat\", \"white shirt\", \"black eyes\"]) returns False\n",
    "\n",
    "AllRed([]) returns False\n",
    "\n",
    "检索如果string中每个词都有red，则return True, 否则return False"
   ]
  },
  {
   "cell_type": "code",
   "execution_count": 163,
   "id": "72c3c809",
   "metadata": {},
   "outputs": [],
   "source": [
    "def AllRed(Lst):\n",
    "    if not Lst:               #如果Lst为空\n",
    "        return False            #返回false\n",
    "    for s in Lst:             #对于在Lst中的每个元素s,\n",
    "        if 'red' not in s:      #如果red不在其中\n",
    "            return False          #返回false\n",
    "    return True               #否则返回True"
   ]
  },
  {
   "cell_type": "code",
   "execution_count": 164,
   "id": "f44d9a57",
   "metadata": {},
   "outputs": [
    {
     "data": {
      "text/plain": [
       "True"
      ]
     },
     "execution_count": 164,
     "metadata": {},
     "output_type": "execute_result"
    }
   ],
   "source": [
    "AllRed([\"red hat\", \"a pair of red shoes\", \"three red apples\"]) "
   ]
  },
  {
   "cell_type": "code",
   "execution_count": 165,
   "id": "ca85fbca",
   "metadata": {},
   "outputs": [
    {
     "data": {
      "text/plain": [
       "False"
      ]
     },
     "execution_count": 165,
     "metadata": {},
     "output_type": "execute_result"
    }
   ],
   "source": [
    "AllRed([\"red hat\", \"white shirt\", \"black eyes\"])"
   ]
  },
  {
   "cell_type": "markdown",
   "id": "879a7f1b",
   "metadata": {},
   "source": [
    "## 2.Reverse String\n",
    "Description\n",
    "Build a function RevStr to reverse a string.\n",
    "\n",
    "Examples\n",
    "RevStr(\"abcd\") returns \"dcba\"\n",
    "\n",
    "把string字母序逆序"
   ]
  },
  {
   "cell_type": "code",
   "execution_count": 160,
   "id": "15a054e4",
   "metadata": {},
   "outputs": [],
   "source": [
    "def RevStr(s):         #定义RevStr函数，接收s\n",
    "    return s[::-1]     #s[::-1]把每个元素reverse"
   ]
  },
  {
   "cell_type": "code",
   "execution_count": 161,
   "id": "6fad474f",
   "metadata": {},
   "outputs": [
    {
     "data": {
      "text/plain": [
       "'dcba'"
      ]
     },
     "execution_count": 161,
     "metadata": {},
     "output_type": "execute_result"
    }
   ],
   "source": [
    "RevStr(\"abcd\")"
   ]
  },
  {
   "cell_type": "markdown",
   "id": "6c05d226",
   "metadata": {},
   "source": [
    "## 3. Reverse Sentence\n",
    "Description\n",
    "Build a function RevSen to reverse a sentence.\n",
    "\n",
    "Examples\n",
    "RevSen(\"we are all friends\") returns \"friends all are we”\n",
    "\n",
    "拆句成词，句子词序逆序，保留每个词内的字母顺序"
   ]
  },
  {
   "cell_type": "code",
   "execution_count": 169,
   "id": "b830af36",
   "metadata": {},
   "outputs": [],
   "source": [
    "def RevSen(sen):                    #定义RevSen函数，接收sen\n",
    "    words = sen.split()             #words = sen句子拆分成词\n",
    "    return \" \".join(words[::-1])    #return 用空格来合并（倒序的，拆分后每个最小单位仍正序的词）"
   ]
  },
  {
   "cell_type": "code",
   "execution_count": 170,
   "id": "f3dcfd41",
   "metadata": {},
   "outputs": [
    {
     "data": {
      "text/plain": [
       "'friends all are we'"
      ]
     },
     "execution_count": 170,
     "metadata": {},
     "output_type": "execute_result"
    }
   ],
   "source": [
    "RevSen(\"we are all friends\")\n",
    "#'friends all are we'"
   ]
  },
  {
   "cell_type": "code",
   "execution_count": 171,
   "id": "426633d5",
   "metadata": {},
   "outputs": [],
   "source": [
    "#分解打印式理解：\n",
    "def RevSen(sen):\n",
    "    words = sen.split()\n",
    "    print(\"words = \", words)\n",
    "    \n",
    "    new_words = words[::-1]\n",
    "    print(\"new_words\", new_words)\n",
    "    \n",
    "    res = \" \".join(new_words)\n",
    "    print(\"res\", res)\n",
    "    \n",
    "    return res"
   ]
  },
  {
   "cell_type": "code",
   "execution_count": 188,
   "id": "edfaab1c",
   "metadata": {},
   "outputs": [
    {
     "name": "stdout",
     "output_type": "stream",
     "text": [
      "words =  ['we', 'are', 'all', 'friends']\n",
      "new_words ['friends', 'all', 'are', 'we']\n",
      "res friends all are we\n"
     ]
    },
    {
     "data": {
      "text/plain": [
       "'friends all are we'"
      ]
     },
     "execution_count": 188,
     "metadata": {},
     "output_type": "execute_result"
    }
   ],
   "source": [
    "RevSen(\"we are all friends\")"
   ]
  },
  {
   "cell_type": "markdown",
   "id": "5e58ca13",
   "metadata": {},
   "source": [
    "## 4. Reverse Words\n",
    "\n",
    "Reverse Words\n",
    "Description\n",
    "Build a function RevWords to reverse each word of a sentence.\n",
    "\n",
    "Examples\n",
    "RevWords(\"we are all friends\") returns \"ew era lla sdneirf\"\n",
    "\n",
    "拆句成词，保持句子词序，将每个词内的字母倒序"
   ]
  },
  {
   "cell_type": "code",
   "execution_count": 221,
   "id": "cd26da18",
   "metadata": {},
   "outputs": [],
   "source": [
    "def RevWords(sen):\n",
    "    words = sen.split()                      #拆句成词\n",
    "    res = \"\"                                 #result为空\n",
    "    for word in words:                       #对于在words中的word\n",
    "        print(\"word = \",word)\n",
    "        if res:                              #如果result不为空\n",
    "            res += \" \"                       #就在result后加个空格\n",
    "            print(\"res with space = \", res)\n",
    "        res += word[::-1]                    #将word内词序逆序，加到result中\n",
    "        print(\"word[::-1]=\", word[::-1])\n",
    "        print(\"res = \", res)\n",
    "        print(\"========\")\n",
    "    return res"
   ]
  },
  {
   "cell_type": "code",
   "execution_count": 222,
   "id": "9e100cc5",
   "metadata": {
    "scrolled": true
   },
   "outputs": [
    {
     "name": "stdout",
     "output_type": "stream",
     "text": [
      "word =  we\n",
      "word[::-1]= ew\n",
      "res =  ew\n",
      "========\n",
      "word =  are\n",
      "res with space =  ew \n",
      "word[::-1]= era\n",
      "res =  ew era\n",
      "========\n",
      "word =  all\n",
      "res with space =  ew era \n",
      "word[::-1]= lla\n",
      "res =  ew era lla\n",
      "========\n",
      "word =  friends\n",
      "res with space =  ew era lla \n",
      "word[::-1]= sdneirf\n",
      "res =  ew era lla sdneirf\n",
      "========\n"
     ]
    },
    {
     "data": {
      "text/plain": [
       "'ew era lla sdneirf'"
      ]
     },
     "execution_count": 222,
     "metadata": {},
     "output_type": "execute_result"
    }
   ],
   "source": [
    "RevWords(\"we are all friends\")"
   ]
  },
  {
   "cell_type": "markdown",
   "id": "fd9040f0",
   "metadata": {},
   "source": [
    "## 5.Capitalize First Letters\n",
    "\n",
    "Description\n",
    "Build a function CapLett to capitalize the first letter of each word in a sentence.\n",
    "\n",
    "Examples\n",
    "CapLett(\"we are all friends\") returns \"We Are All Friends\"\n",
    "\n",
    "拆句成词，保持句子词序，让每个词首字母大写"
   ]
  },
  {
   "cell_type": "code",
   "execution_count": 174,
   "id": "b7772bd2",
   "metadata": {},
   "outputs": [],
   "source": [
    "#注意缩进顺序：\n",
    "def CapLett(sen):\n",
    "    res = \"\"                      #设置result为空\n",
    "    for word in sen.split():      #对于在句子拆分状态下的词：\n",
    "        if res:                   #如果result不为空\n",
    "            res += \" \"            #就把每个result中间空格\n",
    "        res += word.capitalize()  #让每个词首字母大写\n",
    "    return res"
   ]
  },
  {
   "cell_type": "code",
   "execution_count": 175,
   "id": "47c9b7a0",
   "metadata": {},
   "outputs": [
    {
     "data": {
      "text/plain": [
       "'We Are All Friends'"
      ]
     },
     "execution_count": 175,
     "metadata": {},
     "output_type": "execute_result"
    }
   ],
   "source": [
    "CapLett(\"we are all friends\")\n",
    "#'We Are All Friends'"
   ]
  },
  {
   "cell_type": "code",
   "execution_count": 176,
   "id": "819bf741",
   "metadata": {},
   "outputs": [],
   "source": [
    "#拆解式分解：\n",
    "def CapLett(sen):\n",
    "    res = \"\"                      #设置result为空\n",
    "    for word in sen.split():      #对于在句子拆分状态下的词：\n",
    "        print(\"word:\",word)\n",
    "        if res:                   #如果result不为空\n",
    "            res += \" \"            #就把result后加一个空格\n",
    "            print(\"res with space:\", res)\n",
    "        res += word.capitalize()  #让新词首字母大写，放到result中\n",
    "        print(\"res:\",res)         \n",
    "    return res"
   ]
  },
  {
   "cell_type": "code",
   "execution_count": 177,
   "id": "30bb009e",
   "metadata": {},
   "outputs": [
    {
     "name": "stdout",
     "output_type": "stream",
     "text": [
      "word: we\n",
      "res: We\n",
      "word: are\n",
      "res with space: We \n",
      "res: We Are\n",
      "word: all\n",
      "res with space: We Are \n",
      "res: We Are All\n",
      "word: friends\n",
      "res with space: We Are All \n",
      "res: We Are All Friends\n"
     ]
    },
    {
     "data": {
      "text/plain": [
       "'We Are All Friends'"
      ]
     },
     "execution_count": 177,
     "metadata": {},
     "output_type": "execute_result"
    }
   ],
   "source": [
    "CapLett(\"we are all friends\")\n",
    "#将句子拆分成词，检索到第一个词是we，因为result为空，所以不加空格，直接大写首字母，放到result里是W\n",
    "#第二个词是are, 因为result已有We，不为空，就将其后加一个空格；让are首字母大写，放到result中"
   ]
  },
  {
   "cell_type": "markdown",
   "id": "2858f420",
   "metadata": {},
   "source": [
    "## 6. Remove Punctuations\n",
    "Description\n",
    "Build a function RmPunct to remove punctuations from a string.\n",
    "\n",
    "\n",
    "Examples\n",
    "RmPunct(\"He said, that is great!!\") returns \"He said that is great\"\n",
    "\n",
    "把句子中的标点去掉"
   ]
  },
  {
   "cell_type": "code",
   "execution_count": 185,
   "id": "6e5650a2",
   "metadata": {},
   "outputs": [],
   "source": [
    "import string\n",
    "def RmPunct(s):                       #RmPunct函数，接收string\n",
    "    res = \"\"                          #result为空\n",
    "    punts = set(string.punctuation)   #punts设置为string的标点\n",
    "    for c in s:                       #对每个在string中的character\n",
    "        print(\"c:\", c)\n",
    "        if c not in punts:            #如果不在punctuation中\n",
    "            res += c                  #就加到result中\n",
    "            print(\"res:\", res)\n",
    "    return res"
   ]
  },
  {
   "cell_type": "code",
   "execution_count": 186,
   "id": "6695ccd5",
   "metadata": {},
   "outputs": [
    {
     "name": "stdout",
     "output_type": "stream",
     "text": [
      "c: H\n",
      "res: H\n",
      "c: e\n",
      "res: He\n",
      "c:  \n",
      "res: He \n",
      "c: s\n",
      "res: He s\n",
      "c: a\n",
      "res: He sa\n",
      "c: i\n",
      "res: He sai\n",
      "c: d\n",
      "res: He said\n",
      "c: ,\n",
      "c:  \n",
      "res: He said \n",
      "c: '\n",
      "c: t\n",
      "res: He said t\n",
      "c: h\n",
      "res: He said th\n",
      "c: a\n",
      "res: He said tha\n",
      "c: t\n",
      "res: He said that\n",
      "c:  \n",
      "res: He said that \n",
      "c: i\n",
      "res: He said that i\n",
      "c: s\n",
      "res: He said that is\n",
      "c:  \n",
      "res: He said that is \n",
      "c: g\n",
      "res: He said that is g\n",
      "c: r\n",
      "res: He said that is gr\n",
      "c: e\n",
      "res: He said that is gre\n",
      "c: a\n",
      "res: He said that is grea\n",
      "c: t\n",
      "res: He said that is great\n",
      "c: !\n",
      "c: !\n"
     ]
    },
    {
     "data": {
      "text/plain": [
       "'He said that is great'"
      ]
     },
     "execution_count": 186,
     "metadata": {},
     "output_type": "execute_result"
    }
   ],
   "source": [
    "RmPunct(\"He said, 'that is great!!\")\n",
    "#'He said that is great'\n",
    "#走到,空格 '' !! 时，就不会将其加入到result中"
   ]
  },
  {
   "cell_type": "code",
   "execution_count": 187,
   "id": "cd79374d",
   "metadata": {},
   "outputs": [
    {
     "name": "stdout",
     "output_type": "stream",
     "text": [
      "c: 1\n",
      "res: 1\n",
      "c: 0\n",
      "res: 10\n",
      "c: 0\n",
      "res: 100\n",
      "c: 0\n",
      "res: 1000\n",
      "c: 1\n",
      "res: 10001\n",
      "c:  \n",
      "res: 10001 \n",
      "c: H\n",
      "res: 10001 H\n",
      "c: e\n",
      "res: 10001 He\n",
      "c:  \n",
      "res: 10001 He \n",
      "c: s\n",
      "res: 10001 He s\n",
      "c: a\n",
      "res: 10001 He sa\n",
      "c: i\n",
      "res: 10001 He sai\n",
      "c: d\n",
      "res: 10001 He said\n",
      "c: ,\n",
      "c:  \n",
      "res: 10001 He said \n",
      "c: '\n",
      "c: t\n",
      "res: 10001 He said t\n",
      "c: h\n",
      "res: 10001 He said th\n",
      "c: a\n",
      "res: 10001 He said tha\n",
      "c: t\n",
      "res: 10001 He said that\n",
      "c:  \n",
      "res: 10001 He said that \n",
      "c: i\n",
      "res: 10001 He said that i\n",
      "c: s\n",
      "res: 10001 He said that is\n",
      "c:  \n",
      "res: 10001 He said that is \n",
      "c: g\n",
      "res: 10001 He said that is g\n",
      "c: r\n",
      "res: 10001 He said that is gr\n",
      "c: e\n",
      "res: 10001 He said that is gre\n",
      "c: a\n",
      "res: 10001 He said that is grea\n",
      "c: t\n",
      "res: 10001 He said that is great\n",
      "c: !\n",
      "c: '\n"
     ]
    },
    {
     "data": {
      "text/plain": [
       "'10001 He said that is great'"
      ]
     },
     "execution_count": 187,
     "metadata": {},
     "output_type": "execute_result"
    }
   ],
   "source": [
    "RmPunct(\"10001 He said, 'that is great!'\")\n",
    "#'10001 He said that is great'"
   ]
  },
  {
   "cell_type": "markdown",
   "id": "9bdb96fe",
   "metadata": {},
   "source": [
    "## 7. N Grams\n",
    "\n",
    "Description\n",
    "Build a function NGram which takes a string s and an integer n as inputs, returns a list of n grams of s.\n",
    "\n",
    "Examples\n",
    "\n",
    "NGram(\"techlent\", 2) returns [\"te\", \"ec\", \"ch\", \"hl\", \"le\", \"en\", \"nt\"]\n",
    "\n",
    "NGram(\"abc\", 3) returns [\"abc\"]\n",
    "\n",
    "NGram(\"abc\", 4) returns [   ]\n",
    "\n",
    "NGram(\"abc\", 1) returns [\"a\", \"b\", \"c\"]\n",
    "\n",
    "在string中取n个元素为一组，取多组"
   ]
  },
  {
   "cell_type": "code",
   "execution_count": 231,
   "id": "eb1a093c",
   "metadata": {},
   "outputs": [],
   "source": [
    "def NGram(s, n):\n",
    "    res = []\n",
    "    print(\"len(s) - n + 1 = \", len(s) - n + 1)\n",
    "    for i in range(len(s) - n + 1):\n",
    "        print(\"i = \", i)\n",
    "        print(\"i + n = \", i + n)\n",
    "        print(s[i: i + n])   \n",
    "        print(\"===\")\n",
    "        res.append(s[i: i + n])\n",
    "    return res\n",
    "\n",
    "#s代表字符串，n是需要几个字符：\n",
    "#lens(s) - n + 1的作用，\n",
    "#是i运行到 元素总数 - n 个元素时停止"
   ]
  },
  {
   "cell_type": "code",
   "execution_count": 232,
   "id": "6ab87ac0",
   "metadata": {},
   "outputs": [
    {
     "name": "stdout",
     "output_type": "stream",
     "text": [
      "len(s) - n + 1 =  7\n",
      "i =  0\n",
      "i + n =  2\n",
      "te\n",
      "===\n",
      "i =  1\n",
      "i + n =  3\n",
      "ec\n",
      "===\n",
      "i =  2\n",
      "i + n =  4\n",
      "ch\n",
      "===\n",
      "i =  3\n",
      "i + n =  5\n",
      "hl\n",
      "===\n",
      "i =  4\n",
      "i + n =  6\n",
      "le\n",
      "===\n",
      "i =  5\n",
      "i + n =  7\n",
      "en\n",
      "===\n",
      "i =  6\n",
      "i + n =  8\n",
      "nt\n",
      "===\n"
     ]
    },
    {
     "data": {
      "text/plain": [
       "['te', 'ec', 'ch', 'hl', 'le', 'en', 'nt']"
      ]
     },
     "execution_count": 232,
     "metadata": {},
     "output_type": "execute_result"
    }
   ],
   "source": [
    "NGram(\"techlent\", 2)"
   ]
  },
  {
   "cell_type": "markdown",
   "id": "77728558",
   "metadata": {},
   "source": [
    "# 8. Palindrome\n",
    "\n",
    "Description\n",
    "Build a function isPalindrome which takes a string as an input and returns boolin value telling whether the string is a palindrome.\n",
    "\n",
    "\n",
    "Examples\n",
    "\n",
    "isPalindrome(\"abcba\") returns True\n",
    "\n",
    "isPalindrome(\"abba\") returns True\n",
    "\n",
    "isPalindrome(\"a\") returns True\n",
    "\n",
    "isPalindrome(\"\") returns True\n",
    "\n",
    "isPalindrome(\"abcd\") returns False\n",
    "\n",
    "如果所有元素反过来还相等，则返回True"
   ]
  },
  {
   "cell_type": "code",
   "execution_count": 237,
   "id": "0cc3df2d",
   "metadata": {},
   "outputs": [],
   "source": [
    "#法1：s = s[::-1]让所有元素逆序\n",
    "def isPalindrome(s):\n",
    "    return s == s[::-1]"
   ]
  },
  {
   "cell_type": "code",
   "execution_count": 238,
   "id": "2a2551ee",
   "metadata": {},
   "outputs": [
    {
     "data": {
      "text/plain": [
       "True"
      ]
     },
     "execution_count": 238,
     "metadata": {},
     "output_type": "execute_result"
    }
   ],
   "source": [
    "isPalindrome(\"abcba\")"
   ]
  },
  {
   "cell_type": "code",
   "execution_count": 239,
   "id": "6a4cfea3",
   "metadata": {},
   "outputs": [
    {
     "data": {
      "text/plain": [
       "False"
      ]
     },
     "execution_count": 239,
     "metadata": {},
     "output_type": "execute_result"
    }
   ],
   "source": [
    "isPalindrome(\"abcd\")"
   ]
  },
  {
   "cell_type": "code",
   "execution_count": 254,
   "id": "6c62e9d7",
   "metadata": {},
   "outputs": [],
   "source": [
    "#法2：指针法\n",
    "def isPalindrome(s):\n",
    "    left = 0\n",
    "    right = len(s) - 1\n",
    "    while left < right:                 #走到最后，奇数个时，s[left] = s[right]；偶数个时，s[left] > s[right]；均打破循环\n",
    "        print(\"left = \", left)\n",
    "        print(\"right = \", right)\n",
    "        print(\"s[left] = \", s[left])\n",
    "        print(\"s[right] = \", s[right])\n",
    "        print(\"====\")\n",
    "        if s[left] == s[right]:\n",
    "            left += 1\n",
    "            right -= 1\n",
    "        else:\n",
    "            return False\n",
    "    return True"
   ]
  },
  {
   "cell_type": "code",
   "execution_count": 255,
   "id": "8154e782",
   "metadata": {},
   "outputs": [
    {
     "name": "stdout",
     "output_type": "stream",
     "text": [
      "left =  0\n",
      "right =  3\n",
      "s[left] =  a\n",
      "s[right] =  a\n",
      "====\n",
      "left =  1\n",
      "right =  2\n",
      "s[left] =  b\n",
      "s[right] =  b\n",
      "====\n"
     ]
    },
    {
     "data": {
      "text/plain": [
       "True"
      ]
     },
     "execution_count": 255,
     "metadata": {},
     "output_type": "execute_result"
    }
   ],
   "source": [
    "isPalindrome(\"abba\")"
   ]
  },
  {
   "cell_type": "code",
   "execution_count": 256,
   "id": "9f8b4c07",
   "metadata": {},
   "outputs": [
    {
     "name": "stdout",
     "output_type": "stream",
     "text": [
      "left =  0\n",
      "right =  4\n",
      "s[left] =  a\n",
      "s[right] =  a\n",
      "====\n",
      "left =  1\n",
      "right =  3\n",
      "s[left] =  b\n",
      "s[right] =  b\n",
      "====\n"
     ]
    },
    {
     "data": {
      "text/plain": [
       "True"
      ]
     },
     "execution_count": 256,
     "metadata": {},
     "output_type": "execute_result"
    }
   ],
   "source": [
    "isPalindrome(\"ababa\")"
   ]
  },
  {
   "cell_type": "code",
   "execution_count": 257,
   "id": "e8b56c5e",
   "metadata": {},
   "outputs": [
    {
     "name": "stdout",
     "output_type": "stream",
     "text": [
      "left =  0\n",
      "right =  3\n",
      "s[left] =  a\n",
      "s[right] =  d\n",
      "====\n"
     ]
    },
    {
     "data": {
      "text/plain": [
       "False"
      ]
     },
     "execution_count": 257,
     "metadata": {},
     "output_type": "execute_result"
    }
   ],
   "source": [
    "isPalindrome(\"abcd\")"
   ]
  },
  {
   "cell_type": "markdown",
   "id": "d34c1104",
   "metadata": {},
   "source": [
    "## 9. Letter Palindrome\n",
    "\n",
    "Description\n",
    "Build a function LettPalind to determine a string is a palindrome or not. We only consider letters this time.\n",
    "\n",
    "Examples\n",
    "\n",
    "LettPalind(\"909@,.\") returns True\n",
    "\n",
    "LettPalind(\"He is Sieh!\") returns True\n",
    "\n",
    "LettPalind(\"His name is Sieh.\") returns False\n",
    "\n",
    "判断一个句子是否是回文"
   ]
  },
  {
   "cell_type": "code",
   "execution_count": 270,
   "id": "a3517b88",
   "metadata": {},
   "outputs": [],
   "source": [
    "import string\n",
    "def LettPalind(s):\n",
    "    letts = set(string.ascii_lowercase)\n",
    "    s = s.lower()\n",
    "    left = 0\n",
    "    right = len(s) - 1\n",
    "    while left < right:\n",
    "        print(\"left = \", left)\n",
    "        print(\"right = \", right)\n",
    "        print(\"s[left] = \", s[left])\n",
    "        print(\"s[right] = \", s[right])\n",
    "        if s[left] not in letts:\n",
    "            left += 1\n",
    "        elif s[right] not in letts:\n",
    "            right -= 1\n",
    "        elif s[left] == s[right]:\n",
    "            left += 1\n",
    "            right -= 1\n",
    "        else:\n",
    "            return False\n",
    "    return True\n",
    "\n",
    "#当遇到左手或右手不是字母时，就让左手后进一位，或右手前移一位\n",
    "#当左右手相等时，各自后进/前移一位，直到打破循环\n",
    "#如果左右手不相等时，返回false"
   ]
  },
  {
   "cell_type": "code",
   "execution_count": 271,
   "id": "3b2c796f",
   "metadata": {},
   "outputs": [
    {
     "name": "stdout",
     "output_type": "stream",
     "text": [
      "left =  0\n",
      "right =  10\n",
      "s[left] =  h\n",
      "s[right] =  !\n",
      "left =  0\n",
      "right =  9\n",
      "s[left] =  h\n",
      "s[right] =  h\n",
      "left =  1\n",
      "right =  8\n",
      "s[left] =  e\n",
      "s[right] =  e\n",
      "left =  2\n",
      "right =  7\n",
      "s[left] =   \n",
      "s[right] =  i\n",
      "left =  3\n",
      "right =  7\n",
      "s[left] =  i\n",
      "s[right] =  i\n",
      "left =  4\n",
      "right =  6\n",
      "s[left] =  s\n",
      "s[right] =  s\n"
     ]
    },
    {
     "data": {
      "text/plain": [
       "True"
      ]
     },
     "execution_count": 271,
     "metadata": {},
     "output_type": "execute_result"
    }
   ],
   "source": [
    "LettPalind(\"He is Sieh!\")\n"
   ]
  },
  {
   "cell_type": "code",
   "execution_count": 263,
   "id": "d79d07a5",
   "metadata": {},
   "outputs": [
    {
     "data": {
      "text/plain": [
       "False"
      ]
     },
     "execution_count": 263,
     "metadata": {},
     "output_type": "execute_result"
    }
   ],
   "source": [
    "LettPalind(\"His name is Sieh!\")"
   ]
  },
  {
   "cell_type": "markdown",
   "id": "c478cbe1",
   "metadata": {},
   "source": [
    "## 10. Valid Parenthesis\n",
    "Description\n",
    "Build a function ValidParenthesis to determine the parenthesis in a string are valid.\n",
    "\n",
    "Examples\n",
    "\n",
    "ValidParenthesis(\"((()))()\") returns True\n",
    "\n",
    "ValidParenthesis(\"()()()\") returns True\n",
    "\n",
    "ValidParenthesis(\"()()()(\") returns False\n",
    "\n",
    "ValidParenthesis(\"((())))\") returns False\n",
    "\n",
    "如果左右括弧数相等，则返回True，否则False"
   ]
  },
  {
   "cell_type": "code",
   "execution_count": 283,
   "id": "e7076453",
   "metadata": {},
   "outputs": [],
   "source": [
    "def ValidParenthesis(s):\n",
    "    tmp = []\n",
    "    for c in s:\n",
    "        print(\"tmp=\", tmp)\n",
    "        print(\"c=\", c)\n",
    "        print(\"=================\")\n",
    "        if c == \"(\":\n",
    "            tmp.append(c)\n",
    "        if c == \")\":\n",
    "            if tmp:\n",
    "                tmp.pop()\n",
    "            else:\n",
    "                return False\n",
    "    print(\"final tmp=\", tmp)\n",
    "    if tmp:\n",
    "        return False\n",
    "    else:\n",
    "        return True\n",
    "\n",
    "#遇到元素是左括弧 (，存入tmp，遇到元素是右括弧)，弹出\n",
    "#如果右括弧弹无可弹，return False： 左括弧数量 > 右括弧数量\n",
    "#如果走完全程，tmp还有值：右括弧数量 > 左括弧数量\n",
    "#如果走完全程，tmp没有值：两个括号数量 = "
   ]
  },
  {
   "cell_type": "code",
   "execution_count": 280,
   "id": "a0c667e4",
   "metadata": {},
   "outputs": [
    {
     "name": "stdout",
     "output_type": "stream",
     "text": [
      "tmp= []\n",
      "c= (\n",
      "=================\n",
      "tmp= ['(']\n",
      "c= (\n",
      "=================\n",
      "tmp= ['(', '(']\n",
      "c= )\n",
      "=================\n",
      "tmp= ['(']\n",
      "c= )\n",
      "=================\n",
      "tmp= []\n",
      "c= )\n",
      "=================\n"
     ]
    },
    {
     "data": {
      "text/plain": [
       "False"
      ]
     },
     "execution_count": 280,
     "metadata": {},
     "output_type": "execute_result"
    }
   ],
   "source": [
    "#退无可退，return False\n",
    "ValidParenthesis('(()))()')"
   ]
  },
  {
   "cell_type": "code",
   "execution_count": 285,
   "id": "02cb794b",
   "metadata": {},
   "outputs": [
    {
     "name": "stdout",
     "output_type": "stream",
     "text": [
      "tmp= []\n",
      "c= (\n",
      "=================\n",
      "tmp= ['(']\n",
      "c= (\n",
      "=================\n",
      "tmp= ['(', '(']\n",
      "c= (\n",
      "=================\n",
      "tmp= ['(', '(', '(']\n",
      "c= (\n",
      "=================\n",
      "tmp= ['(', '(', '(', '(']\n",
      "c= )\n",
      "=================\n",
      "tmp= ['(', '(', '(']\n",
      "c= )\n",
      "=================\n",
      "tmp= ['(', '(']\n",
      "c= )\n",
      "=================\n",
      "tmp= ['(']\n",
      "c= (\n",
      "=================\n",
      "tmp= ['(', '(']\n",
      "c= )\n",
      "=================\n",
      "final tmp= ['(']\n"
     ]
    },
    {
     "data": {
      "text/plain": [
       "False"
      ]
     },
     "execution_count": 285,
     "metadata": {},
     "output_type": "execute_result"
    }
   ],
   "source": [
    "#走完全程，tmp仍遗留元素，return False\n",
    "ValidParenthesis('(((()))()')"
   ]
  },
  {
   "cell_type": "code",
   "execution_count": 287,
   "id": "3bc250c5",
   "metadata": {
    "scrolled": true
   },
   "outputs": [
    {
     "name": "stdout",
     "output_type": "stream",
     "text": [
      "tmp= []\n",
      "c= (\n",
      "=================\n",
      "tmp= ['(']\n",
      "c= (\n",
      "=================\n",
      "tmp= ['(', '(']\n",
      "c= (\n",
      "=================\n",
      "tmp= ['(', '(', '(']\n",
      "c= )\n",
      "=================\n",
      "tmp= ['(', '(']\n",
      "c= )\n",
      "=================\n",
      "tmp= ['(']\n",
      "c= )\n",
      "=================\n",
      "tmp= []\n",
      "c= (\n",
      "=================\n",
      "tmp= ['(']\n",
      "c= )\n",
      "=================\n",
      "final tmp= []\n"
     ]
    },
    {
     "data": {
      "text/plain": [
       "True"
      ]
     },
     "execution_count": 287,
     "metadata": {},
     "output_type": "execute_result"
    }
   ],
   "source": [
    "#走完全程，tmp无值，return True\n",
    "ValidParenthesis('((()))()')"
   ]
  },
  {
   "cell_type": "code",
   "execution_count": null,
   "id": "94afdf75",
   "metadata": {},
   "outputs": [],
   "source": []
  }
 ],
 "metadata": {
  "kernelspec": {
   "display_name": "Python 3 (ipykernel)",
   "language": "python",
   "name": "python3"
  },
  "language_info": {
   "codemirror_mode": {
    "name": "ipython",
    "version": 3
   },
   "file_extension": ".py",
   "mimetype": "text/x-python",
   "name": "python",
   "nbconvert_exporter": "python",
   "pygments_lexer": "ipython3",
   "version": "3.11.4"
  }
 },
 "nbformat": 4,
 "nbformat_minor": 5
}
