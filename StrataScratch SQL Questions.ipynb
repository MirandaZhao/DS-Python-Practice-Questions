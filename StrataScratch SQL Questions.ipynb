{
 "cells": [
  {
   "cell_type": "code",
   "execution_count": 8,
   "id": "a0aabcf3",
   "metadata": {},
   "outputs": [],
   "source": [
    "#SQL CheatSheet\n",
    "#https://www.stratascratch.com/blog/sql-cheat-sheet-technical-concepts-for-the-job-interview/"
   ]
  },
  {
   "cell_type": "markdown",
   "id": "f848c096",
   "metadata": {},
   "source": [
    "# 1. Most Profitable Companies\n",
    "\n",
    "\n",
    "Forbes\n",
    "Medium\n",
    "ID 10354\n",
    "\n",
    "\n",
    "Find the 3 most profitable companies in the entire world.\n",
    "Output the result along with the corresponding company name.\n",
    "Sort the result based on profits in descending order.\n"
   ]
  },
  {
   "cell_type": "raw",
   "id": "ed03f44f",
   "metadata": {},
   "source": [
    "#方法1：with\n",
    "WITH CTE AS(\n",
    "SELECT\n",
    "    company,\n",
    "    profits,\n",
    "    RANK() OVER(order by profits desc) as rnk\n",
    "FROM \n",
    "    forbes_global_2010_2014\n",
    ")\n",
    "SELECT \n",
    "    company,\n",
    "    profits\n",
    "FROM CTE\n",
    "WHERE rnk <= 3"
   ]
  },
  {
   "cell_type": "raw",
   "id": "cca94d96",
   "metadata": {},
   "source": [
    "#方法2：subquery\n",
    "SELECT \n",
    "    company,\n",
    "    profit\n",
    "FROM \n",
    "    (SELECT \n",
    "        *,\n",
    "        rank() OVER(ORDER BY totol_profit DESC) as rank\n",
    "    FROM \n",
    "        (SELECT \n",
    "            company, \n",
    "            sum(profits) AS totol_profit\n",
    "        FROM forbes_global_2010_2014\n",
    "        GROUP BY 1) sq) sq2\n",
    "WHERE rank <=3"
   ]
  },
  {
   "cell_type": "raw",
   "id": "07e99959",
   "metadata": {},
   "source": [
    "#方法3：with改写的subquery\n",
    "WITH CTE1 AS(\n",
    "SELECT \n",
    "    company,\n",
    "    sum(profits) AS total_profit\n",
    "FROM forbes_global_2010_2014\n",
    "GROUP BY 1\n",
    "),\n",
    "CTE2 AS(\n",
    "SELECT \n",
    "    company,\n",
    "    total_profit,\n",
    "    RANK() OVER (ORDER BY total_profit DESC) AS rank\n",
    "FROM CTE1\n",
    ")\n",
    "SELECT \n",
    "    company,\n",
    "    total_profit\n",
    "FROM CTE2\n",
    "WHERE rank <= 3"
   ]
  },
  {
   "cell_type": "raw",
   "id": "7578289d",
   "metadata": {},
   "source": [
    "#方法4：python\n",
    "\n",
    "# Explore Dataset\n",
    "forbes_global_2010_2014.head()\n",
    "forbes_global_2010_2014.sample(5)\n",
    "forbes_global_2010_2014.info()\n",
    "\n",
    "# Import your libraries\n",
    "import pandas as pd\n",
    "import numpy as np\n",
    "\n",
    "# Group& sort columns\n",
    "result = forbes_global_2010_2014.groupby('company')['profits'].sum().reset_index().sort_values(by='profits', ascending = False)\n",
    "\n",
    "# Rank the companies\n",
    "result['rank'] = result['profits'].rank(method = 'min', ascending = False)\n",
    "\n",
    "# Filter the dataset\n",
    "result = result[result['rank']<=3][['company', 'profits']]\n",
    "\n",
    "#Optimized Solution\n",
    "forbes_global_2010_2014.sort_values(by = 'profits', ascending = False)[['company', 'profits']].head(3)"
   ]
  },
  {
   "cell_type": "markdown",
   "id": "57e54008",
   "metadata": {},
   "source": [
    "# 2.Workers With The Highest Salaries\n",
    "\n",
    "\n",
    "Interview Question Date: July 2021\n",
    "\n",
    "Amazon\n",
    "DoorDash\n",
    "Easy\n",
    "ID 10353\n",
    "\n",
    "\n",
    "You have been asked to find the job titles of the highest-paid employees.\n",
    "\n",
    "\n",
    "Your output should include the highest-paid title or multiple titles with the same salary.\n",
    "\n",
    "DataFrames: worker, titleExpected Output Type: pandas.DataFrame"
   ]
  },
  {
   "cell_type": "raw",
   "id": "6a7d9307",
   "metadata": {},
   "source": [
    "-- --方法1：rank\n",
    "-- WITH CTE AS(\n",
    "-- SELECT \n",
    "--     worker_title,\n",
    "--     RANK() OVER(ORDER BY salary DESC) AS rnk\n",
    "-- FROM worker w JOIN title t\n",
    "-- ON w.worker_id = t.worker_ref_id\n",
    "-- )\n",
    "-- SELECT \n",
    "--     worker_title\n",
    "-- FROM CTE\n",
    "-- WHERE rnk = 1"
   ]
  },
  {
   "cell_type": "raw",
   "id": "fc77d04c",
   "metadata": {},
   "source": [
    "--方法2：case when\n",
    "--先求max_salary; case when salary = max_salary then title; select * where title is not null \n",
    "\n",
    "SELECT * \n",
    "FROM \n",
    "    (SELECT CASE\n",
    "        WHEN salary = \n",
    "            (SELECT max(salary)\n",
    "            FROM worker) THEN worker_title\n",
    "    END AS best_paid_title\n",
    "    FROM worker a\n",
    "    INNER JOIN title b \n",
    "    ON b.worker_ref_id = a.worker_id\n",
    "    ORDER BY best_paid_title\n",
    "    ) sq\n",
    "WHERE best_paid_title IS NOT NULL"
   ]
  },
  {
   "cell_type": "raw",
   "id": "1dde7f28",
   "metadata": {},
   "source": [
    "--方法3：select title; where salary = (select max(salary) from worker)\n",
    "\n",
    "SELECT \n",
    "    worker_title AS best_paid_title\n",
    "FROM worker\n",
    "JOIN title\n",
    "ON work_id = worker_ref_id\n",
    "WHERE salary = (SELECT MAX(salary) FROM worker)"
   ]
  },
  {
   "cell_type": "markdown",
   "id": "f5c7470e",
   "metadata": {},
   "source": [
    "# 3. Users By Average Session Time\n",
    "\n",
    "\n",
    "Interview Question Date: July 2021\n",
    "\n",
    "Meta/Facebook\n",
    "Medium\n",
    "ID 10352\n",
    "\n",
    "Calculate each user's average session time. A session is defined as the time difference between a page_load and page_exit. For simplicity, assume a user has only 1 session per day and if there are multiple of the same events on that day, consider only the latest page_load and earliest page_exit, with an obvious restriction that load time event should happen before exit time event . Output the user_id and their average session time.\n",
    "\n",
    "Table: facebook_web_log"
   ]
  },
  {
   "cell_type": "raw",
   "id": "0fecdd2d",
   "metadata": {},
   "source": [
    "--date(ts); ts::timestamp：只取年月日\n",
    "--timestamp：2019-04-25 13:30:15\n",
    "--date(timestamp)：2019-04-25\n",
    "--timestamp::date ：2019-04-25"
   ]
  },
  {
   "cell_type": "raw",
   "id": "4a192fe2",
   "metadata": {},
   "source": [
    "--方法1：self join\n",
    "先创建cte表：self join取user_id, date, session(min(t1.time - t2.time))； where 中指定t1.action = 'page_load' t2.action = 'page_exit'，t2.time > t1.time；\n",
    "在表中选择user_id, avg(session)\n",
    "\n",
    "\n",
    "WITH all_user_sessions AS(\n",
    "SELECT\n",
    "    t1.user_id,                                                                          --user_id\n",
    "    t1.timestamp::date as date,                                                          --date整数日；t1.timestamp::date = date(t1.timestamp)\n",
    "    min(t2.timestamp) - max(t1.timestamp) as session_duration      \n",
    "                                                        --session = ealiest page_exit - latest page_load：min(exit) - max(load)\n",
    "FROM facebook_web_log t1 JOIN facebook_web_log t2\n",
    "ON t1.user_id = t2.user_id\n",
    "WHERE t1.action = 'page_load'                                                            --t1表为load\n",
    "    AND t2.action = 'page_exit'                                                          --t2表为exit\n",
    "    AND t2.timestamp > t1.timestamp                                                      --load在exit前：exit > load\n",
    "GROUP BY 1, 2\n",
    ")\n",
    "SELECT user_id, avg(session_duration)                                                    --user_id, avg(session)\n",
    "FROM all_user_sessions\n",
    "GROUP BY user_id "
   ]
  },
  {
   "cell_type": "raw",
   "id": "953202ab",
   "metadata": {},
   "source": [
    "--方法2：\n",
    "--case when 求出page_load& page_exit timestamp；再select 两者相减求avg_session_time；最后having is not null去空值\n",
    "\n",
    "--题目条件：\n",
    "--avg session time: page_load - page_exit\n",
    "--latest page_load(max)； ealiest page_exit(min)\n",
    "--load在exit前：(exit - load)\n",
    "--user_id, avg session time\n",
    "\n",
    "WITH min_max as\n",
    "(\n",
    "select \n",
    "    user_id, \n",
    "    date(timestamp),\n",
    "    max(CASE\n",
    "        WHEN action = 'page_load' then timestamp\n",
    "        END) as pg_load,                              --latest page_load \n",
    "    min(CASE\n",
    "        WHEN action = 'page_exit' then timestamp\n",
    "        END) as pg_exit                               --ealiest page_exit\n",
    "FROM facebook_web_log \n",
    "GROUP BY 1,2\n",
    ")\n",
    "SELECT \n",
    "    user_id, \n",
    "    avg(pg_exit - pg_load) as avg_session_time        --avg(exit - load) = avg_session_time\n",
    "FROM min_max\n",
    "GROUP BY 1\n",
    "HAVING avg(pg_exit - pg_load) is not null            --去掉结尾空值"
   ]
  },
  {
   "cell_type": "raw",
   "id": "ecbfd39e",
   "metadata": {},
   "source": [
    "-- 方法3. \n",
    "-- 创建exit表和load表（user_id, day, exit_time/load_time）；\n",
    "-- 根据user_id和day去join两表；取user_id, avg(exit - load); \n",
    "-- 每个表在创立时要有day，代表每天，否则无法join成功\n",
    "\n",
    "WITH exit as(                                       \n",
    "SELECT \n",
    "    user_id,                                             --user_id\n",
    "    date(timestamp) as day,                              --day\n",
    "    min(timestamp) as exit                               --exit\n",
    "FROM \n",
    "    facebook_web_log\n",
    "WHERE \n",
    "    action = 'page_exit'\n",
    "GROUP BY \n",
    "    1,2\n",
    "),\n",
    "load as(\n",
    "SELECT \n",
    "    user_id,                                            --user_id\n",
    "    date(timestamp) as day,                             --day                       \n",
    "    max(timestamp) as load                              --load\n",
    "FROM \n",
    "    facebook_web_log\n",
    "WHERE \n",
    "    action = 'page_load'\n",
    "GROUP BY \n",
    "    1,2\n",
    ")\n",
    "SELECT \n",
    "    e.user_id,                                          --user_id\n",
    "    avg(exit - load)                                    --avg(exit - load)\n",
    "FROM exit e JOIN load l\n",
    "ON e.user_id = l.user_id\n",
    "AND e.day = l.day\n",
    "group by 1"
   ]
  },
  {
   "cell_type": "raw",
   "id": "bb048b96",
   "metadata": {},
   "source": [
    "#python:\n",
    "\n",
    "# Import your libraries\n",
    "import pandas as pd\n",
    "import numpy as np\n",
    "facebook_web_log.head()\n",
    "\n",
    "# Extract page_load and page_exit action \n",
    "loads = facebook_web_log.loc[facebook_web_log['action'] == 'page_load', ['user_id', 'timestamp']]\n",
    "exits = facebook_web_log.loc[facebook_web_log['action'] == 'page_exit', ['user_id', 'timestamp']]\n",
    "#Identify possible sessions of each user\n",
    "sessions = pd.merge(loads, exits, how = 'inner', on = 'user_id', suffixes = ['_load', '_exit'])\n",
    "#Filter valid sessions:\n",
    "#page before page_exit\n",
    "sessions = sessions[sessions['timestamp_load'] < sessions['timestamp_exit']]\n",
    "#add a column with the date of a page_load timestamp\n",
    "sessions['date_load'] = sessions['timestamp_load'].dt.date\n",
    "#aggregate data by user_id and date, select latest page_load and ealiest page_exit\n",
    "sessions = sessions.groupby(['user_id', 'date_load']).agg({'timestamp_load':'max', 'timestamp_exit':'min'}).reset_index()\n",
    "#calculate the duration of the session\n",
    "sessions['duration'] = sessions['timestamp_exit'] - sessions['timestamp_load']\n",
    "sessions\n",
    "#aggregate to get avg duration by user\n",
    "result = sessions.groupby('user_id')['duration'].agg(lambda x:np.mean(x)).reset_index()"
   ]
  },
  {
   "cell_type": "markdown",
   "id": "a5ffb371",
   "metadata": {},
   "source": [
    "# 4.Activity Rank\n",
    "\n",
    "\n",
    "Interview Question Date: July 2021\n",
    "\n",
    "Google\n",
    "Medium\n",
    "ID 10351\n",
    "\n",
    "Find the email activity rank for each user. Email activity rank is defined by the total number of emails sent. The user with the highest number of emails sent will have a rank of 1, and so on. Output the user, total emails, and their activity rank. Order records by the total emails in descending order. Sort users with the same number of emails in alphabetical order.\n",
    "In your rankings, return a unique value (i.e., a unique rank) even if multiple users have the same number of emails. For tie breaker use alphabetical order of the user usernames.\n",
    "\n",
    "Table: google_gmail_emails"
   ]
  },
  {
   "cell_type": "raw",
   "id": "56c5d8a3",
   "metadata": {},
   "source": [
    "--法1：cte\n",
    "--total emails：from_user, count(to_user), gorup by 1\n",
    "--先order by total email再order by 用户字母：row_number() OVER (ORDER BY total_emails DESC, from_user ASC) as row_number\n",
    "--最后再order一次\n",
    "\n",
    "--审题：user, total_email, rank:total_email\n",
    "--rank total emails desc\n",
    "--users asc\n",
    "--unique rank: row_number\n",
    "\n",
    "--output: from user, total_emails, row_number\n",
    "\n",
    "WITH CTE AS(\n",
    "SELECT \n",
    "    from_user,\n",
    "    count(to_user) AS total_emails\n",
    "FROM google_gmail_emails\n",
    "GROUP BY 1\n",
    ")\n",
    "SELECT \n",
    "    from_user,\n",
    "    total_emails,\n",
    "    row_number() OVER (ORDER BY total_emails DESC, from_user ASC) as row_number\n",
    "FROM CTE\n",
    "ORDER BY \n",
    "    total_emails DESC,\n",
    "    from_user"
   ]
  },
  {
   "cell_type": "raw",
   "id": "d6f84a66",
   "metadata": {},
   "source": [
    "--法2：count(*)与row_number可以在一个query中实现，group by 1。不用cte\n",
    "\n",
    "SELECT \n",
    "    from_user,\n",
    "    count(*) as total_emails,\n",
    "    row_number() OVER (order by count(*) desc, from_user asc)\n",
    "FROM \n",
    "    google_gmail_emails\n",
    "GROUP BY \n",
    "    from_user\n",
    "ORDER BY \n",
    "    total_emails DESC, \n",
    "    from_user"
   ]
  },
  {
   "cell_type": "markdown",
   "id": "13fe94d3",
   "metadata": {},
   "source": [
    "# 5.Algorithm Performance\n",
    "\n",
    "\n",
    "Interview Question Date: July 2021\n",
    "\n",
    "Meta/Facebook\n",
    "Hard\n",
    "\n",
    "\n",
    "Meta/Facebook is developing a search algorithm that will allow users to search through their post history. You have been assigned to evaluate the performance of this algorithm.\n",
    "\n",
    "\n",
    "We have a table with the user's search term, search result positions, and whether or not the user clicked on the search result.\n",
    "\n",
    "\n",
    "Write a query that assigns ratings to the searches in the following way:\n",
    "•\tIf the search was not clicked for any term, assign the search with rating=1\n",
    "•\tIf the search was clicked but the top position of clicked terms was outside the top 3 positions, assign the search a rating=2\n",
    "•\tIf the search was clicked and the top position of a clicked term was in the top 3 positions, assign the search a rating=3\n",
    "\n",
    "\n",
    "As a search ID can contain more than one search term, select the highest rating for that search ID. Output the search ID and its highest rating.\n",
    "\n",
    "\n",
    "Example: The search_id 1 was clicked (clicked = 1) and its position is outside of the top 3 positions (search_results_position = 5), therefore its rating is 2.\n",
    "\n",
    "Table: fb_search_events"
   ]
  },
  {
   "cell_type": "raw",
   "id": "712e97e1",
   "metadata": {},
   "source": [
    "--法1：\n",
    "--rating criteria: cte(case when)\n",
    "-- 1.search not cliked, rating = 1：clicked = 0\n",
    "-- 2.clicked, top position outsided the top 3, rating = 2：clicked = 1 and search_results_position > 3\n",
    "-- 3.clicked, top position in top 3, rating = 3：clicked = 1 and search_results_position <= 3\n",
    "\n",
    "--max rating for each user_id：max(rating)\n",
    "\n",
    "--output: search_id, max_rating\n",
    "\n",
    "WITH rating AS(\n",
    "SELECT \n",
    "    search_id,\n",
    "    clicked,\n",
    "    search_results_position,\n",
    "CASE \n",
    "    WHEN clicked = 0 THEN '1'\n",
    "    WHEN clicked = 1 AND search_results_position > 3 THEN '2'\n",
    "    WHEN clicked = 1 AND search_results_position <= 3 THEN '3'\n",
    "    END AS rating\n",
    "FROM fb_search_events\n",
    "GROUP BY 1,2,3\n",
    ")\n",
    "SELECT \n",
    "    search_id, \n",
    "    max(rating) AS max_rating\n",
    "FROM rating\n",
    "GROUP BY 1"
   ]
  },
  {
   "cell_type": "code",
   "execution_count": null,
   "id": "2599daaa",
   "metadata": {},
   "outputs": [],
   "source": [
    "--法2：\n",
    "SELECT \n",
    "    search_id,\n",
    "    MAX(CASE WHEN clicked = 0 THEN 1\n",
    "        WHEN search_results_position > 3 THEN 2\n",
    "        ELSE 3 END) as max_rating\n",
    "FROM fb_search_events\n",
    "GROUP BY search_id"
   ]
  },
  {
   "cell_type": "raw",
   "id": "f2022919",
   "metadata": {},
   "source": [
    "--#法3：\n",
    "-- 建立一个矩阵，search_id, 3个case when filter\n",
    "-- unnest(array[colum_a, colum_b, colum_c]) 是将3列并为一列，只显示有数字的那列数。\n",
    "-- max(rating)\n",
    "\n",
    "WITH CTE AS(\n",
    "    SELECT\n",
    "        search_id,\n",
    "        unnest(array[one, two, three]) AS rating\n",
    "    FROM\n",
    "    (SELECT \n",
    "        search_id,\n",
    "        CASE \n",
    "            WHEN clicked = 0 THEN 1\n",
    "            ELSE 0\n",
    "        END AS one,\n",
    "        CASE \n",
    "            WHEN clicked = 1 AND search_results_position > 3 THEN 2\n",
    "            ELSE 0\n",
    "        END AS two,\n",
    "        CASE \n",
    "            WHEN clicked = 1 AND search_results_position <= 3 THEN 3\n",
    "            ELSE 0\n",
    "        END AS three\n",
    "    FROM fb_search_events\n",
    "    ) sq\n",
    "    )\n",
    "SELECT \n",
    "    search_id,\n",
    "    max(rating) as max_rating\n",
    "FROM cte\n",
    "GROUP BY 1"
   ]
  },
  {
   "cell_type": "markdown",
   "id": "be100b1f",
   "metadata": {},
   "source": [
    "# 6.Distances Traveled\n",
    "\n",
    "\n",
    "Interview Question Date: December 2020\n",
    "\n",
    "Lyft\n",
    "Medium\n",
    "ID 10324\n",
    "\n",
    "Find the top 10 users that have traveled the greatest distance. Output their id, name and a total distance traveled.\n",
    "\n",
    "Tables: lyft_rides_log, lyft_users"
   ]
  },
  {
   "cell_type": "raw",
   "id": "a396729b",
   "metadata": {},
   "source": [
    "--output: user_id, name, traveled_distance: total_distance_travled\n",
    "--top 10; greatest distance\n",
    "\n",
    "--方法1：cte\n",
    "WITH CTE AS(\n",
    "SELECT \n",
    "    user_id,\n",
    "    name,\n",
    "    sum(distance) as traveled_distance,\n",
    "    RANK() OVER (ORDER BY sum(distance) DESC) AS rnk\n",
    "FROM \n",
    "    lyft_rides_log l \n",
    "JOIN \n",
    "    lyft_users u\n",
    "ON \n",
    "    l.user_id = u.id\n",
    "GROUP BY \n",
    "    1, 2\n",
    ")\n",
    "SELECT \n",
    "    user_id,\n",
    "    name,\n",
    "    traveled_distance\n",
    "FROM \n",
    "    CTE\n",
    "WHERE \n",
    "    rnk <= 10"
   ]
  },
  {
   "cell_type": "raw",
   "id": "5358c3ce",
   "metadata": {},
   "source": [
    "--方法2：subquery：from后整体后tab一格，rank后order by另起tab\n",
    "SELECT \n",
    "    user_id,\n",
    "    name,\n",
    "    traveled_distance\n",
    "FROM \n",
    "    (SELECT \n",
    "        lr.user_id,\n",
    "        lu.name,\n",
    "        SUM(lr.distance) AS traveled_distance,\n",
    "        rank() OVER(\n",
    "                    ORDER BY SUM(lr.distance) DESC) AS rank\n",
    "    FROM lyft_users lu\n",
    "    INNER JOIN lyft_rides_log lr ON lu.id = lr.user_id\n",
    "    GROUP BY \n",
    "        lr.user_id, \n",
    "        lu.name\n",
    "    ORDER BY \n",
    "        traveled_distance DESC\n",
    "    ) sq\n",
    "WHERE rank <= 10"
   ]
  },
  {
   "cell_type": "raw",
   "id": "052dee79",
   "metadata": {},
   "source": [
    "--方法3：\n",
    "--rank() OVER(ODER BY traveled_distance DESC), rank<=10\n",
    "--可被ORDER BY traveled_distance, limit 10替代\n",
    "\n",
    "SELECT \n",
    "    user_id,\n",
    "    name,\n",
    "    sum(distance) as traveled_distance\n",
    "FROM \n",
    "    lyft_rides_log l \n",
    "JOIN \n",
    "    lyft_users u\n",
    "ON \n",
    "    l.user_id = u.id\n",
    "GROUP BY \n",
    "    1, 2\n",
    "ORDER BY\n",
    "    traveled_distance DESC\n",
    "LIMIT 10"
   ]
  },
  {
   "cell_type": "markdown",
   "id": "a0b89142",
   "metadata": {},
   "source": [
    "# 7.Finding User Purchases【有个video可看】\n",
    "\n",
    "\n",
    "Interview Question Date: December 2020\n",
    "\n",
    "Amazon\n",
    "Medium\n",
    "ID 10322\n",
    "\n",
    "Write a query that'll identify returning active users. A returning active user is a user that has made a second purchase within 7 days of any other of their purchases. Output a list of user_ids of these returning active users.\n",
    "\n",
    "Table: amazon_transactions"
   ]
  },
  {
   "cell_type": "raw",
   "id": "c016674a",
   "metadata": {},
   "source": [
    "#①替换写法\n",
    "b.created_at - a.created_at BETWEEN 0 AND 7 \n",
    "b.created_at - a.created_at <=7 \n",
    "ABS(DATEDIFF(a.created_at, b.created_at)) <= 7\n",
    "\n",
    "a.created_at <= b.created_at \n",
    "b.created_at >= a.created_at\n",
    "\n",
    "#②self join 要去重自身，需a.id != b.id\n",
    "\n",
    "#③lead lag后，可用where next - current >= a 来filter out:\n",
    "lead(X, 1) over(partition by Y order by X asc) as next【注意是asc】\n",
    "lag(X, 1) over(partition by Y order by X ASC) as previous【注意也是asc】\n",
    "\n",
    "#④2nd purchase within 7 days of any other purchase，包含第二单和第一单在同一天\n",
    "b.created_at >= a.created_at"
   ]
  },
  {
   "cell_type": "raw",
   "id": "18e4e791",
   "metadata": {},
   "source": [
    "--return active user: 2nd purchase within 7 days of any other pur：\n",
    "--包含第二次下单和第一次下单是同一天的情况，∴ b.created_at >= a.created_at\n",
    "--output:user_id\n",
    "\n",
    "--法1：self join；on user_id=，id<>，where b.created - a.created <= 7 and a.created_at <=b.created\n",
    "\n",
    "SELECT \n",
    "distinct \n",
    "a.user_id\n",
    "FROM amazon_transactions a JOIN amazon_transactions b\n",
    "ON a.user_id = b.user_id \n",
    "AND a.id <> b.id                                         --排除同一用户的相同购买记录进行比较:只比较不同的购买记录\n",
    "WHERE \n",
    "b.created_at - a.created_at BETWEEN 0 AND 7            --可以替换为b.created_at - a.created_at <=7 ；也可以替换为ABS(DATEDIFF(a.created_at, b.created_at)) <= 7\n",
    "--DATEDIFF(a.created_at, b.created_at) <= 7                --为什么写这个不对？\n",
    "AND a.created_at <= b.created_at                         --【可以替换为b.created_at >= a.created_at ；但必须包括=】"
   ]
  },
  {
   "cell_type": "raw",
   "id": "f2b740fc",
   "metadata": {},
   "source": [
    "--法2：self join；on user_id；where .created_at - b.created_at BETWEEN 0 AND 7 AND a.id != b.id\n",
    "\n",
    "SELECT \n",
    "    DISTINCT(a.user_id)\n",
    "FROM amazon_transactions a\n",
    "JOIN amazon_transactions b\n",
    "ON a.user_id = b.user_id\n",
    "WHERE a.created_at - b.created_at BETWEEN 0 AND 7\n",
    "    AND a.id != b.id"
   ]
  },
  {
   "cell_type": "raw",
   "id": "f6a7378e",
   "metadata": {},
   "source": [
    "--法3：Lead建立新的一列，指前面变量的后一个值，再用where filter 相减 <=7即可\n",
    "--lead(X, 1) over(partition by Y order by X asc) as next【注意是asc】\n",
    "\n",
    "WITH next_transaction AS(\n",
    "SELECT\n",
    "    user_id,\n",
    "    created_at,\n",
    "    LEAD(created_at, 1) OVER(PARTITION BY user_id ORDER BY created_at ASC) AS next_transaction\n",
    "FROM amazon_transactions\n",
    ")\n",
    "SELECT \n",
    "    DISTINCT user_id\n",
    "FROM next_transaction\n",
    "WHERE next_transaction - created_at <= 7\n",
    "\n",
    "--LEAD(created_at, 1)表示获取在当前行之后的下一个行的created_at值。参数1表示获取下一个行（偏移量为1）的created_at值。"
   ]
  },
  {
   "cell_type": "raw",
   "id": "61cb30b1",
   "metadata": {},
   "source": [
    "--法4：lag建立新的一列，指前面变量的前一个值，再用where filter 相减 <=7即可\n",
    "--lag(X, 1) over(partition by Y order by X ASC) as previous【注意也是asc】\n",
    "\n",
    "WITH previous_transaction AS(\n",
    "SELECT\n",
    "    user_id,\n",
    "    created_at,\n",
    "    LAG(created_at, 1) OVER(PARTITION BY user_id ORDER BY created_at ASC) AS previous_transaction\n",
    "FROM amazon_transactions\n",
    ")\n",
    "SELECT \n",
    "  DISTINCT user_id\n",
    "FROM previous_transaction\n",
    "WHERE created_at - previous_transaction <= 7"
   ]
  },
  {
   "cell_type": "markdown",
   "id": "7eba114b",
   "metadata": {},
   "source": [
    "# 8.Monthly Percentage Difference\n",
    "\n",
    "\n",
    "Interview Question Date: December 2020\n",
    "\n",
    "Amazon\n",
    "Hard\n",
    "ID 10319\n",
    "\n",
    "Given a table of purchases by date, calculate the month-over-month percentage change in revenue. The output should include the year-month date (YYYY-MM) and percentage change, rounded to the 2nd decimal point, and sorted from the beginning of the year to the end of the year.\n",
    "The percentage change column will be populated from the 2nd month forward and can be calculated as ((this month's revenue - last month's revenue) / last month's revenue)*100.\n",
    "\n",
    "Table: sf_transactions"
   ]
  },
  {
   "cell_type": "raw",
   "id": "ee3e039e",
   "metadata": {},
   "source": [
    "1. Date: timestamp转换为YYYY-MM：\n",
    "②PostgreSQL：to_char(x, 'YYYY-MM')；to_char(date_trunc('month', x), 'YYYY-MM')\n",
    "to_char(created_at::date, 'YYYY-MM')\n",
    "SUBSTRING(created_at::text, 1, 7)\n",
    "LEFT(created_at::text, 7)\n",
    "to_char(DATE_TRUNC('month', created_at), 'YYYY-MM')\n",
    "\n",
    "①other SQL:切(left, substring)；date_format(date_trunc('month'), x), '%Y-%m'\n",
    "\n",
    "SUBSTRING(created_at, 1, 7)\n",
    "LEFT(created_at, 7)\n",
    "DATE_FORMAT(created_at, '%Y-%m')\n",
    "DATE_FORMAT(DATE_TRUNC('MONTH', created_at), '%Y-%m')\n",
    "\n",
    "2. :: 将 created_at 字段从其原始数据类型转换为其他类型，以便进行后续的操作。\n",
    "3. 使用 DATE_TRUNC 函数将日期字段截断到月份级别。然后，使用 TO_CHAR 函数将截断后的日期字段格式化为 \"YYYY-MM\" 的形式。\n",
    "\n",
    "4. 除法后保留两位小数：round(a/b * 100, 2)\n",
    "\n",
    "5. 将lag中over后的日期单拿出来在最后写w，可简写lag(sum(value), 1) over (w) "
   ]
  },
  {
   "cell_type": "raw",
   "id": "76ae237b",
   "metadata": {},
   "source": [
    "--month by month pct change in rev\n",
    "--output: date:YYYY-MM；% pct change 2nd decimal: (this month rev - last month rev) / last month rev * 100\n",
    "\n",
    "--法1：cte\n",
    "With cte AS(\n",
    "SELECT\n",
    "    to_char(created_at::date, 'YYYY-MM') as year_month,\n",
    "    sum(value) as revenue\n",
    "FROM sf_transactions\n",
    "GROUP BY 1\n",
    "ORDER BY 1\n",
    ")\n",
    "SELECT\n",
    "    year_month,\n",
    "    -- revenue,\n",
    "    -- LAG(revenue, 1) OVER(ORDER BY year_month) as last_month_revenue,\n",
    "    round((revenue - LAG(revenue, 1) OVER(ORDER BY year_month))/ LAG(revenue, 1) OVER(ORDER BY year_month) * 100, 2) as revenue_diff_pct\n",
    "FROM CTE\n",
    "\n",
    "#可互相替代(substring, left, to_char, to_char(date_trunc)：\n",
    "SUBSTRING(created_at::text, 1, 7) as year_month\n",
    "LEFT(created_at::text, 7) as year_month\n",
    "to_char(created_at::date, 'YYYY-MM') as year_month\n",
    "to_char(DATE_TRUNC('month', created_at), 'YYYY-MM') as year_month"
   ]
  },
  {
   "cell_type": "raw",
   "id": "39afe141",
   "metadata": {},
   "source": [
    "--法2.0：大牛写法：windows alias放在最后以保证code易读：\n",
    "SELECT\n",
    "    to_char(created_at::date, 'YYYY-MM') AS year_month,         --日期\n",
    "    ROUND((sum(value) - lag(sum(value), 1) OVER (w)) * 100 /    --分子一行\n",
    "    lag(sum(value), 1) OVER (w),2) as revenue_diff              --分母一行\n",
    "FROM sf_transactions\n",
    "GROUP BY 1\n",
    "Window w as (ORDER BY to_char(created_at::date, 'YYYY-MM'))     --over后较长的部分写成windows alias放在code最后"
   ]
  },
  {
   "cell_type": "raw",
   "id": "18949274",
   "metadata": {},
   "source": [
    "法2.1：将lag中over后的日期单拿出来在最后写w\n",
    "SELECT\n",
    "    to_char(created_at::date, 'YYYY-MM') as year_month,\n",
    "    round(\n",
    "        (\n",
    "        sum(value) - lag(sum(value),1) over (w)\n",
    "        ) \n",
    "        / lag(sum(value), 1) over (w) * 100\n",
    "    ,2\n",
    "    ) as revenue_diff\n",
    "FROM sf_transactions\n",
    "GROUP BY year_month\n",
    "window w as (order by to_char(created_at::date, 'YYYY-MM'))"
   ]
  },
  {
   "cell_type": "raw",
   "id": "a93672e0",
   "metadata": {},
   "source": [
    "法2.2：直接将order by写全，不用写w\n",
    "SELECT\n",
    "    to_char(created_at::date, 'YYYY-MM') as year_month,\n",
    "    round(\n",
    "        (\n",
    "        sum(value) - lag(sum(value),1) over (order by to_char(created_at::date, 'YYYY-MM'))\n",
    "        ) \n",
    "        / lag(sum(value), 1) over (order by to_char(created_at::date, 'YYYY-MM')) * 100\n",
    "    ,2\n",
    "    ) as revenue_diff\n",
    "FROM sf_transactions\n",
    "GROUP BY year_month \n",
    "\n",
    "--lag(sum(value),1) over (w) 表示对于每一行，它会获取与当前行相同窗口规范 w 中的前一行的 sum(value) 值。\n",
    "--窗口规范 w 被定义为 window w as (order by to_char(created_at::date, 'YYYY-MM'))。\n",
    "--它指定了按照 created_at 字段的日期部分进行排序，并且窗口函数将在该排序后的顺序中进行计算。"
   ]
  },
  {
   "cell_type": "markdown",
   "id": "924f1f84",
   "metadata": {},
   "source": [
    "# 9.New Products\n",
    "\n",
    "\n",
    "Interview Question Date: December 2020\n",
    "\n",
    "Salesforce\n",
    "Tesla\n",
    "Medium\n",
    "ID 10318\n",
    "\n",
    "You are given a table of product launches by company by year. Write a query to count the net difference between the number of products companies launched in 2020 with the number of products companies launched in the previous year. Output the name of the companies and a net difference of net products released for 2020 compared to the previous year."
   ]
  },
  {
   "cell_type": "raw",
   "id": "b74eccda",
   "metadata": {},
   "source": [
    "CASE WHEN:\n",
    "①COUNT和SUM在CASE WHEN中互换：\n",
    "COUNT(CASE WHEN year = 2019 THEN product_name END) AS prev_counts\n",
    "SUM(CASE WHEN year = 2019 THEN 1 ELSE 0 END) AS prev_counts\n",
    "\n",
    "②CASE WHEN中else可以省略，end不可省略\n",
    "count(case when year = 2020 then 1 else null end) 等同于 count(case when year = 2020 then product_name end)\n",
    "\n",
    "③count/max(case when X then Y end) as Z：count/max/sum等放在case when括号外\n",
    "case when不需要group by，count等aggregation function需要group by\n",
    "\n",
    "④起名如果要起数字开头的名字，要加双引号\"2019_counts\"，包括运算中也要加，∴最好不要数字开头\n",
    "\n",
    "⑤未免重复计算，count时看是否要加distinct：count(distinct a.brand_2020)"
   ]
  },
  {
   "cell_type": "raw",
   "id": "ad5f991b",
   "metadata": {},
   "source": [
    "net diff # product 2020 vs 2019\n",
    "company_name, net_products：20 - 19：count(product_name) in 20\n",
    "\n",
    "法1：\n",
    "WITH CTE AS(\n",
    "SELECT\n",
    "    company_name,\n",
    "    count(case when year = 2019 then product_name end) as prev_counts,\n",
    "    count(case when year = 2020 then product_name end) as current_counts\n",
    "FROM \n",
    "    car_launches\n",
    "GROUP BY 1\n",
    ")\n",
    "SELECT\n",
    "    company_name,\n",
    "    current_counts - prev_counts as net_products\n",
    "FROM CTE"
   ]
  },
  {
   "cell_type": "raw",
   "id": "5789ea62",
   "metadata": {},
   "source": [
    "法2：直接减\n",
    "SELECT \n",
    "company_name,\n",
    "--count(case when year = 2020 then 1 else null end) - count(case when year = 2019 then 1 else null end) as net_diff\n",
    "count(case when year = 2020 then product_name end) - count(case when year = 2019 then product_name end) as net_diff\n",
    "FROM car_launches\n",
    "GROUP BY 1\n",
    "\n",
    "count(case when year = 2020 then 1 else null end) 等同于 count(case when year = 2020 then product_name end)"
   ]
  },
  {
   "cell_type": "raw",
   "id": "30d97c6f",
   "metadata": {},
   "source": [
    "--法3：先用where分别选出2019年和20年product_name；再outer join on company_name；\n",
    "--最后取company_name, count(20) - count(19) as net_diff +group by\n",
    "\n",
    "SELECT \n",
    "    a.company_name, \n",
    "    (count(distinct a.brand_2020) - count(distinct b.brand_2019)) as net_products\n",
    "FROM \n",
    "    (SELECT \n",
    "        company_name,\n",
    "        product_name AS brand_2020\n",
    "    FROM car_launches\n",
    "    WHERE YEAR = 2020) a\n",
    "FULL OUTER JOIN\n",
    "    (SELECT \n",
    "        company_name,\n",
    "        product_name AS brand_2019\n",
    "    FROM car_launches\n",
    "    WHERE YEAR = 2019) b ON a.company_name = b.company_name\n",
    "GROUP BY a.company_name\n",
    "ORDER BY a.company_name"
   ]
  },
  {
   "cell_type": "markdown",
   "id": "3f87ac0a",
   "metadata": {},
   "source": [
    "# 10. Cities With The Most Expensive Homes\n",
    "\n",
    "\n",
    "Interview Question Date: December 2020\n",
    "\n",
    "Zillow\n",
    "Medium\n",
    "ID 10315\n",
    "\n",
    "Write a query that identifies cities with higher than average home prices when compared to the national average. Output the city names.\n",
    "\n",
    "Table: zillow_transactions"
   ]
  },
  {
   "cell_type": "raw",
   "id": "a0c58c3a",
   "metadata": {},
   "source": [
    "output:city\n",
    "city: > national avg home price\n",
    "这个城市区域的平均值，大于国家区域的平均值"
   ]
  },
  {
   "cell_type": "raw",
   "id": "2dac2a28",
   "metadata": {},
   "source": [
    "--正确答案：让城市平均值，select city, group by city, having avg(price) > 国家平均值\n",
    "SELECT DISTINCT city \n",
    "FROM zillow_transactions \n",
    "GROUP BY city\n",
    "HAVING avg(mkt_price) >\n",
    "    (\n",
    "    SELECT avg(mkt_price)\n",
    "    FROM zillow_transactions\n",
    "    )"
   ]
  },
  {
   "cell_type": "raw",
   "id": "1cf226bf",
   "metadata": {},
   "source": [
    "错误答案，因为没有求city的平均值\n",
    "SELECT DISTINCT city \n",
    "FROM zillow_transactions\n",
    "WHERE mkt_price >\n",
    "    (SELECT avg(mkt_price)\n",
    "    FROM zillow_transactions\n",
    "    )"
   ]
  },
  {
   "cell_type": "markdown",
   "id": "c51a8454",
   "metadata": {},
   "source": [
    "# 11.Revenue Over Time\n",
    "\n",
    "\n",
    "Interview Question Date: December 2020\n",
    "\n",
    "Amazon\n",
    "Hard\n",
    "ID 10314\n",
    "\n",
    "Find the 3-month rolling average of total revenue from purchases given a table with users, their purchase amount, and date purchased. Do not include returns which are represented by negative purchase values. Output the year-month (YYYY-MM) and 3-month rolling average of revenue, sorted from earliest month to latest month.\n",
    "\n",
    "\n",
    "A 3-month rolling average is defined by calculating the average total revenue from all user purchases for the current month and previous two months. The first two months will not be a true 3-month rolling average since we are not given data from last year. Assume each month has at least one purchase."
   ]
  },
  {
   "cell_type": "code",
   "execution_count": null,
   "id": "3b269bce",
   "metadata": {},
   "outputs": [],
   "source": [
    "#本月及前两个月的rolling avg：\n",
    "#3 months rolling avg：avg total rev from all purchases for current and preivous 2 months：\n",
    "AVG(t.monthly_revenue) OVER(ORDER BY t.month ROWS BETWEEN 2 PRECEDING AND CURRENT ROW) AS avg_revenue"
   ]
  },
  {
   "cell_type": "raw",
   "id": "c42aad74",
   "metadata": {},
   "source": [
    "--法1：   \n",
    "--AVG(t.monthly_revenue) OVER (ORDER BY t.month ROWS BETWEEN 2 PRECEDING AND CURRENT ROW) AS avg_revenue\n",
    "\n",
    "SELECT\n",
    "    t.month,\n",
    "    AVG(t.monthly_revenue) OVER (\n",
    "                                ORDER BY t.month ROWS BETWEEN 2 PRECEDING AND CURRENT ROW) AS avg_revenue\n",
    "FROM\n",
    "    (SELECT \n",
    "        to_char(created_at::date, 'YYYY-MM') AS month,\n",
    "        sum(purchase_amt) AS monthly_revenue\n",
    "    FROM amazon_purchases\n",
    "    WHERE purchase_amt > 0\n",
    "    GROUP BY 1\n",
    "    ORDER BY 1\n",
    "    ) t\n",
    "ORDER BY 1"
   ]
  },
  {
   "cell_type": "raw",
   "id": "cdc6a33e",
   "metadata": {},
   "source": [
    "法2：i.a表算每个月的rev；ii.b表分别算本月，上月，上上月的rev；c表计算每个月有几个rev；用b和c表join求：avg_rev = sum(revenue) / count(rev)\n",
    "最后grorup by month, avg_count\n",
    "\n",
    "WITH rev AS(\n",
    "SELECT \n",
    "    to_char(created_at, 'YYYY-MM') as month,\n",
    "    sum(purchase_amt) as revenue\n",
    "FROM amazon_purchases\n",
    "WHERE purchase_amt >= 1 \n",
    "GROUP BY 1\n",
    "ORDER BY 1\n",
    "),\n",
    "final AS(\n",
    "SELECT \n",
    "    month,\n",
    "    revenue,\n",
    "    lag(revenue,1) OVER(ORDER BY month) as prev_month,\n",
    "    lag(revenue,2) OVER(ORDER BY month) as prev_2_month\n",
    "FROM rev\n",
    "ORDER BY 1\n",
    "),\n",
    "month_count as(\n",
    "SELECT \n",
    "    month,\n",
    "    (count(revenue) + count(prev_month) + count(prev_2_month)) as avg_count\n",
    "FROM final\n",
    "GROUP BY 1\n",
    "ORDER BY 1\n",
    ")\n",
    "SELECT \n",
    "f.month,\n",
    "sum(COALESCE(f.revenue,0) + COALESCE(f.prev_month,0) + COALESCE(f.prev_2_month,0)) / mc.avg_count AS avg_revenue\n",
    "FROM final f\n",
    "LEFT JOIN month_count mc\n",
    "ON f.month = mc.month\n",
    "GROUP BY f.month, mc.avg_count\n",
    "ORDER BY 1"
   ]
  },
  {
   "cell_type": "markdown",
   "id": "37662db5",
   "metadata": {},
   "source": [
    "# 12.Naive Forecasting\n",
    "\n",
    "\n",
    "Interview Question Date: December 2020\n",
    "\n",
    "Uber\n",
    "Hard\n",
    "ID 10313\n",
    "\n",
    "Some forecasting methods are extremely simple and surprisingly effective. Naïve forecast is one of them; we simply set all forecasts to be the value of the last observation. Our goal is to develop a naïve forecast for a new metric called \"distance per dollar\" defined as the (distance_to_travel/monetary_cost) in our dataset and measure its accuracy.\n",
    "\n",
    "\n",
    "To develop this forecast,  sum \"distance to travel\"  and \"monetary cost\" values at a monthly level before calculating \"distance per dollar\". This value becomes your actual value for the current month. The next step is to populate the forecasted value for each month. This can be achieved simply by getting the previous month's value in a separate column. Now, we have actual and forecasted values. This is your naïve forecast. Let’s evaluate our model by calculating an error matrix called root mean squared error (RMSE). RMSE is defined as sqrt(mean(square(actual - forecast)). Report out the RMSE rounded to the 2nd decimal spot.\n",
    "\n",
    "Table: uber_request_logs"
   ]
  },
  {
   "cell_type": "raw",
   "id": "fa5330d8",
   "metadata": {},
   "source": [
    "square：power(X,2)\n",
    "mean：avg(Y)\n",
    "sqrt：sqrt(Z)\n",
    "2 decimal: round(M::decimal, 2)：如果M不是小数格式的话\n",
    "sum(distance_to_travel) / sum(monetary_cost) <=> avg((distance_to_travel/monetary_cost)"
   ]
  },
  {
   "cell_type": "raw",
   "id": "f017ded4",
   "metadata": {},
   "source": [
    "#法1.1：\n",
    "-- 将预测值定为上一个月的实际值，求预测值和实际值的误差MRSE：\n",
    "-- \"distance per dollar\" defined as the (distance_to_travel/monetary_cost)\n",
    "-- month: sum \"distance to travel\"  and \"monetary cost\" values\n",
    "-- populate the forecasted value for each month. This can be achieved simply by getting the previous month's value in a separate column\n",
    "-- calculating an error matrix called root mean squared error (RMSE).\n",
    "-- sqrt(mean(square(actual - forecast))\n",
    "\n",
    "\n",
    "WITH CTE AS(\n",
    "SELECT\n",
    "    to_char(request_date, 'YYYY-MM') as month,\n",
    "    sum(distance_to_travel) as distance_to_travel_sum, \n",
    "    sum(monetary_cost) as monetary_cost_sum\n",
    "FROM uber_request_logs\n",
    "GROUP BY 1\n",
    "),\n",
    "CTE2 AS(\n",
    "SELECT \n",
    "    month,\n",
    "    distance_to_travel_sum/ monetary_cost_sum as actual_value,\n",
    "    lag(distance_to_travel_sum/ monetary_cost_sum, 1) over(order by month) as forecasted_value\n",
    "FROM CTE\n",
    "ORDER BY 1\n",
    ")\n",
    "SELECT \n",
    "    ROUND(SQRT(AVG(POWER((actual_value - forecasted_value),2)))::DECIMAL,2) AS mrse\n",
    "FROM CTE2"
   ]
  },
  {
   "cell_type": "raw",
   "id": "5d713a41",
   "metadata": {},
   "source": [
    "#法1.2：先求sum(A)/sum(B)，和先写出来sum(A), sum(B),下一个cte再相除，效果是一样的：\n",
    "\n",
    "WITH monthly_actuals AS(\n",
    "SELECT\n",
    "    to_char(request_date, 'YYYY-MM') as month,\n",
    "    sum(distance_to_travel) / sum(monetary_cost) as actual_value\n",
    "FROM uber_request_logs\n",
    "GROUP BY 1\n",
    "),\n",
    "forecast AS(\n",
    "SELECT \n",
    "    *,\n",
    "    LAG(actual_value, 1) OVER (ORDER BY month) as forecasted_value\n",
    "FROM monthly_actuals\n",
    ")\n",
    "SELECT \n",
    "        ROUND(\n",
    "            SQRT(\n",
    "                AVG(\n",
    "                    POWER((actual_value - forecasted_value),2)\n",
    "                    )\n",
    "            )::DECIMAL\n",
    "        ,2) AS mrse\n",
    "FROM forecast"
   ]
  },
  {
   "cell_type": "raw",
   "id": "2399f708",
   "metadata": {},
   "source": [
    "#法3：\n",
    "WITH avg_monthly_dist_per_dollar AS\n",
    "(SELECT \n",
    "    to_char(request_date::date, 'YYYY-MM') as request_mnth,\n",
    "    sum(distance_to_travel) / sum(monetary_cost) AS monthly_dist_per_dollar\n",
    "FROM uber_request_logs\n",
    "GROUP BY 1\n",
    "ORDER BY 1\n",
    "),\n",
    "    naive_forecast AS\n",
    "(\n",
    "SELECT \n",
    "    request_mnth,\n",
    "    monthly_dist_per_dollar,\n",
    "    lag(monthly_dist_per_dollar,1) over (\n",
    "                                        order by request_mnth) \n",
    "                                        as previous_monthly_dist_per_dollar\n",
    "FROM avg_monthly_dist_per_dollar\n",
    "),\n",
    "    power AS(\n",
    "SELECT \n",
    "    request_mnth,\n",
    "    monthly_dist_per_dollar,\n",
    "    previous_monthly_dist_per_dollar,\n",
    "    POWER(previous_monthly_dist_per_dollar - monthly_dist_per_dollar, 2) AS power\n",
    "FROM naive_forecast\n",
    "GROUP BY 1,2,3\n",
    "ORDER BY 1\n",
    ")\n",
    "SELECT round(sqrt(avg(power))::decimal, 2) FROM power"
   ]
  },
  {
   "cell_type": "markdown",
   "id": "988e5ebd",
   "metadata": {},
   "source": [
    "# 13.Class Performance\n",
    "\n",
    "\n",
    "Interview Question Date: December 2020\n",
    "\n",
    "Box\n",
    "Medium\n",
    "ID 10310\n",
    "\n",
    "You are given a table containing assignment scores of students in a class. Write a query that identifies the largest difference in total score  of all assignments.\n",
    "Output just the difference in total score (sum of all 3 assignments) between a student with the highest score and a student with the lowest score.\n",
    "\n",
    "Table: box_scores"
   ]
  },
  {
   "cell_type": "raw",
   "id": "c19be2c1",
   "metadata": {},
   "source": [
    "#法1：\n",
    "SELECT \n",
    "max(assignment1 + assignment2 + assignment3) - min(assignment1 + assignment2 + assignment3) as difference_in_scores\n",
    "FROM box_scores"
   ]
  },
  {
   "cell_type": "raw",
   "id": "ff0efda1",
   "metadata": {},
   "source": [
    "#法2：subquery\n",
    "SELECT\n",
    "    max(score) - min(score) AS difference_in_scores\n",
    "FROM\n",
    "    (SELECT \n",
    "        student,\n",
    "        sum(assignment1 + assignment2 + assignment3) AS score\n",
    "    FROM box_scores\n",
    "    GROUP BY 1\n",
    "    ) t"
   ]
  },
  {
   "cell_type": "markdown",
   "id": "94b8fa4e",
   "metadata": {},
   "source": [
    "# 14. Salaries Differences\n",
    "\n",
    "\n",
    "Interview Question Date: November 2020\n",
    "\n",
    "LinkedIn\n",
    "Dropbox\n",
    "Easy\n",
    "ID 10308\n",
    "\n",
    "Write a query that calculates the difference between the highest salaries found in the marketing and engineering departments. Output just the absolute difference in salaries.\n",
    "\n",
    "Tables: db_employee, db_dept"
   ]
  },
  {
   "cell_type": "raw",
   "id": "5af8bb9c",
   "metadata": {},
   "source": [
    "ABS(max(CASE WHEN X THEN Y END) - min(CASE WHEN M THEN N END)) AS diff\n",
    "SELECT ABS((SELECT A FROM B) - (SELECT C FROM D)) AS diff\n",
    "WHERE A in ('X', 'Y'): 在A中filter出 X 和 Y\n",
    "\n",
    "max(case when A then B else end): 不能错写成case when a then max(sth)\n",
    "max window function最后的end不能丢"
   ]
  },
  {
   "cell_type": "raw",
   "id": "d137902c",
   "metadata": {},
   "source": [
    "#法1：ABS(max(CASE WHEN X THEN Y END) - min(CASE WHEN M THEN N END))\n",
    "\n",
    "SELECT \n",
    "-- max(CASE WHEN department = 'marketing' THEN salary END) AS mrt_max,\n",
    "-- max(CASE WHEN department = 'engineering' THEN salary END) AS eng_max,\n",
    "    ABS(max(CASE WHEN department = 'marketing' THEN salary END) - max(CASE WHEN department = 'engineering' THEN salary END)) AS salary_difference\n",
    "FROM db_employee a\n",
    "JOIN db_dept b\n",
    "ON a.department_id = b.id"
   ]
  },
  {
   "cell_type": "raw",
   "id": "50ff92ed",
   "metadata": {},
   "source": [
    "#法2：where 分别filter出mrt和eng的最大值，在最外面用SELECT ABS(A - B) AS diff 去求，最外面两者相减时不需要from。\n",
    "\n",
    "SELECT ABS(\n",
    "    (SELECT \n",
    "        max(salary)\n",
    "    FROM db_employee emp\n",
    "    JOIN db_dept dpt\n",
    "    ON emp.department_id = dpt.id\n",
    "    WHERE department = 'marketing'\n",
    ")\n",
    "-\n",
    "(\n",
    "    SELECT \n",
    "        max(salary)\n",
    "    FROM db_employee emp\n",
    "    JOIN db_dept dpt\n",
    "    ON emp.department_id = dpt.id\n",
    "    WHERE department = 'engineering'\n",
    ")\n",
    ")AS salary_difference"
   ]
  },
  {
   "cell_type": "raw",
   "id": "773fc9b0",
   "metadata": {},
   "source": [
    "#法3：先单出一列mrt和eng的最大值，再让两者中的max - min 就得了非负整数diff，此处没有用abs：\n",
    "--WHERE A in ('X', 'Y'): 在A中filter出 X 和 Y\n",
    "\n",
    "WITH CTE AS(\n",
    "SELECT \n",
    "    department_id,\n",
    "    max(salary) as highest_salary\n",
    "FROM db_employee e\n",
    "JOIN db_dept d\n",
    "ON d.id = e.department_id\n",
    "WHERE d.department in ('marketing', 'engineering')\n",
    "GROUP BY 1\n",
    ")\n",
    "SELECT \n",
    "    max(highest_salary) - min(highest_salary) AS salary_diff\n",
    "FROM CTE"
   ]
  },
  {
   "cell_type": "markdown",
   "id": "5c094bca",
   "metadata": {},
   "source": [
    "# 15.Risky Projects\n",
    "\n",
    "\n",
    "Interview Question Date: November 2020\n",
    "\n",
    "LinkedIn\n",
    "Medium\n",
    "ID 10304\n",
    "\n",
    "Identify projects that are at risk for going overbudget. A project is considered to be overbudget if the cost of all employees assigned to the project is greater than the budget of the project.\n",
    "\n",
    "\n",
    "You'll need to prorate the cost of the employees to the duration of the project. For example, if the budget for a project that takes half a year to complete is 10K, then the total half-year salary of all employees assigned to the project should not exceed $10K. Salary is defined on a yearly basis, so be careful how to calculate salaries for the projects that last less or more than one year.\n",
    "\n",
    "\n",
    "Output a list of projects that are overbudget with their project name, project budget, and prorated total employee expense (rounded to the next dollar amount).\n",
    "\n",
    "\n",
    "HINT: to make it simpler, consider that all years have 365 days. You don't need to think about the leap years.\n",
    "\n",
    "Tables: linkedin_projects, linkedin_emp_projects, linkedin_employees"
   ]
  },
  {
   "cell_type": "raw",
   "id": "3d288c22",
   "metadata": {},
   "source": [
    "1.如果结果只返回0，不返回0后小数，可以使分子或分母变为float，比如365.00，或者+0.0，即可返回小数点后位数了\n",
    "\n",
    "2.ROUND(X,2), CEILING(X), FLOOR(X)，ceiling和floor没有,2的设置：\n",
    "ROUND UP（向上取整）：CEILING\n",
    "CEILING(3.14) 返回 4，CEILING(5.6) 返回 6\n",
    "ROUND DOWN（向下取整）：FLOOR\n",
    "FLOOR(3.14) 返回 3，FLOOR(5.6) 返回 5\n",
    "ROUND（四舍五入）\n",
    "ROUND(3.14) 返回 3，ROUND(5.6) 返回 6\n",
    "\n",
    "3.计算天数差值 or 除法：DATE_PART('day', X - Y)，但不能在postgre sql中用\n",
    "DATE_PART('day', end_date - start_date)\n",
    "EXTRACT(DAY FROM end_date - start_date) AS duration_days\n",
    "ROUND(COALESCE(CAST(field1 AS DOUBLE), 0)/field2, 2) FROM TB\n",
    "\n",
    "4.--SELECT后的部分可以在having中筛选条件使用\n",
    "\n",
    "5.如果不写::decimal 或 ::float可能会导致最后一位不准"
   ]
  },
  {
   "cell_type": "raw",
   "id": "d3319bd1",
   "metadata": {},
   "source": [
    "overbudget: cost of all employees > budget of project\n",
    "\n",
    "budget: 0.5 yr ~ 10k, then total 0.5 yr salary of all employees < 10k\n",
    "salary yrly basis\n",
    "365 days/ yr\n",
    "\n",
    "output: projects overbudget: name, budget, prorated total employee expense(nt dollar)\n",
    "title, budget, prorated_employee_expense\n",
    "\n",
    "prorated_employee_expense = duration in yr * (sum(salary/ yr))\n",
    "outbudget: budget - pro  < 0 \n",
    "\n",
    "#法1： 预计花费 = 每天salary * 天数 = 起终时间相减得天数；把该项目所有人的salary加起来，再÷ 365 得每天salary \n",
    "WITH prorated_expense AS(\n",
    "SELECT \n",
    "    title,\n",
    "    budget,\n",
    "    (end_date - start_date) AS duration,\n",
    "    SUM(salary) / 365 AS salary_per_day,\n",
    "    (end_date::date - start_date::date) * (SUM(salary) / 365) AS prorated_employee_expense\n",
    "FROM linkedin_projects a\n",
    "JOIN linkedin_emp_projects b\n",
    "ON a.id = b.project_id\n",
    "JOIN linkedin_employees c\n",
    "ON b.emp_id = c.id\n",
    "GROUP BY 1, 2, 3\n",
    "ORDER BY 1, 2\n",
    ")\n",
    "SELECT \n",
    "    title,\n",
    "    budget,\n",
    "    CEILING(prorated_employee_expense) AS prorated_employee_expense\n",
    "FROM prorated_expense\n",
    "WHERE budget < prorated_employee_expense\n",
    "ORDER BY 1"
   ]
  },
  {
   "cell_type": "raw",
   "id": "2546b681",
   "metadata": {},
   "source": [
    "#法2：预计花费 = SUM(年salary * 年数) = SUM(年salary * (END - START)/365 )\n",
    "ROUNDUP: CEILING(X)\n",
    "SELECT后的部分可以在having中筛选条件使用\n",
    "如果不写::decimal 或 ::float就会导致最后一位不准\n",
    "\n",
    "SELECT\n",
    "    title,\n",
    "    budget,\n",
    "    CEILING(SUM(salary * (end_date - start_date)::decimal / 365 )) AS prorated_employee_expense\n",
    "FROM\n",
    "    linkedin_projects AS p JOIN linkedin_emp_projects AS ep ON p.id = ep.project_id\n",
    "                          JOIN linkedin_employees AS e ON ep.emp_id = e.id\n",
    "GROUP BY \n",
    "    title,\n",
    "    budget\n",
    "HAVING budget < CEILING(SUM(salary * (end_date - start_date)::float / 365 ))\n",
    "ORDER BY 1"
   ]
  },
  {
   "cell_type": "markdown",
   "id": "bdc58584",
   "metadata": {},
   "source": [
    "# 16.Top Percentile Fraud\n",
    "\n",
    "\n",
    "Interview Question Date: November 2020\n",
    "\n",
    "Google\n",
    "Netflix\n",
    "Hard\n",
    "ID 10303\n",
    "\n",
    "ABC Corp is a mid-sized insurer in the US and in the recent past their fraudulent claims have increased significantly for their personal auto insurance portfolio. They have developed a ML based predictive model to identify propensity of fraudulent claims. Now, they assign highly experienced claim adjusters for top 5 percentile of claims identified by the model.\n",
    "Your objective is to identify the top 5 percentile of claims from each state. Your output should be policy number, state, claim cost, and fraud score.\n",
    "\n",
    "Table: fraud_score"
   ]
  },
  {
   "cell_type": "raw",
   "id": "0894aa3c",
   "metadata": {},
   "source": [
    "top 5 percentile:\n",
    "NTILE(100) OVER (PARTITION BY STATE ORDER BY fraud_score DESC) AS percentile；percentile <= 5"
   ]
  },
  {
   "cell_type": "raw",
   "id": "899b58f4",
   "metadata": {},
   "source": [
    "SELECT \n",
    "    policy_num,\n",
    "    state,\n",
    "    claim_cost,\n",
    "    fraud_score\n",
    "FROM \n",
    "    (\n",
    "    SELECT \n",
    "        *,\n",
    "        NTILE(100) OVER (PARTITION BY STATE ORDER BY fraud_score DESC) AS percentile\n",
    "    FROM fraud_score\n",
    "    ) t\n",
    "WHERE percentile <= 5"
   ]
  },
  {
   "cell_type": "markdown",
   "id": "d7dd301b",
   "metadata": {},
   "source": [
    "# 17. Distance Per Dollar\n",
    "\n",
    "\n",
    "Interview Question Date: November 2020\n",
    "\n",
    "Uber\n",
    "Hard\n",
    "ID 10302\n",
    "\n",
    "You’re given a dataset of uber rides with the traveling distance (‘distance_to_travel’) and cost (‘monetary_cost’) for each ride. For each date, find the difference between the distance-per-dollar for that date and the average distance-per-dollar for that year-month. Distance-per-dollar is defined as the distance traveled divided by the cost of the ride.\n",
    "\n",
    "\n",
    "The output should include the year-month (YYYY-MM) and the absolute average difference in distance-per-dollar (Absolute value to be rounded to the 2nd decimal).\n",
    "You should also count both success and failed request_status as the distance and cost values are populated for all ride requests. Also, assume that all dates are unique in the dataset. Order your results by earliest request date first.\n",
    "\n",
    "Table: uber_request_logs"
   ]
  },
  {
   "cell_type": "raw",
   "id": "0baa0972",
   "metadata": {},
   "source": [
    "求每天ratio 与 月均ratio 的运算：\n",
    "i.所有, ratio, month\n",
    "ii. date, month, ratio, avg(ratio) over (partition by month) as month_ratio\n",
    "iii. distinct month, round(abs(ratio - month_ratio),2)"
   ]
  },
  {
   "cell_type": "raw",
   "id": "713bf1ff",
   "metadata": {},
   "source": [
    "#法1：求每天ratio 与 月均ratio 的运算：\n",
    "-- i.所有, ratio, month\n",
    "-- ii. date, month, ratio, avg(ratio) over (partition by month) as month_ratio\n",
    "-- iii. distinct month, round(abs(ratio - month_ratio),2)\n",
    "\n",
    "SELECT \n",
    "    DISTINCT\n",
    "    b.request_mnth,\n",
    "    ROUND(ABS(b.dist_to_cost - b.avg_dist_to_cost)::DECIMAL, 2) AS mean_deviation\n",
    "    FROM (\n",
    "    SELECT \n",
    "        a.request_date,\n",
    "        a.request_mnth,\n",
    "        a.dist_to_cost,\n",
    "        AVG(a.dist_to_cost) OVER (PARTITION BY request_mnth) AS avg_dist_to_cost\n",
    "    FROM (\n",
    "    SELECT \n",
    "        *,\n",
    "        (distance_to_travel / monetary_cost) AS dist_to_cost,\n",
    "        to_char(request_date::date, 'YYYY-MM') AS request_mnth\n",
    "    FROM uber_request_logs) a\n",
    "    )b\n",
    "ORDER BY b.request_mnth"
   ]
  },
  {
   "cell_type": "raw",
   "id": "ff079e5c",
   "metadata": {},
   "source": [
    "#法2：\n",
    "WITH avg_distance_per_dollar AS(\n",
    "SELECT \n",
    "    to_char(request_date, 'YYYY-MM') as request_mnth,\n",
    "    AVG((distance_to_travel) / (monetary_cost)) AS avg_distance_per_dollar\n",
    "FROM uber_request_logs\n",
    "GROUP BY 1\n",
    "),\n",
    "distance_per_dollar AS(\n",
    "SELECT \n",
    "    request_date,\n",
    "    to_char(request_date, 'YYYY-MM') as request_mnth,\n",
    "    distance_to_travel / monetary_cost AS distance_per_dollar\n",
    "FROM uber_request_logs \n",
    "),\n",
    "diff AS(\n",
    "SELECT  \n",
    "    request_date,\n",
    "    avg_distance_per_dollar,\n",
    "    distance_per_dollar,\n",
    "    ABS(avg_distance_per_dollar - distance_per_dollar) AS difference\n",
    "FROM distance_per_dollar a\n",
    "LEFT JOIN avg_distance_per_dollar b\n",
    "ON a.request_mnth = b.request_mnth\n",
    "),\n",
    "final AS(\n",
    "SELECT \n",
    "    DISTINCT\n",
    "    to_char(request_date, 'YYYY-MM') AS year_month,\n",
    "    ROUND(difference::DECIMAL,2)\n",
    "FROM diff\n",
    ")\n",
    "SELECT * FROM final\n",
    "ORDER BY 1"
   ]
  },
  {
   "cell_type": "raw",
   "id": "773aba74",
   "metadata": {},
   "source": [
    "#法3：\n",
    "\n",
    "SELECT \n",
    "    request_mnth,\n",
    "    ROUND(AVG(mean_deviation), 2) AS difference\n",
    "FROM \n",
    "    (\n",
    "    SELECT \n",
    "        request_mnth,\n",
    "        ABS(dist_to_cost - monthly_dist_to_cost)::DECIMAL AS mean_deviation\n",
    "    FROM\n",
    "    (\n",
    "        SELECT \n",
    "            to_char(request_date::date, 'YYYY-MM') AS request_mnth,\n",
    "            distance_to_travel / monetary_cost AS dist_to_cost,\n",
    "            SUM(distance_to_travel) OVER (PARTITION BY to_char(request_date::date, 'YYYY-MM'))\n",
    "            / SUM(monetary_cost) OVER (PARTITION BY to_char(request_date::date, 'YYYY-MM')) AS monthly_dist_to_cost\n",
    "        FROM uber_request_logs\n",
    "    ) t\n",
    "    ) t2\n",
    "GROUP BY 1\n",
    "ORDER BY 1"
   ]
  },
  {
   "cell_type": "markdown",
   "id": "fb516061",
   "metadata": {},
   "source": [
    "# 18. Expensive Projects\n",
    "\n",
    "\n",
    "Interview Question Date: November 2020\n",
    "\n",
    "Microsoft\n",
    "Medium\n",
    "ID 10301\n",
    "\n",
    "Given a list of projects and employees mapped to each project, calculate by the amount of project budget allocated to each employee . The output should include the project title and the project budget rounded to the closest integer. Order your list by projects with the highest budget per employee first.\n",
    "\n",
    "Tables: ms_projects, ms_emp_projects"
   ]
  },
  {
   "cell_type": "raw",
   "id": "3c3fca74",
   "metadata": {},
   "source": [
    "1.互换：\n",
    "CEILING(budget / COUNT(emp_id)::DECIMAL) \n",
    "ROUND(budget / COUNT(emp_id)::FLOAT)::numeric, 0)\n",
    "\n",
    "2.如果最后一位差一点，试试::float/ ::decimal/ ::numeric\n",
    "3.ORDER BY 后可直接用alis name"
   ]
  },
  {
   "cell_type": "raw",
   "id": "f38c498b",
   "metadata": {},
   "source": [
    "--budget to employee\n",
    "--output: project, budget_emp_ratio: round to closest int: ceiling\n",
    "--order by ratio desc\n",
    "\n",
    "SELECT \n",
    "    title AS project,\n",
    "    CEILING(budget / COUNT(emp_id)::DECIMAL) AS budget_emp_ratio\n",
    "--    ROUND((budget / COUNT(emp_id)::FLOAT)::numeric, 0) AS budget_emp_ratio\n",
    "FROM ms_projects a\n",
    "JOIN ms_emp_projects b\n",
    "ON a.id = b.project_id\n",
    "GROUP BY title, budget\n",
    "ORDER BY budget_emp_ratio DESC"
   ]
  },
  {
   "cell_type": "markdown",
   "id": "7b6493d8",
   "metadata": {},
   "source": [
    "# 19.Premium vs Freemium\n",
    "\n",
    "\n",
    "Interview Question Date: November 2020\n",
    "\n",
    "Microsoft\n",
    "Hard\n",
    "ID 10300\n",
    "\n",
    "Find the total number of downloads for paying and non-paying users by date. Include only records where non-paying customers have more downloads than paying customers. The output should be sorted by earliest date first and contain 3 columns date, non-paying downloads, paying downloads.\n",
    "\n",
    "Tables: ms_user_dimension, ms_acc_dimension, ms_download_facts"
   ]
  },
  {
   "cell_type": "raw",
   "id": "7ae0253d",
   "metadata": {},
   "source": [
    "1.CASE WHEN 后的END不要忘\n",
    "2.string: yes, no 需要加''\n",
    "3.having 放在group by 后，不可以用alis_name\n",
    "4.case后换行，when接在case后地方，end换行和case对齐"
   ]
  },
  {
   "cell_type": "raw",
   "id": "7e07f1ac",
   "metadata": {},
   "source": [
    "--total number of downloads for pay and non-pay by date\n",
    "--include only download(non-pay) > download(pay)\n",
    "\n",
    "--output: date, non_paying's downloads, paying's downloads:sum(downloads)\n",
    "--sort by date asc\n",
    "\n",
    "SELECT \n",
    "    date,\n",
    "    SUM(CASE \n",
    "            WHEN paying_customer = 'no' THEN downloads \n",
    "        END) AS non_paying,\n",
    "    SUM(CASE \n",
    "            WHEN paying_customer = 'yes' THEN downloads \n",
    "        END) AS paying\n",
    "FROM ms_user_dimension mud\n",
    "JOIN ms_acc_dimension mac\n",
    "ON mud.acc_id = mac.acc_id\n",
    "JOIN ms_download_facts mdf\n",
    "ON mud.user_id = mdf.user_id\n",
    "GROUP BY date\n",
    "HAVING SUM(CASE WHEN paying_customer = 'no' THEN downloads END) > SUM(CASE WHEN paying_customer = 'yes' THEN downloads END)\n",
    "ORDER BY date "
   ]
  },
  {
   "cell_type": "markdown",
   "id": "701ecbc7",
   "metadata": {},
   "source": [
    "# 20. Finding Updated Records\n",
    "\n",
    "\n",
    "Interview Question Date: November 2020\n",
    "\n",
    "Microsoft\n",
    "Easy\n",
    "\n",
    "We have a table with employees and their salaries, however, some of the records are old and contain outdated salary information. Find the current salary of each employee assuming that salaries increase each year. Output their id, first name, last name, department ID, and current salary. Order your list by employee ID in ascending order.\n",
    "\n",
    "Table: ms_employee_salary"
   ]
  },
  {
   "cell_type": "raw",
   "id": "74fbfac3",
   "metadata": {},
   "source": [
    "SELECT \n",
    "    id,\n",
    "    first_name,\n",
    "    last_name,\n",
    "    department_id,\n",
    "    max(salary) AS max\n",
    "FROM ms_employee_salary\n",
    "GROUP BY 1,2,3,4\n",
    "ORDER BY 1"
   ]
  },
  {
   "cell_type": "markdown",
   "id": "136ea788",
   "metadata": {},
   "source": [
    "# 21.Comments Distribution\n",
    "\n",
    "\n",
    "Interview Question Date: November 2020\n",
    "\n",
    "Meta/Facebook\n",
    "Hard\n",
    "ID 10297\n",
    "\n",
    "Write a query to calculate the distribution of comments by the count of users that joined Meta/Facebook between 2018 and 2020, for the month of January 2020.\n",
    "\n",
    "\n",
    "The output should contain a count of comments and the corresponding number of users that made that number of comments in Jan-2020. For example, you'll be counting how many users made 1 comment, 2 comments, 3 comments, 4 comments, etc in Jan-2020. Your left column in the output will be the number of comments while your right column in the output will be the number of users. Sort the output from the least number of comments to highest.\n",
    "\n",
    "\n",
    "To add some complexity, there might be a bug where an user post is dated before the user join date. You'll want to remove these posts from the result.\n",
    "\n",
    "Tables: fb_users, fb_comments"
   ]
  },
  {
   "cell_type": "raw",
   "id": "3ff4669e",
   "metadata": {},
   "source": [
    "①算 count(comments)~ count(users)\n",
    "i. user_id, count(comments) as cmt_count, group by 1\n",
    "ii. cmt_count, count(user_id) as user_count, group by 1\n",
    "\n",
    "②COUNT(*) 与 COUNT(X_id) 在一些时候效果相同可替换\n",
    "\n",
    "③BETWEEN 'A' AND 'B'::DATE\n",
    "\n",
    "④考虑是否有等于号=：joined <= created ：考虑join当天发帖的人\n",
    "\n",
    "⑤先join两表，列出最细level的变量，再继续整理计算"
   ]
  },
  {
   "cell_type": "raw",
   "id": "f6e2ff0a",
   "metadata": {},
   "source": [
    "--comments by the # users joined between 18 and Jan 20；time:for the month of January 2020.\n",
    "--output: comment_cnt：#com ； user_cnt#users\n",
    "--a count of comments and # of users join 18-20 that made that # of comments in Jan 2020\n",
    "    -- join date of 18 and 20; comment date of jan 20\n",
    "--eg. #users~1comment, 2 comments, 3 comments, 4, etc.--\n",
    "--sort #com asc\n",
    "--bug: user post date < user join date: remove\n",
    "\n",
    "\n",
    "--法1：cte\n",
    "WITH comment_cnt AS(\n",
    "SELECT \n",
    "    b.user_id,\n",
    "    COUNT(b.created_at) AS comment_cnt                                --COUNT(*)也可以\n",
    "    FROM fb_users a\n",
    "    JOIN fb_comments b\n",
    "    ON a.id = b.user_id\n",
    "    WHERE (b.created_at BETWEEN '2020-01-01' AND '2020-01-31'::DATE)      --BETWEEN 'A' AND 'B'::DATE\n",
    "    AND (a.joined_at BETWEEN '2018-01-01' AND '2020-12-31'::DATE)  \n",
    "    AND joined_at <= created_at                                       --joined <= created ：考虑join当天发帖的人\n",
    "    GROUP BY 1\n",
    "    ORDER BY 2\n",
    "),\n",
    "    user_cnt AS(\n",
    "    SELECT \n",
    "        comment_cnt,\n",
    "        COUNT(user_id) AS user_cnt\n",
    "    FROM comment_cnt\n",
    "    GROUP BY 1\n",
    "    ORDER BY 1\n",
    "    )\n",
    "SELECT * \n",
    "FROM user_cnt"
   ]
  },
  {
   "cell_type": "raw",
   "id": "8f48658f",
   "metadata": {},
   "source": [
    "法2：subquery\n",
    "subquery写法：写新FROM，在from后(，在上次code句末)，将上次code整体tab\n",
    "subquery写法：先join两表，把最细level的变量都挑出来，再count comment, 再count user\n",
    "SELECT \n",
    "    comment_cnt,\n",
    "    COUNT(id) AS user_cnt\n",
    "FROM (\n",
    "    SELECT\n",
    "        t.id,\n",
    "        COUNT(t.user_id) as comment_cnt\n",
    "    FROM (\n",
    "        SELECT \n",
    "            a.id,\n",
    "            a.joined_at,\n",
    "            b.user_id,\n",
    "            b.created_at\n",
    "        FROM fb_users a\n",
    "        JOIN fb_comments b\n",
    "        ON a.id = b.user_id\n",
    "        WHERE (b.created_at BETWEEN '2020-01-01' AND '2020-01-31')      \n",
    "        AND (a.joined_at BETWEEN '2018-01-01' AND '2020-12-31')\n",
    "        AND joined_at <= created_at) t                              \n",
    "    GROUP BY t.id ) c\n",
    "GROUP BY comment_cnt\n",
    "ORDER BY comment_cnt ASC"
   ]
  },
  {
   "cell_type": "markdown",
   "id": "4009db0f",
   "metadata": {},
   "source": [
    "# 22.Most Active Users On Messenger\n",
    "\n",
    "\n",
    "Interview Question Date: November 2020\n",
    "\n",
    "Meta/Facebook\n",
    "Medium\n",
    "ID 10295\n",
    "\n",
    "Meta/Facebook Messenger stores the number of messages between users in a table named 'fb_messages'. In this table 'user1' is the sender, 'user2' is the receiver, and 'msg_count' is the number of messages exchanged between them.\n",
    "Find the top 10 most active users on Meta/Facebook Messenger by counting their total number of messages sent and received. Your solution should output usernames and the count of the total messages they sent or received\n",
    "\n",
    "Table: fb_messages"
   ]
  },
  {
   "cell_type": "raw",
   "id": "f11594b3",
   "metadata": {},
   "source": [
    "0. union and union all:\n",
    "此题应该用UNION ALL，\n",
    "因为如果union user1 and user2 后出现相同记录，但代表的含义不同的需要全部保留\n",
    "如union后出现两条记录：UserA, 5，分别表示sendA发了5条信息和receiverA收了5条信息\n",
    "union all是全部保留，用union则distinct记录\n",
    "\n",
    "1理解：msg_count:既是user1发的数字，也是user2收的数字。\n",
    "2如果想要进行的数值列在名字列之前，依然可以照常计算：user2, sum(msg_count)；user_name, sum(msg_count)\n",
    "\n",
    "3union法：\n",
    "i. 求user1发的数:user1, msg_count\n",
    "ii.求user2收的数:user2, msg_count\n",
    "iii.把user1 发的数UNION user2收的数，是每个user收发的数明细\n",
    "iv.user_name, sum(count) 是每个user收发总数\n",
    "注：可以先sum 再union；也可以先union再sum\n",
    "\n",
    "4self join法：\n",
    "i.先求发过&收过消息的所有人名单表：distinct u1 union distinct u2 as user_name\n",
    "ii.再将原表 a 和新表 b join, on a.user1 = b.user_name OR a.user2 = b.user_name，\n",
    "得所有人名单收发明细：加新列命名user_name，出：user1, user2，user1和user1, user2，user2\n",
    "    id\tdate\tuser1\tuser2\tmsg_count\tuser_name\n",
    "    1\t2020-08-02\tkpena\tscottmartin\t2\tkpena\n",
    "    1\t2020-08-02\tkpena\tscottmartin\t2\tscottmartin\n",
    "iii. 取user_name, sum(msg_count), group by 1，得所有人，收发总数\n",
    "\n",
    "5limit和rank互换法：\n",
    "rank需要多写一个query，但对于数值相同的记录处理稳妥，不会少。partition可以省略。\n",
    "limit适用于没有数值相同的记录。"
   ]
  },
  {
   "cell_type": "raw",
   "id": "dbfd0f15",
   "metadata": {},
   "source": [
    "#messages IN users table:fb_messages\n",
    "TOP 10 most active user by counting total #messages sent & received\n",
    "output: usernames, total_msg_count：count of total mess sent & received\n",
    "\n",
    "法1：\n",
    "SELECT user_name, SUM(msg_count) AS total_messages\n",
    "FROM\n",
    "(\n",
    "    SELECT user1 AS user_name, msg_count\n",
    "    FROM fb_messages\n",
    "    UNION ALL\n",
    "    SELECT user2 AS user_name, msg_count\n",
    "    FROM fb_messages\n",
    ") AS subquery\n",
    "GROUP BY user_name\n",
    "ORDER BY total_messages DESC\n",
    "LIMIT 10"
   ]
  },
  {
   "cell_type": "raw",
   "id": "a1f55f4e",
   "metadata": {},
   "source": [
    "法2.1：先SUM再UNION, limit\n",
    "SELECT *\n",
    "FROM(\n",
    "    SELECT \n",
    "        user1 AS user_name,\n",
    "        SUM(msg_count) AS s_r_sum\n",
    "    FROM fb_messages\n",
    "    GROUP BY user1\n",
    "    UNION \n",
    "    SELECT \n",
    "        user2 AS user_name,\n",
    "        SUM(msg_count) AS s_r_sum\n",
    "    FROM fb_messages\n",
    "    GROUP BY user2\n",
    "    ) t\n",
    "ORDER BY 2 DESC\n",
    "LIMIT 10"
   ]
  },
  {
   "cell_type": "raw",
   "id": "d3093065",
   "metadata": {},
   "source": [
    "法2.2：先SUM再UNION, rank\n",
    "SELECT\n",
    "    user_name,\n",
    "    total_msg_count\n",
    "    FROM(\n",
    "    SELECT \n",
    "        user_name,\n",
    "        SUM(s_r_sum) AS total_msg_count,\n",
    "        RANK() OVER (ORDER BY SUM(s_r_sum) DESC) AS rnk\n",
    "    FROM(\n",
    "        SELECT \n",
    "            user1 AS user_name,\n",
    "            SUM(msg_count) AS s_r_sum\n",
    "        FROM fb_messages\n",
    "        GROUP BY user1\n",
    "        UNION \n",
    "        SELECT \n",
    "            user2 AS user_name,\n",
    "            SUM(msg_count) AS s_r_sum\n",
    "        FROM fb_messages\n",
    "        GROUP BY user2\n",
    "        ) t\n",
    "    GROUP BY user_name,s_r_sum) t2\n",
    "    WHERE rnk <= 10\n",
    "    ORDER BY total_msg_count DESC"
   ]
  },
  {
   "cell_type": "raw",
   "id": "149f8e9f",
   "metadata": {},
   "source": [
    "法3：self join\n",
    "i.先求发过&收过消息的所有人名单表：distinct u1 union distinct u2 as user_name\n",
    "ii.再将原表 a 和新表 b join, on a.user1 = b.user_name OR a.user2 = b.user_name，\n",
    "得所有人名单收发明细：加新列命名user_name，出：user1, user2，user1和user1, user2，user2\n",
    "    id\tdate\tuser1\tuser2\tmsg_count\tuser_name\n",
    "    1\t2020-08-02\tkpena\tscottmartin\t2\tkpena\n",
    "    1\t2020-08-02\tkpena\tscottmartin\t2\tscottmartin\n",
    "iii. 取user_name, sum(msg_count), group by 1，得所有人，收发总数\n",
    "\n",
    "SELECT \n",
    "    u.user_name, SUM(m.msg_count) AS total_messages\n",
    "FROM fb_messages m\n",
    "JOIN (\n",
    "    SELECT DISTINCT user1 AS user_name FROM fb_messages\n",
    "    UNION\n",
    "    SELECT DISTINCT user2 AS user_name FROM fb_messages\n",
    ") u ON m.user1 = u.user_name OR m.user2 = u.user_name\n",
    "GROUP BY u.user_name\n",
    "ORDER BY total_messages DESC\n",
    "LIMIT 10"
   ]
  },
  {
   "cell_type": "raw",
   "id": "981f5a05",
   "metadata": {},
   "source": [
    "WITH user_name AS(\n",
    "    SELECT DISTINCT user1 AS user_name FROM fb_messages\n",
    "    UNION \n",
    "    SELECT DISTINCT user2 AS user_name FROM fb_messages\n",
    "),\n",
    "    final AS(\n",
    "    SELECT *\n",
    "    FROM fb_messages a\n",
    "    JOIN user_name b\n",
    "    ON a.user1 = b.user_name OR a.user2 = user_name\n",
    "    ORDER BY 1\n",
    "    )\n",
    "SELECT \n",
    "    user_name AS username,\n",
    "    SUM(msg_count) AS total_msg_count\n",
    "FROM final\n",
    "GROUP BY 1\n",
    "ORDER BY 2 DESC\n",
    "LIMIT 10"
   ]
  },
  {
   "cell_type": "markdown",
   "id": "e7b5544e",
   "metadata": {},
   "source": [
    "# 23.SMS Confirmations From Users\n",
    "\n",
    "\n",
    "Interview Question Date: November 2020\n",
    "\n",
    "Meta/Facebook\n",
    "Medium\n",
    "\n",
    "Meta/Facebook sends SMS texts when users attempt to 2FA (2-factor authenticate) into the platform to log in. In order to successfully 2FA they must confirm they received the SMS text message. Confirmation texts are only valid on the date they were sent.\n",
    "\n",
    "\n",
    "Unfortunately, there was an ETL problem with the database where friend requests and invalid confirmation records were inserted into the logs, which are stored in the 'fb_sms_sends' table. These message types should not be in the table.\n",
    "\n",
    "\n",
    "Fortunately, the 'fb_confirmers' table contains valid confirmation records so you can use this table to identify SMS text messages that were confirmed by the user.\n",
    "\n",
    "\n",
    "Calculate the percentage of confirmed SMS texts for August 4, 2020. Be aware that there are multiple message types, the ones you're interested in are messages with type equal to 'message'.\n",
    "\n",
    "Tables: fb_sms_sends, fb_confirmers"
   ]
  },
  {
   "cell_type": "raw",
   "id": "ddb35cef",
   "metadata": {},
   "source": [
    "求部分占整体的比率：\n",
    "i. 求部分的query:可以多放一些细节level\n",
    "ii. 求整体的query\n",
    "iii. 整体 left join 部分 ON 整体1 = 部分1 AND 整体2 = 部分2：出现以整体为准，部分与之match的表格，可能出现match部分为null的情况\n",
    "iv. count(部分.id) / count(整体.id) ::float ：得出比率（此处可以填写两个表的任意变量，结果不变）"
   ]
  },
  {
   "cell_type": "raw",
   "id": "15f3b258",
   "metadata": {},
   "source": [
    "WITH send AS(\n",
    "    SELECT\n",
    "        ds,\n",
    "        phone_number,\n",
    "        type\n",
    "    FROM fb_sms_sends\n",
    "    WHERE type = 'message'\n",
    "    ),\n",
    "    confirmed AS(\n",
    "    SELECT \n",
    "        date,\n",
    "        phone_number\n",
    "    FROM fb_confirmers\n",
    "    )\n",
    "SELECT \n",
    "    COUNT(b.phone_number) / COUNT(a.phone_number)::float * 100 AS perc\n",
    "FROM send a\n",
    "LEFT JOIN confirmed b\n",
    "ON a.ds = b.date AND a.phone_number = b.phone_number\n",
    "WHERE a.ds = '08-04-2020'"
   ]
  },
  {
   "cell_type": "markdown",
   "id": "9a33bc31",
   "metadata": {},
   "source": [
    "# 24. Acceptance Rate By Date\n",
    "\n",
    "\n",
    "Interview Question Date: November 2020\n",
    "\n",
    "Meta/Facebook\n",
    "Medium\n",
    "ID 10285\n",
    "\n",
    "What is the overall friend acceptance rate by date? Your output should have the rate of acceptances by the date the request was sent. Order by the earliest date to latest.\n",
    "\n",
    "\n",
    "Assume that each friend request starts by a user sending (i.e., user_id_sender) a friend request to another user (i.e., user_id_receiver) that's logged in the table with action = 'sent'. If the request is accepted, the table logs action = 'accepted'. If the request is not accepted, no record of action = 'accepted' is logged."
   ]
  },
  {
   "cell_type": "raw",
   "id": "76a0aa58",
   "metadata": {},
   "source": [
    "--friend acc rate by date\n",
    "--output: date：request sent date, percentage_acceptance：acc rate\n",
    "--order by date \n",
    "\n",
    "--(sent, accepted) / sent\n",
    "\n",
    "SELECT\n",
    "a.date,\n",
    "COUNT(b.user_id_receiver) / COUNT(a.user_id_sender)::float AS acceptance_rate --b.后写其他b表变量也可；a.后写其他a表变量也可\n",
    "FROM (\n",
    "SELECT \n",
    "    user_id_sender,\n",
    "    user_id_receiver,\n",
    "    date,\n",
    "    action\n",
    "FROM fb_friend_requests\n",
    "WHERE action = 'sent') a\n",
    "LEFT JOIN (\n",
    "    SELECT \n",
    "        user_id_sender,\n",
    "        user_id_receiver,\n",
    "        date,\n",
    "        action\n",
    "    FROM fb_friend_requests\n",
    "    WHERE action = 'accepted') b \n",
    "ON b.user_id_sender = a.user_id_sender                         -- ① 所有变量：send left join acc on sender_id = sender id and receiver_id = receiver_id\n",
    "AND b.user_id_receiver = a.user_id_receiver\n",
    "GROUP BY 1                                                     -- ② group by date, count(acc.receiver_id) / count(send.sender_id) = acceptance rate\n",
    "ORDER BY 1 DESC"
   ]
  },
  {
   "cell_type": "markdown",
   "id": "82dc824f",
   "metadata": {},
   "source": [
    "# 25. Popularity Percentage\n",
    "\n",
    "\n",
    "Interview Question Date: November 2020\n",
    "\n",
    "Meta/Facebook\n",
    "Hard\n",
    "ID 10284\n",
    "\n",
    "Find the popularity percentage for each user on Meta/Facebook. The popularity percentage is defined as the total number of friends the user has divided by the total number of users on the platform, then converted into a percentage by multiplying by 100.\n",
    "Output each user along with their popularity percentage. Order records in ascending order by user id.\n",
    "The 'user1' and 'user2' column are pairs of friends.\n",
    "\n",
    "Table: facebook_friends"
   ]
  },
  {
   "cell_type": "raw",
   "id": "7543e940",
   "metadata": {},
   "source": [
    "①用UNION让第一列包含所有用户\n",
    "第一列是所有用户名，第二列是他的朋友的总表：\n",
    "SELECT u1, u2 FROM facebook_friends \n",
    "UNION\n",
    "SELECT u2, u1 FROM facebook_friends \n",
    "\n",
    "②在第一列维度下，第二列在一行内实现 部分与整体 的比率\n",
    "第一列是用户名，第二列是流行率：他的朋友数 / 平台用户总数\n",
    "SELECT \n",
    "user1,\n",
    "COUNT(user2) / (SELECT COUNT(DISTINCT user1) FROM total)::float * 100\n",
    "FROM total\n",
    "user1, count(*) or user1, count(user_2)是在算每个user的朋友数; \n",
    "distinct user1 from total 是平台所有用户数"
   ]
  },
  {
   "cell_type": "raw",
   "id": "d65386fb",
   "metadata": {},
   "source": [
    "WITH total AS(\n",
    "SELECT \n",
    "    DISTINCT\n",
    "    user1, \n",
    "    user2  \n",
    "    FROM facebook_friends\n",
    "    UNION \n",
    "    SELECT\n",
    "    user2,\n",
    "    user1\n",
    "    FROM facebook_friends\n",
    "    ORDER BY 1\n",
    "),\n",
    "friends AS(\n",
    "    SELECT \n",
    "    user1,\n",
    "    COUNT(user2) / (SELECT COUNT(DISTINCT user1) FROM total)::float * 100 AS popularity_percent\n",
    "    FROM total\n",
    "    GROUP BY 1\n",
    "    ORDER BY 1\n",
    " ) \n",
    "SELECT * FROM friends"
   ]
  },
  {
   "cell_type": "raw",
   "id": "ad7bb219",
   "metadata": {},
   "source": [
    "WITH total AS(\n",
    "    SELECT \n",
    "        DISTINCT\n",
    "        user1 AS user\n",
    "        FROM facebook_friends\n",
    "        UNION \n",
    "        SELECT\n",
    "        user2 AS user\n",
    "        FROM facebook_friends\n",
    "        ORDER BY 1\n",
    "    ),\n",
    "    total_count AS(\n",
    "    SELECT *                                     --求出总数\n",
    "    FROM total),\n",
    "    friends AS(\n",
    "        SELECT \n",
    "        user1,\n",
    "        COUNT(user2) AS friend                   --第一列的为user, count后面的user数\n",
    "        FROM facebook_friends\n",
    "        GROUP BY 1\n",
    "        UNION                                     --UNION\n",
    "        SELECT\n",
    "        user2,                                    --第二列的为user, count前面的user数\n",
    "        COUNT(user1) AS friend\n",
    "    FROM facebook_friends\n",
    "    GROUP BY 1\n",
    "    ),\n",
    "    friends_count AS(\n",
    "    SELECT \n",
    "        user1,\n",
    "        SUM(friend) AS friends_count             --求出每个user的friend数\n",
    "    FROM friends\n",
    "    GROUP BY 1\n",
    "    ORDER BY 1\n",
    "    ),\n",
    "    final AS(\n",
    "    SELECT \n",
    "        user1,\n",
    "        friends_count / (SELECT COUNT(*) FROM total_count) * 100 AS popularity_percent          --每个user的friend数/total数：total可以用select * from total\n",
    "    FROM friends_count\n",
    "    )\n",
    "SELECT * FROM final"
   ]
  },
  {
   "cell_type": "markdown",
   "id": "2ef43b58",
   "metadata": {},
   "source": [
    "# 26.Find the top-ranked songs for the past 20 years.\n",
    "\n",
    "\n",
    "Spotify\n",
    "Medium\n",
    "ID 10283\n",
    "\n",
    "Find all the songs that were top-ranked (at first position) at least once in the past 20 years\n",
    "\n",
    "Table: billboard_top_100_year_end"
   ]
  },
  {
   "cell_type": "raw",
   "id": "fc508df4",
   "metadata": {},
   "source": [
    "过去N年:date_part要加''，extract不加''\n",
    "DATE_PART('year', CURRENT_DATE) - year <= N\n",
    "EXTRACT(year from CURRENT_DATE) - year <= 20"
   ]
  },
  {
   "cell_type": "raw",
   "id": "2ace915e",
   "metadata": {},
   "source": [
    "SELECT\n",
    "    DISTINCT\n",
    "    song_name\n",
    "FROM billboard_top_100_year_end\n",
    "WHERE DATE_PART('year', CURRENT_DATE) - year <= 20\n",
    "--WHERE extract(year from current_date) - year <= 20\n",
    "--WHERE year BETWEEN 2003 AND 2023\n",
    "AND year_rank = 1"
   ]
  },
  {
   "cell_type": "markdown",
   "id": "56c8ef24",
   "metadata": {},
   "source": [
    "# 27.Find all inspections which are part of an inactive program\n",
    "City of Los Angeles\n",
    "Easy\n",
    "ID 10277\n",
    "\n",
    "Find all inspections which are part of an inactive program."
   ]
  },
  {
   "cell_type": "raw",
   "id": "bc7bf7d4",
   "metadata": {},
   "source": [
    "WHERE filter 条件：\n",
    "ilike '%inactive'\n",
    "= 'INACTIVE'"
   ]
  },
  {
   "cell_type": "raw",
   "id": "b9b77342",
   "metadata": {},
   "source": [
    "SELECT *\n",
    "FROM los_angeles_restaurant_health_inspections\n",
    "WHERE program_status = 'INACTIVE'"
   ]
  },
  {
   "cell_type": "markdown",
   "id": "7affd9bf",
   "metadata": {},
   "source": [
    "# 28. Find the total number of available beds per hosts' nationality\n",
    "\n",
    "\n",
    "Airbnb\n",
    "Medium\n",
    "ID 10187\n",
    "\n",
    "Find the total number of available beds per hosts' nationality.\n",
    "Output the nationality along with the corresponding total number of available beds.\n",
    "Sort records by the total available beds in descending order.\n",
    "\n",
    "Tables: airbnb_apartments, airbnb_hosts"
   ]
  },
  {
   "cell_type": "raw",
   "id": "0ec2bbe7",
   "metadata": {},
   "source": [
    "当两张表中都有看起来需要的变量时，多留意下从哪张表取：\n",
    "第一张表中的country是room所在country；要host nationality要在第二张表中找\n",
    "\n",
    "/*\n",
    "auto_comment_out_words\n",
    "*/"
   ]
  },
  {
   "cell_type": "raw",
   "id": "112393bb",
   "metadata": {},
   "source": [
    "SELECT \n",
    "    b.nationality,\n",
    "    SUM(n_beds) AS total_beds_available\n",
    "    -- country AS nationality, -- 这是room的country，∴ ×\n",
    "FROM \n",
    "    airbnb_apartments a\n",
    "INNER JOIN \n",
    "    airbnb_hosts b\n",
    "ON \n",
    "    a.host_id = b.host_id\n",
    "GROUP BY \n",
    "    nationality\n",
    "ORDER BY \n",
    "    total_beds_available DESC"
   ]
  },
  {
   "cell_type": "markdown",
   "id": "f069a576",
   "metadata": {},
   "source": [
    "# 29.Order all countries by the year they first participated in the Olympics\n",
    "\n",
    "\n",
    "ESPN\n",
    "Easy\n",
    "ID 10184\n",
    "\n",
    "Order all countries by the year they first participated in the Olympics.\n",
    "\n",
    "Output the National Olympics Committee (NOC) name along with the desired year.\n",
    "\n",
    "Sort records by the year and the NOC in ascending order.\n",
    "\n",
    "Table: olympics_athletes_events"
   ]
  },
  {
   "cell_type": "raw",
   "id": "f6288d33",
   "metadata": {},
   "source": [
    "求AB为1组，每组的第一个值：\n",
    "RANK 法：RANK() OVER (PARTITION BY noc ORDER BY year ASC) AS rnk\n",
    "MIN法：A, MIN(B) + group by 1 "
   ]
  },
  {
   "cell_type": "raw",
   "id": "79b6d6fd",
   "metadata": {},
   "source": [
    "/*\n",
    "year first in Olympic, countries\n",
    "output: noc, first_time_year\n",
    "sort year, NOC in asc\n",
    "*/\n",
    "\n",
    "-- RANK 法：RANK() OVER (PARTITION BY noc ORDER BY year ASC) AS rnk\n",
    "WITH rnk AS(\n",
    "SELECT\n",
    "    noc,\n",
    "    year,\n",
    "    RANK() OVER (PARTITION BY noc ORDER BY year ASC) AS rnk\n",
    "FROM olympics_athletes_events\n",
    ")\n",
    "SELECT \n",
    "    DISTINCT\n",
    "    noc,\n",
    "    year AS first_time_year\n",
    "FROM rnk\n",
    "WHERE rnk = 1"
   ]
  },
  {
   "cell_type": "raw",
   "id": "dc6b0187",
   "metadata": {},
   "source": [
    "--MIN法：A, MIN(B) + group by 1 求AB为1组，每组的第一个值\n",
    "SELECT \n",
    "    noc,\n",
    "    MIN(year) AS first_time_year\n",
    "FROM olympics_athletes_events\n",
    "GROUP BY 1\n",
    "ORDER BY 1,2"
   ]
  },
  {
   "cell_type": "markdown",
   "id": "2a78fd45",
   "metadata": {},
   "source": [
    "# 30.Total Cost Of Orders\n",
    "\n",
    "\n",
    "Interview Question Date: July 2020\n",
    "\n",
    "Amazon\n",
    "Etsy\n",
    "Easy\n",
    "ID 10183\n",
    "\n",
    "Find the total cost of each customer's orders. Output customer's id, first name, and the total order cost. Order records by customer's first name alphabetically.\n",
    "\n",
    "Tables: customers, orders"
   ]
  },
  {
   "cell_type": "raw",
   "id": "88a337d2",
   "metadata": {},
   "source": [
    "--total cost of each customer's orders\n",
    "--output: id：customer's id；first_name, sum： total order cost\n",
    "--order by first name asc\n",
    "\n",
    "SELECT \n",
    "    c.id,\n",
    "    c.first_name,\n",
    "    SUM(o.total_order_cost) AS sum\n",
    "FROM customers c\n",
    "JOIN orders o\n",
    "ON c.id = o.cust_id\n",
    "GROUP BY c.id, \n",
    "        c.first_name\n",
    "ORDER BY c.first_name ASC"
   ]
  },
  {
   "cell_type": "markdown",
   "id": "e7fd0b0c",
   "metadata": {},
   "source": [
    "# 31.Find the lowest score for each facility in Hollywood Boulevard\n",
    "\n",
    "\n",
    "Interview Question Date: July 2020\n",
    "\n",
    "City of Los Angeles\n",
    "City of San Francisco\n",
    "Tripadvisor\n",
    "Medium\n",
    "ID 10180\n",
    "\n",
    "Find the lowest score per each facility in Hollywood Boulevard.\n",
    "Output the result along with the corresponding facility name.\n",
    "Order the result based on the lowest score in descending order and the facility name in the ascending order.\n",
    "\n",
    "Table: los_angeles_restaurant_health_inspections"
   ]
  },
  {
   "cell_type": "raw",
   "id": "c1a572e6",
   "metadata": {},
   "source": [
    "前后模糊搜索：ILIKE '%HOLLYWOOD BLVD%'\n",
    "--'%hollywood%b%l%v%d%'"
   ]
  },
  {
   "cell_type": "raw",
   "id": "ea923639",
   "metadata": {},
   "source": [
    "--lowest score per facility in HB\n",
    "--output: facility_name, min_score\n",
    "--order lowest score desc, facility name in asc\n",
    "\n",
    "SELECT\n",
    "    facility_name,\n",
    "    MIN(score) AS min_score\n",
    "FROM los_angeles_restaurant_health_inspections\n",
    "WHERE facility_address ILIKE '%HOLLYWOOD BLVD%'\n",
    "GROUP BY facility_name\n",
    "ORDER BY min_score DESC, facility_name ASC"
   ]
  },
  {
   "cell_type": "markdown",
   "id": "4fa1418e",
   "metadata": {},
   "source": [
    "# 32.Businesses Open On Sunday\n",
    "\n",
    "\n",
    "Yelp\n",
    "Medium\n",
    "ID 10178\n",
    "\n",
    "Find the number of businesses that are open on Sundays. Output the slot of operating hours along with the corresponding number of businesses open during those time slots. Order records by total number of businesses opened during those hours in descending order.\n",
    "\n",
    "Tables: yelp_business_hours, yelp_business"
   ]
  },
  {
   "cell_type": "raw",
   "id": "96c61549",
   "metadata": {},
   "source": [
    "SELECT \n",
    "    DISTINCT\n",
    "    a.Sunday,\n",
    "    COUNT(is_open) AS total_business       --COUNT(*)也可以\n",
    "FROM yelp_business_hours a\n",
    "JOIN yelp_business b\n",
    "ON a.business_id = b.business_id\n",
    "WHERE is_open = 1 AND sunday IS NOT NULL\n",
    "GROUP BY 1\n",
    "ORDER BY 2 DESC"
   ]
  },
  {
   "cell_type": "markdown",
   "id": "ab9e985f",
   "metadata": {},
   "source": [
    "# 33.Bikes Last Used\n",
    "\n",
    "\n",
    "Lyft\n",
    "DoorDash\n",
    "Easy\n",
    "ID 10176\n",
    "\n",
    "Find the last time each bike was in use. Output both the bike number and the date-timestamp of the bike's last use (i.e., the date-time the bike was returned). Order the results by bikes that were most recently used.\n",
    "\n",
    "Table: dc_bikeshare_q1_2012"
   ]
  },
  {
   "cell_type": "raw",
   "id": "30740e7f",
   "metadata": {},
   "source": [
    "--last time each bike in use\n",
    "--output: bike_number：bike number；last_used：date last use\n",
    "--order by most recent used\n",
    "\n",
    "--1.RANK法：\n",
    "WITH rnk AS(\n",
    "SELECT \n",
    "    bike_number,\n",
    "    end_time AS last_used,\n",
    "    RANK() OVER (PARTITION BY bike_number ORDER BY end_time DESC) AS rnk\n",
    "FROM dc_bikeshare_q1_2012\n",
    "GROUP BY bike_number, end_time                        --rank()前group by所有变量\n",
    ")\n",
    "SELECT \n",
    "    bike_number,\n",
    "    last_used\n",
    "FROM rnk\n",
    "WHERE rnk = 1"
   ]
  },
  {
   "cell_type": "raw",
   "id": "559e831c",
   "metadata": {},
   "source": [
    "2.MAX法：\n",
    "SELECT \n",
    "     bike_number,\n",
    "     MAX(end_time) AS last_used\n",
    "FROM dc_bikeshare_q1_2012\n",
    "GROUP BY bike_number\n",
    "ORDER BY 2 DESC"
   ]
  },
  {
   "cell_type": "markdown",
   "id": "af83a794",
   "metadata": {},
   "source": [
    "# 34.Days At Number One\n",
    "\n",
    "\n",
    "Spotify\n",
    "Hard\n",
    "ID 10173\n",
    "\n",
    "Find the number of days a US track has stayed in the 1st position for both the US and worldwide rankings. Output the track name and the number of days in the 1st position. Order your output alphabetically by track name.\n",
    "\n",
    "\n",
    "If the region 'US' appears in dataset, it should be included in the worldwide ranking.\n",
    "\n",
    "Tables: spotify_daily_rankings_2017_us, spotify_worldwide_daily_song_ranking"
   ]
  },
  {
   "cell_type": "raw",
   "id": "2b055e5d",
   "metadata": {},
   "source": [
    "法1：整体left join部分\n",
    "世界；US；世界left join US: date = date and name = name; filter 世界榜1US榜1交集：a.date is not null and b.date is not null；name, count(*)\n",
    "    \n",
    "法2.1：inner join; count(*)\n",
    "us inner join world; date = date name = name：既在US也在世界榜上出现的记录\n",
    "where filter us.position = 1 AND world.position = 1，就是既在US也在世界榜1了，直接COUNT(*)即可\n",
    "\n",
    "法2.2：计算既在总表也在部分表出现的次数：总表inner join部分表；两个表中选变量完成 sum() over (partition by) + case when；name, max() "
   ]
  },
  {
   "cell_type": "raw",
   "id": "a402d01a",
   "metadata": {},
   "source": [
    "-- days a US track 1st for both US and World \n",
    "-- region'US' appear -> include in world ranking\n",
    "-- output: trackname, n_days_on_n1_position\n",
    "-- order name asc\n",
    "\n",
    "--法1：整体left join部分\n",
    "--世界；US；世界left join US: date = date and name = name; filter 世界榜1US榜1交集：a.date is not null and b.date is not null；name, count(*)\n",
    "WITH world AS(\n",
    "    SELECT \n",
    "    date,\n",
    "    position,\n",
    "    trackname\n",
    "    FROM spotify_worldwide_daily_song_ranking\n",
    "    WHERE position = 1\n",
    "    ),\n",
    "    us AS(\n",
    "    SELECT \n",
    "    date,\n",
    "    position,\n",
    "    trackname\n",
    "    FROM spotify_daily_rankings_2017_us\n",
    "    WHERE position = 1\n",
    "    )\n",
    "SELECT \n",
    "    a.trackname,\n",
    "    COUNT(*) AS n_days_on_n1_position\n",
    "FROM world a LEFT JOIN us b\n",
    "ON a.date = b.date AND a.trackname = b.trackname\n",
    "WHERE a.date IS NOT NULL and b.date IS NOT NULL\n",
    "GROUP BY 1"
   ]
  },
  {
   "cell_type": "raw",
   "id": "d50319ad",
   "metadata": {},
   "source": [
    "法2.1：inner join; count(*)\n",
    "us inner join world; date = date name = name：既在US也在世界榜上出现的记录\n",
    "where filter us.position = 1 AND world.position = 1，就是既在US也在世界榜1了，直接COUNT(*)即可\n",
    "\n",
    "SELECT \n",
    "    us.trackname,\n",
    "    COUNT(*) AS n_days_on_n1_position\n",
    "FROM spotify_daily_rankings_2017_us us\n",
    "INNER JOIN spotify_worldwide_daily_song_ranking world \n",
    "ON world.trackname = us.trackname AND world.date = us.date\n",
    "WHERE us.position = 1 AND world.position = 1\n",
    "GROUP BY 1"
   ]
  },
  {
   "cell_type": "raw",
   "id": "9c7094a8",
   "metadata": {},
   "source": [
    "法2.2：计算既在总表也在部分表出现的次数：总表inner join部分表；两个表中选变量完成 sum() over (partition by) + case when；name, max() \n",
    "① US榜1：US与world join: date = date and name = name; us.position = 1\n",
    "② US世界榜1天数：us.name, SUM(case when world.position = 1 then 1 else 0 end) OVER (PARTITION BY us.name) AS days【COUNT也可以】\n",
    "此处用us.name, count(*) 不行，因为也许存在us第一但不是world第一的情况。但本题没有出现特例。\n",
    "③ distinct选出歌名和天数：name, max(days)\n",
    "us INNER JOIN world ；date = date AND name = name： 同一天既在us榜单也在world榜单出现, US榜1的歌\n",
    "SUM(CASE WHEN world.position = 1 THEN 1 ELSE 0 END) OVER (PARTITION BY us.trackname) AS n_days：\n",
    "对于us榜1的歌来说，如果也在世界榜1就计算为1次，sum/count有多少次，就是both在us和世界榜1的天数。\n",
    "\n",
    "SELECT \n",
    "trackname,\n",
    "MAX(n_days_on_n1_position) AS n_days_on_n1_position\n",
    "FROM \n",
    "    (\n",
    "    SELECT \n",
    "    us.trackname,\n",
    "    SUM(CASE                                                               --此处用sum/count均可\n",
    "            WHEN world.position = 1 THEN 1\n",
    "            ELSE 0\n",
    "        END) OVER (PARTITION BY us.trackname) AS n_days_on_n1_position\n",
    "    FROM spotify_daily_rankings_2017_us us\n",
    "    INNER JOIN spotify_worldwide_daily_song_ranking world \n",
    "    ON world.trackname = us.trackname AND world.date = us.date\n",
    "    WHERE us.position = 1\n",
    "    ) tmp\n",
    "GROUP BY trackname\n",
    "ORDER BY trackname"
   ]
  },
  {
   "cell_type": "markdown",
   "id": "4d7b8be7",
   "metadata": {},
   "source": [
    "# 35.Best Selling Item\n",
    "\n",
    "\n",
    "Interview Question Date: July 2020\n",
    "\n",
    "Amazon\n",
    "Ebay\n",
    "Best Buy\n",
    "Hard\n",
    "ID 10172\n",
    "\n",
    "Find the best selling item for each month (no need to separate months by year) where the biggest total invoice was paid. The best selling item is calculated using the formula (unitprice * quantity). Output the description of the item along with the amount paid.\n",
    "\n",
    "Table: online_retail"
   ]
  },
  {
   "cell_type": "raw",
   "id": "15c05b28",
   "metadata": {},
   "source": [
    "1. SUM(unitprice * quantity)与unitprice * quantity的区别：\n",
    "sum能一个月内购买相同产品的的不同记录加总，不加sum只能算出一条记录\n",
    "sum时只需要group by sum前的变量，不加sum时，需要group by sum前的变量和sum内的变量\n",
    "\n",
    "2. 将SUM(P*N)与 RANK放在一个Query里更有效率"
   ]
  },
  {
   "cell_type": "raw",
   "id": "d229e97e",
   "metadata": {},
   "source": [
    "法1：\n",
    "WITH total AS(\n",
    "SELECT \n",
    "EXTRACT(month from invoicedate) AS month,\n",
    "description,\n",
    "SUM(unitprice * quantity) AS total_paid\n",
    "FROM online_retail\n",
    "GROUP BY month, description\n",
    "--, unitprice, quantity                       - 不加sum需要Group by所有变量\n",
    "),\n",
    "rank AS(\n",
    "SELECT \n",
    "    month,\n",
    "    description,\n",
    "    total_paid,\n",
    "    DENSE_RANK() OVER (PARTITION BY month ORDER BY total_paid DESC) AS rnk\n",
    "FROM total\n",
    ")\n",
    "SELECT \n",
    "    month,\n",
    "    description,\n",
    "    total_paid\n",
    "FROM rank\n",
    "WHERE rnk = 1"
   ]
  },
  {
   "cell_type": "raw",
   "id": "cfea7309",
   "metadata": {},
   "source": [
    "法2：将SUM(P*N)与 RANK放在一个Query里更有效率\n",
    "\n",
    "SELECT \n",
    "    MONTH,\n",
    "    description,\n",
    "    total_paid\n",
    "FROM\n",
    "    (SELECT\n",
    "        date_part('month', invoicedate) AS MONTH,\n",
    "        description,\n",
    "        SUM(unitprice * quantity) AS total_paid,\n",
    "        RANK() OVER (PARTITION BY date_part('month', invoicedate)\n",
    "                     ORDER BY SUM(unitprice * quantity) DESC) AS rnk\n",
    "    FROM online_retail\n",
    "    GROUP BY MONTH, description ) tmp\n",
    "WHERE rnk = 1"
   ]
  },
  {
   "cell_type": "markdown",
   "id": "79f388cd",
   "metadata": {},
   "source": [
    "# 36.Find the genre of the person with the most number of oscar winnings\n",
    "\n",
    "\n",
    "Netflix\n",
    "Hard\n",
    "ID 10171\n",
    "\n",
    "Find the genre of the person with the most number of oscar winnings.\n",
    "If there are more than one person with the same number of oscar wins, return the first one in alphabetic order based on their name. Use the names as keys when joining the tables.\n",
    "\n",
    "Tables: oscar_nominees, nominee_information"
   ]
  },
  {
   "cell_type": "code",
   "execution_count": null,
   "id": "4d0d7aa3",
   "metadata": {},
   "outputs": [],
   "source": [
    "求user的count, count最大值记录对应的属性：\n",
    "i.求每个演员得奖几次，对应的排名：name, count(*), rank() over (order by COUNT(*) DESC)；\n",
    "ii.求genre让名字从刚才的query中取rank1：name IN (select nominess from wins where rnk = 1)\n",
    "\n",
    "nominee, COUNT(*) OVER (PARTITION BY nominee)  = nominee, COUNT(*), R + GROUP BY 1"
   ]
  },
  {
   "cell_type": "raw",
   "id": "e0cc793b",
   "metadata": {},
   "source": [
    "-- person with most # of oscar 's genre \n",
    "-- >1 person same # of oscar wins, return 1st based on name asc \n",
    "-- names as keys join table\n",
    "--output: top_genre\n",
    "\n",
    "法1：\n",
    "i.求每个演员得奖几次，对应的排名：name, count(*), rank() over (order by COUNT(*) DESC)；\n",
    "ii.求genre让名字从刚才的query中取rank1：name IN (select nominess from wins where rnk = 1)\n",
    "\n",
    "WITH wins AS(\n",
    "SELECT \n",
    "    a.nominee,\n",
    "    COUNT(*) AS wins,\n",
    "    RANK() OVER (ORDER BY COUNT(*) DESC) AS rnk\n",
    "FROM oscar_nominees a\n",
    "JOIN nominee_information b\n",
    "ON a.nominee = b.name\n",
    "WHERE winner = TRUE\n",
    "GROUP BY 1\n",
    ")\n",
    "SELECT DISTINCT top_genre\n",
    "FROM nominee_information\n",
    "WHERE name IN (SELECT nominee FROM wins WHERE rnk = 1)"
   ]
  },
  {
   "cell_type": "raw",
   "id": "91b2437b",
   "metadata": {},
   "source": [
    "法2：\n",
    "nominee, COUNT(*) OVER (PARTITION BY nominee)  = nominee, COUNT(*), R + GROUP BY 1\n",
    "\n",
    "SELECT \n",
    "    DISTINCT top_genre\n",
    "FROM nominee_information info\n",
    "INNER JOIN (\n",
    "    SELECT\n",
    "        nominee,\n",
    "        n_winnings\n",
    "    FROM (\n",
    "        SELECT\n",
    "            nominee,\n",
    "            COUNT(*) OVER (PARTITION BY nominee) AS n_winnings \n",
    "        FROM oscar_nominees\n",
    "        WHERE winner = true\n",
    "        ) tmp\n",
    "    WHERE n_winnings = 2\n",
    "    ORDER BY 2 DESC, 1 ASC\n",
    "    ) tmp\n",
    "ON tmp.nominee = info.name"
   ]
  },
  {
   "cell_type": "markdown",
   "id": "0b1762ec",
   "metadata": {},
   "source": [
    "# 37.Gender With Most Doctor Appointments\n",
    "\n",
    "\n",
    "HealthTap\n",
    "Natera\n",
    "Easy\n",
    "ID 10170\n",
    "\n",
    "Find the gender that has made the most number of doctor appointments.\n",
    "Output the gender along with the corresponding number of appointments.\n",
    "\n",
    "Table: medical_appointments"
   ]
  },
  {
   "cell_type": "raw",
   "id": "17dcae0b",
   "metadata": {},
   "source": [
    "--gender most # doc app\n",
    "--output:gender, n_appointments\n",
    "\n",
    "--MOST: order by desc\n",
    "--aggreagte: group by \n",
    "\n",
    "SELECT \n",
    "    gender,\n",
    "    COUNT(appointmentid) AS n_appointments\n",
    "FROM medical_appointments\n",
    "GROUP BY gender\n",
    "ORDER BY n_appointments DESC\n",
    "LIMIT 1"
   ]
  },
  {
   "cell_type": "markdown",
   "id": "488ce417",
   "metadata": {},
   "source": [
    "# 38.Highest Total Miles\n",
    "\n",
    "\n",
    "Interview Question Date: July 2020\n",
    "\n",
    "Uber\n",
    "Medium\n",
    "ID 10169\n",
    "\n",
    "You’re given a table of Uber rides that contains the mileage and the purpose for the business expense.  You’re asked to find business purposes that generate the most miles driven for passengers that use Uber for their business transportation. Find the top 3 business purpose categories by total mileage.\n",
    "\n",
    "Table: my_uber_drives"
   ]
  },
  {
   "cell_type": "raw",
   "id": "d6d9cf19",
   "metadata": {},
   "source": [
    "-- RANK() OVER(ORDER BY X DESC) AS rnk + where rnk <=3； LIMIT 3  可以互换"
   ]
  },
  {
   "cell_type": "raw",
   "id": "3ea8f3a7",
   "metadata": {},
   "source": [
    "--Uber rides: mileage and the purpose for the biz expense\n",
    "-- most miles \n",
    "-- top 3 biz purpose categories by total mileage.\n",
    "--output: purpose, miles_sum\n",
    "\n",
    "SELECT\n",
    "    purpose,\n",
    "    miles_sum\n",
    "FROM\n",
    "    (SELECT\n",
    "        DISTINCT\n",
    "        purpose,\n",
    "        SUM(miles) AS miles_sum,\n",
    "        RANK() OVER (ORDER BY SUM(miles) DESC) AS rnk\n",
    "    FROM my_uber_drives\n",
    "    WHERE category = 'Business'\n",
    "    GROUP BY purpose\n",
    "    ORDER BY miles_sum DESC) t\n",
    "WHERE rnk <= 3"
   ]
  },
  {
   "cell_type": "markdown",
   "id": "debb393b",
   "metadata": {},
   "source": [
    "# 39.Number Of Records By Variety\n",
    "\n",
    "\n",
    "Microsoft\n",
    "Linux\n",
    "Easy\n",
    "ID 10168\n",
    "\n",
    "Find the total number of records that belong to each variety in the dataset. Output the variety along with the corresponding number of records. Order records by the variety in ascending order.\n",
    "\n",
    "Table: iris"
   ]
  },
  {
   "cell_type": "raw",
   "id": "3c02c2a2",
   "metadata": {},
   "source": [
    "-- # total belong to each variety\n",
    "--output: variety, n_total_varieties：variety along with the corresponding number of records\n",
    "--order records asc\n",
    "SELECT \n",
    "    variety,\n",
    "    COUNT(*) AS n_total_varieties\n",
    "FROM iris\n",
    "GROUP BY 1\n",
    "ORDER BY 2 ASC"
   ]
  },
  {
   "cell_type": "markdown",
   "id": "4d02e89b",
   "metadata": {},
   "source": [
    "# 40.Total Number Of Housing Units\n",
    "\n",
    "\n",
    "Airbnb\n",
    "Zillow\n",
    "Easy\n",
    "ID 10167\n",
    "\n",
    "Find the total number of housing units completed for each year. Output the year along with the total number of housings. Order the result by year in ascending order.\n",
    "\n",
    "\n",
    "Note: Number of housing units in thousands.\n",
    "\n",
    "Table: housing_units_completed_us"
   ]
  },
  {
   "cell_type": "raw",
   "id": "54ab1561",
   "metadata": {},
   "source": [
    "-- each year total # housing units completed\n",
    "--output: year, n_units: total number of housings.\n",
    "--order by year asc\n",
    "\n",
    "--Number of housing units in thousands\n",
    "\n",
    "SELECT \n",
    "    year,\n",
    "    SUM(south + west + midwest + northeast) AS n_units\n",
    "FROM housing_units_completed_us\n",
    "GROUP BY year\n",
    "ORDER BY year"
   ]
  },
  {
   "cell_type": "markdown",
   "id": "a4f5180b",
   "metadata": {},
   "source": [
    "# 41.Reviews of Hotel Arena\n",
    "\n",
    "\n",
    "Airbnb\n",
    "Expedia\n",
    "Easy\n",
    "ID 10166\n",
    "\n",
    "Find the number of rows for each review score earned by 'Hotel Arena'. Output the hotel name (which should be 'Hotel Arena'), review score along with the corresponding number of rows with that score for the specified hotel.\n",
    "\n",
    "Table: hotel_reviews"
   ]
  },
  {
   "cell_type": "raw",
   "id": "f4f48f12",
   "metadata": {},
   "source": [
    "--# of rows for each review score ~ Hotel Arena\n",
    "--output: hotel_name：Hotel Arena；reviewer_score；count\n",
    "\n",
    "SELECT \n",
    "    hotel_name,\n",
    "    reviewer_score,\n",
    "    COUNT(*) AS count\n",
    "FROM hotel_reviews\n",
    "WHERE hotel_name = 'Hotel Arena'\n",
    "GROUP BY hotel_name, reviewer_score\n"
   ]
  },
  {
   "cell_type": "markdown",
   "id": "dea41f53",
   "metadata": {},
   "source": [
    "# 42.Total AdWords Earnings\n",
    "\n",
    "\n",
    "Interview Question Date: July 2020\n",
    "\n",
    "Google\n",
    "Easy\n",
    "ID 10164\n",
    "\n",
    "Find the total AdWords earnings for each business type. Output the business types along with the total earnings.\n",
    "\n",
    "Table: google_adwords_earnings"
   ]
  },
  {
   "cell_type": "raw",
   "id": "1c51a1ab",
   "metadata": {},
   "source": [
    "--total ADwords earnings for each biz type\n",
    "--output: business_type,  earnings：total earnings.\n",
    "\n",
    "SELECT \n",
    "    business_type,\n",
    "    SUM(adwords_earnings) AS earnings\n",
    "FROM google_adwords_earnings\n",
    "GROUP BY business_type"
   ]
  },
  {
   "cell_type": "markdown",
   "id": "3bab6159",
   "metadata": {},
   "source": [
    "# 43.Product Transaction Count\n",
    "\n",
    "\n",
    "Microsoft\n",
    "Nvidia\n",
    "Medium\n",
    "ID 10163\n",
    "\n",
    "Find the number of transactions that occurred for each product. Output the product name along with the corresponding number of transactions and order records by the product id in ascending order. You can ignore products without transactions.\n",
    "\n",
    "Tables: excel_sql_inventory_data, excel_sql_transaction_data"
   ]
  },
  {
   "cell_type": "raw",
   "id": "83bb16ea",
   "metadata": {},
   "source": [
    "order by的变量，如果没有在select中出现过，则需要在group by中出现一次"
   ]
  },
  {
   "cell_type": "raw",
   "id": "789fb395",
   "metadata": {},
   "source": [
    "--# transactions for each product\n",
    "--output: product_name, count：number of transactions \n",
    "--order records by the product id in ascending order\n",
    "--ignore products without transactions.\n",
    "\n",
    "SELECT \n",
    "    i.product_name,\n",
    "    COUNT(*) AS count\n",
    "FROM excel_sql_transaction_data t\n",
    "LEFT JOIN excel_sql_inventory_data i\n",
    "ON t.product_id = i.product_id\n",
    "GROUP BY product_name,t.product_id\n",
    "ORDER BY t.product_id"
   ]
  },
  {
   "cell_type": "markdown",
   "id": "ced3e05b",
   "metadata": {},
   "source": [
    "# 44.Number Of Acquisitions\n",
    "\n",
    "\n",
    "Crunchbase\n",
    "Easy\n",
    "ID 10162\n",
    "\n",
    "Find the number of acquisitions that occurred in each quarter of each year. Output the acquired quarter in YYYY-Qq format along with the number of acquisitions and order results by the quarters with the highest number of acquisitions first.\n",
    "\n",
    "Table: crunchbase_acquisitions"
   ]
  },
  {
   "cell_type": "raw",
   "id": "fb332d90",
   "metadata": {},
   "source": [
    "--# acquisition occ in each quarter of each year\n",
    "\n",
    "--output: acquired_quarter：2013-Q4； cnt_acq： the number of acquisitions\n",
    "--order by cntacq DESCC：quarters with highest # acquisition first\n",
    "\n",
    "SELECT \n",
    "    acquired_quarter,\n",
    "    COUNT(*) AS cnt_acq\n",
    "FROM crunchbase_acquisitions\n",
    "GROUP BY acquired_quarter\n",
    "ORDER BY cnt_acq DESC"
   ]
  },
  {
   "cell_type": "markdown",
   "id": "95aa441f",
   "metadata": {},
   "source": [
    "# 45.Ranking Hosts By Beds\n",
    "\n",
    "\n",
    "Interview Question Date: July 2020\n",
    "\n",
    "Airbnb\n",
    "Medium\n",
    "ID 10161\n",
    "\n",
    "Rank each host based on the number of beds they have listed. The host with the most beds should be ranked 1 and the host with the least number of beds should be ranked last. Hosts that have the same number of beds should have the same rank but there should be no gaps between ranking values. A host can also own multiple properties.\n",
    "Output the host ID, number of beds, and rank from highest rank to lowest."
   ]
  },
  {
   "cell_type": "raw",
   "id": "db65162e",
   "metadata": {},
   "source": [
    "--have the same number of beds should have the same rank but there should be no gaps between ranking values. \n",
    "\n",
    "DENSE_RANK：同一数量的赋值相同的rank数；rank每等之间没有gap"
   ]
  },
  {
   "cell_type": "raw",
   "id": "48555ee1",
   "metadata": {},
   "source": [
    "SELECT \n",
    "    host_id,\n",
    "    SUM(n_beds) AS number_of_beds,\n",
    "    DENSE_RANK() OVER (ORDER BY SUM(n_beds) DESC) AS rnk\n",
    "FROM airbnb_apartments\n",
    "GROUP BY host_id"
   ]
  },
  {
   "cell_type": "markdown",
   "id": "a68dcbd1",
   "metadata": {},
   "source": [
    "# 46.Rank guests based on their ages\n",
    "\n",
    "\n",
    "Airbnb\n",
    "Easy\n",
    "ID 10160\n",
    "\n",
    "Rank guests based on their ages.\n",
    "Output the guest id along with the corresponding rank.\n",
    "Order records by the age in descending order.\n",
    "\n",
    "Table: airbnb_guests"
   ]
  },
  {
   "cell_type": "raw",
   "id": "103b5495",
   "metadata": {},
   "source": [
    "RANK() OVER 前的变量，不需要group by"
   ]
  },
  {
   "cell_type": "raw",
   "id": "fc174b47",
   "metadata": {},
   "source": [
    "--rank guest ages\n",
    "--output: guest id, rank\n",
    "--order records by age desc\n",
    "\n",
    "SELECT \n",
    "    guest_id,\n",
    "    RANK() OVER (ORDER BY age DESC) AS rank\n",
    "FROM airbnb_guests"
   ]
  },
  {
   "cell_type": "markdown",
   "id": "c8411ad1",
   "metadata": {},
   "source": [
    "# 47.Ranking Most Active Guests\n",
    "\n",
    "\n",
    "Airbnb\n",
    "Medium\n",
    "ID 10159\n",
    "\n",
    "Rank guests based on the number of messages they've exchanged with the hosts. Guests with the same number of messages as other guests should have the same rank. Do not skip rankings if the preceding rankings are identical.\n",
    "Output the rank, guest id, and number of total messages they've sent. Order by the highest number of total messages first.\n",
    "\n",
    "Table: airbnb_contacts"
   ]
  },
  {
   "cell_type": "raw",
   "id": "74fa15b0",
   "metadata": {},
   "source": [
    "rank也可以放在第一列"
   ]
  },
  {
   "cell_type": "raw",
   "id": "d19a2fb8",
   "metadata": {},
   "source": [
    "--rank guest ; # messages eachanged with hosts\n",
    "--dense_rank：guests same # messages ~ same rank; not skip rank if preceding ranks are identical\n",
    "--output:ranking, \tid_guest,  \tsum_n_messages\n",
    "\n",
    "\n",
    "\n",
    "SELECT\n",
    "    DENSE_RANK() OVER(ORDER BY SUM(n_messages) DESC) AS ranking,\n",
    "    id_guest,\n",
    "    SUM(n_messages) AS sum_n_messages\n",
    "FROM \n",
    "    airbnb_contacts\n",
    "GROUP BY \n",
    "    id_guest"
   ]
  },
  {
   "cell_type": "markdown",
   "id": "e0201bc2",
   "metadata": {},
   "source": [
    "# 48.Number Of Units Per Nationality\n",
    "\n",
    "\n",
    "Airbnb\n",
    "Medium\n",
    "ID 10156\n",
    "\n",
    "Find the number of apartments per nationality that are owned by people under 30 years old.\n",
    "\n",
    "\n",
    "Output the nationality along with the number of apartments.\n",
    "\n",
    "\n",
    "Sort records by the apartments count in descending order.\n",
    "\n",
    "Tables: airbnb_hosts, airbnb_units"
   ]
  },
  {
   "cell_type": "raw",
   "id": "a4e98679",
   "metadata": {},
   "source": [
    "apartment count是count(distinct unit_id) \n",
    "因为airbnb_hosts表中有很多重复的host_id = 1的记录，所以和airbnb_units JOIN之后，有很多重复记录，此时不能直接COUNT(*), 要COUNT(DISTINCT unit_id)"
   ]
  },
  {
   "cell_type": "raw",
   "id": "77b139a2",
   "metadata": {},
   "source": [
    "--# apt per nationality owned by people age <30\n",
    "--output：nationality, apartment_count\n",
    "--sort by apt count desc\n",
    "\n",
    "SELECT \n",
    "    h.nationality,\n",
    "    COUNT(DISTINCT u.unit_id) AS apartment_count\n",
    "FROM airbnb_hosts h\n",
    "JOIN airbnb_units u\n",
    "ON h.host_id = u.host_id\n",
    "WHERE h.age < 30\n",
    "AND unit_type = 'Apartment'\n",
    "GROUP BY h.nationality\n",
    "ORDER BY apartment_count DESC"
   ]
  },
  {
   "cell_type": "markdown",
   "id": "2bead152",
   "metadata": {},
   "source": [
    "# 49.Find the number of Yelp businesses that sell pizza\n",
    "\n",
    "\n",
    "Yelp\n",
    "Easy\n",
    "ID 10153\n",
    "\n",
    "Find the number of Yelp businesses that sell pizza.\n",
    "\n",
    "Table: yelp_business"
   ]
  },
  {
   "cell_type": "raw",
   "id": "ffecea5a",
   "metadata": {},
   "source": [
    "LOWER(X) LIKE '%A%' = X ILIKE '%A%' \n",
    "\n",
    "lower(categories) like '%pizza%' = categories ILIKE '%Pizza%' "
   ]
  },
  {
   "cell_type": "raw",
   "id": "ce6adc6e",
   "metadata": {},
   "source": [
    "SELECT \n",
    "    COUNT(*) AS count\n",
    "FROM yelp_business\n",
    "WHERE categories ILIKE '%Pizza%' "
   ]
  },
  {
   "cell_type": "markdown",
   "id": "06d05ad2",
   "metadata": {},
   "source": [
    "# 50. Workers With The Highest And Lowest Salaries\n",
    "\n",
    "\n",
    "Amazon\n",
    "Siemens\n",
    "Medium\n",
    "ID 10152\n",
    "\n",
    "You have been asked to find the employees with the highest and lowest salary.\n",
    "\n",
    "\n",
    "Your output should include the employee's ID, salary, and department, as well as a column salary_type that categorizes the output by:\n",
    "\n",
    "\n",
    "\n",
    "'Highest Salary' represents the highest salary\n",
    "\n",
    "'Lowest Salary' represents the lowest salary\n",
    "\n",
    "Tables: worker, title"
   ]
  },
  {
   "cell_type": "raw",
   "id": "f5214bf9",
   "metadata": {},
   "source": [
    "1. case when可以全命名\n",
    "2. case when也可以只命名最高最低\n",
    "3. 正反rank法：\n",
    "i.赋值正反rank：lowest_sal, highest_sal\n",
    "ii. case when highest_sal = 1 THEN 'A' ELSE 'B'：赋值最高rank为A，其他rank为B\n",
    "iii. where highest_sal = 1 OR lowest_sal = 1：只挑出最高和最低\n",
    "4. '' AS X 命名 + where select max/min, 分别求出最高和最低UNION ALL\n",
    "\n",
    "5. case when写法：\n",
    "CASE \n",
    "    WHEN salary = (SELECT MAX(salary) FROM worker) THEN 'Highest Salary'\n",
    "    WHEN salary = (SELECT MIN(salary) FROM worker) THEN 'Lowest Salary'\n",
    "ELSE 'N/A' \n",
    "END AS salary_type\n",
    "\n",
    "\n",
    "6. 两种case方法可以替换:\n",
    "①\n",
    "CASE \n",
    "    WHEN salary = (SELECT max(salary) FROM total) THEN 'Highest Salary'\n",
    "    WHEN salary = (SELECT min(salary) FROM total) THEN 'Lowest Salary'\n",
    "ELSE NULL\n",
    "END\n",
    "\n",
    "②\n",
    "CASE\n",
    "    WHEN salary = (SELECT max(salary) FROM total THEN 'Highest Salary')\n",
    "ELSE 'Lowest Salary'\n",
    "END"
   ]
  },
  {
   "cell_type": "raw",
   "id": "e7ddb67b",
   "metadata": {},
   "source": [
    "--find employees with highest and lowest salary\n",
    "--salary_type ：Highest Salary，Lowest Salary\n",
    "--output: worker_id, salary, department, salary_type\n",
    "    \n",
    "--法1：只命名最高最低，where 取出 rnk 在 最高和最低 中的 rnk值(union)\n",
    "WITH total AS(\n",
    "SELECT \n",
    "    worker_id,\n",
    "    salary,\n",
    "    department,\n",
    "    RANK() OVER (ORDER BY salary DESC) AS rnk\n",
    "FROM worker\n",
    ")\n",
    "SELECT \n",
    "    worker_id,\n",
    "    salary,\n",
    "    department,\n",
    "    -- CASE \n",
    "    --     WHEN salary = (SELECT max(salary) FROM total) THEN 'Highest Salary'\n",
    "    --     WHEN salary = (SELECT min(salary) FROM total) THEN 'Lowest Salary'\n",
    "    -- ELSE NULL\n",
    "    -- END AS salary_type\n",
    "    CASE \n",
    "        WHEN salary = (SELECT max(salary) FROM total) THEN 'Highest Salary'\n",
    "    ELSE 'Lowest Salary'\n",
    "    END AS salary_type\n",
    "FROM total\n",
    "WHERE rnk IN (SELECT min(rnk) FROM total UNION SELECT min(rnk) FROM total)"
   ]
  },
  {
   "cell_type": "raw",
   "id": "45ab7d3c",
   "metadata": {},
   "source": [
    "--法2：全命名，where只取出<> 'N/A'的记录，即最大和最小的记录\n",
    "WITH total AS(\n",
    "SELECT\n",
    "    worker_id,\n",
    "    salary,\n",
    "    department,\n",
    "    CASE \n",
    "        WHEN salary = (SELECT MAX(salary) FROM worker) THEN 'Highest Salary'\n",
    "        WHEN salary = (SELECT MIN(salary) FROM worker) THEN 'Lowest Salary'\n",
    "        ELSE 'N/A' \n",
    "        END AS salary_type\n",
    "FROM worker\n",
    ")\n",
    "SELECT * FROM total\n",
    "WHERE salary_type <> 'N/A'"
   ]
  },
  {
   "cell_type": "raw",
   "id": "04fd1aeb",
   "metadata": {},
   "source": [
    "--法3：正反rank法：\n",
    "-- i.赋值正反rank：lowest_sal, highest_sal\n",
    "-- ii. case when highest_sal = 1 THEN 'A' ELSE 'B'：赋值最高rank为A，其他rank为B\n",
    "-- iii. where highest_sal = 1 OR lowest_sal = 1：只挑出最高和最低\n",
    "\n",
    "WITH CTE AS(\n",
    "SELECT\n",
    "    *,\n",
    "    RANK() OVER (ORDER BY salary) AS lowest_sal,\n",
    "    RANK() OVER (ORDER BY salary DESC) AS highest_sal\n",
    "FROM worker\n",
    ")\n",
    "SELECT \n",
    "    worker_id,\n",
    "    salary,\n",
    "    department,\n",
    "    -- lowest_sal,\n",
    "    -- highest_sal,\n",
    "    CASE \n",
    "        WHEN highest_sal = 1 THEN 'Highest Salary'\n",
    "        ELSE 'Lowest Salary'\n",
    "        END AS salary_type\n",
    "FROM CTE\n",
    "WHERE highest_sal = 1 OR lowest_sal = 1"
   ]
  },
  {
   "cell_type": "raw",
   "id": "55e98ba5",
   "metadata": {},
   "source": [
    "--法4：'' AS X 命名 + where select max/min, 分别求出最高和最低UNION ALL\n",
    "with highest_salary as(\n",
    "select \n",
    "    worker_id,\n",
    "    salary,\n",
    "    department,\n",
    "    'Highest Salary' as salary_type\n",
    "from worker \n",
    "where salary = (select max(salary) from worker)\n",
    "),\n",
    "lowest_salary as(\n",
    "select \n",
    "    worker_id,\n",
    "    salary,\n",
    "    department,\n",
    "    'Lowest Salary' as salary_type\n",
    "from worker \n",
    "where salary = (select min(salary) from worker)\n",
    ")\n",
    "select * from highest_salary\n",
    "union all\n",
    "select * from lowest_salary"
   ]
  },
  {
   "cell_type": "markdown",
   "id": "44155575",
   "metadata": {},
   "source": [
    "# 51.Gender With Generous Reviews\n",
    "\n",
    "\n",
    "Interview Question Date: June 2020\n",
    "\n",
    "Airbnb\n",
    "Easy\n",
    "ID 10149\n",
    "\n",
    "Write a query to find which gender gives a higher average review score when writing reviews as guests. Use the from_type column to identify guest reviews. Output the gender and their average review score.\n",
    "\n",
    "Tables: airbnb_reviews, airbnb_guests"
   ]
  },
  {
   "cell_type": "raw",
   "id": "25c03702",
   "metadata": {},
   "source": [
    "注意：airbnb_reviews中的from_user同时包含guest_id, user_id\n",
    "①需要先Where挑选出from_type = 'guest'，才能得出guest_id的记录，再与airbnb_guests去join\n",
    "②也可以两个表先join一下，再只where filter出 from_type = 'guest'的记录就可以了"
   ]
  },
  {
   "cell_type": "raw",
   "id": "e9a0a140",
   "metadata": {},
   "source": [
    "-- find which gender gives a higher avg review score when as guests\n",
    "-- output: gender, avg_score\n",
    "    \n",
    "SELECT \n",
    "    gender,\n",
    "    AVG(review_score) AS avg_score\n",
    "FROM  \n",
    "    ( \n",
    "    SELECT\n",
    "        from_user,\n",
    "        review_score\n",
    "    FROM airbnb_reviews r\n",
    "    WHERE from_type = 'guest'\n",
    "    ) t\n",
    "    JOIN airbnb_guests g\n",
    "    ON t.from_user = g.guest_id\n",
    "GROUP BY gender\n",
    "ORDER BY avg_score DESC\n",
    "LIMIT 1"
   ]
  },
  {
   "cell_type": "raw",
   "id": "8fdef466",
   "metadata": {},
   "source": [
    "SELECT \n",
    "    g.gender,\n",
    "    AVG(review_score) AS avg_score\n",
    "FROM airbnb_reviews r\n",
    "JOIN  airbnb_guests g \n",
    "ON r.from_user = g.guest_id\n",
    "WHERE r.from_type = 'guest'\n",
    "GROUP BY g.gender\n",
    "ORDER BY avg_score DESC\n",
    "LIMIT 1"
   ]
  },
  {
   "cell_type": "markdown",
   "id": "a53661f8",
   "metadata": {},
   "source": [
    "# 52.Find the top 5 cities with the most 5 star businesses\n",
    "\n",
    "\n",
    "Yelp\n",
    "Medium\n",
    "ID 10148\n",
    "\n",
    "Find the top 5 cities with the most 5-star businesses. Output the city name along with the number of 5-star businesses.\n",
    "In the case of multiple cities having the same number of 5-star businesses, use the ranking function returning the lowest rank in the group and output cities with a rank smaller than or equal to 5.\n",
    "\n",
    "Table: yelp_business"
   ]
  },
  {
   "cell_type": "raw",
   "id": "5d627063",
   "metadata": {},
   "source": [
    "limit 5:只展示5个记录\n",
    "rank <=5：将rank = 5个以里的所有记录挑出"
   ]
  },
  {
   "cell_type": "raw",
   "id": "0535ab98",
   "metadata": {},
   "source": [
    "-- top 5 cities most 5-star biz\n",
    "-- DENSE_RANK: rank return lowest rank in the group; rank <=5\n",
    "-- output: city, count_of_5_stars\n",
    "\n",
    "--  'In the case of multiple cities having the same number of 5-star businesses, use the ranking function returning the lowest rank in the group'\n",
    "-- It means that you should use:\n",
    "\n",
    "-- method = 'min' if you're using Python and Pandas\n",
    "-- rank() if you use PostgreSQL (minimum method is default to it)\n",
    "-- It's just a way of making it clear what rank function should be used.\n",
    "\n",
    "\n",
    "SELECT \n",
    "    city,\n",
    "    count_of_5_stars\n",
    "FROM (\n",
    "SELECT \n",
    "    city,\n",
    "    COUNT(*) AS count_of_5_stars,\n",
    "    RANK() OVER (ORDER BY COUNT(*) DESC) as rnk\n",
    "FROM yelp_business\n",
    "WHERE stars = 5\n",
    "GROUP BY city) t\n",
    "WHERE rnk <= 5"
   ]
  },
  {
   "cell_type": "markdown",
   "id": "3b123c7a",
   "metadata": {},
   "source": [
    "# 53.Find countries that are in winemag_p1 dataset but not in winemag_p2\n",
    "\n",
    "\n",
    "Interview Question Date: June 2020\n",
    "\n",
    "Wine Magazine\n",
    "Medium\n",
    "ID 10147\n",
    "\n",
    "Find countries that are in winemag_p1 dataset but not in winemag_p2.\n",
    "Output distinct country names.\n",
    "Order records by the country in ascending order.\n",
    "\n",
    "Tables: winemag_p1, winemag_p2"
   ]
  },
  {
   "cell_type": "raw",
   "id": "e85d79f8",
   "metadata": {},
   "source": [
    "# countries in p1 but not in p2\n",
    "# output country: distinct country\n",
    "# order by country asc\n",
    "\n",
    "SELECT country FROM winemag_p1\n",
    "WHERE country NOT IN (SELECT country FROM winemag_p2)\n",
    "ORDER BY country ASC"
   ]
  },
  {
   "cell_type": "markdown",
   "id": "d91be778",
   "metadata": {},
   "source": [
    "# 54.Make a pivot table to find the highest payment in each year for each employee\n",
    "\n",
    "\n",
    "City of San Francisco\n",
    "Hard\n",
    "ID 10145\n",
    "\n",
    "Make a pivot table to find the highest payment in each year for each employee.\n",
    "Find payment details for 2011, 2012, 2013, and 2014.\n",
    "Output payment details along with the corresponding employee name.\n",
    "Order records by the employee name in ascending order\n",
    "\n",
    "Table: sf_public_salaries"
   ]
  },
  {
   "cell_type": "raw",
   "id": "8736f9b6",
   "metadata": {},
   "source": [
    "题中提到pivot <=> case when：eg.MAX(case when) + group by \n",
    "else 0 把其余值赋为0\n",
    "MAX(pay_year) 去找到这年最高的totalpay，因为可能一年有两个total pay"
   ]
  },
  {
   "cell_type": "raw",
   "id": "045312ba",
   "metadata": {},
   "source": [
    "-- select * from sf_public_salaries;\n",
    "\n",
    "-- PV to find each yr, each employee, highest payment\n",
    "--2011 - 2014\n",
    "--output: payment, employee name\n",
    "--employeename, pay_2011, pay_2012, pay_2013, pay_2014\n",
    "--order name asc\n",
    "\n",
    "SELECT\n",
    "    employeename,\n",
    "    -- year,\n",
    "    --totalpay,\n",
    "    MAX(CASE WHEN year = 2011 THEN totalpay ELSE 0 END) AS pay_2011,\n",
    "    MAX(CASE WHEN year = 2012 THEN totalpay ELSE 0 END) AS pay_2012,\n",
    "    MAX(CASE WHEN year = 2013 THEN totalpay ELSE 0 END) AS pay_2013,\n",
    "    MAX(CASE WHEN year = 2014 THEN totalpay ELSE 0 END) AS pay_2014\n",
    "    -- totalpaybenefits\n",
    "FROM sf_public_salaries\n",
    "GROUP BY employeename\n",
    "ORDER BY employeename"
   ]
  },
  {
   "cell_type": "markdown",
   "id": "cec767a3",
   "metadata": {},
   "source": [
    "# 55.Average Weight of Medal-Winning Judo\n",
    "\n",
    "\n",
    "ESPN\n",
    "Medium\n",
    "ID 10144\n",
    "\n",
    "Find the average weight of medal-winning Judo players of each team with a minimum age of 20 and a maximum age of 30. Consider players at the age of 20 and 30 too. Output the team along with the average player weight.\n",
    "\n",
    "Table: olympics_athletes_events"
   ]
  },
  {
   "cell_type": "raw",
   "id": "243b3f20",
   "metadata": {},
   "source": [
    "SELECT \n",
    "    team,\n",
    "    AVG(weight) AS average_player_weight\n",
    "FROM olympics_athletes_events\n",
    "WHERE sport = 'Judo' AND age BETWEEN 20 AND 30 AND medal IS NOT NULL\n",
    "GROUP BY team"
   ]
  },
  {
   "cell_type": "raw",
   "id": "a8065f7b",
   "metadata": {},
   "source": [
    "SELECT \n",
    "    team,\n",
    "    avg(weight) AS average_player_weight\n",
    "FROM olympics_athletes_events\n",
    "WHERE sport = 'Judo'\n",
    "AND medal IS NOT NULL\n",
    "GROUP BY 1\n",
    "HAVING min(age) >= 20 and max(age) <= 30\n",
    "ORDER BY1"
   ]
  },
  {
   "cell_type": "markdown",
   "id": "632f613e",
   "metadata": {},
   "source": [
    "# 56.Find players who participated in the Olympics representing more than one team\n",
    "\n",
    "\n",
    "ESPN\n",
    "Easy\n",
    "ID 10143\n",
    "\n",
    "Find players who participated in the Olympics representing more than one team.\n",
    "Output the player name, team, games, sport, and the medal.\n",
    "\n",
    "Table: olympics_athletes_events"
   ]
  },
  {
   "cell_type": "raw",
   "id": "824512a1",
   "metadata": {},
   "source": [
    "Find players who participated in the Olympics representing more than one team\n",
    "\n",
    "\n",
    "ESPN\n",
    "Easy\n",
    "ID 10143\n",
    "\n",
    "Find players who participated in the Olympics representing more than one team.\n",
    "Output the player name, team, games, sport, and the medal.\n",
    "\n",
    "Table: olympics_athletes_events"
   ]
  },
  {
   "cell_type": "raw",
   "id": "65047a50",
   "metadata": {},
   "source": [
    "X column has A: X ILIKE '%A%'\n",
    "每次代表多于一个team：在team中，包含/的值：X ILIKE '%/%'  "
   ]
  },
  {
   "cell_type": "raw",
   "id": "dded785d",
   "metadata": {},
   "source": [
    "--players:OLYMPIC, more than 1 team\n",
    "--output: name, team, games, sport, medal\n",
    "\n",
    "--X column has A: X ILIKE '%A%'\n",
    "--每次代表多于一个team：在team中，包含/的值：X ILIKE '%/%'  \n",
    "\n",
    "SELECT \n",
    "    name,\n",
    "    team,\n",
    "    games,\n",
    "    sport,\n",
    "    medal\n",
    "FROM olympics_athletes_events\n",
    "WHERE team ILIKE '%/%'  "
   ]
  },
  {
   "cell_type": "markdown",
   "id": "3718e952",
   "metadata": {},
   "source": [
    "# 57.Apple Product Counts\n",
    "\n",
    "\n",
    "Google\n",
    "Apple\n",
    "Medium\n",
    "ID 10141\n",
    "\n",
    "Find the number of Apple product users and the number of total users with a device and group the counts by language. Assume Apple products are only MacBook-Pro, iPhone 5s, and iPad-air. Output the language along with the total number of Apple users and users with any device. Order your results based on the number of total users in descending order.\n",
    "\n",
    "Tables: playbook_events, playbook_users"
   ]
  },
  {
   "cell_type": "raw",
   "id": "69e0f7ba",
   "metadata": {},
   "source": [
    "1.ILIKE '%macbook pro%' AND '%iphone 5s%' AND 'ipad air')\n",
    "2.order by 可以用产生的alias\n",
    "3.both count distinct user id"
   ]
  },
  {
   "cell_type": "raw",
   "id": "fb8ce86a",
   "metadata": {},
   "source": [
    "SELECT\n",
    "    language,\n",
    "    COUNT(DISTINCT CASE \n",
    "                        WHEN device IN('macbook pro', \n",
    "                                        'iphone 5s', \n",
    "                                        'ipad air') THEN a.user_id \n",
    "                    END) AS n_apple_users,\n",
    "    COUNT(DISTINCT a.user_id) AS n_total_users\n",
    "FROM playbook_events a\n",
    "JOIN playbook_users b\n",
    "ON a.user_id = b.user_id\n",
    "WHERE device IS NOT NULL\n",
    "GROUP BY language\n",
    "ORDER BY n_apple_users DESC"
   ]
  },
  {
   "cell_type": "markdown",
   "id": "b7d4fd79",
   "metadata": {},
   "source": [
    "# 58. MacBook Pro Events\n",
    "\n",
    "\n",
    "Google\n",
    "Apple\n",
    "Medium\n",
    "ID 10140\n",
    "\n",
    "Find how many events happened on MacBook-Pro per company in Argentina from users that do not speak Spanish.\n",
    "Output the company id, language of users, and the number of events performed by users.\n",
    "\n",
    "Tables: playbook_events, playbook_users"
   ]
  },
  {
   "cell_type": "raw",
   "id": "4af1b4b7",
   "metadata": {},
   "source": [
    "Spanish Not English"
   ]
  },
  {
   "cell_type": "raw",
   "id": "c58f73fe",
   "metadata": {},
   "source": [
    "--  evens on macbook-pro in argentina from users not speak Spanish\n",
    "-- output:company_id, language：language of users, n_macbook_pro_events：the number of events performed by users.\n",
    "\n",
    "\n",
    "SELECT \n",
    "    u.company_id,\n",
    "    u.language,\n",
    "    COUNT(*) AS n_macbook_pro_events\n",
    "FROM playbook_events e \n",
    "JOIN playbook_users u\n",
    "ON e.user_id = u.user_id\n",
    "WHERE e.location = 'Argentina'\n",
    "AND e.device = 'macbook pro'\n",
    "AND u.language != 'spanish'\n",
    "GROUP BY u.company_id, u.language"
   ]
  },
  {
   "cell_type": "markdown",
   "id": "7d6046f1",
   "metadata": {},
   "source": [
    "# 59.Number of Speakers By Language\n",
    "\n",
    "\n",
    "Google\n",
    "Apple\n",
    "Medium\n",
    "ID 10139\n",
    "\n",
    "Find the number of speakers of each language by country. Output the country, language, and the corresponding number of speakers. Output the result based on the country in ascending order.\n",
    "\n",
    "Tables: playbook_events, playbook_users"
   ]
  },
  {
   "cell_type": "raw",
   "id": "3316dfde",
   "metadata": {},
   "source": [
    "--country, language, #speaker \n",
    "--output: location, language, n_speakers\n",
    "--order country asc\n",
    "\n",
    "SELECT \n",
    "    e.location,\n",
    "    u.language,\n",
    "    COUNT(DISTINCT u.user_id)\n",
    "FROM playbook_events e\n",
    "JOIN playbook_users u\n",
    "ON e.user_id = u.user_id\n",
    "GROUP BY e.location, u.language\n",
    "ORDER BY e.location"
   ]
  },
  {
   "cell_type": "markdown",
   "id": "706d633a",
   "metadata": {},
   "source": [
    "# 60.Even-numbered IDs Hired in June\n",
    "\n",
    "\n",
    "Amazon\n",
    "Bosch\n",
    "Easy\n",
    "ID 10137\n",
    "\n",
    "Find employees who started in June and have even-numbered employee IDs.\n",
    "\n",
    "Table: worker"
   ]
  },
  {
   "cell_type": "raw",
   "id": "88e568e0",
   "metadata": {},
   "source": [
    "1.奇偶数表达\n",
    "偶数 even：\n",
    "num % 2 = 0\n",
    "mod(num, 2) = 0\n",
    "奇数 odd：\n",
    "num % 2 != 0\n",
    "mod(num, 2) != 0\n",
    "\n",
    "2.月份表达\n",
    "EXTRACT(MONTH FROM X)：EXTRACT(MONTH FROM joining_date) AS month\n",
    "DATE_PART('MONTH', X)：DATE_PART('MONTH', joining_date) AS month   \n",
    "\n",
    "3.没在变量中出现的，也可以直接where filter出\n",
    "WHERE EXTRACT(MONTH FROM joining_date) = 6"
   ]
  },
  {
   "cell_type": "raw",
   "id": "825fdc85",
   "metadata": {},
   "source": [
    "--#法1：\n",
    "SELECT * FROM worker\n",
    "WHERE mod(worker_id, 2) = 0\n",
    "AND EXTRACT(MONTH FROM joining_date) = 6"
   ]
  },
  {
   "cell_type": "raw",
   "id": "f2603d1c",
   "metadata": {},
   "source": [
    "--#法2：\n",
    "WITH odd_num_worker AS(\n",
    "SELECT \n",
    "\n",
    "    *,\n",
    "    EXTRACT(MONTH FROM joining_date) AS month\n",
    "    --DATE_PART('MONTH', joining_date) AS month    \n",
    "FROM worker\n",
    "WHERE worker_id % 2 = 0\n",
    ")\n",
    "SELECT \n",
    "    worker_id,\n",
    "    first_name,\n",
    "    last_name,\n",
    "    salary,\n",
    "    joining_date,\n",
    "    department\n",
    "FROM odd_num_worker\n",
    "WHERE month = 6"
   ]
  },
  {
   "cell_type": "markdown",
   "id": "42c913ee",
   "metadata": {},
   "source": [
    "# 61.Odd-numbered ID's Hired in February\n",
    "\n",
    "\n",
    "Amazon\n",
    "Bosch\n",
    "Easy\n",
    "\n",
    "Find employees who started in February and have odd-numbered employee IDs.\n",
    "\n",
    "Table: worker"
   ]
  },
  {
   "cell_type": "raw",
   "id": "6e5eb80e",
   "metadata": {},
   "source": [
    "SELECT * FROM worker\n",
    "WHERE mod(worker_id, 2) != 0\n",
    "AND EXTRACT(MONTH FROM joining_date) = 2"
   ]
  },
  {
   "cell_type": "markdown",
   "id": "89c1fe0e",
   "metadata": {},
   "source": [
    "# 62.Spam Posts\n",
    "\n",
    "\n",
    "Interview Question Date: June 2020\n",
    "\n",
    "Meta/Facebook\n",
    "Medium\n",
    "ID 10134\n",
    "\n",
    "Calculate the percentage of spam posts in all viewed posts by day. A post is considered a spam if a string \"spam\" is inside keywords of the post. Note that the facebook_posts table stores all posts posted by users. The facebook_post_views table is an action table denoting if a user has viewed a post.\n",
    "\n",
    "Tables: facebook_posts, facebook_post_views"
   ]
  },
  {
   "cell_type": "raw",
   "id": "5bd9f2cf",
   "metadata": {},
   "source": [
    "求部分与整体比值：\n",
    "\n",
    "1. COUNT(CASE WHEN X THEN ID END) / COUNT(ID) + JOIN \n",
    "2. SUM(CASE WHEN X THEN 1 ELSE 0 END) * 100 / COUNT(*) + JOIN\n",
    "3. 整体 left join 部分；SELECT 部分/整体求比率"
   ]
  },
  {
   "cell_type": "raw",
   "id": "5f816d44",
   "metadata": {},
   "source": [
    "--percentage spam posts in all viewed posts by day\n",
    "--spam: post = 'spam'\n",
    "--facebook_posts stores all posts by user; view: vew post\n",
    "\n",
    "--output: post_date, spam_share\n",
    "\n",
    "--#法1：\n",
    "WITH total AS(\n",
    "SELECT \n",
    "    p.post_date,\n",
    "    COUNT(v.post_id) AS total_viewed_posts,\n",
    "    COUNT(CASE \n",
    "            WHEN p.post_keywords ILIKE '%spam%' THEN v.post_id \n",
    "          END) AS spam_posts \n",
    "FROM facebook_posts p\n",
    "JOIN facebook_post_views v\n",
    "ON p.post_id = v.post_id\n",
    "GROUP BY post_date\n",
    ")\n",
    "SELECT \n",
    "    post_date,\n",
    "    spam_posts / total_viewed_posts::float * 100 AS spam_share\n",
    "FROM total"
   ]
  },
  {
   "cell_type": "raw",
   "id": "dc10c5bc",
   "metadata": {},
   "source": [
    "--#法2：部分与整体比值：SUM(CASE WHEN X THEN 1 ELSE 0 END) * 100 / COUNT(*) + JOIN\n",
    "SELECT \n",
    "    post_date,\n",
    "    SUM(CASE WHEN post_keywords ILIKE '%spam%' THEN 1 ELSE 0 END) * 100 / COUNT(*)\n",
    "FROM facebook_posts p\n",
    "JOIN facebook_post_views v\n",
    "ON p.post_id = v.post_id\n",
    "GROUP BY post_date"
   ]
  },
  {
   "cell_type": "raw",
   "id": "b815abe7",
   "metadata": {},
   "source": [
    "--#法3： 整体 left join 部分；SELECT 部分/整体求比率\n",
    "\n",
    "SELECT \n",
    "    spam_summary.post_date,\n",
    "    n_spam / n_posts::FLOAT * 100 AS spam_share\n",
    "FROM\n",
    "    (SELECT \n",
    "    post_date,\n",
    "    SUM(CASE\n",
    "            WHEN v.viewer_id IS NOT NULL THEN 1\n",
    "            ELSE 0 \n",
    "        END) AS n_posts\n",
    "    FROM facebook_posts p\n",
    "    JOIN facebook_post_views v\n",
    "    ON p.post_id = v.post_id\n",
    "    GROUP BY post_date) posts_summary\n",
    "LEFT JOIN\n",
    "    (SELECT \n",
    "    post_date,\n",
    "    SUM(CASE\n",
    "            WHEN v.viewer_id IS NOT NULL THEN 1\n",
    "            ELSE 0 \n",
    "        END) AS n_spam\n",
    "    FROM facebook_posts p\n",
    "    JOIN facebook_post_views v\n",
    "    ON p.post_id = v.post_id\n",
    "    WHERE post_keywords ILIKE '%spam%'\n",
    "    GROUP BY post_date) spam_summary\n",
    "ON posts_summary.post_date = spam_summary.post_date"
   ]
  },
  {
   "cell_type": "markdown",
   "id": "566dd246",
   "metadata": {},
   "source": [
    "# 63.Requests Acceptance Rate\n",
    "\n",
    "\n",
    "Airbnb\n",
    "Medium\n",
    "ID 10133\n",
    "\n",
    "Find the acceptance rate of requests which is defined as the ratio of accepted contacts vs all contacts. Multiply the ratio by 100 to get the rate.\n",
    "\n",
    "Table: airbnb_contacts"
   ]
  },
  {
   "cell_type": "code",
   "execution_count": null,
   "id": "bedd5dde",
   "metadata": {},
   "outputs": [],
   "source": [
    "整体/部分比值：\n",
    "1. COUNT(ts.部分) / COUNT(整体)\n",
    "2. SUM(CASE WHEN X THEN 1 ELSE 0 END) / COUNT(*)\n",
    "3. COUNT(CASE WHEN X THEN A) / COUNT(*)"
   ]
  },
  {
   "cell_type": "raw",
   "id": "4680c656",
   "metadata": {},
   "source": [
    "--#法1：COUNT(ts.部分) / COUNT(整体)\n",
    "SELECT\n",
    "    COUNT(ts_accepted_at) / COUNT(ts_contact_at)::FLOAT * 100 AS acceptance_rate\n",
    "FROM airbnb_contacts"
   ]
  },
  {
   "cell_type": "raw",
   "id": "294af4bc",
   "metadata": {},
   "source": [
    "--#法2：SUM(CASE WHEN X THEN 1 ELSE 0 END) / COUNT(*)\n",
    "SELECT \n",
    "    100 * SUM(CASE\n",
    "                  WHEN ts_accepted_at IS NOT NULL THEN 1\n",
    "                  ELSE 0\n",
    "              END) / COUNT(*) AS acceptance_rate\n",
    "FROM airbnb_contacts"
   ]
  },
  {
   "cell_type": "raw",
   "id": "0f070f41",
   "metadata": {},
   "source": [
    "--#法3：COUNT(CASE WHEN X THEN A) / COUNT(*)\n",
    "SELECT \n",
    "    COUNT(CASE \n",
    "              WHEN ts_accepted_at IS NOT NULL THEN ts_accepted_at\n",
    "          END) / COUNT(*)::FLOAT * 100 AS acceptance_rate\n",
    "FROM airbnb_contacts"
   ]
  },
  {
   "cell_type": "markdown",
   "id": "981d2652",
   "metadata": {},
   "source": [
    "# 64. Highest Crime Rate\n",
    "\n",
    "\n",
    "City of San Francisco\n",
    "Easy\n",
    "ID 10132\n",
    "\n",
    "Find the number of crime occurrences for each day of the week.\n",
    "Output the day alongside the corresponding crime count.\n",
    "\n",
    "Table: sf_crime_incidents_2014_01"
   ]
  },
  {
   "cell_type": "raw",
   "id": "20073817",
   "metadata": {},
   "source": [
    "--# crime occurrences for each day of the week\n",
    "\n",
    "--day_of_week; n_occurences\n",
    "\n",
    "SELECT \n",
    "    day_of_week,\n",
    "    COUNT(*) AS n_occurences\n",
    "FROM sf_crime_incidents_2014_01\n",
    "GROUP BY \n",
    "    day_of_week\n",
    "ORDER BY \n",
    "    n_occurences DESC"
   ]
  },
  {
   "cell_type": "markdown",
   "id": "890c00d5",
   "metadata": {},
   "source": [
    "# 65. Business Name Lengths\n",
    "\n",
    "\n",
    "Interview Question Date: June 2020\n",
    "\n",
    "City of San Francisco\n",
    "Hard\n",
    "ID 10131\n",
    "\n",
    "\n",
    "Find the number of words in each business name. Avoid counting special symbols as words (e.g. &). Output the business name and its count of words.\n",
    "\n",
    "Table: sf_restaurant_health_violations"
   ]
  },
  {
   "cell_type": "raw",
   "id": "a7b9bb3e",
   "metadata": {},
   "source": [
    "1.regexp_replace(business_name, '[^a-zA-Z0-9 ]', '', 'g'):去除除字母以外的字符\n",
    "将源文本中所有匹配上述正则表达式的字符都移除，从而得到一个只包含字母、数字和空格的新字符串。\n",
    "'[^a-zA-Z0-9 ]' 是一个正则表达式模式，用于匹配任何不是字母、数字或空格的字符。\n",
    "'' 是一个空字符串，表示将匹配到的文本部分替换为空，即移除匹配到的字符。\n",
    "'g' 是一个标志，表示全局匹配，会替换所有匹配到的字符，而不仅仅是第一个匹配项。\n",
    "\n",
    "\n",
    "2.array_length(regexp_split_to_array(b_name, '\\s+'), 1) : 计算词组数量\n",
    "将会计算 b_name 经过空格字符拆分后的数组的长度，即计算 b_name 中包含的单词数量。\n",
    "array_length() 是一个函数，它用于获取数组的长度（即数组中元素的数量）\n",
    "'\\s+' 是一个正则表达式模式，表示匹配一个或多个连续的空格字符"
   ]
  },
  {
   "cell_type": "raw",
   "id": "4b2c29e3",
   "metadata": {},
   "source": [
    "SELECT\n",
    "    DISTINCT business_name,\n",
    "    array_length(regexp_split_to_array(b_name, '\\s+'), 1) AS word_count\n",
    "FROM\n",
    "    (SELECT \n",
    "        business_name,\n",
    "        regexp_replace(business_name, '[^a-zA-Z0-9 ]', '', 'g') AS b_name\n",
    "    FROM sf_restaurant_health_violations) AS sfr"
   ]
  },
  {
   "cell_type": "markdown",
   "id": "3c200163",
   "metadata": {},
   "source": [
    "# 66.Find the number of inspections for each risk category by inspection type\n",
    "\n",
    "\n",
    "Interview Question Date: June 2020\n",
    "\n",
    "City of San Francisco\n",
    "Medium\n",
    "ID 10130\n",
    "25\n",
    "\n",
    "Data Engineer\n",
    "Data Scientist\n",
    "BI Analyst\n",
    "Data Analyst\n",
    "Find the number of inspections that resulted in each risk category per each inspection type.\n",
    "Consider the records with no risk category value belongs to a separate category.\n",
    "Output the result along with the corresponding inspection type and the corresponding total number of inspections per that type. The output should be pivoted, meaning that each risk category + total number should be a separate column.\n",
    "Order the result based on the number of inspections per inspection type in descending order.\n",
    "\n",
    "Table: sf_restaurant_health_violations"
   ]
  },
  {
   "cell_type": "raw",
   "id": "c31faec1",
   "metadata": {},
   "source": [
    "法1：COUNT(CASE WHEN X THEN id END)\n",
    "法2：SUM(CASE WHEN X THEN 1 ELSE 0 END)"
   ]
  },
  {
   "cell_type": "raw",
   "id": "177fc038",
   "metadata": {},
   "source": [
    "#法1：COUNT(CASE WHEN X THEN id END)\n",
    "SELECT \n",
    "    inspection_type,\n",
    "    COUNT(CASE WHEN risk_category IS NULL THEN inspection_id END) AS no_risk_results,\n",
    "    COUNT(CASE WHEN risk_category = 'Low Risk' THEN inspection_id END) AS low_risk_results,\n",
    "    COUNT(CASE WHEN risk_category = 'Moderate Risk' THEN inspection_id END) AS medium_risk_results,\n",
    "    COUNT(CASE WHEN risk_category = 'High Risk' THEN inspection_id END) AS high_risk_results,\n",
    "    COUNT(inspection_id) AS total_inspections\n",
    "FROM sf_restaurant_health_violations\n",
    "GROUP BY inspection_type\n",
    "ORDER BY total_inspections DESC"
   ]
  },
  {
   "cell_type": "raw",
   "id": "2e73527e",
   "metadata": {},
   "source": [
    "#法2：SUM(CASE WHEN X THEN 1 ELSE 0 END)\n",
    "SELECT \n",
    "inspection_type,\n",
    "\n",
    "SUM(CASE\n",
    "        WHEN risk_category IS NULL THEN 1 ELSE 0\n",
    "    END) AS no_risk_results,\n",
    "    \n",
    "SUM(CASE\n",
    "        WHEN risk_category = 'Low Risk' THEN 1 ELSE 0\n",
    "    END) AS low_risk_results,    \n",
    "    \n",
    "SUM(CASE\n",
    "        WHEN risk_category = 'Moderate Risk' THEN 1 ELSE 0\n",
    "    END) AS medium_risk_results,   \n",
    "    \n",
    "SUM(CASE\n",
    "        WHEN risk_category = 'High Risk' THEN 1 ELSE 0\n",
    "    END) AS high_risk_results, \n",
    "\n",
    "COUNT(*) AS total_inspections\n",
    "\n",
    "FROM\n",
    "    sf_restaurant_health_violations\n",
    "\n",
    "GROUP BY \n",
    "    inspection_type\n",
    "\n",
    "ORDER BY \n",
    "    total_inspections DESC"
   ]
  },
  {
   "cell_type": "markdown",
   "id": "0138d71f",
   "metadata": {},
   "source": [
    "# 67. Count the number of movies that Abigail Breslin nominated for oscar\n",
    "\n",
    "\n",
    "Google\n",
    "Netflix\n",
    "Easy\n",
    "ID 10128\n",
    "\n",
    "Count the number of movies that Abigail Breslin was nominated for an oscar.\n",
    "\n",
    "Table: oscar_nominees"
   ]
  },
  {
   "cell_type": "raw",
   "id": "54bb0e37",
   "metadata": {},
   "source": [
    "去重重复的记录：COUNT(DISTINCT X)"
   ]
  },
  {
   "cell_type": "raw",
   "id": "7ce6892b",
   "metadata": {},
   "source": [
    "SELECT \n",
    "    COUNT(DISTINCT movie) AS n_movies_by_abi\n",
    "FROM oscar_nominees\n",
    "WHERE nominee = 'Abigail Breslin'"
   ]
  },
  {
   "cell_type": "markdown",
   "id": "2beeb252",
   "metadata": {},
   "source": [
    "# 68. Calculate Samantha's and Lisa's total sales revenue\n",
    "\n",
    "\n",
    "Amazon\n",
    "Groupon\n",
    "Salesforce\n",
    "Easy\n",
    "ID 10127\n",
    "\n",
    "What is the total sales revenue of Samantha and Lisa?\n",
    "\n",
    "Table: sales_performance"
   ]
  },
  {
   "cell_type": "raw",
   "id": "37105438",
   "metadata": {},
   "source": [
    "去AB两个对应的值：\n",
    "X IN ('A', 'B')\n",
    "X = 'A' OR 'B' \n",
    "\n",
    "WHERE salesperson IN ('Samantha', 'Lisa')\n",
    "WHERE salesperson = 'Samantha' OR salesperson = 'Lisa'"
   ]
  },
  {
   "cell_type": "raw",
   "id": "312f30fa",
   "metadata": {},
   "source": [
    "SELECT \n",
    "    SUM(sales_revenue) AS total_revenue\n",
    "FROM sales_performance\n",
    "WHERE salesperson IN ('Samantha', 'Lisa')\n",
    "--WHERE salesperson = 'Samantha' OR salesperson = 'Lisa'"
   ]
  },
  {
   "cell_type": "markdown",
   "id": "f9401b20",
   "metadata": {},
   "source": [
    "# 69.Bookings vs Non-Bookings\n",
    "\n",
    "\n",
    "Interview Question Date: May 2020\n",
    "\n",
    "Airbnb\n",
    "Medium\n",
    "ID 10124\n",
    "\n",
    "Display the average number of times a user performed a search which led to a successful booking and the average number of times a user performed a search but did not lead to a booking. The output should have a column named action with values 'does not book' and 'books' as well as a 2nd column named average_searches with the average number of searches per action. Consider that the booking did not happen if the booking date is null. Be aware that search is connected to the booking only if their check-in dates match.\n",
    "\n",
    "Tables: airbnb_contacts, airbnb_searches"
   ]
  },
  {
   "cell_type": "raw",
   "id": "85843f5f",
   "metadata": {},
   "source": [
    "整体（有book的和没有book的） LEFT JOIN 部分 （book的） ON guest book的条件\n",
    "整体：做了case when: ts_book不为空且ds.check-in相等 为'book', 否则'does not book', AVG(n_searches)\n",
    "部分：所有ts_book不为空的记录\n",
    "ON: id_user = id_guest AND ds_checkin = ds_checkin：把部分（book的记录）与整体（book&unbook的记录）match上"
   ]
  },
  {
   "cell_type": "raw",
   "id": "66d3de50",
   "metadata": {},
   "source": [
    "--avg # times a user search ~ succ booking & avg # times a user ~ not booking\n",
    "--output: action：books，does not book , average_searches： average number of searches per action.\n",
    "-- book not happen if book date is null; book happen only if check-in dates match\n",
    "\n",
    "法1:\n",
    "\n",
    "SELECT \n",
    "    CASE\n",
    "          WHEN c.ts_booking_at IS NOT NULL AND c.ds_checkin = s.ds_checkin THEN 'books'\n",
    "          ELSE 'does not book'\n",
    "      END AS action,\n",
    "    AVG(n_searches) AS average_searches\n",
    "FROM airbnb_searches s\n",
    "LEFT JOIN \n",
    "(SELECT *\n",
    "    FROM airbnb_contacts \n",
    "WHERE ts_booking_at IS NOT NULL) c \n",
    "ON s.id_user = c.id_guest\n",
    "--ON s.id_user = c.id_guest AND s.ds_checkin = c.ds_checkin 效果与ON s.id_user = c.id_guest  一样\n",
    "GROUP BY 1"
   ]
  },
  {
   "cell_type": "raw",
   "id": "616449dd",
   "metadata": {},
   "source": [
    "法2：全 left join 部分\n",
    "WITH c as \n",
    "(select\n",
    "    *\n",
    "FROM airbnb_contacts \n",
    "WHERE ts_booking_at is not null    --book的\n",
    ")\n",
    "SELECT                            --book+not book的\n",
    "CASE WHEN c.ts_booking_at IS NOT NULL AND c.ds_checkin = s.ds_checkin THEN 'books'  --search ~ booking: ts_checkin date matches\n",
    "     ELSE 'does not book'\n",
    "END AS action,\n",
    "AVG(n_searches) AS average_searches\n",
    "FROM airbnb_searches s LEFT JOIN c --用全的left join部分的\n",
    "ON s.id_user = c.id_guest          --顾客id = 用户id\n",
    "GROUP BY 1\n",
    "\n",
    "-- ※此处s是有book的，有没book的；c是全book的\n",
    "-- s left join c "
   ]
  },
  {
   "cell_type": "markdown",
   "id": "e36aab21",
   "metadata": {},
   "source": [
    "# 70.Find the total number of searches for houses Westlake neighborhood with a TV\n",
    "\n",
    "\n",
    "Airbnb\n",
    "Easy\n",
    "ID 10122\n",
    "\n",
    "Find the total number of searches for houses in Westlake neighborhood with a TV among the amenities.\n",
    "\n",
    "Table: airbnb_search_details"
   ]
  },
  {
   "cell_type": "raw",
   "id": "fc83e8bd",
   "metadata": {},
   "source": [
    "SELECT \n",
    "    COUNT(*) \n",
    "FROM airbnb_search_details\n",
    "WHERE neighbourhood = 'Westlake'\n",
    "AND amenities ILIKE '%TV%'\n",
    "AND property_type = 'House'"
   ]
  },
  {
   "cell_type": "markdown",
   "id": "6b399a5a",
   "metadata": {},
   "source": [
    "# 71.Number Of Custom Email Labels\n",
    "\n",
    "\n",
    "Google\n",
    "Medium\n",
    "ID 10120\n",
    "\n",
    "Find the number of occurrences of custom email labels for each user receiving an email. Output the receiver user id, label, and the corresponding number of occurrences.\n",
    "\n",
    "Tables: google_gmail_emails, google_gmail_labels"
   ]
  },
  {
   "cell_type": "raw",
   "id": "d2888282",
   "metadata": {},
   "source": [
    "--# custom eail labels for each user receive email\n",
    "--output:  user_id：receiver user id, label, n_occurences：# occurence\n",
    "\n",
    "SELECT\n",
    "    to_user AS user_id,\n",
    "    label,\n",
    "    COUNT(*) AS n_occurences\n",
    "FROM google_gmail_emails e\n",
    "JOIN google_gmail_labels l\n",
    "ON e.id = l.email_id\n",
    "WHERE label ILIKE '%Custom%'\n",
    "GROUP BY to_user, label"
   ]
  },
  {
   "cell_type": "markdown",
   "id": "3e3ffd46",
   "metadata": {},
   "source": [
    "# 72.User Exile\n",
    "\n",
    "\n",
    "Meta/Facebook\n",
    "Easy\n",
    "ID 10091\n",
    "\n",
    "Find the number of relationships that user  with id == 1 is not part of.\n",
    "\n",
    "Table: facebook_friends"
   ]
  },
  {
   "cell_type": "raw",
   "id": "1c7a19a9",
   "metadata": {},
   "source": [
    "user1!=1 AND user2!=1 \n",
    "1 NOT IN (user1, user2) "
   ]
  },
  {
   "cell_type": "raw",
   "id": "45422809",
   "metadata": {},
   "source": [
    "SELECT \n",
    "    COUNT(*) AS user1_not_in_relationship\n",
    "FROM facebook_friends\n",
    "WHERE 1 NOT IN (user1, user2)"
   ]
  },
  {
   "cell_type": "raw",
   "id": "44acdc13",
   "metadata": {},
   "source": [
    "SELECT\n",
    "    COUNT(*) AS user1_not_in_relationship\n",
    "FROM facebook_friends\n",
    "WHERE user1!=1 AND user2!=1 "
   ]
  },
  {
   "cell_type": "markdown",
   "id": "5a8ffc62",
   "metadata": {},
   "source": [
    "# 73.Find the percentage of shipable orders\n",
    "\n",
    "\n",
    "Google\n",
    "Amazon\n",
    "Medium\n",
    "ID 10090\n",
    "\n",
    "Find the percentage of shipable orders.\n",
    "Consider an order is shipable if the customer's address is known.\n",
    "\n",
    "Tables: orders, customers"
   ]
  },
  {
   "cell_type": "raw",
   "id": "2795c2fb",
   "metadata": {},
   "source": [
    "1.COUNT(CASE WHEN X THEN Y END) / COUNT(*)::FLOAT AS pct\n",
    "2.CASE WHEN X THEN FALSE ELSE TRUE END AS is_shipable 建立T/F列\n",
    "SUM(CASE WHEN is_shipable THEN 1 ELSE 0 END) / COUNT(*)::NUMERIC AS pct    \n",
    "3.COUNT(A) * 100 / COUNT(*)"
   ]
  },
  {
   "cell_type": "raw",
   "id": "ad5fa5f6",
   "metadata": {},
   "source": [
    "法1：\n",
    "\n",
    "COUNT(CASE WHEN X THEN Y END) / COUNT(*)::FLOAT AS pct\n",
    "SELECT \n",
    "    COUNT(CASE WHEN c.address IS NOT NULL THEN o.id END) / COUNT(*)::FLOAT * 100 AS percent_shipable\n",
    "FROM orders o\n",
    "JOIN customers c\n",
    "ON o.cust_id = c.id"
   ]
  },
  {
   "cell_type": "raw",
   "id": "23cf286c",
   "metadata": {},
   "source": [
    "法2：\n",
    "\n",
    "CASE WHEN X THEN FALSE ELSE TRUE END AS is_shipable 建立T/F列\n",
    "SUM(CASE WHEN is_shipable THEN 1 ELSE 0 END) / COUNT(*)::NUMERIC AS pct\n",
    "\n",
    "WITH is_shipable AS(\n",
    "SELECT \n",
    "    o.id,\n",
    "    CASE WHEN address IS NULL THEN FALSE ELSE TRUE END AS is_shipable\n",
    "FROM orders o\n",
    "JOIN customers c\n",
    "ON o.cust_id = c.id\n",
    ")\n",
    "SELECT \n",
    "    SUM(CASE WHEN is_shipable THEN 1 ELSE 0 END)::NUMERIC / COUNT(*) * 100 AS percent_shipable\n",
    "FROM is_shipable"
   ]
  },
  {
   "cell_type": "raw",
   "id": "b7da9252",
   "metadata": {},
   "source": [
    "--法3：shippable = #orders with address/#orders\n",
    "\n",
    "SELECT \n",
    "    COUNT(c.address) * 100 / COUNT(*) AS percent_shipable\n",
    "FROM orders o\n",
    "JOIN customers c\n",
    "ON o.cust_id = c.id"
   ]
  },
  {
   "cell_type": "markdown",
   "id": "0aec643f",
   "metadata": {},
   "source": [
    "# 74. Find the number of customers without an order\n",
    "\n",
    "\n",
    "Google\n",
    "Amazon\n",
    "Medium\n",
    "ID 10089\n",
    "\n",
    "Find the number of customers without an order.\n",
    "\n",
    "Tables: orders, customers"
   ]
  },
  {
   "cell_type": "raw",
   "id": "8c8b1f29",
   "metadata": {},
   "source": [
    "韦恩图不在求法：\n",
    "X NOT IN SELECT (B FROM C)\n",
    "LEFT JOIN + X IS NULL"
   ]
  },
  {
   "cell_type": "raw",
   "id": "3014687f",
   "metadata": {},
   "source": [
    "SELECT \n",
    "    COUNT(c.id) AS n_customers_without_orders\n",
    "FROM customers c\n",
    "LEFT JOIN orders o\n",
    "ON o.cust_id = c.id\n",
    "--WHERE c.id NOT IN (SELECT cust_id FROM orders)\n",
    "WHERE o.cust_id IS NULL"
   ]
  },
  {
   "cell_type": "markdown",
   "id": "2444fb0a",
   "metadata": {},
   "source": [
    "# 75.Liked' Posts\n",
    "\n",
    "\n",
    "Meta/Facebook\n",
    "Medium\n",
    "ID 10088\n",
    "\n",
    "Find the number of posts which were reacted to with a like.\n",
    "\n",
    "Tables: facebook_reactions, facebook_posts"
   ]
  },
  {
   "cell_type": "raw",
   "id": "6d708acf",
   "metadata": {},
   "source": [
    "--法1：整体 left join部分 + 创建like列 T/F，SUM(CASE WHEN like_post = 'TRUE' THEN 1 ELSE 0 END)\n",
    "--法2：算每个post有多少like：SUM(CASE WHEN X THE 1 ELSE 0 END)；COUNT(*) + num_like_each_post !=0\n",
    "--法3：COUNT(DISTINCT ID) + WHERE reaction = 'like'"
   ]
  },
  {
   "cell_type": "raw",
   "id": "01bd78d8",
   "metadata": {},
   "source": [
    "--法1：整体 left join部分 + 创建like列 T/F，SUM(CASE WHEN like_post = 'TRUE' THEN 1 ELSE 0 END)\n",
    "WITH like_post AS(\n",
    "SELECT \n",
    "    DISTINCT\n",
    "    p.post_id,\n",
    "    CASE WHEN r.reaction = 'like' THEN TRUE ELSE FALSE END AS like_posts\n",
    "FROM facebook_posts p\n",
    "LEFT JOIN facebook_reactions r\n",
    "ON p.post_id = r.post_id\n",
    ")\n",
    "SELECT \n",
    "    SUM(CASE WHEN like_posts = 'TRUE' THEN 1 ELSE 0 END) AS n_posts_with_a_like\n",
    "FROM like_post"
   ]
  },
  {
   "cell_type": "raw",
   "id": "581ac82c",
   "metadata": {},
   "source": [
    "--法2：算每个post有多少like：SUM(CASE WHEN X THE 1 ELSE 0 END)；COUNT(*) + num_like_each_post !=0\n",
    "WITH num_like_each_post AS(\n",
    "SELECT \n",
    "    DISTINCT p.post_id,\n",
    "    SUM(CASE WHEN reaction = 'like' THEN 1 ELSE 0 END) AS num_like_each_post\n",
    "FROM facebook_posts p\n",
    "LEFT JOIN facebook_reactions r\n",
    "ON p.post_id = r.post_id\n",
    "GROUP BY 1\n",
    ")\n",
    "SELECT \n",
    "    COUNT(*) \n",
    "FROM num_like_each_post\n",
    "WHERE num_like_each_post != 0"
   ]
  },
  {
   "cell_type": "raw",
   "id": "17f2da99",
   "metadata": {},
   "source": [
    "--法3：COUNT(DISTINCT ID) + WHERE reaction = 'like'\n",
    "SELECT \n",
    "    COUNT(DISTINCT p.post_id) AS n_posts_with_a_like\n",
    "FROM facebook_posts p\n",
    "LEFT JOIN facebook_reactions r\n",
    "ON p.post_id = r.post_id\n",
    "WHERE r.reaction = 'like'"
   ]
  },
  {
   "cell_type": "markdown",
   "id": "f70f7b22",
   "metadata": {},
   "source": [
    "# 76.Find all posts which were reacted to with a heart\n",
    "\n",
    "\n",
    "Meta/Facebook\n",
    "Easy\n",
    "ID 10087\n",
    "\n",
    "Find all posts which were reacted to with a heart. For such posts output all columns from facebook_posts table.\n",
    "\n",
    "Tables: facebook_reactions, facebook_posts"
   ]
  },
  {
   "cell_type": "raw",
   "id": "ca438170",
   "metadata": {},
   "source": [
    "去除重复记录： SELECT DISTINCT table.*"
   ]
  },
  {
   "cell_type": "raw",
   "id": "d463743b",
   "metadata": {},
   "source": [
    "--# posts reacted with a heart\n",
    "--output all columns\n",
    "\n",
    "SELECT \n",
    "    DISTINCT p.*\n",
    "FROM \n",
    "    facebook_posts p\n",
    "JOIN \n",
    "    facebook_reactions r\n",
    "ON \n",
    "    p.post_id = r.post_id\n",
    "WHERE\n",
    "    r.reaction = 'heart'"
   ]
  },
  {
   "cell_type": "markdown",
   "id": "d0a45e08",
   "metadata": {},
   "source": [
    "# 77.Email Details Based On Sends\n",
    "\n",
    "\n",
    "Google\n",
    "Medium\n",
    "ID 10086\n",
    "\n",
    "Find all records from days when the number of distinct users receiving emails was greater than the number of distinct users sending emails\n",
    "\n",
    "Table: google_gmail_emails"
   ]
  },
  {
   "cell_type": "raw",
   "id": "06c70391",
   "metadata": {},
   "source": [
    "法1：COUNT(A), COUNT(B) + HAVING COUNT(A) < COUNT(B)\n",
    "法2：整体 JOIN 部分（COUNT(A) / COUNT(B)：等于在原表后加了一列ratio；filter ratio < 1"
   ]
  },
  {
   "cell_type": "raw",
   "id": "53c0d115",
   "metadata": {},
   "source": [
    "法1：COUNT(A), COUNT(B) + HAVING COUNT(A) < COUNT(B)\n",
    "WITH base AS(\n",
    "SELECT \n",
    "    day,\n",
    "    COUNT(DISTINCT from_user) AS users_sending_emails,\n",
    "    COUNT(DISTINCT to_user) AS users_receiving_emails\n",
    "FROM google_gmail_emails\n",
    "GROUP BY 1\n",
    "HAVING COUNT(DISTINCT from_user) < COUNT(DISTINCT to_user)\n",
    ")\n",
    "SELECT *\n",
    "FROM google_gmail_emails\n",
    "WHERE day IN (SELECT day FROM base)"
   ]
  },
  {
   "cell_type": "raw",
   "id": "a752c9e5",
   "metadata": {},
   "source": [
    "法2：整体 JOIN 部分（COUNT(A) / COUNT(B)：等于在原表后加了一列ratio；filter ratio < 1\n",
    "\n",
    "SELECT \n",
    "    g.*\n",
    "FROM google_gmail_emails g\n",
    "JOIN\n",
    "    (SELECT \n",
    "        day,\n",
    "        COUNT(DISTINCT from_user):: NUMERIC /\n",
    "        COUNT(DISTINCT to_user) AS sent_received_ratio\n",
    "    FROM \n",
    "        google_gmail_emails\n",
    "    GROUP BY\n",
    "        day) base\n",
    "ON g.day = base.day\n",
    "AND base.sent_received_ratio < 1"
   ]
  },
  {
   "cell_type": "markdown",
   "id": "08c01739",
   "metadata": {},
   "source": [
    "# 78.Meta/Facebook Matching Users Pairs\n",
    "\n",
    "\n",
    "Meta/Facebook\n",
    "Medium\n",
    "ID 10085\n",
    "\n",
    "Find matching pairs of Meta/Facebook employees such that they are both of the same nation, different age, same gender, and at different seniority levels.\n",
    "Output ids of paired employees.\n",
    "\n",
    "Table: facebook_employees"
   ]
  },
  {
   "cell_type": "raw",
   "id": "61cbdb1b",
   "metadata": {},
   "source": [
    "法1：self join on e1.id < e2.id for non-repeat pairs\n",
    "法2：self join:将所有条件做在join里面 + id is not null"
   ]
  },
  {
   "cell_type": "raw",
   "id": "3135b1e5",
   "metadata": {},
   "source": [
    "--法1：self join on e1.id < e2.id for non-repeat pairs\n",
    "SELECT \n",
    "    a.id AS employee_1,\n",
    "    b.id AS employee_2\n",
    "FROM facebook_employees a\n",
    "JOIN facebook_employees b\n",
    "ON a.id !=b.id\n",
    "WHERE a.location = b.location\n",
    "AND a.age != b.age\n",
    "AND a.gender = b.gender\n",
    "AND a.is_senior != b.is_senior"
   ]
  },
  {
   "cell_type": "raw",
   "id": "36d3ee9e",
   "metadata": {},
   "source": [
    "--法2：self join:将所有条件做在join里面 + id is not null\n",
    "\n",
    "SELECT \n",
    "    e1.id AS employee_1,\n",
    "    e2.id AS employee_2\n",
    "FROM \n",
    "    facebook_employees e1\n",
    "JOIN  \n",
    "    facebook_employees e2\n",
    "ON \n",
    "    e1.location = e2.location AND \n",
    "    e1.age != e2.age AND \n",
    "    e1.gender = e2.gender AND \n",
    "    e1.is_senior != e2.is_senior\n",
    "WHERE\n",
    "    e1.id IS NOT NULL AND\n",
    "    e2.id IS NOT NULL"
   ]
  },
  {
   "cell_type": "markdown",
   "id": "dbe50e3c",
   "metadata": {},
   "source": [
    "# 79. Cum Sum Energy Consumption\n",
    "\n",
    "\n",
    "Interview Question Date: April 2020\n",
    "\n",
    "Meta/Facebook\n",
    "Hard\n",
    "ID 10084\n",
    "\n",
    "Calculate the running total (i.e., cumulative sum) energy consumption of the Meta/Facebook data centers in all 3 continents by the date. Output the date, running total energy consumption, and running total percentage rounded to the nearest whole number.\n",
    "\n",
    "Tables: fb_eu_energy, fb_na_energy, fb_asia_energy"
   ]
  },
  {
   "cell_type": "raw",
   "id": "481be80c",
   "metadata": {},
   "source": [
    "1.Running Total 和 All Days Total\n",
    "i.total表：先把三个地区的表 union all一起（如有同一天的相同数字记录会保留）\n",
    "ii.by date表：date, sum(c) AS day_total求每天的消费明细\n",
    "iii. running total：date, sum(day_total) over (order by date) 求截止该日为止的消费总和明细\n",
    "iv. all days total：sum(day_total)是所有日的消费总和\n",
    "v. pct_of_total: running_toal / all days total = sum(day_total) over (order by date) / sum(day_total))\n",
    "\n",
    "2.保留整数：round(X / Y, 0)"
   ]
  },
  {
   "cell_type": "raw",
   "id": "36b3d1d7",
   "metadata": {},
   "source": [
    "-- running total (cum sum) energy consump in all 3 continents by date\n",
    "--output date, cumulative_total_energy：running total, percentage_of_total_energy：running total pct rounded to nearest whole number\n",
    "\n",
    "WITH total AS(\n",
    "    SELECT * FROM fb_eu_energy\n",
    "    UNION ALL\n",
    "    SELECT * FROM fb_na_energy\n",
    "    UNION ALL\n",
    "    SELECT * FROM fb_asia_energy\n",
    "    ORDER BY 1\n",
    "),\n",
    "energy_by_date AS(\n",
    "    SELECT \n",
    "        date,\n",
    "        SUM(consumption) AS total_energy\n",
    "    FROM total\n",
    "    GROUP BY date\n",
    "    ORDER BY date\n",
    ")\n",
    "SELECT \n",
    "    date,\n",
    "    SUM(total_energy) OVER (ORDER BY DATE) AS cumulative_total_energy,\n",
    "    -- (SELECT SUM(total_energy) FROM energy_by_date) AS all_days_total_energy,\n",
    "    ROUND(SUM(total_energy) OVER(ORDER BY DATE) * 100 / (SELECT SUM(total_energy) FROM energy_by_date), 0) AS percentage_of_total_energy --cum / all_days_total\n",
    "FROM energy_by_date"
   ]
  },
  {
   "cell_type": "markdown",
   "id": "6a4e328a",
   "metadata": {},
   "source": [
    "# 80.Start Dates Of Top Drivers\n",
    "\n",
    "\n",
    "Lyft\n",
    "Medium\n",
    "ID 10083\n",
    "\n",
    "Find contract starting dates of the top 5 most paid Lyft drivers. Consider only drivers who are still working with Lyft.\n",
    "\n",
    "Table: lyft_drivers"
   ]
  },
  {
   "cell_type": "raw",
   "id": "4676385e",
   "metadata": {},
   "source": [
    "--contract starting dates of top 5 most paid drivers\n",
    "--only drivers still work with lyft：end_date IS NULL：end_date是空值\n",
    "\n",
    "--output: start_date\n",
    "\n",
    "SELECT start_date\n",
    "FROM\n",
    "    (SELECT \n",
    "        *,\n",
    "        RANK() OVER (\n",
    "                     ORDER BY yearly_salary DESC) AS rnk\n",
    "    FROM lyft_drivers\n",
    "    WHERE end_date IS NULL) t\n",
    "WHERE rnk <= 5"
   ]
  },
  {
   "cell_type": "markdown",
   "id": "1a21a4e7",
   "metadata": {},
   "source": [
    "# 81. Find the number of employees who received the bonus and who didn't\n",
    "\n",
    "\n",
    "Microsoft\n",
    "Dell\n",
    "Hard\n",
    "ID 10081\n",
    "\n",
    "Find the number of employees who received the bonus and who didn't. Bonus values in employee table are corrupted so you should use  values from the bonus table. Be aware of the fact that employee can receive more than bonus.\n",
    "Output value inside has_bonus column (1 if they had bonus, 0 if not) along with the corresponding number of employees for each.\n",
    "\n",
    "Tables: employee, bonus"
   ]
  },
  {
   "cell_type": "raw",
   "id": "d4bd5e47",
   "metadata": {},
   "source": [
    "--  # employees receive the bonus and who did not\n",
    "--  bonus values in employee table ×；use bonus values from the bonus table\n",
    "-- can receive bonus > 1\n",
    "--  output: has_bonus：has_bonus (1,0) , n_employees：# employess\n",
    "\n",
    "\n",
    "SELECT \n",
    "CASE WHEN b.bonus_amount IS NOT NULL THEN 1\n",
    "     ELSE 0\n",
    "     END AS has_bonus,\n",
    "COUNT(DISTINCT e.id)\n",
    "FROM\n",
    "    employee e\n",
    "LEFT JOIN \n",
    "    bonus b\n",
    "ON \n",
    "    b.worker_ref_id = e.id\n",
    "GROUP BY 1"
   ]
  },
  {
   "cell_type": "markdown",
   "id": "2fb4a1a8",
   "metadata": {},
   "source": [
    "# 82. Find matching hosts and guests in a way that they are both of the same gender and nationality\n",
    "\n",
    "\n",
    "Airbnb\n",
    "Medium\n",
    "ID 10078\n",
    "\n",
    "Find matching hosts and guests pairs in a way that they are both of the same gender and nationality.\n",
    "Output the host id and the guest id of matched pair.\n",
    "\n",
    "Tables: airbnb_hosts, airbnb_guests"
   ]
  },
  {
   "cell_type": "raw",
   "id": "dbdf14c8",
   "metadata": {},
   "source": [
    "DISTINCT 去除ID PAIR中重复的记录"
   ]
  },
  {
   "cell_type": "raw",
   "id": "19f134e3",
   "metadata": {},
   "source": [
    "SELECT \n",
    "    DISTINCT\n",
    "    h.host_id,\n",
    "    g.guest_id\n",
    "FROM airbnb_hosts h\n",
    "JOIN airbnb_guests g\n",
    "ON h.nationality = g.nationality AND h.gender = g.gender"
   ]
  },
  {
   "cell_type": "markdown",
   "id": "053a7e62",
   "metadata": {},
   "source": [
    "# 83.Income By Title and Gender\n",
    "\n",
    "\n",
    "City of San Francisco\n",
    "Medium\n",
    "ID 10077\n",
    "\n",
    "Find the average total compensation based on employee titles and gender. Total compensation is calculated by adding both the salary and bonus of each employee. However, not every employee receives a bonus so disregard employees without bonuses in your calculation. Employee can receive more than one bonus.\n",
    "Output the employee title, gender (i.e., sex), along with the average total compensation.\n",
    "\n",
    "Tables: sf_employee, sf_bonus"
   ]
  },
  {
   "cell_type": "raw",
   "id": "62801f10",
   "metadata": {},
   "source": [
    "--存在同一个人同一个salary对应多个bonus的情况：\n",
    "--需要先将第二个表，将一个worker_id, 对应一个total_bonus\n",
    "--再将两表join起来，salary + total_bonus作为total_comp，再avg()\n",
    "\n",
    "with cte as(\n",
    "select \n",
    "    worker_ref_id,\n",
    "    sum(bonus) as total_bonus\n",
    "from sf_bonus\n",
    "group by 1\n",
    ")\n",
    "select \n",
    "employee_title,\n",
    "sex,\n",
    "avg(a.salary + b.total_bonus) as avg_total_com\n",
    "from sf_employee a join cte b\n",
    "on a.id = b.worker_ref_id\n",
    "group by 1,2"
   ]
  },
  {
   "cell_type": "markdown",
   "id": "f8cd534d",
   "metadata": {},
   "source": [
    "# 84.Find the average age of guests reviewed by each host\n",
    "\n",
    "\n",
    "Airbnb\n",
    "Medium\n",
    "ID 10074\n",
    "\n",
    "Find the average age of guests reviewed by each host.\n",
    "Output the user along with the average age.\n",
    "\n",
    "Tables: airbnb_reviews, airbnb_guests"
   ]
  },
  {
   "cell_type": "raw",
   "id": "e9b14a89",
   "metadata": {},
   "source": [
    "-- avg age of guests reviewed by each host\n",
    "--output: from_user：HOST, average_age：guests\n",
    "\n",
    "--1.题意是每个host 去评价的 客户的平均年龄：from_type = 'host'; from_user AS host_id; avg(age) AS avg_guest_age\n",
    "\n",
    "--2.在应该保留全部记录的题目中，不要使用distinct。\n",
    "--一个host可以给同一个guest多次打分，而且存在多次打分中仍然打一样的分。\n",
    "--这样导致如果total使用distinct，则有不该被省略的记录被省略。"
   ]
  },
  {
   "cell_type": "raw",
   "id": "0e094620",
   "metadata": {},
   "source": [
    "WITH total AS(\n",
    "SELECT \n",
    "    *\n",
    "FROM airbnb_reviews r\n",
    "JOIN airbnb_guests g\n",
    "ON r.to_user = g.guest_id\n",
    "WHERE from_type = 'host'\n",
    "ORDER BY 1,2\n",
    ")\n",
    "SELECT \n",
    "    from_user,\n",
    "    AVG(age) AS average_age\n",
    "FROM total\n",
    "GROUP BY 1\n",
    "ORDER BY 1"
   ]
  },
  {
   "cell_type": "markdown",
   "id": "5a88aaac",
   "metadata": {},
   "source": [
    "# 85. Favorite Host Nationality\n",
    "\n",
    "\n",
    "Interview Question Date: April 2020\n",
    "\n",
    "Airbnb\n",
    "Medium\n",
    "ID 10073\n",
    "\n",
    "For each guest reviewer, find the nationality of the reviewer’s favorite host based on the guest’s highest review score given to a host. Output the user ID of the guest along with their favorite host’s nationality. In case there is more than one favorite host from the same country, list that country only once (remove duplicates).\n",
    "\n",
    "\n",
    "Both the from_user and to_user columns are user IDs.\n",
    "\n",
    "Tables: airbnb_reviews, airbnb_hosts"
   ]
  },
  {
   "cell_type": "raw",
   "id": "e2584a36",
   "metadata": {},
   "source": [
    "稳妥的方法：\n",
    "i. join两表开新表total时，保留全部记录*, rnk\n",
    "ii. 在计算时，取出所需变量，视情况看是否需要distinct"
   ]
  },
  {
   "cell_type": "raw",
   "id": "d9da8a26",
   "metadata": {},
   "source": [
    "--each guest reviewer ~ nationality of the reviewer's favorite host ~ guest's highest review score \n",
    "\n",
    "--output: from_user：user ID of the guest；nationality：favorite host\n",
    "\n",
    "--in case > 1 favorite host from the same country, list country only once(remove duplicate)\n",
    "\n",
    "WITH total AS(\n",
    "SELECT \n",
    "DISTINCT\n",
    "    *,\n",
    "    -- from_user,\n",
    "    -- to_user,\n",
    "    -- nationality,\n",
    "    -- review_score,\n",
    "    RANK() OVER (PARTITION BY from_user ORDER BY review_score DESC) as rnk\n",
    "FROM airbnb_reviews r\n",
    "JOIN airbnb_hosts h\n",
    "ON r.to_user = h.host_id\n",
    "WHERE from_type = 'guest'\n",
    "ORDER BY 1\n",
    ")\n",
    "SELECT \n",
    "    DISTINCT \n",
    "    from_user,\n",
    "    nationality\n",
    "FROM total\n",
    "WHERE rnk = 1"
   ]
  },
  {
   "cell_type": "markdown",
   "id": "238ba2fa",
   "metadata": {},
   "source": [
    "# 86.Guest Or Host Kindness\n",
    "\n",
    "\n",
    "Interview Question Date: April 2020\n",
    "\n",
    "Airbnb\n",
    "Easy\n",
    "ID 10072\n",
    "\n",
    "Find whether hosts or guests give higher review scores based on their average review scores. Output the higher of the average review score rounded to the 2nd decimal spot (e.g., 5.11).\n",
    "\n",
    "Table: airbnb_reviews"
   ]
  },
  {
   "cell_type": "raw",
   "id": "17a2430e",
   "metadata": {},
   "source": [
    "order by中可以有新产生的变量名"
   ]
  },
  {
   "cell_type": "raw",
   "id": "54b904dc",
   "metadata": {},
   "source": [
    "--是H or G 给了高分，依据他们的平均分 ==> 留一个最高平均分的记录\n",
    "\n",
    "SELECT from_type,\n",
    "       ROUND(AVG(review_score), 2) winner\n",
    "FROM airbnb_reviews\n",
    "GROUP BY from_type\n",
    "ORDER BY winner DESC\n",
    "LIMIT 1"
   ]
  },
  {
   "cell_type": "raw",
   "id": "c9cd2dcf",
   "metadata": {},
   "source": [
    "SELECT \n",
    "    from_type, \n",
    "    ROUND(av,2)\n",
    "FROM(\n",
    "    SELECT \n",
    "        from_type, \n",
    "        AVG(review_score) AS av,\n",
    "        DENSE_RANK() OVER (ORDER BY AVG(review_score) DESC) AS rank\n",
    "    FROM airbnb_reviews\n",
    "GROUP BY from_type) m\n",
    "WHERE rank = 1"
   ]
  },
  {
   "cell_type": "markdown",
   "id": "625acbd8",
   "metadata": {},
   "source": [
    "# 87.Hosts' Abroad Apartments\n",
    "\n",
    "\n",
    "Airbnb\n",
    "Medium\n",
    "ID 10071\n",
    "\n",
    "Find the number of hosts that have accommodations in countries of which they are not citizens.\n",
    "\n",
    "Tables: airbnb_hosts, airbnb_apartments"
   ]
  },
  {
   "cell_type": "raw",
   "id": "c3967ebf",
   "metadata": {},
   "source": [
    "--# of hosts that have accomadations in countries of which host are not citizens\n",
    "--output: count\n",
    "\n",
    "SELECT \n",
    "    COUNT(DISTINCT a.host_id)\n",
    "FROM airbnb_hosts h\n",
    "JOIN airbnb_apartments a\n",
    "ON h.host_id = a.host_id\n",
    "WHERE h.nationality != a.country "
   ]
  },
  {
   "cell_type": "markdown",
   "id": "6105afb6",
   "metadata": {},
   "source": [
    "# 88.DeepMind employment competition\n",
    "\n",
    "\n",
    "Google\n",
    "Medium\n",
    "ID 10070\n",
    "14\n",
    "\n",
    "Data Engineer\n",
    "Data Scientist\n",
    "BI Analyst\n",
    "Data Analyst\n",
    "Find the winning teams of DeepMind employment competition.\n",
    "Output the team along with the average team score.\n",
    "Sort records by the team score in descending order.\n",
    "\n",
    "Tables: google_competition_participants, google_competition_scores"
   ]
  },
  {
   "cell_type": "raw",
   "id": "0ebfd964",
   "metadata": {},
   "source": [
    " sum(b.member_score) / count(a.member_id) = avg(b.member_score) "
   ]
  },
  {
   "cell_type": "raw",
   "id": "5b418c46",
   "metadata": {},
   "source": [
    "SELECT \n",
    "    team_id,\n",
    "    AVG(member_score) AS team_score\n",
    "FROM google_competition_participants p\n",
    "JOIN google_competition_scores s\n",
    "ON p.member_id = s.member_id\n",
    "GROUP BY 1\n",
    "ORDER BY 2 DESC"
   ]
  },
  {
   "cell_type": "markdown",
   "id": "12f090aa",
   "metadata": {},
   "source": [
    "# 89.Correlation Between E-mails And Activity Time\n",
    "\n",
    "\n",
    "Interview Question Date: April 2020\n",
    "\n",
    "Google\n",
    "Hard\n",
    "ID 10069\n",
    "\n",
    "There are two tables with user activities. The google_gmail_emails table contains information about emails being sent to users. Each row in that table represents a message with a unique identifier in the id field. The google_fit_location table contains user activity logs from the Google Fit app.\n",
    "Find the correlation between the number of emails received and the total exercise per day. The total exercise per day is calculated by counting the number of user sessions per day.\n",
    "\n",
    "Tables: google_gmail_emails, google_fit_location"
   ]
  },
  {
   "cell_type": "raw",
   "id": "912845f5",
   "metadata": {},
   "source": [
    "i.每个用户每天收#邮件：取to_user, day, count(*)，从google_gmail_emails\n",
    "ii. 每个用户每天exercise：取user_id, day, count(distinct session_id)\n",
    "【为什么distinct?】：在google_fit_location中，因为step_id不同，会出现同一user_id同一天同一session_id的不同记录，所以要distinct(session_id)\n",
    "iii. join两个表：email和session，on两个条件day and user_id 【为什么也on user_id?】\n",
    "vi. COALESCE（A,0）：A值缺少，则取0\n",
    "v. CORR(X,Y)：XY两变量间correlation"
   ]
  },
  {
   "cell_type": "raw",
   "id": "846e07e5",
   "metadata": {},
   "source": [
    "-- google_gmail_emails：emails sent to users; each row ~ unique identifier ~ a message\n",
    "-- google_fit_location: user activity logs from google fit app\n",
    "\n",
    "--relationship between # emails received and total exercise per day:counting the number of user sessions per day\n",
    "--corr\n",
    "\n",
    "--写法1：CTE\n",
    "WITH SESSIONS AS(\n",
    "SELECT\n",
    "    user_id,                                                            --要取user_id\n",
    "    day,\n",
    "    COUNT(DISTINCT session_id) AS session                               --必须distinct session_id\n",
    "FROM google_fit_location\n",
    "GROUP BY 1,2\n",
    "),\n",
    "EMAIL AS(\n",
    "SELECT \n",
    "    to_user,                                                            --要取user_id\n",
    "    day,\n",
    "    COUNT(id) AS email_received\n",
    "FROM google_gmail_emails\n",
    "GROUP BY 1,2\n",
    ")\n",
    "SELECT \n",
    "    CORR(COALESCE(email_received,0), COALESCE(session,0)) AS corr       --要COALESCE(X,0)\n",
    "FROM EMAIL e\n",
    "FULL JOIN SESSIONS s                                                    --必须full outter join \n",
    "ON e.day = s.day AND user_id = to_user                                  --on 两个条件:user_id; day"
   ]
  },
  {
   "cell_type": "raw",
   "id": "dbdb3577",
   "metadata": {},
   "source": [
    "写法2：subquery\n",
    "SELECT \n",
    "    corr(COALESCE(n_emails:: NUMERIC, 0), COALESCE(total_exercise, 0))   --corr(X,Y); COALESCE(A,B)\n",
    "FROM\n",
    "(\n",
    "    SELECT                                                               --每个用户每天收#邮件\n",
    "        to_user,\n",
    "        day,\n",
    "        COUNT(*) AS n_emails\n",
    "    FROM google_gmail_emails \n",
    "    GROUP BY 1,2) mail_base\n",
    "FULL OUTER JOIN\n",
    "(                                                                        --每个用户每天exercise\n",
    "    SELECT \n",
    "        user_id,\n",
    "        day,\n",
    "        COUNT(DISTINCT session_id) AS total_exercise\n",
    "    FROM google_fit_location\n",
    "    GROUP BY 1,2\n",
    "    ) total_exercise \n",
    "ON mail_base.to_user = total_exercise.user_id \n",
    "AND mail_base.day = total_exercise.day                                  --ON to_user = user_id AND day = day\n",
    "JOIN google_fit_location f\n",
    "ON g.to_user = f.user_id\n",
    "GROUP BY 1"
   ]
  },
  {
   "cell_type": "markdown",
   "id": "a45ffae5",
   "metadata": {},
   "source": [
    "# 90. User Email Labels\n",
    "\n",
    "\n",
    "Interview Question Date: April 2020\n",
    "\n",
    "Google\n",
    "Medium\n",
    "ID 10068\n",
    "\n",
    "Find the number of emails received by each user under each built-in email label. The email labels are: 'Promotion', 'Social', and 'Shopping'. Output the user along with the number of promotion, social, and shopping mails count,.\n",
    "\n",
    "Tables: google_gmail_emails, google_gmail_labels\n",
    "Hints\n",
    "Expected Output\n",
    "All required columns and the first 5 rows of the solution are shown"
   ]
  },
  {
   "cell_type": "raw",
   "id": "721f9cb5",
   "metadata": {},
   "source": [
    "COUNT(case when A then 1 else null end) = SUM(case when A then 1 else 0 end)\n",
    "case when 后的end别忘记"
   ]
  },
  {
   "cell_type": "raw",
   "id": "ccbe2fbf",
   "metadata": {},
   "source": [
    "-- # emails received by each user ~ each built-in email label\n",
    "-- labels:  'Promotion', 'Social', and 'Shopping'.\n",
    "-- output: user ~ # of p, s, s mails count\n",
    "-- output: to_user, promotion_count, social_count, shopping_count\n",
    "\n",
    "SELECT \n",
    "    to_user,\n",
    "    COUNT(CASE WHEN label = 'Promotion' THEN id END) AS promotion_count,\n",
    "    COUNT(CASE WHEN label = 'Social' THEN id END) AS social_count,\n",
    "    COUNT(CASE WHEN label = 'Shopping' THEN id END) AS shopping_count\n",
    "FROM google_gmail_emails e\n",
    "JOIN google_gmail_labels l\n",
    "ON e.id = l.email_id\n",
    "GROUP BY 1"
   ]
  },
  {
   "cell_type": "markdown",
   "id": "b3bb07ba",
   "metadata": {},
   "source": [
    "# 91. Google Fit User Tracking\n"
   ]
  },
  {
   "cell_type": "markdown",
   "id": "02604913",
   "metadata": {},
   "source": [
    "# 92. Fans vs Opposition\n",
    "\n",
    "\n",
    "Interview Question Date: March 2020\n",
    "\n",
    "Meta/Facebook\n",
    "Hard\n",
    "ID 10062\n",
    "\n",
    "Meta/Facebook is quite keen on pushing their new programming language Hack to all their offices. They ran a survey to quantify the popularity of the language and send it to their employees. To promote Hack they have decided to pair developers which love Hack with the ones who hate it so the fans can convert the opposition. Their pair criteria is to match the biggest fan with biggest opposition, second biggest fan with second biggest opposition, and so on. Write a query which returns this pairing. Output employee ids of paired employees. Sort users with the same popularity value by id in ascending order.\n",
    "\n",
    "\n",
    "Duplicates in pairings can be left in the solution. For example, (2, 3) and (3, 2) should both be in the solution.\n",
    "\n",
    "Table: facebook_hack_survey"
   ]
  },
  {
   "cell_type": "raw",
   "id": "3e1bb041",
   "metadata": {},
   "source": [
    "求一高一低PAIR ID:\n",
    "用row_number保持唯一性\n",
    "法1：\n",
    "i.love_rnk, hate_rnk\n",
    "ii. ID PAIR: id1, id2 + self join on love_rnk = hate_rnk\n",
    "法2：\n",
    "i. 分别建立两个表：各取id, love/hate rnk\n",
    "ii.ID PAIR: id1, id2 + join on love_rnk = hate_rnk"
   ]
  },
  {
   "cell_type": "raw",
   "id": "01d19cff",
   "metadata": {},
   "source": [
    "法1：\n",
    "i.love_rnk, hate_rnk\n",
    "ii. ID PAIR: id1, id2 + self join on love_rnk = hate_rnk\n",
    "WITH total AS(\n",
    "SELECT \n",
    "    *,\n",
    "    RANK() OVER (ORDER BY popularity DESC, employee_id ASC) AS love_rnk,\n",
    "    RANK() OVER (ORDER BY popularity, employee_id ASC) AS hate_rnk\n",
    "FROM facebook_hack_survey\n",
    ")\n",
    "SELECT \n",
    "    t1.employee_id,\n",
    "    t2.employee_id\n",
    "FROM total t1\n",
    "JOIN total t2\n",
    "ON t1.love_rnk = t2.hate_rnk"
   ]
  },
  {
   "cell_type": "raw",
   "id": "152088de",
   "metadata": {},
   "source": [
    "法2：\n",
    "i. 分别建立两个表：各取id, love/hate rnk\n",
    "ii.ID PAIR: id1, id2 + join on love_rnk = hate_rnk\n",
    "WITH love_rnk AS(\n",
    "    SELECT \n",
    "        employee_id,\n",
    "        ROW_NUMBER() OVER (ORDER BY popularity DESC, employee_id ASC) AS love_rnk\n",
    "    FROM facebook_hack_survey),\n",
    "    hate_rnk AS(\n",
    "    SELECT \n",
    "        employee_id,\n",
    "        ROW_NUMBER() OVER (ORDER BY popularity, employee_id ASC) AS hate_rnk\n",
    "    FROM facebook_hack_survey\n",
    "    )\n",
    "SELECT \n",
    "    l.employee_id AS employee_fan_id,\n",
    "    h.employee_id AS employee_opposition_id\n",
    "FROM love_rnk l\n",
    "JOIN hate_rnk h\n",
    "ON l.love_rnk = h.hate_rnk"
   ]
  },
  {
   "cell_type": "markdown",
   "id": "37c59748",
   "metadata": {},
   "source": [
    "# 93. Find the number of reviews received by Lo-Lo's Chicken & Waffles for each star\n",
    "\n",
    "\n",
    "Yelp\n",
    "Easy\n",
    "ID 10058\n",
    "\n",
    "Find the number of reviews received by Lo-Lo's Chicken & Waffles for each star.\n",
    "Output the number of stars along with the corresponding number of reviews.\n",
    "Sort records by stars in ascending order.\n",
    "\n",
    "Table: yelp_reviews"
   ]
  },
  {
   "cell_type": "raw",
   "id": "ccddfe45",
   "metadata": {},
   "source": [
    "--ILIKE 'Lo-Lo_s Chicken & Waffles'\n",
    "--like 'Lo-Lo%s Chicken & Waffles'\n",
    "--如果名字中 有撇 '，可以把' 写成_或者%；活用ILIKE"
   ]
  },
  {
   "cell_type": "raw",
   "id": "e43113ae",
   "metadata": {},
   "source": [
    "--# reviews received for each star\n",
    "--output:stars, n_reviews： # stars and # reviews\n",
    "--order by stars asc\n",
    "\n",
    "\n",
    "SELECT \n",
    "    stars, \n",
    "    COUNT(*) AS n_reviews\n",
    "FROM yelp_reviews\n",
    "WHERE business_name ILIKE 'Lo-Lo_s Chicken & Waffles'\n",
    "GROUP BY 1\n",
    "ORDER BY 1"
   ]
  },
  {
   "cell_type": "markdown",
   "id": "be1a725d",
   "metadata": {},
   "source": [
    "# 94.Popularity of Hack\n",
    "\n",
    "\n",
    "Interview Question Date: March 2020\n",
    "\n",
    "Meta/Facebook\n",
    "Easy\n",
    "ID 10061\n",
    "\n",
    "Meta/Facebook has developed a new programing language called Hack.To measure the popularity of Hack they ran a survey with their employees. The survey included data on previous programing familiarity as well as the number of years of experience, age, gender and most importantly satisfaction with Hack. Due to an error location data was not collected, but your supervisor demands a report showing average popularity of Hack by office location. Luckily the user IDs of employees completing the surveys were stored.\n",
    "Based on the above, find the average popularity of the Hack per office location.\n",
    "Output the location along with the average popularity.\n",
    "\n",
    "Tables: facebook_employees, facebook_hack_survey"
   ]
  },
  {
   "cell_type": "markdown",
   "id": "92697629",
   "metadata": {},
   "source": [
    "# 95. Popularity of Hack\n",
    "\n",
    "\n",
    "Interview Question Date: March 2020\n",
    "\n",
    "Meta/Facebook\n",
    "Easy\n",
    "ID 10061\n",
    "\n",
    "Meta/Facebook has developed a new programing language called Hack.To measure the popularity of Hack they ran a survey with their employees. The survey included data on previous programing familiarity as well as the number of years of experience, age, gender and most importantly satisfaction with Hack. Due to an error location data was not collected, but your supervisor demands a report showing average popularity of Hack by office location. Luckily the user IDs of employees completing the surveys were stored.\n",
    "Based on the above, find the average popularity of the Hack per office location.\n",
    "Output the location along with the average popularity.\n",
    "\n",
    "Tables: facebook_employees, facebook_hack_survey"
   ]
  },
  {
   "cell_type": "raw",
   "id": "576e862e",
   "metadata": {},
   "source": [
    "--error location data not collect\n",
    "--avg pop of hack by office\n",
    "--avg pop of the hack per office location \n",
    "--output: location, avg_popularity\n",
    "\n",
    "SELECT \n",
    "    location,\n",
    "    AVG(popularity) AS avg_popularity\n",
    "FROM facebook_employees e\n",
    "JOIN facebook_hack_survey s\n",
    "ON e.id = s.employee_id\n",
    "GROUP BY 1"
   ]
  },
  {
   "cell_type": "markdown",
   "id": "28ca16bd",
   "metadata": {},
   "source": [
    "# Top Cool Votes\n",
    "\n",
    "\n",
    "Interview Question Date: March 2020\n",
    "\n",
    "Yelp\n",
    "Medium\n",
    "\n",
    "Find the review_text that received the highest number of  'cool' votes.\n",
    "Output the business name along with the review text with the highest numbef of 'cool' votes.\n",
    "\n",
    "Table: yelp_reviews"
   ]
  },
  {
   "cell_type": "raw",
   "id": "13f738eb",
   "metadata": {},
   "source": [
    "--review_text receive highest # cool votes\n",
    "--output: business_name, review_text\n",
    "\n",
    "--法1：rank cte做法：\n",
    "WITH rnk AS(\n",
    "SELECT \n",
    "    business_name,\n",
    "    review_text,\n",
    "    cool,\n",
    "    RANK() OVER (ORDER BY cool DESC) AS rnk\n",
    "FROM yelp_reviews\n",
    ")\n",
    "SELECT \n",
    "    business_name,\n",
    "    review_text\n",
    "FROM rnk\n",
    "WHERE rnk = 1"
   ]
  },
  {
   "cell_type": "raw",
   "id": "41a42cfd",
   "metadata": {},
   "source": [
    "--法2：max subquery做法：\n",
    "SELECT \n",
    "    business_name,\n",
    "    review_text\n",
    "FROM yelp_reviews\n",
    "WHERE cool = \n",
    "    (\n",
    "    SELECT \n",
    "    MAX(cool) AS max_cool\n",
    "    FROM yelp_reviews\n",
    "    ) \n"
   ]
  },
  {
   "cell_type": "markdown",
   "id": "ed2f9d62",
   "metadata": {},
   "source": [
    "# Find the number of reviews received by Lo-Lo's Chicken & Waffles for each star\n",
    "\n",
    "\n",
    "Yelp\n",
    "Easy\n",
    "ID 10058\n",
    "\n",
    "Find the number of reviews received by Lo-Lo's Chicken & Waffles for each star.\n",
    "Output the number of stars along with the corresponding number of reviews.\n",
    "Sort records by stars in ascending order.\n",
    "\n",
    "Table: yelp_reviews"
   ]
  },
  {
   "cell_type": "raw",
   "id": "ea72c7d1",
   "metadata": {},
   "source": [
    "ILIKE 'Lo-Lo_s Chicken & Waffles'\n",
    "like 'Lo-Lo%s Chicken & Waffles'\n",
    "如果名字中 有撇 '，可以把' 写成_或者%；活用ILIKE"
   ]
  },
  {
   "cell_type": "raw",
   "id": "3e7378d2",
   "metadata": {},
   "source": [
    "--# reviews received for each star\n",
    "--output:stars, n_reviews： # stars and # reviews\n",
    "--order by stars asc\n",
    "\n",
    "\n",
    "SELECT \n",
    "    stars, \n",
    "    COUNT(*) AS n_reviews\n",
    "FROM yelp_reviews\n",
    "WHERE business_name ILIKE 'Lo-Lo_s Chicken & Waffles'\n",
    "GROUP BY 1\n",
    "ORDER BY 1"
   ]
  },
  {
   "cell_type": "markdown",
   "id": "dabb6e27",
   "metadata": {},
   "source": [
    "# Most Checkins\n",
    "\n",
    "\n",
    "Yelp\n",
    "Medium\n",
    "ID 10053\n",
    "\n",
    "Find the top 5 businesses with the most check-ins.\n",
    "Output the business id along with the number of check-ins.\n",
    "\n",
    "Table: yelp_checkin"
   ]
  },
  {
   "cell_type": "raw",
   "id": "45add1cc",
   "metadata": {},
   "source": [
    "--top 5 biz with most check-ins\n",
    "--output biz id with # check-ins\n",
    "--output：business_id, n_checkins\n",
    "\n",
    "--rank法求top 5：\n",
    "WITH checkins_rank AS(\n",
    "SELECT\n",
    "    business_id,\n",
    "    SUM(checkins) AS n_checkins,\n",
    "    RANK() OVER (ORDER BY SUM(checkins) DESC) AS rnk\n",
    "FROM yelp_checkin\n",
    "GROUP BY 1\n",
    ")\n",
    "SELECT \n",
    "    business_id,\n",
    "    n_checkins\n",
    "FROM checkins_rank\n",
    "WHERE rnk <= 5"
   ]
  },
  {
   "cell_type": "raw",
   "id": "1a81b6c9",
   "metadata": {},
   "source": [
    "--limit法求top 5：\n",
    "SELECT \n",
    "    business_id,\n",
    "    SUM(checkins) AS counts\n",
    "FROM yelp_checkin\n",
    "GROUP BY 1\n",
    "ORDER BY 2 DESC\n",
    "LIMIT 5"
   ]
  },
  {
   "cell_type": "markdown",
   "id": "e75271de",
   "metadata": {},
   "source": [
    "# Find the average number of stars for each state\n",
    "\n",
    "\n",
    "Yelp\n",
    "Easy\n",
    "ID 10052\n",
    "\n",
    "Find the average number of stars for each state.\n",
    "Output the state name along with the corresponding average number of stars.\n",
    "\n",
    "Table: yelp_business"
   ]
  },
  {
   "cell_type": "raw",
   "id": "b6c1dc41",
   "metadata": {},
   "source": [
    "--select * from yelp_business;\n",
    "\n",
    "SELECT \n",
    "    state,\n",
    "    AVG(stars) AS average_stars\n",
    "FROM yelp_business\n",
    "GROUP BY 1"
   ]
  },
  {
   "cell_type": "markdown",
   "id": "8a9bd182",
   "metadata": {},
   "source": [
    "# Find the number of open businesses\n",
    "\n",
    "\n",
    "Yelp\n",
    "Easy\n",
    "ID 10051\n",
    "\n",
    "Find the number of open businesses.\n",
    "\n",
    "Table: yelp_business"
   ]
  },
  {
   "cell_type": "raw",
   "id": "dc81f5d2",
   "metadata": {},
   "source": [
    "--select * from yelp_business;\n",
    "\n",
    "SELECT \n",
    "    COUNT(*) AS business_open\n",
    "FROM yelp_business\n",
    "WHERE is_open = 1"
   ]
  },
  {
   "cell_type": "markdown",
   "id": "fdfd03c4",
   "metadata": {},
   "source": [
    "# Find the review count for one-star businesses from yelp\n",
    "\n",
    "\n",
    "Yelp\n",
    "Easy\n",
    "ID 10050\n",
    "\n",
    "Find the review count for one-star businesses from yelp.\n",
    "Output the name along with the corresponding review count.\n",
    "\n",
    "Table: yelp_business"
   ]
  },
  {
   "cell_type": "raw",
   "id": "200ab2fd",
   "metadata": {},
   "source": [
    "--select * from yelp_business;\n",
    "SELECT\n",
    "    name,\n",
    "    review_count\n",
    "FROM yelp_business\n",
    "WHERE stars = 1"
   ]
  },
  {
   "cell_type": "markdown",
   "id": "1816434a",
   "metadata": {},
   "source": [
    "# Reviews of Categories\n",
    "\n",
    "\n",
    "Interview Question Date: March 2020\n",
    "\n",
    "Yelp\n",
    "Medium\n",
    "ID 10049\n",
    "\n",
    "Find the top business categories based on the total number of reviews. Output the category along with the total number of reviews. Order by total reviews in descending order.\n",
    "\n",
    "Table: yelp_business"
   ]
  },
  {
   "cell_type": "raw",
   "id": "9c3a81d3",
   "metadata": {},
   "source": [
    "--top biz categories ~ total # reviews\n",
    "--output: category, review_cnt：\n",
    "--order by total reviews desc\n",
    "\n",
    "--UNNEST(STRING_TO_ARRAY(A, ';'))：把A中用; 分隔开的每个词 分解取出\n",
    "\n",
    "\n",
    "SELECT \n",
    "    UNNEST(STRING_TO_ARRAY(categories, ';')) AS category,\n",
    "    SUM(review_count) AS review_cnt\n",
    "FROM yelp_business\n",
    "GROUP BY 1\n",
    "ORDER BY 2 DESC"
   ]
  },
  {
   "cell_type": "markdown",
   "id": "f719c503",
   "metadata": {},
   "source": [
    "# Top Businesses With Most Reviews\n",
    "\n",
    "\n",
    "Yelp\n",
    "Medium\n",
    "ID 10048\n",
    "\n",
    "Find the top 5 businesses with most reviews. Assume that each row has a unique business_id such that the total reviews for each business is listed on each row. Output the business name along with the total number of reviews and order your results by the total reviews in descending order.\n",
    "\n",
    "Table: yelp_business"
   ]
  },
  {
   "cell_type": "code",
   "execution_count": null,
   "id": "fdda365e",
   "metadata": {},
   "outputs": [],
   "source": [
    "--top 5 biz with most reviews\n",
    "--unique biz_id ~ total reviews for each biz\n",
    "--output: name, review_count： business name along with the total number of reviews \n",
    "--order by total reviews desc\n",
    "\n",
    "--LIMIT 5 不好, rank 求top 5才最精准：\n",
    "WITH business_rank AS(\n",
    "SELECT \n",
    "    name,\n",
    "    review_count,\n",
    "    RANK() OVER (ORDER BY review_count DESC) AS rnk\n",
    "FROM yelp_business\n",
    ")\n",
    "SELECT \n",
    "    name,\n",
    "    review_count\n",
    "FROM business_rank\n",
    "WHERE rnk <= 5"
   ]
  },
  {
   "cell_type": "markdown",
   "id": "e0d77331",
   "metadata": {},
   "source": [
    "# Top 5 States With 5 Star Businesses\n",
    "\n",
    "\n",
    "Interview Question Date: March 2020\n",
    "\n",
    "Yelp\n",
    "Hard\n",
    "ID 10046\n",
    "\n",
    "Find the top 5 states with the most 5 star businesses. Output the state name along with the number of 5-star businesses and order records by the number of 5-star businesses in descending order. In case there are ties in the number of businesses, return all the unique states. If two states have the same result, sort them in alphabetical order.\n",
    "\n",
    "Table: yelp_business"
   ]
  },
  {
   "cell_type": "raw",
   "id": "71f5d8b2",
   "metadata": {},
   "source": [
    "-- top 5 states with most 5 star biz\n",
    "-- output: state,  n_businesses：\n",
    "-- order by # 5 star biz in desc order,  sort state asc \n",
    "-- in case ties in # biz, return all unique states\n",
    "\n",
    "--求top 5，用limit 5会不精准-因为会漏项，还是rank精准\n",
    "\n",
    "WITH biz_rank AS(\n",
    "SELECT \n",
    "    state,\n",
    "    COUNT(business_id) AS n_businesses,\n",
    "    RANK() OVER (ORDER BY COUNT(business_id) DESC) AS rnk\n",
    "FROM yelp_business\n",
    "WHERE stars = 5\n",
    "GROUP BY 1\n",
    "ORDER BY 2 DESC, 1 ASC\n",
    ")\n",
    "SELECT \n",
    "    state,\n",
    "    n_businesses\n",
    "FROM biz_rank\n",
    "WHERE rnk <= 5\n"
   ]
  },
  {
   "cell_type": "markdown",
   "id": "26acd3f2",
   "metadata": {},
   "source": [
    "# Highest Priced Wine In The US\n",
    "\n",
    "\n",
    "Interview Question Date: March 2020\n",
    "\n",
    "Wine Magazine\n",
    "Medium\n",
    "ID 10044\n",
    "13\n",
    "\n",
    "Data Engineer\n",
    "Data Scientist\n",
    "BI Analyst\n",
    "Data Analyst\n",
    "Find the highest price in US country for each variety produced in English speaking regions, but not in Spanish speaking regions, with taking into consideration varieties that have earned a minimum of 90 points for every country they're produced in.\n",
    "Output both the variety and the corresponding highest price.\n",
    "\n",
    "\n",
    "Let's assume the US is the only English speaking region in the dataset, and Spain, Argentina are the only Spanish speaking regions in the dataset. Let's also assume that the same variety might be listed under several countries so you'll need to remove varieties that show up in both the US and in Spanish speaking countries.\n",
    "\n",
    "Table: winemag_p1"
   ]
  },
  {
   "cell_type": "raw",
   "id": "0f3de1d7",
   "metadata": {},
   "source": [
    "--highest price in US ~ each variety produced in English regions but not spanish regions\n",
    "--√ varieties earned mini 90 for every country produced\n",
    "--output: variety, max：variety and highest price\n",
    "--US ~ only English speaking region; Spain, Argentina ~ Spanish only \n",
    "--remove varieties show up in both US & SPain \n",
    "\n",
    "--问题：一个variety种类，可以有多个points；一个variety种类，可以有多个价格\n",
    "\n",
    "\n",
    "WITH remove AS(\n",
    "SELECT \n",
    "    variety\n",
    "FROM winemag_p1\n",
    "WHERE country IN ('Spain', 'Argentina')\n",
    "),\n",
    "residue AS(\n",
    "SELECT \n",
    "    variety\n",
    "FROM winemag_p1\n",
    "WHERE variety NOT IN (SELECT variety FROM remove)\n",
    "GROUP BY 1\n",
    "HAVING MIN(points) >= 90\n",
    ")\n",
    "SELECT \n",
    "    variety,\n",
    "    MAX(price)\n",
    "FROM winemag_p1\n",
    "WHERE variety IN (SELECT variety FROM residue)\n",
    "AND country = 'US'\n",
    "GROUP BY 1"
   ]
  },
  {
   "cell_type": "markdown",
   "id": "058968e4",
   "metadata": {},
   "source": [
    "# Median Price Of Wines\n",
    "\n",
    "\n",
    "Interview Question Date: March 2020\n",
    "\n",
    "Wine Magazine\n",
    "Hard\n",
    "ID 10043\n",
    "\n",
    "Find the median price for each wine variety across both datasets. Output distinct varieties along with the corresponding median price.\n",
    "\n",
    "Tables: winemag_p1, winemag_p2"
   ]
  },
  {
   "cell_type": "raw",
   "id": "e5c8176b",
   "metadata": {},
   "source": [
    "①当两个dataset列数不一致时，可以选出需要的列进行union操作；如果列数一直，可以直接select * 进行union操作\n",
    "②此处应该UNION ALL而不是UNION, 选择两个dataset的全部\n",
    "③median：\n",
    "i. percentile_cont(0.5) within GROUP (ORDER BY A) AS median_price\n",
    "ii. avg(A) + WHERE row_number_asc IN (row_number_desc, row_number_desc - 1, row_number_desc + 1 )； \n",
    "如果是奇数个记录，则选两个row_num相等的是中位数(eg. n = 5, median = asc = desc = 3)的记录选出来求平均值，即这个记录的值\n",
    "如果是偶数个记录，则将asc = desc - 1 和asc = desc + 1的两个记录选出来求平均值"
   ]
  },
  {
   "cell_type": "raw",
   "id": "d7564afe",
   "metadata": {},
   "source": [
    "--法1：percentile_cont(0.5) within GROUP (ORDER BY A)\n",
    "WITH total AS(\n",
    "    SELECT \n",
    "        variety,\n",
    "        price::float\n",
    "    FROM winemag_p1\n",
    "    UNION ALL\n",
    "    SELECT \n",
    "        variety,\n",
    "        price::float\n",
    "    FROM winemag_p2\n",
    ")\n",
    "SELECT \n",
    "    variety,\n",
    "    percentile_cont(0.5) within GROUP (ORDER BY price) AS median_price\n",
    "FROM total\n",
    "GROUP BY 1"
   ]
  },
  {
   "cell_type": "raw",
   "id": "1da06a95",
   "metadata": {},
   "source": [
    "--法2：row_number：avg(A) + WHERE row_number_asc IN (row_number_desc, row_number_desc - 1, row_number_desc + 1 )\n",
    "WITH total AS(\n",
    "    SELECT \n",
    "        variety,\n",
    "        price\n",
    "    FROM winemag_p1\n",
    "    WHERE price IS NOT NULL\n",
    "    UNION ALL\n",
    "    SELECT \n",
    "        variety,\n",
    "        price\n",
    "    FROM winemag_p2\n",
    "    WHERE price IS NOT NULL\n",
    "),\n",
    "W1 AS(\n",
    "SELECT \n",
    "    variety,\n",
    "    price,\n",
    "    ROW_NUMBER() OVER (PARTITION BY variety ORDER BY price ASC) AS rnk_asc,\n",
    "    ROW_NUMBER() OVER (PARTITION BY variety ORDER BY price DESC) AS rnk_desc  \n",
    "FROM total\n",
    ")\n",
    "SELECT \n",
    "    variety,\n",
    "    AVG(price)\n",
    "FROM W1\n",
    "WHERE rnk_asc IN (rnk_desc, rnk_desc - 1, rnk_desc + 1)\n",
    "GROUP BY 1"
   ]
  },
  {
   "cell_type": "markdown",
   "id": "d3eb51b1",
   "metadata": {},
   "source": [
    "# Top 3 Wineries In The World\n",
    "\n",
    "\n",
    "Interview Question Date: March 2020\n",
    "\n",
    "Wine Magazine\n",
    "Hard\n",
    "ID 10042\n",
    "\n",
    "Find the top 3 wineries in each country based on the average points earned. In case there is a tie, order the wineries by winery name in ascending order. Output the country along with the best, second best, and third best wineries. If there is no second winery (NULL value) output 'No second winery' and if there is no third winery output 'No third winery'. For outputting wineries format them like this: \"winery (avg_points)\"\n",
    "\n",
    "Table: winemag_p1"
   ]
  },
  {
   "cell_type": "raw",
   "id": "3caa350e",
   "metadata": {},
   "source": [
    "①连接括号写成(C)的形式：CASE WHEN A THEN B || ' (' || C || ')' ELSE NULL END AS D\n",
    "②ROW_NUMBER() OVER (PARTITION BY A ORDER BY B, C) AS row_num\n",
    "③max(A) 取一个值\n",
    "④如果没有A, 就写成B：COALESCE(max(A), 'B')"
   ]
  },
  {
   "cell_type": "raw",
   "id": "9ae45875",
   "metadata": {},
   "source": [
    "-- top 3 wineries in each country ~ avg points earned\n",
    "-- order wineries by winery name in sac \n",
    "-- output:country, top_winery, second_winery, third_winery：winery (avg_points)\n",
    "-- If there is no second winery (NULL value) output 'No second winery' and if there is no third winery output 'No third winery'\n",
    "\n",
    "SELECT country,\n",
    "       max(top_winery) AS top_winery,\n",
    "       COALESCE(max(second_winery), 'No second winery') AS second_winery,\n",
    "       COALESCE(max(third_winery), 'No third winery') AS third_winery\n",
    "FROM\n",
    "  (SELECT country,\n",
    "          CASE\n",
    "              WHEN POSITION = 1 THEN winery || ' (' || round(avg_points) || ')'\n",
    "              ELSE NULL\n",
    "          END AS top_winery,\n",
    "          CASE\n",
    "              WHEN POSITION = 2 THEN winery || ' (' || round(avg_points) || ')'\n",
    "              ELSE NULL\n",
    "          END AS second_winery,\n",
    "          CASE\n",
    "              WHEN POSITION = 3 THEN winery || ' (' || round(avg_points) || ')'\n",
    "              ELSE NULL\n",
    "          END AS third_winery\n",
    "   FROM\n",
    "     (SELECT country,\n",
    "             winery,\n",
    "             ROW_NUMBER() OVER (PARTITION BY country\n",
    "                                ORDER BY avg_points DESC, winery ASC) AS POSITION,\n",
    "                               avg_points\n",
    "      FROM\n",
    "        (SELECT country,\n",
    "                winery,\n",
    "                avg(points) AS avg_points\n",
    "         FROM winemag_p1\n",
    "         WHERE country IS NOT NULL\n",
    "         GROUP BY country,\n",
    "                  winery) tmp1) tmp2\n",
    "   WHERE POSITION <= 3) tmp3\n",
    "GROUP BY country"
   ]
  },
  {
   "cell_type": "markdown",
   "id": "e521f44a",
   "metadata": {},
   "source": [
    "# Most Expensive And Cheapest Wine\n",
    "\n",
    "\n",
    "Interview Question Date: March 2020\n",
    "\n",
    "Wine Magazine\n",
    "Hard\n",
    "ID 10041\n",
    "\n",
    "Find the cheapest and the most expensive variety in each region. Output the region along with the corresponding most expensive and the cheapest variety. Be aware that there are 2 region columns, the price from that row applies to both of them.\n",
    "\n",
    "\n",
    "Note: The results set contains no ties.\n",
    "\n",
    "Table: winemag_p1"
   ]
  },
  {
   "cell_type": "raw",
   "id": "56511cf3",
   "metadata": {},
   "source": [
    "①total: SELECT * FROM A UNION ALL SELECT * FROM B \n",
    "②计算A中，C在B最大/小时的值：\n",
    "cte1: A, ROW_NUMBER() OVER (ORDER BY B DESC) AS rnk1, ROW_NUMBER() OVER (ORDER BY B ASC) AS rnk2, \n",
    "cte2: A, MAX(CASE WHEN rnk1 = 1 THEN C END) AS max_price_B; MIN(CASE WHEN rnk1 = 1 THEN C END) AS min_price_B + GROUP BY A\n",
    "③当遇到case when创建后，本应放在一行的记录，放成了几行，中间可能有空格。解决方法是A, MAX() + group by 1，可以将其并为一行"
   ]
  },
  {
   "cell_type": "raw",
   "id": "f1cd6980",
   "metadata": {},
   "source": [
    "WITH total AS(\n",
    "    SELECT \n",
    "        region_1 AS region,\n",
    "        price,\n",
    "        variety\n",
    "    FROM winemag_p1\n",
    "    WHERE region_1 IS NOT NULL\n",
    "    UNION ALL\n",
    "    SELECT \n",
    "        region_2 AS region,\n",
    "        price,\n",
    "        variety\n",
    "    FROM winemag_p1 \n",
    "    WHERE region_2 IS NOT NULL\n",
    "),\n",
    "result AS (\n",
    "    SELECT \n",
    "        *,\n",
    "        ROW_NUMBER() OVER (PARTITION BY region ORDER BY price DESC) AS expensive_rank,\n",
    "        ROW_NUMBER() OVER (PARTITION BY region ORDER BY price ASC) AS cheap_rank\n",
    "    FROM total\n",
    "    WHERE price IS NOT NULL\n",
    "    AND region IS NOT NULL\n",
    "    ORDER BY region, price DESC\n",
    ")\n",
    "SELECT \n",
    "    region,\n",
    "    MAX(CASE\n",
    "        WHEN expensive_rank = 1 THEN variety\n",
    "        ELSE NULL\n",
    "    END) AS most_expensive_variety,\n",
    "    MIN(CASE\n",
    "        WHEN cheap_rank = 1 THEN variety\n",
    "        ELSE NULL\n",
    "    END) AS cheapest_variety       \n",
    "FROM result\n",
    "GROUP BY 1"
   ]
  },
  {
   "cell_type": "markdown",
   "id": "7bbe49d5",
   "metadata": {},
   "source": [
    "# Find all wines from the winemag_p2 dataset which are produced in countries that have the highest sum of points in the winemag_p1 dataset\n",
    "\n",
    "\n",
    "Wine Magazine\n",
    "Hard\n",
    "ID 10040\n",
    "\n",
    "Find all wines from the winemag_p2 dataset which are produced in the country that have the highest sum of points in the winemag_p1 dataset.\n",
    "\n",
    "Tables: winemag_p1, winemag_p2"
   ]
  },
  {
   "cell_type": "raw",
   "id": "dcd3d2c7",
   "metadata": {},
   "source": [
    "--all wines from winmag_p2 produced in the country ~ highest sum of points in 1_p1\n",
    "\n",
    "--select * from winemag_p1;\n",
    "WITH sum_points_country AS(\n",
    "SELECT \n",
    "    country,\n",
    "    SUM(points) AS sum_points,\n",
    "    RANK() OVER (ORDER BY SUM(points) DESC) AS rnk\n",
    "FROM winemag_p1\n",
    "GROUP BY country \n",
    ")\n",
    "SELECT \n",
    "    *\n",
    "FROM winemag_p2\n",
    "WHERE country IN (SELECT country FROM sum_points_country WHERE rnk = 1)"
   ]
  },
  {
   "cell_type": "markdown",
   "id": "882e6540",
   "metadata": {},
   "source": [
    "# Macedonian Vintages\n",
    "\n",
    "\n",
    "Wine Magazine\n",
    "Medium\n",
    "ID 10039\n",
    "\n",
    "Find the vintage years of all wines from the country of Macedonia. The year can be found in the 'title' column. Output the wine (i.e., the 'title') along with the year. The year should be a numeric or int data type.\n",
    "\n",
    "Table: winemag_p2"
   ]
  },
  {
   "cell_type": "raw",
   "id": "0cf1fcd2",
   "metadata": {},
   "source": [
    "--select * from winemag_p2;\n",
    "\n",
    "--vintage years of all wines from Macedonia\n",
    "--year ~ title \n",
    "--output: title, year\n",
    "\n",
    "SELECT \n",
    "    title,\n",
    "    substring(title, '[0-9]{4}'):: integer AS year\n",
    "--    NULLIF(regexp_replace(title, '\\D','','g'), ''):: NUMERIC AS year\n",
    "--    split_part(title, ' ', 2) :: NUMERIC AS year \n",
    "FROM winemag_p2\n",
    "WHERE country = 'Macedonia'"
   ]
  },
  {
   "cell_type": "markdown",
   "id": "60530afc",
   "metadata": {},
   "source": [
    "# Find all provinces which produced more wines in 'winemag_p1' than they did in 'winemag_p2'\n",
    "\n",
    "\n",
    "Interview Question Date: March 2020\n",
    "\n",
    "Wine Magazine\n",
    "Medium\n",
    "ID 10038\n",
    "\n",
    "Find all provinces which produced more wines in 'winemag_p1' than they did in 'winemag_p2'.\n",
    "Output the province and the corresponding wine count.\n",
    "Order records by the wine count in descending order.\n",
    "\n",
    "Tables: winemag_p1, winemag_p2"
   ]
  },
  {
   "cell_type": "raw",
   "id": "e77b694a",
   "metadata": {},
   "source": [
    "-- all provinces produce more wines in p1 > p2\n",
    "-- output: province, cnt_1\n",
    "-- order by cnt desc\n",
    "\n",
    "SELECT \n",
    "    a.province,\n",
    "    a.cnt_1\n",
    "FROM \n",
    "    (SELECT\n",
    "        province,\n",
    "        COUNT(winery) AS cnt_1         --COUNT(*)也可\n",
    "    FROM winemag_p1 \n",
    "    GROUP BY province) a\n",
    "    JOIN \n",
    "    (SELECT\n",
    "        province,\n",
    "        COUNT(winery) AS cnt_2\n",
    "    FROM winemag_p2\n",
    "    GROUP BY province) b\n",
    "ON a.province = b.province\n",
    "WHERE cnt_1 - cnt_2 > 0              --ON两个条件也可\n",
    "ORDER BY cnt_1 DESC"
   ]
  },
  {
   "cell_type": "markdown",
   "id": "1e7f9d8b",
   "metadata": {},
   "source": [
    "# Find Favourite Wine Variety\n",
    "\n",
    "\n",
    "Interview Question Date: March 2020\n",
    "\n",
    "Wine Magazine\n",
    "Hard\n",
    "ID 10037\n",
    "\n",
    "Find each taster's favorite wine variety.\n",
    "Consider that favorite variety means the variety that has been tasted by most of the time.\n",
    "Output the taster's name along with the wine variety.\n",
    "\n",
    "Table: winemag_p2"
   ]
  },
  {
   "cell_type": "raw",
   "id": "0450e09d",
   "metadata": {},
   "source": [
    "--each taster's fa wine variety\n",
    "--tasted by most of the time\n",
    "--output: taster_name, variety：\n",
    "-- select * from winemag_p2\n",
    "-- WHERE taster_name = 'Joe Czerwinski'\n",
    "--AND variety = 'Champagne Blend'\n",
    "\n",
    "--#算favarite 是算一个taster_name, variety 有多少个记录: count(*)\n",
    "--#修好：有一个没有年份的漏算记录；有重复年份的按多个记录算\n",
    "\n",
    "WITH total AS(\n",
    "SELECT \n",
    "    taster_name,\n",
    "    variety,\n",
    "    substring(title, '[0-9]{4}')::integer AS year\n",
    "FROM winemag_p2\n",
    "WHERE taster_name IS NOT NULL \n",
    "--AND substring(title, '[0-9]{4}') IS NOT NULL\n",
    "),\n",
    "year_rank AS(\n",
    "SELECT \n",
    "    taster_name,\n",
    "    variety,\n",
    "    COUNT(*) AS years,\n",
    "    RANK() OVER (PARTITION BY taster_name ORDER BY COUNT(*) DESC) AS rnk\n",
    "FROM total\n",
    "GROUP BY 1, 2\n",
    ")\n",
    "SELECT \n",
    "    taster_name,\n",
    "    variety\n",
    "FROM year_rank\n",
    "WHERE rnk = 1"
   ]
  },
  {
   "cell_type": "markdown",
   "id": "92e9b7c6",
   "metadata": {},
   "source": [
    "# Find the number of wines with and without designations per country\n",
    "\n",
    "\n",
    "Interview Question Date: March 2020\n",
    "\n",
    "Wine Magazine\n",
    "Medium\n",
    "ID 10035\n",
    "\n",
    "Find the number of wines with and without designations per country.\n",
    "Output the country along with the total without designations, total with designations, and the final total of both.\n",
    "\n",
    "Table: winemag_p2"
   ]
  },
  {
   "cell_type": "raw",
   "id": "56ef2d9b",
   "metadata": {},
   "source": [
    "--# wines with and without designations per country\n",
    "--output: country, total_without_designation, total_with_designation, grand_total \n",
    "\n",
    "--该值为空 IS NULL\n",
    "--当计算该值有多少个时：SUM(CASE WHEN A THEN 1 ELSE 0 END) ；不能将SUM改为COUNT，因为如用COUNT(CASE WHEN A THEN 1 ELSE 0 END)代表共计多少个 = COUNT(*)\n",
    "\n",
    "SELECT\n",
    "    country,\n",
    "    SUM(CASE WHEN designation IS NULL THEN 1 ELSE 0 END) AS total_without_designation,\n",
    "    SUM(CASE WHEN designation IS NOT NULL THEN 1 ELSE 0 END) AS total_with_designation,\n",
    "    COUNT(*) AS grand_total\n",
    "FROM winemag_p2\n",
    "GROUP BY country"
   ]
  },
  {
   "cell_type": "raw",
   "id": "af57c24c",
   "metadata": {},
   "source": [
    "--# wines with and without designations per country\n",
    "--output: country, total_without_designation, total_with_designation, grand_total \n",
    "\n",
    "--该值为空 IS NULL\n",
    "--当计算该值有多少个时：SUM(CASE WHEN A THEN 1 ELSE 0 END) ；不能将SUM改为COUNT，因为如用COUNT(CASE WHEN A THEN 1 ELSE 0 END)代表共计多少个 = COUNT(*)\n",
    "\n",
    "SELECT\n",
    "    country,\n",
    "    SUM(CASE WHEN designation IS NULL THEN 1 ELSE 0 END) AS total_without_designation,\n",
    "    SUM(CASE WHEN designation IS NOT NULL THEN 1 ELSE 0 END) AS total_with_designation,\n",
    "    COUNT(*) AS grand_total\n",
    "FROM winemag_p2\n",
    "GROUP BY country"
   ]
  },
  {
   "cell_type": "markdown",
   "id": "6ae15d70",
   "metadata": {},
   "source": [
    "# Wine Variety Revenues\n",
    "\n",
    "\n",
    "Interview Question Date: February 2020\n",
    "\n",
    "Wine Magazine\n",
    "Medium\n",
    "ID 10033\n",
    "\n",
    "Find the total revenue made by each region from each variety of wine in that region. Output the region, variety, and total revenue.\n",
    "\n",
    "\n",
    "Take into calculation both region_1 and region_2. Remove the duplicated rows where  region, price and variety are exactly the same.\n",
    "\n",
    "Table: winemag_p1"
   ]
  },
  {
   "cell_type": "raw",
   "id": "1790b072",
   "metadata": {},
   "source": [
    "-- total rev made by each rgion ~ each variety of wine in region\n",
    "-- output: region, variety, sum： total revenue\n",
    "-- remove duplicated rows where region, price, variety are the same\n",
    "\n",
    "\n",
    "--一个区域内，一个variety, 可以对应多个price, 把所有price相加一起，就是revenue\n",
    "\n",
    "WITH total AS(\n",
    "    (SELECT \n",
    "        region_1 AS region,\n",
    "        price,\n",
    "        variety \n",
    "    FROM\n",
    "    winemag_p1\n",
    "    )\n",
    "    UNION \n",
    "    (SELECT \n",
    "        region_2 AS region,\n",
    "        price,\n",
    "        variety \n",
    "    FROM\n",
    "    winemag_p1\n",
    "    ) \n",
    ")\n",
    "SELECT \n",
    "    DISTINCT\n",
    "    region, \n",
    "    variety,\n",
    "    SUM(price) AS sum\n",
    "FROM total\n",
    "WHERE region IS NOT NULL AND price IS NOT NULL         --此句不可少\n",
    "GROUP BY region, variety\n",
    "ORDER BY SUM(price) DESC"
   ]
  },
  {
   "cell_type": "markdown",
   "id": "8463504e",
   "metadata": {},
   "source": [
    "# Best Wines By Points-To-Price\n",
    "\n",
    "\n",
    "Interview Question Date: February 2020\n",
    "\n",
    "Wine Magazine\n",
    "Medium\n",
    "ID 10032\n",
    "\n",
    "Find the wine with the highest points to price ratio. Output the title, points, price, and the corresponding points-to-price ratio.\n",
    "\n",
    "Table: winemag_p2"
   ]
  },
  {
   "cell_type": "raw",
   "id": "b26edaee",
   "metadata": {},
   "source": [
    "--①如果项不是数字格式，要换为数字： ::NUMERIC\n",
    "--②找最大值的两种写法：\n",
    "-- i. rank = 1\n",
    "-- ii. A = SELECT MAX(A) FROM B"
   ]
  },
  {
   "cell_type": "raw",
   "id": "0f4749f3",
   "metadata": {},
   "source": [
    "WITH ratio AS(\n",
    "    SELECT\n",
    "        title,\n",
    "        points,\n",
    "        price,\n",
    "        points:: NUMERIC / price:: NUMERIC AS points_price_ratio,\n",
    "        RANK() OVER (ORDER BY points / price DESC) AS rnk\n",
    "    FROM winemag_p2\n",
    "    WHERE points / price IS NOT NULL\n",
    ")\n",
    "SELECT \n",
    "        title,\n",
    "        points,\n",
    "        price,\n",
    "        points_price_ratio\n",
    "FROM ratio\n",
    "--WHERE rnk = 1\n",
    "WHERE points_price_ratio = (SELECT max(points_price_ratio) FROM ratio)"
   ]
  },
  {
   "cell_type": "markdown",
   "id": "9256c72e",
   "metadata": {},
   "source": [
    "# Find the number of Bodegas outside of Spain that produce wines with the blackberry taste\n",
    "\n",
    "\n",
    "Interview Question Date: February 2020\n",
    "\n",
    "Wine Magazine\n",
    "Medium\n",
    "ID 10031\n",
    "\n",
    "Find the number of Bodegas (wineries with \"bodega\" pattern inside the name) outside of Spain that produce wines with the blackberry taste (description contains blackberry string). Group the count by country and region.\n",
    "Output the country, region along with the number of bodegas.\n",
    "Order records by the number of bodegas in descending order.\n",
    "\n",
    "Table: winemag_p1"
   ]
  },
  {
   "cell_type": "raw",
   "id": "318d9359",
   "metadata": {},
   "source": [
    "①一个地区可能有多个相同名称的winery, 此时应该用count(distinct winery) 去重：\n",
    "②将region_1和region_2合并union格式，并进行去重：\n",
    "SELECT\n",
    "    *\n",
    "FROM\n",
    "(SELECT a FROM A \n",
    "UNION\n",
    "SELECT b FROM B\n",
    "WHERE a != b) t"
   ]
  },
  {
   "cell_type": "raw",
   "id": "4162c5c0",
   "metadata": {},
   "source": [
    "--# of B(wineries) outside of Spain that produce wines with balackberry taste(description)\n",
    "--group the count by country and region\n",
    "--output：country,  region, n_bodegas\n",
    "\n",
    "SELECT\n",
    "    country,\n",
    "    region,\n",
    "    COUNT(DISTINCT winery) AS n_bodegas\n",
    "FROM\n",
    "    (SELECT \n",
    "        country,\n",
    "        region_1 AS region,\n",
    "        winery,\n",
    "        description\n",
    "    FROM winemag_p1\n",
    "    UNION ALL\n",
    "    SELECT \n",
    "        country,\n",
    "        region_2 AS region,\n",
    "        winery,\n",
    "        description\n",
    "    FROM winemag_p1\n",
    "    WHERE region_1 != region_2) t         --去除掉Region为空的部分，以及两个region名称相同的部分\n",
    "WHERE winery ILIKE '%bodega%'\n",
    "AND country != 'Spain'\n",
    "AND description ILIKE '%blackberry%'\n",
    "GROUP BY 1,2\n",
    "ORDER BY 3 DESC"
   ]
  },
  {
   "cell_type": "markdown",
   "id": "602e3e3a",
   "metadata": {},
   "source": [
    "# Price Of Wines In Each Country\n",
    "\n",
    "\n",
    "Interview Question Date: February 2020\n",
    "\n",
    "Wine Magazine\n",
    "Medium\n",
    "ID 10029\n",
    "\n",
    "Find the minimum, average, and maximum price of all wines per country. Assume all wines listed across both datasets are unique. Output the country name along with the corresponding minimum, maximum, and average prices.\n",
    "\n",
    "Tables: winemag_p1, winemag_p2"
   ]
  },
  {
   "cell_type": "raw",
   "id": "98efa009",
   "metadata": {},
   "source": [
    "①看清是否需要合并两个数据集，如果数据集的记录没有重叠，无需去重，直接使用union all；如果有需要去重的需要使用union\n",
    "②转换格式：::NUMERIC, ::TEXT\n",
    "③求最大平均最小值：min, max, avg"
   ]
  },
  {
   "cell_type": "raw",
   "id": "e949f85d",
   "metadata": {},
   "source": [
    "--min, avg, max price of all wines per country\n",
    "--all wines unique\n",
    "--output: country, min_price, avg_price, max_price\n",
    "\n",
    "SELECT \n",
    "    country,\n",
    "    MIN(price) AS min_price,\n",
    "    AVG(price) AS avg_price,\n",
    "    MAX(price) AS max_price\n",
    "FROM \n",
    "    (SELECT \n",
    "        country:: TEXT, \n",
    "        price:: NUMERIC \n",
    "    FROM winemag_p1 \n",
    "    UNION ALL \n",
    "    SELECT \n",
    "        country:: TEXT, \n",
    "        price:: NUMERIC \n",
    "    FROM winemag_p2) t\n",
    "GROUP BY 1\n",
    "ORDER BY 1"
   ]
  },
  {
   "cell_type": "markdown",
   "id": "e7191ab8",
   "metadata": {},
   "source": [
    "# Find the number of wines each taster tasted within the variation\n",
    "\n",
    "\n",
    "Interview Question Date: February 2020\n",
    "\n",
    "Wine Magazine\n",
    "Medium\n",
    "ID 10028\n",
    "\n",
    "Find the number of wines each taster tasted within the variation.\n",
    "Output the tester's name, variety, and the number of tastings.\n",
    "Order records by taster name and the variety in ascending order and by the number of tasting in descending order.\n",
    "\n",
    "Table: winemag_p2"
   ]
  },
  {
   "cell_type": "raw",
   "id": "2f863b6b",
   "metadata": {},
   "source": [
    "--# wines ~ taster ~ winthin variation\n",
    "--output: taster_name, variety, n_tastings\n",
    "--order by taster_name, variety ASCC, n_tastings DESC\n",
    "\n",
    "SELECT\n",
    "    taster_name,\n",
    "    variety,\n",
    "    COUNT(*) AS n_tastings\n",
    "FROM winemag_p2\n",
    "WHERE taster_name IS NOT NULL\n",
    "GROUP BY \n",
    "    taster_name,\n",
    "    variety\n",
    "ORDER BY \n",
    "    taster_name, variety ASC,\n",
    "    COUNT(*) DESC"
   ]
  },
  {
   "cell_type": "markdown",
   "id": "c64bd8f5",
   "metadata": {},
   "source": [
    "# Find the number of US-based wineries that have expensive wines (price >= 200)\n",
    "\n",
    "\n",
    "Wine Magazine\n",
    "Easy\n",
    "ID 10027\n",
    "\n",
    "Find the number of US-based wineries that have expensive wines.\n",
    "A wine is considered to be expensive if its price is $200 or more.\n",
    "\n",
    "Table: winemag_p1"
   ]
  },
  {
   "cell_type": "raw",
   "id": "8c6a63ef",
   "metadata": {},
   "source": [
    "当记录中，有重复名字的A, 使用COUNT(*)无法去重，应该使用COUNT(DISTINCT A)"
   ]
  },
  {
   "cell_type": "raw",
   "id": "34edf502",
   "metadata": {},
   "source": [
    "--# US based wineries ~ expensive wines\n",
    "--wine expensive if price >= 200\n",
    "--output: n_wineries\n",
    "\n",
    "SELECT \n",
    "    COUNT(DISTINCT winery) AS n_wineries\n",
    "FROM winemag_p1\n",
    "WHERE price >= 200\n",
    "AND country = 'US'"
   ]
  },
  {
   "cell_type": "markdown",
   "id": "171f5668",
   "metadata": {},
   "source": [
    "# Find all wineries which produce wines by possessing aromas of plum, cherry, rose, or hazelnut\n",
    "\n",
    "\n",
    "Wine Magazine\n",
    "Medium\n",
    "ID 10026\n",
    "\n",
    "Find all wineries which produce wines by possessing aromas of plum, cherry, rose, or hazelnut. To make it more simple, look only for singular form of the mentioned aromas. HINT: if one of the specified words is just a substring of another word, this should not be a hit, but a miss.\n",
    "\n",
    "\n",
    "Example Description: Hot, tannic and simple, with cherry jam and currant flavors accompanied by high, tart acidity and chile-pepper alcohol heat.\n",
    "Therefore the winery Bella Piazza is expected in the results.\n",
    "\n",
    "Table: winemag_p1"
   ]
  },
  {
   "cell_type": "raw",
   "id": "d133ce4c",
   "metadata": {},
   "source": [
    "lower(a) ~ '\\y(A|B|C|D)\\y'：a中仅包含ABCD的记录，不包含ABCD的衍生词\n",
    "因为description中包含的不是关键词，而是含有关键词的词，应该被去除：eg. prosecco (rose), plump (plum), plummy (plum)\n",
    "用ILIKE无法实现去除功能，'\\y(A|B|C|D)\\y': 确保我们匹配的词汇是一个完整的单词，不是部分匹配。"
   ]
  },
  {
   "cell_type": "raw",
   "id": "412054ea",
   "metadata": {},
   "source": [
    "SELECT DISTINCT winery\n",
    "FROM winemag_p1\n",
    "WHERE lower(description) ~ '\\y(plum|cherry|rose|hazelnut)\\y'"
   ]
  },
  {
   "cell_type": "raw",
   "id": "d8862215",
   "metadata": {},
   "source": [
    "--ILIKE错误方法，无法排除 specified words is just a substring of another word的情况：Carpene Malvolti, Finca El Origen, La Fiammenga\n",
    "-- SELECT\n",
    "--     DISTINCT winery\n",
    "-- --    description\n",
    "-- FROM winemag_p1\n",
    "-- WHERE description LIKE '%plum%' \n",
    "-- or description LIKE '%cherry%'\n",
    "-- or description LIKE '%rose%'\n",
    "-- or description LIKE '%hazelnut%'\n",
    "\n",
    "\n",
    "--错误原因：\n",
    "-- Carpene Malvolti： Prosecco \n",
    "-- Finca El Origen：plump\n",
    "-- La Fiammenga：plummy\n",
    "-- select * from winemag_p1\n",
    "-- where winery IN ('Carpene Malvolti', 'Finca El Origen', 'La Fiammenga')"
   ]
  },
  {
   "cell_type": "markdown",
   "id": "c30d23a8",
   "metadata": {},
   "source": [
    "# Find all possible varieties which occur in either of the winemag datasets\n",
    "\n",
    "\n",
    "Wine Magazine\n",
    "Medium\n",
    "ID 10025\n",
    "\n",
    "Find all possible varieties which occur in either of the winemag datasets.\n",
    "Output unique variety values only.\n",
    "Sort records based on the variety in ascending order.\n",
    "\n",
    "Tables: winemag_p1, winemag_p2"
   ]
  },
  {
   "cell_type": "raw",
   "id": "6bdacfd8",
   "metadata": {},
   "source": [
    "--all possible varieties  ~ in either winemag\n",
    "--output: variety：unique variety values\n",
    "--sort by variety asc\n",
    "--将variety从每个表中选出，再distinct 效果等同于distinct variety再union"
   ]
  },
  {
   "cell_type": "raw",
   "id": "2ad6a1ab",
   "metadata": {},
   "source": [
    "SELECT\n",
    "    DISTINCT variety\n",
    "FROM \n",
    "    (SELECT \n",
    "        variety\n",
    "    FROM winemag_p1\n",
    "    UNION ALL\n",
    "    SELECT \n",
    "        variety\n",
    "    FROM winemag_p2) t\n",
    "ORDER BY variety"
   ]
  },
  {
   "cell_type": "markdown",
   "id": "beb6eb29",
   "metadata": {},
   "source": [
    "# Wine varieties tasted by 'Roger Voss'\n",
    "\n",
    "\n",
    "Wine Magazine\n",
    "Easy\n",
    "ID 10024\n",
    "\n",
    "Find wine varieties tasted by 'Roger Voss' and with a value in the 'region_1' column of the dataset. Output unique variety names only.\n",
    "\n",
    "Table: winemag_p2"
   ]
  },
  {
   "cell_type": "raw",
   "id": "b956246f",
   "metadata": {},
   "source": [
    "SELECT \n",
    "    DISTINCT variety\n",
    "FROM winemag_p2\n",
    "WHERE taster_name = 'Roger Voss'\n",
    "AND region_1 IS NOT NULL"
   ]
  },
  {
   "cell_type": "markdown",
   "id": "9ae73364",
   "metadata": {},
   "source": [
    "# Find all wine varieties which can be considered cheap based on the price\n",
    "\n",
    "\n",
    "Wine Magazine\n",
    "Easy\n",
    "ID 10022\n",
    "\n",
    "Find all wine varieties which can be considered cheap based on the price.\n",
    "A variety is considered cheap if the price of a bottle lies between 5 to 20 USD.\n",
    "Output unique variety names only.\n",
    "\n",
    "Table: winemag_p1"
   ]
  },
  {
   "cell_type": "raw",
   "id": "25531c4b",
   "metadata": {},
   "source": [
    "--all wine varieties ~ cheap ~ price\n",
    "--a vareity cheap: 5 < price < 20\n",
    "--output: unique variety names\n",
    "\n",
    "\n",
    "SELECT\n",
    "    DISTINCT variety\n",
    "FROM winemag_p1\n",
    "WHERE price BETWEEN 5 AND 20"
   ]
  },
  {
   "cell_type": "markdown",
   "id": "36948ef0",
   "metadata": {},
   "source": [
    "# Find all top-rated wineries based on points\n",
    "\n",
    "\n",
    "Wine Magazine\n",
    "Easy\n",
    "ID 10021\n",
    "\n",
    "Find all top-rated wineries based on points.\n",
    "Consider a top-rated winery has been awarded points more or equal than 95.\n",
    "\n",
    "Table: winemag_p1"
   ]
  },
  {
   "cell_type": "raw",
   "id": "ab7e6260",
   "metadata": {},
   "source": [
    "--all top rated wineries ~ points\n",
    "--top rated winery awarded points more or equal than 95\n",
    "\n",
    "SELECT\n",
    "    DISTINCT winery\n",
    "FROM winemag_p1\n",
    "WHERE points >= 95"
   ]
  },
  {
   "cell_type": "markdown",
   "id": "3483d234",
   "metadata": {},
   "source": [
    "# Find prices for Spanish, Italian, and French wines\n",
    "\n",
    "\n",
    "Wine Magazine\n",
    "Easy\n",
    "ID 10020\n",
    "\n",
    "Find prices for Spanish, Italian, and French wines. Output the price.\n",
    "\n",
    "Table: winemag_p1"
   ]
  },
  {
   "cell_type": "raw",
   "id": "7fb5e6e3",
   "metadata": {},
   "source": [
    "SELECT\n",
    "    price\n",
    "FROM winemag_p1\n",
    "WHERE country IN ('Spain', 'Italy', 'France')"
   ]
  },
  {
   "cell_type": "markdown",
   "id": "f8aa9aa7",
   "metadata": {},
   "source": [
    "# Find the fraction of rides for each weather and the hour\n",
    "\n",
    "\n",
    "Interview Question Date: February 2020\n",
    "\n",
    "Lyft\n",
    "Hard\n",
    "ID 10019\n",
    "\n",
    "Find the fraction (percentage divided by 100) of rides each weather-hour combination constitutes among all weather-hour combinations.\n",
    "Output the weather, hour along with the corresponding fraction.\n",
    "\n",
    "Table: lyft_rides"
   ]
  },
  {
   "cell_type": "raw",
   "id": "e680ddd1",
   "metadata": {},
   "source": [
    "①计算部分与整数的比值：\n",
    "法1: i.共计数cte ii. part数cte，part left join total ON TRUE，即可以直接使用所有变量\n",
    "法2：i.共计数cte，ii. part数cte，在part cte中如用total数，可以直接写select A from total\n",
    "②算probablity遇到都是0的情况，::NUMERIC 或 ::DECIMAL 可以转换为小数 "
   ]
  },
  {
   "cell_type": "raw",
   "id": "5c1b5502",
   "metadata": {},
   "source": [
    "WITH total AS(\n",
    "SELECT\n",
    "    COUNT(*) AS all_counts\n",
    "FROM lyft_rides\n",
    "),\n",
    "part AS (\n",
    "SELECT \n",
    "    weather,\n",
    "    hour,\n",
    "    COUNT(*) AS part_counts\n",
    "FROM lyft_rides\n",
    "GROUP BY 1,2\n",
    ")\n",
    "--法1：\n",
    "SELECT \n",
    "    weather,\n",
    "    hour,\n",
    "    part_counts / all_counts :: DECIMAL\n",
    "FROM part LEFT JOIN total\n",
    "ON TRUE\n",
    "ORDER BY 1,2\n",
    "--法2：\n",
    "-- SELECT \n",
    "--     weather,\n",
    "--     hour,\n",
    "--     part_counts / (SELECT all_counts FROM total)::DECIMAL AS probability\n",
    "-- FROM part\n",
    "-- ORDER BY 1,2"
   ]
  }
 ],
 "metadata": {
  "kernelspec": {
   "display_name": "Python 3 (ipykernel)",
   "language": "python",
   "name": "python3"
  },
  "language_info": {
   "codemirror_mode": {
    "name": "ipython",
    "version": 3
   },
   "file_extension": ".py",
   "mimetype": "text/x-python",
   "name": "python",
   "nbconvert_exporter": "python",
   "pygments_lexer": "ipython3",
   "version": "3.10.9"
  }
 },
 "nbformat": 4,
 "nbformat_minor": 5
}
