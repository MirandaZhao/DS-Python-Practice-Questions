{
 "cells": [
  {
   "cell_type": "markdown",
   "id": "aab185db",
   "metadata": {},
   "source": [
    "提纲"
   ]
  },
  {
   "cell_type": "markdown",
   "id": "a5b07fa3",
   "metadata": {},
   "source": [
    "## Jupyter keyboard shortcuts: Command + Shift + P"
   ]
  },
  {
   "cell_type": "raw",
   "id": "b6dbdfa2",
   "metadata": {},
   "source": [
    "插入图片"
   ]
  },
  {
   "cell_type": "markdown",
   "id": "884b8697",
   "metadata": {},
   "source": [
    "# 1. Statistics Questions"
   ]
  },
  {
   "cell_type": "markdown",
   "id": "a60c0265",
   "metadata": {},
   "source": [
    "## Q1: What are the advantages and disadvantages of using sample mean as an estimator?"
   ]
  },
  {
   "cell_type": "markdown",
   "id": "0f678412",
   "metadata": {},
   "source": [
    "①advantages:\n",
    "\n",
    "1. Unbiasedness: The sample mean is an unbiased estimator of the population mean, which means that, on average, it will give an accurate estimate of the true population mean.\n",
    "\n",
    "—> sample mean是population mean的无偏估计\n",
    "\n",
    "1. Consistency: As the sample size increases, the sample mean converges to the population mean, and variance decreases. This property ensures that with larger sample sizes, the sample mean becomes a more accurate estimator.\n",
    "\n",
    "随着数据量增加，sample mean的variance以线性速度不断减小，精确度不断提高。"
   ]
  },
  {
   "cell_type": "markdown",
   "id": "c67ef4e6",
   "metadata": {},
   "source": [
    "②Disadvantages:\n",
    "\n",
    "1. Sensitivity to outliers: The sample mean is sensitive to extreme values or outliers in the data. Outliers can disproportionately influence the estimate of the mean, leading to biased results.\n",
    "2. Sample dependence: The sample mean relies solely on the available sample data and does not take into account the underlying population distribution. It may not accurately estimate the population mean if the sample is not representative of the population.\n",
    "3. Sample size requirements: The sample mean performs well when the sample size is large enough, but it may not provide accurate estimates with small sample sizes. The precision of the estimate depends on the sample size, and small samples may lead to larger estimation errors."
   ]
  },
  {
   "cell_type": "markdown",
   "id": "1b88b32a",
   "metadata": {},
   "source": [
    "## Q2: What is a 95% confidence interval?"
   ]
  },
  {
   "cell_type": "markdown",
   "id": "c14e0bf3",
   "metadata": {},
   "source": [
    "In statistics, a 95% confidence interval means that if we were to repeat the sampling procedure many times and calculate confidence intervals, approximately 95% of those intervals would contain the true population parameter."
   ]
  },
  {
   "cell_type": "markdown",
   "id": "fd435688",
   "metadata": {},
   "source": [
    "## Q3: Explain P-value definition."
   ]
  },
  {
   "cell_type": "markdown",
   "id": "2b338935",
   "metadata": {},
   "source": [
    "P value is the probability of obtaining as or more extreme results than the current observation, under the null hypothesis. \n",
    "\n",
    "①it is a probability ②it is calculated under the null hypothesis\n",
    "\n",
    "③as or more extreme results\n",
    "\n",
    "p-value 是计算值，本身也是随机变量，随机性来源于sample data 随机性\n",
    "\n",
    "significance level α不是计算出来的值，是预先设定的threshold\n",
    "\n",
    "α 确定 HT中 p-value小到多少才能满足要求，一般定为0.05"
   ]
  },
  {
   "cell_type": "markdown",
   "id": "ce6a26bf",
   "metadata": {},
   "source": [
    "## Q4: How can we verify if the training data and validation data follow the same distribution?"
   ]
  },
  {
   "cell_type": "markdown",
   "id": "081c798d",
   "metadata": {},
   "source": [
    "## Q5: How can we verify the randomness of missing values in our training dataset?"
   ]
  },
  {
   "cell_type": "markdown",
   "id": "36ff039d",
   "metadata": {},
   "source": [
    "## Q6: Describe the procedure of hypothesis testing."
   ]
  },
  {
   "cell_type": "markdown",
   "id": "87ebd748",
   "metadata": {},
   "source": [
    "Hypothesis testing is a way to assess the plausibility of an assumption regarding a population parameter by using sample data; help figure out the odds that results happened by chance\n",
    "\n",
    "假设检验是一种通过使用样本数据来评估关于总体参数的假设的合理性的方法； 帮助找出结果偶然发生的几率。\n",
    "\n",
    "1)使用HT时因为可以控制样本随机性造成的错误。\n",
    "\n",
    "2)找到结果发生的几率\n",
    "\n",
    "① form the hypothesis 提出假设\n",
    "\n",
    "② construct the estimator and test statistics 预测量 μ se z\n",
    "\n",
    "③ obtain the distribution of test statistics under the null hypothesis 分布\n",
    "\n",
    "④calculate p-value P值\n",
    "\n",
    "⑤draw conclusion (reject or not reject null hypothesis) 结论\n",
    "\n",
    "※设计hypothesis的原则是，试图reject null hypothesis, confirm alternative hypothesis。这是无罪推定，先假定无罪，再通过足够的理由推翻假定，证明有罪。这样做可以控制false positive。\n",
    "\n",
    "H0：零假设是两者没有差异，观察到的差异是由于抽样或实验误差\n",
    "\n",
    "Ha：备择假设是试图证明的有意思结果，是两者有差异。"
   ]
  },
  {
   "cell_type": "markdown",
   "id": "bf728ae3",
   "metadata": {},
   "source": [
    "## Q7: What’s the difference between p-value, type I error rate and significance level, Z-score?"
   ]
  },
  {
   "cell_type": "markdown",
   "id": "53eaad4f",
   "metadata": {},
   "source": [
    "i.Type I error = false positive = significance level = α\n",
    "\n",
    "= P(reject H0| H0 is true) = P( p value < significance level | H0 is true)\n",
    "\n",
    "the probability of rejecting the null hypothesis given that the null hypothesis is true.\n",
    "\n",
    "the probability of having type I error is type I error rate α\n",
    "\n",
    "零假设正确却拒绝了零假设，hypothesis testing犯错的概率\n",
    "\n",
    "误判为阳性\n",
    "\n",
    "ii.Type II error = false negative = β ＝1 - power\n",
    "\n",
    "the probability of having type II error is type II error rate β\n",
    "\n",
    "power is the probability that an experiment will flag a real change as statistically significant\n",
    "\n",
    "零假设错误却接受了零假设，hypothesis testing犯错的概率\n",
    "\n",
    "误判为阴性\n",
    "\n",
    "iii.Type I error rate 和Type II error rate是此消彼长的\n",
    "\n",
    "iv. Z-score:\n",
    "\n",
    "对于sample mean estimator, 为后续计算方便，将其normalization，得到服从N(0, 1)分布的Z-score：\n",
    "\n",
    "σ sample mean = σ population / n\n",
    "\n",
    "Z = (X - μ) / σ sample mean"
   ]
  },
  {
   "cell_type": "markdown",
   "id": "94164c2e",
   "metadata": {},
   "source": [
    "## Q8: How to deal with the tradeoff between Type I error rate and Type II error rate?\n",
    "\n",
    "(ie. How to set the significance level?)"
   ]
  },
  {
   "cell_type": "markdown",
   "id": "32a3b769",
   "metadata": {},
   "source": [
    "大部分情况下，**Type I error 比Type II error严重**，比如法院定罪，互联网公司判定新产品效果\n",
    "\n",
    "type I error: 本来无罪却判为有罪，本来新旧产品无差异却判定新产品有效，所以更严重\n",
    "\n",
    "方法：①choose a relatively lower significance level; 设定低的α\n",
    "\n",
    "②increase sample size( collect more data) to decrease type II error rate. 提高样本数"
   ]
  },
  {
   "cell_type": "markdown",
   "id": "e9e0569e",
   "metadata": {},
   "source": [
    "## Q9: Given a fixed-size sample data and 0.05 significance level, shall we reject the null hypothesis if the p-value is 0.049?"
   ]
  },
  {
   "cell_type": "markdown",
   "id": "c821a15c",
   "metadata": {},
   "source": [
    "it depends! \n",
    "\n",
    "讨论use case中type I error 和type II error的严重程度"
   ]
  },
  {
   "cell_type": "markdown",
   "id": "0c7cf427",
   "metadata": {},
   "source": [
    "## Q10: Why do we need secondary metrics in A/B testing?"
   ]
  },
  {
   "cell_type": "markdown",
   "id": "14a15f48",
   "metadata": {},
   "source": [
    "**Acquisition → Activation → Retention → Revenue**\n",
    "\n",
    "1) **track long-term user experience change**\n",
    "\n",
    "page bounce rate（点了又推出）; page load latency（加载延迟）; customer service calls/ messages\n",
    "\n",
    "app-install; logins; searches; high-intent page views\n",
    "\n",
    "2) **explain the revenue change**\n",
    "\n",
    "sustainable revenue growth = short-term revenue growth + user experience improvement"
   ]
  },
  {
   "cell_type": "markdown",
   "id": "b708f0d4",
   "metadata": {},
   "source": [
    "## Q10.1 Direct metrics vs compound metrics: 直接指标和复合指标"
   ]
  },
  {
   "cell_type": "markdown",
   "id": "c1c7628e",
   "metadata": {},
   "source": [
    "1) Direct metrics: clicks, conversions, views, page bounce rate\n",
    "\n",
    "2) Compound metrics: LTV( User lifetime value), Page performance score(Google lighthouse)"
   ]
  },
  {
   "cell_type": "markdown",
   "id": "59b56dfa",
   "metadata": {},
   "source": [
    "## Q11: Why do we need to do randomization in A/B testing?"
   ]
  },
  {
   "cell_type": "markdown",
   "id": "50773fed",
   "metadata": {},
   "source": [
    "1）确保randomness: 一个user进入两个group的概率是一样的，完全随机。\n",
    "\n",
    "2）确保单一变量控制：除experiment effect之外，两个group所有feature完全一样。\n",
    "\n",
    "确保上述两个条件的构造实验过程，叫做create counterfactual. \n",
    "\n",
    "—> 只有通过设计randomized experiment, 确保randomness和单一变量控制，才能证明因果关系causal effect。"
   ]
  },
  {
   "cell_type": "markdown",
   "id": "6e39da51",
   "metadata": {},
   "source": [
    "## Q12: How to do randomization?/ Given a random number generation between 0 and 1, how to implement the randomization process in A/B testing?"
   ]
  },
  {
   "cell_type": "markdown",
   "id": "4537cd48",
   "metadata": {},
   "source": [
    "利用unique identifier生成一个随机数，然后将这个随机数映射到[0,1]之间，再进行上述处理。"
   ]
  },
  {
   "cell_type": "markdown",
   "id": "2843aa42",
   "metadata": {},
   "source": [
    "## Q13: Why do we usually set the same sample sizes in the treatment & control group?"
   ]
  },
  {
   "cell_type": "markdown",
   "id": "5fa29409",
   "metadata": {},
   "source": [
    "因为在total sample size (m+n) 一定的前提下，当m = n时，two sample test得到的test statistics绝对值最大，假设检验的结果更容易显著(significant)。"
   ]
  },
  {
   "cell_type": "markdown",
   "id": "956335c3",
   "metadata": {},
   "source": [
    "## Q14: How to test if the treatment control group assignment is randomized?"
   ]
  },
  {
   "cell_type": "markdown",
   "id": "1a61a19b",
   "metadata": {},
   "source": [
    "run A/A test first. \n",
    "\n",
    "A/A test: 对treatment group 不施加treatment effect. 实验结果应是两个groups没有显著区别。\n",
    "\n",
    "用A/A test来检测allocation操作是否有bias。\n",
    "\n",
    "• A/A experiment. Compare people seeing the same thing to each other. See if the metric picks up the difference between the two. Any differences that you measure are due to the underlying variability, maybe of your system, of the user population, what users are doing, etc.\n",
    "\n",
    "【matching, holdout group, segmentation】"
   ]
  },
  {
   "cell_type": "markdown",
   "id": "e468fc58",
   "metadata": {},
   "source": [
    "## Q15: What can we do if we realize the treatment control group assignment was not randomized after the data collection, i.e. impression process, has been finished?"
   ]
  },
  {
   "cell_type": "markdown",
   "id": "447dcbd9",
   "metadata": {},
   "source": [
    "segmentation：在metric calculation的时候，把数据按照有问题的feature分成subgroup，然后做weighted average。\n",
    "\n",
    "avg_clicks = female_weights * female_group_avg_clicks + male_weights * male_group_avg_clicks"
   ]
  },
  {
   "cell_type": "markdown",
   "id": "21bea77a",
   "metadata": {},
   "source": [
    "## Q16: What’s the relationship between A/B testing sample size and the sample data variance?"
   ]
  },
  {
   "cell_type": "markdown",
   "id": "39607d0c",
   "metadata": {},
   "source": [
    "if sample variance is larger, need larger sample size.\n",
    "\n",
    "if desired effect size is smaller, need larger sample size.\n",
    "\n",
    "if desired power is larger(or desired type II error rate is smaller), need larger sample size. \n",
    "\n",
    "if desired type I error rate is smaller, need larger sample size."
   ]
  },
  {
   "cell_type": "markdown",
   "id": "d1d6e855",
   "metadata": {},
   "source": [
    "## Q17: Metrics in A/B testing are significantly positive (negative) at the beginning, but become neutral later. What’s the possible reason?"
   ]
  },
  {
   "cell_type": "markdown",
   "id": "6ba7c0f7",
   "metadata": {},
   "source": [
    "positive: novelty effect（novelty effect: users welcome changes）\n",
    "\n",
    "negative: primacy effect. （primacy effect: users are reluctant to change.）"
   ]
  },
  {
   "cell_type": "markdown",
   "id": "b7191475",
   "metadata": {},
   "source": [
    "## Q18: How to reduce the novelty effect in A/B testing? &Q19: How to reduce the primary effect in A/B testing?"
   ]
  },
  {
   "cell_type": "markdown",
   "id": "52dc76be",
   "metadata": {},
   "source": [
    "1）把实验运行久一点\n",
    "\n",
    "2）避免在单个实验引入过多或过于剧烈的改动\n",
    "\n",
    "3）在enrollment阶段，只把new visitors加入到实验中\n",
    "\n",
    "4）在analysis阶段，把new visitors和old visitors的treatment effect分开讨论"
   ]
  },
  {
   "cell_type": "markdown",
   "id": "31a44331",
   "metadata": {},
   "source": [
    "## Q20: How to resolve interference between treatment and control group?"
   ]
  },
  {
   "cell_type": "markdown",
   "id": "8da3d2cf",
   "metadata": {},
   "source": [
    "spillover between control and treatment group will impact A/B testing result.\n",
    "\n",
    "2 types of interference: \n",
    "\n",
    "network effect: underestimate the treatment effect. \n",
    "\n",
    "limited resource in two-sided markets: overestimate the treatment effect.\n",
    "\n",
    "resolve interference using different allocation strategies: \n",
    "\n",
    "network effect: network-based clustering\n",
    "\n",
    "two-sided market: geo-based clustering"
   ]
  },
  {
   "cell_type": "markdown",
   "id": "334a3a26",
   "metadata": {},
   "source": [
    "## Q21: Analyze A/B testing result:"
   ]
  },
  {
   "cell_type": "markdown",
   "id": "c1f23414",
   "metadata": {},
   "source": [
    "a. In the control group, we collected the app-usage-time of 1010 users {x1, x2,…, x10}, its sample mean value is 1 hour/day\n",
    "\n",
    "b. In the treatment group, we collected the app-usage-time of 990 users {y1, y2, … y990}, its sample mean value is 1.2 hour/day\n",
    "\n",
    "Suppose their sample variances are the same σ^2 = 1. Can you tell which group has a longer app-usage time?"
   ]
  },
  {
   "cell_type": "markdown",
   "id": "32ab1647",
   "metadata": {},
   "source": [
    "## Q22: Power Analysis:"
   ]
  },
  {
   "cell_type": "markdown",
   "id": "0c9c6204",
   "metadata": {},
   "source": [
    "在enrollment中，需要估算sample size，从而计算实验需要运行的时长。\n",
    "\n",
    "power analysis is to estimate the minimum sample size (n) required an a/b testing experiment, given a desired significance level α, effect size, and statistical power(1 - β)。"
   ]
  },
  {
   "cell_type": "markdown",
   "id": "138333c6",
   "metadata": {},
   "source": [
    "## Q23: Effect size:"
   ]
  },
  {
   "cell_type": "markdown",
   "id": "3e377d56",
   "metadata": {},
   "source": [
    "the mean difference between two groups in the unit of population standard deviation\n",
    "\n",
    "ES = |μ1 - μ0| / σ"
   ]
  },
  {
   "cell_type": "markdown",
   "id": "8b669ab3",
   "metadata": {},
   "source": [
    "## Q24: 查准率&查全率"
   ]
  },
  {
   "cell_type": "markdown",
   "id": "ca8bda96",
   "metadata": {},
   "source": [
    "accuracy 精度  = 预测正确的样本 / 总样本  = TP + TN / TP + TN + FP + FN\n",
    "\n",
    "precision 查准率 = 挑出的西瓜有多少是好西瓜 = TP / TP + FP\n",
    "\n",
    "recall 查全率 = 所有好西瓜有多少被挑出了 = TP / TP + FN"
   ]
  },
  {
   "cell_type": "markdown",
   "id": "fc692494",
   "metadata": {},
   "source": [
    "# 2. Machine Learning Questions"
   ]
  },
  {
   "cell_type": "markdown",
   "id": "ec210c4d",
   "metadata": {},
   "source": [
    "## √Q1: When and why do we need to do feature normalization?"
   ]
  },
  {
   "cell_type": "markdown",
   "id": "c8721853",
   "metadata": {},
   "source": [
    "值间差异大，避免值大变量weight大。\n",
    "\n",
    "feature scaling is helpful when one feature is much larger (or smaller) than another feature. \n",
    "\n",
    "Its main purpose is to standardize the values of different features.\n",
    "\n",
    "feature normalization is useful when the dataset has different feature scales, avoiding weight bias, require optimization algorithms(gradient descent, are sensitive to the input feature scales).\n",
    "\n",
    "eg. the house size could be 2000, #of bedrooms is [1,5] when predict house price."
   ]
  },
  {
   "cell_type": "markdown",
   "id": "19e4ac7c",
   "metadata": {},
   "source": [
    "## √Q2: Why do we usually use squared loss as the loss function of ordinary linear regression?"
   ]
  },
  {
   "cell_type": "markdown",
   "id": "b53dcf02",
   "metadata": {},
   "source": [
    "1）**Convexity**: **The squared loss function is convex, which means it has a single global minimum. This property makes it easier to find the optimal solution using optimization techniques like gradient descent. The convexity ensures that the optimization process converges to a unique solution.**\n",
    "\n",
    "2）**Sensitivity to outliers**: The squared loss function penalizes large errors more than linear or absolute loss functions. Consequently, it is more sensitive to outliers in the data. This sensitivity can be beneficial when outliers are considered as significant deviations from the underlying linear relationship and should have a larger impact on the model.\n",
    "\n",
    "3）**Maximum likelihood estimation**: When the errors in the linear regression model follow a Gaussian (normal) distribution, minimizing the squared loss is equivalent to maximizing the likelihood of the observed data. This connection to maximum likelihood estimation provides a statistical interpretation for using squared loss in linear regression."
   ]
  },
  {
   "cell_type": "markdown",
   "id": "37fb62f4",
   "metadata": {},
   "source": [
    "## Q3: What’s the difference and correlation between ordinary linear regression and logistics regression?"
   ]
  },
  {
   "cell_type": "markdown",
   "id": "ec3b3a92",
   "metadata": {},
   "source": [
    "0) 同属generilized linear regression例子\n",
    "\n",
    "1) Linear Regression\n",
    "\n",
    "i. Y|X 服从Normal Distribution，\n",
    "\n",
    "ii.直线，predicting continuous values\n",
    "\n",
    "iii.g(E(Y|X)) = Xβ ; g() 是identity function, 即它自己\n",
    "\n",
    "2) Logistic Regression\n",
    "\n",
    "i.Y|X 服从Bernoulli Distribution，\n",
    "\n",
    "ii.曲线，predicting probabilities and making binary/ categorical classifications\n",
    "\n",
    "iii.g(E(Y|X)) = Xβ；g() 是logitfunction, 反函数是g^-1()"
   ]
  },
  {
   "cell_type": "markdown",
   "id": "829e6a08",
   "metadata": {},
   "source": [
    "## Q4: What’s the probabilistic assumption of ordinary linear regression?"
   ]
  },
  {
   "cell_type": "markdown",
   "id": "4c2c5357",
   "metadata": {},
   "source": [
    "-normal distribution"
   ]
  },
  {
   "cell_type": "markdown",
   "id": "3a64815d",
   "metadata": {},
   "source": [
    "## Q5: What’s the loss function of logistic regression? "
   ]
  },
  {
   "cell_type": "markdown",
   "id": "ee73747b",
   "metadata": {},
   "source": [
    "## Q6: What’s the probabilistic assumption of logistic regression?"
   ]
  },
  {
   "cell_type": "markdown",
   "id": "c28fc614",
   "metadata": {},
   "source": [
    "-bernoulli distribution"
   ]
  },
  {
   "cell_type": "markdown",
   "id": "acd32a57",
   "metadata": {},
   "source": [
    "## Q7: How to deal with a multi-class classification problem?"
   ]
  },
  {
   "cell_type": "markdown",
   "id": "029c8289",
   "metadata": {},
   "source": [
    "cross entropy loss在binary classification和multi-class classification中都可以应用。"
   ]
  },
  {
   "cell_type": "markdown",
   "id": "a466ddc5",
   "metadata": {},
   "source": [
    "## Q9: What is overfitting? "
   ]
  },
  {
   "cell_type": "markdown",
   "id": "44c25033",
   "metadata": {},
   "source": [
    "0) overfit: when a model fits the training data well but does not work well with new examples that are not in the training set. \n",
    "\n",
    "model too closely to training dataset, fail to fit test dataset or predict future observation reliably.\n",
    "\n",
    "if have too many features, the model may fit the training set well, but almost too well and have high variance. 每次新的test dataset 都和真实值有较大偏差。\n",
    "\n",
    "2) underfit: too few features, it underfits and has bias. \n",
    "\n",
    "3）just right: use the model to predict outcomes correctly for new examples. generalize well."
   ]
  },
  {
   "cell_type": "markdown",
   "id": "e174ba6d",
   "metadata": {},
   "source": [
    "## Q9.1：What’s the general strategies to reduce model overfitting?"
   ]
  },
  {
   "cell_type": "markdown",
   "id": "f7c46deb",
   "metadata": {},
   "source": [
    "1) more training date 增加训练数据量\n",
    "\n",
    "2) improve model formula 改进模型结构：\n",
    "\n",
    "   a. use fewer features 减少Feature个数 eg. feature selection, PCA\n",
    "\n",
    "   b. 改进loss function形式: 正则化 regularization"
   ]
  },
  {
   "cell_type": "markdown",
   "id": "dae5940a",
   "metadata": {},
   "source": [
    "## Q9.2 Bias& Variance: What is bias and variance? What is bias and variance trade off?"
   ]
  },
  {
   "cell_type": "markdown",
   "id": "57318ae0",
   "metadata": {},
   "source": [
    "Bias: model space中多个模型的平均输出结果与真实值相比的差距。即整个model space的平均准确性。\n",
    "\n",
    "Variance: model space中某个model输出结果与model space平均水平的差距的期望。\n",
    "\n",
    "Model Error = Bias^2 + Variance + σ^2\n",
    "\n",
    "Squared Error: Bias^2 + Variance\n",
    "\n",
    "underfit: 模型与training set不准，bias大\n",
    "\n",
    "overfit:模型与test set不准，variance大"
   ]
  },
  {
   "cell_type": "markdown",
   "id": "e7566245",
   "metadata": {},
   "source": [
    "## Q10: What’s L1 regularization and L2 regularization?"
   ]
  },
  {
   "cell_type": "markdown",
   "id": "e6f0b518",
   "metadata": {},
   "source": [
    "## Q11: What’s the difference between L1 regularization and L2 regularization?"
   ]
  },
  {
   "cell_type": "markdown",
   "id": "e102702e",
   "metadata": {},
   "source": [
    "## Q12: How to find the optimal value of hyper-parameter in the regularization term?"
   ]
  },
  {
   "cell_type": "markdown",
   "id": "a8c3de8b",
   "metadata": {},
   "source": [
    "## Q13: How to prioritize precision and recall metrics in different use cases?"
   ]
  },
  {
   "cell_type": "markdown",
   "id": "0180c45f",
   "metadata": {},
   "source": [
    "## Q14: How to explain AUC from a probability perspective?"
   ]
  },
  {
   "cell_type": "markdown",
   "id": "8b4b297a",
   "metadata": {},
   "source": [
    "## Q29: How to deal with categorical features at the feature transformation stage?"
   ]
  },
  {
   "cell_type": "markdown",
   "id": "202d8e4a",
   "metadata": {},
   "source": [
    "## Q30: What are the common dimensionality reduction methods?"
   ]
  },
  {
   "cell_type": "markdown",
   "id": "1e16dca4",
   "metadata": {},
   "source": [
    "## Q15: How to reduce overfitting of decision tree models?"
   ]
  },
  {
   "cell_type": "markdown",
   "id": "b0de437a",
   "metadata": {},
   "source": [
    "## Q16: Why do u consider a decision tree as a non-linear model?"
   ]
  },
  {
   "cell_type": "markdown",
   "id": "b8ef78c6",
   "metadata": {},
   "source": [
    "## Q17: Can tree-based models work well with sparse features? Why?"
   ]
  },
  {
   "cell_type": "markdown",
   "id": "4a4c1480",
   "metadata": {},
   "source": [
    "## Q18: Why do random forest models usually provide better result than decision tree models?"
   ]
  },
  {
   "cell_type": "markdown",
   "id": "55b16065",
   "metadata": {},
   "source": [
    "## Q19: How to tune hyper-parameters in random forest models?"
   ]
  },
  {
   "cell_type": "markdown",
   "id": "89e6db1b",
   "metadata": {},
   "source": [
    "## Q20: What does the feature importance mean in random forest models and boosting models?"
   ]
  },
  {
   "cell_type": "markdown",
   "id": "f5392070",
   "metadata": {},
   "source": [
    "## Q22: Compare the advantages and disadvantages of decision tree, random forest and GBDT."
   ]
  },
  {
   "cell_type": "markdown",
   "id": "0bdaac1d",
   "metadata": {},
   "source": [
    "## Q21: What’s the difference between bagging methods and boosting methods?"
   ]
  },
  {
   "cell_type": "markdown",
   "id": "ddd65ed4",
   "metadata": {},
   "source": [
    "## Q23: Compare the difference between XGBoost and GBDT."
   ]
  },
  {
   "cell_type": "markdown",
   "id": "a3626058",
   "metadata": {},
   "source": [
    "## Q33: What’s the difference between batch gradient descent and stochastic gradient descent?"
   ]
  },
  {
   "cell_type": "markdown",
   "id": "3525fc9f",
   "metadata": {},
   "source": [
    "## Q24: What’s the time complexity of K-nearest neighbor? Can u further improve its time complexity with approximation methods?"
   ]
  },
  {
   "cell_type": "markdown",
   "id": "39c27e9f",
   "metadata": {},
   "source": [
    "## Q25: What are the factors that influence performance of the K-means algorithms?"
   ]
  },
  {
   "cell_type": "markdown",
   "id": "db14e981",
   "metadata": {},
   "source": [
    "## Q26: How to find the optimal K for K-means algorithms?"
   ]
  },
  {
   "cell_type": "markdown",
   "id": "b1fc222c",
   "metadata": {},
   "source": [
    "## Q27: What to optimize centroids selection for K-means algorithm?"
   ]
  },
  {
   "cell_type": "markdown",
   "id": "7841f40b",
   "metadata": {},
   "source": [
    "## Q31: Describe the process of PCA."
   ]
  },
  {
   "cell_type": "markdown",
   "id": "8fdb0e44",
   "metadata": {},
   "source": [
    "## Q32: Why do we need feature normalization during Principal Component Analysis?"
   ]
  },
  {
   "cell_type": "markdown",
   "id": "428c1544",
   "metadata": {},
   "source": [
    "## Q28: What are the common techniques to fill missing values?"
   ]
  },
  {
   "cell_type": "markdown",
   "id": "36ceac20",
   "metadata": {},
   "source": [
    "# Deep Learning"
   ]
  },
  {
   "cell_type": "markdown",
   "id": "275682d8",
   "metadata": {},
   "source": [
    "## Q34: What’s the difference between backpropagation and gradient descent?"
   ]
  },
  {
   "cell_type": "markdown",
   "id": "91d64660",
   "metadata": {},
   "source": [
    "## Q35: Why is backpropagation more efficient than forward-pass-only gradient calculation?"
   ]
  },
  {
   "cell_type": "markdown",
   "id": "b162bff4",
   "metadata": {},
   "source": [
    "## Q36: How to train your neural network model with multiple machines?"
   ]
  },
  {
   "cell_type": "markdown",
   "id": "6a11968e",
   "metadata": {},
   "source": [
    "## Q37: What’s the difference between batch and epoch?"
   ]
  },
  {
   "cell_type": "markdown",
   "id": "e1ad8e5a",
   "metadata": {},
   "source": [
    "## Q38: What is the dying ReLu problem?"
   ]
  },
  {
   "cell_type": "markdown",
   "id": "f352000e",
   "metadata": {},
   "source": [
    "## Q39: How to reduce the overfitting problem in Neural Network Models?"
   ]
  },
  {
   "cell_type": "markdown",
   "id": "ef740365",
   "metadata": {},
   "source": [
    "## Q40: What are the common techniques to reduce the gradient vanishing/ exploding problem?"
   ]
  },
  {
   "cell_type": "markdown",
   "id": "8d7a76f8",
   "metadata": {},
   "source": [
    "## Q41: What’s the difference between kernel and filter in Convolutional Neural Network?"
   ]
  },
  {
   "cell_type": "markdown",
   "id": "723b756a",
   "metadata": {},
   "source": [
    "## Q42: What’s the difference process of doing backpropagation in a Recurrent Neural Network?"
   ]
  }
 ],
 "metadata": {
  "kernelspec": {
   "display_name": "Python 3 (ipykernel)",
   "language": "python",
   "name": "python3"
  },
  "language_info": {
   "codemirror_mode": {
    "name": "ipython",
    "version": 3
   },
   "file_extension": ".py",
   "mimetype": "text/x-python",
   "name": "python",
   "nbconvert_exporter": "python",
   "pygments_lexer": "ipython3",
   "version": "3.11.5"
  }
 },
 "nbformat": 4,
 "nbformat_minor": 5
}
