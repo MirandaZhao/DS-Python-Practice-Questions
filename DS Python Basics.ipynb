{
 "cells": [
  {
   "cell_type": "markdown",
   "id": "8dbcedf3",
   "metadata": {},
   "source": [
    "# Unit 1：List"
   ]
  },
  {
   "cell_type": "markdown",
   "id": "b52f1a5b",
   "metadata": {},
   "source": [
    "## 1. List1- Introduction to List"
   ]
  },
  {
   "cell_type": "code",
   "execution_count": 6,
   "id": "d238864a",
   "metadata": {},
   "outputs": [],
   "source": [
    "#1.1: An empty list"
   ]
  },
  {
   "cell_type": "code",
   "execution_count": 9,
   "id": "ecef8fcd",
   "metadata": {},
   "outputs": [],
   "source": [
    "a = []"
   ]
  },
  {
   "cell_type": "code",
   "execution_count": 11,
   "id": "595e7809",
   "metadata": {},
   "outputs": [
    {
     "name": "stdout",
     "output_type": "stream",
     "text": [
      "[]\n"
     ]
    }
   ],
   "source": [
    "print(a)\n",
    "#[]"
   ]
  },
  {
   "cell_type": "code",
   "execution_count": 13,
   "id": "cb62da2e",
   "metadata": {},
   "outputs": [],
   "source": [
    "#1.2 A list of numbers"
   ]
  },
  {
   "cell_type": "code",
   "execution_count": 15,
   "id": "ad050a7f",
   "metadata": {},
   "outputs": [],
   "source": [
    "a = [1, 2, 3]"
   ]
  },
  {
   "cell_type": "code",
   "execution_count": 18,
   "id": "0fe3cc33",
   "metadata": {},
   "outputs": [
    {
     "name": "stdout",
     "output_type": "stream",
     "text": [
      "[1, 2, 3]\n"
     ]
    }
   ],
   "source": [
    "print(a)\n",
    "#[1, 2, 3]"
   ]
  },
  {
   "cell_type": "code",
   "execution_count": 20,
   "id": "a567f7fe",
   "metadata": {},
   "outputs": [],
   "source": [
    "#1.3 A list of strings"
   ]
  },
  {
   "cell_type": "code",
   "execution_count": 22,
   "id": "f5356c63",
   "metadata": {},
   "outputs": [],
   "source": [
    "a = ['a', 'b', 'c']"
   ]
  },
  {
   "cell_type": "code",
   "execution_count": 27,
   "id": "16c88ef2",
   "metadata": {},
   "outputs": [
    {
     "name": "stdout",
     "output_type": "stream",
     "text": [
      "[1, 'a', 'b', 2, 'c']\n"
     ]
    }
   ],
   "source": [
    "print(a)\n",
    "#['a', 'b', 'c']"
   ]
  },
  {
   "cell_type": "code",
   "execution_count": 28,
   "id": "e6a37be2",
   "metadata": {},
   "outputs": [],
   "source": [
    "#1.4 A list of many things"
   ]
  },
  {
   "cell_type": "code",
   "execution_count": 25,
   "id": "f0db797d",
   "metadata": {},
   "outputs": [],
   "source": [
    "a = [1, 'a', 'b', 2, 'c']"
   ]
  },
  {
   "cell_type": "code",
   "execution_count": 29,
   "id": "c1354cb2",
   "metadata": {},
   "outputs": [
    {
     "name": "stdout",
     "output_type": "stream",
     "text": [
      "[1, 'a', 'b', 2, 'c']\n"
     ]
    }
   ],
   "source": [
    "print(a)\n",
    "#[1, 'a', 'b', 2, 'c']"
   ]
  },
  {
   "cell_type": "code",
   "execution_count": 37,
   "id": "f16014ee",
   "metadata": {},
   "outputs": [],
   "source": [
    "a = [[{}], 1, 2, [\"a\", \"b\"], \"c\"]"
   ]
  },
  {
   "cell_type": "code",
   "execution_count": 38,
   "id": "ffefaae5",
   "metadata": {},
   "outputs": [
    {
     "name": "stdout",
     "output_type": "stream",
     "text": [
      "[[{}], 1, 2, ['a', 'b'], 'c']\n"
     ]
    }
   ],
   "source": [
    "print(a)\n",
    "#[[], 1, 2, ['a', 'b'], 'c']"
   ]
  },
  {
   "cell_type": "code",
   "execution_count": 39,
   "id": "dd1e32ad",
   "metadata": {},
   "outputs": [],
   "source": [
    "#小结：\n",
    "#1.python list中可以是任何元素，可以是数字，list，dictionary。\n",
    "#2.如果是list需要双括弧补齐\n",
    "#3.顺序"
   ]
  },
  {
   "cell_type": "markdown",
   "id": "fb0c8a4c",
   "metadata": {},
   "source": [
    "## 2. Getting elements from a list\n"
   ]
  },
  {
   "cell_type": "code",
   "execution_count": 41,
   "id": "8d452182",
   "metadata": {},
   "outputs": [],
   "source": [
    "#2.1 看一个元素是否在list中"
   ]
  },
  {
   "cell_type": "code",
   "execution_count": 43,
   "id": "600ea8c1",
   "metadata": {},
   "outputs": [],
   "source": [
    "a = [1, 3, 4, 5, 9]"
   ]
  },
  {
   "cell_type": "code",
   "execution_count": 45,
   "id": "091582d4",
   "metadata": {},
   "outputs": [
    {
     "data": {
      "text/plain": [
       "True"
      ]
     },
     "execution_count": 45,
     "metadata": {},
     "output_type": "execute_result"
    }
   ],
   "source": [
    "1 in a\n",
    "#True"
   ]
  },
  {
   "cell_type": "code",
   "execution_count": 47,
   "id": "a4dab88d",
   "metadata": {},
   "outputs": [
    {
     "data": {
      "text/plain": [
       "False"
      ]
     },
     "execution_count": 47,
     "metadata": {},
     "output_type": "execute_result"
    }
   ],
   "source": [
    "7 in a\n",
    "#False"
   ]
  },
  {
   "cell_type": "code",
   "execution_count": 49,
   "id": "ef9d03a4",
   "metadata": {},
   "outputs": [
    {
     "data": {
      "text/plain": [
       "False"
      ]
     },
     "execution_count": 49,
     "metadata": {},
     "output_type": "execute_result"
    }
   ],
   "source": [
    "2 in a\n",
    "#False"
   ]
  },
  {
   "cell_type": "code",
   "execution_count": 336,
   "id": "cddd64e9",
   "metadata": {},
   "outputs": [],
   "source": [
    "#2.1.1: 是否元素在list中的函数形式\n",
    "\n",
    "#练习Q extra:\n",
    "# Whether an Element in the List\n",
    "# Description\n",
    "# Build a function IsIn to tell whether a target element in a list.\n",
    "\n",
    "# Examples\n",
    "# IsIn([1, 2, 3, 4, 5], 2) returns True\n",
    "# IsIn([1, 2, 3, 4, 5], 6) returns False"
   ]
  },
  {
   "cell_type": "code",
   "execution_count": null,
   "id": "7087f092",
   "metadata": {},
   "outputs": [],
   "source": [
    "#法1：if k in a： \n",
    "def IsIn(nums, target):\n",
    "    if target in nums:\n",
    "        return True\n",
    "    else:\n",
    "        return False\n",
    "\n",
    "#一个值在一个列表中：if a in list，return True False"
   ]
  },
  {
   "cell_type": "code",
   "execution_count": 343,
   "id": "5abb3509",
   "metadata": {},
   "outputs": [],
   "source": [
    "#法2：if target in nums:\n",
    "def IsIn(nums, target):\n",
    "    return target in nums\n",
    "\n",
    "#直接return k in a，返回结果是True False                                    "
   ]
  },
  {
   "cell_type": "code",
   "execution_count": null,
   "id": "f2fdd0fe",
   "metadata": {},
   "outputs": [],
   "source": [
    "#return target in nums 是一个布尔表达式，它会返回一个布尔值，即 True 或 False。#"
   ]
  },
  {
   "cell_type": "code",
   "execution_count": 57,
   "id": "7e77b24f",
   "metadata": {},
   "outputs": [
    {
     "data": {
      "text/plain": [
       "True"
      ]
     },
     "execution_count": 57,
     "metadata": {},
     "output_type": "execute_result"
    }
   ],
   "source": [
    "IsIn([1, 2, 3, 4, 5], 2)\n",
    "#True"
   ]
  },
  {
   "cell_type": "code",
   "execution_count": 59,
   "id": "60b7fd7a",
   "metadata": {},
   "outputs": [
    {
     "data": {
      "text/plain": [
       "False"
      ]
     },
     "execution_count": 59,
     "metadata": {},
     "output_type": "execute_result"
    }
   ],
   "source": [
    "IsIn([1, 2, 3, 4, 5], 6)\n",
    "#False"
   ]
  },
  {
   "cell_type": "code",
   "execution_count": 61,
   "id": "9f219f2f",
   "metadata": {},
   "outputs": [],
   "source": [
    "#2.2 用Index取需要的元素"
   ]
  },
  {
   "cell_type": "code",
   "execution_count": 63,
   "id": "bb830074",
   "metadata": {},
   "outputs": [],
   "source": [
    "a = [1, 2, 3, 4, 5, 6, 7]"
   ]
  },
  {
   "cell_type": "code",
   "execution_count": 65,
   "id": "72c22305",
   "metadata": {},
   "outputs": [
    {
     "name": "stdout",
     "output_type": "stream",
     "text": [
      "2\n"
     ]
    }
   ],
   "source": [
    "print(a[1])\n",
    "#2"
   ]
  },
  {
   "cell_type": "code",
   "execution_count": 67,
   "id": "58d773fb",
   "metadata": {},
   "outputs": [
    {
     "name": "stdout",
     "output_type": "stream",
     "text": [
      "1\n"
     ]
    }
   ],
   "source": [
    "print(a[0])\n",
    "#1"
   ]
  },
  {
   "cell_type": "code",
   "execution_count": 69,
   "id": "f32ed33d",
   "metadata": {},
   "outputs": [
    {
     "name": "stdout",
     "output_type": "stream",
     "text": [
      "7\n"
     ]
    }
   ],
   "source": [
    "print(a[6])\n",
    "#7"
   ]
  },
  {
   "cell_type": "code",
   "execution_count": 74,
   "id": "a9deaab8",
   "metadata": {},
   "outputs": [],
   "source": [
    "#print(a[7])\n",
    "# ---------------------------------------------------------------------------\n",
    "# IndexError                                Traceback (most recent call last)\n",
    "# Cell In[70], line 1\n",
    "# ----> 1 print(a[7])\n",
    "\n",
    "# IndexError: list index out of range"
   ]
  },
  {
   "cell_type": "code",
   "execution_count": 76,
   "id": "85430376",
   "metadata": {},
   "outputs": [],
   "source": [
    "#2.3 用负值index取元素"
   ]
  },
  {
   "cell_type": "code",
   "execution_count": 78,
   "id": "e5dae767",
   "metadata": {},
   "outputs": [],
   "source": [
    "a = [1, 2, 3, 4, 5, 6, 7]"
   ]
  },
  {
   "cell_type": "code",
   "execution_count": 80,
   "id": "f8ac5e0f",
   "metadata": {},
   "outputs": [
    {
     "name": "stdout",
     "output_type": "stream",
     "text": [
      "7\n"
     ]
    }
   ],
   "source": [
    "print(a[-1])\n",
    "#7"
   ]
  },
  {
   "cell_type": "code",
   "execution_count": 83,
   "id": "d35cca89",
   "metadata": {},
   "outputs": [
    {
     "name": "stdout",
     "output_type": "stream",
     "text": [
      "6\n"
     ]
    }
   ],
   "source": [
    "print(a[-2])\n",
    "#6"
   ]
  },
  {
   "cell_type": "code",
   "execution_count": 86,
   "id": "8fb7dd0a",
   "metadata": {},
   "outputs": [
    {
     "name": "stdout",
     "output_type": "stream",
     "text": [
      "1\n"
     ]
    }
   ],
   "source": [
    "print(a[-7])\n",
    "#1"
   ]
  },
  {
   "cell_type": "code",
   "execution_count": 89,
   "id": "bee28983",
   "metadata": {},
   "outputs": [],
   "source": [
    "#print(a[-8])\n",
    "# ---------------------------------------------------------------------------\n",
    "# IndexError                                Traceback (most recent call last)\n",
    "# Cell In[87], line 1\n",
    "# ----> 1 print(a[-8])\n",
    "\n",
    "# IndexError: list index out of range"
   ]
  },
  {
   "cell_type": "code",
   "execution_count": 91,
   "id": "a221470e",
   "metadata": {},
   "outputs": [],
   "source": [
    "#2.4 Length of a list"
   ]
  },
  {
   "cell_type": "code",
   "execution_count": 94,
   "id": "3c28f467",
   "metadata": {},
   "outputs": [],
   "source": [
    "a = [1, 2, 3, 4, 5, 6, 7]"
   ]
  },
  {
   "cell_type": "code",
   "execution_count": 98,
   "id": "cfa9eda7",
   "metadata": {},
   "outputs": [
    {
     "name": "stdout",
     "output_type": "stream",
     "text": [
      "7\n"
     ]
    }
   ],
   "source": [
    "print(len(a))\n",
    "#7"
   ]
  },
  {
   "cell_type": "code",
   "execution_count": 102,
   "id": "b921c02e",
   "metadata": {},
   "outputs": [
    {
     "data": {
      "text/plain": [
       "7"
      ]
     },
     "execution_count": 102,
     "metadata": {},
     "output_type": "execute_result"
    }
   ],
   "source": [
    "a[len(a) - 1]\n",
    "#在a中取第六个元素，即7\n",
    "#7"
   ]
  },
  {
   "cell_type": "code",
   "execution_count": 105,
   "id": "e310b1c9",
   "metadata": {},
   "outputs": [],
   "source": [
    "#a(len(a))\n",
    "##在a中取第七个元素，out of list\n",
    "# ---------------------------------------------------------------------------\n",
    "# TypeError                                 Traceback (most recent call last)\n",
    "# Cell In[103], line 1\n",
    "# ----> 1 a(len(a))\n",
    "\n",
    "# TypeError: 'list' object is not callable"
   ]
  },
  {
   "cell_type": "code",
   "execution_count": 107,
   "id": "9022e265",
   "metadata": {},
   "outputs": [],
   "source": [
    "#2.5 在list中进行slicing\n",
    "#包括括号前位置的元素，不包括括号后位置的元素\n",
    "#step"
   ]
  },
  {
   "cell_type": "code",
   "execution_count": 109,
   "id": "cd284f0d",
   "metadata": {},
   "outputs": [],
   "source": [
    "a = [1, 2, 3, 4, 5, 6, 7]"
   ]
  },
  {
   "cell_type": "code",
   "execution_count": 111,
   "id": "97bb3374",
   "metadata": {},
   "outputs": [
    {
     "name": "stdout",
     "output_type": "stream",
     "text": [
      "[3]\n"
     ]
    }
   ],
   "source": [
    "print(a[2:3])\n",
    "#[3]"
   ]
  },
  {
   "cell_type": "code",
   "execution_count": 113,
   "id": "4a930ab1",
   "metadata": {},
   "outputs": [
    {
     "name": "stdout",
     "output_type": "stream",
     "text": [
      "[]\n"
     ]
    }
   ],
   "source": [
    "print(a[2:2])\n",
    "#[]"
   ]
  },
  {
   "cell_type": "code",
   "execution_count": 115,
   "id": "e9a0f59a",
   "metadata": {},
   "outputs": [
    {
     "name": "stdout",
     "output_type": "stream",
     "text": [
      "[3, 4, 5, 6]\n"
     ]
    }
   ],
   "source": [
    "print(a[2:6])\n",
    "#[3, 4, 5, 6]"
   ]
  },
  {
   "cell_type": "code",
   "execution_count": 117,
   "id": "0893072a",
   "metadata": {},
   "outputs": [
    {
     "name": "stdout",
     "output_type": "stream",
     "text": [
      "[3, 5]\n"
     ]
    }
   ],
   "source": [
    "print(a[2:6:2])\n",
    "#[3, 5]"
   ]
  },
  {
   "cell_type": "code",
   "execution_count": 119,
   "id": "448ffbf5",
   "metadata": {},
   "outputs": [
    {
     "name": "stdout",
     "output_type": "stream",
     "text": [
      "[3, 4, 5, 6]\n"
     ]
    }
   ],
   "source": [
    "print(a[2:6:1])\n",
    "#[3, 4, 5, 6]"
   ]
  },
  {
   "cell_type": "code",
   "execution_count": 120,
   "id": "87dd9f3a",
   "metadata": {},
   "outputs": [],
   "source": [
    "#2.6 从负值取元素"
   ]
  },
  {
   "cell_type": "code",
   "execution_count": 123,
   "id": "8c3fe310",
   "metadata": {},
   "outputs": [],
   "source": [
    "a = [1, 2, 3, 4, 5, 6, 7]"
   ]
  },
  {
   "cell_type": "code",
   "execution_count": 125,
   "id": "979d2e2e",
   "metadata": {},
   "outputs": [
    {
     "name": "stdout",
     "output_type": "stream",
     "text": [
      "[]\n"
     ]
    }
   ],
   "source": [
    "print(a[6:2])               #???"
   ]
  },
  {
   "cell_type": "code",
   "execution_count": 127,
   "id": "39b6d1a3",
   "metadata": {},
   "outputs": [
    {
     "name": "stdout",
     "output_type": "stream",
     "text": [
      "[7, 6, 5, 4]\n"
     ]
    }
   ],
   "source": [
    "#-1从后往前取\n",
    "print(a[6:2:-1])\n",
    "#[7, 6, 5, 4]"
   ]
  },
  {
   "cell_type": "code",
   "execution_count": 129,
   "id": "186deb36",
   "metadata": {},
   "outputs": [
    {
     "name": "stdout",
     "output_type": "stream",
     "text": [
      "[1, 2, 3, 4, 5, 6, 7]\n"
     ]
    }
   ],
   "source": [
    "print(a[:])\n",
    "#[1, 2, 3, 4, 5, 6, 7]"
   ]
  },
  {
   "cell_type": "code",
   "execution_count": 131,
   "id": "253dcb8e",
   "metadata": {},
   "outputs": [
    {
     "name": "stdout",
     "output_type": "stream",
     "text": [
      "[1, 2, 3, 4, 5, 6, 7]\n"
     ]
    }
   ],
   "source": [
    "print(a[::])\n",
    "#[1, 2, 3, 4, 5, 6, 7]"
   ]
  },
  {
   "cell_type": "code",
   "execution_count": 133,
   "id": "6bd64a89",
   "metadata": {},
   "outputs": [
    {
     "name": "stdout",
     "output_type": "stream",
     "text": [
      "[7, 6, 5, 4, 3, 2, 1]\n"
     ]
    }
   ],
   "source": [
    "#::-1 从后往前取\n",
    "print(a[::-1])\n",
    "#[7, 6, 5, 4, 3, 2, 1]"
   ]
  },
  {
   "cell_type": "code",
   "execution_count": 134,
   "id": "ca311692",
   "metadata": {},
   "outputs": [
    {
     "name": "stdout",
     "output_type": "stream",
     "text": [
      "[1, 2, 3, 4, 5, 6]\n"
     ]
    }
   ],
   "source": [
    "#:-1 从开始取到倒数第二个数\n",
    "print(a[:-1])\n",
    "#[1, 2, 3, 4, 5, 6]"
   ]
  },
  {
   "cell_type": "markdown",
   "id": "8feade37",
   "metadata": {},
   "source": [
    "## 3. Constructing a list"
   ]
  },
  {
   "cell_type": "code",
   "execution_count": 135,
   "id": "4358ac12",
   "metadata": {},
   "outputs": [],
   "source": [
    "#3.1 For Loop"
   ]
  },
  {
   "cell_type": "code",
   "execution_count": 140,
   "id": "d4e5d001",
   "metadata": {},
   "outputs": [],
   "source": [
    "#把所有值append到for loop上\n",
    "a = []\n",
    "for i in range(10):\n",
    "    a.append(i)"
   ]
  },
  {
   "cell_type": "code",
   "execution_count": 141,
   "id": "ae29bc9a",
   "metadata": {},
   "outputs": [
    {
     "name": "stdout",
     "output_type": "stream",
     "text": [
      "[0, 1, 2, 3, 4, 5, 6, 7, 8, 9]\n"
     ]
    }
   ],
   "source": [
    "print(a)\n",
    "#[0, 1, 2, 3, 4, 5, 6, 7, 8, 9]"
   ]
  },
  {
   "cell_type": "code",
   "execution_count": 144,
   "id": "bdf2c986",
   "metadata": {},
   "outputs": [
    {
     "name": "stdout",
     "output_type": "stream",
     "text": [
      "[0, 2, 4, 6, 8, 10, 12, 14, 16, 18]\n"
     ]
    }
   ],
   "source": [
    "#i * 2：把所有值都乘以2\n",
    "a = []\n",
    "for i in range(10):\n",
    "    a.append(i * 2)\n",
    "print(a)\n",
    "#[0, 2, 4, 6, 8, 10, 12, 14, 16, 18]"
   ]
  },
  {
   "cell_type": "code",
   "execution_count": 157,
   "id": "5239ccd6",
   "metadata": {},
   "outputs": [],
   "source": [
    "#练习1：返回一个数列\n",
    "#build a function ListConstr which takes two integers (i and j)as inputs \n",
    "#and returns a list of numbers from i to j\n",
    "\n",
    "def LstConstr(i, j):\n",
    "    a = []\n",
    "    for k in range(i, j+1):\n",
    "        a.append(k)\n",
    "    return a"
   ]
  },
  {
   "cell_type": "code",
   "execution_count": 158,
   "id": "49a772f1",
   "metadata": {},
   "outputs": [
    {
     "data": {
      "text/plain": [
       "[1, 2, 3, 4, 5]"
      ]
     },
     "execution_count": 158,
     "metadata": {},
     "output_type": "execute_result"
    }
   ],
   "source": [
    "LstConstr(1,5)\n",
    "#[1, 2, 3, 4, 5]"
   ]
  },
  {
   "cell_type": "code",
   "execution_count": 159,
   "id": "3898a472",
   "metadata": {},
   "outputs": [],
   "source": [
    "#练习2：返回奇数\n",
    "#build a function OddNums which takes two integers(i and j) as inputs\n",
    "#and returns a list of ODD numbers between i and j inclusively"
   ]
  },
  {
   "cell_type": "code",
   "execution_count": 163,
   "id": "2e3f86ea",
   "metadata": {},
   "outputs": [],
   "source": [
    "#def后；for后；if后 都有：\n",
    "def OddNums(i, j):\n",
    "    a = []\n",
    "    for k in range(i, j+1):\n",
    "        if k % 2 != 0:              #k是奇数\n",
    "            a.append(k)\n",
    "    return a\n",
    "\n",
    "#注意：\n",
    "#①：先建立一个空集a，如果是奇数，append到a中，最后return a\n",
    "#②：if k % 2 !=0 后面要加：\n",
    "#③：append的写法：list.append(num)"
   ]
  },
  {
   "cell_type": "code",
   "execution_count": 168,
   "id": "f89e3e15",
   "metadata": {},
   "outputs": [
    {
     "data": {
      "text/plain": [
       "[3, 5]"
      ]
     },
     "execution_count": 168,
     "metadata": {},
     "output_type": "execute_result"
    }
   ],
   "source": [
    "OddNums(2, 6)\n",
    "#[3, 5]"
   ]
  },
  {
   "cell_type": "code",
   "execution_count": 187,
   "id": "5ca5338a",
   "metadata": {},
   "outputs": [],
   "source": [
    "#练习3：Fibonacci List：斐波纳契数列：后一个数是前两个数之和\n",
    "#build a function FibLst which takes an integer n as input \n",
    "#and returns an n-element Fibonacci List.\n",
    "#If n is less than 1, returns -1\n",
    "#0, 1, 1, 2, 3, 5, 8, 13, 21, 34\n",
    "\n",
    "# def Fibonacci(0, n+1):\n",
    "#     a = []\n",
    "#     for k in n:\n",
    "#         k = k[n-1] + k[n]\n",
    "#     return k\n",
    "# Fibonacci(5)"
   ]
  },
  {
   "cell_type": "code",
   "execution_count": 194,
   "id": "4c8ad72c",
   "metadata": {},
   "outputs": [
    {
     "data": {
      "text/plain": [
       "[0, 1, 1, 2]"
      ]
     },
     "execution_count": 194,
     "metadata": {},
     "output_type": "execute_result"
    }
   ],
   "source": [
    "def Fibonacci(n):\n",
    "    if n < 1:\n",
    "        return -1\n",
    "    a = []\n",
    "    for i in range(n):\n",
    "        if i == 0:\n",
    "            a.append(0)\n",
    "        elif i == 1:\n",
    "            a.append(1)\n",
    "        else:\n",
    "            a.append(a[i - 1] + a[i - 2])\n",
    "    return a\n",
    "\n",
    "#①：建立空list a，对于所有range(n)内的值i，如果是0，则赋值0，如果是1，则赋值1，否则赋值前两个数相加，最后return a\n",
    "#②：if n < 1的edge case, 和for loop是对齐的。\n",
    "#③：for loop下的if, elif, else分类讨论，else后不需要再写n>1等解释；elif不能写成if。\n",
    "#④：判断用==，不能写成=\n",
    "#⑤将每个数房间list用list.append()。如果加0/1直接赋值，就在括弧里写0/1。如果加前两数就写a[i-1]+a[i-2]。\n",
    "#⑥return与for loop进行对齐\n",
    "\n",
    "Fibonacci(1) \n",
    "#i in range(1) i = 0      #[0]\n",
    "Fibonacci(2) \n",
    "#i in range(2) i = 0,1    #[0, 1]\n",
    "Fibonacci(3) \n",
    "#i in range(3) i = 0,1,2  a[1]+a[0]=1 #[0, 1, 1]\n",
    "Fibonacci(4)\n",
    "#i in range(4) i = 0,1,2,3 a[1]+a[0]=1 a[2]+a[1]=2 #[0, 1, 1, 2]"
   ]
  },
  {
   "cell_type": "code",
   "execution_count": 205,
   "id": "d33ff674",
   "metadata": {},
   "outputs": [],
   "source": [
    "#3.2 List Comprehension"
   ]
  },
  {
   "cell_type": "code",
   "execution_count": 207,
   "id": "8ce73791",
   "metadata": {},
   "outputs": [
    {
     "name": "stdout",
     "output_type": "stream",
     "text": [
      "[0, 2, 4, 6, 8, 10, 12, 14, 16, 18]\n"
     ]
    }
   ],
   "source": [
    "a = []\n",
    "for i in range(10):\n",
    "    a.append(i*2)\n",
    "print(a)\n",
    "#i: [0, 1, 2, 3, 4, 5, 6, 7, 8, 9]\n",
    "#i*2: [0, 2, 4, 6, 8, 10, 12, 14, 16, 18]"
   ]
  },
  {
   "cell_type": "code",
   "execution_count": 199,
   "id": "29b073bd",
   "metadata": {},
   "outputs": [],
   "source": [
    "a = [i for i in range(10)]"
   ]
  },
  {
   "cell_type": "code",
   "execution_count": 201,
   "id": "d4249c61",
   "metadata": {},
   "outputs": [
    {
     "name": "stdout",
     "output_type": "stream",
     "text": [
      "[0, 1, 2, 3, 4, 5, 6, 7, 8, 9]\n"
     ]
    }
   ],
   "source": [
    "print(a)\n",
    "#[0, 1, 2, 3, 4, 5, 6, 7, 8, 9]"
   ]
  },
  {
   "cell_type": "code",
   "execution_count": 203,
   "id": "68df9929",
   "metadata": {},
   "outputs": [],
   "source": [
    "a = [i * 2 for i in range(10)]"
   ]
  },
  {
   "cell_type": "code",
   "execution_count": 208,
   "id": "160b4e1a",
   "metadata": {},
   "outputs": [
    {
     "name": "stdout",
     "output_type": "stream",
     "text": [
      "[0, 2, 4, 6, 8, 10, 12, 14, 16, 18]\n"
     ]
    }
   ],
   "source": [
    "print(a)\n",
    "#[0, 2, 4, 6, 8, 10, 12, 14, 16, 18]"
   ]
  },
  {
   "cell_type": "code",
   "execution_count": 209,
   "id": "f5417d77",
   "metadata": {},
   "outputs": [],
   "source": [
    "#练习4：i j之间数值\n",
    "#build a function LstConstr which takes two integers(i and j) as inputs\n",
    "#and returns a list of numbers from i to j."
   ]
  },
  {
   "cell_type": "code",
   "execution_count": 211,
   "id": "c934a717",
   "metadata": {},
   "outputs": [],
   "source": [
    "def LstConstr2(i, j):\n",
    "    return [k for k in range(i, j+1)]\n",
    "\n",
    "#①注意要有k作为中间变量\n",
    "#要有中括弧囊括return内容"
   ]
  },
  {
   "cell_type": "code",
   "execution_count": 213,
   "id": "75b2153e",
   "metadata": {},
   "outputs": [
    {
     "data": {
      "text/plain": [
       "[1, 2, 3]"
      ]
     },
     "execution_count": 213,
     "metadata": {},
     "output_type": "execute_result"
    }
   ],
   "source": [
    "LstConstr2(1,3)\n",
    "#[1, 2, 3]"
   ]
  },
  {
   "cell_type": "code",
   "execution_count": 215,
   "id": "8dd5d404",
   "metadata": {},
   "outputs": [],
   "source": [
    "def LstConstr3(i, j):\n",
    "    return list(range(i, j + 1))"
   ]
  },
  {
   "cell_type": "code",
   "execution_count": 219,
   "id": "58cea5d5",
   "metadata": {},
   "outputs": [
    {
     "data": {
      "text/plain": [
       "[1, 2, 3]"
      ]
     },
     "execution_count": 219,
     "metadata": {},
     "output_type": "execute_result"
    }
   ],
   "source": [
    "LstConstr3(1,3)\n",
    "#[1, 2, 3]"
   ]
  },
  {
   "cell_type": "code",
   "execution_count": 220,
   "id": "00ddc40d",
   "metadata": {},
   "outputs": [],
   "source": [
    "#只返奇数\n",
    "def LstConstr4(i, j):\n",
    "    return [k for k in range(i, j + 1) if k % 2 != 0]"
   ]
  },
  {
   "cell_type": "code",
   "execution_count": 222,
   "id": "4dcac9ba",
   "metadata": {},
   "outputs": [
    {
     "data": {
      "text/plain": [
       "[1, 3]"
      ]
     },
     "execution_count": 222,
     "metadata": {},
     "output_type": "execute_result"
    }
   ],
   "source": [
    "LstConstr4(1,3)\n",
    "#[1, 3]"
   ]
  },
  {
   "cell_type": "code",
   "execution_count": 335,
   "id": "b0ca51c8",
   "metadata": {},
   "outputs": [],
   "source": [
    "#练习5：C2F:\n",
    "#build a function C2F which converts a lit of temeratures \n",
    "#in degreees from Celsius to Fahrenheit"
   ]
  },
  {
   "cell_type": "code",
   "execution_count": null,
   "id": "1e35989e",
   "metadata": {},
   "outputs": [],
   "source": [
    "#①ax + b for C in Cs写法：\n",
    "def C2F(Cs):\n",
    "    return [C * 1.8 + 32 for C in Cs]\n",
    "\n",
    "#为什么必须加[]：\n",
    "#在给定的代码中，方括号[]用于创建列表推导式（list comprehension）。\n",
    "#列表推导式是一种简洁的方式，通过迭代现有可迭代对象（在这种情况下是列表Cs）并对每个元素应用表达式，来创建一个新的列表。\n",
    "#[]是一个列表推导式，它通过迭代输入列表Cs中的每个元素C*1.8+32，并将结果添加到新列表中。方括号将列表推导式括起来，并指示结果应该是一个列表。"
   ]
  },
  {
   "cell_type": "code",
   "execution_count": null,
   "id": "154f8c6d",
   "metadata": {},
   "outputs": [],
   "source": [
    "#②用for loop写法：\n",
    "def C2F(Cs):\n",
    "    a = []\n",
    "    for C in Cs:\n",
    "        F = C * 1.8 + 32\n",
    "        a.append(F)\n",
    "    return a"
   ]
  },
  {
   "cell_type": "code",
   "execution_count": 334,
   "id": "56b7d084",
   "metadata": {},
   "outputs": [],
   "source": [
    "def C2F(Cs):\n",
    "    result = []\n",
    "    for C in Cs:\n",
    "        Fahrenheit = C * 1.8 + 32\n",
    "        result.append(Fahrenheit)\n",
    "    return result"
   ]
  },
  {
   "cell_type": "code",
   "execution_count": 232,
   "id": "06e59db3",
   "metadata": {},
   "outputs": [
    {
     "data": {
      "text/plain": [
       "[32.0, 100.4]"
      ]
     },
     "execution_count": 232,
     "metadata": {},
     "output_type": "execute_result"
    }
   ],
   "source": [
    "C2F([0, 38])\n",
    "#[32.0, 100.4]"
   ]
  },
  {
   "cell_type": "code",
   "execution_count": 235,
   "id": "d6fd2fbd",
   "metadata": {},
   "outputs": [],
   "source": [
    "#3.3 Concatenate 不同lists"
   ]
  },
  {
   "cell_type": "code",
   "execution_count": 237,
   "id": "0e7bba66",
   "metadata": {},
   "outputs": [
    {
     "name": "stdout",
     "output_type": "stream",
     "text": [
      "[0, 1, 2, 3, 4, 5, 6, 7, 8, 9]\n"
     ]
    }
   ],
   "source": [
    "a = [i for i in range(10)]\n",
    "print(a)\n",
    "#[0, 1, 2, 3, 4, 5, 6, 7, 8, 9]"
   ]
  },
  {
   "cell_type": "code",
   "execution_count": 240,
   "id": "c119e97a",
   "metadata": {},
   "outputs": [
    {
     "name": "stdout",
     "output_type": "stream",
     "text": [
      "[0, 2, 4, 6, 8, 10, 12, 14, 16, 18]\n"
     ]
    }
   ],
   "source": [
    "b = [i * 2 for i in range(10)]\n",
    "print(b)\n",
    "#[0, 2, 4, 6, 8, 10, 12, 14, 16, 18]"
   ]
  },
  {
   "cell_type": "code",
   "execution_count": 245,
   "id": "b1f92ab4",
   "metadata": {},
   "outputs": [
    {
     "name": "stdout",
     "output_type": "stream",
     "text": [
      "[0, 1, 2, 3, 4, 5, 6, 7, 8, 9, 0, 2, 4, 6, 8, 10, 12, 14, 16, 18]\n"
     ]
    }
   ],
   "source": [
    "c = a + b\n",
    "print(c)\n",
    "#[0, 2, 4, 6, 8, 10, 12, 14, 16, 18, 0, 1, 2, 3, 4, 5, 6, 7, 8, 9]"
   ]
  },
  {
   "cell_type": "code",
   "execution_count": 246,
   "id": "45c82860",
   "metadata": {},
   "outputs": [
    {
     "data": {
      "text/plain": [
       "[0, 3, 6, 9, 12, 15, 18, 21, 24, 27]"
      ]
     },
     "execution_count": 246,
     "metadata": {},
     "output_type": "execute_result"
    }
   ],
   "source": [
    "[x + y for x, y in zip(a, b)]\n",
    "#[0, 3, 6, 9, 12, 15, 18, 21, 24, 27]"
   ]
  },
  {
   "cell_type": "code",
   "execution_count": 340,
   "id": "eb8a8551",
   "metadata": {},
   "outputs": [],
   "source": [
    "#练习6：sperate numbers：分开奇偶数\n",
    "#build a function SepNum which extracts the odd numbers from a given list\n",
    "#and append the odd numbers at the end of the list\n"
   ]
  },
  {
   "cell_type": "code",
   "execution_count": null,
   "id": "0958b9a2",
   "metadata": {},
   "outputs": [],
   "source": [
    "def SepNum(nums):\n",
    "    odds = []\n",
    "    evens = []\n",
    "    for num in nums:\n",
    "        if num % 2 == 0:          #放偶数\n",
    "            evens.append(num)\n",
    "        else:                     #放奇数\n",
    "            odds.append(num)\n",
    "    return evens + odds\n",
    "\n",
    "#①：分别建立偶数空集和奇数空集，对于在nums中的num，如果除以2余数为0，append到偶数集，否则奇数集。\n",
    "#②：for数字在列表中，可以写for num in nums。\n",
    "#③：两个list相连直接相加即可\n",
    "#④：在if 和else后分别进行append操作，return两个list相连与 for loop对齐。"
   ]
  },
  {
   "cell_type": "code",
   "execution_count": 249,
   "id": "6e08cc30",
   "metadata": {},
   "outputs": [
    {
     "data": {
      "text/plain": [
       "[2, 4, 6, 1, 3, 5]"
      ]
     },
     "execution_count": 249,
     "metadata": {},
     "output_type": "execute_result"
    }
   ],
   "source": [
    "SepNum([1, 2, 3, 4, 5, 6])\n",
    "#[2, 4, 6, 1, 3, 5]"
   ]
  },
  {
   "cell_type": "markdown",
   "id": "736298dd",
   "metadata": {},
   "source": [
    "## 4. Sorting a list"
   ]
  },
  {
   "cell_type": "code",
   "execution_count": 250,
   "id": "abe9b3df",
   "metadata": {},
   "outputs": [],
   "source": [
    "#4.1 \n",
    "#.sort：正向从小到大\n",
    "#.sort(reverse = True)：反向从大到小"
   ]
  },
  {
   "cell_type": "code",
   "execution_count": 251,
   "id": "8fb87473",
   "metadata": {},
   "outputs": [],
   "source": [
    "a = [1, 3, 2, 7, 5]"
   ]
  },
  {
   "cell_type": "code",
   "execution_count": 252,
   "id": "110c04b9",
   "metadata": {},
   "outputs": [],
   "source": [
    "a.sort()"
   ]
  },
  {
   "cell_type": "code",
   "execution_count": 261,
   "id": "0b4b6c70",
   "metadata": {},
   "outputs": [
    {
     "name": "stdout",
     "output_type": "stream",
     "text": [
      "[1, 3, 2, 7, 5]\n"
     ]
    }
   ],
   "source": [
    "print(a)\n",
    "#[1, 2, 3, 5, 7]"
   ]
  },
  {
   "cell_type": "code",
   "execution_count": 263,
   "id": "76a2602f",
   "metadata": {},
   "outputs": [],
   "source": [
    "a.sort(reverse = True)"
   ]
  },
  {
   "cell_type": "code",
   "execution_count": 264,
   "id": "53fcd182",
   "metadata": {},
   "outputs": [
    {
     "name": "stdout",
     "output_type": "stream",
     "text": [
      "[7, 5, 3, 2, 1]\n"
     ]
    }
   ],
   "source": [
    "print(a)\n",
    "#[7, 5, 3, 2, 1]"
   ]
  },
  {
   "cell_type": "code",
   "execution_count": 255,
   "id": "48d235f0",
   "metadata": {},
   "outputs": [],
   "source": [
    "#4.2 \n",
    "# sorted(list)效果等同于list.sort，区别在于list.sort后sort改变，而sorted(list)后sort没有改变\n",
    "# b = sorted(a)，b改变，a没有改变"
   ]
  },
  {
   "cell_type": "code",
   "execution_count": 256,
   "id": "a9328975",
   "metadata": {},
   "outputs": [],
   "source": [
    "a = [1, 3, 2, 7, 5]"
   ]
  },
  {
   "cell_type": "code",
   "execution_count": 266,
   "id": "7d3fcbd3",
   "metadata": {},
   "outputs": [
    {
     "data": {
      "text/plain": [
       "[1, 2, 3, 5, 7]"
      ]
     },
     "execution_count": 266,
     "metadata": {},
     "output_type": "execute_result"
    }
   ],
   "source": [
    "sorted(a)\n",
    "#[1, 2, 3, 5, 7]"
   ]
  },
  {
   "cell_type": "code",
   "execution_count": 267,
   "id": "1eec5be6",
   "metadata": {},
   "outputs": [
    {
     "name": "stdout",
     "output_type": "stream",
     "text": [
      "[7, 5, 3, 2, 1]\n"
     ]
    }
   ],
   "source": [
    "print(a)\n",
    "#[7, 5, 3, 2, 1]"
   ]
  },
  {
   "cell_type": "code",
   "execution_count": 268,
   "id": "1705ed13",
   "metadata": {},
   "outputs": [],
   "source": [
    "b = sorted(a)"
   ]
  },
  {
   "cell_type": "code",
   "execution_count": 270,
   "id": "dae7bb7b",
   "metadata": {
    "scrolled": true
   },
   "outputs": [
    {
     "name": "stdout",
     "output_type": "stream",
     "text": [
      "[1, 2, 3, 5, 7]\n"
     ]
    }
   ],
   "source": [
    "print(b)\n",
    "#[1, 2, 3, 5, 7]"
   ]
  },
  {
   "cell_type": "code",
   "execution_count": 281,
   "id": "a32f2461",
   "metadata": {},
   "outputs": [
    {
     "data": {
      "text/plain": [
       "[1, 2, 3, 4, 4, 5]"
      ]
     },
     "execution_count": 281,
     "metadata": {},
     "output_type": "execute_result"
    }
   ],
   "source": [
    "#练习7：\n",
    "#build a function SortLst which sorts a list. use built-in function\n",
    "def SortLst(nums):\n",
    "    return sorted(nums)\n",
    "SortLst([4, 2, 1, 3, 4, 5])\n",
    "#[1, 2, 3, 4, 4, 5]"
   ]
  },
  {
   "cell_type": "code",
   "execution_count": 282,
   "id": "31bcb529",
   "metadata": {},
   "outputs": [
    {
     "data": {
      "text/plain": [
       "[1, 3, 7]"
      ]
     },
     "execution_count": 282,
     "metadata": {},
     "output_type": "execute_result"
    }
   ],
   "source": [
    "#practice：\n",
    "def SortLst(a):\n",
    "    a = sorted(a)  #为什么写a = a.sort()就不可以？\n",
    "    return a\n",
    "SortLst([1, 7, 3])\n",
    "#[1, 3, 7]"
   ]
  },
  {
   "cell_type": "code",
   "execution_count": 283,
   "id": "d0de30aa",
   "metadata": {},
   "outputs": [],
   "source": [
    "#练习8：在sorted list加入一个值：append值后sorted(list)\n",
    "def NumInsert(nums, target):\n",
    "    nums.append(target)\n",
    "    return sorted(nums)"
   ]
  },
  {
   "cell_type": "code",
   "execution_count": 285,
   "id": "4ce56ab8",
   "metadata": {},
   "outputs": [
    {
     "data": {
      "text/plain": [
       "[1, 2, 3, 3, 4, 5, 6]"
      ]
     },
     "execution_count": 285,
     "metadata": {},
     "output_type": "execute_result"
    }
   ],
   "source": [
    "NumInsert([1, 2, 3, 4, 5, 6], 3)\n",
    "#[1, 2, 3, 3, 4, 5, 6]"
   ]
  },
  {
   "cell_type": "code",
   "execution_count": 286,
   "id": "0f96254e",
   "metadata": {},
   "outputs": [],
   "source": [
    "#练习8：merge two sorted lists\n",
    "#build a function mergesorted which merges two sorted lists as one sorted list\n",
    "def MergeSorted(Lst1, Lst2):\n",
    "    return sorted(Lst1 + Lst2)"
   ]
  },
  {
   "cell_type": "code",
   "execution_count": 289,
   "id": "bb24b974",
   "metadata": {},
   "outputs": [
    {
     "data": {
      "text/plain": [
       "[1, 2, 3, 4, 5, 6]"
      ]
     },
     "execution_count": 289,
     "metadata": {},
     "output_type": "execute_result"
    }
   ],
   "source": [
    "MergeSorted([1, 3, 5], [2, 4, 6])\n",
    "#[1, 2, 3, 4, 5, 6]"
   ]
  },
  {
   "cell_type": "code",
   "execution_count": 290,
   "id": "240c38e2",
   "metadata": {},
   "outputs": [],
   "source": [
    "#4.3 sort a list of lists"
   ]
  },
  {
   "cell_type": "code",
   "execution_count": 301,
   "id": "2e21a979",
   "metadata": {},
   "outputs": [],
   "source": [
    "a = [[4,2], [5,1], [2,4], [3,0]]"
   ]
  },
  {
   "cell_type": "code",
   "execution_count": null,
   "id": "3916ac9d",
   "metadata": {},
   "outputs": [],
   "source": [
    "#sorted(list) 按照第一个值sort 从小到大\n",
    "sorted(a)\n",
    "#[[2, 4], [3, 0], [4, 2], [5, 1]]"
   ]
  },
  {
   "cell_type": "code",
   "execution_count": 294,
   "id": "28e8d191",
   "metadata": {},
   "outputs": [
    {
     "data": {
      "text/plain": [
       "[[5, 1], [4, 2], [3, 0], [2, 4]]"
      ]
     },
     "execution_count": 294,
     "metadata": {},
     "output_type": "execute_result"
    }
   ],
   "source": [
    "#从大到小\n",
    "sorted(a, reverse = True)\n",
    "#[[5, 1], [4, 2], [3, 0], [2, 4]]"
   ]
  },
  {
   "cell_type": "code",
   "execution_count": 296,
   "id": "5b36522c",
   "metadata": {},
   "outputs": [
    {
     "data": {
      "text/plain": [
       "[[2, 4], [3, 0], [4, 2], [5, 1]]"
      ]
     },
     "execution_count": 296,
     "metadata": {},
     "output_type": "execute_result"
    }
   ],
   "source": [
    "#lambda define function\n",
    "#在a里面按照index = 0的元素，sort的是这个list中的第一个元素\n",
    "sorted(a, key = lambda x:x[0])\n",
    "#[[2, 4], [3, 0], [4, 2], [5, 1]]"
   ]
  },
  {
   "cell_type": "code",
   "execution_count": 298,
   "id": "d9fe1ef1",
   "metadata": {},
   "outputs": [
    {
     "data": {
      "text/plain": [
       "[[3, 0], [5, 1], [4, 2], [2, 4]]"
      ]
     },
     "execution_count": 298,
     "metadata": {},
     "output_type": "execute_result"
    }
   ],
   "source": [
    "#按第二位元素，从小到大sort\n",
    "sorted(a, key = lambda x:x[1])\n",
    "#[[3, 0], [5, 1], [4, 2], [2, 4]]"
   ]
  },
  {
   "cell_type": "code",
   "execution_count": 302,
   "id": "5681f68e",
   "metadata": {},
   "outputs": [
    {
     "data": {
      "text/plain": [
       "[[5, 1], [4, 2], [3, 0], [2, 4]]"
      ]
     },
     "execution_count": 302,
     "metadata": {},
     "output_type": "execute_result"
    }
   ],
   "source": [
    "#按第二位元素，从大到小sort\n",
    "sorted(a, key = lambda x:x[0], reverse = True)\n",
    "#[[5, 1], [4, 2], [3, 0], [2, 4]]"
   ]
  },
  {
   "cell_type": "code",
   "execution_count": 304,
   "id": "3acfd5e0",
   "metadata": {},
   "outputs": [],
   "source": [
    "#练习9：sort list of lists 将一个包含list的list排序\n",
    "#build a function SortLL which sorts a list of lists by their last elements"
   ]
  },
  {
   "cell_type": "code",
   "execution_count": 306,
   "id": "217693c7",
   "metadata": {},
   "outputs": [],
   "source": [
    "def SortLL(Lsts):\n",
    "    return sorted(Lsts, key = lambda x:x[-1])"
   ]
  },
  {
   "cell_type": "code",
   "execution_count": 308,
   "id": "c0ea99c5",
   "metadata": {},
   "outputs": [
    {
     "data": {
      "text/plain": [
       "[[3], [2, 4], [1, 3, 5], [9, 7]]"
      ]
     },
     "execution_count": 308,
     "metadata": {},
     "output_type": "execute_result"
    }
   ],
   "source": [
    "SortLL([[1, 3, 5], [2, 4], [9, 7], [3]])\n",
    "#[[3], [2, 4], [1, 3, 5], [9, 7]]\n",
    "#按最后一个元素，3,4,5,7的顺序从小到大排序"
   ]
  },
  {
   "cell_type": "markdown",
   "id": "1e8eefd5",
   "metadata": {},
   "source": [
    "## 5. Reversing a list"
   ]
  },
  {
   "cell_type": "code",
   "execution_count": null,
   "id": "11b11d3b",
   "metadata": {},
   "outputs": [],
   "source": [
    "#完成reverse：\n",
    "#①list.reverse()\n",
    "#②list[::-1]"
   ]
  },
  {
   "cell_type": "code",
   "execution_count": 332,
   "id": "a15eb293",
   "metadata": {},
   "outputs": [],
   "source": [
    "a = [1, 3, 2, 7, 5]"
   ]
  },
  {
   "cell_type": "code",
   "execution_count": 312,
   "id": "7c6ed6cc",
   "metadata": {},
   "outputs": [],
   "source": [
    "a.reverse()"
   ]
  },
  {
   "cell_type": "code",
   "execution_count": 314,
   "id": "7f93373e",
   "metadata": {},
   "outputs": [
    {
     "name": "stdout",
     "output_type": "stream",
     "text": [
      "[5, 7, 2, 3, 1]\n"
     ]
    }
   ],
   "source": [
    "print(a)\n",
    "#[5, 7, 2, 3, 1]"
   ]
  },
  {
   "cell_type": "code",
   "execution_count": 321,
   "id": "95430ad6",
   "metadata": {},
   "outputs": [],
   "source": [
    "a = a[::-1]"
   ]
  },
  {
   "cell_type": "code",
   "execution_count": 323,
   "id": "d3268431",
   "metadata": {},
   "outputs": [
    {
     "name": "stdout",
     "output_type": "stream",
     "text": [
      "[5, 7, 2, 3, 1]\n"
     ]
    }
   ],
   "source": [
    "print(a)\n",
    "#[5, 7, 2, 3, 1]"
   ]
  },
  {
   "cell_type": "code",
   "execution_count": 324,
   "id": "3032cf93",
   "metadata": {},
   "outputs": [],
   "source": [
    "#练习10：反转list\n",
    "#build a function RevLst which reverse a list"
   ]
  },
  {
   "cell_type": "code",
   "execution_count": 326,
   "id": "53b80f74",
   "metadata": {},
   "outputs": [],
   "source": [
    "#方法1：list.reverse()\n",
    "def RevLst(nums):\n",
    "    nums.reverse()\n",
    "    return nums\n",
    "\n",
    "#注意：先写一行list.reverse()，再写return list，两者对齐\n",
    "#为什么要写两行？"
   ]
  },
  {
   "cell_type": "code",
   "execution_count": 328,
   "id": "e98ca247",
   "metadata": {},
   "outputs": [
    {
     "data": {
      "text/plain": [
       "[4, 8, 9, 1, 3]"
      ]
     },
     "execution_count": 328,
     "metadata": {},
     "output_type": "execute_result"
    }
   ],
   "source": [
    "RevLst([3, 1, 9, 8, 4])\n",
    "#[4, 8, 9, 1, 3]"
   ]
  },
  {
   "cell_type": "code",
   "execution_count": 330,
   "id": "49f00904",
   "metadata": {},
   "outputs": [],
   "source": [
    "#法2：list[::-1]\n",
    "def RevLst(nums):\n",
    "    return nums[::-1]\n",
    "\n",
    "#注意：只用写一行return list[::-1]"
   ]
  },
  {
   "cell_type": "code",
   "execution_count": 338,
   "id": "e1a64fbd",
   "metadata": {},
   "outputs": [
    {
     "data": {
      "text/plain": [
       "[4, 8, 9, 1, 3]"
      ]
     },
     "execution_count": 338,
     "metadata": {},
     "output_type": "execute_result"
    }
   ],
   "source": [
    "RevLst([3, 1, 9, 8, 4])\n",
    "#[4, 8, 9, 1, 3]"
   ]
  },
  {
   "cell_type": "code",
   "execution_count": 339,
   "id": "bc72260c",
   "metadata": {},
   "outputs": [],
   "source": [
    "#练习11：移除目标元素并返回更新后的列表。\n",
    "\n",
    "# Remove an Element\n",
    "# Description\n",
    "# Build a function RmEl to remove a target element from a list. If the target element appears in the list for multiple times, only remove the first one.\n",
    "\n",
    "# Examples\n",
    "# RmEl([1, 2, 3, 4, 5], 2) returns [1, 3, 4, 5]\n",
    "# RmEl([1, 2, 3, 4, 5], 6) returns [1, 2, 3, 4, 5]\n",
    "# RmEl([1, 2, 3, 3, 4, 5], 3) returns [1, 2, 3, 4, 5]"
   ]
  },
  {
   "cell_type": "code",
   "execution_count": 341,
   "id": "b2f7bde0",
   "metadata": {},
   "outputs": [],
   "source": [
    "def RmEl(nums, target):\n",
    "    if target in nums:   \n",
    "        nums.remove(target)\n",
    "    return nums\n",
    "\n",
    "#①：要检查target在nums中才可以进行remove操作\n",
    "#②：if k in a: 直接操作a.remove(k)，再return a。不用写nums = XXX。\n",
    "#③：return 应与if对齐"
   ]
  },
  {
   "cell_type": "code",
   "execution_count": 342,
   "id": "bbca1497",
   "metadata": {},
   "outputs": [],
   "source": [
    "#练习12：移除重复元素并返回更新后列表。\n",
    "\n",
    "# Remove Duplicates from a List\n",
    "# Description\n",
    "# Build a function RmDuplicate which remove all the duplicates from a list.\n",
    "\n",
    "# Examples\n",
    "# RmDuplicate([3, 1, 2, 3, 4, 5, 6]) returns [1, 2, 3, 4, 5, 6]\n",
    "# RmDuplicate([1, 3, 5]) returns [1, 3, 5]"
   ]
  },
  {
   "cell_type": "code",
   "execution_count": 344,
   "id": "dd5fccdd",
   "metadata": {},
   "outputs": [],
   "source": [
    "#法1：如果num没在a空集中，就把num append进a中，并进行sort\n",
    "def RmDuplicate(nums):\n",
    "    a = []\n",
    "    for num in nums:\n",
    "        if num not in a:\n",
    "            a.append(num)\n",
    "            a.sort()\n",
    "    return a  \n",
    "\n",
    "#①：只需要建立一个最后需要return的a集，\n",
    "#②：for num in nums, if num not in a, a.append(num) 可以写成步步缩进格式:\n",
    "#即在num在nums中的时候，如果num没在a里，就把其放进去。\n",
    "#③：在append后，要进行sort。\n",
    "#④：return 和 for进行对齐。"
   ]
  },
  {
   "cell_type": "markdown",
   "id": "0ddf82bc",
   "metadata": {},
   "source": [
    "# Unit 2"
   ]
  },
  {
   "cell_type": "markdown",
   "id": "02d3107a",
   "metadata": {},
   "source": [
    "## 1.Lambda "
   ]
  },
  {
   "cell_type": "markdown",
   "id": "621fc35b",
   "metadata": {},
   "source": [
    "### 1.Review"
   ]
  },
  {
   "cell_type": "code",
   "execution_count": 359,
   "id": "0a330cab",
   "metadata": {},
   "outputs": [],
   "source": [
    "a = [[4, 3, 2], [5, 2, 1], [2, 5, 4], [3, 1, 0]]"
   ]
  },
  {
   "cell_type": "code",
   "execution_count": 365,
   "id": "8622578f",
   "metadata": {},
   "outputs": [
    {
     "data": {
      "text/plain": [
       "[[2, 5, 4], [3, 1, 0], [4, 3, 2], [5, 2, 1]]"
      ]
     },
     "execution_count": 365,
     "metadata": {},
     "output_type": "execute_result"
    }
   ],
   "source": [
    "#按照每个小list的第一个元素，从小到大排序\n",
    "sorted(a)\n",
    "#[[2, 5, 4], [3, 1, 0], [4, 3, 2], [5, 2, 1]]"
   ]
  },
  {
   "cell_type": "code",
   "execution_count": 364,
   "id": "2ab185a3",
   "metadata": {},
   "outputs": [
    {
     "data": {
      "text/plain": [
       "[[3, 1, 0], [5, 2, 1], [4, 3, 2], [2, 5, 4]]"
      ]
     },
     "execution_count": 364,
     "metadata": {},
     "output_type": "execute_result"
    }
   ],
   "source": [
    "#按照每个小list的最后一个元素，从小到大排序\n",
    "sorted(a, key = lambda x:x[-1])\n",
    "#[[3, 1, 0], [5, 2, 1], [4, 3, 2], [2, 5, 4]]\n",
    "\n",
    "#key是根据什么来排序，默认是按照第一个元素\n",
    "#x:x[-1]表示根据最后一个元素\n",
    "#lambda是定义匿名函数的方式，和def用法相同，写法更简洁\n",
    "#函数 = lambda 变量: 方程"
   ]
  },
  {
   "cell_type": "markdown",
   "id": "9613fc9b",
   "metadata": {},
   "source": [
    "### 2. Intro to Lambda"
   ]
  },
  {
   "cell_type": "markdown",
   "id": "e4f86fb0",
   "metadata": {},
   "source": [
    "#### 2.1 Build a function"
   ]
  },
  {
   "cell_type": "code",
   "execution_count": 369,
   "id": "32edf6a4",
   "metadata": {},
   "outputs": [],
   "source": [
    "def Square(num):\n",
    "    return num * num"
   ]
  },
  {
   "cell_type": "code",
   "execution_count": 372,
   "id": "68ff7589",
   "metadata": {},
   "outputs": [
    {
     "data": {
      "text/plain": [
       "4"
      ]
     },
     "execution_count": 372,
     "metadata": {},
     "output_type": "execute_result"
    }
   ],
   "source": [
    "Square(2)\n",
    "#4"
   ]
  },
  {
   "cell_type": "code",
   "execution_count": 373,
   "id": "92284b1d",
   "metadata": {},
   "outputs": [
    {
     "data": {
      "text/plain": [
       "9"
      ]
     },
     "execution_count": 373,
     "metadata": {},
     "output_type": "execute_result"
    }
   ],
   "source": [
    "Square(3)\n",
    "#9"
   ]
  },
  {
   "cell_type": "markdown",
   "id": "5b0670d8",
   "metadata": {},
   "source": [
    "#### 2.2 Built a function with lambda"
   ]
  },
  {
   "cell_type": "code",
   "execution_count": 375,
   "id": "0b7e0346",
   "metadata": {},
   "outputs": [],
   "source": [
    "new_square = lambda num: num * num"
   ]
  },
  {
   "cell_type": "code",
   "execution_count": 376,
   "id": "c351f04e",
   "metadata": {},
   "outputs": [
    {
     "data": {
      "text/plain": [
       "4"
      ]
     },
     "execution_count": 376,
     "metadata": {},
     "output_type": "execute_result"
    }
   ],
   "source": [
    "new_square(2)\n",
    "#4"
   ]
  },
  {
   "cell_type": "markdown",
   "id": "f60cc1de",
   "metadata": {},
   "source": [
    "### 3.Replace lambda with traditional function building "
   ]
  },
  {
   "cell_type": "markdown",
   "id": "1d7da8df",
   "metadata": {},
   "source": [
    "#### 3.1 How does lambda work in sorted"
   ]
  },
  {
   "cell_type": "code",
   "execution_count": 377,
   "id": "da68a066",
   "metadata": {},
   "outputs": [],
   "source": [
    "a = [[4, 3, 2], [5, 2, 1], [2, 5, 4], [3, 1, 0]]"
   ]
  },
  {
   "cell_type": "code",
   "execution_count": 379,
   "id": "af60a4f4",
   "metadata": {},
   "outputs": [
    {
     "data": {
      "text/plain": [
       "[[3, 1, 0], [5, 2, 1], [4, 3, 2], [2, 5, 4]]"
      ]
     },
     "execution_count": 379,
     "metadata": {},
     "output_type": "execute_result"
    }
   ],
   "source": [
    "#按照每个list最后一个元素排列\n",
    "sorted(a, key = lambda x:x[-1])\n",
    "#[[3, 1, 0], [5, 2, 1], [4, 3, 2], [2, 5, 4]]\n",
    "\n",
    "#lambda定义一个函数，输入x是小list，返回小list的最后一个值"
   ]
  },
  {
   "cell_type": "code",
   "execution_count": 381,
   "id": "8af0d912",
   "metadata": {},
   "outputs": [],
   "source": [
    "#取list中最后一个元素\n",
    "fun = lambda x: x[-1]"
   ]
  },
  {
   "cell_type": "code",
   "execution_count": 382,
   "id": "5ae4f9cf",
   "metadata": {},
   "outputs": [
    {
     "data": {
      "text/plain": [
       "2"
      ]
     },
     "execution_count": 382,
     "metadata": {},
     "output_type": "execute_result"
    }
   ],
   "source": [
    "fun([4, 3, 2])\n",
    "#2"
   ]
  },
  {
   "cell_type": "markdown",
   "id": "310bcfe2",
   "metadata": {},
   "source": [
    "#### 3.2 Replace lambda with a traditional function #不用lambda用def"
   ]
  },
  {
   "cell_type": "code",
   "execution_count": 383,
   "id": "94ca387b",
   "metadata": {},
   "outputs": [],
   "source": [
    "#①按照每个小list中，最后一个元素，从小到大排序\n",
    "def get_last_element(nums):\n",
    "    return nums[-1]"
   ]
  },
  {
   "cell_type": "code",
   "execution_count": 385,
   "id": "f8ee2491",
   "metadata": {},
   "outputs": [
    {
     "data": {
      "text/plain": [
       "2"
      ]
     },
     "execution_count": 385,
     "metadata": {},
     "output_type": "execute_result"
    }
   ],
   "source": [
    "get_last_element([4,3,2])\n",
    "#2"
   ]
  },
  {
   "cell_type": "code",
   "execution_count": 390,
   "id": "f8402646",
   "metadata": {},
   "outputs": [
    {
     "data": {
      "text/plain": [
       "'c'"
      ]
     },
     "execution_count": 390,
     "metadata": {},
     "output_type": "execute_result"
    }
   ],
   "source": [
    "get_last_element('abc')\n",
    "#'c'"
   ]
  },
  {
   "cell_type": "code",
   "execution_count": 400,
   "id": "2ed59da0",
   "metadata": {},
   "outputs": [
    {
     "data": {
      "text/plain": [
       "[[3, 1, 0], [5, 2, 1], [4, 3, 2], [2, 5, 4]]"
      ]
     },
     "execution_count": 400,
     "metadata": {},
     "output_type": "execute_result"
    }
   ],
   "source": [
    "sorted(a, key = get_last_element)\n",
    "#[[3, 1, 0], [5, 2, 1], [4, 3, 2], [2, 5, 4]]\n",
    "\n",
    "#效果等同于sorted(a, key = lambda x:x[-1])"
   ]
  },
  {
   "cell_type": "code",
   "execution_count": 395,
   "id": "638bf80c",
   "metadata": {},
   "outputs": [],
   "source": [
    "#②按照每个小list中，第二个元素，从小到大排序\n",
    "def get_second_element(nums):\n",
    "    return nums[1]"
   ]
  },
  {
   "cell_type": "code",
   "execution_count": 398,
   "id": "e172fd02",
   "metadata": {},
   "outputs": [
    {
     "data": {
      "text/plain": [
       "3"
      ]
     },
     "execution_count": 398,
     "metadata": {},
     "output_type": "execute_result"
    }
   ],
   "source": [
    "get_second_element([4,3,2])\n",
    "#3"
   ]
  },
  {
   "cell_type": "code",
   "execution_count": 401,
   "id": "eec9abc6",
   "metadata": {},
   "outputs": [
    {
     "data": {
      "text/plain": [
       "[[3, 1, 0], [5, 2, 1], [4, 3, 2], [2, 5, 4]]"
      ]
     },
     "execution_count": 401,
     "metadata": {},
     "output_type": "execute_result"
    }
   ],
   "source": [
    "sorted(a, key = get_second_element)\n",
    "#[[3, 1, 0], [5, 2, 1], [4, 3, 2], [2, 5, 4]]"
   ]
  },
  {
   "cell_type": "code",
   "execution_count": null,
   "id": "321bd2a2",
   "metadata": {},
   "outputs": [],
   "source": [
    "#总结：def 和 lambda替换写法：\n",
    "\n",
    "# ①def：\n",
    "# def function(nums):\n",
    "#     return nums[-1]\n",
    "# sorted(a, key = function)\n",
    "\n",
    "# ②lambda：\n",
    "# sorted(a, key = lambda x:x[-1])"
   ]
  },
  {
   "cell_type": "markdown",
   "id": "19d6fdc7",
   "metadata": {},
   "source": [
    "## 2.Append & Insert"
   ]
  },
  {
   "cell_type": "markdown",
   "id": "00d6499d",
   "metadata": {},
   "source": [
    "### 2.1 modify a list elementwisely"
   ]
  },
  {
   "cell_type": "code",
   "execution_count": 463,
   "id": "2a263385",
   "metadata": {},
   "outputs": [],
   "source": [
    "a = [1, 2, 3, 4, 5, 7, 6]"
   ]
  },
  {
   "cell_type": "code",
   "execution_count": null,
   "id": "03cce392",
   "metadata": {},
   "outputs": [],
   "source": [
    "print(a)\n",
    "#[1, 2, 3, 4, 5, 6, 7]"
   ]
  },
  {
   "cell_type": "markdown",
   "id": "e4f89839",
   "metadata": {},
   "source": [
    "### 2.2 append an element at the end"
   ]
  },
  {
   "cell_type": "code",
   "execution_count": 466,
   "id": "7bb3dfde",
   "metadata": {},
   "outputs": [],
   "source": [
    "#append将元素加在末尾\n",
    "#list.append(num)对list进行操作后，不返回任何东西；就像.sort()不返回任何东西一样"
   ]
  },
  {
   "cell_type": "code",
   "execution_count": null,
   "id": "a64bbbf6",
   "metadata": {},
   "outputs": [],
   "source": [
    "a.append(\"a\")"
   ]
  },
  {
   "cell_type": "code",
   "execution_count": 411,
   "id": "fd75859b",
   "metadata": {},
   "outputs": [
    {
     "name": "stdout",
     "output_type": "stream",
     "text": [
      "[1, 2, 3, 4, 5, 6, 7, 'a']\n"
     ]
    }
   ],
   "source": [
    "print(a)\n",
    "#[1, 2, 3, 4, 5, 6, 7, 'a']"
   ]
  },
  {
   "cell_type": "code",
   "execution_count": 457,
   "id": "f48b7dbf",
   "metadata": {},
   "outputs": [],
   "source": [
    "a.append(\"b\")"
   ]
  },
  {
   "cell_type": "code",
   "execution_count": 421,
   "id": "acd9f3c5",
   "metadata": {},
   "outputs": [
    {
     "name": "stdout",
     "output_type": "stream",
     "text": [
      "[1, 2, 3, 4, 5, 6, 7, 'a', 'b']\n"
     ]
    }
   ],
   "source": [
    "print(a)\n",
    "#[1, 2, 3, 4, 5, 6, 7, 'a', 'b']"
   ]
  },
  {
   "cell_type": "markdown",
   "id": "7151aa11",
   "metadata": {},
   "source": [
    "### 2.3 insert an element"
   ]
  },
  {
   "cell_type": "code",
   "execution_count": null,
   "id": "bbef3885",
   "metadata": {},
   "outputs": [],
   "source": [
    "#insert在i位置上插入元素k，其余元素顺延；即输入原list该位置元素的前面！\n",
    "#list.insert(k)"
   ]
  },
  {
   "cell_type": "code",
   "execution_count": 458,
   "id": "24c371b6",
   "metadata": {},
   "outputs": [],
   "source": [
    "a.insert(0, \"c\")"
   ]
  },
  {
   "cell_type": "code",
   "execution_count": 430,
   "id": "a4a1aa59",
   "metadata": {},
   "outputs": [
    {
     "name": "stdout",
     "output_type": "stream",
     "text": [
      "['c', 1, 2, 3, 4, 5, 6, 7, 'a', 'b']\n"
     ]
    }
   ],
   "source": [
    "print(a)\n",
    "#['c', 1, 2, 3, 4, 5, 6, 7, 'a', 'b']"
   ]
  },
  {
   "cell_type": "code",
   "execution_count": 459,
   "id": "7b6f9033",
   "metadata": {},
   "outputs": [],
   "source": [
    "a.insert(0, \"d\")"
   ]
  },
  {
   "cell_type": "code",
   "execution_count": 440,
   "id": "21b9a6fd",
   "metadata": {},
   "outputs": [
    {
     "name": "stdout",
     "output_type": "stream",
     "text": [
      "['d', 'c', 1, 2, 3, 4, 5, 6, 7, 'a', 'b']\n"
     ]
    }
   ],
   "source": [
    "print(a)\n",
    "#['d', 'c', 1, 2, 3, 4, 5, 6, 7, 'a', 'b']"
   ]
  },
  {
   "cell_type": "code",
   "execution_count": 460,
   "id": "f6ab8932",
   "metadata": {},
   "outputs": [],
   "source": [
    "#在原list元素3的位置，插入e，其余顺延\n",
    "a.insert(3, \"e\")"
   ]
  },
  {
   "cell_type": "code",
   "execution_count": 451,
   "id": "bc1d999d",
   "metadata": {},
   "outputs": [
    {
     "name": "stdout",
     "output_type": "stream",
     "text": [
      "['d', 'c', 1, 'e', 2, 3, 4, 5, 6, 7, 'a', 'b']\n"
     ]
    }
   ],
   "source": [
    "print(a)\n",
    "#['d', 'c', 1, 'e', 2, 3, 4, 5, 6, 7, 'a', 'b']"
   ]
  },
  {
   "cell_type": "code",
   "execution_count": 461,
   "id": "8636dc1c",
   "metadata": {},
   "outputs": [],
   "source": [
    "#在原list最后一个元素的位置上，插入f，其余顺延\n",
    "a.insert(-1, \"f\")"
   ]
  },
  {
   "cell_type": "code",
   "execution_count": 462,
   "id": "7b953d42",
   "metadata": {},
   "outputs": [
    {
     "name": "stdout",
     "output_type": "stream",
     "text": [
      "['d', 'c', 1, 'e', 2, 3, 4, 5, 6, 7, 'a', 'f', 'b']\n"
     ]
    }
   ],
   "source": [
    "print(a)\n",
    "#['d', 'c', 1, 'e', 2, 3, 4, 5, 6, 7, 'a', 'f', 'b']"
   ]
  },
  {
   "cell_type": "markdown",
   "id": "caedc793",
   "metadata": {},
   "source": [
    "## 3. Example using Insert"
   ]
  },
  {
   "cell_type": "code",
   "execution_count": 472,
   "id": "fbb578c9",
   "metadata": {},
   "outputs": [],
   "source": [
    "# 1、Insert a Number in a Sorted List\n",
    "\n",
    "# Code\n",
    "# Exercise 6.2.1: Insert a Number in a Sorted List\n",
    "# Build a function NumInsert which inserts a number in a sorted list.\n",
    "# Example: NumInsert([1, 2, 3, 4, 5, 6], 3) returns [1, 2, 3, 3, 4, 5, 6]\n",
    "# Example: NumInsert([1, 2, 3, 4, 5, 6], 7) returns [1, 2, 3, 4, 5, 6, 7]\n",
    "# Example: NumInsert([1, 2, 3, 4, 5, 6], -1) returns [-1, 1, 2, 3, 4, 5, 6]"
   ]
  },
  {
   "cell_type": "code",
   "execution_count": null,
   "id": "0c678c84",
   "metadata": {},
   "outputs": [],
   "source": [
    "#法1：append后，sort下"
   ]
  },
  {
   "cell_type": "code",
   "execution_count": 473,
   "id": "a177adc4",
   "metadata": {},
   "outputs": [],
   "source": [
    "#法2：insert\n",
    "#让ind = list长度，从头至尾遍历所有元素，当list中的元素大于插入值时，让ind = i\n",
    "#list.insert(index, target)，让index位置插入target元素\n",
    "\n",
    "#解题思路1：从左到右逐个比较，找到合适位置\n",
    "#步骤：\n",
    "#1.从左到右遍历\n",
    "#2.当元素数值大于或者等于需要插入的数字，将该数字插入到这个元素左边\n",
    "#局限：当元素数值较大，需要花很多时间才能找到位置"
   ]
  },
  {
   "cell_type": "code",
   "execution_count": null,
   "id": "8c2f24e1",
   "metadata": {},
   "outputs": [],
   "source": [
    "def NumInsert(nums, target):\n",
    "    ind = len(nums)\n",
    "    for i in range(len(nums)):\n",
    "        if nums[i] >= target:\n",
    "            ind = i\n",
    "            break\n",
    "    nums.insert(ind, target)\n",
    "    return nums"
   ]
  },
  {
   "cell_type": "code",
   "execution_count": 474,
   "id": "611c2f06",
   "metadata": {
    "scrolled": false
   },
   "outputs": [
    {
     "data": {
      "text/plain": [
       "[1, 2, 3, 4, 5, 6, 7]"
      ]
     },
     "execution_count": 474,
     "metadata": {},
     "output_type": "execute_result"
    }
   ],
   "source": [
    "NumInsert([1, 2, 3, 4, 5, 6], 3)\n",
    "#[1, 2, 3, 3, 4, 5, 6]\n",
    "NumInsert([1, 2, 3, 4, 5, 6], 7)\n",
    "#[1, 2, 3, 4, 5, 6, 7]"
   ]
  },
  {
   "cell_type": "markdown",
   "id": "67cab326",
   "metadata": {},
   "source": [
    "## 4. Example using Insert with Binary Search"
   ]
  },
  {
   "cell_type": "code",
   "execution_count": null,
   "id": "43bd4551",
   "metadata": {},
   "outputs": [],
   "source": [
    "#二分法比遍历法快：\n",
    "\n",
    "#解题思路2：二分法\n",
    "\n",
    "#步骤：\n",
    "# 1.设定左右两个指针，分解为L和R\n",
    "# 2.L初始值为0，R初始值为List长度\n",
    "# 3.计算中间指针的值 M = (left + right) / 2\n",
    "#     3.1. 若M指针对应的数，大于需要插入的数，将M设为R\n",
    "#     3.2. 若M指针对应的数，小于需要插入的数，将M设为L\n",
    "# 4.重复步骤3，直到\n",
    "#     4.1M指针对应的值等于需要插入的值\n",
    "#     4.2或者，左右指针相遇\n",
    "# 5.将目标数字插入相应的位置\n",
    "\n",
    "#每次取一半，把另一半扔掉，比从头到尾遍历要快"
   ]
  },
  {
   "cell_type": "code",
   "execution_count": 478,
   "id": "ab4dde32",
   "metadata": {},
   "outputs": [],
   "source": [
    "def NumInsert(nums, target):\n",
    "    left = 0\n",
    "    right = len(nums)\n",
    "    while right - left > 1:\n",
    "        mid = (left + right) // 2   #整数除法 //：向下取整\n",
    "        if nums[mid] == target:\n",
    "            nums.insert(mid, target)\n",
    "            return nums\n",
    "        elif nums[mid] > target:\n",
    "            right = mid\n",
    "        else:\n",
    "            left = mid\n",
    "    if target > nums[mid]:\n",
    "        nums.insert(right, target)\n",
    "    else:\n",
    "        nums.insert(left, target)\n",
    "    return nums\n",
    "\n",
    "#https://pythontutor.com/render.html#code=def%20NumInsert%28nums,%20target%29%3A%0A%20%20%20%20left%20%3D%200%0A%20%20%20%20right%20%3D%20len%28nums%29%0A%20%20%20%20while%20right%20-%20left%20%3E%201%3A%0A%20%20%20%20%20%20%20%20mid%20%3D%20%28left%20%2B%20right%29%20//%202%0A%20%20%20%20%20%20%20%20if%20nums%5Bmid%5D%20%3D%3D%20target%3A%0A%20%20%20%20%20%20%20%20%20%20%20%20nums.insert%28mid,%20target%29%0A%20%20%20%20%20%20%20%20%20%20%20%20return%20nums%0A%20%20%20%20%20%20%20%20elif%20nums%5Bmid%5D%20%3E%20target%3A%0A%20%20%20%20%20%20%20%20%20%20%20%20right%20%3D%20mid%0A%20%20%20%20%20%20%20%20else%3A%0A%20%20%20%20%20%20%20%20%20%20%20%20left%20%3D%20mid%0A%20%20%20%20if%20target%20%3E%20nums%5Bmid%5D%3A%0A%20%20%20%20%20%20%20%20nums.insert%28right,%20target%29%0A%20%20%20%20else%3A%0A%20%20%20%20%20%20%20%20nums.insert%28left,%20target%29%0A%20%20%20%20return%20nums%0ANumInsert%28%5B1,%202,%203,%204,%205,%206%5D,%203%29&cumulative=false&curInstr=15&heapPrimitives=nevernest&mode=display&origin=opt-frontend.js&py=3&rawInputLstJSON=%5B%5D&textReferences=false"
   ]
  },
  {
   "cell_type": "code",
   "execution_count": 479,
   "id": "52694775",
   "metadata": {},
   "outputs": [
    {
     "data": {
      "text/plain": [
       "[1, 2, 3, 3, 4, 5, 6]"
      ]
     },
     "execution_count": 479,
     "metadata": {},
     "output_type": "execute_result"
    }
   ],
   "source": [
    "NumInsert([1, 2, 3, 4, 5, 6], 3)\n",
    "#[1, 2, 3, 3, 4, 5, 6]"
   ]
  },
  {
   "cell_type": "code",
   "execution_count": 480,
   "id": "5f3bd8a8",
   "metadata": {},
   "outputs": [
    {
     "data": {
      "text/plain": [
       "6"
      ]
     },
     "execution_count": 480,
     "metadata": {},
     "output_type": "execute_result"
    }
   ],
   "source": [
    "len([1, 2, 3, 4, 5, 6])\n",
    "#6"
   ]
  },
  {
   "cell_type": "markdown",
   "id": "9f7b03cf",
   "metadata": {},
   "source": [
    "## 5. Remove"
   ]
  },
  {
   "cell_type": "markdown",
   "id": "ad63cdeb",
   "metadata": {},
   "source": [
    "### 5.1 remove an element"
   ]
  },
  {
   "cell_type": "markdown",
   "id": "12a737e0",
   "metadata": {},
   "source": [
    "### .remove()；.insert()；.sort()不返回任何东西\n",
    "#.remove每次只remove一个元素，如果原list中有多个元素，只remove最左边第一个元素"
   ]
  },
  {
   "cell_type": "code",
   "execution_count": 495,
   "id": "b4bd17ae",
   "metadata": {},
   "outputs": [],
   "source": [
    "a = ['d', 'c', 1, 'e', 2, 3, 4, 5, 6, 7, 'a', 'f', 'b']"
   ]
  },
  {
   "cell_type": "code",
   "execution_count": 485,
   "id": "68876359",
   "metadata": {},
   "outputs": [
    {
     "name": "stdout",
     "output_type": "stream",
     "text": [
      "['d', 'c', 1, 'e', 2, 3, 4, 5, 6, 7, 'a', 'f', 'b']\n"
     ]
    }
   ],
   "source": [
    "print(a)\n",
    "#['d', 'c', 1, 'e', 2, 3, 4, 5, 6, 7, 'a', 'f', 'b']"
   ]
  },
  {
   "cell_type": "code",
   "execution_count": 493,
   "id": "c388c39d",
   "metadata": {},
   "outputs": [],
   "source": [
    "a.remove('e')   #等同于a.remove(\"e\")"
   ]
  },
  {
   "cell_type": "code",
   "execution_count": 497,
   "id": "fafd75a2",
   "metadata": {},
   "outputs": [
    {
     "name": "stdout",
     "output_type": "stream",
     "text": [
      "['d', 'c', 1, 2, 3, 4, 5, 6, 7, 'a', 'f', 'b']\n"
     ]
    }
   ],
   "source": [
    "print(a)\n",
    "#['d', 'c', 1, 2, 3, 4, 5, 6, 7, 'a', 'f', 'b']"
   ]
  },
  {
   "cell_type": "code",
   "execution_count": 499,
   "id": "67a90258",
   "metadata": {},
   "outputs": [
    {
     "ename": "ValueError",
     "evalue": "list.remove(x): x not in list",
     "output_type": "error",
     "traceback": [
      "\u001b[1;31m---------------------------------------------------------------------------\u001b[0m",
      "\u001b[1;31mValueError\u001b[0m                                Traceback (most recent call last)",
      "Cell \u001b[1;32mIn[499], line 1\u001b[0m\n\u001b[1;32m----> 1\u001b[0m \u001b[43ma\u001b[49m\u001b[38;5;241;43m.\u001b[39;49m\u001b[43mremove\u001b[49m\u001b[43m(\u001b[49m\u001b[38;5;124;43m'\u001b[39;49m\u001b[38;5;124;43me\u001b[39;49m\u001b[38;5;124;43m'\u001b[39;49m\u001b[43m)\u001b[49m\n",
      "\u001b[1;31mValueError\u001b[0m: list.remove(x): x not in list"
     ]
    }
   ],
   "source": [
    "a.remove('e')\n",
    "# ---------------------------------------------------------------------------\n",
    "# ValueError                                Traceback (most recent call last)\n",
    "# Cell In[498], line 1\n",
    "# ----> 1 a.remove('e')\n",
    "\n",
    "# ValueError: list.remove(x): x not in list\n",
    "\n",
    "#因为list中已经没有e了，所以报错"
   ]
  },
  {
   "cell_type": "markdown",
   "id": "59f4b6a9",
   "metadata": {},
   "source": [
    "### 避免移除后原list不存在，再run remove时报错方法 if else：\n",
    "当元素在原list里面时就remove，否则就说没有"
   ]
  },
  {
   "cell_type": "code",
   "execution_count": 536,
   "id": "5df98fc4",
   "metadata": {},
   "outputs": [
    {
     "name": "stdout",
     "output_type": "stream",
     "text": [
      "It is not there\n"
     ]
    }
   ],
   "source": [
    "if \"e\" in a:\n",
    "    a.remove(\"e\")\n",
    "else:\n",
    "    print(\"It is not there\")\n",
    "    \n",
    "#It is not there    "
   ]
  },
  {
   "cell_type": "code",
   "execution_count": 504,
   "id": "a3ec1760",
   "metadata": {},
   "outputs": [
    {
     "name": "stdout",
     "output_type": "stream",
     "text": [
      "['d', 'c', 1, 2, 3, 4, 5, 6, 7, 'a', 'f', 'b']\n"
     ]
    }
   ],
   "source": [
    "print(a)\n",
    "#['d', 'c', 1, 2, 3, 4, 5, 6, 7, 'a', 'f', 'b']"
   ]
  },
  {
   "cell_type": "code",
   "execution_count": 506,
   "id": "9cb3f127",
   "metadata": {},
   "outputs": [],
   "source": [
    "a.append(\"f\")"
   ]
  },
  {
   "cell_type": "code",
   "execution_count": 508,
   "id": "18852db9",
   "metadata": {},
   "outputs": [
    {
     "name": "stdout",
     "output_type": "stream",
     "text": [
      "['d', 'c', 1, 2, 3, 4, 5, 6, 7, 'a', 'f', 'b', 'f', 'f']\n"
     ]
    }
   ],
   "source": [
    "print(a)\n",
    "#['d', 'c', 1, 2, 3, 4, 5, 6, 7, 'a', 'f', 'b', 'f', 'f']"
   ]
  },
  {
   "cell_type": "markdown",
   "id": "337550f3",
   "metadata": {},
   "source": [
    "### .remove每次只remove一个元素，如果原list中有多个元素，只remove最左边第一个元素\n"
   ]
  },
  {
   "cell_type": "code",
   "execution_count": 537,
   "id": "526456dd",
   "metadata": {},
   "outputs": [
    {
     "ename": "ValueError",
     "evalue": "list.remove(x): x not in list",
     "output_type": "error",
     "traceback": [
      "\u001b[1;31m---------------------------------------------------------------------------\u001b[0m",
      "\u001b[1;31mValueError\u001b[0m                                Traceback (most recent call last)",
      "Cell \u001b[1;32mIn[537], line 1\u001b[0m\n\u001b[1;32m----> 1\u001b[0m \u001b[43ma\u001b[49m\u001b[38;5;241;43m.\u001b[39;49m\u001b[43mremove\u001b[49m\u001b[43m(\u001b[49m\u001b[38;5;124;43m\"\u001b[39;49m\u001b[38;5;124;43mf\u001b[39;49m\u001b[38;5;124;43m\"\u001b[39;49m\u001b[43m)\u001b[49m\n",
      "\u001b[1;31mValueError\u001b[0m: list.remove(x): x not in list"
     ]
    }
   ],
   "source": [
    "a.remove(\"f\")"
   ]
  },
  {
   "cell_type": "code",
   "execution_count": 514,
   "id": "1d42bbe4",
   "metadata": {},
   "outputs": [
    {
     "name": "stdout",
     "output_type": "stream",
     "text": [
      "['d', 'c', 1, 2, 3, 4, 5, 6, 7, 'a', 'b']\n"
     ]
    }
   ],
   "source": [
    "print(a)\n",
    "#['d', 'c', 1, 2, 3, 4, 5, 6, 7, 'a', 'b', 'f']"
   ]
  },
  {
   "cell_type": "code",
   "execution_count": 515,
   "id": "3ab4e567",
   "metadata": {},
   "outputs": [
    {
     "ename": "ValueError",
     "evalue": "list.remove(x): x not in list",
     "output_type": "error",
     "traceback": [
      "\u001b[1;31m---------------------------------------------------------------------------\u001b[0m",
      "\u001b[1;31mValueError\u001b[0m                                Traceback (most recent call last)",
      "Cell \u001b[1;32mIn[515], line 1\u001b[0m\n\u001b[1;32m----> 1\u001b[0m \u001b[43ma\u001b[49m\u001b[38;5;241;43m.\u001b[39;49m\u001b[43mremove\u001b[49m\u001b[43m(\u001b[49m\u001b[38;5;124;43m\"\u001b[39;49m\u001b[38;5;124;43mf\u001b[39;49m\u001b[38;5;124;43m\"\u001b[39;49m\u001b[43m)\u001b[49m\n",
      "\u001b[1;31mValueError\u001b[0m: list.remove(x): x not in list"
     ]
    }
   ],
   "source": [
    "a.remove(\"f\")"
   ]
  },
  {
   "cell_type": "code",
   "execution_count": 517,
   "id": "3428b313",
   "metadata": {},
   "outputs": [
    {
     "name": "stdout",
     "output_type": "stream",
     "text": [
      "['d', 'c', 1, 2, 3, 4, 5, 6, 7, 'a', 'b']\n"
     ]
    }
   ],
   "source": [
    "print(a)\n",
    "#['d', 'c', 1, 2, 3, 4, 5, 6, 7, 'a', 'b']"
   ]
  },
  {
   "cell_type": "code",
   "execution_count": 518,
   "id": "acbee29a",
   "metadata": {},
   "outputs": [],
   "source": [
    "c = [\"a\", \"a\"]"
   ]
  },
  {
   "cell_type": "markdown",
   "id": "bc16ed4f",
   "metadata": {},
   "source": [
    "### 可以一次性remove多个同样的元素，用while loop方法：\n",
    "#当元素在list中，就remove，直到没有为止。\n"
   ]
  },
  {
   "cell_type": "code",
   "execution_count": 534,
   "id": "1fa1083f",
   "metadata": {},
   "outputs": [
    {
     "name": "stdout",
     "output_type": "stream",
     "text": [
      "[]\n"
     ]
    }
   ],
   "source": [
    "while \"a\" in c:\n",
    "    c.remove(\"a\")\n",
    "print(c)\n",
    "\n",
    "#[]"
   ]
  },
  {
   "cell_type": "code",
   "execution_count": 524,
   "id": "1260d367",
   "metadata": {},
   "outputs": [],
   "source": [
    "b = a.remove(\"b\")"
   ]
  },
  {
   "cell_type": "code",
   "execution_count": 527,
   "id": "d8a0635b",
   "metadata": {},
   "outputs": [
    {
     "name": "stdout",
     "output_type": "stream",
     "text": [
      "None\n"
     ]
    }
   ],
   "source": [
    "#.remove()操作不会返回任何值\n",
    "print(b)\n",
    "#None"
   ]
  },
  {
   "cell_type": "code",
   "execution_count": 535,
   "id": "b2dfc034",
   "metadata": {},
   "outputs": [
    {
     "name": "stdout",
     "output_type": "stream",
     "text": [
      "['d', 'c', 1, 2, 3, 4, 5, 6, 7, 'a']\n"
     ]
    }
   ],
   "source": [
    "print(a)\n",
    "#['d', 'c', 1, 2, 3, 4, 5, 6, 7, 'a']"
   ]
  },
  {
   "cell_type": "markdown",
   "id": "fa98aa75",
   "metadata": {},
   "source": [
    "### 习题："
   ]
  },
  {
   "cell_type": "code",
   "execution_count": null,
   "id": "36397d4d",
   "metadata": {},
   "outputs": [],
   "source": [
    "#Exercise 6.3.1: Remove an Element：移除重复的元素（如有重复，只保留一个）\n",
    "# Build a function RmEl to remove a target element from a list. If the target element appears in the list for multiple times, only remove the first one.\n",
    "# Example: RmEl([1, 2, 3, 4, 5], 2) returns [1, 3, 4, 5]\n",
    "# Example: RmEl([1, 2, 3, 4, 5], 6) returns [1, 2, 3, 4, 5]\n",
    "# Example: RmEl([1, 2, 3, 3, 4, 5], 3) returns [1, 2, 3, 4, 5]"
   ]
  },
  {
   "cell_type": "code",
   "execution_count": 529,
   "id": "120ac04c",
   "metadata": {},
   "outputs": [],
   "source": [
    "def RmEL(nums, target):\n",
    "    if target in nums:\n",
    "        nums.remove(target)\n",
    "    return nums"
   ]
  },
  {
   "cell_type": "code",
   "execution_count": 531,
   "id": "1fb2b3f6",
   "metadata": {},
   "outputs": [
    {
     "data": {
      "text/plain": [
       "[1, 2, 3, 4, 5]"
      ]
     },
     "execution_count": 531,
     "metadata": {},
     "output_type": "execute_result"
    }
   ],
   "source": [
    "RmEL([1, 2, 3, 3, 4, 5], 3)\n",
    "#[1, 2, 3, 4, 5]"
   ]
  },
  {
   "cell_type": "code",
   "execution_count": 532,
   "id": "0905078d",
   "metadata": {},
   "outputs": [
    {
     "data": {
      "text/plain": [
       "[1, 2, 3, 3, 4, 5]"
      ]
     },
     "execution_count": 532,
     "metadata": {},
     "output_type": "execute_result"
    }
   ],
   "source": [
    "RmEL([1, 2, 3, 3, 4, 5], 6)\n",
    "#[1, 2, 3, 3, 4, 5]"
   ]
  },
  {
   "cell_type": "markdown",
   "id": "4cd67cc7",
   "metadata": {},
   "source": [
    "## 6. Pop"
   ]
  },
  {
   "cell_type": "code",
   "execution_count": 539,
   "id": "1846b44a",
   "metadata": {},
   "outputs": [],
   "source": [
    "#6.1 pop out ana element：把最末尾的值从list中取出后返回新list\n",
    "#pop和remove不同，是返回值的\n",
    "#pop()取出拿掉的是最后一个值\n",
    "#pop(i)取出拿掉的是和[i]位置上的元素"
   ]
  },
  {
   "cell_type": "code",
   "execution_count": 564,
   "id": "52473485",
   "metadata": {},
   "outputs": [],
   "source": [
    "a = [1, 2, 3, 4, 5, 6, 7]"
   ]
  },
  {
   "cell_type": "code",
   "execution_count": 565,
   "id": "508ecc10",
   "metadata": {},
   "outputs": [
    {
     "name": "stdout",
     "output_type": "stream",
     "text": [
      "[1, 2, 3, 4, 5, 6, 7]\n"
     ]
    }
   ],
   "source": [
    "print(a)\n",
    "#[1, 2, 3, 4, 5, 6, 7]"
   ]
  },
  {
   "cell_type": "code",
   "execution_count": 566,
   "id": "25fe5f43",
   "metadata": {},
   "outputs": [],
   "source": [
    "b = a.pop()"
   ]
  },
  {
   "cell_type": "code",
   "execution_count": 567,
   "id": "539df491",
   "metadata": {},
   "outputs": [
    {
     "name": "stdout",
     "output_type": "stream",
     "text": [
      "7\n"
     ]
    }
   ],
   "source": [
    "print(b)\n",
    "#7"
   ]
  },
  {
   "cell_type": "code",
   "execution_count": 568,
   "id": "10dfd5f4",
   "metadata": {},
   "outputs": [
    {
     "name": "stdout",
     "output_type": "stream",
     "text": [
      "[1, 2, 3, 4, 5, 6]\n"
     ]
    }
   ],
   "source": [
    "print(a)\n",
    "#[1, 2, 3, 4, 5, 6]"
   ]
  },
  {
   "cell_type": "code",
   "execution_count": 569,
   "id": "5507113d",
   "metadata": {},
   "outputs": [
    {
     "data": {
      "text/plain": [
       "6"
      ]
     },
     "execution_count": 569,
     "metadata": {},
     "output_type": "execute_result"
    }
   ],
   "source": [
    "a.pop()\n",
    "#6"
   ]
  },
  {
   "cell_type": "code",
   "execution_count": 570,
   "id": "bdf57c88",
   "metadata": {},
   "outputs": [
    {
     "name": "stdout",
     "output_type": "stream",
     "text": [
      "[1, 2, 3, 4, 5]\n"
     ]
    }
   ],
   "source": [
    "print(a)\n",
    "#[1, 2, 3, 4, 5]"
   ]
  },
  {
   "cell_type": "code",
   "execution_count": 571,
   "id": "9806bb4c",
   "metadata": {},
   "outputs": [
    {
     "data": {
      "text/plain": [
       "2"
      ]
     },
     "execution_count": 571,
     "metadata": {},
     "output_type": "execute_result"
    }
   ],
   "source": [
    "a.pop(1)\n",
    "#pop在[1]这个位置上的元素：2"
   ]
  },
  {
   "cell_type": "code",
   "execution_count": 572,
   "id": "538c6ceb",
   "metadata": {},
   "outputs": [
    {
     "name": "stdout",
     "output_type": "stream",
     "text": [
      "[1, 3, 4, 5]\n"
     ]
    }
   ],
   "source": [
    "print(a)\n",
    "#[1, 3, 4, 5]"
   ]
  },
  {
   "cell_type": "code",
   "execution_count": 573,
   "id": "a9229e79",
   "metadata": {},
   "outputs": [
    {
     "data": {
      "text/plain": [
       "1"
      ]
     },
     "execution_count": 573,
     "metadata": {},
     "output_type": "execute_result"
    }
   ],
   "source": [
    "a.pop(0)\n",
    "#pop在[0]这个位置上的元素：1"
   ]
  },
  {
   "cell_type": "code",
   "execution_count": 574,
   "id": "49e2384c",
   "metadata": {},
   "outputs": [
    {
     "name": "stdout",
     "output_type": "stream",
     "text": [
      "[3, 4, 5]\n"
     ]
    }
   ],
   "source": [
    "print(a)\n",
    "#[3, 4, 5]"
   ]
  },
  {
   "cell_type": "code",
   "execution_count": 552,
   "id": "085bffd1",
   "metadata": {},
   "outputs": [],
   "source": [
    "# Exercise 6.4.1: Remove duplicates from a sorted list：在排序号的list中移除重复值\n",
    "# Build a function SortRm which removes duplicate numbers from a sorted list.\n",
    "# Example: SortRm([1, 2, 2, 3, 4, 4, 5, 6]) returns [1, 2, 3, 4, 5, 6]\n",
    "# Example: SortRm([1, 2, 3, 4, 5, 6]) returns [1, 2, 3, 4, 5, 6]"
   ]
  },
  {
   "cell_type": "code",
   "execution_count": 629,
   "id": "135dd356",
   "metadata": {},
   "outputs": [],
   "source": [
    "def SortRm(nums):\n",
    "    if len(nums) <= 1:       #如果list只有一个元素\n",
    "        return nums          #return这个元素\n",
    "    tmp = nums[0]            #将list中第一位置的值赋值给tmp            \n",
    "    i = 1                    #指针i取值为1，即第二位置\n",
    "    while i < len(nums):     #当指针i < list长度时：还在range中时\n",
    "        print(\"nums = \", nums)\n",
    "        print(\"tmp = \", tmp)\n",
    "        print(\"i = \", i)\n",
    "        print(\"nums[i] = \", nums[i])\n",
    "        print(\"====\")                     \n",
    "        if nums[i] == tmp:   #指针指到的值和tmp比较相同\n",
    "            nums.pop(i)      #则pop\n",
    "        else:                #如果不同\n",
    "            tmp = nums[i]    #将指针指到的值赋值给tmp，加入tmp中\n",
    "            i += 1           #i+1，指针后移\n",
    "    return nums\n",
    "\n",
    "#https://pythontutor.com/render.html#code=def%20SortRm%28nums%29%3A%0A%20%20%20%20if%20len%28nums%29%20%3C%3D%201%3A%0A%20%20%20%20%20%20%20%20return%20nums%0A%20%20%20%20tmp%20%3D%20nums%5B0%5D%0A%20%20%20%20i%20%3D%201%0A%20%20%20%20while%20i%20%3C%20len%28nums%29%3A%0A%20%20%20%20%20%20%20%20print%28%22nums%20%3D%20%22,%20nums%29%0A%20%20%20%20%20%20%20%20print%28%22tmp%20%3D%20%22,%20tmp%29%0A%20%20%20%20%20%20%20%20print%28%22i%20%3D%20%22,%20i%29%0A%20%20%20%20%20%20%20%20print%28%22nums%5Bi%5D%20%3D%20%22,%20nums%5Bi%5D%29%0A%20%20%20%20%20%20%20%20print%28%22%3D%3D%3D%3D%22%29%0A%20%20%20%20%20%20%20%20if%20nums%5Bi%5D%20%3D%3D%20tmp%3A%0A%20%20%20%20%20%20%20%20%20%20%20%20nums.pop%28i%29%0A%20%20%20%20%20%20%20%20else%3A%0A%20%20%20%20%20%20%20%20%20%20%20%20tmp%20%3D%20nums%5Bi%5D%0A%20%20%20%20%20%20%20%20%20%20%20%20i%20%2B%3D%201%0A%20%20%20%20return%20nums%0A%0ASortRm%28%5B1,%202,%202,%203,%204,%204,%205,%206%5D%29&cumulative=false&curInstr=70&heapPrimitives=nevernest&mode=display&origin=opt-frontend.js&py=3&rawInputLstJSON=%5B%5D&textReferences=false"
   ]
  },
  {
   "cell_type": "code",
   "execution_count": 635,
   "id": "d931fe02",
   "metadata": {},
   "outputs": [
    {
     "name": "stdout",
     "output_type": "stream",
     "text": [
      "nums =  [1, 2, 2, 3, 4, 4, 5, 6]\n",
      "tmp =  1\n",
      "i =  1\n",
      "nums[i] =  2\n",
      "====\n",
      "nums =  [1, 2, 2, 3, 4, 4, 5, 6]\n",
      "tmp =  2\n",
      "i =  2\n",
      "nums[i] =  2\n",
      "====\n",
      "nums =  [1, 2, 3, 4, 4, 5, 6]\n",
      "tmp =  2\n",
      "i =  2\n",
      "nums[i] =  3\n",
      "====\n",
      "nums =  [1, 2, 3, 4, 4, 5, 6]\n",
      "tmp =  3\n",
      "i =  3\n",
      "nums[i] =  4\n",
      "====\n",
      "nums =  [1, 2, 3, 4, 4, 5, 6]\n",
      "tmp =  4\n",
      "i =  4\n",
      "nums[i] =  4\n",
      "====\n",
      "nums =  [1, 2, 3, 4, 5, 6]\n",
      "tmp =  4\n",
      "i =  4\n",
      "nums[i] =  5\n",
      "====\n",
      "nums =  [1, 2, 3, 4, 5, 6]\n",
      "tmp =  5\n",
      "i =  5\n",
      "nums[i] =  6\n",
      "====\n"
     ]
    },
    {
     "data": {
      "text/plain": [
       "[1, 2, 3, 4, 5, 6]"
      ]
     },
     "execution_count": 635,
     "metadata": {},
     "output_type": "execute_result"
    }
   ],
   "source": [
    "SortRm([1, 2, 2, 3, 4, 4, 5, 6])\n",
    "#[1, 2, 3, 4, 5, 6]"
   ]
  },
  {
   "cell_type": "markdown",
   "id": "ab9c66f6",
   "metadata": {},
   "source": [
    "## 7. Example using Pop"
   ]
  },
  {
   "cell_type": "code",
   "execution_count": 590,
   "id": "06aa3df9",
   "metadata": {},
   "outputs": [],
   "source": [
    "# 1、Merge Two Sorted Lists\n",
    "\n",
    "# Code\n",
    "# Exercise 6.4.2: Merge Two Sorted Lists\n",
    "# Build a function MergeSorted which merges two sorted lists as one sorted list.\n",
    "# Example: MergeSorted([1, 3, 5], [2, 4, 6]) returns [1, 2, 3, 4, 5, 6]\n",
    "# Example: MergeSorted([1, 2, 3], [4, 5, 6]) returns [1, 2, 3, 4, 5, 6]"
   ]
  },
  {
   "cell_type": "code",
   "execution_count": 633,
   "id": "3e0310d2",
   "metadata": {},
   "outputs": [],
   "source": [
    "def MergeSorted(Lst1, Lst2):\n",
    "    i = 0\n",
    "    while Lst1 and i < len(Lst2):\n",
    "        print(\"==\")\n",
    "        print(\"Lst1=\", Lst1)\n",
    "        print(\"Lst2=\", Lst2)\n",
    "        print(\"Lst1[0]=\", Lst1[0])\n",
    "        print(\"i=\", i)\n",
    "        print(\"Lst2[i]=\", Lst2[i])\n",
    "        if Lst1[0] <= Lst2[i]:\n",
    "            num = Lst1.pop(0)\n",
    "            Lst2.insert(i, num)\n",
    "        i += 1\n",
    "    if Lst1:\n",
    "        return Lst2 + Lst1\n",
    "    \n",
    "    return Lst2\n",
    "\n",
    "#什么是while Lst1 和if Lst1？\n",
    "#https://pythontutor.com/render.html#code=def%20MergeSorted%28Lst1,%20Lst2%29%3A%0A%20%20%20%20i%20%3D%200%0A%20%20%20%20while%20Lst1%20and%20i%20%3C%20len%28Lst2%29%3A%0A%20%20%20%20%20%20%20%20print%28%22%3D%3D%22%29%0A%20%20%20%20%20%20%20%20print%28%22Lst1%3D%22,%20Lst1%29%0A%20%20%20%20%20%20%20%20print%28%22Lst2%3D%22,%20Lst2%29%0A%20%20%20%20%20%20%20%20print%28%22Lst1%5B0%5D%3D%22,%20Lst1%5B0%5D%29%0A%20%20%20%20%20%20%20%20print%28%22i%3D%22,%20i%29%0A%20%20%20%20%20%20%20%20print%28%22Lst2%5Bi%5D%3D%22,%20Lst2%5Bi%5D%29%0A%20%20%20%20%20%20%20%20if%20Lst1%5B0%5D%20%3C%3D%20Lst2%5Bi%5D%3A%0A%20%20%20%20%20%20%20%20%20%20%20%20num%20%3D%20Lst1.pop%280%29%0A%20%20%20%20%20%20%20%20%20%20%20%20Lst2.insert%28i,%20num%29%0A%20%20%20%20%20%20%20%20i%20%2B%3D%201%0A%20%20%20%20if%20Lst1%3A%0A%20%20%20%20%20%20%20%20return%20Lst2%20%2B%20Lst1%0A%20%20%20%20%0A%20%20%20%20return%20Lst2%0AMergeSorted%28%5B1,%203,%205%5D,%20%5B2,%204,%206%5D%29&cumulative=false&curInstr=0&heapPrimitives=nevernest&mode=display&origin=opt-frontend.js&py=3&rawInputLstJSON=%5B%5D&textReferences=false"
   ]
  },
  {
   "cell_type": "code",
   "execution_count": 636,
   "id": "b2902100",
   "metadata": {},
   "outputs": [
    {
     "name": "stdout",
     "output_type": "stream",
     "text": [
      "==\n",
      "Lst1= [1, 3, 5]\n",
      "Lst2= [2, 4, 6]\n",
      "Lst1[0]= 1\n",
      "i= 0\n",
      "Lst2[i]= 2\n",
      "==\n",
      "Lst1= [3, 5]\n",
      "Lst2= [1, 2, 4, 6]\n",
      "Lst1[0]= 3\n",
      "i= 1\n",
      "Lst2[i]= 2\n",
      "==\n",
      "Lst1= [3, 5]\n",
      "Lst2= [1, 2, 4, 6]\n",
      "Lst1[0]= 3\n",
      "i= 2\n",
      "Lst2[i]= 4\n",
      "==\n",
      "Lst1= [5]\n",
      "Lst2= [1, 2, 3, 4, 6]\n",
      "Lst1[0]= 5\n",
      "i= 3\n",
      "Lst2[i]= 4\n",
      "==\n",
      "Lst1= [5]\n",
      "Lst2= [1, 2, 3, 4, 6]\n",
      "Lst1[0]= 5\n",
      "i= 4\n",
      "Lst2[i]= 6\n"
     ]
    },
    {
     "data": {
      "text/plain": [
       "[1, 2, 3, 4, 5, 6]"
      ]
     },
     "execution_count": 636,
     "metadata": {},
     "output_type": "execute_result"
    }
   ],
   "source": [
    "MergeSorted([1, 3, 5], [2, 4, 6])\n",
    "##[1, 2, 3, 4, 5, 6]"
   ]
  },
  {
   "cell_type": "markdown",
   "id": "6bc45876",
   "metadata": {},
   "source": [
    "## 8. Modify & Switch"
   ]
  },
  {
   "cell_type": "code",
   "execution_count": 598,
   "id": "aa21a341",
   "metadata": {},
   "outputs": [],
   "source": [
    "#8.1 Modify an element 修改某个位置上的元素"
   ]
  },
  {
   "cell_type": "code",
   "execution_count": 599,
   "id": "ab634dfb",
   "metadata": {},
   "outputs": [],
   "source": [
    "a = [1, 2, 3, 4, 5, 6, 7]"
   ]
  },
  {
   "cell_type": "code",
   "execution_count": 600,
   "id": "164b5020",
   "metadata": {},
   "outputs": [],
   "source": [
    "a[0] = \"a\""
   ]
  },
  {
   "cell_type": "code",
   "execution_count": 601,
   "id": "4785043a",
   "metadata": {},
   "outputs": [
    {
     "name": "stdout",
     "output_type": "stream",
     "text": [
      "['a', 2, 3, 4, 5, 6, 7]\n"
     ]
    }
   ],
   "source": [
    "print(a)\n",
    "#['a', 2, 3, 4, 5, 6, 7]"
   ]
  },
  {
   "cell_type": "code",
   "execution_count": 602,
   "id": "0bcb6e0b",
   "metadata": {},
   "outputs": [],
   "source": [
    "a[1] = \"b\""
   ]
  },
  {
   "cell_type": "code",
   "execution_count": 603,
   "id": "d6e3558b",
   "metadata": {},
   "outputs": [
    {
     "name": "stdout",
     "output_type": "stream",
     "text": [
      "['a', 'b', 3, 4, 5, 6, 7]\n"
     ]
    }
   ],
   "source": [
    "print(a)\n",
    "#['a', 'b', 3, 4, 5, 6, 7]"
   ]
  },
  {
   "cell_type": "code",
   "execution_count": 604,
   "id": "b56759e1",
   "metadata": {},
   "outputs": [],
   "source": [
    "a[3] = a[0]"
   ]
  },
  {
   "cell_type": "code",
   "execution_count": 605,
   "id": "a48bb1f9",
   "metadata": {},
   "outputs": [
    {
     "name": "stdout",
     "output_type": "stream",
     "text": [
      "['a', 'b', 3, 'a', 5, 6, 7]\n"
     ]
    }
   ],
   "source": [
    "print(a)\n",
    "#['a', 'b', 3, 'a', 5, 6, 7]"
   ]
  },
  {
   "cell_type": "code",
   "execution_count": 606,
   "id": "983f229d",
   "metadata": {},
   "outputs": [],
   "source": [
    "#8.2 Switch elements 调换位置"
   ]
  },
  {
   "cell_type": "code",
   "execution_count": 609,
   "id": "220bbb46",
   "metadata": {},
   "outputs": [],
   "source": [
    "a = [1, 2, 3, 4, 5, 6, 7]"
   ]
  },
  {
   "cell_type": "code",
   "execution_count": 610,
   "id": "896b2d07",
   "metadata": {},
   "outputs": [],
   "source": [
    "#将a[0]与a[3]进行对调，即1与4对调：\n",
    "a[0], a[3] = a[3], a[0]"
   ]
  },
  {
   "cell_type": "code",
   "execution_count": 612,
   "id": "91b357bf",
   "metadata": {},
   "outputs": [
    {
     "name": "stdout",
     "output_type": "stream",
     "text": [
      "[4, 2, 3, 1, 5, 6, 7]\n"
     ]
    }
   ],
   "source": [
    "print(a)\n",
    "#[4, 2, 3, 1, 5, 6, 7]"
   ]
  },
  {
   "cell_type": "code",
   "execution_count": 613,
   "id": "218882fc",
   "metadata": {},
   "outputs": [],
   "source": [
    "# Exercise 6.6.1: Reverse List：翻转list：头尾数字对调至不能对调为止 #算法系解法\n",
    "# Build a function RevLst which reverses a list.\n",
    "# Example: RevLst([3, 1, 9, 8, 4]) -> [4, 8, 9, 1, 3]"
   ]
  },
  {
   "cell_type": "code",
   "execution_count": 622,
   "id": "95326ae5",
   "metadata": {},
   "outputs": [],
   "source": [
    "def RevLst(nums):\n",
    "    left = 0\n",
    "    right = len(nums) - 1\n",
    "    while left < right:\n",
    "        print(\"left0=\", left)\n",
    "        print(\"right0=\", right)\n",
    "        nums[left], nums[right] = nums[right], nums[left]\n",
    "        left += 1\n",
    "        right -= 1\n",
    "        print(\"left=\", left)\n",
    "        print(\"right=\", right)\n",
    "        print(\"===\")\n",
    "    return nums"
   ]
  },
  {
   "cell_type": "code",
   "execution_count": 625,
   "id": "972e414a",
   "metadata": {},
   "outputs": [
    {
     "name": "stdout",
     "output_type": "stream",
     "text": [
      "left0= 0\n",
      "right0= 4\n",
      "left= 1\n",
      "right= 3\n",
      "===\n",
      "left0= 1\n",
      "right0= 3\n",
      "left= 2\n",
      "right= 2\n",
      "===\n"
     ]
    },
    {
     "data": {
      "text/plain": [
       "[4, 8, 9, 1, 3]"
      ]
     },
     "execution_count": 625,
     "metadata": {},
     "output_type": "execute_result"
    }
   ],
   "source": [
    "RevLst([3, 1, 9, 8, 4])\n",
    "#[4, 8, 9, 1, 3]"
   ]
  },
  {
   "cell_type": "code",
   "execution_count": 637,
   "id": "70e07736",
   "metadata": {},
   "outputs": [
    {
     "name": "stdout",
     "output_type": "stream",
     "text": [
      "left0= 0\n",
      "right0= 5\n",
      "left= 1\n",
      "right= 4\n",
      "===\n",
      "left0= 1\n",
      "right0= 4\n",
      "left= 2\n",
      "right= 3\n",
      "===\n",
      "left0= 2\n",
      "right0= 3\n",
      "left= 3\n",
      "right= 2\n",
      "===\n"
     ]
    },
    {
     "data": {
      "text/plain": [
       "[5, 4, 8, 9, 1, 3]"
      ]
     },
     "execution_count": 637,
     "metadata": {},
     "output_type": "execute_result"
    }
   ],
   "source": [
    "RevLst([3, 1, 9, 8, 4, 5])\n",
    "# [5, 4, 8, 9, 1, 3]"
   ]
  },
  {
   "cell_type": "code",
   "execution_count": 640,
   "id": "28ae0731",
   "metadata": {},
   "outputs": [],
   "source": [
    "#总结：比较难懂的4个算法写法：插入【遍历&二分】；移除【pop】；合并【pop】；翻转【对调】\n",
    "\n",
    "# Q2:Insert a Number in a Sorted List：在list中插入一个值\n",
    "# Description\n",
    "# Build a function NumInsert which inserts a number in a sorted list.\n",
    "\n",
    "#写法0：二分法\n",
    "#让ind = list长度，从头至尾遍历所有元素，当list中的元素大于插入值时，让ind = i\n",
    "#list.insert(index, target)，让index位置插入target元素\n",
    "def NumInsert(nums, target):\n",
    "    ind = len(nums)\n",
    "    for i in range(len(nums)):\n",
    "        if nums[i] >= target:\n",
    "            ind = i\n",
    "            break\n",
    "    nums.insert(ind, target)\n",
    "    return nums"
   ]
  },
  {
   "cell_type": "code",
   "execution_count": null,
   "id": "9523d2d0",
   "metadata": {},
   "outputs": [],
   "source": [
    "#写法1: 二分法\n",
    "#步骤：\n",
    "# 1.设定左右两个指针，分解为L和R\n",
    "# 2.L初始值为0，R初始值为List长度\n",
    "# 3.计算中间指针的值 M = (left + right) / 2\n",
    "#     3.1. 若M指针对应的数，大于需要插入的数，将M设为R\n",
    "#     3.2. 若M指针对应的数，小于需要插入的数，将M设为L\n",
    "# 4.重复步骤3，直到\n",
    "#     4.1M指针对应的值等于需要插入的值\n",
    "#     4.2或者，左右指针相遇\n",
    "# 5.将目标数字插入相应的位置\n",
    "\n",
    "#每次取一半，把另一半扔掉，比从头到尾遍历要快\n",
    "\n",
    "def NumInsert(nums, target):\n",
    "    left = 0\n",
    "    right = len(nums)\n",
    "    while right - left > 1:\n",
    "        mid = (left + right) // 2   #整数除法 //：向下取整\n",
    "        if nums[mid] == target:\n",
    "            nums.insert(mid, target)\n",
    "            return nums\n",
    "        elif nums[mid] > target:\n",
    "            right = mid\n",
    "        else:\n",
    "            left = mid\n",
    "    if target > nums[mid]:\n",
    "        nums.insert(right, target)\n",
    "    else:\n",
    "        nums.insert(left, target)\n",
    "    return nums"
   ]
  },
  {
   "cell_type": "code",
   "execution_count": 639,
   "id": "c8c3e746",
   "metadata": {},
   "outputs": [],
   "source": [
    "# Q3:Remove duplicates from a sorted list：从排好序的列表中移除重复值\n",
    "# Description\n",
    "# Build a function SortRm which removes duplicate numbers in a sorted list.\n",
    "\n",
    "# Examples\n",
    "# SortRm([1, 2, 2, 3, 4, 4, 5, 6]) returns [1, 2, 3, 4, 5, 6]\n",
    "# SortRm([1, 2, 3, 4, 5, 6]) returns [1, 2, 3, 4, 5, 6]\n"
   ]
  },
  {
   "cell_type": "code",
   "execution_count": 641,
   "id": "8ee86757",
   "metadata": {},
   "outputs": [],
   "source": [
    "\n",
    "#写法3：pop1:tmp定为第一个位置元素，i指针指向第二位：如果i指针上元素与tmp相同，则移除；否则tmp = i位置元素，i向后走一位\n",
    "\n",
    "def SortRm(nums):\n",
    "    if len(nums) <= 1:\n",
    "        return nums\n",
    "    tmp = nums[0]\n",
    "    i = 1\n",
    "    while i < len(nums):\n",
    "        if nums[i] == tmp:\n",
    "            nums.pop(i)\n",
    "        else:\n",
    "            tmp = nums[i]\n",
    "            i += 1\n",
    "    return nums"
   ]
  },
  {
   "cell_type": "code",
   "execution_count": 642,
   "id": "40c2ac02",
   "metadata": {},
   "outputs": [],
   "source": [
    "# Q4: Merge Two Sorted Lists:两个排好序的list合并\n",
    "# Description\n",
    "# Build a function MergeSorted which merges two sorted lists as one sorted list.\n",
    "\n",
    "# Examples\n",
    "# MergeSorted([1, 3, 5], [2, 4, 6]) returns [1, 2, 3, 4, 5, 6]\n",
    "# MergeSorted([1, 2, 3], [4, 5, 6]) returns [1, 2, 3, 4, 5, 6]"
   ]
  },
  {
   "cell_type": "code",
   "execution_count": 643,
   "id": "a5799e90",
   "metadata": {},
   "outputs": [],
   "source": [
    "#写法3：i = 0, 如果list1[0]小于list2[i]个值，则把list1[0] pop出来，插入在list2[i]值之前；否则i后移1步，指向新的list2[i]。return list2+list1。\n",
    "\n",
    "def MergeSorted(Lst1, Lst2):\n",
    "    i = 0\n",
    "    while Lst1 and i < len(Lst2):\n",
    "        if Lst1[0] <= Lst2[i]:\n",
    "            num = Lst1.pop(0)\n",
    "            Lst2.insert(i, num)\n",
    "        i += 1\n",
    "    \n",
    "    if Lst1:\n",
    "        return Lst2 + Lst1\n",
    "    \n",
    "    return Lst2"
   ]
  },
  {
   "cell_type": "code",
   "execution_count": 644,
   "id": "83e36643",
   "metadata": {},
   "outputs": [],
   "source": [
    "#Q5: Reverse List：翻转list：头尾数字对调至不能对调为止 #算法系解法\n",
    "# Build a function RevLst which reverses a list.\n",
    "# Example: RevLst([3, 1, 9, 8, 4]) -> [4, 8, 9, 1, 3]"
   ]
  },
  {
   "cell_type": "code",
   "execution_count": null,
   "id": "b1ccb62d",
   "metadata": {},
   "outputs": [],
   "source": [
    "def RevLst(nums):\n",
    "    left = 0\n",
    "    right = len(nums) - 1\n",
    "    while left < right:\n",
    "        nums[left], nums[right] = nums[right], nums[left]\n",
    "        left += 1\n",
    "        right -= 1\n",
    "    return nums"
   ]
  }
 ],
 "metadata": {
  "kernelspec": {
   "display_name": "Python 3 (ipykernel)",
   "language": "python",
   "name": "python3"
  },
  "language_info": {
   "codemirror_mode": {
    "name": "ipython",
    "version": 3
   },
   "file_extension": ".py",
   "mimetype": "text/x-python",
   "name": "python",
   "nbconvert_exporter": "python",
   "pygments_lexer": "ipython3",
   "version": "3.10.9"
  }
 },
 "nbformat": 4,
 "nbformat_minor": 5
}
