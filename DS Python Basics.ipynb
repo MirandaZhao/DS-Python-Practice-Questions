{
 "cells": [
  {
   "cell_type": "markdown",
   "id": "0a746b72",
   "metadata": {},
   "source": [
    "# Unit 1：List"
   ]
  },
  {
   "cell_type": "markdown",
   "id": "84f0a4f5",
   "metadata": {},
   "source": [
    "## 1. List1- Introduction to List"
   ]
  },
  {
   "cell_type": "code",
   "execution_count": 6,
   "id": "7333d38d",
   "metadata": {},
   "outputs": [],
   "source": [
    "#1.1: An empty list"
   ]
  },
  {
   "cell_type": "code",
   "execution_count": 9,
   "id": "6b920c1b",
   "metadata": {},
   "outputs": [],
   "source": [
    "a = []"
   ]
  },
  {
   "cell_type": "code",
   "execution_count": 11,
   "id": "d7a38ae8",
   "metadata": {},
   "outputs": [
    {
     "name": "stdout",
     "output_type": "stream",
     "text": [
      "[]\n"
     ]
    }
   ],
   "source": [
    "print(a)\n",
    "#[]"
   ]
  },
  {
   "cell_type": "code",
   "execution_count": 13,
   "id": "7361c8a8",
   "metadata": {},
   "outputs": [],
   "source": [
    "#1.2 A list of numbers"
   ]
  },
  {
   "cell_type": "code",
   "execution_count": 15,
   "id": "b73b88e4",
   "metadata": {},
   "outputs": [],
   "source": [
    "a = [1, 2, 3]"
   ]
  },
  {
   "cell_type": "code",
   "execution_count": 18,
   "id": "82598c68",
   "metadata": {},
   "outputs": [
    {
     "name": "stdout",
     "output_type": "stream",
     "text": [
      "[1, 2, 3]\n"
     ]
    }
   ],
   "source": [
    "print(a)\n",
    "#[1, 2, 3]"
   ]
  },
  {
   "cell_type": "code",
   "execution_count": 20,
   "id": "a053ed8d",
   "metadata": {},
   "outputs": [],
   "source": [
    "#1.3 A list of strings"
   ]
  },
  {
   "cell_type": "code",
   "execution_count": 22,
   "id": "51d7125a",
   "metadata": {},
   "outputs": [],
   "source": [
    "a = ['a', 'b', 'c']"
   ]
  },
  {
   "cell_type": "code",
   "execution_count": 27,
   "id": "8cdd624a",
   "metadata": {},
   "outputs": [
    {
     "name": "stdout",
     "output_type": "stream",
     "text": [
      "[1, 'a', 'b', 2, 'c']\n"
     ]
    }
   ],
   "source": [
    "print(a)\n",
    "#['a', 'b', 'c']"
   ]
  },
  {
   "cell_type": "code",
   "execution_count": 28,
   "id": "ae9f8e40",
   "metadata": {},
   "outputs": [],
   "source": [
    "#1.4 A list of many things"
   ]
  },
  {
   "cell_type": "code",
   "execution_count": 25,
   "id": "9915b2bc",
   "metadata": {},
   "outputs": [],
   "source": [
    "a = [1, 'a', 'b', 2, 'c']"
   ]
  },
  {
   "cell_type": "code",
   "execution_count": 29,
   "id": "159d180d",
   "metadata": {},
   "outputs": [
    {
     "name": "stdout",
     "output_type": "stream",
     "text": [
      "[1, 'a', 'b', 2, 'c']\n"
     ]
    }
   ],
   "source": [
    "print(a)\n",
    "#[1, 'a', 'b', 2, 'c']"
   ]
  },
  {
   "cell_type": "code",
   "execution_count": 37,
   "id": "9cfe1964",
   "metadata": {},
   "outputs": [],
   "source": [
    "a = [[{}], 1, 2, [\"a\", \"b\"], \"c\"]"
   ]
  },
  {
   "cell_type": "code",
   "execution_count": 38,
   "id": "b57f2e3b",
   "metadata": {},
   "outputs": [
    {
     "name": "stdout",
     "output_type": "stream",
     "text": [
      "[[{}], 1, 2, ['a', 'b'], 'c']\n"
     ]
    }
   ],
   "source": [
    "print(a)\n",
    "#[[], 1, 2, ['a', 'b'], 'c']"
   ]
  },
  {
   "cell_type": "code",
   "execution_count": 39,
   "id": "967c8930",
   "metadata": {},
   "outputs": [],
   "source": [
    "#小结：\n",
    "#1.python list中可以是任何元素，可以是数字，list，dictionary。\n",
    "#2.如果是list需要双括弧补齐\n",
    "#3.顺序"
   ]
  },
  {
   "cell_type": "markdown",
   "id": "4475cf19",
   "metadata": {},
   "source": [
    "## 2. Getting elements from a list\n"
   ]
  },
  {
   "cell_type": "code",
   "execution_count": 41,
   "id": "f76f6d2d",
   "metadata": {},
   "outputs": [],
   "source": [
    "#2.1 看一个元素是否在list中"
   ]
  },
  {
   "cell_type": "code",
   "execution_count": 43,
   "id": "c4b76fff",
   "metadata": {},
   "outputs": [],
   "source": [
    "a = [1, 3, 4, 5, 9]"
   ]
  },
  {
   "cell_type": "code",
   "execution_count": 45,
   "id": "30590dc2",
   "metadata": {},
   "outputs": [
    {
     "data": {
      "text/plain": [
       "True"
      ]
     },
     "execution_count": 45,
     "metadata": {},
     "output_type": "execute_result"
    }
   ],
   "source": [
    "1 in a\n",
    "#True"
   ]
  },
  {
   "cell_type": "code",
   "execution_count": 47,
   "id": "931be290",
   "metadata": {},
   "outputs": [
    {
     "data": {
      "text/plain": [
       "False"
      ]
     },
     "execution_count": 47,
     "metadata": {},
     "output_type": "execute_result"
    }
   ],
   "source": [
    "7 in a\n",
    "#False"
   ]
  },
  {
   "cell_type": "code",
   "execution_count": 49,
   "id": "6edc7927",
   "metadata": {},
   "outputs": [
    {
     "data": {
      "text/plain": [
       "False"
      ]
     },
     "execution_count": 49,
     "metadata": {},
     "output_type": "execute_result"
    }
   ],
   "source": [
    "2 in a\n",
    "#False"
   ]
  },
  {
   "cell_type": "code",
   "execution_count": 336,
   "id": "65b9dbd4",
   "metadata": {},
   "outputs": [],
   "source": [
    "#2.1.1: 是否元素在list中的函数形式\n",
    "\n",
    "#练习Q extra:\n",
    "# Whether an Element in the List\n",
    "# Description\n",
    "# Build a function IsIn to tell whether a target element in a list.\n",
    "\n",
    "# Examples\n",
    "# IsIn([1, 2, 3, 4, 5], 2) returns True\n",
    "# IsIn([1, 2, 3, 4, 5], 6) returns False"
   ]
  },
  {
   "cell_type": "code",
   "execution_count": null,
   "id": "050810a2",
   "metadata": {},
   "outputs": [],
   "source": [
    "#法1：if k in a： \n",
    "def IsIn(nums, target):\n",
    "    if target in nums:\n",
    "        return True\n",
    "    else:\n",
    "        return False\n",
    "\n",
    "#一个值在一个列表中：if a in list，return True False"
   ]
  },
  {
   "cell_type": "code",
   "execution_count": 343,
   "id": "1d0cf5d8",
   "metadata": {},
   "outputs": [],
   "source": [
    "#法2：if target in nums:\n",
    "def IsIn(nums, target):\n",
    "    return target in nums\n",
    "\n",
    "#直接return k in a，返回结果是True False                                    "
   ]
  },
  {
   "cell_type": "code",
   "execution_count": null,
   "id": "ba64c1ae",
   "metadata": {},
   "outputs": [],
   "source": [
    "#return target in nums 是一个布尔表达式，它会返回一个布尔值，即 True 或 False。#"
   ]
  },
  {
   "cell_type": "code",
   "execution_count": 57,
   "id": "7a76b25c",
   "metadata": {},
   "outputs": [
    {
     "data": {
      "text/plain": [
       "True"
      ]
     },
     "execution_count": 57,
     "metadata": {},
     "output_type": "execute_result"
    }
   ],
   "source": [
    "IsIn([1, 2, 3, 4, 5], 2)\n",
    "#True"
   ]
  },
  {
   "cell_type": "code",
   "execution_count": 59,
   "id": "345a7142",
   "metadata": {},
   "outputs": [
    {
     "data": {
      "text/plain": [
       "False"
      ]
     },
     "execution_count": 59,
     "metadata": {},
     "output_type": "execute_result"
    }
   ],
   "source": [
    "IsIn([1, 2, 3, 4, 5], 6)\n",
    "#False"
   ]
  },
  {
   "cell_type": "code",
   "execution_count": 61,
   "id": "0833fd83",
   "metadata": {},
   "outputs": [],
   "source": [
    "#2.2 用Index取需要的元素"
   ]
  },
  {
   "cell_type": "code",
   "execution_count": 63,
   "id": "50be5ff0",
   "metadata": {},
   "outputs": [],
   "source": [
    "a = [1, 2, 3, 4, 5, 6, 7]"
   ]
  },
  {
   "cell_type": "code",
   "execution_count": 65,
   "id": "b187d7cb",
   "metadata": {},
   "outputs": [
    {
     "name": "stdout",
     "output_type": "stream",
     "text": [
      "2\n"
     ]
    }
   ],
   "source": [
    "print(a[1])\n",
    "#2"
   ]
  },
  {
   "cell_type": "code",
   "execution_count": 67,
   "id": "d14293f9",
   "metadata": {},
   "outputs": [
    {
     "name": "stdout",
     "output_type": "stream",
     "text": [
      "1\n"
     ]
    }
   ],
   "source": [
    "print(a[0])\n",
    "#1"
   ]
  },
  {
   "cell_type": "code",
   "execution_count": 69,
   "id": "f9797416",
   "metadata": {},
   "outputs": [
    {
     "name": "stdout",
     "output_type": "stream",
     "text": [
      "7\n"
     ]
    }
   ],
   "source": [
    "print(a[6])\n",
    "#7"
   ]
  },
  {
   "cell_type": "code",
   "execution_count": 74,
   "id": "d17f31e6",
   "metadata": {},
   "outputs": [],
   "source": [
    "#print(a[7])\n",
    "# ---------------------------------------------------------------------------\n",
    "# IndexError                                Traceback (most recent call last)\n",
    "# Cell In[70], line 1\n",
    "# ----> 1 print(a[7])\n",
    "\n",
    "# IndexError: list index out of range"
   ]
  },
  {
   "cell_type": "code",
   "execution_count": 76,
   "id": "eeeedf2c",
   "metadata": {},
   "outputs": [],
   "source": [
    "#2.3 用负值index取元素"
   ]
  },
  {
   "cell_type": "code",
   "execution_count": 78,
   "id": "66ce9180",
   "metadata": {},
   "outputs": [],
   "source": [
    "a = [1, 2, 3, 4, 5, 6, 7]"
   ]
  },
  {
   "cell_type": "code",
   "execution_count": 80,
   "id": "e6d82319",
   "metadata": {},
   "outputs": [
    {
     "name": "stdout",
     "output_type": "stream",
     "text": [
      "7\n"
     ]
    }
   ],
   "source": [
    "print(a[-1])\n",
    "#7"
   ]
  },
  {
   "cell_type": "code",
   "execution_count": 83,
   "id": "c5b1fa19",
   "metadata": {},
   "outputs": [
    {
     "name": "stdout",
     "output_type": "stream",
     "text": [
      "6\n"
     ]
    }
   ],
   "source": [
    "print(a[-2])\n",
    "#6"
   ]
  },
  {
   "cell_type": "code",
   "execution_count": 86,
   "id": "96ed6206",
   "metadata": {},
   "outputs": [
    {
     "name": "stdout",
     "output_type": "stream",
     "text": [
      "1\n"
     ]
    }
   ],
   "source": [
    "print(a[-7])\n",
    "#1"
   ]
  },
  {
   "cell_type": "code",
   "execution_count": 89,
   "id": "007fa63f",
   "metadata": {},
   "outputs": [],
   "source": [
    "#print(a[-8])\n",
    "# ---------------------------------------------------------------------------\n",
    "# IndexError                                Traceback (most recent call last)\n",
    "# Cell In[87], line 1\n",
    "# ----> 1 print(a[-8])\n",
    "\n",
    "# IndexError: list index out of range"
   ]
  },
  {
   "cell_type": "code",
   "execution_count": 91,
   "id": "3f3f7167",
   "metadata": {},
   "outputs": [],
   "source": [
    "#2.4 Length of a list"
   ]
  },
  {
   "cell_type": "code",
   "execution_count": 94,
   "id": "cc80748b",
   "metadata": {},
   "outputs": [],
   "source": [
    "a = [1, 2, 3, 4, 5, 6, 7]"
   ]
  },
  {
   "cell_type": "code",
   "execution_count": 98,
   "id": "763dc62b",
   "metadata": {},
   "outputs": [
    {
     "name": "stdout",
     "output_type": "stream",
     "text": [
      "7\n"
     ]
    }
   ],
   "source": [
    "print(len(a))\n",
    "#7"
   ]
  },
  {
   "cell_type": "code",
   "execution_count": 102,
   "id": "30e9db1b",
   "metadata": {},
   "outputs": [
    {
     "data": {
      "text/plain": [
       "7"
      ]
     },
     "execution_count": 102,
     "metadata": {},
     "output_type": "execute_result"
    }
   ],
   "source": [
    "a[len(a) - 1]\n",
    "#在a中取第六个元素，即7\n",
    "#7"
   ]
  },
  {
   "cell_type": "code",
   "execution_count": 105,
   "id": "6cfba074",
   "metadata": {},
   "outputs": [],
   "source": [
    "#a(len(a))\n",
    "##在a中取第七个元素，out of list\n",
    "# ---------------------------------------------------------------------------\n",
    "# TypeError                                 Traceback (most recent call last)\n",
    "# Cell In[103], line 1\n",
    "# ----> 1 a(len(a))\n",
    "\n",
    "# TypeError: 'list' object is not callable"
   ]
  },
  {
   "cell_type": "code",
   "execution_count": 107,
   "id": "bfe1e62b",
   "metadata": {},
   "outputs": [],
   "source": [
    "#2.5 在list中进行slicing\n",
    "#包括括号前位置的元素，不包括括号后位置的元素\n",
    "#step"
   ]
  },
  {
   "cell_type": "code",
   "execution_count": 109,
   "id": "77083cc2",
   "metadata": {},
   "outputs": [],
   "source": [
    "a = [1, 2, 3, 4, 5, 6, 7]"
   ]
  },
  {
   "cell_type": "code",
   "execution_count": 111,
   "id": "89248171",
   "metadata": {},
   "outputs": [
    {
     "name": "stdout",
     "output_type": "stream",
     "text": [
      "[3]\n"
     ]
    }
   ],
   "source": [
    "print(a[2:3])\n",
    "#[3]"
   ]
  },
  {
   "cell_type": "code",
   "execution_count": 113,
   "id": "e3fd56c4",
   "metadata": {},
   "outputs": [
    {
     "name": "stdout",
     "output_type": "stream",
     "text": [
      "[]\n"
     ]
    }
   ],
   "source": [
    "print(a[2:2])\n",
    "#[]"
   ]
  },
  {
   "cell_type": "code",
   "execution_count": 115,
   "id": "24fe5b77",
   "metadata": {},
   "outputs": [
    {
     "name": "stdout",
     "output_type": "stream",
     "text": [
      "[3, 4, 5, 6]\n"
     ]
    }
   ],
   "source": [
    "print(a[2:6])\n",
    "#[3, 4, 5, 6]"
   ]
  },
  {
   "cell_type": "code",
   "execution_count": 117,
   "id": "1084800b",
   "metadata": {},
   "outputs": [
    {
     "name": "stdout",
     "output_type": "stream",
     "text": [
      "[3, 5]\n"
     ]
    }
   ],
   "source": [
    "print(a[2:6:2])\n",
    "#[3, 5]"
   ]
  },
  {
   "cell_type": "code",
   "execution_count": 119,
   "id": "698cf7d5",
   "metadata": {},
   "outputs": [
    {
     "name": "stdout",
     "output_type": "stream",
     "text": [
      "[3, 4, 5, 6]\n"
     ]
    }
   ],
   "source": [
    "print(a[2:6:1])\n",
    "#[3, 4, 5, 6]"
   ]
  },
  {
   "cell_type": "code",
   "execution_count": 120,
   "id": "56dabddf",
   "metadata": {},
   "outputs": [],
   "source": [
    "#2.6 从负值取元素"
   ]
  },
  {
   "cell_type": "code",
   "execution_count": 123,
   "id": "12217352",
   "metadata": {},
   "outputs": [],
   "source": [
    "a = [1, 2, 3, 4, 5, 6, 7]"
   ]
  },
  {
   "cell_type": "code",
   "execution_count": 125,
   "id": "6cbe4fb9",
   "metadata": {},
   "outputs": [
    {
     "name": "stdout",
     "output_type": "stream",
     "text": [
      "[]\n"
     ]
    }
   ],
   "source": [
    "print(a[6:2])               #???"
   ]
  },
  {
   "cell_type": "code",
   "execution_count": 127,
   "id": "cbb103ce",
   "metadata": {},
   "outputs": [
    {
     "name": "stdout",
     "output_type": "stream",
     "text": [
      "[7, 6, 5, 4]\n"
     ]
    }
   ],
   "source": [
    "#-1从后往前取\n",
    "print(a[6:2:-1])\n",
    "#[7, 6, 5, 4]"
   ]
  },
  {
   "cell_type": "code",
   "execution_count": 129,
   "id": "1c85ae62",
   "metadata": {},
   "outputs": [
    {
     "name": "stdout",
     "output_type": "stream",
     "text": [
      "[1, 2, 3, 4, 5, 6, 7]\n"
     ]
    }
   ],
   "source": [
    "print(a[:])\n",
    "#[1, 2, 3, 4, 5, 6, 7]"
   ]
  },
  {
   "cell_type": "code",
   "execution_count": 131,
   "id": "768c0734",
   "metadata": {},
   "outputs": [
    {
     "name": "stdout",
     "output_type": "stream",
     "text": [
      "[1, 2, 3, 4, 5, 6, 7]\n"
     ]
    }
   ],
   "source": [
    "print(a[::])\n",
    "#[1, 2, 3, 4, 5, 6, 7]"
   ]
  },
  {
   "cell_type": "code",
   "execution_count": 133,
   "id": "d7502bbf",
   "metadata": {},
   "outputs": [
    {
     "name": "stdout",
     "output_type": "stream",
     "text": [
      "[7, 6, 5, 4, 3, 2, 1]\n"
     ]
    }
   ],
   "source": [
    "#::-1 从后往前取\n",
    "print(a[::-1])\n",
    "#[7, 6, 5, 4, 3, 2, 1]"
   ]
  },
  {
   "cell_type": "code",
   "execution_count": 134,
   "id": "90f9b3cf",
   "metadata": {},
   "outputs": [
    {
     "name": "stdout",
     "output_type": "stream",
     "text": [
      "[1, 2, 3, 4, 5, 6]\n"
     ]
    }
   ],
   "source": [
    "#:-1 从开始取到倒数第二个数\n",
    "print(a[:-1])\n",
    "#[1, 2, 3, 4, 5, 6]"
   ]
  },
  {
   "cell_type": "markdown",
   "id": "d9e580d3",
   "metadata": {},
   "source": [
    "## 3. Constructing a list"
   ]
  },
  {
   "cell_type": "code",
   "execution_count": 135,
   "id": "5d387dc9",
   "metadata": {},
   "outputs": [],
   "source": [
    "#3.1 For Loop"
   ]
  },
  {
   "cell_type": "code",
   "execution_count": 140,
   "id": "587bf44b",
   "metadata": {},
   "outputs": [],
   "source": [
    "#把所有值append到for loop上\n",
    "a = []\n",
    "for i in range(10):\n",
    "    a.append(i)"
   ]
  },
  {
   "cell_type": "code",
   "execution_count": 141,
   "id": "f91b9fef",
   "metadata": {},
   "outputs": [
    {
     "name": "stdout",
     "output_type": "stream",
     "text": [
      "[0, 1, 2, 3, 4, 5, 6, 7, 8, 9]\n"
     ]
    }
   ],
   "source": [
    "print(a)\n",
    "#[0, 1, 2, 3, 4, 5, 6, 7, 8, 9]"
   ]
  },
  {
   "cell_type": "code",
   "execution_count": 144,
   "id": "11c20b96",
   "metadata": {},
   "outputs": [
    {
     "name": "stdout",
     "output_type": "stream",
     "text": [
      "[0, 2, 4, 6, 8, 10, 12, 14, 16, 18]\n"
     ]
    }
   ],
   "source": [
    "#i * 2：把所有值都乘以2\n",
    "a = []\n",
    "for i in range(10):\n",
    "    a.append(i * 2)\n",
    "print(a)\n",
    "#[0, 2, 4, 6, 8, 10, 12, 14, 16, 18]"
   ]
  },
  {
   "cell_type": "code",
   "execution_count": 157,
   "id": "c9daddd3",
   "metadata": {},
   "outputs": [],
   "source": [
    "#练习1：返回一个数列\n",
    "#build a function ListConstr which takes two integers (i and j)as inputs \n",
    "#and returns a list of numbers from i to j\n",
    "\n",
    "def LstConstr(i, j):\n",
    "    a = []\n",
    "    for k in range(i, j+1):\n",
    "        a.append(k)\n",
    "    return a"
   ]
  },
  {
   "cell_type": "code",
   "execution_count": 158,
   "id": "4a7468e2",
   "metadata": {},
   "outputs": [
    {
     "data": {
      "text/plain": [
       "[1, 2, 3, 4, 5]"
      ]
     },
     "execution_count": 158,
     "metadata": {},
     "output_type": "execute_result"
    }
   ],
   "source": [
    "LstConstr(1,5)\n",
    "#[1, 2, 3, 4, 5]"
   ]
  },
  {
   "cell_type": "code",
   "execution_count": 159,
   "id": "367527ae",
   "metadata": {},
   "outputs": [],
   "source": [
    "#练习2：返回奇数\n",
    "#build a function OddNums which takes two integers(i and j) as inputs\n",
    "#and returns a list of ODD numbers between i and j inclusively"
   ]
  },
  {
   "cell_type": "code",
   "execution_count": 163,
   "id": "3e05f786",
   "metadata": {},
   "outputs": [],
   "source": [
    "#def后；for后；if后 都有：\n",
    "def OddNums(i, j):\n",
    "    a = []\n",
    "    for k in range(i, j+1):\n",
    "        if k % 2 != 0:              #k是奇数\n",
    "            a.append(k)\n",
    "    return a\n",
    "\n",
    "#注意：\n",
    "#①：先建立一个空集a，如果是奇数，append到a中，最后return a\n",
    "#②：if k % 2 !=0 后面要加：\n",
    "#③：append的写法：list.append(num)"
   ]
  },
  {
   "cell_type": "code",
   "execution_count": 168,
   "id": "7aac2f54",
   "metadata": {},
   "outputs": [
    {
     "data": {
      "text/plain": [
       "[3, 5]"
      ]
     },
     "execution_count": 168,
     "metadata": {},
     "output_type": "execute_result"
    }
   ],
   "source": [
    "OddNums(2, 6)\n",
    "#[3, 5]"
   ]
  },
  {
   "cell_type": "code",
   "execution_count": 187,
   "id": "d983bd68",
   "metadata": {},
   "outputs": [],
   "source": [
    "#练习3：Fibonacci List：斐波纳契数列：后一个数是前两个数之和\n",
    "#build a function FibLst which takes an integer n as input \n",
    "#and returns an n-element Fibonacci List.\n",
    "#If n is less than 1, returns -1\n",
    "#0, 1, 1, 2, 3, 5, 8, 13, 21, 34\n",
    "\n",
    "# def Fibonacci(0, n+1):\n",
    "#     a = []\n",
    "#     for k in n:\n",
    "#         k = k[n-1] + k[n]\n",
    "#     return k\n",
    "# Fibonacci(5)"
   ]
  },
  {
   "cell_type": "code",
   "execution_count": 194,
   "id": "8311c38d",
   "metadata": {},
   "outputs": [
    {
     "data": {
      "text/plain": [
       "[0, 1, 1, 2]"
      ]
     },
     "execution_count": 194,
     "metadata": {},
     "output_type": "execute_result"
    }
   ],
   "source": [
    "def Fibonacci(n):\n",
    "    if n < 1:\n",
    "        return -1\n",
    "    a = []\n",
    "    for i in range(n):\n",
    "        if i == 0:\n",
    "            a.append(0)\n",
    "        elif i == 1:\n",
    "            a.append(1)\n",
    "        else:\n",
    "            a.append(a[i - 1] + a[i - 2])\n",
    "    return a\n",
    "\n",
    "#①：建立空list a，对于所有range(n)内的值i，如果是0，则赋值0，如果是1，则赋值1，否则赋值前两个数相加，最后return a\n",
    "#②：if n < 1的edge case, 和for loop是对齐的。\n",
    "#③：for loop下的if, elif, else分类讨论，else后不需要再写n>1等解释；elif不能写成if。\n",
    "#④：判断用==，不能写成=\n",
    "#⑤将每个数房间list用list.append()。如果加0/1直接赋值，就在括弧里写0/1。如果加前两数就写a[i-1]+a[i-2]。\n",
    "#⑥return与for loop进行对齐\n",
    "\n",
    "Fibonacci(1) \n",
    "#i in range(1) i = 0      #[0]\n",
    "Fibonacci(2) \n",
    "#i in range(2) i = 0,1    #[0, 1]\n",
    "Fibonacci(3) \n",
    "#i in range(3) i = 0,1,2  a[1]+a[0]=1 #[0, 1, 1]\n",
    "Fibonacci(4)\n",
    "#i in range(4) i = 0,1,2,3 a[1]+a[0]=1 a[2]+a[1]=2 #[0, 1, 1, 2]"
   ]
  },
  {
   "cell_type": "code",
   "execution_count": 205,
   "id": "96d2fb3d",
   "metadata": {},
   "outputs": [],
   "source": [
    "#3.2 List Comprehension"
   ]
  },
  {
   "cell_type": "code",
   "execution_count": 207,
   "id": "61a8b3b5",
   "metadata": {},
   "outputs": [
    {
     "name": "stdout",
     "output_type": "stream",
     "text": [
      "[0, 2, 4, 6, 8, 10, 12, 14, 16, 18]\n"
     ]
    }
   ],
   "source": [
    "a = []\n",
    "for i in range(10):\n",
    "    a.append(i*2)\n",
    "print(a)\n",
    "#i: [0, 1, 2, 3, 4, 5, 6, 7, 8, 9]\n",
    "#i*2: [0, 2, 4, 6, 8, 10, 12, 14, 16, 18]"
   ]
  },
  {
   "cell_type": "code",
   "execution_count": 199,
   "id": "1bde4721",
   "metadata": {},
   "outputs": [],
   "source": [
    "a = [i for i in range(10)]"
   ]
  },
  {
   "cell_type": "code",
   "execution_count": 201,
   "id": "0e850e8a",
   "metadata": {},
   "outputs": [
    {
     "name": "stdout",
     "output_type": "stream",
     "text": [
      "[0, 1, 2, 3, 4, 5, 6, 7, 8, 9]\n"
     ]
    }
   ],
   "source": [
    "print(a)\n",
    "#[0, 1, 2, 3, 4, 5, 6, 7, 8, 9]"
   ]
  },
  {
   "cell_type": "code",
   "execution_count": 203,
   "id": "a327a259",
   "metadata": {},
   "outputs": [],
   "source": [
    "a = [i * 2 for i in range(10)]"
   ]
  },
  {
   "cell_type": "code",
   "execution_count": 208,
   "id": "abfe2ec7",
   "metadata": {},
   "outputs": [
    {
     "name": "stdout",
     "output_type": "stream",
     "text": [
      "[0, 2, 4, 6, 8, 10, 12, 14, 16, 18]\n"
     ]
    }
   ],
   "source": [
    "print(a)\n",
    "#[0, 2, 4, 6, 8, 10, 12, 14, 16, 18]"
   ]
  },
  {
   "cell_type": "code",
   "execution_count": 209,
   "id": "8d64f65a",
   "metadata": {},
   "outputs": [],
   "source": [
    "#练习4：i j之间数值\n",
    "#build a function LstConstr which takes two integers(i and j) as inputs\n",
    "#and returns a list of numbers from i to j."
   ]
  },
  {
   "cell_type": "code",
   "execution_count": 211,
   "id": "bb5c1d61",
   "metadata": {},
   "outputs": [],
   "source": [
    "def LstConstr2(i, j):\n",
    "    return [k for k in range(i, j+1)]\n",
    "\n",
    "#①注意要有k作为中间变量\n",
    "#要有中括弧囊括return内容"
   ]
  },
  {
   "cell_type": "code",
   "execution_count": 213,
   "id": "77852b0e",
   "metadata": {},
   "outputs": [
    {
     "data": {
      "text/plain": [
       "[1, 2, 3]"
      ]
     },
     "execution_count": 213,
     "metadata": {},
     "output_type": "execute_result"
    }
   ],
   "source": [
    "LstConstr2(1,3)\n",
    "#[1, 2, 3]"
   ]
  },
  {
   "cell_type": "code",
   "execution_count": 215,
   "id": "5e03192b",
   "metadata": {},
   "outputs": [],
   "source": [
    "def LstConstr3(i, j):\n",
    "    return list(range(i, j + 1))"
   ]
  },
  {
   "cell_type": "code",
   "execution_count": 219,
   "id": "7561e01b",
   "metadata": {},
   "outputs": [
    {
     "data": {
      "text/plain": [
       "[1, 2, 3]"
      ]
     },
     "execution_count": 219,
     "metadata": {},
     "output_type": "execute_result"
    }
   ],
   "source": [
    "LstConstr3(1,3)\n",
    "#[1, 2, 3]"
   ]
  },
  {
   "cell_type": "code",
   "execution_count": 220,
   "id": "4adf7e4e",
   "metadata": {},
   "outputs": [],
   "source": [
    "#只返奇数\n",
    "def LstConstr4(i, j):\n",
    "    return [k for k in range(i, j + 1) if k % 2 != 0]"
   ]
  },
  {
   "cell_type": "code",
   "execution_count": 222,
   "id": "9364c382",
   "metadata": {},
   "outputs": [
    {
     "data": {
      "text/plain": [
       "[1, 3]"
      ]
     },
     "execution_count": 222,
     "metadata": {},
     "output_type": "execute_result"
    }
   ],
   "source": [
    "LstConstr4(1,3)\n",
    "#[1, 3]"
   ]
  },
  {
   "cell_type": "code",
   "execution_count": 335,
   "id": "abb8ee58",
   "metadata": {},
   "outputs": [],
   "source": [
    "#练习5：C2F:\n",
    "#build a function C2F which converts a lit of temeratures \n",
    "#in degreees from Celsius to Fahrenheit"
   ]
  },
  {
   "cell_type": "code",
   "execution_count": null,
   "id": "dfed56cf",
   "metadata": {},
   "outputs": [],
   "source": [
    "#①ax + b for C in Cs写法：\n",
    "def C2F(Cs):\n",
    "    return [C * 1.8 + 32 for C in Cs]\n",
    "\n",
    "#为什么必须加[]：\n",
    "#在给定的代码中，方括号[]用于创建列表推导式（list comprehension）。\n",
    "#列表推导式是一种简洁的方式，通过迭代现有可迭代对象（在这种情况下是列表Cs）并对每个元素应用表达式，来创建一个新的列表。\n",
    "#[]是一个列表推导式，它通过迭代输入列表Cs中的每个元素C*1.8+32，并将结果添加到新列表中。方括号将列表推导式括起来，并指示结果应该是一个列表。"
   ]
  },
  {
   "cell_type": "code",
   "execution_count": null,
   "id": "f8d0483a",
   "metadata": {},
   "outputs": [],
   "source": [
    "#②用for loop写法：\n",
    "def C2F(Cs):\n",
    "    a = []\n",
    "    for C in Cs:\n",
    "        F = C * 1.8 + 32\n",
    "        a.append(F)\n",
    "    return a"
   ]
  },
  {
   "cell_type": "code",
   "execution_count": 334,
   "id": "69292e53",
   "metadata": {},
   "outputs": [],
   "source": [
    "def C2F(Cs):\n",
    "    result = []\n",
    "    for C in Cs:\n",
    "        Fahrenheit = C * 1.8 + 32\n",
    "        result.append(Fahrenheit)\n",
    "    return result"
   ]
  },
  {
   "cell_type": "code",
   "execution_count": 232,
   "id": "94395959",
   "metadata": {},
   "outputs": [
    {
     "data": {
      "text/plain": [
       "[32.0, 100.4]"
      ]
     },
     "execution_count": 232,
     "metadata": {},
     "output_type": "execute_result"
    }
   ],
   "source": [
    "C2F([0, 38])\n",
    "#[32.0, 100.4]"
   ]
  },
  {
   "cell_type": "code",
   "execution_count": 235,
   "id": "853c5b52",
   "metadata": {},
   "outputs": [],
   "source": [
    "#3.3 Concatenate 不同lists"
   ]
  },
  {
   "cell_type": "code",
   "execution_count": 237,
   "id": "ae40d28b",
   "metadata": {},
   "outputs": [
    {
     "name": "stdout",
     "output_type": "stream",
     "text": [
      "[0, 1, 2, 3, 4, 5, 6, 7, 8, 9]\n"
     ]
    }
   ],
   "source": [
    "a = [i for i in range(10)]\n",
    "print(a)\n",
    "#[0, 1, 2, 3, 4, 5, 6, 7, 8, 9]"
   ]
  },
  {
   "cell_type": "code",
   "execution_count": 240,
   "id": "937d0ecc",
   "metadata": {},
   "outputs": [
    {
     "name": "stdout",
     "output_type": "stream",
     "text": [
      "[0, 2, 4, 6, 8, 10, 12, 14, 16, 18]\n"
     ]
    }
   ],
   "source": [
    "b = [i * 2 for i in range(10)]\n",
    "print(b)\n",
    "#[0, 2, 4, 6, 8, 10, 12, 14, 16, 18]"
   ]
  },
  {
   "cell_type": "code",
   "execution_count": 245,
   "id": "116d62ff",
   "metadata": {},
   "outputs": [
    {
     "name": "stdout",
     "output_type": "stream",
     "text": [
      "[0, 1, 2, 3, 4, 5, 6, 7, 8, 9, 0, 2, 4, 6, 8, 10, 12, 14, 16, 18]\n"
     ]
    }
   ],
   "source": [
    "c = a + b\n",
    "print(c)\n",
    "#[0, 2, 4, 6, 8, 10, 12, 14, 16, 18, 0, 1, 2, 3, 4, 5, 6, 7, 8, 9]"
   ]
  },
  {
   "cell_type": "code",
   "execution_count": 246,
   "id": "99860767",
   "metadata": {},
   "outputs": [
    {
     "data": {
      "text/plain": [
       "[0, 3, 6, 9, 12, 15, 18, 21, 24, 27]"
      ]
     },
     "execution_count": 246,
     "metadata": {},
     "output_type": "execute_result"
    }
   ],
   "source": [
    "[x + y for x, y in zip(a, b)]\n",
    "#[0, 3, 6, 9, 12, 15, 18, 21, 24, 27]"
   ]
  },
  {
   "cell_type": "code",
   "execution_count": 340,
   "id": "766e9aaf",
   "metadata": {},
   "outputs": [],
   "source": [
    "#练习6：sperate numbers：分开奇偶数\n",
    "#build a function SepNum which extracts the odd numbers from a given list\n",
    "#and append the odd numbers at the end of the list\n"
   ]
  },
  {
   "cell_type": "code",
   "execution_count": null,
   "id": "d679dde6",
   "metadata": {},
   "outputs": [],
   "source": [
    "def SepNum(nums):\n",
    "    odds = []\n",
    "    evens = []\n",
    "    for num in nums:\n",
    "        if num % 2 == 0:          #放偶数\n",
    "            evens.append(num)\n",
    "        else:                     #放奇数\n",
    "            odds.append(num)\n",
    "    return evens + odds\n",
    "\n",
    "#①：分别建立偶数空集和奇数空集，对于在nums中的num，如果除以2余数为0，append到偶数集，否则奇数集。\n",
    "#②：for数字在列表中，可以写for num in nums。\n",
    "#③：两个list相连直接相加即可\n",
    "#④：在if 和else后分别进行append操作，return两个list相连与 for loop对齐。"
   ]
  },
  {
   "cell_type": "code",
   "execution_count": 249,
   "id": "9c38f14f",
   "metadata": {},
   "outputs": [
    {
     "data": {
      "text/plain": [
       "[2, 4, 6, 1, 3, 5]"
      ]
     },
     "execution_count": 249,
     "metadata": {},
     "output_type": "execute_result"
    }
   ],
   "source": [
    "SepNum([1, 2, 3, 4, 5, 6])\n",
    "#[2, 4, 6, 1, 3, 5]"
   ]
  },
  {
   "cell_type": "markdown",
   "id": "19a2c4cb",
   "metadata": {},
   "source": [
    "## 4. Sorting a list"
   ]
  },
  {
   "cell_type": "code",
   "execution_count": 250,
   "id": "d4f0c150",
   "metadata": {},
   "outputs": [],
   "source": [
    "#4.1 \n",
    "#.sort：正向从小到大\n",
    "#.sort(reverse = True)：反向从大到小"
   ]
  },
  {
   "cell_type": "code",
   "execution_count": 251,
   "id": "e3419744",
   "metadata": {},
   "outputs": [],
   "source": [
    "a = [1, 3, 2, 7, 5]"
   ]
  },
  {
   "cell_type": "code",
   "execution_count": 252,
   "id": "ab6b56e4",
   "metadata": {},
   "outputs": [],
   "source": [
    "a.sort()"
   ]
  },
  {
   "cell_type": "code",
   "execution_count": 261,
   "id": "5ef2460c",
   "metadata": {},
   "outputs": [
    {
     "name": "stdout",
     "output_type": "stream",
     "text": [
      "[1, 3, 2, 7, 5]\n"
     ]
    }
   ],
   "source": [
    "print(a)\n",
    "#[1, 2, 3, 5, 7]"
   ]
  },
  {
   "cell_type": "code",
   "execution_count": 263,
   "id": "6dda8b21",
   "metadata": {},
   "outputs": [],
   "source": [
    "a.sort(reverse = True)"
   ]
  },
  {
   "cell_type": "code",
   "execution_count": 264,
   "id": "5913c10e",
   "metadata": {},
   "outputs": [
    {
     "name": "stdout",
     "output_type": "stream",
     "text": [
      "[7, 5, 3, 2, 1]\n"
     ]
    }
   ],
   "source": [
    "print(a)\n",
    "#[7, 5, 3, 2, 1]"
   ]
  },
  {
   "cell_type": "code",
   "execution_count": 255,
   "id": "04920487",
   "metadata": {},
   "outputs": [],
   "source": [
    "#4.2 \n",
    "# sorted(list)效果等同于list.sort，区别在于list.sort后sort改变，而sorted(list)后sort没有改变\n",
    "# b = sorted(a)，b改变，a没有改变"
   ]
  },
  {
   "cell_type": "code",
   "execution_count": 256,
   "id": "b6fae910",
   "metadata": {},
   "outputs": [],
   "source": [
    "a = [1, 3, 2, 7, 5]"
   ]
  },
  {
   "cell_type": "code",
   "execution_count": 266,
   "id": "9b15e956",
   "metadata": {},
   "outputs": [
    {
     "data": {
      "text/plain": [
       "[1, 2, 3, 5, 7]"
      ]
     },
     "execution_count": 266,
     "metadata": {},
     "output_type": "execute_result"
    }
   ],
   "source": [
    "sorted(a)\n",
    "#[1, 2, 3, 5, 7]"
   ]
  },
  {
   "cell_type": "code",
   "execution_count": 267,
   "id": "a5f81422",
   "metadata": {},
   "outputs": [
    {
     "name": "stdout",
     "output_type": "stream",
     "text": [
      "[7, 5, 3, 2, 1]\n"
     ]
    }
   ],
   "source": [
    "print(a)\n",
    "#[7, 5, 3, 2, 1]"
   ]
  },
  {
   "cell_type": "code",
   "execution_count": 268,
   "id": "06967c8f",
   "metadata": {},
   "outputs": [],
   "source": [
    "b = sorted(a)"
   ]
  },
  {
   "cell_type": "code",
   "execution_count": 270,
   "id": "8745d819",
   "metadata": {
    "scrolled": true
   },
   "outputs": [
    {
     "name": "stdout",
     "output_type": "stream",
     "text": [
      "[1, 2, 3, 5, 7]\n"
     ]
    }
   ],
   "source": [
    "print(b)\n",
    "#[1, 2, 3, 5, 7]"
   ]
  },
  {
   "cell_type": "code",
   "execution_count": 281,
   "id": "c7422bc1",
   "metadata": {},
   "outputs": [
    {
     "data": {
      "text/plain": [
       "[1, 2, 3, 4, 4, 5]"
      ]
     },
     "execution_count": 281,
     "metadata": {},
     "output_type": "execute_result"
    }
   ],
   "source": [
    "#练习7：\n",
    "#build a function SortLst which sorts a list. use built-in function\n",
    "def SortLst(nums):\n",
    "    return sorted(nums)\n",
    "SortLst([4, 2, 1, 3, 4, 5])\n",
    "#[1, 2, 3, 4, 4, 5]"
   ]
  },
  {
   "cell_type": "code",
   "execution_count": 282,
   "id": "7f85ff81",
   "metadata": {},
   "outputs": [
    {
     "data": {
      "text/plain": [
       "[1, 3, 7]"
      ]
     },
     "execution_count": 282,
     "metadata": {},
     "output_type": "execute_result"
    }
   ],
   "source": [
    "#practice：\n",
    "def SortLst(a):\n",
    "    a = sorted(a)  #为什么写a = a.sort()就不可以？\n",
    "    return a\n",
    "SortLst([1, 7, 3])\n",
    "#[1, 3, 7]"
   ]
  },
  {
   "cell_type": "code",
   "execution_count": 283,
   "id": "aa4de014",
   "metadata": {},
   "outputs": [],
   "source": [
    "#练习8：在sorted list加入一个值：append值后sorted(list)\n",
    "def NumInsert(nums, target):\n",
    "    nums.append(target)\n",
    "    return sorted(nums)"
   ]
  },
  {
   "cell_type": "code",
   "execution_count": 285,
   "id": "bbd0a310",
   "metadata": {},
   "outputs": [
    {
     "data": {
      "text/plain": [
       "[1, 2, 3, 3, 4, 5, 6]"
      ]
     },
     "execution_count": 285,
     "metadata": {},
     "output_type": "execute_result"
    }
   ],
   "source": [
    "NumInsert([1, 2, 3, 4, 5, 6], 3)\n",
    "#[1, 2, 3, 3, 4, 5, 6]"
   ]
  },
  {
   "cell_type": "code",
   "execution_count": 286,
   "id": "d821b128",
   "metadata": {},
   "outputs": [],
   "source": [
    "#练习8：merge two sorted lists\n",
    "#build a function mergesorted which merges two sorted lists as one sorted list\n",
    "def MergeSorted(Lst1, Lst2):\n",
    "    return sorted(Lst1 + Lst2)"
   ]
  },
  {
   "cell_type": "code",
   "execution_count": 289,
   "id": "69d6d1fa",
   "metadata": {},
   "outputs": [
    {
     "data": {
      "text/plain": [
       "[1, 2, 3, 4, 5, 6]"
      ]
     },
     "execution_count": 289,
     "metadata": {},
     "output_type": "execute_result"
    }
   ],
   "source": [
    "MergeSorted([1, 3, 5], [2, 4, 6])\n",
    "#[1, 2, 3, 4, 5, 6]"
   ]
  },
  {
   "cell_type": "code",
   "execution_count": 290,
   "id": "c067b73e",
   "metadata": {},
   "outputs": [],
   "source": [
    "#4.3 sort a list of lists"
   ]
  },
  {
   "cell_type": "code",
   "execution_count": 301,
   "id": "e1107e98",
   "metadata": {},
   "outputs": [],
   "source": [
    "a = [[4,2], [5,1], [2,4], [3,0]]"
   ]
  },
  {
   "cell_type": "code",
   "execution_count": null,
   "id": "ece64689",
   "metadata": {},
   "outputs": [],
   "source": [
    "#sorted(list) 按照第一个值sort 从小到大\n",
    "sorted(a)\n",
    "#[[2, 4], [3, 0], [4, 2], [5, 1]]"
   ]
  },
  {
   "cell_type": "code",
   "execution_count": 294,
   "id": "21779735",
   "metadata": {},
   "outputs": [
    {
     "data": {
      "text/plain": [
       "[[5, 1], [4, 2], [3, 0], [2, 4]]"
      ]
     },
     "execution_count": 294,
     "metadata": {},
     "output_type": "execute_result"
    }
   ],
   "source": [
    "#从大到小\n",
    "sorted(a, reverse = True)\n",
    "#[[5, 1], [4, 2], [3, 0], [2, 4]]"
   ]
  },
  {
   "cell_type": "code",
   "execution_count": 296,
   "id": "8b7f52c7",
   "metadata": {},
   "outputs": [
    {
     "data": {
      "text/plain": [
       "[[2, 4], [3, 0], [4, 2], [5, 1]]"
      ]
     },
     "execution_count": 296,
     "metadata": {},
     "output_type": "execute_result"
    }
   ],
   "source": [
    "#lambda define function\n",
    "#在a里面按照index = 0的元素，sort的是这个list中的第一个元素\n",
    "sorted(a, key = lambda x:x[0])\n",
    "#[[2, 4], [3, 0], [4, 2], [5, 1]]"
   ]
  },
  {
   "cell_type": "code",
   "execution_count": 298,
   "id": "db7f7b75",
   "metadata": {},
   "outputs": [
    {
     "data": {
      "text/plain": [
       "[[3, 0], [5, 1], [4, 2], [2, 4]]"
      ]
     },
     "execution_count": 298,
     "metadata": {},
     "output_type": "execute_result"
    }
   ],
   "source": [
    "#按第二位元素，从小到大sort\n",
    "sorted(a, key = lambda x:x[1])\n",
    "#[[3, 0], [5, 1], [4, 2], [2, 4]]"
   ]
  },
  {
   "cell_type": "code",
   "execution_count": 302,
   "id": "c75916e6",
   "metadata": {},
   "outputs": [
    {
     "data": {
      "text/plain": [
       "[[5, 1], [4, 2], [3, 0], [2, 4]]"
      ]
     },
     "execution_count": 302,
     "metadata": {},
     "output_type": "execute_result"
    }
   ],
   "source": [
    "#按第二位元素，从大到小sort\n",
    "sorted(a, key = lambda x:x[0], reverse = True)\n",
    "#[[5, 1], [4, 2], [3, 0], [2, 4]]"
   ]
  },
  {
   "cell_type": "code",
   "execution_count": 304,
   "id": "b366756d",
   "metadata": {},
   "outputs": [],
   "source": [
    "#练习9：sort list of lists 将一个包含list的list排序\n",
    "#build a function SortLL which sorts a list of lists by their last elements"
   ]
  },
  {
   "cell_type": "code",
   "execution_count": 306,
   "id": "f148446c",
   "metadata": {},
   "outputs": [],
   "source": [
    "def SortLL(Lsts):\n",
    "    return sorted(Lsts, key = lambda x:x[-1])"
   ]
  },
  {
   "cell_type": "code",
   "execution_count": 308,
   "id": "9b8534d5",
   "metadata": {},
   "outputs": [
    {
     "data": {
      "text/plain": [
       "[[3], [2, 4], [1, 3, 5], [9, 7]]"
      ]
     },
     "execution_count": 308,
     "metadata": {},
     "output_type": "execute_result"
    }
   ],
   "source": [
    "SortLL([[1, 3, 5], [2, 4], [9, 7], [3]])\n",
    "#[[3], [2, 4], [1, 3, 5], [9, 7]]\n",
    "#按最后一个元素，3,4,5,7的顺序从小到大排序"
   ]
  },
  {
   "cell_type": "markdown",
   "id": "3e163f13",
   "metadata": {},
   "source": [
    "## 5. Reversing a list"
   ]
  },
  {
   "cell_type": "code",
   "execution_count": null,
   "id": "5e0c857e",
   "metadata": {},
   "outputs": [],
   "source": [
    "#完成reverse：\n",
    "#①list.reverse()\n",
    "#②list[::-1]"
   ]
  },
  {
   "cell_type": "code",
   "execution_count": 332,
   "id": "6fac9393",
   "metadata": {},
   "outputs": [],
   "source": [
    "a = [1, 3, 2, 7, 5]"
   ]
  },
  {
   "cell_type": "code",
   "execution_count": 312,
   "id": "a775f4fc",
   "metadata": {},
   "outputs": [],
   "source": [
    "a.reverse()"
   ]
  },
  {
   "cell_type": "code",
   "execution_count": 314,
   "id": "cc94a769",
   "metadata": {},
   "outputs": [
    {
     "name": "stdout",
     "output_type": "stream",
     "text": [
      "[5, 7, 2, 3, 1]\n"
     ]
    }
   ],
   "source": [
    "print(a)\n",
    "#[5, 7, 2, 3, 1]"
   ]
  },
  {
   "cell_type": "code",
   "execution_count": 321,
   "id": "8b351180",
   "metadata": {},
   "outputs": [],
   "source": [
    "a = a[::-1]"
   ]
  },
  {
   "cell_type": "code",
   "execution_count": 323,
   "id": "817d8d79",
   "metadata": {},
   "outputs": [
    {
     "name": "stdout",
     "output_type": "stream",
     "text": [
      "[5, 7, 2, 3, 1]\n"
     ]
    }
   ],
   "source": [
    "print(a)\n",
    "#[5, 7, 2, 3, 1]"
   ]
  },
  {
   "cell_type": "code",
   "execution_count": 324,
   "id": "5a4f9acb",
   "metadata": {},
   "outputs": [],
   "source": [
    "#练习10：反转list\n",
    "#build a function RevLst which reverse a list"
   ]
  },
  {
   "cell_type": "code",
   "execution_count": 326,
   "id": "6adb0b5f",
   "metadata": {},
   "outputs": [],
   "source": [
    "#方法1：list.reverse()\n",
    "def RevLst(nums):\n",
    "    nums.reverse()\n",
    "    return nums\n",
    "\n",
    "#注意：先写一行list.reverse()，再写return list，两者对齐\n",
    "#为什么要写两行？"
   ]
  },
  {
   "cell_type": "code",
   "execution_count": 328,
   "id": "3b29e03f",
   "metadata": {},
   "outputs": [
    {
     "data": {
      "text/plain": [
       "[4, 8, 9, 1, 3]"
      ]
     },
     "execution_count": 328,
     "metadata": {},
     "output_type": "execute_result"
    }
   ],
   "source": [
    "RevLst([3, 1, 9, 8, 4])\n",
    "#[4, 8, 9, 1, 3]"
   ]
  },
  {
   "cell_type": "code",
   "execution_count": 330,
   "id": "fd61afb0",
   "metadata": {},
   "outputs": [],
   "source": [
    "#法2：list[::-1]\n",
    "def RevLst(nums):\n",
    "    return nums[::-1]\n",
    "\n",
    "#注意：只用写一行return list[::-1]"
   ]
  },
  {
   "cell_type": "code",
   "execution_count": 338,
   "id": "ac0fabd4",
   "metadata": {},
   "outputs": [
    {
     "data": {
      "text/plain": [
       "[4, 8, 9, 1, 3]"
      ]
     },
     "execution_count": 338,
     "metadata": {},
     "output_type": "execute_result"
    }
   ],
   "source": [
    "RevLst([3, 1, 9, 8, 4])\n",
    "#[4, 8, 9, 1, 3]"
   ]
  },
  {
   "cell_type": "code",
   "execution_count": 339,
   "id": "6c151645",
   "metadata": {},
   "outputs": [],
   "source": [
    "#练习11：移除目标元素并返回更新后的列表。\n",
    "\n",
    "# Remove an Element\n",
    "# Description\n",
    "# Build a function RmEl to remove a target element from a list. If the target element appears in the list for multiple times, only remove the first one.\n",
    "\n",
    "# Examples\n",
    "# RmEl([1, 2, 3, 4, 5], 2) returns [1, 3, 4, 5]\n",
    "# RmEl([1, 2, 3, 4, 5], 6) returns [1, 2, 3, 4, 5]\n",
    "# RmEl([1, 2, 3, 3, 4, 5], 3) returns [1, 2, 3, 4, 5]"
   ]
  },
  {
   "cell_type": "code",
   "execution_count": 341,
   "id": "07cfe159",
   "metadata": {},
   "outputs": [],
   "source": [
    "def RmEl(nums, target):\n",
    "    if target in nums:   \n",
    "        nums.remove(target)\n",
    "    return nums\n",
    "\n",
    "#①：要检查target在nums中才可以进行remove操作\n",
    "#②：if k in a: 直接操作a.remove(k)，再return a。不用写nums = XXX。\n",
    "#③：return 应与if对齐"
   ]
  },
  {
   "cell_type": "code",
   "execution_count": 342,
   "id": "aae2b625",
   "metadata": {},
   "outputs": [],
   "source": [
    "#练习12：移除重复元素并返回更新后列表。\n",
    "\n",
    "# Remove Duplicates from a List\n",
    "# Description\n",
    "# Build a function RmDuplicate which remove all the duplicates from a list.\n",
    "\n",
    "# Examples\n",
    "# RmDuplicate([3, 1, 2, 3, 4, 5, 6]) returns [1, 2, 3, 4, 5, 6]\n",
    "# RmDuplicate([1, 3, 5]) returns [1, 3, 5]"
   ]
  },
  {
   "cell_type": "code",
   "execution_count": 344,
   "id": "2717a65f",
   "metadata": {},
   "outputs": [],
   "source": [
    "#法1：如果num没在a空集中，就把num append进a中，并进行sort\n",
    "def RmDuplicate(nums):\n",
    "    a = []\n",
    "    for num in nums:\n",
    "        if num not in a:\n",
    "            a.append(num)\n",
    "            a.sort()\n",
    "    return a  \n",
    "\n",
    "#①：只需要建立一个最后需要return的a集，\n",
    "#②：for num in nums, if num not in a, a.append(num) 可以写成步步缩进格式:\n",
    "#即在num在nums中的时候，如果num没在a里，就把其放进去。\n",
    "#③：在append后，要进行sort。\n",
    "#④：return 和 for进行对齐。"
   ]
  },
  {
   "cell_type": "markdown",
   "id": "1b8c5525",
   "metadata": {},
   "source": [
    "# Unit 2"
   ]
  },
  {
   "cell_type": "markdown",
   "id": "3398aae0",
   "metadata": {},
   "source": [
    "## 1.Lambda "
   ]
  },
  {
   "cell_type": "markdown",
   "id": "15c942e5",
   "metadata": {},
   "source": [
    "### 1.Review"
   ]
  },
  {
   "cell_type": "code",
   "execution_count": 359,
   "id": "a78ccf54",
   "metadata": {},
   "outputs": [],
   "source": [
    "a = [[4, 3, 2], [5, 2, 1], [2, 5, 4], [3, 1, 0]]"
   ]
  },
  {
   "cell_type": "code",
   "execution_count": 365,
   "id": "1ddc8ffe",
   "metadata": {},
   "outputs": [
    {
     "data": {
      "text/plain": [
       "[[2, 5, 4], [3, 1, 0], [4, 3, 2], [5, 2, 1]]"
      ]
     },
     "execution_count": 365,
     "metadata": {},
     "output_type": "execute_result"
    }
   ],
   "source": [
    "#按照每个小list的第一个元素，从小到大排序\n",
    "sorted(a)\n",
    "#[[2, 5, 4], [3, 1, 0], [4, 3, 2], [5, 2, 1]]"
   ]
  },
  {
   "cell_type": "code",
   "execution_count": 364,
   "id": "a55f1233",
   "metadata": {},
   "outputs": [
    {
     "data": {
      "text/plain": [
       "[[3, 1, 0], [5, 2, 1], [4, 3, 2], [2, 5, 4]]"
      ]
     },
     "execution_count": 364,
     "metadata": {},
     "output_type": "execute_result"
    }
   ],
   "source": [
    "#按照每个小list的最后一个元素，从小到大排序\n",
    "sorted(a, key = lambda x:x[-1])\n",
    "#[[3, 1, 0], [5, 2, 1], [4, 3, 2], [2, 5, 4]]\n",
    "\n",
    "#key是根据什么来排序，默认是按照第一个元素\n",
    "#x:x[-1]表示根据最后一个元素\n",
    "#lambda是定义匿名函数的方式，和def用法相同，写法更简洁\n",
    "#函数 = lambda 变量: 方程"
   ]
  },
  {
   "cell_type": "markdown",
   "id": "f6e46b37",
   "metadata": {},
   "source": [
    "### 2. Intro to Lambda"
   ]
  },
  {
   "cell_type": "markdown",
   "id": "9b21da45",
   "metadata": {},
   "source": [
    "#### 2.1 Build a function"
   ]
  },
  {
   "cell_type": "code",
   "execution_count": 369,
   "id": "7c3a8ff1",
   "metadata": {},
   "outputs": [],
   "source": [
    "def Square(num):\n",
    "    return num * num"
   ]
  },
  {
   "cell_type": "code",
   "execution_count": 372,
   "id": "552d2871",
   "metadata": {},
   "outputs": [
    {
     "data": {
      "text/plain": [
       "4"
      ]
     },
     "execution_count": 372,
     "metadata": {},
     "output_type": "execute_result"
    }
   ],
   "source": [
    "Square(2)\n",
    "#4"
   ]
  },
  {
   "cell_type": "code",
   "execution_count": 373,
   "id": "24e3e863",
   "metadata": {},
   "outputs": [
    {
     "data": {
      "text/plain": [
       "9"
      ]
     },
     "execution_count": 373,
     "metadata": {},
     "output_type": "execute_result"
    }
   ],
   "source": [
    "Square(3)\n",
    "#9"
   ]
  },
  {
   "cell_type": "markdown",
   "id": "e2cfd878",
   "metadata": {},
   "source": [
    "#### 2.2 Built a function with lambda"
   ]
  },
  {
   "cell_type": "code",
   "execution_count": 375,
   "id": "5f4fd46d",
   "metadata": {},
   "outputs": [],
   "source": [
    "new_square = lambda num: num * num"
   ]
  },
  {
   "cell_type": "code",
   "execution_count": 376,
   "id": "d31517d3",
   "metadata": {},
   "outputs": [
    {
     "data": {
      "text/plain": [
       "4"
      ]
     },
     "execution_count": 376,
     "metadata": {},
     "output_type": "execute_result"
    }
   ],
   "source": [
    "new_square(2)\n",
    "#4"
   ]
  },
  {
   "cell_type": "markdown",
   "id": "c8a71369",
   "metadata": {},
   "source": [
    "### 3.Replace lambda with traditional function building "
   ]
  },
  {
   "cell_type": "markdown",
   "id": "e519d96b",
   "metadata": {},
   "source": [
    "#### 3.1 How does lambda work in sorted"
   ]
  },
  {
   "cell_type": "code",
   "execution_count": 377,
   "id": "ab75069c",
   "metadata": {},
   "outputs": [],
   "source": [
    "a = [[4, 3, 2], [5, 2, 1], [2, 5, 4], [3, 1, 0]]"
   ]
  },
  {
   "cell_type": "code",
   "execution_count": 379,
   "id": "228d254f",
   "metadata": {},
   "outputs": [
    {
     "data": {
      "text/plain": [
       "[[3, 1, 0], [5, 2, 1], [4, 3, 2], [2, 5, 4]]"
      ]
     },
     "execution_count": 379,
     "metadata": {},
     "output_type": "execute_result"
    }
   ],
   "source": [
    "#按照每个list最后一个元素排列\n",
    "sorted(a, key = lambda x:x[-1])\n",
    "#[[3, 1, 0], [5, 2, 1], [4, 3, 2], [2, 5, 4]]\n",
    "\n",
    "#lambda定义一个函数，输入x是小list，返回小list的最后一个值"
   ]
  },
  {
   "cell_type": "code",
   "execution_count": 381,
   "id": "5423d0a3",
   "metadata": {},
   "outputs": [],
   "source": [
    "#取list中最后一个元素\n",
    "fun = lambda x: x[-1]"
   ]
  },
  {
   "cell_type": "code",
   "execution_count": 382,
   "id": "8c21f78d",
   "metadata": {},
   "outputs": [
    {
     "data": {
      "text/plain": [
       "2"
      ]
     },
     "execution_count": 382,
     "metadata": {},
     "output_type": "execute_result"
    }
   ],
   "source": [
    "fun([4, 3, 2])\n",
    "#2"
   ]
  },
  {
   "cell_type": "markdown",
   "id": "656834bb",
   "metadata": {},
   "source": [
    "#### 3.2 Replace lambda with a traditional function #不用lambda用def"
   ]
  },
  {
   "cell_type": "code",
   "execution_count": 383,
   "id": "9c85e53f",
   "metadata": {},
   "outputs": [],
   "source": [
    "#①按照每个小list中，最后一个元素，从小到大排序\n",
    "def get_last_element(nums):\n",
    "    return nums[-1]"
   ]
  },
  {
   "cell_type": "code",
   "execution_count": 385,
   "id": "06f56ef1",
   "metadata": {},
   "outputs": [
    {
     "data": {
      "text/plain": [
       "2"
      ]
     },
     "execution_count": 385,
     "metadata": {},
     "output_type": "execute_result"
    }
   ],
   "source": [
    "get_last_element([4,3,2])\n",
    "#2"
   ]
  },
  {
   "cell_type": "code",
   "execution_count": 390,
   "id": "461ee30b",
   "metadata": {},
   "outputs": [
    {
     "data": {
      "text/plain": [
       "'c'"
      ]
     },
     "execution_count": 390,
     "metadata": {},
     "output_type": "execute_result"
    }
   ],
   "source": [
    "get_last_element('abc')\n",
    "#'c'"
   ]
  },
  {
   "cell_type": "code",
   "execution_count": 400,
   "id": "542f9242",
   "metadata": {},
   "outputs": [
    {
     "data": {
      "text/plain": [
       "[[3, 1, 0], [5, 2, 1], [4, 3, 2], [2, 5, 4]]"
      ]
     },
     "execution_count": 400,
     "metadata": {},
     "output_type": "execute_result"
    }
   ],
   "source": [
    "sorted(a, key = get_last_element)\n",
    "#[[3, 1, 0], [5, 2, 1], [4, 3, 2], [2, 5, 4]]\n",
    "\n",
    "#效果等同于sorted(a, key = lambda x:x[-1])"
   ]
  },
  {
   "cell_type": "code",
   "execution_count": 395,
   "id": "30665f25",
   "metadata": {},
   "outputs": [],
   "source": [
    "#②按照每个小list中，第二个元素，从小到大排序\n",
    "def get_second_element(nums):\n",
    "    return nums[1]"
   ]
  },
  {
   "cell_type": "code",
   "execution_count": 398,
   "id": "7df946a2",
   "metadata": {},
   "outputs": [
    {
     "data": {
      "text/plain": [
       "3"
      ]
     },
     "execution_count": 398,
     "metadata": {},
     "output_type": "execute_result"
    }
   ],
   "source": [
    "get_second_element([4,3,2])\n",
    "#3"
   ]
  },
  {
   "cell_type": "code",
   "execution_count": 401,
   "id": "7c822b45",
   "metadata": {},
   "outputs": [
    {
     "data": {
      "text/plain": [
       "[[3, 1, 0], [5, 2, 1], [4, 3, 2], [2, 5, 4]]"
      ]
     },
     "execution_count": 401,
     "metadata": {},
     "output_type": "execute_result"
    }
   ],
   "source": [
    "sorted(a, key = get_second_element)\n",
    "#[[3, 1, 0], [5, 2, 1], [4, 3, 2], [2, 5, 4]]"
   ]
  },
  {
   "cell_type": "code",
   "execution_count": null,
   "id": "b272f50c",
   "metadata": {},
   "outputs": [],
   "source": [
    "#总结：def 和 lambda替换写法：\n",
    "\n",
    "# ①def：\n",
    "# def function(nums):\n",
    "#     return nums[-1]\n",
    "# sorted(a, key = function)\n",
    "\n",
    "# ②lambda：\n",
    "# sorted(a, key = lambda x:x[-1])"
   ]
  },
  {
   "cell_type": "markdown",
   "id": "7570755f",
   "metadata": {},
   "source": [
    "## 2.Append & Insert"
   ]
  },
  {
   "cell_type": "markdown",
   "id": "51b6c306",
   "metadata": {},
   "source": [
    "### 2.1 modify a list elementwisely"
   ]
  },
  {
   "cell_type": "code",
   "execution_count": 463,
   "id": "61ded231",
   "metadata": {},
   "outputs": [],
   "source": [
    "a = [1, 2, 3, 4, 5, 7, 6]"
   ]
  },
  {
   "cell_type": "code",
   "execution_count": null,
   "id": "b8d3e17e",
   "metadata": {},
   "outputs": [],
   "source": [
    "print(a)\n",
    "#[1, 2, 3, 4, 5, 6, 7]"
   ]
  },
  {
   "cell_type": "markdown",
   "id": "27e92ed3",
   "metadata": {},
   "source": [
    "### 2.2 append an element at the end"
   ]
  },
  {
   "cell_type": "code",
   "execution_count": 466,
   "id": "bfa5dc78",
   "metadata": {},
   "outputs": [],
   "source": [
    "#append将元素加在末尾\n",
    "#list.append(num)对list进行操作后，不返回任何东西；就像.sort()不返回任何东西一样"
   ]
  },
  {
   "cell_type": "code",
   "execution_count": null,
   "id": "4dc4a07c",
   "metadata": {},
   "outputs": [],
   "source": [
    "a.append(\"a\")"
   ]
  },
  {
   "cell_type": "code",
   "execution_count": 411,
   "id": "e144b53e",
   "metadata": {},
   "outputs": [
    {
     "name": "stdout",
     "output_type": "stream",
     "text": [
      "[1, 2, 3, 4, 5, 6, 7, 'a']\n"
     ]
    }
   ],
   "source": [
    "print(a)\n",
    "#[1, 2, 3, 4, 5, 6, 7, 'a']"
   ]
  },
  {
   "cell_type": "code",
   "execution_count": 457,
   "id": "d558d6cb",
   "metadata": {},
   "outputs": [],
   "source": [
    "a.append(\"b\")"
   ]
  },
  {
   "cell_type": "code",
   "execution_count": 421,
   "id": "432add8a",
   "metadata": {},
   "outputs": [
    {
     "name": "stdout",
     "output_type": "stream",
     "text": [
      "[1, 2, 3, 4, 5, 6, 7, 'a', 'b']\n"
     ]
    }
   ],
   "source": [
    "print(a)\n",
    "#[1, 2, 3, 4, 5, 6, 7, 'a', 'b']"
   ]
  },
  {
   "cell_type": "markdown",
   "id": "e92483ed",
   "metadata": {},
   "source": [
    "### 2.3 insert an element"
   ]
  },
  {
   "cell_type": "code",
   "execution_count": null,
   "id": "acafa2bf",
   "metadata": {},
   "outputs": [],
   "source": [
    "#insert在i位置上插入元素k，其余元素顺延；即输入原list该位置元素的前面！\n",
    "#list.insert(k)"
   ]
  },
  {
   "cell_type": "code",
   "execution_count": 458,
   "id": "f1327fc6",
   "metadata": {},
   "outputs": [],
   "source": [
    "a.insert(0, \"c\")"
   ]
  },
  {
   "cell_type": "code",
   "execution_count": 430,
   "id": "213d364d",
   "metadata": {},
   "outputs": [
    {
     "name": "stdout",
     "output_type": "stream",
     "text": [
      "['c', 1, 2, 3, 4, 5, 6, 7, 'a', 'b']\n"
     ]
    }
   ],
   "source": [
    "print(a)\n",
    "#['c', 1, 2, 3, 4, 5, 6, 7, 'a', 'b']"
   ]
  },
  {
   "cell_type": "code",
   "execution_count": 459,
   "id": "7f5217f6",
   "metadata": {},
   "outputs": [],
   "source": [
    "a.insert(0, \"d\")"
   ]
  },
  {
   "cell_type": "code",
   "execution_count": 440,
   "id": "394ab4ba",
   "metadata": {},
   "outputs": [
    {
     "name": "stdout",
     "output_type": "stream",
     "text": [
      "['d', 'c', 1, 2, 3, 4, 5, 6, 7, 'a', 'b']\n"
     ]
    }
   ],
   "source": [
    "print(a)\n",
    "#['d', 'c', 1, 2, 3, 4, 5, 6, 7, 'a', 'b']"
   ]
  },
  {
   "cell_type": "code",
   "execution_count": 460,
   "id": "9c875c29",
   "metadata": {},
   "outputs": [],
   "source": [
    "#在原list元素3的位置，插入e，其余顺延\n",
    "a.insert(3, \"e\")"
   ]
  },
  {
   "cell_type": "code",
   "execution_count": 451,
   "id": "a28104d1",
   "metadata": {},
   "outputs": [
    {
     "name": "stdout",
     "output_type": "stream",
     "text": [
      "['d', 'c', 1, 'e', 2, 3, 4, 5, 6, 7, 'a', 'b']\n"
     ]
    }
   ],
   "source": [
    "print(a)\n",
    "#['d', 'c', 1, 'e', 2, 3, 4, 5, 6, 7, 'a', 'b']"
   ]
  },
  {
   "cell_type": "code",
   "execution_count": 461,
   "id": "899d2845",
   "metadata": {},
   "outputs": [],
   "source": [
    "#在原list最后一个元素的位置上，插入f，其余顺延\n",
    "a.insert(-1, \"f\")"
   ]
  },
  {
   "cell_type": "code",
   "execution_count": 462,
   "id": "2126bcc4",
   "metadata": {},
   "outputs": [
    {
     "name": "stdout",
     "output_type": "stream",
     "text": [
      "['d', 'c', 1, 'e', 2, 3, 4, 5, 6, 7, 'a', 'f', 'b']\n"
     ]
    }
   ],
   "source": [
    "print(a)\n",
    "#['d', 'c', 1, 'e', 2, 3, 4, 5, 6, 7, 'a', 'f', 'b']"
   ]
  },
  {
   "cell_type": "markdown",
   "id": "484fd071",
   "metadata": {},
   "source": [
    "## 3. Example using Insert"
   ]
  },
  {
   "cell_type": "code",
   "execution_count": 472,
   "id": "22d69026",
   "metadata": {},
   "outputs": [],
   "source": [
    "# 1、Insert a Number in a Sorted List\n",
    "\n",
    "# Code\n",
    "# Exercise 6.2.1: Insert a Number in a Sorted List\n",
    "# Build a function NumInsert which inserts a number in a sorted list.\n",
    "# Example: NumInsert([1, 2, 3, 4, 5, 6], 3) returns [1, 2, 3, 3, 4, 5, 6]\n",
    "# Example: NumInsert([1, 2, 3, 4, 5, 6], 7) returns [1, 2, 3, 4, 5, 6, 7]\n",
    "# Example: NumInsert([1, 2, 3, 4, 5, 6], -1) returns [-1, 1, 2, 3, 4, 5, 6]"
   ]
  },
  {
   "cell_type": "code",
   "execution_count": null,
   "id": "a597456b",
   "metadata": {},
   "outputs": [],
   "source": [
    "#法1：append后，sort下"
   ]
  },
  {
   "cell_type": "code",
   "execution_count": 473,
   "id": "cb24532f",
   "metadata": {},
   "outputs": [],
   "source": [
    "#法2：insert\n",
    "#让ind = list长度，从头至尾遍历所有元素，当list中的元素大于插入值时，让ind = i\n",
    "#list.insert(index, target)，让index位置插入target元素\n",
    "\n",
    "#解题思路1：从左到右逐个比较，找到合适位置\n",
    "#步骤：\n",
    "#1.从左到右遍历\n",
    "#2.当元素数值大于或者等于需要插入的数字，将该数字插入到这个元素左边\n",
    "#局限：当元素数值较大，需要花很多时间才能找到位置"
   ]
  },
  {
   "cell_type": "code",
   "execution_count": null,
   "id": "f312fb26",
   "metadata": {},
   "outputs": [],
   "source": [
    "def NumInsert(nums, target):\n",
    "    ind = len(nums)\n",
    "    for i in range(len(nums)):\n",
    "        if nums[i] >= target:\n",
    "            ind = i\n",
    "            break\n",
    "    nums.insert(ind, target)\n",
    "    return nums"
   ]
  },
  {
   "cell_type": "code",
   "execution_count": 474,
   "id": "69f9a9bd",
   "metadata": {
    "scrolled": false
   },
   "outputs": [
    {
     "data": {
      "text/plain": [
       "[1, 2, 3, 4, 5, 6, 7]"
      ]
     },
     "execution_count": 474,
     "metadata": {},
     "output_type": "execute_result"
    }
   ],
   "source": [
    "NumInsert([1, 2, 3, 4, 5, 6], 3)\n",
    "#[1, 2, 3, 3, 4, 5, 6]\n",
    "NumInsert([1, 2, 3, 4, 5, 6], 7)\n",
    "#[1, 2, 3, 4, 5, 6, 7]"
   ]
  },
  {
   "cell_type": "markdown",
   "id": "fcb3b855",
   "metadata": {},
   "source": [
    "## 4. Example using Insert with Binary Search"
   ]
  },
  {
   "cell_type": "code",
   "execution_count": null,
   "id": "4364a460",
   "metadata": {},
   "outputs": [],
   "source": [
    "#二分法比遍历法快：\n",
    "\n",
    "#解题思路2：二分法\n",
    "\n",
    "#步骤：\n",
    "# 1.设定左右两个指针，分解为L和R\n",
    "# 2.L初始值为0，R初始值为List长度\n",
    "# 3.计算中间指针的值 M = (left + right) / 2\n",
    "#     3.1. 若M指针对应的数，大于需要插入的数，将M设为R\n",
    "#     3.2. 若M指针对应的数，小于需要插入的数，将M设为L\n",
    "# 4.重复步骤3，直到\n",
    "#     4.1M指针对应的值等于需要插入的值\n",
    "#     4.2或者，左右指针相遇\n",
    "# 5.将目标数字插入相应的位置\n",
    "\n",
    "#每次取一半，把另一半扔掉，比从头到尾遍历要快"
   ]
  },
  {
   "cell_type": "code",
   "execution_count": 478,
   "id": "ca302496",
   "metadata": {},
   "outputs": [],
   "source": [
    "def NumInsert(nums, target):\n",
    "    left = 0\n",
    "    right = len(nums)\n",
    "    while right - left > 1:\n",
    "        mid = (left + right) // 2   #整数除法 //：向下取整\n",
    "        if nums[mid] == target:\n",
    "            nums.insert(mid, target)\n",
    "            return nums\n",
    "        elif nums[mid] > target:\n",
    "            right = mid\n",
    "        else:\n",
    "            left = mid\n",
    "    if target > nums[mid]:\n",
    "        nums.insert(right, target)\n",
    "    else:\n",
    "        nums.insert(left, target)\n",
    "    return nums\n",
    "\n",
    "#https://pythontutor.com/render.html#code=def%20NumInsert%28nums,%20target%29%3A%0A%20%20%20%20left%20%3D%200%0A%20%20%20%20right%20%3D%20len%28nums%29%0A%20%20%20%20while%20right%20-%20left%20%3E%201%3A%0A%20%20%20%20%20%20%20%20mid%20%3D%20%28left%20%2B%20right%29%20//%202%0A%20%20%20%20%20%20%20%20if%20nums%5Bmid%5D%20%3D%3D%20target%3A%0A%20%20%20%20%20%20%20%20%20%20%20%20nums.insert%28mid,%20target%29%0A%20%20%20%20%20%20%20%20%20%20%20%20return%20nums%0A%20%20%20%20%20%20%20%20elif%20nums%5Bmid%5D%20%3E%20target%3A%0A%20%20%20%20%20%20%20%20%20%20%20%20right%20%3D%20mid%0A%20%20%20%20%20%20%20%20else%3A%0A%20%20%20%20%20%20%20%20%20%20%20%20left%20%3D%20mid%0A%20%20%20%20if%20target%20%3E%20nums%5Bmid%5D%3A%0A%20%20%20%20%20%20%20%20nums.insert%28right,%20target%29%0A%20%20%20%20else%3A%0A%20%20%20%20%20%20%20%20nums.insert%28left,%20target%29%0A%20%20%20%20return%20nums%0ANumInsert%28%5B1,%202,%203,%204,%205,%206%5D,%203%29&cumulative=false&curInstr=15&heapPrimitives=nevernest&mode=display&origin=opt-frontend.js&py=3&rawInputLstJSON=%5B%5D&textReferences=false"
   ]
  },
  {
   "cell_type": "code",
   "execution_count": 479,
   "id": "b75e413f",
   "metadata": {},
   "outputs": [
    {
     "data": {
      "text/plain": [
       "[1, 2, 3, 3, 4, 5, 6]"
      ]
     },
     "execution_count": 479,
     "metadata": {},
     "output_type": "execute_result"
    }
   ],
   "source": [
    "NumInsert([1, 2, 3, 4, 5, 6], 3)\n",
    "#[1, 2, 3, 3, 4, 5, 6]"
   ]
  },
  {
   "cell_type": "code",
   "execution_count": 480,
   "id": "6de3715b",
   "metadata": {},
   "outputs": [
    {
     "data": {
      "text/plain": [
       "6"
      ]
     },
     "execution_count": 480,
     "metadata": {},
     "output_type": "execute_result"
    }
   ],
   "source": [
    "len([1, 2, 3, 4, 5, 6])\n",
    "#6"
   ]
  },
  {
   "cell_type": "markdown",
   "id": "bb70df62",
   "metadata": {},
   "source": [
    "## 5. Remove"
   ]
  },
  {
   "cell_type": "markdown",
   "id": "23125506",
   "metadata": {},
   "source": [
    "### 5.1 remove an element"
   ]
  },
  {
   "cell_type": "markdown",
   "id": "dc461f1e",
   "metadata": {},
   "source": [
    "### .remove()；.insert()；.sort()不返回任何东西\n",
    "#.remove每次只remove一个元素，如果原list中有多个元素，只remove最左边第一个元素"
   ]
  },
  {
   "cell_type": "code",
   "execution_count": 495,
   "id": "1088092d",
   "metadata": {},
   "outputs": [],
   "source": [
    "a = ['d', 'c', 1, 'e', 2, 3, 4, 5, 6, 7, 'a', 'f', 'b']"
   ]
  },
  {
   "cell_type": "code",
   "execution_count": 485,
   "id": "bd98e42a",
   "metadata": {},
   "outputs": [
    {
     "name": "stdout",
     "output_type": "stream",
     "text": [
      "['d', 'c', 1, 'e', 2, 3, 4, 5, 6, 7, 'a', 'f', 'b']\n"
     ]
    }
   ],
   "source": [
    "print(a)\n",
    "#['d', 'c', 1, 'e', 2, 3, 4, 5, 6, 7, 'a', 'f', 'b']"
   ]
  },
  {
   "cell_type": "code",
   "execution_count": 493,
   "id": "1407fd89",
   "metadata": {},
   "outputs": [],
   "source": [
    "a.remove('e')   #等同于a.remove(\"e\")"
   ]
  },
  {
   "cell_type": "code",
   "execution_count": 497,
   "id": "115a9b96",
   "metadata": {},
   "outputs": [
    {
     "name": "stdout",
     "output_type": "stream",
     "text": [
      "['d', 'c', 1, 2, 3, 4, 5, 6, 7, 'a', 'f', 'b']\n"
     ]
    }
   ],
   "source": [
    "print(a)\n",
    "#['d', 'c', 1, 2, 3, 4, 5, 6, 7, 'a', 'f', 'b']"
   ]
  },
  {
   "cell_type": "code",
   "execution_count": 499,
   "id": "79bd416b",
   "metadata": {},
   "outputs": [
    {
     "ename": "ValueError",
     "evalue": "list.remove(x): x not in list",
     "output_type": "error",
     "traceback": [
      "\u001b[1;31m---------------------------------------------------------------------------\u001b[0m",
      "\u001b[1;31mValueError\u001b[0m                                Traceback (most recent call last)",
      "Cell \u001b[1;32mIn[499], line 1\u001b[0m\n\u001b[1;32m----> 1\u001b[0m \u001b[43ma\u001b[49m\u001b[38;5;241;43m.\u001b[39;49m\u001b[43mremove\u001b[49m\u001b[43m(\u001b[49m\u001b[38;5;124;43m'\u001b[39;49m\u001b[38;5;124;43me\u001b[39;49m\u001b[38;5;124;43m'\u001b[39;49m\u001b[43m)\u001b[49m\n",
      "\u001b[1;31mValueError\u001b[0m: list.remove(x): x not in list"
     ]
    }
   ],
   "source": [
    "a.remove('e')\n",
    "# ---------------------------------------------------------------------------\n",
    "# ValueError                                Traceback (most recent call last)\n",
    "# Cell In[498], line 1\n",
    "# ----> 1 a.remove('e')\n",
    "\n",
    "# ValueError: list.remove(x): x not in list\n",
    "\n",
    "#因为list中已经没有e了，所以报错"
   ]
  },
  {
   "cell_type": "markdown",
   "id": "4b6ad707",
   "metadata": {},
   "source": [
    "### 避免移除后原list不存在，再run remove时报错方法 if else：\n",
    "当元素在原list里面时就remove，否则就说没有"
   ]
  },
  {
   "cell_type": "code",
   "execution_count": 536,
   "id": "bfc42afd",
   "metadata": {},
   "outputs": [
    {
     "name": "stdout",
     "output_type": "stream",
     "text": [
      "It is not there\n"
     ]
    }
   ],
   "source": [
    "if \"e\" in a:\n",
    "    a.remove(\"e\")\n",
    "else:\n",
    "    print(\"It is not there\")\n",
    "    \n",
    "#It is not there    "
   ]
  },
  {
   "cell_type": "code",
   "execution_count": 504,
   "id": "80704191",
   "metadata": {},
   "outputs": [
    {
     "name": "stdout",
     "output_type": "stream",
     "text": [
      "['d', 'c', 1, 2, 3, 4, 5, 6, 7, 'a', 'f', 'b']\n"
     ]
    }
   ],
   "source": [
    "print(a)\n",
    "#['d', 'c', 1, 2, 3, 4, 5, 6, 7, 'a', 'f', 'b']"
   ]
  },
  {
   "cell_type": "code",
   "execution_count": 506,
   "id": "4393ff41",
   "metadata": {},
   "outputs": [],
   "source": [
    "a.append(\"f\")"
   ]
  },
  {
   "cell_type": "code",
   "execution_count": 508,
   "id": "a7f04b4f",
   "metadata": {},
   "outputs": [
    {
     "name": "stdout",
     "output_type": "stream",
     "text": [
      "['d', 'c', 1, 2, 3, 4, 5, 6, 7, 'a', 'f', 'b', 'f', 'f']\n"
     ]
    }
   ],
   "source": [
    "print(a)\n",
    "#['d', 'c', 1, 2, 3, 4, 5, 6, 7, 'a', 'f', 'b', 'f', 'f']"
   ]
  },
  {
   "cell_type": "markdown",
   "id": "f360dc2e",
   "metadata": {},
   "source": [
    "### .remove每次只remove一个元素，如果原list中有多个元素，只remove最左边第一个元素\n"
   ]
  },
  {
   "cell_type": "code",
   "execution_count": 537,
   "id": "314670d7",
   "metadata": {},
   "outputs": [
    {
     "ename": "ValueError",
     "evalue": "list.remove(x): x not in list",
     "output_type": "error",
     "traceback": [
      "\u001b[1;31m---------------------------------------------------------------------------\u001b[0m",
      "\u001b[1;31mValueError\u001b[0m                                Traceback (most recent call last)",
      "Cell \u001b[1;32mIn[537], line 1\u001b[0m\n\u001b[1;32m----> 1\u001b[0m \u001b[43ma\u001b[49m\u001b[38;5;241;43m.\u001b[39;49m\u001b[43mremove\u001b[49m\u001b[43m(\u001b[49m\u001b[38;5;124;43m\"\u001b[39;49m\u001b[38;5;124;43mf\u001b[39;49m\u001b[38;5;124;43m\"\u001b[39;49m\u001b[43m)\u001b[49m\n",
      "\u001b[1;31mValueError\u001b[0m: list.remove(x): x not in list"
     ]
    }
   ],
   "source": [
    "a.remove(\"f\")"
   ]
  },
  {
   "cell_type": "code",
   "execution_count": 514,
   "id": "90bae63d",
   "metadata": {},
   "outputs": [
    {
     "name": "stdout",
     "output_type": "stream",
     "text": [
      "['d', 'c', 1, 2, 3, 4, 5, 6, 7, 'a', 'b']\n"
     ]
    }
   ],
   "source": [
    "print(a)\n",
    "#['d', 'c', 1, 2, 3, 4, 5, 6, 7, 'a', 'b', 'f']"
   ]
  },
  {
   "cell_type": "code",
   "execution_count": 515,
   "id": "37b9d340",
   "metadata": {},
   "outputs": [
    {
     "ename": "ValueError",
     "evalue": "list.remove(x): x not in list",
     "output_type": "error",
     "traceback": [
      "\u001b[1;31m---------------------------------------------------------------------------\u001b[0m",
      "\u001b[1;31mValueError\u001b[0m                                Traceback (most recent call last)",
      "Cell \u001b[1;32mIn[515], line 1\u001b[0m\n\u001b[1;32m----> 1\u001b[0m \u001b[43ma\u001b[49m\u001b[38;5;241;43m.\u001b[39;49m\u001b[43mremove\u001b[49m\u001b[43m(\u001b[49m\u001b[38;5;124;43m\"\u001b[39;49m\u001b[38;5;124;43mf\u001b[39;49m\u001b[38;5;124;43m\"\u001b[39;49m\u001b[43m)\u001b[49m\n",
      "\u001b[1;31mValueError\u001b[0m: list.remove(x): x not in list"
     ]
    }
   ],
   "source": [
    "a.remove(\"f\")"
   ]
  },
  {
   "cell_type": "code",
   "execution_count": 517,
   "id": "c2f2fc5c",
   "metadata": {},
   "outputs": [
    {
     "name": "stdout",
     "output_type": "stream",
     "text": [
      "['d', 'c', 1, 2, 3, 4, 5, 6, 7, 'a', 'b']\n"
     ]
    }
   ],
   "source": [
    "print(a)\n",
    "#['d', 'c', 1, 2, 3, 4, 5, 6, 7, 'a', 'b']"
   ]
  },
  {
   "cell_type": "code",
   "execution_count": 518,
   "id": "b7c1d9a9",
   "metadata": {},
   "outputs": [],
   "source": [
    "c = [\"a\", \"a\"]"
   ]
  },
  {
   "cell_type": "markdown",
   "id": "62cc92af",
   "metadata": {},
   "source": [
    "### 可以一次性remove多个同样的元素，用while loop方法：\n",
    "#当元素在list中，就remove，直到没有为止。\n"
   ]
  },
  {
   "cell_type": "code",
   "execution_count": 534,
   "id": "bd04f57e",
   "metadata": {},
   "outputs": [
    {
     "name": "stdout",
     "output_type": "stream",
     "text": [
      "[]\n"
     ]
    }
   ],
   "source": [
    "while \"a\" in c:\n",
    "    c.remove(\"a\")\n",
    "print(c)\n",
    "\n",
    "#[]"
   ]
  },
  {
   "cell_type": "code",
   "execution_count": 524,
   "id": "8a0196c6",
   "metadata": {},
   "outputs": [],
   "source": [
    "b = a.remove(\"b\")"
   ]
  },
  {
   "cell_type": "code",
   "execution_count": 527,
   "id": "957c8024",
   "metadata": {},
   "outputs": [
    {
     "name": "stdout",
     "output_type": "stream",
     "text": [
      "None\n"
     ]
    }
   ],
   "source": [
    "#.remove()操作不会返回任何值\n",
    "print(b)\n",
    "#None"
   ]
  },
  {
   "cell_type": "code",
   "execution_count": 535,
   "id": "83626545",
   "metadata": {},
   "outputs": [
    {
     "name": "stdout",
     "output_type": "stream",
     "text": [
      "['d', 'c', 1, 2, 3, 4, 5, 6, 7, 'a']\n"
     ]
    }
   ],
   "source": [
    "print(a)\n",
    "#['d', 'c', 1, 2, 3, 4, 5, 6, 7, 'a']"
   ]
  },
  {
   "cell_type": "markdown",
   "id": "3bedad63",
   "metadata": {},
   "source": [
    "### 习题："
   ]
  },
  {
   "cell_type": "code",
   "execution_count": null,
   "id": "308c03b8",
   "metadata": {},
   "outputs": [],
   "source": [
    "#Exercise 6.3.1: Remove an Element：移除重复的元素（如有重复，只保留一个）\n",
    "# Build a function RmEl to remove a target element from a list. If the target element appears in the list for multiple times, only remove the first one.\n",
    "# Example: RmEl([1, 2, 3, 4, 5], 2) returns [1, 3, 4, 5]\n",
    "# Example: RmEl([1, 2, 3, 4, 5], 6) returns [1, 2, 3, 4, 5]\n",
    "# Example: RmEl([1, 2, 3, 3, 4, 5], 3) returns [1, 2, 3, 4, 5]"
   ]
  },
  {
   "cell_type": "code",
   "execution_count": 529,
   "id": "907a0234",
   "metadata": {},
   "outputs": [],
   "source": [
    "def RmEL(nums, target):\n",
    "    if target in nums:\n",
    "        nums.remove(target)\n",
    "    return nums"
   ]
  },
  {
   "cell_type": "code",
   "execution_count": 531,
   "id": "745facd1",
   "metadata": {},
   "outputs": [
    {
     "data": {
      "text/plain": [
       "[1, 2, 3, 4, 5]"
      ]
     },
     "execution_count": 531,
     "metadata": {},
     "output_type": "execute_result"
    }
   ],
   "source": [
    "RmEL([1, 2, 3, 3, 4, 5], 3)\n",
    "#[1, 2, 3, 4, 5]"
   ]
  },
  {
   "cell_type": "code",
   "execution_count": 532,
   "id": "6872fb25",
   "metadata": {},
   "outputs": [
    {
     "data": {
      "text/plain": [
       "[1, 2, 3, 3, 4, 5]"
      ]
     },
     "execution_count": 532,
     "metadata": {},
     "output_type": "execute_result"
    }
   ],
   "source": [
    "RmEL([1, 2, 3, 3, 4, 5], 6)\n",
    "#[1, 2, 3, 3, 4, 5]"
   ]
  },
  {
   "cell_type": "markdown",
   "id": "8fef18e9",
   "metadata": {},
   "source": [
    "## 6. Pop"
   ]
  },
  {
   "cell_type": "code",
   "execution_count": 539,
   "id": "e9a5b8ff",
   "metadata": {},
   "outputs": [],
   "source": [
    "#6.1 pop out ana element：把最末尾的值从list中取出后返回新list\n",
    "#pop和remove不同，是返回值的\n",
    "#pop()取出拿掉的是最后一个值\n",
    "#pop(i)取出拿掉的是和[i]位置上的元素"
   ]
  },
  {
   "cell_type": "code",
   "execution_count": 564,
   "id": "2403d318",
   "metadata": {},
   "outputs": [],
   "source": [
    "a = [1, 2, 3, 4, 5, 6, 7]"
   ]
  },
  {
   "cell_type": "code",
   "execution_count": 565,
   "id": "f096ca06",
   "metadata": {},
   "outputs": [
    {
     "name": "stdout",
     "output_type": "stream",
     "text": [
      "[1, 2, 3, 4, 5, 6, 7]\n"
     ]
    }
   ],
   "source": [
    "print(a)\n",
    "#[1, 2, 3, 4, 5, 6, 7]"
   ]
  },
  {
   "cell_type": "code",
   "execution_count": 566,
   "id": "b5c05c59",
   "metadata": {},
   "outputs": [],
   "source": [
    "b = a.pop()"
   ]
  },
  {
   "cell_type": "code",
   "execution_count": 567,
   "id": "7a6cf535",
   "metadata": {},
   "outputs": [
    {
     "name": "stdout",
     "output_type": "stream",
     "text": [
      "7\n"
     ]
    }
   ],
   "source": [
    "print(b)\n",
    "#7"
   ]
  },
  {
   "cell_type": "code",
   "execution_count": 568,
   "id": "72063249",
   "metadata": {},
   "outputs": [
    {
     "name": "stdout",
     "output_type": "stream",
     "text": [
      "[1, 2, 3, 4, 5, 6]\n"
     ]
    }
   ],
   "source": [
    "print(a)\n",
    "#[1, 2, 3, 4, 5, 6]"
   ]
  },
  {
   "cell_type": "code",
   "execution_count": 569,
   "id": "2e56c482",
   "metadata": {},
   "outputs": [
    {
     "data": {
      "text/plain": [
       "6"
      ]
     },
     "execution_count": 569,
     "metadata": {},
     "output_type": "execute_result"
    }
   ],
   "source": [
    "a.pop()\n",
    "#6"
   ]
  },
  {
   "cell_type": "code",
   "execution_count": 570,
   "id": "2699d327",
   "metadata": {},
   "outputs": [
    {
     "name": "stdout",
     "output_type": "stream",
     "text": [
      "[1, 2, 3, 4, 5]\n"
     ]
    }
   ],
   "source": [
    "print(a)\n",
    "#[1, 2, 3, 4, 5]"
   ]
  },
  {
   "cell_type": "code",
   "execution_count": 571,
   "id": "a2c7a283",
   "metadata": {},
   "outputs": [
    {
     "data": {
      "text/plain": [
       "2"
      ]
     },
     "execution_count": 571,
     "metadata": {},
     "output_type": "execute_result"
    }
   ],
   "source": [
    "a.pop(1)\n",
    "#pop在[1]这个位置上的元素：2"
   ]
  },
  {
   "cell_type": "code",
   "execution_count": 572,
   "id": "3be5d5ca",
   "metadata": {},
   "outputs": [
    {
     "name": "stdout",
     "output_type": "stream",
     "text": [
      "[1, 3, 4, 5]\n"
     ]
    }
   ],
   "source": [
    "print(a)\n",
    "#[1, 3, 4, 5]"
   ]
  },
  {
   "cell_type": "code",
   "execution_count": 573,
   "id": "2377564c",
   "metadata": {},
   "outputs": [
    {
     "data": {
      "text/plain": [
       "1"
      ]
     },
     "execution_count": 573,
     "metadata": {},
     "output_type": "execute_result"
    }
   ],
   "source": [
    "a.pop(0)\n",
    "#pop在[0]这个位置上的元素：1"
   ]
  },
  {
   "cell_type": "code",
   "execution_count": 574,
   "id": "7e74da4a",
   "metadata": {},
   "outputs": [
    {
     "name": "stdout",
     "output_type": "stream",
     "text": [
      "[3, 4, 5]\n"
     ]
    }
   ],
   "source": [
    "print(a)\n",
    "#[3, 4, 5]"
   ]
  },
  {
   "cell_type": "code",
   "execution_count": 552,
   "id": "88030e84",
   "metadata": {},
   "outputs": [],
   "source": [
    "# Exercise 6.4.1: Remove duplicates from a sorted list：在排序号的list中移除重复值\n",
    "# Build a function SortRm which removes duplicate numbers from a sorted list.\n",
    "# Example: SortRm([1, 2, 2, 3, 4, 4, 5, 6]) returns [1, 2, 3, 4, 5, 6]\n",
    "# Example: SortRm([1, 2, 3, 4, 5, 6]) returns [1, 2, 3, 4, 5, 6]"
   ]
  },
  {
   "cell_type": "code",
   "execution_count": 629,
   "id": "f33323df",
   "metadata": {},
   "outputs": [],
   "source": [
    "def SortRm(nums):\n",
    "    if len(nums) <= 1:       #如果list只有一个元素\n",
    "        return nums          #return这个元素\n",
    "    tmp = nums[0]            #将list中第一位置的值赋值给tmp            \n",
    "    i = 1                    #指针i取值为1，即第二位置\n",
    "    while i < len(nums):     #当指针i < list长度时：还在range中时\n",
    "        print(\"nums = \", nums)\n",
    "        print(\"tmp = \", tmp)\n",
    "        print(\"i = \", i)\n",
    "        print(\"nums[i] = \", nums[i])\n",
    "        print(\"====\")                     \n",
    "        if nums[i] == tmp:   #指针指到的值和tmp比较相同\n",
    "            nums.pop(i)      #则pop\n",
    "        else:                #如果不同\n",
    "            tmp = nums[i]    #将指针指到的值赋值给tmp，加入tmp中\n",
    "            i += 1           #i+1，指针后移\n",
    "    return nums\n",
    "\n",
    "#https://pythontutor.com/render.html#code=def%20SortRm%28nums%29%3A%0A%20%20%20%20if%20len%28nums%29%20%3C%3D%201%3A%0A%20%20%20%20%20%20%20%20return%20nums%0A%20%20%20%20tmp%20%3D%20nums%5B0%5D%0A%20%20%20%20i%20%3D%201%0A%20%20%20%20while%20i%20%3C%20len%28nums%29%3A%0A%20%20%20%20%20%20%20%20print%28%22nums%20%3D%20%22,%20nums%29%0A%20%20%20%20%20%20%20%20print%28%22tmp%20%3D%20%22,%20tmp%29%0A%20%20%20%20%20%20%20%20print%28%22i%20%3D%20%22,%20i%29%0A%20%20%20%20%20%20%20%20print%28%22nums%5Bi%5D%20%3D%20%22,%20nums%5Bi%5D%29%0A%20%20%20%20%20%20%20%20print%28%22%3D%3D%3D%3D%22%29%0A%20%20%20%20%20%20%20%20if%20nums%5Bi%5D%20%3D%3D%20tmp%3A%0A%20%20%20%20%20%20%20%20%20%20%20%20nums.pop%28i%29%0A%20%20%20%20%20%20%20%20else%3A%0A%20%20%20%20%20%20%20%20%20%20%20%20tmp%20%3D%20nums%5Bi%5D%0A%20%20%20%20%20%20%20%20%20%20%20%20i%20%2B%3D%201%0A%20%20%20%20return%20nums%0A%0ASortRm%28%5B1,%202,%202,%203,%204,%204,%205,%206%5D%29&cumulative=false&curInstr=70&heapPrimitives=nevernest&mode=display&origin=opt-frontend.js&py=3&rawInputLstJSON=%5B%5D&textReferences=false"
   ]
  },
  {
   "cell_type": "code",
   "execution_count": 635,
   "id": "ca716038",
   "metadata": {},
   "outputs": [
    {
     "name": "stdout",
     "output_type": "stream",
     "text": [
      "nums =  [1, 2, 2, 3, 4, 4, 5, 6]\n",
      "tmp =  1\n",
      "i =  1\n",
      "nums[i] =  2\n",
      "====\n",
      "nums =  [1, 2, 2, 3, 4, 4, 5, 6]\n",
      "tmp =  2\n",
      "i =  2\n",
      "nums[i] =  2\n",
      "====\n",
      "nums =  [1, 2, 3, 4, 4, 5, 6]\n",
      "tmp =  2\n",
      "i =  2\n",
      "nums[i] =  3\n",
      "====\n",
      "nums =  [1, 2, 3, 4, 4, 5, 6]\n",
      "tmp =  3\n",
      "i =  3\n",
      "nums[i] =  4\n",
      "====\n",
      "nums =  [1, 2, 3, 4, 4, 5, 6]\n",
      "tmp =  4\n",
      "i =  4\n",
      "nums[i] =  4\n",
      "====\n",
      "nums =  [1, 2, 3, 4, 5, 6]\n",
      "tmp =  4\n",
      "i =  4\n",
      "nums[i] =  5\n",
      "====\n",
      "nums =  [1, 2, 3, 4, 5, 6]\n",
      "tmp =  5\n",
      "i =  5\n",
      "nums[i] =  6\n",
      "====\n"
     ]
    },
    {
     "data": {
      "text/plain": [
       "[1, 2, 3, 4, 5, 6]"
      ]
     },
     "execution_count": 635,
     "metadata": {},
     "output_type": "execute_result"
    }
   ],
   "source": [
    "SortRm([1, 2, 2, 3, 4, 4, 5, 6])\n",
    "#[1, 2, 3, 4, 5, 6]"
   ]
  },
  {
   "cell_type": "markdown",
   "id": "e6844f49",
   "metadata": {},
   "source": [
    "## 7. Example using Pop"
   ]
  },
  {
   "cell_type": "code",
   "execution_count": 590,
   "id": "4108c579",
   "metadata": {},
   "outputs": [],
   "source": [
    "# 1、Merge Two Sorted Lists\n",
    "\n",
    "# Code\n",
    "# Exercise 6.4.2: Merge Two Sorted Lists\n",
    "# Build a function MergeSorted which merges two sorted lists as one sorted list.\n",
    "# Example: MergeSorted([1, 3, 5], [2, 4, 6]) returns [1, 2, 3, 4, 5, 6]\n",
    "# Example: MergeSorted([1, 2, 3], [4, 5, 6]) returns [1, 2, 3, 4, 5, 6]"
   ]
  },
  {
   "cell_type": "code",
   "execution_count": 633,
   "id": "86ee02bf",
   "metadata": {},
   "outputs": [],
   "source": [
    "def MergeSorted(Lst1, Lst2):\n",
    "    i = 0\n",
    "    while Lst1 and i < len(Lst2):\n",
    "        print(\"==\")\n",
    "        print(\"Lst1=\", Lst1)\n",
    "        print(\"Lst2=\", Lst2)\n",
    "        print(\"Lst1[0]=\", Lst1[0])\n",
    "        print(\"i=\", i)\n",
    "        print(\"Lst2[i]=\", Lst2[i])\n",
    "        if Lst1[0] <= Lst2[i]:\n",
    "            num = Lst1.pop(0)\n",
    "            Lst2.insert(i, num)\n",
    "        i += 1\n",
    "    if Lst1:\n",
    "        return Lst2 + Lst1\n",
    "    \n",
    "    return Lst2\n",
    "\n",
    "#什么是while Lst1 和if Lst1？\n",
    "#https://pythontutor.com/render.html#code=def%20MergeSorted%28Lst1,%20Lst2%29%3A%0A%20%20%20%20i%20%3D%200%0A%20%20%20%20while%20Lst1%20and%20i%20%3C%20len%28Lst2%29%3A%0A%20%20%20%20%20%20%20%20print%28%22%3D%3D%22%29%0A%20%20%20%20%20%20%20%20print%28%22Lst1%3D%22,%20Lst1%29%0A%20%20%20%20%20%20%20%20print%28%22Lst2%3D%22,%20Lst2%29%0A%20%20%20%20%20%20%20%20print%28%22Lst1%5B0%5D%3D%22,%20Lst1%5B0%5D%29%0A%20%20%20%20%20%20%20%20print%28%22i%3D%22,%20i%29%0A%20%20%20%20%20%20%20%20print%28%22Lst2%5Bi%5D%3D%22,%20Lst2%5Bi%5D%29%0A%20%20%20%20%20%20%20%20if%20Lst1%5B0%5D%20%3C%3D%20Lst2%5Bi%5D%3A%0A%20%20%20%20%20%20%20%20%20%20%20%20num%20%3D%20Lst1.pop%280%29%0A%20%20%20%20%20%20%20%20%20%20%20%20Lst2.insert%28i,%20num%29%0A%20%20%20%20%20%20%20%20i%20%2B%3D%201%0A%20%20%20%20if%20Lst1%3A%0A%20%20%20%20%20%20%20%20return%20Lst2%20%2B%20Lst1%0A%20%20%20%20%0A%20%20%20%20return%20Lst2%0AMergeSorted%28%5B1,%203,%205%5D,%20%5B2,%204,%206%5D%29&cumulative=false&curInstr=0&heapPrimitives=nevernest&mode=display&origin=opt-frontend.js&py=3&rawInputLstJSON=%5B%5D&textReferences=false"
   ]
  },
  {
   "cell_type": "code",
   "execution_count": 636,
   "id": "cc4e5ee2",
   "metadata": {},
   "outputs": [
    {
     "name": "stdout",
     "output_type": "stream",
     "text": [
      "==\n",
      "Lst1= [1, 3, 5]\n",
      "Lst2= [2, 4, 6]\n",
      "Lst1[0]= 1\n",
      "i= 0\n",
      "Lst2[i]= 2\n",
      "==\n",
      "Lst1= [3, 5]\n",
      "Lst2= [1, 2, 4, 6]\n",
      "Lst1[0]= 3\n",
      "i= 1\n",
      "Lst2[i]= 2\n",
      "==\n",
      "Lst1= [3, 5]\n",
      "Lst2= [1, 2, 4, 6]\n",
      "Lst1[0]= 3\n",
      "i= 2\n",
      "Lst2[i]= 4\n",
      "==\n",
      "Lst1= [5]\n",
      "Lst2= [1, 2, 3, 4, 6]\n",
      "Lst1[0]= 5\n",
      "i= 3\n",
      "Lst2[i]= 4\n",
      "==\n",
      "Lst1= [5]\n",
      "Lst2= [1, 2, 3, 4, 6]\n",
      "Lst1[0]= 5\n",
      "i= 4\n",
      "Lst2[i]= 6\n"
     ]
    },
    {
     "data": {
      "text/plain": [
       "[1, 2, 3, 4, 5, 6]"
      ]
     },
     "execution_count": 636,
     "metadata": {},
     "output_type": "execute_result"
    }
   ],
   "source": [
    "MergeSorted([1, 3, 5], [2, 4, 6])\n",
    "##[1, 2, 3, 4, 5, 6]"
   ]
  },
  {
   "cell_type": "markdown",
   "id": "902169d6",
   "metadata": {},
   "source": [
    "## 8. Modify & Switch"
   ]
  },
  {
   "cell_type": "code",
   "execution_count": 598,
   "id": "89553f9c",
   "metadata": {},
   "outputs": [],
   "source": [
    "#8.1 Modify an element 修改某个位置上的元素"
   ]
  },
  {
   "cell_type": "code",
   "execution_count": 599,
   "id": "f0700094",
   "metadata": {},
   "outputs": [],
   "source": [
    "a = [1, 2, 3, 4, 5, 6, 7]"
   ]
  },
  {
   "cell_type": "code",
   "execution_count": 600,
   "id": "9bf3e0d9",
   "metadata": {},
   "outputs": [],
   "source": [
    "a[0] = \"a\""
   ]
  },
  {
   "cell_type": "code",
   "execution_count": 601,
   "id": "cd9bd3da",
   "metadata": {},
   "outputs": [
    {
     "name": "stdout",
     "output_type": "stream",
     "text": [
      "['a', 2, 3, 4, 5, 6, 7]\n"
     ]
    }
   ],
   "source": [
    "print(a)\n",
    "#['a', 2, 3, 4, 5, 6, 7]"
   ]
  },
  {
   "cell_type": "code",
   "execution_count": 602,
   "id": "daf73700",
   "metadata": {},
   "outputs": [],
   "source": [
    "a[1] = \"b\""
   ]
  },
  {
   "cell_type": "code",
   "execution_count": 603,
   "id": "2fd26f1f",
   "metadata": {},
   "outputs": [
    {
     "name": "stdout",
     "output_type": "stream",
     "text": [
      "['a', 'b', 3, 4, 5, 6, 7]\n"
     ]
    }
   ],
   "source": [
    "print(a)\n",
    "#['a', 'b', 3, 4, 5, 6, 7]"
   ]
  },
  {
   "cell_type": "code",
   "execution_count": 604,
   "id": "50dc43fd",
   "metadata": {},
   "outputs": [],
   "source": [
    "a[3] = a[0]"
   ]
  },
  {
   "cell_type": "code",
   "execution_count": 605,
   "id": "cafedb13",
   "metadata": {},
   "outputs": [
    {
     "name": "stdout",
     "output_type": "stream",
     "text": [
      "['a', 'b', 3, 'a', 5, 6, 7]\n"
     ]
    }
   ],
   "source": [
    "print(a)\n",
    "#['a', 'b', 3, 'a', 5, 6, 7]"
   ]
  },
  {
   "cell_type": "code",
   "execution_count": 606,
   "id": "8d3d55c1",
   "metadata": {},
   "outputs": [],
   "source": [
    "#8.2 Switch elements 调换位置"
   ]
  },
  {
   "cell_type": "code",
   "execution_count": 609,
   "id": "d41282d0",
   "metadata": {},
   "outputs": [],
   "source": [
    "a = [1, 2, 3, 4, 5, 6, 7]"
   ]
  },
  {
   "cell_type": "code",
   "execution_count": 610,
   "id": "a5be5af6",
   "metadata": {},
   "outputs": [],
   "source": [
    "#将a[0]与a[3]进行对调，即1与4对调：\n",
    "a[0], a[3] = a[3], a[0]"
   ]
  },
  {
   "cell_type": "code",
   "execution_count": 612,
   "id": "435817b4",
   "metadata": {},
   "outputs": [
    {
     "name": "stdout",
     "output_type": "stream",
     "text": [
      "[4, 2, 3, 1, 5, 6, 7]\n"
     ]
    }
   ],
   "source": [
    "print(a)\n",
    "#[4, 2, 3, 1, 5, 6, 7]"
   ]
  },
  {
   "cell_type": "code",
   "execution_count": 613,
   "id": "f060d41d",
   "metadata": {},
   "outputs": [],
   "source": [
    "# Exercise 6.6.1: Reverse List：翻转list：头尾数字对调至不能对调为止 #算法系解法\n",
    "# Build a function RevLst which reverses a list.\n",
    "# Example: RevLst([3, 1, 9, 8, 4]) -> [4, 8, 9, 1, 3]"
   ]
  },
  {
   "cell_type": "code",
   "execution_count": 622,
   "id": "621f56f2",
   "metadata": {},
   "outputs": [],
   "source": [
    "def RevLst(nums):\n",
    "    left = 0\n",
    "    right = len(nums) - 1\n",
    "    while left < right:\n",
    "        print(\"left0=\", left)\n",
    "        print(\"right0=\", right)\n",
    "        nums[left], nums[right] = nums[right], nums[left]\n",
    "        left += 1\n",
    "        right -= 1\n",
    "        print(\"left=\", left)\n",
    "        print(\"right=\", right)\n",
    "        print(\"===\")\n",
    "    return nums"
   ]
  },
  {
   "cell_type": "code",
   "execution_count": 625,
   "id": "5d09e5e8",
   "metadata": {},
   "outputs": [
    {
     "name": "stdout",
     "output_type": "stream",
     "text": [
      "left0= 0\n",
      "right0= 4\n",
      "left= 1\n",
      "right= 3\n",
      "===\n",
      "left0= 1\n",
      "right0= 3\n",
      "left= 2\n",
      "right= 2\n",
      "===\n"
     ]
    },
    {
     "data": {
      "text/plain": [
       "[4, 8, 9, 1, 3]"
      ]
     },
     "execution_count": 625,
     "metadata": {},
     "output_type": "execute_result"
    }
   ],
   "source": [
    "RevLst([3, 1, 9, 8, 4])\n",
    "#[4, 8, 9, 1, 3]"
   ]
  },
  {
   "cell_type": "code",
   "execution_count": 637,
   "id": "33ab08a4",
   "metadata": {},
   "outputs": [
    {
     "name": "stdout",
     "output_type": "stream",
     "text": [
      "left0= 0\n",
      "right0= 5\n",
      "left= 1\n",
      "right= 4\n",
      "===\n",
      "left0= 1\n",
      "right0= 4\n",
      "left= 2\n",
      "right= 3\n",
      "===\n",
      "left0= 2\n",
      "right0= 3\n",
      "left= 3\n",
      "right= 2\n",
      "===\n"
     ]
    },
    {
     "data": {
      "text/plain": [
       "[5, 4, 8, 9, 1, 3]"
      ]
     },
     "execution_count": 637,
     "metadata": {},
     "output_type": "execute_result"
    }
   ],
   "source": [
    "RevLst([3, 1, 9, 8, 4, 5])\n",
    "# [5, 4, 8, 9, 1, 3]"
   ]
  },
  {
   "cell_type": "code",
   "execution_count": 640,
   "id": "7f8f0ae1",
   "metadata": {},
   "outputs": [],
   "source": [
    "#总结：比较难懂的4个算法写法：插入【遍历&二分】；移除【pop】；合并【pop】；翻转【对调】\n",
    "\n",
    "# Q2:Insert a Number in a Sorted List：在list中插入一个值\n",
    "# Description\n",
    "# Build a function NumInsert which inserts a number in a sorted list.\n",
    "\n",
    "#写法0：遍历法\n",
    "#遍历已排序列表，找到合适的插入位置，并将新的数字插入到正确的位置，以保持列表的有序性。\n",
    "#让ind = list长度，从头至尾遍历所有元素，当list中的元素大于插入值时，让ind = i\n",
    "#list.insert(index, target)，让index位置插入target元素\n",
    "def NumInsert(nums, target):\n",
    "    ind = len(nums)\n",
    "    for i in range(len(nums)):\n",
    "        if nums[i] >= target:\n",
    "            ind = i\n",
    "            break\n",
    "    nums.insert(ind, target)\n",
    "    return nums"
   ]
  },
  {
   "cell_type": "code",
   "execution_count": null,
   "id": "966b152e",
   "metadata": {},
   "outputs": [],
   "source": [
    "#写法1: 二分法\n",
    "#步骤：\n",
    "# 1.设定左右两个指针，分解为L和R\n",
    "# 2.L初始值为0，R初始值为List长度\n",
    "# 3.计算中间指针的值 M = (left + right) / 2\n",
    "#     3.1. 若M指针对应的数，大于需要插入的数，将M设为R\n",
    "#     3.2. 若M指针对应的数，小于需要插入的数，将M设为L\n",
    "# 4.重复步骤3，直到\n",
    "#     4.1M指针对应的值等于需要插入的值\n",
    "#     4.2或者，左右指针相遇\n",
    "# 5.将目标数字插入相应的位置\n",
    "\n",
    "#每次取一半，把另一半扔掉，比从头到尾遍历要快\n",
    "\n",
    "def NumInsert(nums, target):\n",
    "    left = 0\n",
    "    right = len(nums)\n",
    "    while right - left > 1:\n",
    "        mid = (left + right) // 2   #整数除法 //：向下取整\n",
    "        if nums[mid] == target:\n",
    "            nums.insert(mid, target)\n",
    "            return nums\n",
    "        elif nums[mid] > target:\n",
    "            right = mid\n",
    "        else:\n",
    "            left = mid\n",
    "    if target > nums[mid]:\n",
    "        nums.insert(right, target)\n",
    "    else:\n",
    "        nums.insert(left, target)\n",
    "    return nums"
   ]
  },
  {
   "cell_type": "code",
   "execution_count": 1,
   "id": "15a04659",
   "metadata": {},
   "outputs": [],
   "source": [
    "# Q3:Remove duplicates from a sorted list：从排好序的列表中移除重复值\n",
    "# Description\n",
    "# Build a function SortRm which removes duplicate numbers in a sorted list.\n",
    "\n",
    "# Examples\n",
    "# SortRm([1, 2, 2, 3, 4, 4, 5, 6]) returns [1, 2, 3, 4, 5, 6]\n",
    "# SortRm([1, 2, 3, 4, 5, 6]) returns [1, 2, 3, 4, 5, 6]\n"
   ]
  },
  {
   "cell_type": "raw",
   "id": "366b2371",
   "metadata": {},
   "source": [
    "1. 把两个list加起来，sort后return整个list\n",
    "def MergeSorted(list1, list2):\n",
    "    list3 =  list1 + list2\n",
    "\n",
    "2. 3种写法都可以：    \n",
    "    list3.sort()\n",
    "    return list3\n",
    "\n",
    "    list3 = sorted(list3)\n",
    "    return list3\n",
    "\n",
    "    return sorted(list3)\n",
    "\n",
    "3. 如果list1不为空，A；为空，B\n",
    "if list1:\n",
    "    return A\n",
    "return B"
   ]
  },
  {
   "cell_type": "code",
   "execution_count": 641,
   "id": "5023cc6f",
   "metadata": {},
   "outputs": [],
   "source": [
    "#写法3：\n",
    "#pop1:tmp定为第一个位置元素，i指针指向第二位：如果i指针上元素与tmp相同，则移除；否则tmp = i位置元素，i向后走一位\n",
    "#遍历法：后一个数 = 前一个数则pop，否则更新tmp，指针i后移，最后返回nums\n",
    "\n",
    "def SortRm(nums):\n",
    "    if len(nums) <= 1:       #如果nums长度是0或1\n",
    "        return nums          #return nums\n",
    "    tmp = nums[0]            #tmp设为nums第一个值\n",
    "    i = 1                    #i设为1，第二个值\n",
    "    while i < len(nums):     #当i < nums长度\n",
    "        if nums[i] == tmp:   #如果nums[i] == tmp:\n",
    "            nums.pop(i)      #nums pop掉 i指针的值\n",
    "        else:                #否则\n",
    "            tmp = nums[i]    #tmp更新为num[i]值\n",
    "            i += 1           #i+1\n",
    "    return nums   "
   ]
  },
  {
   "cell_type": "code",
   "execution_count": 642,
   "id": "d0d823bb",
   "metadata": {},
   "outputs": [],
   "source": [
    "# Q4: Merge Two Sorted Lists:两个排好序的list合并\n",
    "# Description\n",
    "# Build a function MergeSorted which merges two sorted lists as one sorted list.\n",
    "\n",
    "# Examples\n",
    "# MergeSorted([1, 3, 5], [2, 4, 6]) returns [1, 2, 3, 4, 5, 6]\n",
    "# MergeSorted([1, 2, 3], [4, 5, 6]) returns [1, 2, 3, 4, 5, 6]"
   ]
  },
  {
   "cell_type": "code",
   "execution_count": 643,
   "id": "475f7035",
   "metadata": {},
   "outputs": [],
   "source": [
    "#写法3：i = 0, 如果list1[0]小于list2[i]个值，则把list1[0] pop出来，插入在list2[i]值之前；否则i后移1步，指向新的list2[i]。return list2+list1。\n",
    "\n",
    "def MergeSorted(Lst1, Lst2):\n",
    "    i = 0\n",
    "    while Lst1 and i < len(Lst2):\n",
    "        if Lst1[0] <= Lst2[i]:\n",
    "            num = Lst1.pop(0)\n",
    "            Lst2.insert(i, num)\n",
    "        i += 1\n",
    "    \n",
    "    if Lst1:\n",
    "        return Lst2 + Lst1\n",
    "    \n",
    "    return Lst2"
   ]
  },
  {
   "cell_type": "code",
   "execution_count": 644,
   "id": "8d7b5aaf",
   "metadata": {},
   "outputs": [],
   "source": [
    "#Q5: Reverse List：翻转list：头尾数字对调至不能对调为止 #算法系解法\n",
    "# Build a function RevLst which reverses a list.\n",
    "# Example: RevLst([3, 1, 9, 8, 4]) -> [4, 8, 9, 1, 3]"
   ]
  },
  {
   "cell_type": "code",
   "execution_count": 645,
   "id": "c0ed7237",
   "metadata": {},
   "outputs": [],
   "source": [
    "def RevLst(nums):\n",
    "    left = 0\n",
    "    right = len(nums) - 1\n",
    "    while left < right:\n",
    "        nums[left], nums[right] = nums[right], nums[left]\n",
    "        left += 1\n",
    "        right -= 1\n",
    "    return nums"
   ]
  },
  {
   "cell_type": "code",
   "execution_count": 646,
   "id": "632aa762",
   "metadata": {},
   "outputs": [],
   "source": [
    "#0714练习"
   ]
  },
  {
   "cell_type": "code",
   "execution_count": 647,
   "id": "9f07fe93",
   "metadata": {},
   "outputs": [],
   "source": [
    "# Q2:Insert a Number in a Sorted List\n",
    "# Description\n",
    "# Build a function NumInsert which inserts a number in a sorted list.\n",
    "\n",
    "\n",
    "#1.遍历法:\n",
    "#注意限制条件用while, i< len(nums) and num[i]<target时，就i+1\n",
    "#直到nums[i] > target, 在i值前的插入target：nums.insert(i, target)\n",
    "#return nums\n",
    "# def NumInsert(nums, target):\n",
    "#     i = 0\n",
    "#     while i < len(nums) and nums[i] < target:\n",
    "#         i += 1\n",
    "#     nums.insert(i, target)\n",
    "#     return nums\n",
    "\n",
    "#2.遍历法：\n",
    "#将ind设置为最后一位元素，\n",
    "#当i在len(nums)中时，如果nums[i]>= target, 就ind = i；\n",
    "#直到nums[i]<target时，nums.insert(ind, target)。\n",
    "#return nums\n",
    "# def NumInsert(nums, target):\n",
    "#     ind = len(nums)                     #ind = 长度\n",
    "#     for i in range(len(nums)):          #i在list内移动\n",
    "#         if nums[i] >= target:           #list[i]比插入值大时\n",
    "#             ind = i                     #ind更新为i\n",
    "#             break                       #结束\n",
    "#     nums.insert(ind, target)            #在[i]前插入target\n",
    "#     return nums\n",
    "\n",
    "\n",
    "\n",
    "#3.二分法：\n",
    "#左右两个指针，L和R\n",
    "#L初始值0，R初始值list长度\n",
    "#计算中间指针M值：M = (left + right) // 2\n",
    "    #如果M指针对应的值 = target，在M前插入值\n",
    "    #如果M指针对应的值 > target，将M设为R\n",
    "    #如果M指针对应的值 < target，将M设为L\n",
    "#重复步骤3，直到\n",
    "    #M指针对应的值= target\n",
    "    #左右指针相遇\n",
    "#将target插入相应位置\n",
    "\n",
    "def NumInsert(nums, target):\n",
    "    left = 0 \n",
    "    right = len(nums)\n",
    "    while right - left > 1:\n",
    "        mid = (left + right) // 2\n",
    "        if nums[mid] == target:\n",
    "            nums.insert(mid, target)\n",
    "            return nums\n",
    "        elif nums[mid] > target:\n",
    "            right = mid\n",
    "        else:\n",
    "            left = mid\n",
    "    if target > nums[mid]:\n",
    "        nums.insert(right, target)\n",
    "    else:\n",
    "        nums.insert(left, target)\n",
    "    return nums\n",
    "\n",
    "#4.1 append&sort法:\n",
    "# def NumInsert(nums, target):\n",
    "#     nums.append(target)\n",
    "#     nums.sort()\n",
    "#     return nums\n",
    "\n",
    "# 4.1 append&sort法:\n",
    "# def NumInsert(nums, target):\n",
    "#     nums.append(target)\n",
    "#     nums = sorted(nums)\n",
    "#     return nums\n",
    "\n",
    "\n",
    "\n",
    "\n",
    "##---------------------------\n",
    "#写法1：\n",
    "# def NumInsert(nums, target):\n",
    "#     nums.append(target)\n",
    "#     nums.sort()\n",
    "#     return nums\n",
    "#写法2：\n",
    "# def NumInsert(nums, target):\n",
    "#     nums.append(target)\n",
    "#     nums = sorted(nums)\n",
    "#     return nums\n",
    "# #写法3：\n",
    "# def NumInsert(nums, target):\n",
    "#     nums.append(target)\n",
    "#     return sorted(nums)"
   ]
  },
  {
   "cell_type": "code",
   "execution_count": 2,
   "id": "456fa138",
   "metadata": {},
   "outputs": [],
   "source": [
    "# Q3: Remove duplicates from a sorted list\n",
    "# Description\n",
    "# Build a function SortRm which removes duplicate numbers in a sorted list.\n",
    "\n",
    "#1. append法：\n",
    "#创建新list，对于num in nums来说\n",
    "#如果num没在result中，则append进result中\n",
    "#return result\n",
    "\n",
    "# def SortRm(nums):\n",
    "#     result = []\n",
    "#     for num in nums:\n",
    "#         if num not in result:\n",
    "#             result.append(num)\n",
    "#     return result\n",
    "\n",
    "\n",
    "#2. 遍历法：后一个数 = 前一个数则pop，否则更新tmp，指针i后移，最后返回nums\n",
    "\n",
    "# def SortRm(nums):\n",
    "#     if len(nums) <= 1:       #如果nums长度是0或1\n",
    "#         return nums          #return nums\n",
    "#     tmp = nums[0]            #tmp设为nums第一个值\n",
    "#     i = 1                    #i设为1，第二个值\n",
    "#     while i < len(nums):     #当i < nums长度\n",
    "#         if nums[i] == tmp:   #如果nums[i] == tmp:\n",
    "#             nums.pop(i)      #nums pop掉 i指针的值\n",
    "#         else:                #否则\n",
    "#             tmp = nums[i]    #tmp更新为num[i]值\n",
    "#             i += 1           #i+1\n",
    "#     return nums              \n",
    "\n",
    "#错误代码：\n",
    "# def SortRm(nums):\n",
    "#     a = []\n",
    "#     for i in range(len(nums)):\n",
    "#         if nums[i] not in a:\n",
    "#             a.append(nums[i])\n",
    "#         nums.pop(nums[i])\n",
    "#     return a\n",
    "\n",
    "#不可以用pop(num[i])：\n",
    "# nums.pop()函数的参数应该是一个索引值，而不是列表中的元素值。因此，nums.pop(nums[i])的写法是不正确的。\n",
    "# 另外，在遍历列表时，使用nums.pop()函数会导致索引值的不一致，因为在列表中删除元素后，后续的索引值会发生变化，可能会导致跳过一些元素或出现索引错误。\n",
    "# 修正后的代码应该使用一个新的列表来存储非重复的元素，并使用一个额外的变量来迭代遍历原始列表。以下是修正后的实现方式：\n",
    "\n",
    "##=========================================\n",
    "# def SortRm(nums):\n",
    "#     result = []\n",
    "#     for num in nums:    \n",
    "#         if num not in result:\n",
    "#             result.append(num)\n",
    "#     return result"
   ]
  },
  {
   "cell_type": "markdown",
   "id": "377c35f1",
   "metadata": {},
   "source": [
    "# Unit 3"
   ]
  },
  {
   "cell_type": "markdown",
   "id": "f015254a",
   "metadata": {},
   "source": [
    "## 7.1 List to Number "
   ]
  },
  {
   "cell_type": "markdown",
   "id": "efd607de",
   "metadata": {},
   "source": [
    "## List to Number: Build a function Lst2Num which convert a number list into one number.\n",
    "Example: Lst2Num([1, 3, 5]) returns 135\n",
    "Example: Lst2Num([0, 1, 2, 0, 3]) returns 1203"
   ]
  },
  {
   "cell_type": "code",
   "execution_count": 144,
   "id": "5db71e6d",
   "metadata": {},
   "outputs": [],
   "source": [
    "#输入list, 返回list中不加空格的数字：\n",
    "#loop遍历数字，把数字取出来，让res * 10 + 数字\n",
    "\n",
    "def Lst2Num(nums):\n",
    "    res = 0                         #res = () × 不可以，否则报错 \n",
    "    for num in nums:\n",
    "        res = res* 10 + num\n",
    "    return res"
   ]
  },
  {
   "cell_type": "code",
   "execution_count": 145,
   "id": "ecd69207",
   "metadata": {},
   "outputs": [
    {
     "data": {
      "text/plain": [
       "135"
      ]
     },
     "execution_count": 145,
     "metadata": {},
     "output_type": "execute_result"
    }
   ],
   "source": [
    "Lst2Num([1, 3, 5])"
   ]
  },
  {
   "cell_type": "code",
   "execution_count": 146,
   "id": "99cfb3d4",
   "metadata": {},
   "outputs": [],
   "source": [
    "def Lst2Num(nums):\n",
    "    res = 0\n",
    "    for num in nums:\n",
    "        print(\"res =\", res)\n",
    "        print(\"num = \", num)\n",
    "        res = res * 10 + num\n",
    "        print(\"res = \", res)\n",
    "        print(\"===\")\n",
    "    return res"
   ]
  },
  {
   "cell_type": "code",
   "execution_count": 148,
   "id": "91c2f252",
   "metadata": {},
   "outputs": [
    {
     "name": "stdout",
     "output_type": "stream",
     "text": [
      "res = 0\n",
      "num =  1\n",
      "res =  1\n",
      "===\n",
      "res = 1\n",
      "num =  3\n",
      "res =  13\n",
      "===\n",
      "res = 13\n",
      "num =  5\n",
      "res =  135\n",
      "===\n"
     ]
    },
    {
     "data": {
      "text/plain": [
       "135"
      ]
     },
     "execution_count": 148,
     "metadata": {},
     "output_type": "execute_result"
    }
   ],
   "source": [
    "Lst2Num([1, 3, 5])"
   ]
  },
  {
   "cell_type": "code",
   "execution_count": 149,
   "id": "d5ec61c3",
   "metadata": {},
   "outputs": [
    {
     "name": "stdout",
     "output_type": "stream",
     "text": [
      "res = 0\n",
      "num =  0\n",
      "res =  0\n",
      "===\n",
      "res = 0\n",
      "num =  1\n",
      "res =  1\n",
      "===\n",
      "res = 1\n",
      "num =  2\n",
      "res =  12\n",
      "===\n",
      "res = 12\n",
      "num =  0\n",
      "res =  120\n",
      "===\n",
      "res = 120\n",
      "num =  3\n",
      "res =  1203\n",
      "===\n"
     ]
    },
    {
     "data": {
      "text/plain": [
       "1203"
      ]
     },
     "execution_count": 149,
     "metadata": {},
     "output_type": "execute_result"
    }
   ],
   "source": [
    "Lst2Num([0, 1, 2, 0, 3])"
   ]
  },
  {
   "cell_type": "markdown",
   "id": "5af2717d",
   "metadata": {},
   "source": [
    "## 7.2  Maximum Stock Gain (2-loop version)\n",
    "Maximum Stock Gain\n",
    "Build a function MaxGain to find the maximum you can gain by buying and selling stocks. The strock prices represented as a list of numbers. You need to buy stocks before you sell them.\n",
    "Example: MaxGain([3, 4, 1, 5, 7, 2]) returns 6\n",
    "--Explanation: Buy stocks when the price is 1 and sell them when the price is 7.\n",
    "\n",
    "Example: MaxGain([5, 4, 3, 2, 1]) returns 0"
   ]
  },
  {
   "cell_type": "code",
   "execution_count": 150,
   "id": "3940d1d3",
   "metadata": {},
   "outputs": [],
   "source": [
    "#事后诸葛亮形式，看何时买何时卖能最大程度盈利\n",
    "#看时间复杂度：\n",
    "#所有到每一天和之前的进行比较：先把每一天遍历；再把这一天之前的每一天遍历\n",
    "#如果后面的天 - 前面的天 > gain, 就把gain替换上去\n",
    "\n",
    "def MaxGain(nums):\n",
    "    gain = 0 \n",
    "    for i in range(len(nums)):\n",
    "        for j in range(i):\n",
    "            if nums[i] - nums[j] > gain:\n",
    "                gain = nums[i] - nums[j]\n",
    "    return gain"
   ]
  },
  {
   "cell_type": "code",
   "execution_count": 28,
   "id": "63e682e1",
   "metadata": {},
   "outputs": [
    {
     "data": {
      "text/plain": [
       "6"
      ]
     },
     "execution_count": 28,
     "metadata": {},
     "output_type": "execute_result"
    }
   ],
   "source": [
    "#股价为1买入，股价为7卖出，max gain = 6\n",
    "MaxGain([3, 4, 1, 5, 7, 2])\n",
    "#6"
   ]
  },
  {
   "cell_type": "code",
   "execution_count": 30,
   "id": "59a1e3b0",
   "metadata": {},
   "outputs": [
    {
     "data": {
      "text/plain": [
       "0"
      ]
     },
     "execution_count": 30,
     "metadata": {},
     "output_type": "execute_result"
    }
   ],
   "source": [
    "#股价后面一直降价，不操作赚最多，max gain = 0\n",
    "MaxGain([5, 4, 3, 2, 1])\n",
    "#0"
   ]
  },
  {
   "cell_type": "code",
   "execution_count": 33,
   "id": "f9c42020",
   "metadata": {},
   "outputs": [],
   "source": [
    "def MaxGain(nums):\n",
    "    gain = 0 \n",
    "    for i in range(len(nums)):\n",
    "        print(\"==============\")\n",
    "        print(\"i=\", i)\n",
    "        print(\"nums[i]=\", nums[i])\n",
    "        for j in range(i):\n",
    "            print(\"nums[j] = \", nums[j])\n",
    "            print(\"gain\", gain)\n",
    "            print(\"cur_gain\", nums[i] - nums[j])\n",
    "            print(\"-------------\")\n",
    "            if nums[i] - nums[j] > gain:\n",
    "                gain = nums[i] - nums[j]\n",
    "    return gain"
   ]
  },
  {
   "cell_type": "code",
   "execution_count": 36,
   "id": "baa22449",
   "metadata": {},
   "outputs": [
    {
     "name": "stdout",
     "output_type": "stream",
     "text": [
      "==============\n",
      "i= 0\n",
      "nums[i]= 3\n",
      "==============\n",
      "i= 1\n",
      "nums[i]= 4\n",
      "nums[j] =  3\n",
      "gain 0\n",
      "cur_gain 1\n",
      "-------------\n",
      "==============\n",
      "i= 2\n",
      "nums[i]= 1\n",
      "nums[j] =  3\n",
      "gain 1\n",
      "cur_gain -2\n",
      "-------------\n",
      "nums[j] =  4\n",
      "gain 1\n",
      "cur_gain -3\n",
      "-------------\n",
      "==============\n",
      "i= 3\n",
      "nums[i]= 5\n",
      "nums[j] =  3\n",
      "gain 1\n",
      "cur_gain 2\n",
      "-------------\n",
      "nums[j] =  4\n",
      "gain 2\n",
      "cur_gain 1\n",
      "-------------\n",
      "nums[j] =  1\n",
      "gain 2\n",
      "cur_gain 4\n",
      "-------------\n",
      "==============\n",
      "i= 4\n",
      "nums[i]= 7\n",
      "nums[j] =  3\n",
      "gain 4\n",
      "cur_gain 4\n",
      "-------------\n",
      "nums[j] =  4\n",
      "gain 4\n",
      "cur_gain 3\n",
      "-------------\n",
      "nums[j] =  1\n",
      "gain 4\n",
      "cur_gain 6\n",
      "-------------\n",
      "nums[j] =  5\n",
      "gain 6\n",
      "cur_gain 2\n",
      "-------------\n",
      "==============\n",
      "i= 5\n",
      "nums[i]= 2\n",
      "nums[j] =  3\n",
      "gain 6\n",
      "cur_gain -1\n",
      "-------------\n",
      "nums[j] =  4\n",
      "gain 6\n",
      "cur_gain -2\n",
      "-------------\n",
      "nums[j] =  1\n",
      "gain 6\n",
      "cur_gain 1\n",
      "-------------\n",
      "nums[j] =  5\n",
      "gain 6\n",
      "cur_gain -3\n",
      "-------------\n",
      "nums[j] =  7\n",
      "gain 6\n",
      "cur_gain -5\n",
      "-------------\n"
     ]
    },
    {
     "data": {
      "text/plain": [
       "6"
      ]
     },
     "execution_count": 36,
     "metadata": {},
     "output_type": "execute_result"
    }
   ],
   "source": [
    "MaxGain([3, 4, 1, 5, 7, 2])"
   ]
  },
  {
   "cell_type": "code",
   "execution_count": 37,
   "id": "6899d7c4",
   "metadata": {},
   "outputs": [
    {
     "name": "stdout",
     "output_type": "stream",
     "text": [
      "==============\n",
      "i= 0\n",
      "nums[i]= 9\n",
      "==============\n",
      "i= 1\n",
      "nums[i]= 10\n",
      "nums[j] =  9\n",
      "gain 0\n",
      "cur_gain 1\n",
      "-------------\n",
      "==============\n",
      "i= 2\n",
      "nums[i]= 1\n",
      "nums[j] =  9\n",
      "gain 1\n",
      "cur_gain -8\n",
      "-------------\n",
      "nums[j] =  10\n",
      "gain 1\n",
      "cur_gain -9\n",
      "-------------\n",
      "==============\n",
      "i= 3\n",
      "nums[i]= 5\n",
      "nums[j] =  9\n",
      "gain 1\n",
      "cur_gain -4\n",
      "-------------\n",
      "nums[j] =  10\n",
      "gain 1\n",
      "cur_gain -5\n",
      "-------------\n",
      "nums[j] =  1\n",
      "gain 1\n",
      "cur_gain 4\n",
      "-------------\n",
      "==============\n",
      "i= 4\n",
      "nums[i]= 7\n",
      "nums[j] =  9\n",
      "gain 4\n",
      "cur_gain -2\n",
      "-------------\n",
      "nums[j] =  10\n",
      "gain 4\n",
      "cur_gain -3\n",
      "-------------\n",
      "nums[j] =  1\n",
      "gain 4\n",
      "cur_gain 6\n",
      "-------------\n",
      "nums[j] =  5\n",
      "gain 6\n",
      "cur_gain 2\n",
      "-------------\n",
      "==============\n",
      "i= 5\n",
      "nums[i]= 2\n",
      "nums[j] =  9\n",
      "gain 6\n",
      "cur_gain -7\n",
      "-------------\n",
      "nums[j] =  10\n",
      "gain 6\n",
      "cur_gain -8\n",
      "-------------\n",
      "nums[j] =  1\n",
      "gain 6\n",
      "cur_gain 1\n",
      "-------------\n",
      "nums[j] =  5\n",
      "gain 6\n",
      "cur_gain -3\n",
      "-------------\n",
      "nums[j] =  7\n",
      "gain 6\n",
      "cur_gain -5\n",
      "-------------\n",
      "==============\n",
      "i= 6\n",
      "nums[i]= 9\n",
      "nums[j] =  9\n",
      "gain 6\n",
      "cur_gain 0\n",
      "-------------\n",
      "nums[j] =  10\n",
      "gain 6\n",
      "cur_gain -1\n",
      "-------------\n",
      "nums[j] =  1\n",
      "gain 6\n",
      "cur_gain 8\n",
      "-------------\n",
      "nums[j] =  5\n",
      "gain 8\n",
      "cur_gain 4\n",
      "-------------\n",
      "nums[j] =  7\n",
      "gain 8\n",
      "cur_gain 2\n",
      "-------------\n",
      "nums[j] =  2\n",
      "gain 8\n",
      "cur_gain 7\n",
      "-------------\n"
     ]
    },
    {
     "data": {
      "text/plain": [
       "8"
      ]
     },
     "execution_count": 37,
     "metadata": {},
     "output_type": "execute_result"
    }
   ],
   "source": [
    "#股价为1买入，股价为9卖出，max gain = 8\n",
    "MaxGain([9, 10, 1, 5, 7, 2, 9])"
   ]
  },
  {
   "cell_type": "code",
   "execution_count": 38,
   "id": "102be641",
   "metadata": {
    "scrolled": true
   },
   "outputs": [
    {
     "name": "stdout",
     "output_type": "stream",
     "text": [
      "==============\n",
      "i= 0\n",
      "nums[i]= 5\n",
      "==============\n",
      "i= 1\n",
      "nums[i]= 4\n",
      "nums[j] =  5\n",
      "gain 0\n",
      "cur_gain -1\n",
      "-------------\n",
      "==============\n",
      "i= 2\n",
      "nums[i]= 3\n",
      "nums[j] =  5\n",
      "gain 0\n",
      "cur_gain -2\n",
      "-------------\n",
      "nums[j] =  4\n",
      "gain 0\n",
      "cur_gain -1\n",
      "-------------\n",
      "==============\n",
      "i= 3\n",
      "nums[i]= 2\n",
      "nums[j] =  5\n",
      "gain 0\n",
      "cur_gain -3\n",
      "-------------\n",
      "nums[j] =  4\n",
      "gain 0\n",
      "cur_gain -2\n",
      "-------------\n",
      "nums[j] =  3\n",
      "gain 0\n",
      "cur_gain -1\n",
      "-------------\n",
      "==============\n",
      "i= 4\n",
      "nums[i]= 1\n",
      "nums[j] =  5\n",
      "gain 0\n",
      "cur_gain -4\n",
      "-------------\n",
      "nums[j] =  4\n",
      "gain 0\n",
      "cur_gain -3\n",
      "-------------\n",
      "nums[j] =  3\n",
      "gain 0\n",
      "cur_gain -2\n",
      "-------------\n",
      "nums[j] =  2\n",
      "gain 0\n",
      "cur_gain -1\n",
      "-------------\n"
     ]
    },
    {
     "data": {
      "text/plain": [
       "0"
      ]
     },
     "execution_count": 38,
     "metadata": {},
     "output_type": "execute_result"
    }
   ],
   "source": [
    "#后一天都比前一天价低，不操作赚的最多，所以gain = 0\n",
    "MaxGain([5, 4, 3, 2, 1])"
   ]
  },
  {
   "cell_type": "markdown",
   "id": "1d7b6b21",
   "metadata": {},
   "source": [
    "# 7.2 Example: Maximum Stock Gain (1-loop version)\n",
    "Homework\n",
    "1、Maximum Stock Gain\n",
    "\n",
    "Code\n",
    " Maximum Stock Gain\n",
    "Build a function MaxGain to find the maximum you can gain by buying and selling stocks. The strock prices represented as a list of numbers. You need to buy stocks before you sell them.\n",
    "Example: MaxGain([3, 4, 1, 5, 7, 2]) returns 6\n",
    "--Explanation: Buy stocks when the price is 1 and sell them when the price is 7.\n",
    "\n",
    "Example: MaxGain([5, 4, 3, 2, 1]) returns 0"
   ]
  },
  {
   "cell_type": "code",
   "execution_count": 39,
   "id": "fb9212ba",
   "metadata": {},
   "outputs": [],
   "source": [
    "#1 loop比 2 loop省时间\n",
    "#1 loop key: 把之前最低的价格记下来, 更新gain\n",
    "# 遍历数字，每到一个数字进行两次判断：\n",
    "# i.当前值 - min > gain, 就更新gain：这天卖最赚；\n",
    "# ii.当前值 < min，就更新min\n",
    "\n",
    "def MaxGain(nums):\n",
    "    min_price = nums[0]                 #第一天值\n",
    "    gain = 0\n",
    "    for num in nums:\n",
    "        if num - min_price > gain:      #※当前价 - 最低价 > gain\n",
    "            gain = num - min_price      #把gain值更新\n",
    "        if num < min_price:             #※当前价 与 最低价 低\n",
    "            min_price = num             #把最低价更新\n",
    "    return gain"
   ]
  },
  {
   "cell_type": "code",
   "execution_count": 40,
   "id": "70e06a4a",
   "metadata": {},
   "outputs": [
    {
     "data": {
      "text/plain": [
       "6"
      ]
     },
     "execution_count": 40,
     "metadata": {},
     "output_type": "execute_result"
    }
   ],
   "source": [
    "MaxGain([3, 4, 1, 5, 7, 2])\n",
    "#6"
   ]
  },
  {
   "cell_type": "code",
   "execution_count": 42,
   "id": "0ed75020",
   "metadata": {},
   "outputs": [
    {
     "data": {
      "text/plain": [
       "8"
      ]
     },
     "execution_count": 42,
     "metadata": {},
     "output_type": "execute_result"
    }
   ],
   "source": [
    "MaxGain([9, 10, 1, 5, 7, 2, 9])\n",
    "#8"
   ]
  },
  {
   "cell_type": "code",
   "execution_count": 45,
   "id": "5f4a21bc",
   "metadata": {},
   "outputs": [
    {
     "data": {
      "text/plain": [
       "0"
      ]
     },
     "execution_count": 45,
     "metadata": {},
     "output_type": "execute_result"
    }
   ],
   "source": [
    "MaxGain([5, 4, 3, 2, 1])\n",
    "#0"
   ]
  },
  {
   "cell_type": "code",
   "execution_count": 52,
   "id": "b9527958",
   "metadata": {},
   "outputs": [],
   "source": [
    "def MaxGain(nums):\n",
    "    min_price = nums[0]\n",
    "    gain = 0\n",
    "    for num in nums:\n",
    "        print(\"min_price=\", min_price)\n",
    "        print(\"gain=\", gain)\n",
    "        print(\"cur_price=\", num)\n",
    "        print(\"cur_gain=\", num - min_price)\n",
    "        print(\"===========\")\n",
    "        if num - min_price > gain:\n",
    "            gain = num - min_price\n",
    "        if num < min_price:\n",
    "            min_price = num\n",
    "    return gain"
   ]
  },
  {
   "cell_type": "code",
   "execution_count": 49,
   "id": "88138282",
   "metadata": {},
   "outputs": [
    {
     "name": "stdout",
     "output_type": "stream",
     "text": [
      "min_price= 9\n",
      "gain= 0\n",
      "cur_price= 9\n",
      "cur_gain= 0\n",
      "===========\n",
      "min_price= 9\n",
      "gain= 0\n",
      "cur_price= 10\n",
      "cur_gain= 1\n",
      "===========\n",
      "min_price= 9\n",
      "gain= 1\n",
      "cur_price= 1\n",
      "cur_gain= -8\n",
      "===========\n",
      "min_price= 1\n",
      "gain= 1\n",
      "cur_price= 5\n",
      "cur_gain= 4\n",
      "===========\n",
      "min_price= 1\n",
      "gain= 4\n",
      "cur_price= 7\n",
      "cur_gain= 6\n",
      "===========\n",
      "min_price= 1\n",
      "gain= 6\n",
      "cur_price= 2\n",
      "cur_gain= 1\n",
      "===========\n",
      "min_price= 1\n",
      "gain= 6\n",
      "cur_price= 9\n",
      "cur_gain= 8\n",
      "===========\n"
     ]
    },
    {
     "data": {
      "text/plain": [
       "8"
      ]
     },
     "execution_count": 49,
     "metadata": {},
     "output_type": "execute_result"
    }
   ],
   "source": [
    "MaxGain([9, 10, 1, 5, 7, 2, 9])"
   ]
  },
  {
   "cell_type": "code",
   "execution_count": 51,
   "id": "31d620ad",
   "metadata": {},
   "outputs": [
    {
     "name": "stdout",
     "output_type": "stream",
     "text": [
      "min_price= 5\n",
      "gain= 0\n",
      "cur_price= 5\n",
      "cur_gain= 0\n",
      "===========\n",
      "min_price= 5\n",
      "gain= 0\n",
      "cur_price= 4\n",
      "cur_gain= -1\n",
      "===========\n",
      "min_price= 4\n",
      "gain= 0\n",
      "cur_price= 3\n",
      "cur_gain= -1\n",
      "===========\n",
      "min_price= 3\n",
      "gain= 0\n",
      "cur_price= 2\n",
      "cur_gain= -1\n",
      "===========\n",
      "min_price= 2\n",
      "gain= 0\n",
      "cur_price= 1\n",
      "cur_gain= -1\n",
      "===========\n"
     ]
    },
    {
     "data": {
      "text/plain": [
       "0"
      ]
     },
     "execution_count": 51,
     "metadata": {},
     "output_type": "execute_result"
    }
   ],
   "source": [
    "MaxGain([5, 4, 3, 2, 1])"
   ]
  },
  {
   "cell_type": "markdown",
   "id": "6bc8e344",
   "metadata": {},
   "source": [
    "## 7.3 Example: Pascal’s Triangle (Recursion)\n",
    "Homework\n",
    "1、Pascal's Triangle\n",
    "\n",
    "Code\n",
    "7.3 Pascal's Triangle\n",
    "Build a function PascalT which takes an integer n as an input and generate a n layer Pascal's Triangle.\n",
    "Example: PascalT(3) returns [[1], [1, 1], [1, 2, 1]]\n",
    "Example: PascalT(5) returns [[1], [1, 1], [1, 2, 1], [1, 3, 3, 1], [1, 4, 6, 4, 1]]"
   ]
  },
  {
   "cell_type": "code",
   "execution_count": 58,
   "id": "7fb32e5a",
   "metadata": {},
   "outputs": [],
   "source": [
    "#杨辉三角\n",
    "# 每一层数字的数目等于层数\n",
    "# 最左边和最右边的数字都是1\n",
    "# 从第三层开始，中间第i个数字的值，是上一层第i和第i-1数字的和\n",
    "# 里面每一个元素是一个list\n",
    "\n",
    "每一层是上面一层元素加和出来，recursion递归：函数内部调用函数，互换自己\n",
    "\n",
    "\n",
    "def PascalT(n):\n",
    "    if n == 1:\n",
    "        return [[1]]           #返回一个list, list里只有一个数1\n",
    "    elif n == 2:\n",
    "        return [[1], [1, 1]]\n",
    "    else:\n",
    "        T = PascalT(n - 1)     #recusion\n",
    "        last_layer = T[-1]     \n",
    "        new_layer = [1]\n",
    "        for i in range(n - 2):\n",
    "            new_layer.append(last_layer[i] + last_layer[i + 1])\n",
    "        new_layer.append(1)\n",
    "        T.append(new_layer)\n",
    "        return T"
   ]
  },
  {
   "cell_type": "code",
   "execution_count": 60,
   "id": "7d064c35",
   "metadata": {},
   "outputs": [
    {
     "data": {
      "text/plain": [
       "[[1], [1, 1], [1, 2, 1], [1, 3, 3, 1], [1, 4, 6, 4, 1]]"
      ]
     },
     "execution_count": 60,
     "metadata": {},
     "output_type": "execute_result"
    }
   ],
   "source": [
    "PascalT(5)"
   ]
  },
  {
   "cell_type": "code",
   "execution_count": 63,
   "id": "169c7730",
   "metadata": {},
   "outputs": [],
   "source": [
    "def PascalT(n):\n",
    "    print(\"====\")\n",
    "    print(\"n=\", n)\n",
    "    if n == 1:\n",
    "        return [[1]]\n",
    "    elif n == 2:\n",
    "        return [[1], [1,1]]\n",
    "    else:\n",
    "        T = PascalT(n - 1)\n",
    "        print(\"T\", T)\n",
    "        last_layer = T[-1]\n",
    "        new_layer = T[1]  #left\n",
    "        print(\"-----\")\n",
    "        print(\"new_layer = \", new_layer)\n",
    "        for i in range(n - 2):\n",
    "            print(\"i = \", i)\n",
    "            print(\"last_layer[i]\", last_layer[i])\n",
    "            print(\"last_layer[i + 1]\", last_layer[i + 1])\n",
    "            new_layer.append(last_layer[i] + last_layer[i + 1])\n",
    "        new_layer.append(1) #right\n",
    "        print(\"new_layer = \", new_layer)\n",
    "        T.append(new_layer)\n",
    "        return T"
   ]
  },
  {
   "cell_type": "code",
   "execution_count": 65,
   "id": "f442e02d",
   "metadata": {},
   "outputs": [
    {
     "name": "stdout",
     "output_type": "stream",
     "text": [
      "====\n",
      "n= 5\n",
      "====\n",
      "n= 4\n",
      "====\n",
      "n= 3\n",
      "====\n",
      "n= 2\n",
      "T [[1], [1, 1]]\n",
      "-----\n",
      "new_layer =  [1, 1]\n",
      "i =  0\n",
      "last_layer[i] 1\n",
      "last_layer[i + 1] 1\n",
      "new_layer =  [1, 1, 2, 1]\n",
      "T [[1], [1, 1, 2, 1], [1, 1, 2, 1]]\n",
      "-----\n",
      "new_layer =  [1, 1, 2, 1]\n",
      "i =  0\n",
      "last_layer[i] 1\n",
      "last_layer[i + 1] 1\n",
      "i =  1\n",
      "last_layer[i] 1\n",
      "last_layer[i + 1] 2\n",
      "new_layer =  [1, 1, 2, 1, 2, 3, 1]\n",
      "T [[1], [1, 1, 2, 1, 2, 3, 1], [1, 1, 2, 1, 2, 3, 1], [1, 1, 2, 1, 2, 3, 1]]\n",
      "-----\n",
      "new_layer =  [1, 1, 2, 1, 2, 3, 1]\n",
      "i =  0\n",
      "last_layer[i] 1\n",
      "last_layer[i + 1] 1\n",
      "i =  1\n",
      "last_layer[i] 1\n",
      "last_layer[i + 1] 2\n",
      "i =  2\n",
      "last_layer[i] 2\n",
      "last_layer[i + 1] 1\n",
      "new_layer =  [1, 1, 2, 1, 2, 3, 1, 2, 3, 3, 1]\n"
     ]
    },
    {
     "data": {
      "text/plain": [
       "[[1],\n",
       " [1, 1, 2, 1, 2, 3, 1, 2, 3, 3, 1],\n",
       " [1, 1, 2, 1, 2, 3, 1, 2, 3, 3, 1],\n",
       " [1, 1, 2, 1, 2, 3, 1, 2, 3, 3, 1],\n",
       " [1, 1, 2, 1, 2, 3, 1, 2, 3, 3, 1]]"
      ]
     },
     "execution_count": 65,
     "metadata": {},
     "output_type": "execute_result"
    }
   ],
   "source": [
    "PascalT(5)"
   ]
  },
  {
   "cell_type": "markdown",
   "id": "3658246a",
   "metadata": {},
   "source": [
    "## 7.3 Pascal's Triangle (LOOP)\n",
    "Build a function PascalT which takes an integer n as an input and generate a n layer Pascal's Triangle.\n",
    "Example: PascalT(3) returns [[1], [1, 1], [1, 2, 1]]\n",
    "Example: PascalT(5) returns [[1], [1, 1], [1, 2, 1], [1, 3, 3, 1], [1, 4, 6, 4, 1]]"
   ]
  },
  {
   "cell_type": "code",
   "execution_count": 67,
   "id": "a105a20c",
   "metadata": {},
   "outputs": [],
   "source": [
    "def PascalT(n):\n",
    "    if n <= 0:\n",
    "        return []\n",
    "    \n",
    "    T = [[1]]\n",
    "    \n",
    "    if n > 1:\n",
    "        for i in range(1, n):\n",
    "            last_layer = T[-1]\n",
    "            last_layer = [0] + last_layer + [0]\n",
    "            new_layer = []\n",
    "            for j in range(len(last_layer) - 1):\n",
    "                new_layer.append(last_layer[j] + last_layer[j + 1])\n",
    "            T.append(new_layer)\n",
    "    return T"
   ]
  },
  {
   "cell_type": "code",
   "execution_count": 68,
   "id": "66adb997",
   "metadata": {},
   "outputs": [
    {
     "data": {
      "text/plain": [
       "[[1], [1, 1], [1, 2, 1], [1, 3, 3, 1], [1, 4, 6, 4, 1]]"
      ]
     },
     "execution_count": 68,
     "metadata": {},
     "output_type": "execute_result"
    }
   ],
   "source": [
    "PascalT(5)\n",
    "#[[1], [1, 1], [1, 2, 1], [1, 3, 3, 1], [1, 4, 6, 4, 1]]"
   ]
  },
  {
   "cell_type": "code",
   "execution_count": 70,
   "id": "1b0cc588",
   "metadata": {},
   "outputs": [],
   "source": [
    "def PascalT(n):\n",
    "    if n <= 0:\n",
    "        return []\n",
    "    \n",
    "    T = [[1]]\n",
    "    \n",
    "    if n > 1:\n",
    "        for i in range(1, n):\n",
    "            print(\"=======\")\n",
    "            print(\"cur_layer_num\", i + 1)\n",
    "            last_layer = T[-1]\n",
    "            print(\"last_layer = \", last_layer)\n",
    "            new_layer = []\n",
    "            for j in range(len(last_layer) - 1):\n",
    "                new_layer.append(last_layer[j] + last_layer[j + 1])\n",
    "                print(\"j = \", j)\n",
    "                print(\"new_layer\", new_layer)\n",
    "            T.append(new_layer)\n",
    "        return T"
   ]
  },
  {
   "cell_type": "code",
   "execution_count": 73,
   "id": "de7220d2",
   "metadata": {},
   "outputs": [
    {
     "name": "stdout",
     "output_type": "stream",
     "text": [
      "=======\n",
      "cur_layer_num 2\n",
      "last_layer =  [1]\n",
      "=======\n",
      "cur_layer_num 3\n",
      "last_layer =  []\n",
      "=======\n",
      "cur_layer_num 4\n",
      "last_layer =  []\n",
      "=======\n",
      "cur_layer_num 5\n",
      "last_layer =  []\n"
     ]
    },
    {
     "data": {
      "text/plain": [
       "[[1], [], [], [], []]"
      ]
     },
     "execution_count": 73,
     "metadata": {},
     "output_type": "execute_result"
    }
   ],
   "source": [
    "PascalT(5)\n",
    "# =======\n",
    "# cur_layer_num 2\n",
    "# last_layer =  [1]\n",
    "# =======\n",
    "# cur_layer_num 3\n",
    "# last_layer =  []\n",
    "# =======\n",
    "# cur_layer_num 4\n",
    "# last_layer =  []\n",
    "# =======\n",
    "# cur_layer_num 5\n",
    "# last_layer =  []\n",
    "# [[1], [], [], [], []]"
   ]
  },
  {
   "cell_type": "markdown",
   "id": "39dcf77c",
   "metadata": {},
   "source": [
    "## Intro to Set "
   ]
  },
  {
   "cell_type": "markdown",
   "id": "2e072d2b",
   "metadata": {},
   "source": [
    "## 1.Set\n",
    "a set is denoted by a pair of curly braces"
   ]
  },
  {
   "cell_type": "markdown",
   "id": "71c11376",
   "metadata": {},
   "source": [
    "### 1.1 An empty set "
   ]
  },
  {
   "cell_type": "code",
   "execution_count": 151,
   "id": "eec703cc",
   "metadata": {},
   "outputs": [],
   "source": [
    "#花括号定义set\n",
    "a = {}"
   ]
  },
  {
   "cell_type": "code",
   "execution_count": 77,
   "id": "15becded",
   "metadata": {},
   "outputs": [
    {
     "name": "stdout",
     "output_type": "stream",
     "text": [
      "{}\n"
     ]
    }
   ],
   "source": [
    "print(a)\n",
    "#{}"
   ]
  },
  {
   "cell_type": "markdown",
   "id": "7f412bb0",
   "metadata": {},
   "source": [
    "## 1.2 Sets of numbers "
   ]
  },
  {
   "cell_type": "code",
   "execution_count": 78,
   "id": "65589add",
   "metadata": {},
   "outputs": [],
   "source": [
    "a = {1, 2, 3, 4}"
   ]
  },
  {
   "cell_type": "code",
   "execution_count": 80,
   "id": "fac8c9db",
   "metadata": {},
   "outputs": [
    {
     "name": "stdout",
     "output_type": "stream",
     "text": [
      "{1, 2, 3, 4}\n"
     ]
    }
   ],
   "source": [
    "print(a)\n",
    "#{1, 2, 3, 4}"
   ]
  },
  {
   "cell_type": "markdown",
   "id": "3c81d0e3",
   "metadata": {},
   "source": [
    "## 1.3 A set of strings "
   ]
  },
  {
   "cell_type": "code",
   "execution_count": 81,
   "id": "91bd8da5",
   "metadata": {},
   "outputs": [],
   "source": [
    "a = {\"a\", \"b\", \"cd\", \"e\"}"
   ]
  },
  {
   "cell_type": "code",
   "execution_count": 82,
   "id": "51e11669",
   "metadata": {},
   "outputs": [
    {
     "name": "stdout",
     "output_type": "stream",
     "text": [
      "{'b', 'e', 'cd', 'a'}\n"
     ]
    }
   ],
   "source": [
    "print(a)\n",
    "#{'b', 'e', 'cd', 'a'}"
   ]
  },
  {
   "cell_type": "markdown",
   "id": "8952567e",
   "metadata": {},
   "source": [
    "## 1.4 A set of numbers and strings"
   ]
  },
  {
   "cell_type": "code",
   "execution_count": 84,
   "id": "255e50bd",
   "metadata": {},
   "outputs": [],
   "source": [
    "a = {1, 2, \"a\", \"bc\"}"
   ]
  },
  {
   "cell_type": "code",
   "execution_count": 86,
   "id": "82989de1",
   "metadata": {},
   "outputs": [
    {
     "name": "stdout",
     "output_type": "stream",
     "text": [
      "{1, 2, 'a', 'bc'}\n"
     ]
    }
   ],
   "source": [
    "print(a)\n",
    "#{1, 2, 'a', 'bc'}"
   ]
  },
  {
   "cell_type": "markdown",
   "id": "d0e133e9",
   "metadata": {},
   "source": [
    "## 1.5 No list of set can be in a set"
   ]
  },
  {
   "cell_type": "code",
   "execution_count": 88,
   "id": "7537c221",
   "metadata": {},
   "outputs": [
    {
     "ename": "TypeError",
     "evalue": "unhashable type: 'list'",
     "output_type": "error",
     "traceback": [
      "\u001b[1;31m---------------------------------------------------------------------------\u001b[0m",
      "\u001b[1;31mTypeError\u001b[0m                                 Traceback (most recent call last)",
      "Cell \u001b[1;32mIn[88], line 1\u001b[0m\n\u001b[1;32m----> 1\u001b[0m {[]}\n",
      "\u001b[1;31mTypeError\u001b[0m: unhashable type: 'list'"
     ]
    }
   ],
   "source": [
    "#list里可以有list, set里不能有list\n",
    "{[]}\n",
    "# ---------------------------------------------------------------------------\n",
    "# TypeError                                 Traceback (most recent call last)\n",
    "# Cell In[88], line 1\n",
    "# ----> 1 {[]}\n",
    "\n",
    "# TypeError: unhashable type: 'list'"
   ]
  },
  {
   "cell_type": "code",
   "execution_count": 90,
   "id": "20beb06f",
   "metadata": {},
   "outputs": [
    {
     "ename": "TypeError",
     "evalue": "unhashable type: 'dict'",
     "output_type": "error",
     "traceback": [
      "\u001b[1;31m---------------------------------------------------------------------------\u001b[0m",
      "\u001b[1;31mTypeError\u001b[0m                                 Traceback (most recent call last)",
      "Cell \u001b[1;32mIn[90], line 1\u001b[0m\n\u001b[1;32m----> 1\u001b[0m {{}}\n",
      "\u001b[1;31mTypeError\u001b[0m: unhashable type: 'dict'"
     ]
    }
   ],
   "source": [
    "#set里也不能有set\n",
    "{{}}\n",
    "# ---------------------------------------------------------------------------\n",
    "# TypeError                                 Traceback (most recent call last)\n",
    "# Cell In[90], line 1\n",
    "# ----> 1 {{}}\n",
    "\n",
    "# TypeError: unhashable type: 'dict'"
   ]
  },
  {
   "cell_type": "markdown",
   "id": "32a5802d",
   "metadata": {},
   "source": [
    "# 1.6 A set contains no duplicates\n",
    "set中没有重复值，类似于select distinct"
   ]
  },
  {
   "cell_type": "code",
   "execution_count": 92,
   "id": "1b538e68",
   "metadata": {},
   "outputs": [],
   "source": [
    "a = {1, 1, 2, 3, 4, 4, 5}"
   ]
  },
  {
   "cell_type": "code",
   "execution_count": 95,
   "id": "557a608f",
   "metadata": {},
   "outputs": [
    {
     "name": "stdout",
     "output_type": "stream",
     "text": [
      "{1, 2, 3, 4, 5}\n"
     ]
    }
   ],
   "source": [
    "print(a)\n",
    "#{1, 2, 3, 4, 5}"
   ]
  },
  {
   "cell_type": "code",
   "execution_count": 97,
   "id": "98c3d3fe",
   "metadata": {},
   "outputs": [],
   "source": [
    "a = {\"a\", 1, 3, \"a\", 1, 3}"
   ]
  },
  {
   "cell_type": "code",
   "execution_count": 101,
   "id": "c8a66a38",
   "metadata": {},
   "outputs": [
    {
     "name": "stdout",
     "output_type": "stream",
     "text": [
      "{1, 3, 'a'}\n"
     ]
    }
   ],
   "source": [
    "print(a)\n",
    "#{1, 3, 'a'}"
   ]
  },
  {
   "cell_type": "markdown",
   "id": "aa63bd73",
   "metadata": {},
   "source": [
    "## 1.7 Using set to remove duplicates "
   ]
  },
  {
   "cell_type": "code",
   "execution_count": 103,
   "id": "33bb448a",
   "metadata": {},
   "outputs": [],
   "source": [
    "#Transformation between set and list"
   ]
  },
  {
   "cell_type": "markdown",
   "id": "5abdab08",
   "metadata": {},
   "source": [
    "## 2.1 List to set"
   ]
  },
  {
   "cell_type": "code",
   "execution_count": 106,
   "id": "99634483",
   "metadata": {},
   "outputs": [],
   "source": [
    "a = [1, 2, 3, 4]"
   ]
  },
  {
   "cell_type": "code",
   "execution_count": 109,
   "id": "753542eb",
   "metadata": {},
   "outputs": [
    {
     "data": {
      "text/plain": [
       "{1, 2, 3, 4}"
      ]
     },
     "execution_count": 109,
     "metadata": {},
     "output_type": "execute_result"
    }
   ],
   "source": [
    "#将这个list转换成set：set(list) \n",
    "set(a)\n",
    "#{1, 2, 3, 4}"
   ]
  },
  {
   "cell_type": "markdown",
   "id": "921a93e7",
   "metadata": {},
   "source": [
    "## 2.2 Set to list"
   ]
  },
  {
   "cell_type": "code",
   "execution_count": null,
   "id": "e59f00fd",
   "metadata": {},
   "outputs": [],
   "source": [
    "a = {1, 2, 3, 4}"
   ]
  },
  {
   "cell_type": "code",
   "execution_count": 152,
   "id": "b1bccd38",
   "metadata": {},
   "outputs": [
    {
     "data": {
      "text/plain": [
       "[]"
      ]
     },
     "execution_count": 152,
     "metadata": {},
     "output_type": "execute_result"
    }
   ],
   "source": [
    "#将set转换成list: list(set)\n",
    "list(a)\n",
    "#[1, 2, 3, 4]"
   ]
  },
  {
   "cell_type": "markdown",
   "id": "22cde075",
   "metadata": {},
   "source": [
    "## Exercise 2.2.1: Remove Duplicates from a List\n",
    "Build a function RmDuplicate which remove all the duplicates from a list.\n",
    "Example: RmDuplicates([3, 1, 2, 3, 4, 5, 6]) returns [1, 2, 3, 4, 5, 6]\n",
    "Example: RmDuplicates([1, 3, 5]) returns [1, 3, 5] "
   ]
  },
  {
   "cell_type": "code",
   "execution_count": 114,
   "id": "7cc0ea90",
   "metadata": {},
   "outputs": [],
   "source": [
    "def RmDuplicates(nums):\n",
    "    return list(set(nums))"
   ]
  },
  {
   "cell_type": "code",
   "execution_count": 117,
   "id": "1b3477d1",
   "metadata": {},
   "outputs": [
    {
     "data": {
      "text/plain": [
       "[1, 2, 3, 4, 5, 6]"
      ]
     },
     "execution_count": 117,
     "metadata": {},
     "output_type": "execute_result"
    }
   ],
   "source": [
    "RmDuplicates([3, 1, 2, 3, 4, 5, 6])\n",
    "#[1, 2, 3, 4, 5, 6]"
   ]
  },
  {
   "cell_type": "markdown",
   "id": "0e07dcdc",
   "metadata": {},
   "source": [
    "## 3. Elements in a set "
   ]
  },
  {
   "cell_type": "markdown",
   "id": "25228225",
   "metadata": {},
   "source": [
    "## 3.1 We can't get an element from a set using index"
   ]
  },
  {
   "cell_type": "code",
   "execution_count": 133,
   "id": "5477d189",
   "metadata": {},
   "outputs": [],
   "source": [
    "a = {1, 2, 3, 4}"
   ]
  },
  {
   "cell_type": "code",
   "execution_count": 134,
   "id": "dc8e800e",
   "metadata": {},
   "outputs": [
    {
     "name": "stdout",
     "output_type": "stream",
     "text": [
      "{1, 2, 3, 4}\n"
     ]
    }
   ],
   "source": [
    "print(a)\n",
    "#{1, 2, 3, 4}"
   ]
  },
  {
   "cell_type": "code",
   "execution_count": 136,
   "id": "ee51a5c8",
   "metadata": {},
   "outputs": [
    {
     "ename": "TypeError",
     "evalue": "'set' object is not subscriptable",
     "output_type": "error",
     "traceback": [
      "\u001b[1;31m---------------------------------------------------------------------------\u001b[0m",
      "\u001b[1;31mTypeError\u001b[0m                                 Traceback (most recent call last)",
      "Cell \u001b[1;32mIn[136], line 1\u001b[0m\n\u001b[1;32m----> 1\u001b[0m \u001b[38;5;28mprint\u001b[39m(\u001b[43ma\u001b[49m\u001b[43m[\u001b[49m\u001b[38;5;241;43m1\u001b[39;49m\u001b[43m]\u001b[49m)\n",
      "\u001b[1;31mTypeError\u001b[0m: 'set' object is not subscriptable"
     ]
    }
   ],
   "source": [
    "#不能用index去叫set中的数：\n",
    "\n",
    "print(a[1])\n",
    "# ---------------------------------------------------------------------------\n",
    "# TypeError                                 Traceback (most recent call last)\n",
    "# Cell In[135], line 1\n",
    "# ----> 1 print(a[1])\n",
    "\n",
    "# TypeError: 'set' object is not subscriptable"
   ]
  },
  {
   "cell_type": "markdown",
   "id": "b711bf32",
   "metadata": {},
   "source": [
    "## 3.2 Checking whether an element in a set is fast"
   ]
  },
  {
   "cell_type": "code",
   "execution_count": 153,
   "id": "64d6722b",
   "metadata": {},
   "outputs": [],
   "source": [
    "#a是list，b是set，set中找东西很方便\n",
    "#set找东西的速度很快\n",
    "a = [i for i in range(1000)]\n",
    "b = set(a)"
   ]
  },
  {
   "cell_type": "code",
   "execution_count": 154,
   "id": "6d3aaeaf",
   "metadata": {},
   "outputs": [
    {
     "name": "stdout",
     "output_type": "stream",
     "text": [
      "True\n"
     ]
    }
   ],
   "source": [
    "print(5 in a)"
   ]
  },
  {
   "cell_type": "code",
   "execution_count": 156,
   "id": "d2ca9d48",
   "metadata": {},
   "outputs": [
    {
     "name": "stdout",
     "output_type": "stream",
     "text": [
      "True\n"
     ]
    }
   ],
   "source": [
    "print(5 in b)"
   ]
  },
  {
   "cell_type": "markdown",
   "id": "258c3372",
   "metadata": {},
   "source": [
    "## 总结：set可以去重；如果找是否有一个元素在set中，速度特别快"
   ]
  },
  {
   "cell_type": "markdown",
   "id": "ecf6ff4e",
   "metadata": {},
   "source": [
    "# Unit 4: String\n"
   ]
  },
  {
   "cell_type": "markdown",
   "id": "b38a7977",
   "metadata": {},
   "source": [
    "## 1. Introduction to String\n"
   ]
  },
  {
   "cell_type": "code",
   "execution_count": null,
   "id": "4feb6cb7",
   "metadata": {},
   "outputs": [],
   "source": [
    "#list用[]；set用{}；string用'' or \"\" or \"\"\"\"\"\""
   ]
  },
  {
   "cell_type": "markdown",
   "id": "da6f0095",
   "metadata": {},
   "source": [
    "### 1.1 An empty string"
   ]
  },
  {
   "cell_type": "code",
   "execution_count": 6,
   "id": "d0c83096",
   "metadata": {},
   "outputs": [],
   "source": [
    "a = \"\""
   ]
  },
  {
   "cell_type": "code",
   "execution_count": 7,
   "id": "2a5bf7f8",
   "metadata": {},
   "outputs": [
    {
     "name": "stdout",
     "output_type": "stream",
     "text": [
      "\n"
     ]
    }
   ],
   "source": [
    "print(a)"
   ]
  },
  {
   "cell_type": "code",
   "execution_count": 9,
   "id": "8c8c1ff6",
   "metadata": {},
   "outputs": [],
   "source": [
    "a = ''"
   ]
  },
  {
   "cell_type": "code",
   "execution_count": 10,
   "id": "44cb34f7",
   "metadata": {},
   "outputs": [
    {
     "name": "stdout",
     "output_type": "stream",
     "text": [
      "\n"
     ]
    }
   ],
   "source": [
    "print(a)"
   ]
  },
  {
   "cell_type": "code",
   "execution_count": 11,
   "id": "04b7a2cf",
   "metadata": {},
   "outputs": [],
   "source": [
    "a = \"\"\"\"\"\""
   ]
  },
  {
   "cell_type": "code",
   "execution_count": 13,
   "id": "72b3e3e6",
   "metadata": {},
   "outputs": [
    {
     "name": "stdout",
     "output_type": "stream",
     "text": [
      "\n"
     ]
    }
   ],
   "source": [
    "print(a)"
   ]
  },
  {
   "cell_type": "code",
   "execution_count": 20,
   "id": "674c1cae",
   "metadata": {},
   "outputs": [],
   "source": [
    "a =  ''''''"
   ]
  },
  {
   "cell_type": "code",
   "execution_count": 21,
   "id": "8ec8fadc",
   "metadata": {},
   "outputs": [
    {
     "name": "stdout",
     "output_type": "stream",
     "text": [
      "\n"
     ]
    }
   ],
   "source": [
    "print(a)"
   ]
  },
  {
   "cell_type": "code",
   "execution_count": 25,
   "id": "71b56104",
   "metadata": {},
   "outputs": [
    {
     "ename": "SyntaxError",
     "evalue": "unterminated string literal (detected at line 1) (1800255914.py, line 1)",
     "output_type": "error",
     "traceback": [
      "\u001b[1;36m  Cell \u001b[1;32mIn[25], line 1\u001b[1;36m\u001b[0m\n\u001b[1;33m    a = '\"\u001b[0m\n\u001b[1;37m        ^\u001b[0m\n\u001b[1;31mSyntaxError\u001b[0m\u001b[1;31m:\u001b[0m unterminated string literal (detected at line 1)\n"
     ]
    }
   ],
   "source": [
    "#但引号不能混用：eg. 一个单引号 一个双引号\n",
    "a = '\"\n",
    "#SyntaxError: unterminated string literal (detected at line 1)"
   ]
  },
  {
   "cell_type": "markdown",
   "id": "5d0caa22",
   "metadata": {},
   "source": [
    "## 1.2 A string with letters"
   ]
  },
  {
   "cell_type": "code",
   "execution_count": 26,
   "id": "d7bfd06a",
   "metadata": {},
   "outputs": [],
   "source": [
    "#红色是字符串\n",
    "a = \"abcde\""
   ]
  },
  {
   "cell_type": "code",
   "execution_count": 27,
   "id": "970314ff",
   "metadata": {},
   "outputs": [
    {
     "name": "stdout",
     "output_type": "stream",
     "text": [
      "abcde\n"
     ]
    }
   ],
   "source": [
    "print(a)"
   ]
  },
  {
   "cell_type": "code",
   "execution_count": 29,
   "id": "3f3aae76",
   "metadata": {},
   "outputs": [],
   "source": [
    "#绿色是数字\n",
    "a = 1234"
   ]
  },
  {
   "cell_type": "code",
   "execution_count": 30,
   "id": "903873b7",
   "metadata": {},
   "outputs": [
    {
     "name": "stdout",
     "output_type": "stream",
     "text": [
      "1234\n"
     ]
    }
   ],
   "source": [
    "print(a)"
   ]
  },
  {
   "cell_type": "code",
   "execution_count": 32,
   "id": "93e336f2",
   "metadata": {},
   "outputs": [],
   "source": [
    "a = \"1234\""
   ]
  },
  {
   "cell_type": "code",
   "execution_count": 34,
   "id": "b73271bf",
   "metadata": {},
   "outputs": [
    {
     "name": "stdout",
     "output_type": "stream",
     "text": [
      "1234\n"
     ]
    }
   ],
   "source": [
    "print(a)"
   ]
  },
  {
   "cell_type": "code",
   "execution_count": 36,
   "id": "f38d208e",
   "metadata": {},
   "outputs": [],
   "source": [
    "#数字相加：\n",
    "a = 1234\n",
    "b = 4321\n",
    "print(a + b)\n",
    "#5555"
   ]
  },
  {
   "cell_type": "code",
   "execution_count": 43,
   "id": "728cde39",
   "metadata": {},
   "outputs": [
    {
     "name": "stdout",
     "output_type": "stream",
     "text": [
      "12344321\n"
     ]
    }
   ],
   "source": [
    "#字符串相加：将数字引号起\n",
    "a = \"1234\"\n",
    "b = \"4321\"\n",
    "print(a + b)\n",
    "#12344321"
   ]
  },
  {
   "cell_type": "markdown",
   "id": "72a0032b",
   "metadata": {},
   "source": [
    "# 1.3 Strings with quotation marks"
   ]
  },
  {
   "cell_type": "code",
   "execution_count": 57,
   "id": "98ef468d",
   "metadata": {},
   "outputs": [],
   "source": [
    "#双引号，单引号，三引号，可以组合出现；只要最外层和内里的引号种类不同，就可以打印内里的引号"
   ]
  },
  {
   "cell_type": "code",
   "execution_count": 44,
   "id": "e4d6c8ac",
   "metadata": {},
   "outputs": [],
   "source": [
    "a = \"ab'c'de\""
   ]
  },
  {
   "cell_type": "code",
   "execution_count": 47,
   "id": "33ab83bb",
   "metadata": {},
   "outputs": [
    {
     "name": "stdout",
     "output_type": "stream",
     "text": [
      "ab'c'de\n"
     ]
    }
   ],
   "source": [
    "print(a)\n",
    "#ab'c'de"
   ]
  },
  {
   "cell_type": "code",
   "execution_count": 49,
   "id": "b8b3ffd6",
   "metadata": {},
   "outputs": [],
   "source": [
    "a = 'a\"bcd\"e'"
   ]
  },
  {
   "cell_type": "code",
   "execution_count": 52,
   "id": "5fdd4f50",
   "metadata": {},
   "outputs": [
    {
     "name": "stdout",
     "output_type": "stream",
     "text": [
      "a\"bcd\"e\n"
     ]
    }
   ],
   "source": [
    "print(a)\n",
    "#a\"bcd\"e"
   ]
  },
  {
   "cell_type": "code",
   "execution_count": 55,
   "id": "762ca38a",
   "metadata": {},
   "outputs": [],
   "source": [
    "a = \"\"\"a\"b'c'de\"\"\""
   ]
  },
  {
   "cell_type": "code",
   "execution_count": 56,
   "id": "958ce314",
   "metadata": {},
   "outputs": [
    {
     "name": "stdout",
     "output_type": "stream",
     "text": [
      "a\"b'c'de\n"
     ]
    }
   ],
   "source": [
    "print(a)\n",
    "#a\"b'c'de"
   ]
  },
  {
   "cell_type": "markdown",
   "id": "2c2eb900",
   "metadata": {},
   "source": [
    "### Example: Palindrome"
   ]
  },
  {
   "cell_type": "markdown",
   "id": "2e68b79d",
   "metadata": {},
   "source": [
    "## 2. Get characters from a string "
   ]
  },
  {
   "cell_type": "markdown",
   "id": "a13b8aee",
   "metadata": {},
   "source": [
    "### 2.1 Get an character from a string "
   ]
  },
  {
   "cell_type": "code",
   "execution_count": 59,
   "id": "ffdbf084",
   "metadata": {},
   "outputs": [],
   "source": [
    "a = \"abcde\""
   ]
  },
  {
   "cell_type": "code",
   "execution_count": 62,
   "id": "8ab5d593",
   "metadata": {},
   "outputs": [
    {
     "data": {
      "text/plain": [
       "'a'"
      ]
     },
     "execution_count": 62,
     "metadata": {},
     "output_type": "execute_result"
    }
   ],
   "source": [
    "a[0]\n",
    "#'a'"
   ]
  },
  {
   "cell_type": "code",
   "execution_count": 65,
   "id": "7680dc34",
   "metadata": {},
   "outputs": [
    {
     "data": {
      "text/plain": [
       "'b'"
      ]
     },
     "execution_count": 65,
     "metadata": {},
     "output_type": "execute_result"
    }
   ],
   "source": [
    "a[1]\n",
    "#'b'"
   ]
  },
  {
   "cell_type": "code",
   "execution_count": 68,
   "id": "31b9f6a7",
   "metadata": {},
   "outputs": [
    {
     "data": {
      "text/plain": [
       "'e'"
      ]
     },
     "execution_count": 68,
     "metadata": {},
     "output_type": "execute_result"
    }
   ],
   "source": [
    "a[-1]\n",
    "#'e'"
   ]
  },
  {
   "cell_type": "markdown",
   "id": "0dbebdcb",
   "metadata": {},
   "source": [
    "### Exercise 2.1.1: Palindrome\n",
    "\n",
    "Build a function isPalindrome which takes a string as an input and returns boolin value telling whether the string is a palindrome.\n",
    "Example: isPalindrome(\"abcba\") returns True\n",
    "Example: isPalindrome(\"abba\") returns True\n",
    "Example: isPalindrome(\"a\") returns True\n",
    "Example: isPalindrome(\"\") returns True\n",
    "Example: isPalindrome(\"abcd\") returns False\n",
    "\n",
    "回文：看是否对称"
   ]
  },
  {
   "cell_type": "code",
   "execution_count": 1,
   "id": "e83ff29d",
   "metadata": {},
   "outputs": [],
   "source": [
    "def isPalindrome(s):\n",
    "    left = 0\n",
    "    right = len(s) - 1\n",
    "    while left < right:\n",
    "        if s[left] == s[right]:\n",
    "            left += 1\n",
    "            right -= 1\n",
    "        else:\n",
    "            return False\n",
    "    return True"
   ]
  },
  {
   "cell_type": "code",
   "execution_count": null,
   "id": "fb0a88e5",
   "metadata": {},
   "outputs": [],
   "source": [
    "#左从第一个指针，右从最后一个元素指针，开始(最后一个元素的数，[]是元素length - 1)\n",
    "#当 左 小于 右：看左右指针是否相等\n",
    "#如果相等，就把左右 都往内 移一格；\n",
    "#当奇数个数字时，左右指针相遇相等时结束；当偶数个数字时，左右指针在最近的地方挨着时结束\n",
    "#一旦不等，就return False；否则走完所有指针都相等 return True"
   ]
  },
  {
   "cell_type": "code",
   "execution_count": 76,
   "id": "5f1aa49b",
   "metadata": {},
   "outputs": [
    {
     "data": {
      "text/plain": [
       "False"
      ]
     },
     "execution_count": 76,
     "metadata": {},
     "output_type": "execute_result"
    }
   ],
   "source": [
    "isPalindrome(\"abcde\")\n",
    "#False"
   ]
  },
  {
   "cell_type": "code",
   "execution_count": 77,
   "id": "21580ad3",
   "metadata": {},
   "outputs": [
    {
     "data": {
      "text/plain": [
       "False"
      ]
     },
     "execution_count": 77,
     "metadata": {},
     "output_type": "execute_result"
    }
   ],
   "source": [
    "isPalindrome(\"abcd\")\n",
    "#False"
   ]
  },
  {
   "cell_type": "code",
   "execution_count": 80,
   "id": "34032ac9",
   "metadata": {},
   "outputs": [],
   "source": [
    "def isPalindrome(s):\n",
    "    left = 0\n",
    "    right = len(s) - 1\n",
    "    while left < right:\n",
    "        print(\"left = \", left)\n",
    "        print(\"right = \", right)\n",
    "        print(\"s[left]=\", s[left])\n",
    "        print(\"s[right]=\", s[right])\n",
    "        print(\"====\")\n",
    "        if s[left] == s[right]:\n",
    "            left += 1\n",
    "            right -= 1\n",
    "        else:\n",
    "            return False\n",
    "    return True"
   ]
  },
  {
   "cell_type": "code",
   "execution_count": 83,
   "id": "4e794f90",
   "metadata": {},
   "outputs": [
    {
     "name": "stdout",
     "output_type": "stream",
     "text": [
      "left =  0\n",
      "right =  4\n",
      "s[left]= a\n",
      "s[right]= a\n",
      "====\n",
      "left =  1\n",
      "right =  3\n",
      "s[left]= b\n",
      "s[right]= b\n",
      "====\n"
     ]
    },
    {
     "data": {
      "text/plain": [
       "True"
      ]
     },
     "execution_count": 83,
     "metadata": {},
     "output_type": "execute_result"
    }
   ],
   "source": [
    "isPalindrome(\"abcba\")"
   ]
  },
  {
   "cell_type": "code",
   "execution_count": 84,
   "id": "dfb1d2cd",
   "metadata": {},
   "outputs": [
    {
     "name": "stdout",
     "output_type": "stream",
     "text": [
      "left =  0\n",
      "right =  3\n",
      "s[left]= a\n",
      "s[right]= d\n",
      "====\n"
     ]
    },
    {
     "data": {
      "text/plain": [
       "False"
      ]
     },
     "execution_count": 84,
     "metadata": {},
     "output_type": "execute_result"
    }
   ],
   "source": [
    "isPalindrome(\"abcd\")"
   ]
  },
  {
   "cell_type": "markdown",
   "id": "66aa8c71",
   "metadata": {},
   "source": [
    "### Example: Valid Parentheses"
   ]
  },
  {
   "cell_type": "markdown",
   "id": "36b81046",
   "metadata": {},
   "source": [
    "### Exercise 2.1.2: Valid Parenthesis\n",
    "Build a function ValidParenthesis to determine the parenthesis in a string are valid. Example: ValidParenthesis('((()))()') returns True\n",
    "Example: ValidParenthesis('()()()') returns True\n",
    "Example: ValidParenthesis(')()()()') returns False\n",
    "Example: ValidParenthesis('((())))') returns False"
   ]
  },
  {
   "cell_type": "code",
   "execution_count": null,
   "id": "85337adc",
   "metadata": {},
   "outputs": [],
   "source": [
    "#list 和 string的综合应用 => stack\n",
    "#消消乐：\n",
    "# i. 遇到(：就把其存入tmp\n",
    "# ii.遇到)：如果之前有存入的(，就将其消掉；如果没有，就false\n",
    "# iii. 走完全程时，tmp不为空，还有剩的(，也false"
   ]
  },
  {
   "cell_type": "code",
   "execution_count": 15,
   "id": "cccf9928",
   "metadata": {},
   "outputs": [],
   "source": [
    "def ValidParenthesis(s):\n",
    "    tmp = []\n",
    "    for c in s:\n",
    "        if c == '(':              #遇到(\n",
    "            tmp.append(c)         #存入tmp中\n",
    "        if c == ')':              #遇到)\n",
    "            if tmp:               #看下tmp中是否有元素\n",
    "                tmp.pop()         #若有，则pop一个(\n",
    "            else:                 #若没有\n",
    "                return False      #则false【说明)大于(的数量，不是回文】())\n",
    "    if tmp:                       #全跑完，如果tmp还有值\n",
    "        return False              #则false【说明(大于)的数量，不是回文】(() ※注意此处 if 和for对齐\n",
    "    else:                         #全跑完，tmp没有值\n",
    "        return True               #则true (())()"
   ]
  },
  {
   "cell_type": "code",
   "execution_count": 16,
   "id": "8866d859",
   "metadata": {},
   "outputs": [
    {
     "data": {
      "text/plain": [
       "True"
      ]
     },
     "execution_count": 16,
     "metadata": {},
     "output_type": "execute_result"
    }
   ],
   "source": [
    "ValidParenthesis('((()))()')\n",
    "#True"
   ]
  },
  {
   "cell_type": "code",
   "execution_count": 19,
   "id": "5e15a264",
   "metadata": {},
   "outputs": [
    {
     "data": {
      "text/plain": [
       "False"
      ]
     },
     "execution_count": 19,
     "metadata": {},
     "output_type": "execute_result"
    }
   ],
   "source": [
    "ValidParenthesis(')()()()')\n",
    "#False"
   ]
  },
  {
   "cell_type": "code",
   "execution_count": 2,
   "id": "3be1af93",
   "metadata": {},
   "outputs": [],
   "source": [
    "def ValidParenthesis(s):\n",
    "    tmp = []\n",
    "    for c in s:\n",
    "        print(\"tmp=\", tmp)\n",
    "        print(\"c=\", c)\n",
    "        print(\"=================\")\n",
    "        if c == '(':\n",
    "            tmp.append(c)\n",
    "        if c == ')':\n",
    "            if tmp:\n",
    "                tmp.pop()\n",
    "            else:\n",
    "                return False\n",
    "    print(\"final tmp=\", tmp)\n",
    "    if tmp:\n",
    "        return False\n",
    "    else:\n",
    "        return True"
   ]
  },
  {
   "cell_type": "code",
   "execution_count": 23,
   "id": "b025f388",
   "metadata": {},
   "outputs": [
    {
     "name": "stdout",
     "output_type": "stream",
     "text": [
      "tmp= []\n",
      "c= (\n",
      "=================\n",
      "tmp= ['(']\n",
      "c= (\n",
      "=================\n",
      "tmp= ['(', '(']\n",
      "c= (\n",
      "=================\n",
      "tmp= ['(', '(', '(']\n",
      "c= )\n",
      "=================\n",
      "tmp= ['(', '(']\n",
      "c= )\n",
      "=================\n",
      "tmp= ['(']\n",
      "c= )\n",
      "=================\n",
      "tmp= []\n",
      "c= (\n",
      "=================\n",
      "tmp= ['(']\n",
      "c= )\n",
      "=================\n",
      "final tmp= []\n"
     ]
    },
    {
     "data": {
      "text/plain": [
       "True"
      ]
     },
     "execution_count": 23,
     "metadata": {},
     "output_type": "execute_result"
    }
   ],
   "source": [
    "ValidParenthesis('((()))()')"
   ]
  },
  {
   "cell_type": "code",
   "execution_count": 26,
   "id": "4484cb09",
   "metadata": {},
   "outputs": [
    {
     "name": "stdout",
     "output_type": "stream",
     "text": [
      "tmp= []\n",
      "c= (\n",
      "=================\n",
      "tmp= ['(']\n",
      "c= (\n",
      "=================\n",
      "tmp= ['(', '(']\n",
      "c= (\n",
      "=================\n",
      "tmp= ['(', '(', '(']\n",
      "c= (\n",
      "=================\n",
      "tmp= ['(', '(', '(', '(']\n",
      "c= )\n",
      "=================\n",
      "tmp= ['(', '(', '(']\n",
      "c= )\n",
      "=================\n",
      "tmp= ['(', '(']\n",
      "c= )\n",
      "=================\n",
      "tmp= ['(']\n",
      "c= (\n",
      "=================\n",
      "tmp= ['(', '(']\n",
      "c= )\n",
      "=================\n",
      "final tmp= ['(']\n"
     ]
    },
    {
     "data": {
      "text/plain": [
       "False"
      ]
     },
     "execution_count": 26,
     "metadata": {},
     "output_type": "execute_result"
    }
   ],
   "source": [
    "ValidParenthesis('(((()))()')"
   ]
  },
  {
   "cell_type": "code",
   "execution_count": 3,
   "id": "012238f9",
   "metadata": {
    "scrolled": true
   },
   "outputs": [
    {
     "name": "stdout",
     "output_type": "stream",
     "text": [
      "tmp= []\n",
      "c= (\n",
      "=================\n",
      "tmp= ['(']\n",
      "c= (\n",
      "=================\n",
      "tmp= ['(', '(']\n",
      "c= )\n",
      "=================\n",
      "tmp= ['(']\n",
      "c= )\n",
      "=================\n",
      "tmp= []\n",
      "c= )\n",
      "=================\n"
     ]
    },
    {
     "data": {
      "text/plain": [
       "False"
      ]
     },
     "execution_count": 3,
     "metadata": {},
     "output_type": "execute_result"
    }
   ],
   "source": [
    "ValidParenthesis('(()))()')\n",
    "#         if c == ')':\n",
    "#             if tmp:\n",
    "#                 tmp.pop()\n",
    "#             else:\n",
    "#                 return False\n",
    "#如果是退无可退的)，直接return False"
   ]
  },
  {
   "cell_type": "markdown",
   "id": "721c5829",
   "metadata": {},
   "source": [
    "### Example: Ngrams"
   ]
  },
  {
   "cell_type": "markdown",
   "id": "a96c8be8",
   "metadata": {},
   "source": [
    "## 2.2 Get a substring"
   ]
  },
  {
   "cell_type": "code",
   "execution_count": 4,
   "id": "03eb5a44",
   "metadata": {},
   "outputs": [],
   "source": [
    "a = 'abcde'"
   ]
  },
  {
   "cell_type": "code",
   "execution_count": 6,
   "id": "050cb1f9",
   "metadata": {},
   "outputs": [
    {
     "data": {
      "text/plain": [
       "'cd'"
      ]
     },
     "execution_count": 6,
     "metadata": {},
     "output_type": "execute_result"
    }
   ],
   "source": [
    "a[2:4]\n",
    "#'cd'"
   ]
  },
  {
   "cell_type": "code",
   "execution_count": 8,
   "id": "3b04d988",
   "metadata": {},
   "outputs": [
    {
     "data": {
      "text/plain": [
       "'cde'"
      ]
     },
     "execution_count": 8,
     "metadata": {},
     "output_type": "execute_result"
    }
   ],
   "source": [
    "a[2:]\n",
    "#'cde'"
   ]
  },
  {
   "cell_type": "code",
   "execution_count": 10,
   "id": "b9f5a132",
   "metadata": {},
   "outputs": [
    {
     "data": {
      "text/plain": [
       "'ab'"
      ]
     },
     "execution_count": 10,
     "metadata": {},
     "output_type": "execute_result"
    }
   ],
   "source": [
    "a[:2]\n",
    "#'ab'"
   ]
  },
  {
   "cell_type": "markdown",
   "id": "656159ba",
   "metadata": {},
   "source": [
    "## Exercise 2.2.1: N Grams\n",
    "Build a function NGram which takes a string s and an integer n as inputs, returns a list of n grams of s.\n",
    "Example: NGram(\"techlent\", 2) returns [\"te\", \"ec\", \"ch\", \"hl\", \"le\", \"en\", \"nt\"]\n",
    "Example: NGram(\"abc\", 3) returns [\"abc\"]\n",
    "Example: NGram(\"abc\", 4) returns []\n",
    "Example: NGram(\"abc\", 1) returns [\"a\", \"b\", \"c\"]"
   ]
  },
  {
   "cell_type": "code",
   "execution_count": 14,
   "id": "5bc023bf",
   "metadata": {},
   "outputs": [],
   "source": [
    "#s代表字符串，n是需要几个字符：\n",
    "#lens(s) - n + 1的作用，是i运行到 元素总数 - n 个元素时停止：\n",
    "def NGram(s, n):\n",
    "    res = []\n",
    "    for i in range(len(s) - n + 1):\n",
    "        res.append(s[i: i + n])\n",
    "    return res"
   ]
  },
  {
   "cell_type": "code",
   "execution_count": 16,
   "id": "a4fe51c6",
   "metadata": {},
   "outputs": [
    {
     "data": {
      "text/plain": [
       "['t', 'e', 'c', 'h', 'l', 'e', 'n', 't']"
      ]
     },
     "execution_count": 16,
     "metadata": {},
     "output_type": "execute_result"
    }
   ],
   "source": [
    "NGram(\"techlent\", 1)\n",
    "#['t', 'e', 'c', 'h', 'l', 'e', 'n', 't']\n",
    "#https://pythontutor.com/render.html#code=def%20NGram%28s,%20n%29%3A%0A%20%20%20%20res%20%3D%20%5B%5D%0A%20%20%20%20for%20i%20in%20range%28len%28s%29%20-%20n%20%2B%201%29%3A%0A%20%20%20%20%20%20%20%20res.append%28s%5Bi%3A%20i%20%2B%20n%5D%29%0A%20%20%20%20return%20res%0A%0ANGram%28%22techlent%22,%201%29&cumulative=false&curInstr=0&heapPrimitives=nevernest&mode=display&origin=opt-frontend.js&py=3&rawInputLstJSON=%5B%5D&textReferences=false"
   ]
  },
  {
   "cell_type": "code",
   "execution_count": 18,
   "id": "7f9720db",
   "metadata": {},
   "outputs": [
    {
     "data": {
      "text/plain": [
       "['te', 'ec', 'ch', 'hl', 'le', 'en', 'nt']"
      ]
     },
     "execution_count": 18,
     "metadata": {},
     "output_type": "execute_result"
    }
   ],
   "source": [
    "NGram(\"techlent\", 2)\n",
    "#https://pythontutor.com/render.html#code=def%20NGram%28s,%20n%29%3A%0A%20%20%20%20res%20%3D%20%5B%5D%0A%20%20%20%20for%20i%20in%20range%28len%28s%29%20-%20n%20%2B%201%29%3A%0A%20%20%20%20%20%20%20%20res.append%28s%5Bi%3A%20i%20%2B%20n%5D%29%0A%20%20%20%20return%20res%0A%0ANGram%28%22techlent%22,%202%29&cumulative=false&curInstr=0&heapPrimitives=nevernest&mode=display&origin=opt-frontend.js&py=3&rawInputLstJSON=%5B%5D&textReferences=false"
   ]
  },
  {
   "cell_type": "code",
   "execution_count": 20,
   "id": "f8d9aad9",
   "metadata": {},
   "outputs": [
    {
     "data": {
      "text/plain": [
       "['tec', 'ech', 'chl', 'hle', 'len', 'ent']"
      ]
     },
     "execution_count": 20,
     "metadata": {},
     "output_type": "execute_result"
    }
   ],
   "source": [
    "NGram(\"techlent\", 3)\n",
    "#https://pythontutor.com/render.html#code=def%20NGram%28s,%20n%29%3A%0A%20%20%20%20res%20%3D%20%5B%5D%0A%20%20%20%20for%20i%20in%20range%28len%28s%29%20-%20n%20%2B%201%29%3A%0A%20%20%20%20%20%20%20%20res.append%28s%5Bi%3A%20i%20%2B%20n%5D%29%0A%20%20%20%20return%20res%0A%0ANGram%28%22techlent%22,%203%29&cumulative=false&curInstr=19&heapPrimitives=nevernest&mode=display&origin=opt-frontend.js&py=3&rawInputLstJSON=%5B%5D&textReferences=false"
   ]
  },
  {
   "cell_type": "code",
   "execution_count": 23,
   "id": "3785d858",
   "metadata": {},
   "outputs": [
    {
     "data": {
      "text/plain": [
       "[]"
      ]
     },
     "execution_count": 23,
     "metadata": {},
     "output_type": "execute_result"
    }
   ],
   "source": [
    "NGram(\"techlent\", 10)"
   ]
  },
  {
   "cell_type": "code",
   "execution_count": 26,
   "id": "0f864229",
   "metadata": {},
   "outputs": [],
   "source": [
    "def NGram(s, n):\n",
    "    res = []\n",
    "    print(\"len(s) - n + 1 =\", len(s) - n + 1)\n",
    "    for i in range(len(s) - n + 1):\n",
    "        print(\"i=\", i)\n",
    "        print(\"i + n =\", i + n)\n",
    "        print(\"s[i : i + n] = \", s[i : i + n])\n",
    "        print(\"===\")\n",
    "        res.append(s[i: i + n])\n",
    "    return res"
   ]
  },
  {
   "cell_type": "code",
   "execution_count": 28,
   "id": "bd5d6d42",
   "metadata": {},
   "outputs": [
    {
     "name": "stdout",
     "output_type": "stream",
     "text": [
      "len(s) - n + 1 = 9\n",
      "i= 0\n",
      "i + n = 1\n",
      "s[i : i + n] =  t\n",
      "===\n",
      "i= 1\n",
      "i + n = 2\n",
      "s[i : i + n] =  e\n",
      "===\n",
      "i= 2\n",
      "i + n = 3\n",
      "s[i : i + n] =  c\n",
      "===\n",
      "i= 3\n",
      "i + n = 4\n",
      "s[i : i + n] =  h\n",
      "===\n",
      "i= 4\n",
      "i + n = 5\n",
      "s[i : i + n] =  e\n",
      "===\n",
      "i= 5\n",
      "i + n = 6\n",
      "s[i : i + n] =  l\n",
      "===\n",
      "i= 6\n",
      "i + n = 7\n",
      "s[i : i + n] =  e\n",
      "===\n",
      "i= 7\n",
      "i + n = 8\n",
      "s[i : i + n] =  n\n",
      "===\n",
      "i= 8\n",
      "i + n = 9\n",
      "s[i : i + n] =  t\n",
      "===\n"
     ]
    },
    {
     "data": {
      "text/plain": [
       "['t', 'e', 'c', 'h', 'e', 'l', 'e', 'n', 't']"
      ]
     },
     "execution_count": 28,
     "metadata": {},
     "output_type": "execute_result"
    }
   ],
   "source": [
    "NGram(\"techelent\", 1)"
   ]
  },
  {
   "cell_type": "code",
   "execution_count": 30,
   "id": "4bfc8f8c",
   "metadata": {},
   "outputs": [
    {
     "name": "stdout",
     "output_type": "stream",
     "text": [
      "len(s) - n + 1 = 7\n",
      "i= 0\n",
      "i + n = 2\n",
      "s[i : i + n] =  te\n",
      "===\n",
      "i= 1\n",
      "i + n = 3\n",
      "s[i : i + n] =  ec\n",
      "===\n",
      "i= 2\n",
      "i + n = 4\n",
      "s[i : i + n] =  ch\n",
      "===\n",
      "i= 3\n",
      "i + n = 5\n",
      "s[i : i + n] =  hl\n",
      "===\n",
      "i= 4\n",
      "i + n = 6\n",
      "s[i : i + n] =  le\n",
      "===\n",
      "i= 5\n",
      "i + n = 7\n",
      "s[i : i + n] =  en\n",
      "===\n",
      "i= 6\n",
      "i + n = 8\n",
      "s[i : i + n] =  nt\n",
      "===\n"
     ]
    },
    {
     "data": {
      "text/plain": [
       "['te', 'ec', 'ch', 'hl', 'le', 'en', 'nt']"
      ]
     },
     "execution_count": 30,
     "metadata": {},
     "output_type": "execute_result"
    }
   ],
   "source": [
    "NGram(\"techlent\", 2)"
   ]
  },
  {
   "cell_type": "code",
   "execution_count": 32,
   "id": "5cad11cb",
   "metadata": {},
   "outputs": [
    {
     "name": "stdout",
     "output_type": "stream",
     "text": [
      "len(s) - n + 1 = 6\n",
      "i= 0\n",
      "i + n = 3\n",
      "s[i : i + n] =  tec\n",
      "===\n",
      "i= 1\n",
      "i + n = 4\n",
      "s[i : i + n] =  ech\n",
      "===\n",
      "i= 2\n",
      "i + n = 5\n",
      "s[i : i + n] =  chl\n",
      "===\n",
      "i= 3\n",
      "i + n = 6\n",
      "s[i : i + n] =  hle\n",
      "===\n",
      "i= 4\n",
      "i + n = 7\n",
      "s[i : i + n] =  len\n",
      "===\n",
      "i= 5\n",
      "i + n = 8\n",
      "s[i : i + n] =  ent\n",
      "===\n"
     ]
    },
    {
     "data": {
      "text/plain": [
       "['tec', 'ech', 'chl', 'hle', 'len', 'ent']"
      ]
     },
     "execution_count": 32,
     "metadata": {},
     "output_type": "execute_result"
    }
   ],
   "source": [
    "NGram(\"techlent\", 3)"
   ]
  },
  {
   "cell_type": "code",
   "execution_count": 33,
   "id": "d32f05fa",
   "metadata": {},
   "outputs": [
    {
     "name": "stdout",
     "output_type": "stream",
     "text": [
      "len(s) - n + 1 = -1\n"
     ]
    },
    {
     "data": {
      "text/plain": [
       "[]"
      ]
     },
     "execution_count": 33,
     "metadata": {},
     "output_type": "execute_result"
    }
   ],
   "source": [
    "NGram(\"techlent\", 10)"
   ]
  },
  {
   "cell_type": "markdown",
   "id": "9a90005a",
   "metadata": {},
   "source": [
    "### Example: All Red"
   ]
  },
  {
   "cell_type": "code",
   "execution_count": 37,
   "id": "1664defe",
   "metadata": {},
   "outputs": [
    {
     "name": "stdout",
     "output_type": "stream",
     "text": [
      "True\n",
      "True\n",
      "False\n"
     ]
    }
   ],
   "source": [
    "a = \"abcde\"\n",
    "\n",
    "print(\"a\" in a)\n",
    "#True\n",
    "\n",
    "print(\"bcd\" in a)\n",
    "#True\n",
    "\n",
    "print(\"acd\" in a)\n",
    "#False"
   ]
  },
  {
   "cell_type": "markdown",
   "id": "5dc2fb2a",
   "metadata": {},
   "source": [
    "## Exercise 2.3.1: All Red\n",
    "Build a function AllRed that takes a list of strings as input, returns a boolean indicating whether all the strings containing word \"red\".\n",
    "Example: AllRed([\"red hat\", \"a pair of red shoes\", \"three red apples\"]) returns True\n",
    "Example: AllRed([\"red hat\", \"white shirt\", \"black eyes\"]) returns False\n",
    "Example: AllRed([]) returns False"
   ]
  },
  {
   "cell_type": "code",
   "execution_count": 39,
   "id": "d15a9c07",
   "metadata": {},
   "outputs": [],
   "source": [
    "def AllRed(Lst):\n",
    "    if not Lst:\n",
    "        return False\n",
    "    for s in Lst:\n",
    "        if 'red' not in s:\n",
    "            return False\n",
    "    return True"
   ]
  },
  {
   "cell_type": "code",
   "execution_count": 41,
   "id": "0d70c4ef",
   "metadata": {},
   "outputs": [
    {
     "data": {
      "text/plain": [
       "True"
      ]
     },
     "execution_count": 41,
     "metadata": {},
     "output_type": "execute_result"
    }
   ],
   "source": [
    "AllRed([\"red hat\", \"a pair of red shoes\", \"three red apples\"]) \n",
    "#True"
   ]
  },
  {
   "cell_type": "code",
   "execution_count": 44,
   "id": "9ac6ab26",
   "metadata": {},
   "outputs": [
    {
     "data": {
      "text/plain": [
       "False"
      ]
     },
     "execution_count": 44,
     "metadata": {},
     "output_type": "execute_result"
    }
   ],
   "source": [
    "AllRed([\"red hat\", \"white shirt\", \"black eyes\"])\n",
    "#False"
   ]
  },
  {
   "cell_type": "code",
   "execution_count": 46,
   "id": "3867fece",
   "metadata": {},
   "outputs": [],
   "source": [
    "def AllRed(Lst):\n",
    "    if not Lst:\n",
    "        return False\n",
    "    for s in Lst:\n",
    "        print(\"s=\", s)\n",
    "        if 'red' not in s:\n",
    "            return False\n",
    "    return True"
   ]
  },
  {
   "cell_type": "code",
   "execution_count": 48,
   "id": "28141fb3",
   "metadata": {},
   "outputs": [
    {
     "name": "stdout",
     "output_type": "stream",
     "text": [
      "s= red hat\n",
      "s= a pair of red shoes\n",
      "s= three red apples\n"
     ]
    },
    {
     "data": {
      "text/plain": [
       "True"
      ]
     },
     "execution_count": 48,
     "metadata": {},
     "output_type": "execute_result"
    }
   ],
   "source": [
    "AllRed([\"red hat\", \"a pair of red shoes\", \"three red apples\"]) "
   ]
  },
  {
   "cell_type": "code",
   "execution_count": 53,
   "id": "5336427d",
   "metadata": {},
   "outputs": [
    {
     "name": "stdout",
     "output_type": "stream",
     "text": [
      "s= red hat\n",
      "s= white shirt\n"
     ]
    },
    {
     "data": {
      "text/plain": [
       "False"
      ]
     },
     "execution_count": 53,
     "metadata": {},
     "output_type": "execute_result"
    }
   ],
   "source": [
    "AllRed([\"red hat\", \"white shirt\", \"black eyes\"])"
   ]
  },
  {
   "cell_type": "code",
   "execution_count": 52,
   "id": "571d7e71",
   "metadata": {},
   "outputs": [
    {
     "data": {
      "text/plain": [
       "False"
      ]
     },
     "execution_count": 52,
     "metadata": {},
     "output_type": "execute_result"
    }
   ],
   "source": [
    "AllRed([]) "
   ]
  },
  {
   "cell_type": "markdown",
   "id": "8d363cba",
   "metadata": {},
   "source": [
    "## 3. Modifying a string: Replacing characters in a string"
   ]
  },
  {
   "cell_type": "markdown",
   "id": "d357b063",
   "metadata": {},
   "source": [
    "### 3.1 Strings are immutable\n",
    "\n",
    "List可以修改，string不可修改\n",
    "一定要改，用.replace function"
   ]
  },
  {
   "cell_type": "code",
   "execution_count": 55,
   "id": "50025665",
   "metadata": {},
   "outputs": [],
   "source": [
    "a = \"abcde\""
   ]
  },
  {
   "cell_type": "code",
   "execution_count": 57,
   "id": "71e17569",
   "metadata": {},
   "outputs": [
    {
     "data": {
      "text/plain": [
       "'a'"
      ]
     },
     "execution_count": 57,
     "metadata": {},
     "output_type": "execute_result"
    }
   ],
   "source": [
    "a[0]\n",
    "#'a'"
   ]
  },
  {
   "cell_type": "code",
   "execution_count": 59,
   "id": "d0b02737",
   "metadata": {},
   "outputs": [
    {
     "ename": "TypeError",
     "evalue": "'str' object does not support item assignment",
     "output_type": "error",
     "traceback": [
      "\u001b[1;31m---------------------------------------------------------------------------\u001b[0m",
      "\u001b[1;31mTypeError\u001b[0m                                 Traceback (most recent call last)",
      "Cell \u001b[1;32mIn[59], line 3\u001b[0m\n\u001b[0;32m      1\u001b[0m \u001b[38;5;66;03m#string is immutable: string不可修改\u001b[39;00m\n\u001b[1;32m----> 3\u001b[0m a[\u001b[38;5;241m0\u001b[39m] \u001b[38;5;241m=\u001b[39m \u001b[38;5;124m\"\u001b[39m\u001b[38;5;124mf\u001b[39m\u001b[38;5;124m\"\u001b[39m\n",
      "\u001b[1;31mTypeError\u001b[0m: 'str' object does not support item assignment"
     ]
    }
   ],
   "source": [
    "#string is immutable: string不可修改\n",
    "\n",
    "a[0] = \"f\"\n",
    "# ---------------------------------------------------------------------------\n",
    "# TypeError                                 Traceback (most recent call last)\n",
    "# Cell In[58], line 1\n",
    "# ----> 1 a[0] = \"f\"\n",
    "\n",
    "# TypeError: 'str' object does not support item assignment"
   ]
  },
  {
   "cell_type": "markdown",
   "id": "a43f3469",
   "metadata": {},
   "source": [
    "### 3.2 Replace \n",
    "\n",
    "1. a.replace(\"要替代的string\", \"想替成的string\")\n",
    "2. a.replace(\"要替代的string\", \"想替成的string\", 2)：把前两个要提到的string换成新的\n",
    "3. \"想替成的string\" + a[1:]：新string和从第二个元素开始结合\n",
    "4. a[:m] + \"想替成的string\" + a[n:]：前m-1个元素字符 + 新String + n个元素后的字符"
   ]
  },
  {
   "cell_type": "code",
   "execution_count": null,
   "id": "ea891faf",
   "metadata": {},
   "outputs": [],
   "source": [
    "#之前学到remove没有返回值，pop有返回值\n",
    "#replace有返回值，并没有改变a本身\n",
    "#把新a赋值给a时，才改变a本身"
   ]
  },
  {
   "cell_type": "code",
   "execution_count": 72,
   "id": "b6e6bf15",
   "metadata": {},
   "outputs": [],
   "source": [
    "a = 'abcde'"
   ]
  },
  {
   "cell_type": "code",
   "execution_count": 73,
   "id": "82c218c0",
   "metadata": {},
   "outputs": [
    {
     "name": "stdout",
     "output_type": "stream",
     "text": [
      "abcde\n"
     ]
    }
   ],
   "source": [
    "#直接进行replace操作，不会改变原a\n",
    "a.replace(\"a\", \"f\")\n",
    "#'fbcde'\n",
    "print(a)\n",
    "#abcde"
   ]
  },
  {
   "cell_type": "code",
   "execution_count": 74,
   "id": "9bc45c5d",
   "metadata": {},
   "outputs": [
    {
     "name": "stdout",
     "output_type": "stream",
     "text": [
      "fbcde\n"
     ]
    }
   ],
   "source": [
    "#赋值给a后进行replace操作，会改变原a\n",
    "a = a.replace(\"a\", \"f\")\n",
    "print(a)\n",
    "#fbcde"
   ]
  },
  {
   "cell_type": "code",
   "execution_count": 79,
   "id": "9591bd9b",
   "metadata": {},
   "outputs": [
    {
     "name": "stdout",
     "output_type": "stream",
     "text": [
      "aaaaaa\n"
     ]
    }
   ],
   "source": [
    "a = \"aaaaaa\"\n",
    "print(a)\n",
    "#aaaaaa"
   ]
  },
  {
   "cell_type": "code",
   "execution_count": 82,
   "id": "95d9fe53",
   "metadata": {},
   "outputs": [
    {
     "name": "stdout",
     "output_type": "stream",
     "text": [
      "aaaaaa\n"
     ]
    }
   ],
   "source": [
    "a.replace(\"a\", \"f\")\n",
    "#'ffffff'\n",
    "print(a)\n",
    "#aaaaaa"
   ]
  },
  {
   "cell_type": "code",
   "execution_count": 84,
   "id": "e4011043",
   "metadata": {},
   "outputs": [
    {
     "data": {
      "text/plain": [
       "'ffaaaa'"
      ]
     },
     "execution_count": 84,
     "metadata": {},
     "output_type": "execute_result"
    }
   ],
   "source": [
    "a.replace(\"a\", \"f\", 2)\n",
    "#'ffaaaa'"
   ]
  },
  {
   "cell_type": "code",
   "execution_count": 86,
   "id": "03f606d7",
   "metadata": {},
   "outputs": [
    {
     "data": {
      "text/plain": [
       "'faaaaa'"
      ]
     },
     "execution_count": 86,
     "metadata": {},
     "output_type": "execute_result"
    }
   ],
   "source": [
    "\"f\" + a[1:]\n",
    "#'faaaaa'"
   ]
  },
  {
   "cell_type": "code",
   "execution_count": 88,
   "id": "30b796fd",
   "metadata": {},
   "outputs": [
    {
     "data": {
      "text/plain": [
       "'aaafaa'"
      ]
     },
     "execution_count": 88,
     "metadata": {},
     "output_type": "execute_result"
    }
   ],
   "source": [
    "a[:3] + \"f\" + a[4:]\n",
    "#'aaafaa'"
   ]
  },
  {
   "cell_type": "markdown",
   "id": "942594dd",
   "metadata": {},
   "source": [
    "## 4. Modifying a string: Concatenating strings & reversing strings"
   ]
  },
  {
   "cell_type": "markdown",
   "id": "5ae0a5a4",
   "metadata": {},
   "source": [
    "### Homework\n",
    "\n",
    "1、Exercise 3.4.1: Reverse String\n",
    "\n",
    "2、Exercise 3.4.2: Palindrome"
   ]
  },
  {
   "cell_type": "markdown",
   "id": "d9531279",
   "metadata": {},
   "source": [
    "## 3.3 Concatenate Strings"
   ]
  },
  {
   "cell_type": "code",
   "execution_count": 90,
   "id": "905816e9",
   "metadata": {},
   "outputs": [
    {
     "name": "stdout",
     "output_type": "stream",
     "text": [
      "abcde12345\n"
     ]
    }
   ],
   "source": [
    "a = \"abcde\"\n",
    "b = \"12345\"\n",
    "c = a + b \n",
    "print(c)\n",
    "#abcde12345"
   ]
  },
  {
   "cell_type": "markdown",
   "id": "5ebf99cf",
   "metadata": {},
   "source": [
    "## 3.4 Reverse a string"
   ]
  },
  {
   "cell_type": "code",
   "execution_count": 98,
   "id": "e6d8ac15",
   "metadata": {},
   "outputs": [],
   "source": [
    "a = \"abcde\""
   ]
  },
  {
   "cell_type": "code",
   "execution_count": 99,
   "id": "792987a1",
   "metadata": {},
   "outputs": [
    {
     "data": {
      "text/plain": [
       "'edcba'"
      ]
     },
     "execution_count": 99,
     "metadata": {},
     "output_type": "execute_result"
    }
   ],
   "source": [
    "a[::-1]\n",
    "#'edcba'"
   ]
  },
  {
   "cell_type": "code",
   "execution_count": 100,
   "id": "a4abdfe7",
   "metadata": {},
   "outputs": [
    {
     "data": {
      "text/plain": [
       "'abcde'"
      ]
     },
     "execution_count": 100,
     "metadata": {},
     "output_type": "execute_result"
    }
   ],
   "source": [
    "a[::]\n",
    "#'abcde'"
   ]
  },
  {
   "cell_type": "code",
   "execution_count": 102,
   "id": "fff8d3ed",
   "metadata": {},
   "outputs": [
    {
     "data": {
      "text/plain": [
       "'ace'"
      ]
     },
     "execution_count": 102,
     "metadata": {},
     "output_type": "execute_result"
    }
   ],
   "source": [
    "a[::2]\n",
    "#'ace'"
   ]
  },
  {
   "cell_type": "markdown",
   "id": "58fcac07",
   "metadata": {},
   "source": [
    "## Exercise 3.4.1: Reverse String\n",
    "Build a function RevStr to reverse a string.\n",
    "Example: RevStr(\"abcd\") returns “dcba”"
   ]
  },
  {
   "cell_type": "code",
   "execution_count": 107,
   "id": "3b268284",
   "metadata": {},
   "outputs": [],
   "source": [
    "def RevStr(s):\n",
    "    return s[::-1]"
   ]
  },
  {
   "cell_type": "code",
   "execution_count": 108,
   "id": "d51319f2",
   "metadata": {},
   "outputs": [
    {
     "data": {
      "text/plain": [
       "'dcba'"
      ]
     },
     "execution_count": 108,
     "metadata": {},
     "output_type": "execute_result"
    }
   ],
   "source": [
    "RevStr(\"abcd\")\n",
    "#'dcba'"
   ]
  },
  {
   "cell_type": "markdown",
   "id": "8474893c",
   "metadata": {},
   "source": [
    "## Exercise 3.4.2: Palindrome\n",
    "Build a function isPalindrome which takes a string as an input and returns boolin value telling whether the string is a palindrome.\n",
    "Example: isPalindrome(\"abcba\") returns True\n",
    "Example: isPalindrome(\"abba\") returns True\n",
    "Example: isPalindrome(\"a\") returns True\n",
    "Example: isPalindrome(\"\") returns True\n",
    "Example: isPalindrome(\"abcd\") returns False\n",
    "\n",
    "#回文的最优解：反过来还相等\n",
    "#可能还会再考指针写法"
   ]
  },
  {
   "cell_type": "code",
   "execution_count": 110,
   "id": "106c1998",
   "metadata": {},
   "outputs": [],
   "source": [
    "def isPalindrome(s):\n",
    "    return s == s[::-1]"
   ]
  },
  {
   "cell_type": "code",
   "execution_count": 113,
   "id": "24de2400",
   "metadata": {},
   "outputs": [
    {
     "data": {
      "text/plain": [
       "True"
      ]
     },
     "execution_count": 113,
     "metadata": {},
     "output_type": "execute_result"
    }
   ],
   "source": [
    "isPalindrome(\"abcba\")\n",
    "#True"
   ]
  },
  {
   "cell_type": "code",
   "execution_count": 115,
   "id": "9c63c5af",
   "metadata": {},
   "outputs": [
    {
     "data": {
      "text/plain": [
       "False"
      ]
     },
     "execution_count": 115,
     "metadata": {},
     "output_type": "execute_result"
    }
   ],
   "source": [
    "isPalindrome(\"abcd\")\n",
    "#False"
   ]
  },
  {
   "cell_type": "markdown",
   "id": "39a8e4cd",
   "metadata": {},
   "source": [
    "## 4. Transforming a string: String to List & List to String"
   ]
  },
  {
   "cell_type": "markdown",
   "id": "509174b4",
   "metadata": {},
   "source": [
    "### 4.1 String to list\n",
    "①使用sorted(string)\n",
    "② a = list(string)；a.sort()"
   ]
  },
  {
   "cell_type": "code",
   "execution_count": 121,
   "id": "5e57e6f8",
   "metadata": {},
   "outputs": [],
   "source": [
    "a = 'baedc'"
   ]
  },
  {
   "cell_type": "code",
   "execution_count": 122,
   "id": "01c74c6d",
   "metadata": {},
   "outputs": [
    {
     "ename": "AttributeError",
     "evalue": "'str' object has no attribute 'sort'",
     "output_type": "error",
     "traceback": [
      "\u001b[1;31m---------------------------------------------------------------------------\u001b[0m",
      "\u001b[1;31mAttributeError\u001b[0m                            Traceback (most recent call last)",
      "Cell \u001b[1;32mIn[122], line 1\u001b[0m\n\u001b[1;32m----> 1\u001b[0m \u001b[43ma\u001b[49m\u001b[38;5;241;43m.\u001b[39;49m\u001b[43msort\u001b[49m()\n",
      "\u001b[1;31mAttributeError\u001b[0m: 'str' object has no attribute 'sort'"
     ]
    }
   ],
   "source": [
    "a.sort()\n",
    "# ---------------------------------------------------------------------------\n",
    "# AttributeError                            Traceback (most recent call last)\n",
    "# Cell In[117], line 2\n",
    "#       1 a = 'baedc'\n",
    "# ----> 2 a.sort()\n",
    "\n",
    "# AttributeError: 'str' object has no attribute 'sort'"
   ]
  },
  {
   "cell_type": "code",
   "execution_count": 133,
   "id": "cf5606de",
   "metadata": {},
   "outputs": [
    {
     "data": {
      "text/plain": [
       "['a', 'b', 'c', 'd', 'e']"
      ]
     },
     "execution_count": 133,
     "metadata": {},
     "output_type": "execute_result"
    }
   ],
   "source": [
    "#sort string：①使用sorted(string)\n",
    "sorted(a)\n",
    "#['a', 'b', 'c', 'd', 'e']"
   ]
  },
  {
   "cell_type": "code",
   "execution_count": 132,
   "id": "23823a69",
   "metadata": {},
   "outputs": [
    {
     "name": "stdout",
     "output_type": "stream",
     "text": [
      "['a', 'b', 'c', 'd', 'e']\n",
      "['a', 'b', 'c', 'd', 'e']\n"
     ]
    }
   ],
   "source": [
    "#sort string：② a = list(string)；a.sort()\n",
    "a = list(a)\n",
    "print(a)\n",
    "#['b', 'a', 'e', 'd', 'c']\n",
    "a.sort()\n",
    "print(a)\n",
    "#['a', 'b', 'c', 'd', 'e']"
   ]
  },
  {
   "cell_type": "markdown",
   "id": "46e40152",
   "metadata": {},
   "source": [
    "### 4.2 List to string\n",
    "\n",
    "①使用string = \"分隔符或为空\".join(list) ②string = str(list)"
   ]
  },
  {
   "cell_type": "code",
   "execution_count": 145,
   "id": "5835babc",
   "metadata": {},
   "outputs": [
    {
     "name": "stdout",
     "output_type": "stream",
     "text": [
      "['a', 'b', 'c', 'd', 'e']\n"
     ]
    }
   ],
   "source": [
    "a = [\"a\", \"b\", \"c\", \"d\", \"e\"]\n",
    "print(a)\n",
    "#['a', 'b', 'c', 'd', 'e']"
   ]
  },
  {
   "cell_type": "code",
   "execution_count": 140,
   "id": "c65bec81",
   "metadata": {},
   "outputs": [
    {
     "name": "stdout",
     "output_type": "stream",
     "text": [
      "abcde\n"
     ]
    }
   ],
   "source": [
    "a = \"\".join(a)\n",
    "print(a)\n",
    "#abcde"
   ]
  },
  {
   "cell_type": "code",
   "execution_count": 143,
   "id": "40893790",
   "metadata": {},
   "outputs": [
    {
     "name": "stdout",
     "output_type": "stream",
     "text": [
      "['a', 'b', 'c', 'd', 'e']\n"
     ]
    }
   ],
   "source": [
    "a = [\"a\", \"b\", \"c\", \"d\", \"e\"]\n",
    "print(a)\n",
    "#['a', 'b', 'c', 'd', 'e']"
   ]
  },
  {
   "cell_type": "code",
   "execution_count": 149,
   "id": "0bf66d70",
   "metadata": {},
   "outputs": [
    {
     "name": "stdout",
     "output_type": "stream",
     "text": [
      "['a', 'b', 'c', 'd', 'e']\n"
     ]
    }
   ],
   "source": [
    "b = str(a)\n",
    "print(b)\n",
    "#['a', 'b', 'c', 'd', 'e']"
   ]
  },
  {
   "cell_type": "code",
   "execution_count": 152,
   "id": "ee24ac3f",
   "metadata": {},
   "outputs": [
    {
     "data": {
      "text/plain": [
       "'['"
      ]
     },
     "execution_count": 152,
     "metadata": {},
     "output_type": "execute_result"
    }
   ],
   "source": [
    "b[0]\n",
    "#'['"
   ]
  },
  {
   "cell_type": "code",
   "execution_count": 155,
   "id": "2d048bd0",
   "metadata": {},
   "outputs": [
    {
     "data": {
      "text/plain": [
       "\"'\""
      ]
     },
     "execution_count": 155,
     "metadata": {},
     "output_type": "execute_result"
    }
   ],
   "source": [
    "b[1]\n",
    "#\"'\""
   ]
  },
  {
   "cell_type": "code",
   "execution_count": 158,
   "id": "7900da55",
   "metadata": {},
   "outputs": [
    {
     "data": {
      "text/plain": [
       "'1'"
      ]
     },
     "execution_count": 158,
     "metadata": {},
     "output_type": "execute_result"
    }
   ],
   "source": [
    "str(1)\n",
    "#'1'"
   ]
  },
  {
   "cell_type": "code",
   "execution_count": 180,
   "id": "e5e7f25e",
   "metadata": {},
   "outputs": [
    {
     "name": "stdout",
     "output_type": "stream",
     "text": [
      "['a', 'b', 'c', 'd', 'e']\n"
     ]
    }
   ],
   "source": [
    "a = [\"a\", \"b\", \"c\", \"d\", \"e\"]\n",
    "print(a)\n",
    "#['a', 'b', 'c', 'd', 'e']"
   ]
  },
  {
   "cell_type": "code",
   "execution_count": 179,
   "id": "376f9f1c",
   "metadata": {},
   "outputs": [
    {
     "name": "stdout",
     "output_type": "stream",
     "text": [
      "a,b,c,d,e\n"
     ]
    }
   ],
   "source": [
    "a = \",\".join(a)\n",
    "print(a)\n",
    "#a,b,c,d,e"
   ]
  },
  {
   "cell_type": "code",
   "execution_count": 178,
   "id": "4d8f34c8",
   "metadata": {},
   "outputs": [
    {
     "data": {
      "text/plain": [
       "'abcde'"
      ]
     },
     "execution_count": 178,
     "metadata": {},
     "output_type": "execute_result"
    }
   ],
   "source": [
    "a = [\"a\", \"b\", \"c\", \"d\", \"e\"]\n",
    "\"\".join(a)\n",
    "#'abcde'"
   ]
  },
  {
   "cell_type": "code",
   "execution_count": 181,
   "id": "9f72262d",
   "metadata": {},
   "outputs": [
    {
     "data": {
      "text/plain": [
       "'a;b;c;d;e'"
      ]
     },
     "execution_count": 181,
     "metadata": {},
     "output_type": "execute_result"
    }
   ],
   "source": [
    "\";\".join(a)\n",
    "#'a;b;c;d;e'"
   ]
  },
  {
   "cell_type": "markdown",
   "id": "65edcac3",
   "metadata": {},
   "source": [
    "### 4.3 Split a string"
   ]
  },
  {
   "cell_type": "code",
   "execution_count": 184,
   "id": "5e2af079",
   "metadata": {},
   "outputs": [
    {
     "data": {
      "text/plain": [
       "['a', ' b', ' cd', ' e']"
      ]
     },
     "execution_count": 184,
     "metadata": {},
     "output_type": "execute_result"
    }
   ],
   "source": [
    "a = 'a, b, cd, e'\n",
    "a.split(\",\")\n",
    "#['a', ' b', ' cd', ' e']"
   ]
  },
  {
   "cell_type": "code",
   "execution_count": 187,
   "id": "d0e684be",
   "metadata": {},
   "outputs": [
    {
     "data": {
      "text/plain": [
       "['a', ' b', ' cd', '', ' e']"
      ]
     },
     "execution_count": 187,
     "metadata": {},
     "output_type": "execute_result"
    }
   ],
   "source": [
    "a = 'a, b, cd,, e'\n",
    "a.split(\",\")\n",
    "#['a', ' b', ' cd', '', ' e']"
   ]
  },
  {
   "cell_type": "code",
   "execution_count": 189,
   "id": "9371c019",
   "metadata": {},
   "outputs": [
    {
     "data": {
      "text/plain": [
       "['abcde']"
      ]
     },
     "execution_count": 189,
     "metadata": {},
     "output_type": "execute_result"
    }
   ],
   "source": [
    "a = 'abcde'\n",
    "a.split()\n",
    "#['abcde']"
   ]
  },
  {
   "cell_type": "markdown",
   "id": "306f77e7",
   "metadata": {},
   "source": [
    "### Example: Reverse Sentence"
   ]
  },
  {
   "cell_type": "markdown",
   "id": "b78a2fcd",
   "metadata": {},
   "source": [
    "## Exercise 4.3.1: Reverse Sentence\n",
    "Build a function RevSen to reverse a sentence.\n",
    "Example: RevSen(\"we are all friends\") returns “friends all are we”\n",
    "\n",
    "①list = string.split()：string分开为list\n",
    "\n",
    "②list_2 = list[::-1]：list全部返回来\n",
    "\n",
    "③string = \"\".join(list)：join一起成为新string"
   ]
  },
  {
   "cell_type": "code",
   "execution_count": 190,
   "id": "83d3cf1e",
   "metadata": {},
   "outputs": [],
   "source": [
    "def RevSen(sen):\n",
    "    words = sen.split()\n",
    "    return \"\".join(words[::-1])"
   ]
  },
  {
   "cell_type": "code",
   "execution_count": 193,
   "id": "43d8c3d0",
   "metadata": {},
   "outputs": [
    {
     "data": {
      "text/plain": [
       "'friendsallarewe'"
      ]
     },
     "execution_count": 193,
     "metadata": {},
     "output_type": "execute_result"
    }
   ],
   "source": [
    "RevSen(\"we are all friends\")\n",
    "#'friendsallarewe'"
   ]
  },
  {
   "cell_type": "code",
   "execution_count": 195,
   "id": "bf6b27b5",
   "metadata": {},
   "outputs": [],
   "source": [
    "def RevSen(sen):\n",
    "    words = sen.split()\n",
    "    print(\"words = \", words)\n",
    "    \n",
    "    new_words = words[::-1]\n",
    "    print(\"new_words\", new_words)\n",
    "    \n",
    "    res = \"\".join(new_words)\n",
    "    print(\"res\", res)\n",
    "    \n",
    "    return res"
   ]
  },
  {
   "cell_type": "code",
   "execution_count": 198,
   "id": "af7e92d4",
   "metadata": {},
   "outputs": [
    {
     "name": "stdout",
     "output_type": "stream",
     "text": [
      "words =  ['we', 'are', 'all', 'friends']\n",
      "new_words ['friends', 'all', 'are', 'we']\n",
      "res friendsallarewe\n",
      "words =  ['we', 'are', 'all', 'friends']\n",
      "new_words ['friends', 'all', 'are', 'we']\n",
      "res friendsallarewe\n"
     ]
    },
    {
     "data": {
      "text/plain": [
       "str"
      ]
     },
     "execution_count": 198,
     "metadata": {},
     "output_type": "execute_result"
    }
   ],
   "source": [
    "RevSen(\"we are all friends\")\n",
    "# words =  ['we', 'are', 'all', 'friends']\n",
    "# new_words ['friends', 'all', 'are', 'we']\n",
    "# res friendsallarewe\n",
    "# 'friendsallarewe'"
   ]
  },
  {
   "cell_type": "markdown",
   "id": "751a1a51",
   "metadata": {},
   "source": [
    "### Example: Reverse Words"
   ]
  },
  {
   "cell_type": "markdown",
   "id": "bb03fc24",
   "metadata": {},
   "source": [
    "### Exercise 4.3.2: Reverse Words\n",
    "Build a function RevWords to reverse each word of a sentence.\n",
    "Example: RevWords(\"we are all friends\") returns “ew era lla sdneirf”\n",
    "\n",
    "①法1：句split成词; 词倒过来；放进res\n",
    "②法2：句split成词; 每个单词倒过来加到新的list；再.join[更简单]"
   ]
  },
  {
   "cell_type": "code",
   "execution_count": 200,
   "id": "829b0c07",
   "metadata": {},
   "outputs": [],
   "source": [
    "#法1：句split成词; 词倒过来；放进res\n",
    "def RevWords(sen):\n",
    "    words = sen.split()\n",
    "    res = \"\"\n",
    "    for word in words:\n",
    "        if res:\n",
    "            res += \"\"\n",
    "        res += word[::-1]\n",
    "    return res"
   ]
  },
  {
   "cell_type": "code",
   "execution_count": 203,
   "id": "3d704721",
   "metadata": {},
   "outputs": [
    {
     "data": {
      "text/plain": [
       "'ewerallasdneirf'"
      ]
     },
     "execution_count": 203,
     "metadata": {},
     "output_type": "execute_result"
    }
   ],
   "source": [
    "RevWords(\"we are all friends\")\n",
    "#'ewerallasdneirf'"
   ]
  },
  {
   "cell_type": "code",
   "execution_count": 208,
   "id": "aaaa7f3d",
   "metadata": {},
   "outputs": [],
   "source": [
    "def RevWords(sen):\n",
    "    words = sen.split()\n",
    "    print(\"words = \", words)\n",
    "    res = \"\"\n",
    "    for word in words:\n",
    "        print(\"word = \", word)\n",
    "        print(\"word[::-1]=\", word[::-1])\n",
    "        if res:\n",
    "            res += \"\"\n",
    "        res += word[::-1]\n",
    "        print(\"res\", res)\n",
    "        print(\"========\")\n",
    "    return res"
   ]
  },
  {
   "cell_type": "code",
   "execution_count": 210,
   "id": "518cf3c2",
   "metadata": {},
   "outputs": [
    {
     "name": "stdout",
     "output_type": "stream",
     "text": [
      "words =  ['we', 'are', 'all', 'friends']\n",
      "word =  we\n",
      "word[::-1]= ew\n",
      "res ew\n",
      "========\n",
      "word =  are\n",
      "word[::-1]= era\n",
      "res ewera\n",
      "========\n",
      "word =  all\n",
      "word[::-1]= lla\n",
      "res eweralla\n",
      "========\n",
      "word =  friends\n",
      "word[::-1]= sdneirf\n",
      "res ewerallasdneirf\n",
      "========\n"
     ]
    },
    {
     "data": {
      "text/plain": [
       "'ewerallasdneirf'"
      ]
     },
     "execution_count": 210,
     "metadata": {},
     "output_type": "execute_result"
    }
   ],
   "source": [
    "RevWords(\"we are all friends\")"
   ]
  },
  {
   "cell_type": "code",
   "execution_count": 217,
   "id": "0e117965",
   "metadata": {},
   "outputs": [],
   "source": [
    "#法2：句split成词; 每个单词倒过来加到新的list；再join\n",
    "def RevWords(sen):\n",
    "    words = sen.split()\n",
    "    new_words = []\n",
    "    for word in words:\n",
    "        new_words.append(word[::-1])\n",
    "    return \"\".join(new_words)"
   ]
  },
  {
   "cell_type": "code",
   "execution_count": 219,
   "id": "07cc6b27",
   "metadata": {},
   "outputs": [
    {
     "data": {
      "text/plain": [
       "'ewerallasdneirf'"
      ]
     },
     "execution_count": 219,
     "metadata": {},
     "output_type": "execute_result"
    }
   ],
   "source": [
    "RevWords(\"we are all friends\")\n",
    "#'ewerallasdneirf'"
   ]
  },
  {
   "cell_type": "markdown",
   "id": "f4e967a1",
   "metadata": {},
   "source": [
    "# Unit 5: List II"
   ]
  },
  {
   "cell_type": "markdown",
   "id": "6f46d67f",
   "metadata": {},
   "source": [
    "## 1. Boolean: Review of Boolean"
   ]
  },
  {
   "cell_type": "markdown",
   "id": "c1bc9635",
   "metadata": {},
   "source": [
    "## 2. Boolean: Using Integers as Booleans"
   ]
  },
  {
   "cell_type": "markdown",
   "id": "90776ac7",
   "metadata": {},
   "source": [
    "## 3. Boolean: Using Lists as Booleans"
   ]
  },
  {
   "cell_type": "markdown",
   "id": "1743bb18",
   "metadata": {},
   "source": [
    "## 4. Boolean: Using Strings as Booleans"
   ]
  },
  {
   "cell_type": "markdown",
   "id": "1a48ff88",
   "metadata": {},
   "source": [
    "## 5. Built-in functions: Calling A Function"
   ]
  },
  {
   "cell_type": "markdown",
   "id": "507758bd",
   "metadata": {},
   "source": [
    "### Example: Remove Punctuations"
   ]
  },
  {
   "cell_type": "markdown",
   "id": "4449d2c7",
   "metadata": {},
   "source": [
    "### Exampes: Capitalize First Letters & Letter Palindrome"
   ]
  },
  {
   "cell_type": "markdown",
   "id": "6b775a64",
   "metadata": {},
   "source": [
    "# Unit 6: Dictionary"
   ]
  },
  {
   "cell_type": "markdown",
   "id": "03ae57b1",
   "metadata": {},
   "source": [
    "## 1. Introduction to Dict"
   ]
  },
  {
   "cell_type": "markdown",
   "id": "6703fc89",
   "metadata": {},
   "source": [
    "## 2. Getting Keys & Values from Dict"
   ]
  },
  {
   "cell_type": "markdown",
   "id": "d089ff81",
   "metadata": {},
   "source": [
    "### Example: Key Value Switch"
   ]
  },
  {
   "cell_type": "markdown",
   "id": "fe71dcb8",
   "metadata": {},
   "source": [
    "### Example: Rank Keys by Values"
   ]
  },
  {
   "cell_type": "markdown",
   "id": "0b36e99b",
   "metadata": {},
   "source": [
    "## 3. Zip"
   ]
  },
  {
   "cell_type": "markdown",
   "id": "ccb627bb",
   "metadata": {},
   "source": [
    "### Example: Character Frequency"
   ]
  },
  {
   "cell_type": "markdown",
   "id": "f91968a9",
   "metadata": {},
   "source": [
    "### Example: Character Frequency"
   ]
  },
  {
   "cell_type": "markdown",
   "id": "37adffb3",
   "metadata": {},
   "source": [
    "### Example: Unique Only"
   ]
  },
  {
   "cell_type": "markdown",
   "id": "e975bdd2",
   "metadata": {},
   "source": [
    "### Example: Same Pattern"
   ]
  },
  {
   "cell_type": "markdown",
   "id": "52c4424b",
   "metadata": {},
   "source": [
    "### Example: Anagrams"
   ]
  },
  {
   "cell_type": "markdown",
   "id": "450f986d",
   "metadata": {},
   "source": [
    "### Example: Two Sum"
   ]
  }
 ],
 "metadata": {
  "kernelspec": {
   "display_name": "Python 3 (ipykernel)",
   "language": "python",
   "name": "python3"
  },
  "language_info": {
   "codemirror_mode": {
    "name": "ipython",
    "version": 3
   },
   "file_extension": ".py",
   "mimetype": "text/x-python",
   "name": "python",
   "nbconvert_exporter": "python",
   "pygments_lexer": "ipython3",
   "version": "3.10.9"
  }
 },
 "nbformat": 4,
 "nbformat_minor": 5
}
