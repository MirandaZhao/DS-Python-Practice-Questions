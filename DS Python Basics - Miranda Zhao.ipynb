{
 "cells": [
  {
   "cell_type": "markdown",
   "id": "cbb7f907",
   "metadata": {},
   "source": [
    "# Python Basics\n",
    "                                                                                > Miranda Zhao "
   ]
  },
  {
   "cell_type": "markdown",
   "id": "b019217d",
   "metadata": {},
   "source": [
    "**Unit 0 Preparation**\n",
    "\n",
    "- Variable, Function, Return, Conditional Statements, FizzBuzz, For Loop, While Loop\n",
    "\n",
    "**Unit 1 List** \n",
    "\n",
    "- Get elements, Construct, Sort, Reverse\n",
    "\n",
    "**Unit 2 Manipulation**\n",
    "\n",
    "- Lambda, Append& Insert, Remove, Pop, Modify& Switch\n",
    "- Example: Insert, Binary Search, Pop\n",
    "\n",
    "**Unit 3 Set** \n",
    "\n",
    "- Remove duplicate, Search\n",
    "- Example: List2Num, Maximum Stock Gain, Pascal’s Triangle\n",
    "\n",
    "**Unit 4 String** \n",
    "\n",
    "- Replace characters, Concatenate &reverse, String &list\n",
    "- Example: Palindrome, Valid Parentheses, Ngrams, All Red, Reverse Sentence, Reverse Words \n",
    "\n",
    "**Unit 5 Boolean** \n",
    "\n",
    "- Use integers, lists, and strings as boolean, Call function, Import\n",
    "- Example: Remove Punctuations, Capitalize First Letters & Letter Palindrome\n",
    "\n",
    "**Unit 6 Dictionary** \n",
    "\n",
    "- Get key& values, Zip\n",
    "- Example: Key Value Switch, Rank Keys by Values, Character Frequency, Unique Only, Same Pattern, Anagrams, Two Sum\n",
    "\n",
    "**Unit 7 Tuple** \n",
    "\n",
    "- Format, Objects, Define& initialize a class, Self in class, Calculate using a custom class\n",
    "\n",
    "**Unit 8 Read& Write** \n",
    "\n",
    "- Line break, Write Strings into a file, Read from a file, CSV"
   ]
  },
  {
   "cell_type": "markdown",
   "id": "fa601cac",
   "metadata": {},
   "source": [
    "# unit 0 Preparation"
   ]
  },
  {
   "cell_type": "markdown",
   "id": "86eddae6",
   "metadata": {},
   "source": [
    "## 0.1 Variable"
   ]
  },
  {
   "cell_type": "code",
   "execution_count": 1,
   "id": "a12d14f5",
   "metadata": {},
   "outputs": [],
   "source": [
    "#There are 200 people. Everyday, every person needs 2kg of food to suvive. \n",
    "#If the capacity of a truck is 1 tons(1000kg), how many trucks do we need to send enough food for those people to survive for 5 days?"
   ]
  },
  {
   "cell_type": "code",
   "execution_count": 2,
   "id": "2084ffc7",
   "metadata": {
    "scrolled": true
   },
   "outputs": [
    {
     "data": {
      "text/plain": [
       "2.0"
      ]
     },
     "execution_count": 2,
     "metadata": {},
     "output_type": "execute_result"
    }
   ],
   "source": [
    "2 * 200 * 5 / 1000"
   ]
  },
  {
   "cell_type": "code",
   "execution_count": 3,
   "id": "06aaf8cc",
   "metadata": {},
   "outputs": [],
   "source": [
    "food_in_kg_per_person_per_day = 2"
   ]
  },
  {
   "cell_type": "code",
   "execution_count": 4,
   "id": "9acf56e5",
   "metadata": {},
   "outputs": [],
   "source": [
    "num_persons = 200"
   ]
  },
  {
   "cell_type": "code",
   "execution_count": 5,
   "id": "f42a8e72",
   "metadata": {},
   "outputs": [],
   "source": [
    "num_days = 5"
   ]
  },
  {
   "cell_type": "code",
   "execution_count": 6,
   "id": "2e230948",
   "metadata": {},
   "outputs": [],
   "source": [
    "truck_capacity_in_kg = 1000"
   ]
  },
  {
   "cell_type": "code",
   "execution_count": 7,
   "id": "38d2f501",
   "metadata": {},
   "outputs": [
    {
     "name": "stdout",
     "output_type": "stream",
     "text": [
      "400\n"
     ]
    }
   ],
   "source": [
    "total_food_in_kg_per_day = food_in_kg_per_person_per_day * num_persons\n",
    "print(total_food_in_kg_per_day)"
   ]
  },
  {
   "cell_type": "code",
   "execution_count": 8,
   "id": "56d0158e",
   "metadata": {},
   "outputs": [
    {
     "name": "stdout",
     "output_type": "stream",
     "text": [
      "2000\n"
     ]
    }
   ],
   "source": [
    "total_food_in_kg = total_food_in_kg_per_day * num_days\n",
    "print(total_food_in_kg)"
   ]
  },
  {
   "cell_type": "code",
   "execution_count": 9,
   "id": "452a5c79",
   "metadata": {},
   "outputs": [
    {
     "name": "stdout",
     "output_type": "stream",
     "text": [
      "2.0\n"
     ]
    }
   ],
   "source": [
    "num_trucks = total_food_in_kg / truck_capacity_in_kg\n",
    "print(num_trucks)"
   ]
  },
  {
   "cell_type": "markdown",
   "id": "ee500d5f",
   "metadata": {},
   "source": [
    "## 0.2 Function "
   ]
  },
  {
   "cell_type": "code",
   "execution_count": 10,
   "id": "5d5eeaf5",
   "metadata": {},
   "outputs": [],
   "source": [
    "#If we need to send enough food for 400 people to survive for 10 days,\n",
    "#how many trucks do we need"
   ]
  },
  {
   "cell_type": "code",
   "execution_count": 11,
   "id": "f553da77",
   "metadata": {},
   "outputs": [
    {
     "name": "stdout",
     "output_type": "stream",
     "text": [
      "8.0\n"
     ]
    }
   ],
   "source": [
    "food_in_kg_per_person_per_day = 2\n",
    "num_persons = 400\n",
    "num_days = 10\n",
    "truck_capacity_in_kg = 1000\n",
    "total_food_in_kg_per_day = food_in_kg_per_person_per_day * num_persons\n",
    "total_food_in_kg = total_food_in_kg_per_day * num_days\n",
    "num_trucks = total_food_in_kg / truck_capacity_in_kg\n",
    "print(num_trucks)\n",
    "#8"
   ]
  },
  {
   "cell_type": "code",
   "execution_count": 12,
   "id": "f4d7f999",
   "metadata": {},
   "outputs": [],
   "source": [
    "def get_num_trucks():\n",
    "    food_in_kg_per_person_per_day = 2\n",
    "    num_persons = 400\n",
    "    num_days = 10\n",
    "    truck_capacity_in_kg = 1000\n",
    "    total_food_in_kg_per_day = food_in_kg_per_person_per_day * num_persons\n",
    "    total_food_in_kg = total_food_in_kg_per_day * num_days\n",
    "    num_trucks = total_food_in_kg / truck_capacity_in_kg\n",
    "    return num_trucks\n",
    "    #print(num_trucks)    "
   ]
  },
  {
   "cell_type": "code",
   "execution_count": 13,
   "id": "c6cb6878",
   "metadata": {},
   "outputs": [
    {
     "data": {
      "text/plain": [
       "8.0"
      ]
     },
     "execution_count": 13,
     "metadata": {},
     "output_type": "execute_result"
    }
   ],
   "source": [
    "#为了显示得到结果，可以在函数最后写①return variable; ②print(va)\n",
    "get_num_trucks()\n",
    "#8.0"
   ]
  },
  {
   "cell_type": "code",
   "execution_count": 14,
   "id": "5bf58e5e",
   "metadata": {},
   "outputs": [],
   "source": [
    "#也可以将变量写在小括弧中，下次在小括弧中输入变量值即可：\n",
    "def get_num_trucks(food_in_kg_per_person_per_day, num_persons, num_days, truck_capacity_in_kg):\n",
    "    total_food_in_kg_per_day = food_in_kg_per_person_per_day * num_persons\n",
    "    total_food_in_kg = total_food_in_kg_per_day * num_days\n",
    "    num_trucks = total_food_in_kg / truck_capacity_in_kg\n",
    "    return num_trucks\n",
    "    #print(num_trucks) "
   ]
  },
  {
   "cell_type": "code",
   "execution_count": 15,
   "id": "e44664cb",
   "metadata": {},
   "outputs": [
    {
     "data": {
      "text/plain": [
       "8.0"
      ]
     },
     "execution_count": 15,
     "metadata": {},
     "output_type": "execute_result"
    }
   ],
   "source": [
    "get_num_trucks(2, 400, 10, 1000)\n",
    "#8.0"
   ]
  },
  {
   "cell_type": "code",
   "execution_count": 16,
   "id": "4201349f",
   "metadata": {},
   "outputs": [
    {
     "data": {
      "text/plain": [
       "2.0"
      ]
     },
     "execution_count": 16,
     "metadata": {},
     "output_type": "execute_result"
    }
   ],
   "source": [
    "get_num_trucks(2, 200, 5, 1000)\n",
    "#2.0"
   ]
  },
  {
   "cell_type": "markdown",
   "id": "b12dfe05",
   "metadata": {},
   "source": [
    "## 0.3 Return "
   ]
  },
  {
   "cell_type": "markdown",
   "id": "bc90b47d",
   "metadata": {},
   "source": [
    "### 0.3.1 print\n",
    "\n",
    "如果用print，则不能assign the value to the new variable, new variable is null，两个新的变量相加不会返回结果"
   ]
  },
  {
   "cell_type": "code",
   "execution_count": 17,
   "id": "3be81ee0",
   "metadata": {},
   "outputs": [],
   "source": [
    "def get_num_trucks(food_in_kg_per_person_per_day, num_persons, num_days, truck_capacity_in_kg):\n",
    "    total_food_in_kg_per_day = food_in_kg_per_person_per_day * num_persons\n",
    "    total_food_in_kg = total_food_in_kg_per_day * num_days\n",
    "    num_trucks = total_food_in_kg / truck_capacity_in_kg\n",
    "    print(num_trucks)"
   ]
  },
  {
   "cell_type": "code",
   "execution_count": 18,
   "id": "b8a40451",
   "metadata": {},
   "outputs": [
    {
     "name": "stdout",
     "output_type": "stream",
     "text": [
      "8.0\n"
     ]
    }
   ],
   "source": [
    "num_trucks_for_villiage_a = get_num_trucks(2, 400, 10, 1000)\n",
    "#8.0"
   ]
  },
  {
   "cell_type": "code",
   "execution_count": 19,
   "id": "ebd8207b",
   "metadata": {},
   "outputs": [],
   "source": [
    "num_trucks_for_villiage_a\n",
    "#不会print结果"
   ]
  },
  {
   "cell_type": "code",
   "execution_count": 20,
   "id": "276be782",
   "metadata": {},
   "outputs": [
    {
     "name": "stdout",
     "output_type": "stream",
     "text": [
      "2.0\n"
     ]
    }
   ],
   "source": [
    "num_trucks_for_villiage_b = get_num_trucks(2, 200, 5, 1000)\n",
    "#2.0"
   ]
  },
  {
   "cell_type": "code",
   "execution_count": 21,
   "id": "0c69e832",
   "metadata": {},
   "outputs": [],
   "source": [
    "num_trucks_for_villiage_b\n",
    "#不会print结果"
   ]
  },
  {
   "cell_type": "code",
   "execution_count": 22,
   "id": "e2e7df75",
   "metadata": {},
   "outputs": [],
   "source": [
    "#当使用print后，两个新的变量相加不会返回结果\n",
    "#num_trucks_for_villiage_a + num_trucks_for_villiage_b\n",
    "\n",
    "# ---------------------------------------------------------------------------\n",
    "# NameError                                 Traceback (most recent call last)\n",
    "# Cell In[71], line 1\n",
    "# ----> 1 num_trucks_for_villiage_a + num_trucks_for_villiage_b\n",
    "\n",
    "# NameError: name 'num_trucks_for_villiage_a' is not defined"
   ]
  },
  {
   "cell_type": "markdown",
   "id": "3be33a1e",
   "metadata": {},
   "source": [
    "### 0.3.2 return\n",
    "\n",
    "如果用return，而不用print，那么就可以use the result from calling the function to do further calculations "
   ]
  },
  {
   "cell_type": "code",
   "execution_count": 23,
   "id": "babb256c",
   "metadata": {},
   "outputs": [],
   "source": [
    "#assignment：如果使用return, 再新产生变量后，可以得到num_trucks作为函数结果：\n",
    "def get_num_trucks(food_in_kg_per_person_per_day, num_persons, num_days, truck_capacity_in_kg):\n",
    "    total_food_in_kg_per_day = food_in_kg_per_person_per_day * num_persons\n",
    "    total_food_in_kg = total_food_in_kg_per_day * num_days\n",
    "    num_trucks = total_food_in_kg / truck_capacity_in_kg\n",
    "    return num_trucks"
   ]
  },
  {
   "cell_type": "code",
   "execution_count": 24,
   "id": "01dab1ef",
   "metadata": {},
   "outputs": [],
   "source": [
    "num_trucks_for_villiage_a = get_num_trucks(2, 400, 10, 1000)"
   ]
  },
  {
   "cell_type": "code",
   "execution_count": 25,
   "id": "3065c497",
   "metadata": {},
   "outputs": [
    {
     "data": {
      "text/plain": [
       "8.0"
      ]
     },
     "execution_count": 25,
     "metadata": {},
     "output_type": "execute_result"
    }
   ],
   "source": [
    "num_trucks_for_villiage_a\n",
    "#8.0"
   ]
  },
  {
   "cell_type": "code",
   "execution_count": 26,
   "id": "7f24620a",
   "metadata": {},
   "outputs": [],
   "source": [
    "num_trucks_for_villiage_b = get_num_trucks(2, 200, 5, 1000)"
   ]
  },
  {
   "cell_type": "code",
   "execution_count": 27,
   "id": "7839758b",
   "metadata": {},
   "outputs": [
    {
     "data": {
      "text/plain": [
       "2.0"
      ]
     },
     "execution_count": 27,
     "metadata": {},
     "output_type": "execute_result"
    }
   ],
   "source": [
    "num_trucks_for_villiage_b\n",
    "#2.0"
   ]
  },
  {
   "cell_type": "code",
   "execution_count": 28,
   "id": "b7c3f209",
   "metadata": {},
   "outputs": [
    {
     "data": {
      "text/plain": [
       "10.0"
      ]
     },
     "execution_count": 28,
     "metadata": {},
     "output_type": "execute_result"
    }
   ],
   "source": [
    "num_trucks_for_villiage_a + num_trucks_for_villiage_b\n",
    "#10.0"
   ]
  },
  {
   "cell_type": "markdown",
   "id": "5133b699",
   "metadata": {},
   "source": [
    "## 0.4 Python practice questions"
   ]
  },
  {
   "cell_type": "code",
   "execution_count": 29,
   "id": "e2de75e9",
   "metadata": {},
   "outputs": [],
   "source": [
    "def HellowWorld():\n",
    "    return \"Hello World\""
   ]
  },
  {
   "cell_type": "code",
   "execution_count": 30,
   "id": "f9c150b9",
   "metadata": {},
   "outputs": [],
   "source": [
    "def LB2KG(num_in_pound):\n",
    "    return num_in_pound * 0.4536"
   ]
  },
  {
   "cell_type": "markdown",
   "id": "d7b1ca65",
   "metadata": {},
   "source": [
    "## 0.5  Conditional Statements"
   ]
  },
  {
   "cell_type": "code",
   "execution_count": 31,
   "id": "4cb372e5",
   "metadata": {},
   "outputs": [],
   "source": [
    "def Odd(num):\n",
    "    if num % 2 == 0:\n",
    "        return False\n",
    "    if num % 2 != 0:\n",
    "        return True"
   ]
  },
  {
   "cell_type": "code",
   "execution_count": 32,
   "id": "05d6ea16",
   "metadata": {},
   "outputs": [],
   "source": [
    "#improve code by else:\n",
    "def Odd(num):\n",
    "    if num % 2 == 0:\n",
    "        return False\n",
    "    else:\n",
    "        return True"
   ]
  },
  {
   "cell_type": "code",
   "execution_count": 33,
   "id": "6549ef15",
   "metadata": {},
   "outputs": [],
   "source": [
    "#improve code by more concise:\n",
    "def Odd(num):\n",
    "    return num % 2 != 0"
   ]
  },
  {
   "cell_type": "code",
   "execution_count": 34,
   "id": "fe5f6fd7",
   "metadata": {},
   "outputs": [
    {
     "data": {
      "text/plain": [
       "1"
      ]
     },
     "execution_count": 34,
     "metadata": {},
     "output_type": "execute_result"
    }
   ],
   "source": [
    "#% 是取余 remainder：\n",
    "3 % 2\n",
    "#1"
   ]
  },
  {
   "cell_type": "code",
   "execution_count": 35,
   "id": "a207d0e8",
   "metadata": {},
   "outputs": [
    {
     "data": {
      "text/plain": [
       "0"
      ]
     },
     "execution_count": 35,
     "metadata": {},
     "output_type": "execute_result"
    }
   ],
   "source": [
    "4 % 2\n",
    "#0"
   ]
  },
  {
   "cell_type": "code",
   "execution_count": 36,
   "id": "04d236e3",
   "metadata": {},
   "outputs": [
    {
     "data": {
      "text/plain": [
       "2"
      ]
     },
     "execution_count": 36,
     "metadata": {},
     "output_type": "execute_result"
    }
   ],
   "source": [
    "8 % 3\n",
    "#2"
   ]
  },
  {
   "cell_type": "code",
   "execution_count": 37,
   "id": "2c945f1a",
   "metadata": {},
   "outputs": [
    {
     "data": {
      "text/plain": [
       "4"
      ]
     },
     "execution_count": 37,
     "metadata": {},
     "output_type": "execute_result"
    }
   ],
   "source": [
    "a = 4\n",
    "a\n",
    "#4"
   ]
  },
  {
   "cell_type": "code",
   "execution_count": 38,
   "id": "ca92f68a",
   "metadata": {},
   "outputs": [
    {
     "data": {
      "text/plain": [
       "False"
      ]
     },
     "execution_count": 38,
     "metadata": {},
     "output_type": "execute_result"
    }
   ],
   "source": [
    "#Boolean：\n",
    "a == 5\n",
    "#False"
   ]
  },
  {
   "cell_type": "markdown",
   "id": "237129cb",
   "metadata": {},
   "source": [
    "## 0.6 FizzBuzz"
   ]
  },
  {
   "cell_type": "code",
   "execution_count": 39,
   "id": "8c857ecc",
   "metadata": {},
   "outputs": [],
   "source": [
    "#FizzBuzz\n",
    "#Build a function FizzBuzz which takes a positive integer as input, \n",
    "#If the number is divisible by 3, the function returns \"Fizz\".\n",
    "#If the number is divisible by 5, the function returns \"Buzz\".\n",
    "#If the number is divisible by both 3 and 5, the function returns \"FizzBuzz\".\n",
    "#Otherwise, the function returns the number itself."
   ]
  },
  {
   "cell_type": "code",
   "execution_count": 40,
   "id": "d077ff3d",
   "metadata": {},
   "outputs": [
    {
     "name": "stdout",
     "output_type": "stream",
     "text": [
      "FizzBuzz\n"
     ]
    }
   ],
   "source": [
    "#①注意if num % 3 == 0 and num % 5 == 0: 必须放在第一行，\n",
    "#否则当一个数除以3满足后，就不会进入 % 5 和 %3 and %5里了，造成结果错误：\n",
    "def FizzBuzz(num):\n",
    "    if num % 3 == 0 and num % 5 == 0:\n",
    "        return \"FizzBuzz\"    \n",
    "    if num % 3 == 0:\n",
    "        return \"Fizz\"\n",
    "    if num % 5 == 0:\n",
    "        return \"Buzz\"\n",
    "    return num\n",
    "print(FizzBuzz(45))\n",
    "#FizzBuzz"
   ]
  },
  {
   "cell_type": "code",
   "execution_count": 41,
   "id": "aa17fa11",
   "metadata": {},
   "outputs": [
    {
     "name": "stdout",
     "output_type": "stream",
     "text": [
      "FizzBuzz can be divided by 15\n",
      "Fizz can be divided by 3\n",
      "Buzz can be divided by 5\n",
      "Buzz\n"
     ]
    }
   ],
   "source": [
    "#②打开jupyter，学习debug：\n",
    "#45满足三条中的每一条，所以返回最后一次的结果。\n",
    "#而我们希望的是如果满足一条，就不往下跑了。\n",
    "def FizzBuzz(num):\n",
    "    result = num\n",
    "    if num % 15 == 0:\n",
    "        result = \"FizzBuzz\"\n",
    "        print(result, \"can be divided by 15\")\n",
    "    if num % 3 == 0:\n",
    "        result = \"Fizz\"\n",
    "        print(result, \"can be divided by 3\")\n",
    "    if num % 5 == 0:\n",
    "        result = \"Buzz\"\n",
    "        print(result, \"can be divided by 5\")\n",
    "    return result\n",
    "print(FizzBuzz(45))\n",
    "# FizzBuzz can be divided by 15\n",
    "# Fizz can be divided by 3\n",
    "# Buzz can be divided by 5\n",
    "# Buzz"
   ]
  },
  {
   "cell_type": "code",
   "execution_count": 42,
   "id": "5899a28b",
   "metadata": {},
   "outputs": [
    {
     "name": "stdout",
     "output_type": "stream",
     "text": [
      "FizzBuzz can be divided by 15\n",
      "FizzBuzz\n"
     ]
    }
   ],
   "source": [
    "#学习更正，可以加上else和tab后两条条件，这样满足第一个条件，就不会往下跑了。\n",
    "def FizzBuzz(num):\n",
    "    result = num\n",
    "    if num % 15 == 0:\n",
    "        result = \"FizzBuzz\"\n",
    "        print(result, \"can be divided by 15\")\n",
    "    else:\n",
    "        if num % 3 == 0:\n",
    "            result = \"Fizz\"\n",
    "            print(result, \"can be divided by 3\")\n",
    "        if num % 5 == 0:\n",
    "            result = \"Buzz\"\n",
    "            print(result, \"can be divided by 5\")\n",
    "    return result\n",
    "print(FizzBuzz(45))\n",
    "# FizzBuzz can be divided by 15\n",
    "# FizzBuzz"
   ]
  },
  {
   "cell_type": "code",
   "execution_count": 43,
   "id": "88294aac",
   "metadata": {},
   "outputs": [
    {
     "name": "stdout",
     "output_type": "stream",
     "text": [
      "FizzBuzz can be divided by 15\n",
      "FizzBuzz\n"
     ]
    }
   ],
   "source": [
    "#③升级版改正：用elif，当满足第一个条件，就不会往下跑了，看起来更简洁：\n",
    "def FizzBuzz(num):\n",
    "    result = num\n",
    "    if num % 15 == 0:\n",
    "        result = \"FizzBuzz\"\n",
    "        print(result, \"can be divided by 15\")\n",
    "    elif num % 3 == 0:\n",
    "        result = \"Fizz\"\n",
    "        print(result, \"can be divided by 3\")\n",
    "    elif num % 5 == 0:\n",
    "        result = \"Buzz\"\n",
    "        print(result, \"can be divided by 5\")\n",
    "    return result\n",
    "print(FizzBuzz(45))\n",
    "# FizzBuzz can be divided by 15\n",
    "# FizzBuzz"
   ]
  },
  {
   "cell_type": "markdown",
   "id": "8296035b",
   "metadata": {},
   "source": [
    "## 0.7  For Loop\n",
    "\n",
    "for i in range(1, num + 1):"
   ]
  },
  {
   "cell_type": "code",
   "execution_count": 44,
   "id": "b0969789",
   "metadata": {},
   "outputs": [],
   "source": [
    "# Build a function sqrt to calculate the square root of a positive integer number, \n",
    "# if the result is not a integer, \n",
    "# the function returns the nearest integer to the left of the result number\n",
    "\n",
    "# sqrt(16) returns 4\n",
    "# sqrt(17) returns 4\n",
    "# sqrt(77) returns 8"
   ]
  },
  {
   "cell_type": "code",
   "execution_count": 45,
   "id": "b4bbfaa5",
   "metadata": {},
   "outputs": [],
   "source": [
    "#ending index > starting index:\n",
    "#在起始值为1，终止值为num的数组中，\n",
    "#如果i的平方 = num，输出i；如果i的平方 > num，输出i -1\n",
    "def sqrt(num):\n",
    "    for i in range(1, num + 1):\n",
    "        if i * i == num:\n",
    "            return i \n",
    "        if i * i > num:\n",
    "            return i - 1"
   ]
  },
  {
   "cell_type": "code",
   "execution_count": 46,
   "id": "0948a508",
   "metadata": {},
   "outputs": [
    {
     "name": "stdout",
     "output_type": "stream",
     "text": [
      "1\n",
      "2\n",
      "3\n",
      "4\n",
      "5\n",
      "6\n",
      "7\n",
      "8\n",
      "9\n"
     ]
    }
   ],
   "source": [
    "#在jupyter中看下for loop：\n",
    "for i in range(1, 10):\n",
    "    print(i)\n",
    "# 1\n",
    "# 2\n",
    "# 3\n",
    "# 4\n",
    "# 5\n",
    "# 6\n",
    "# 7\n",
    "# 8\n",
    "# 9    "
   ]
  },
  {
   "cell_type": "code",
   "execution_count": 47,
   "id": "9311cae5",
   "metadata": {},
   "outputs": [
    {
     "name": "stdout",
     "output_type": "stream",
     "text": [
      "1\n"
     ]
    }
   ],
   "source": [
    "for i in range(1, 2):\n",
    "    print(i)\n",
    "#1    "
   ]
  },
  {
   "cell_type": "code",
   "execution_count": 48,
   "id": "759a44e3",
   "metadata": {},
   "outputs": [
    {
     "name": "stdout",
     "output_type": "stream",
     "text": [
      "10\n",
      "9\n",
      "8\n",
      "7\n",
      "6\n",
      "5\n",
      "4\n",
      "3\n"
     ]
    }
   ],
   "source": [
    "#得到起始值10，终止值3，步长-1的数字：\n",
    "for i in range(10, 2, -1):\n",
    "    print(i)\n",
    "# 10\n",
    "# 9\n",
    "# 8\n",
    "# 7\n",
    "# 6\n",
    "# 5\n",
    "# 4\n",
    "# 3"
   ]
  },
  {
   "cell_type": "code",
   "execution_count": 49,
   "id": "93869b41",
   "metadata": {},
   "outputs": [
    {
     "name": "stdout",
     "output_type": "stream",
     "text": [
      "10\n",
      "7\n",
      "4\n"
     ]
    }
   ],
   "source": [
    "for i in range(10, 2, -3):\n",
    "    print(i)\n",
    "# 10\n",
    "# 7\n",
    "# 4"
   ]
  },
  {
   "cell_type": "code",
   "execution_count": 50,
   "id": "0802cb91",
   "metadata": {},
   "outputs": [
    {
     "name": "stdout",
     "output_type": "stream",
     "text": [
      "2\n",
      "4\n",
      "6\n",
      "8\n"
     ]
    }
   ],
   "source": [
    "for i in range(2, 10, 2):\n",
    "    print(i)\n",
    "# 2\n",
    "# 4\n",
    "# 6\n",
    "# 8"
   ]
  },
  {
   "cell_type": "code",
   "execution_count": 51,
   "id": "0e9b21bc",
   "metadata": {},
   "outputs": [
    {
     "name": "stdout",
     "output_type": "stream",
     "text": [
      "0\n",
      "1\n",
      "2\n",
      "3\n",
      "4\n",
      "5\n",
      "6\n"
     ]
    }
   ],
   "source": [
    "for i in range(7):\n",
    "    print(i)\n",
    "# 0\n",
    "# 1\n",
    "# 2\n",
    "# 3\n",
    "# 4\n",
    "# 5\n",
    "# 6    "
   ]
  },
  {
   "cell_type": "markdown",
   "id": "2bc3b144",
   "metadata": {},
   "source": [
    "## 0.8 While Loop"
   ]
  },
  {
   "cell_type": "markdown",
   "id": "6a4796ce",
   "metadata": {},
   "source": [
    "### 0.8.1 a += 1 <=> a = a + 1 "
   ]
  },
  {
   "cell_type": "code",
   "execution_count": 52,
   "id": "967cf582",
   "metadata": {},
   "outputs": [],
   "source": [
    "def sqrt(num):\n",
    "    i = 0 \n",
    "    while i * i <= num:\n",
    "        return i\n",
    "    if i * i > num:\n",
    "        return i - 1"
   ]
  },
  {
   "cell_type": "code",
   "execution_count": 53,
   "id": "ae9b3894",
   "metadata": {},
   "outputs": [],
   "source": [
    "a = 1"
   ]
  },
  {
   "cell_type": "code",
   "execution_count": 54,
   "id": "ae0261ce",
   "metadata": {},
   "outputs": [
    {
     "data": {
      "text/plain": [
       "1"
      ]
     },
     "execution_count": 54,
     "metadata": {},
     "output_type": "execute_result"
    }
   ],
   "source": [
    "a\n",
    "#1"
   ]
  },
  {
   "cell_type": "code",
   "execution_count": 55,
   "id": "eba780e8",
   "metadata": {},
   "outputs": [],
   "source": [
    "a += 1"
   ]
  },
  {
   "cell_type": "code",
   "execution_count": 56,
   "id": "995ec903",
   "metadata": {},
   "outputs": [
    {
     "data": {
      "text/plain": [
       "2"
      ]
     },
     "execution_count": 56,
     "metadata": {},
     "output_type": "execute_result"
    }
   ],
   "source": [
    "a\n",
    "#2"
   ]
  },
  {
   "cell_type": "code",
   "execution_count": 57,
   "id": "74e30a72",
   "metadata": {},
   "outputs": [],
   "source": [
    "a += 3"
   ]
  },
  {
   "cell_type": "code",
   "execution_count": 58,
   "id": "d0409b71",
   "metadata": {},
   "outputs": [
    {
     "data": {
      "text/plain": [
       "5"
      ]
     },
     "execution_count": 58,
     "metadata": {},
     "output_type": "execute_result"
    }
   ],
   "source": [
    "a\n",
    "#5"
   ]
  },
  {
   "cell_type": "code",
   "execution_count": 59,
   "id": "7af163ed",
   "metadata": {},
   "outputs": [],
   "source": [
    "#放进jupyter中：\n",
    "def sqrt(num):\n",
    "    i = 0 \n",
    "    while i * i <= num:\n",
    "        i += 1\n",
    "        print(i, i * i, num)\n",
    "    return i - 1"
   ]
  },
  {
   "cell_type": "code",
   "execution_count": 60,
   "id": "80f1eeac",
   "metadata": {},
   "outputs": [
    {
     "name": "stdout",
     "output_type": "stream",
     "text": [
      "1 1 77\n",
      "2 4 77\n",
      "3 9 77\n",
      "4 16 77\n",
      "5 25 77\n",
      "6 36 77\n",
      "7 49 77\n",
      "8 64 77\n",
      "9 81 77\n"
     ]
    },
    {
     "data": {
      "text/plain": [
       "8"
      ]
     },
     "execution_count": 60,
     "metadata": {},
     "output_type": "execute_result"
    }
   ],
   "source": [
    "sqrt(77)\n",
    "# 1 1 77\n",
    "# 2 4 77\n",
    "# 3 9 77\n",
    "# 4 16 77\n",
    "# 5 25 77\n",
    "# 6 36 77\n",
    "# 7 49 77\n",
    "# 8 64 77\n",
    "# 9 81 77\n",
    "# 8"
   ]
  },
  {
   "cell_type": "markdown",
   "id": "3621bc16",
   "metadata": {},
   "source": [
    "### 0.8.2 while loop和for loop的区别："
   ]
  },
  {
   "cell_type": "code",
   "execution_count": 61,
   "id": "428b7c05",
   "metadata": {},
   "outputs": [],
   "source": [
    "#while loop和for loop的区别：\n",
    "#①while loop的ending exit condition can be set in the loop itself,\n",
    "#但如果用for loop, 就需要an ending index to exit the loop，并且ending index需要比exit condition更大\n",
    "#因此while loop 比 for loop看起来更简洁，\n",
    "#②但如果在while loop中忘记设置step size步长，\n",
    "#就会出现infinite loop报错，无休止跑下去。"
   ]
  },
  {
   "cell_type": "code",
   "execution_count": 62,
   "id": "bfc2e462",
   "metadata": {},
   "outputs": [],
   "source": [
    "# 如果将ending index设置为num，\n",
    "# 那么当num = 1时，for loop最后就无法到达exit condition终止条件了\n",
    "# 这时用while loop就更简洁，因为终止条件可以设置为num本身，而不是num + 1\n",
    "# def sqrt(num):\n",
    "#     for in range(1, num + 1):\n",
    "\n",
    "# def sqrt(num):\n",
    "#     i = 0\n",
    "#     while i * i <= num:  "
   ]
  },
  {
   "cell_type": "code",
   "execution_count": 63,
   "id": "429eefed",
   "metadata": {},
   "outputs": [],
   "source": [
    "#for loop做法：\n",
    "def sqrt(num):\n",
    "    for i in range(1, num + 1):\n",
    "        if i * i == num:\n",
    "            return i \n",
    "        if i * i > num:\n",
    "            return i - 1"
   ]
  },
  {
   "cell_type": "code",
   "execution_count": 64,
   "id": "34a0791a",
   "metadata": {},
   "outputs": [],
   "source": [
    "#while loop做法：\n",
    "def sqrt(num):\n",
    "    i = 0 \n",
    "    while i * i <= num:\n",
    "        i += 1\n",
    "    return i - 1"
   ]
  },
  {
   "cell_type": "markdown",
   "id": "0a746b72",
   "metadata": {},
   "source": [
    "# Unit 1：List"
   ]
  },
  {
   "cell_type": "markdown",
   "id": "84f0a4f5",
   "metadata": {},
   "source": [
    "## 1.1 List1- Introduction to List"
   ]
  },
  {
   "cell_type": "code",
   "execution_count": 65,
   "id": "7333d38d",
   "metadata": {},
   "outputs": [],
   "source": [
    "#1.1: An empty list"
   ]
  },
  {
   "cell_type": "code",
   "execution_count": 66,
   "id": "6b920c1b",
   "metadata": {},
   "outputs": [],
   "source": [
    "a = []"
   ]
  },
  {
   "cell_type": "code",
   "execution_count": 67,
   "id": "d7a38ae8",
   "metadata": {},
   "outputs": [
    {
     "name": "stdout",
     "output_type": "stream",
     "text": [
      "[]\n"
     ]
    }
   ],
   "source": [
    "print(a)\n",
    "#[]"
   ]
  },
  {
   "cell_type": "code",
   "execution_count": 68,
   "id": "7361c8a8",
   "metadata": {},
   "outputs": [],
   "source": [
    "#1.2 A list of numbers"
   ]
  },
  {
   "cell_type": "code",
   "execution_count": 69,
   "id": "b73b88e4",
   "metadata": {},
   "outputs": [],
   "source": [
    "a = [1, 2, 3]"
   ]
  },
  {
   "cell_type": "code",
   "execution_count": 70,
   "id": "82598c68",
   "metadata": {},
   "outputs": [
    {
     "name": "stdout",
     "output_type": "stream",
     "text": [
      "[1, 2, 3]\n"
     ]
    }
   ],
   "source": [
    "print(a)\n",
    "#[1, 2, 3]"
   ]
  },
  {
   "cell_type": "code",
   "execution_count": 71,
   "id": "a053ed8d",
   "metadata": {},
   "outputs": [],
   "source": [
    "#1.3 A list of strings"
   ]
  },
  {
   "cell_type": "code",
   "execution_count": 72,
   "id": "51d7125a",
   "metadata": {},
   "outputs": [],
   "source": [
    "a = ['a', 'b', 'c']"
   ]
  },
  {
   "cell_type": "code",
   "execution_count": 73,
   "id": "8cdd624a",
   "metadata": {},
   "outputs": [
    {
     "name": "stdout",
     "output_type": "stream",
     "text": [
      "['a', 'b', 'c']\n"
     ]
    }
   ],
   "source": [
    "print(a)\n",
    "#['a', 'b', 'c']"
   ]
  },
  {
   "cell_type": "code",
   "execution_count": 74,
   "id": "ae9f8e40",
   "metadata": {},
   "outputs": [],
   "source": [
    "#1.4 A list of many things"
   ]
  },
  {
   "cell_type": "code",
   "execution_count": 75,
   "id": "9915b2bc",
   "metadata": {},
   "outputs": [],
   "source": [
    "a = [1, 'a', 'b', 2, 'c']"
   ]
  },
  {
   "cell_type": "code",
   "execution_count": 76,
   "id": "159d180d",
   "metadata": {},
   "outputs": [
    {
     "name": "stdout",
     "output_type": "stream",
     "text": [
      "[1, 'a', 'b', 2, 'c']\n"
     ]
    }
   ],
   "source": [
    "print(a)\n",
    "#[1, 'a', 'b', 2, 'c']"
   ]
  },
  {
   "cell_type": "code",
   "execution_count": 77,
   "id": "9cfe1964",
   "metadata": {},
   "outputs": [],
   "source": [
    "a = [[{}], 1, 2, [\"a\", \"b\"], \"c\"]"
   ]
  },
  {
   "cell_type": "code",
   "execution_count": 78,
   "id": "b57f2e3b",
   "metadata": {},
   "outputs": [
    {
     "name": "stdout",
     "output_type": "stream",
     "text": [
      "[[{}], 1, 2, ['a', 'b'], 'c']\n"
     ]
    }
   ],
   "source": [
    "print(a)\n",
    "#[[], 1, 2, ['a', 'b'], 'c']"
   ]
  },
  {
   "cell_type": "code",
   "execution_count": 79,
   "id": "967c8930",
   "metadata": {},
   "outputs": [],
   "source": [
    "#小结：\n",
    "#1.python list中可以是任何元素，可以是数字，list，dictionary。\n",
    "#2.如果是list需要双括弧补齐\n",
    "#3.顺序"
   ]
  },
  {
   "cell_type": "markdown",
   "id": "4475cf19",
   "metadata": {},
   "source": [
    "## 1.2 Getting elements from a list\n"
   ]
  },
  {
   "cell_type": "code",
   "execution_count": 80,
   "id": "f76f6d2d",
   "metadata": {},
   "outputs": [],
   "source": [
    "#2.1 看一个元素是否在list中"
   ]
  },
  {
   "cell_type": "code",
   "execution_count": 81,
   "id": "c4b76fff",
   "metadata": {},
   "outputs": [],
   "source": [
    "a = [1, 3, 4, 5, 9]"
   ]
  },
  {
   "cell_type": "code",
   "execution_count": 82,
   "id": "30590dc2",
   "metadata": {},
   "outputs": [
    {
     "data": {
      "text/plain": [
       "True"
      ]
     },
     "execution_count": 82,
     "metadata": {},
     "output_type": "execute_result"
    }
   ],
   "source": [
    "1 in a\n",
    "#True"
   ]
  },
  {
   "cell_type": "code",
   "execution_count": 83,
   "id": "931be290",
   "metadata": {},
   "outputs": [
    {
     "data": {
      "text/plain": [
       "False"
      ]
     },
     "execution_count": 83,
     "metadata": {},
     "output_type": "execute_result"
    }
   ],
   "source": [
    "7 in a\n",
    "#False"
   ]
  },
  {
   "cell_type": "code",
   "execution_count": 84,
   "id": "6edc7927",
   "metadata": {},
   "outputs": [
    {
     "data": {
      "text/plain": [
       "False"
      ]
     },
     "execution_count": 84,
     "metadata": {},
     "output_type": "execute_result"
    }
   ],
   "source": [
    "2 in a\n",
    "#False"
   ]
  },
  {
   "cell_type": "code",
   "execution_count": 85,
   "id": "65b9dbd4",
   "metadata": {},
   "outputs": [],
   "source": [
    "#2.1.1: 是否元素在list中的函数形式\n",
    "\n",
    "#练习Q extra:\n",
    "# Whether an Element in the List\n",
    "# Description\n",
    "# Build a function IsIn to tell whether a target element in a list.\n",
    "\n",
    "# Examples\n",
    "# IsIn([1, 2, 3, 4, 5], 2) returns True\n",
    "# IsIn([1, 2, 3, 4, 5], 6) returns False"
   ]
  },
  {
   "cell_type": "code",
   "execution_count": 86,
   "id": "050810a2",
   "metadata": {},
   "outputs": [],
   "source": [
    "#法1：if k in a： \n",
    "def IsIn(nums, target):\n",
    "    if target in nums:\n",
    "        return True\n",
    "    else:\n",
    "        return False\n",
    "\n",
    "#一个值在一个列表中：if a in list，return True False"
   ]
  },
  {
   "cell_type": "code",
   "execution_count": 87,
   "id": "1d0cf5d8",
   "metadata": {},
   "outputs": [],
   "source": [
    "#法2：if target in nums:\n",
    "def IsIn(nums, target):\n",
    "    return target in nums\n",
    "\n",
    "#直接return k in a，返回结果是True False                                    "
   ]
  },
  {
   "cell_type": "code",
   "execution_count": 88,
   "id": "ba64c1ae",
   "metadata": {},
   "outputs": [],
   "source": [
    "#return target in nums 是一个布尔表达式，它会返回一个布尔值，即 True 或 False。#"
   ]
  },
  {
   "cell_type": "code",
   "execution_count": 89,
   "id": "7a76b25c",
   "metadata": {},
   "outputs": [
    {
     "data": {
      "text/plain": [
       "True"
      ]
     },
     "execution_count": 89,
     "metadata": {},
     "output_type": "execute_result"
    }
   ],
   "source": [
    "IsIn([1, 2, 3, 4, 5], 2)\n",
    "#True"
   ]
  },
  {
   "cell_type": "code",
   "execution_count": 90,
   "id": "345a7142",
   "metadata": {},
   "outputs": [
    {
     "data": {
      "text/plain": [
       "False"
      ]
     },
     "execution_count": 90,
     "metadata": {},
     "output_type": "execute_result"
    }
   ],
   "source": [
    "IsIn([1, 2, 3, 4, 5], 6)\n",
    "#False"
   ]
  },
  {
   "cell_type": "code",
   "execution_count": 91,
   "id": "0833fd83",
   "metadata": {},
   "outputs": [],
   "source": [
    "#2.2 用Index取需要的元素"
   ]
  },
  {
   "cell_type": "code",
   "execution_count": 92,
   "id": "50be5ff0",
   "metadata": {},
   "outputs": [],
   "source": [
    "a = [1, 2, 3, 4, 5, 6, 7]"
   ]
  },
  {
   "cell_type": "code",
   "execution_count": 93,
   "id": "b187d7cb",
   "metadata": {},
   "outputs": [
    {
     "name": "stdout",
     "output_type": "stream",
     "text": [
      "2\n"
     ]
    }
   ],
   "source": [
    "print(a[1])\n",
    "#2"
   ]
  },
  {
   "cell_type": "code",
   "execution_count": 94,
   "id": "d14293f9",
   "metadata": {},
   "outputs": [
    {
     "name": "stdout",
     "output_type": "stream",
     "text": [
      "1\n"
     ]
    }
   ],
   "source": [
    "print(a[0])\n",
    "#1"
   ]
  },
  {
   "cell_type": "code",
   "execution_count": 95,
   "id": "f9797416",
   "metadata": {},
   "outputs": [
    {
     "name": "stdout",
     "output_type": "stream",
     "text": [
      "7\n"
     ]
    }
   ],
   "source": [
    "print(a[6])\n",
    "#7"
   ]
  },
  {
   "cell_type": "code",
   "execution_count": 96,
   "id": "d17f31e6",
   "metadata": {},
   "outputs": [],
   "source": [
    "#print(a[7])\n",
    "# ---------------------------------------------------------------------------\n",
    "# IndexError                                Traceback (most recent call last)\n",
    "# Cell In[70], line 1\n",
    "# ----> 1 print(a[7])\n",
    "\n",
    "# IndexError: list index out of range"
   ]
  },
  {
   "cell_type": "code",
   "execution_count": 97,
   "id": "eeeedf2c",
   "metadata": {},
   "outputs": [],
   "source": [
    "#2.3 用负值index取元素"
   ]
  },
  {
   "cell_type": "code",
   "execution_count": 98,
   "id": "66ce9180",
   "metadata": {},
   "outputs": [],
   "source": [
    "a = [1, 2, 3, 4, 5, 6, 7]"
   ]
  },
  {
   "cell_type": "code",
   "execution_count": 99,
   "id": "e6d82319",
   "metadata": {},
   "outputs": [
    {
     "name": "stdout",
     "output_type": "stream",
     "text": [
      "7\n"
     ]
    }
   ],
   "source": [
    "print(a[-1])\n",
    "#7"
   ]
  },
  {
   "cell_type": "code",
   "execution_count": 100,
   "id": "c5b1fa19",
   "metadata": {},
   "outputs": [
    {
     "name": "stdout",
     "output_type": "stream",
     "text": [
      "6\n"
     ]
    }
   ],
   "source": [
    "print(a[-2])\n",
    "#6"
   ]
  },
  {
   "cell_type": "code",
   "execution_count": 101,
   "id": "96ed6206",
   "metadata": {},
   "outputs": [
    {
     "name": "stdout",
     "output_type": "stream",
     "text": [
      "1\n"
     ]
    }
   ],
   "source": [
    "print(a[-7])\n",
    "#1"
   ]
  },
  {
   "cell_type": "code",
   "execution_count": 102,
   "id": "007fa63f",
   "metadata": {},
   "outputs": [],
   "source": [
    "#print(a[-8])\n",
    "# ---------------------------------------------------------------------------\n",
    "# IndexError                                Traceback (most recent call last)\n",
    "# Cell In[87], line 1\n",
    "# ----> 1 print(a[-8])\n",
    "\n",
    "# IndexError: list index out of range"
   ]
  },
  {
   "cell_type": "code",
   "execution_count": 103,
   "id": "3f3f7167",
   "metadata": {},
   "outputs": [],
   "source": [
    "#2.4 Length of a list"
   ]
  },
  {
   "cell_type": "code",
   "execution_count": 104,
   "id": "cc80748b",
   "metadata": {},
   "outputs": [],
   "source": [
    "a = [1, 2, 3, 4, 5, 6, 7]"
   ]
  },
  {
   "cell_type": "code",
   "execution_count": 105,
   "id": "763dc62b",
   "metadata": {},
   "outputs": [
    {
     "name": "stdout",
     "output_type": "stream",
     "text": [
      "7\n"
     ]
    }
   ],
   "source": [
    "print(len(a))\n",
    "#7"
   ]
  },
  {
   "cell_type": "code",
   "execution_count": 106,
   "id": "30e9db1b",
   "metadata": {},
   "outputs": [
    {
     "data": {
      "text/plain": [
       "7"
      ]
     },
     "execution_count": 106,
     "metadata": {},
     "output_type": "execute_result"
    }
   ],
   "source": [
    "a[len(a) - 1]\n",
    "#在a中取第六个元素，即7\n",
    "#7"
   ]
  },
  {
   "cell_type": "code",
   "execution_count": 107,
   "id": "6cfba074",
   "metadata": {},
   "outputs": [],
   "source": [
    "#a(len(a))\n",
    "##在a中取第七个元素，out of list\n",
    "# ---------------------------------------------------------------------------\n",
    "# TypeError                                 Traceback (most recent call last)\n",
    "# Cell In[103], line 1\n",
    "# ----> 1 a(len(a))\n",
    "\n",
    "# TypeError: 'list' object is not callable"
   ]
  },
  {
   "cell_type": "code",
   "execution_count": 108,
   "id": "bfe1e62b",
   "metadata": {},
   "outputs": [],
   "source": [
    "#2.5 在list中进行slicing\n",
    "#包括括号前位置的元素，不包括括号后位置的元素\n",
    "#step"
   ]
  },
  {
   "cell_type": "code",
   "execution_count": 109,
   "id": "77083cc2",
   "metadata": {},
   "outputs": [],
   "source": [
    "a = [1, 2, 3, 4, 5, 6, 7]"
   ]
  },
  {
   "cell_type": "code",
   "execution_count": 110,
   "id": "89248171",
   "metadata": {},
   "outputs": [
    {
     "name": "stdout",
     "output_type": "stream",
     "text": [
      "[3]\n"
     ]
    }
   ],
   "source": [
    "print(a[2:3])\n",
    "#[3]"
   ]
  },
  {
   "cell_type": "code",
   "execution_count": 111,
   "id": "e3fd56c4",
   "metadata": {},
   "outputs": [
    {
     "name": "stdout",
     "output_type": "stream",
     "text": [
      "[]\n"
     ]
    }
   ],
   "source": [
    "print(a[2:2])\n",
    "#[]"
   ]
  },
  {
   "cell_type": "code",
   "execution_count": 112,
   "id": "24fe5b77",
   "metadata": {},
   "outputs": [
    {
     "name": "stdout",
     "output_type": "stream",
     "text": [
      "[3, 4, 5, 6]\n"
     ]
    }
   ],
   "source": [
    "print(a[2:6])\n",
    "#[3, 4, 5, 6]"
   ]
  },
  {
   "cell_type": "code",
   "execution_count": 113,
   "id": "1084800b",
   "metadata": {},
   "outputs": [
    {
     "name": "stdout",
     "output_type": "stream",
     "text": [
      "[3, 5]\n"
     ]
    }
   ],
   "source": [
    "print(a[2:6:2])\n",
    "#[3, 5]"
   ]
  },
  {
   "cell_type": "code",
   "execution_count": 114,
   "id": "698cf7d5",
   "metadata": {},
   "outputs": [
    {
     "name": "stdout",
     "output_type": "stream",
     "text": [
      "[3, 4, 5, 6]\n"
     ]
    }
   ],
   "source": [
    "print(a[2:6:1])\n",
    "#[3, 4, 5, 6]"
   ]
  },
  {
   "cell_type": "code",
   "execution_count": 115,
   "id": "56dabddf",
   "metadata": {},
   "outputs": [],
   "source": [
    "#2.6 从负值取元素"
   ]
  },
  {
   "cell_type": "code",
   "execution_count": 116,
   "id": "12217352",
   "metadata": {},
   "outputs": [],
   "source": [
    "a = [1, 2, 3, 4, 5, 6, 7]"
   ]
  },
  {
   "cell_type": "code",
   "execution_count": 117,
   "id": "6cbe4fb9",
   "metadata": {},
   "outputs": [
    {
     "name": "stdout",
     "output_type": "stream",
     "text": [
      "[]\n"
     ]
    }
   ],
   "source": [
    "print(a[6:2])               #???"
   ]
  },
  {
   "cell_type": "code",
   "execution_count": 118,
   "id": "cbb103ce",
   "metadata": {},
   "outputs": [
    {
     "name": "stdout",
     "output_type": "stream",
     "text": [
      "[7, 6, 5, 4]\n"
     ]
    }
   ],
   "source": [
    "#-1从后往前取\n",
    "print(a[6:2:-1])\n",
    "#[7, 6, 5, 4]"
   ]
  },
  {
   "cell_type": "code",
   "execution_count": 119,
   "id": "1c85ae62",
   "metadata": {},
   "outputs": [
    {
     "name": "stdout",
     "output_type": "stream",
     "text": [
      "[1, 2, 3, 4, 5, 6, 7]\n"
     ]
    }
   ],
   "source": [
    "print(a[:])\n",
    "#[1, 2, 3, 4, 5, 6, 7]"
   ]
  },
  {
   "cell_type": "code",
   "execution_count": 120,
   "id": "768c0734",
   "metadata": {},
   "outputs": [
    {
     "name": "stdout",
     "output_type": "stream",
     "text": [
      "[1, 2, 3, 4, 5, 6, 7]\n"
     ]
    }
   ],
   "source": [
    "print(a[::])\n",
    "#[1, 2, 3, 4, 5, 6, 7]"
   ]
  },
  {
   "cell_type": "code",
   "execution_count": 121,
   "id": "d7502bbf",
   "metadata": {},
   "outputs": [
    {
     "name": "stdout",
     "output_type": "stream",
     "text": [
      "[7, 6, 5, 4, 3, 2, 1]\n"
     ]
    }
   ],
   "source": [
    "#::-1 从后往前取\n",
    "print(a[::-1])\n",
    "#[7, 6, 5, 4, 3, 2, 1]"
   ]
  },
  {
   "cell_type": "code",
   "execution_count": 122,
   "id": "90f9b3cf",
   "metadata": {},
   "outputs": [
    {
     "name": "stdout",
     "output_type": "stream",
     "text": [
      "[1, 2, 3, 4, 5, 6]\n"
     ]
    }
   ],
   "source": [
    "#:-1 从开始取到倒数第二个数\n",
    "print(a[:-1])\n",
    "#[1, 2, 3, 4, 5, 6]"
   ]
  },
  {
   "cell_type": "markdown",
   "id": "d9e580d3",
   "metadata": {},
   "source": [
    "## 1.3 Constructing a list"
   ]
  },
  {
   "cell_type": "code",
   "execution_count": 123,
   "id": "5d387dc9",
   "metadata": {},
   "outputs": [],
   "source": [
    "#3.1 For Loop"
   ]
  },
  {
   "cell_type": "code",
   "execution_count": 124,
   "id": "587bf44b",
   "metadata": {},
   "outputs": [],
   "source": [
    "#把所有值append到for loop上\n",
    "a = []\n",
    "for i in range(10):\n",
    "    a.append(i)"
   ]
  },
  {
   "cell_type": "code",
   "execution_count": 125,
   "id": "f91b9fef",
   "metadata": {},
   "outputs": [
    {
     "name": "stdout",
     "output_type": "stream",
     "text": [
      "[0, 1, 2, 3, 4, 5, 6, 7, 8, 9]\n"
     ]
    }
   ],
   "source": [
    "print(a)\n",
    "#[0, 1, 2, 3, 4, 5, 6, 7, 8, 9]"
   ]
  },
  {
   "cell_type": "code",
   "execution_count": 126,
   "id": "11c20b96",
   "metadata": {},
   "outputs": [
    {
     "name": "stdout",
     "output_type": "stream",
     "text": [
      "[0, 2, 4, 6, 8, 10, 12, 14, 16, 18]\n"
     ]
    }
   ],
   "source": [
    "#i * 2：把所有值都乘以2\n",
    "a = []\n",
    "for i in range(10):\n",
    "    a.append(i * 2)\n",
    "print(a)\n",
    "#[0, 2, 4, 6, 8, 10, 12, 14, 16, 18]"
   ]
  },
  {
   "cell_type": "code",
   "execution_count": 127,
   "id": "c9daddd3",
   "metadata": {},
   "outputs": [],
   "source": [
    "#练习1：返回一个数列\n",
    "#build a function ListConstr which takes two integers (i and j)as inputs \n",
    "#and returns a list of numbers from i to j\n",
    "\n",
    "def LstConstr(i, j):\n",
    "    a = []\n",
    "    for k in range(i, j+1):\n",
    "        a.append(k)\n",
    "    return a"
   ]
  },
  {
   "cell_type": "code",
   "execution_count": 128,
   "id": "4a7468e2",
   "metadata": {},
   "outputs": [
    {
     "data": {
      "text/plain": [
       "[1, 2, 3, 4, 5]"
      ]
     },
     "execution_count": 128,
     "metadata": {},
     "output_type": "execute_result"
    }
   ],
   "source": [
    "LstConstr(1,5)\n",
    "#[1, 2, 3, 4, 5]"
   ]
  },
  {
   "cell_type": "code",
   "execution_count": 129,
   "id": "367527ae",
   "metadata": {},
   "outputs": [],
   "source": [
    "#练习2：返回奇数\n",
    "#build a function OddNums which takes two integers(i and j) as inputs\n",
    "#and returns a list of ODD numbers between i and j inclusively"
   ]
  },
  {
   "cell_type": "code",
   "execution_count": 130,
   "id": "3e05f786",
   "metadata": {},
   "outputs": [],
   "source": [
    "#def后；for后；if后 都有：\n",
    "def OddNums(i, j):\n",
    "    a = []\n",
    "    for k in range(i, j+1):\n",
    "        if k % 2 != 0:              #k是奇数\n",
    "            a.append(k)\n",
    "    return a\n",
    "\n",
    "#注意：\n",
    "#①：先建立一个空集a，如果是奇数，append到a中，最后return a\n",
    "#②：if k % 2 !=0 后面要加：\n",
    "#③：append的写法：list.append(num)"
   ]
  },
  {
   "cell_type": "code",
   "execution_count": 131,
   "id": "7aac2f54",
   "metadata": {},
   "outputs": [
    {
     "data": {
      "text/plain": [
       "[3, 5]"
      ]
     },
     "execution_count": 131,
     "metadata": {},
     "output_type": "execute_result"
    }
   ],
   "source": [
    "OddNums(2, 6)\n",
    "#[3, 5]"
   ]
  },
  {
   "cell_type": "code",
   "execution_count": 132,
   "id": "d983bd68",
   "metadata": {},
   "outputs": [],
   "source": [
    "#练习3：Fibonacci List：斐波纳契数列：后一个数是前两个数之和\n",
    "#build a function FibLst which takes an integer n as input \n",
    "#and returns an n-element Fibonacci List.\n",
    "#If n is less than 1, returns -1\n",
    "#0, 1, 1, 2, 3, 5, 8, 13, 21, 34\n",
    "\n",
    "# def Fibonacci(0, n+1):\n",
    "#     a = []\n",
    "#     for k in n:\n",
    "#         k = k[n-1] + k[n]\n",
    "#     return k\n",
    "# Fibonacci(5)"
   ]
  },
  {
   "cell_type": "code",
   "execution_count": 133,
   "id": "8311c38d",
   "metadata": {},
   "outputs": [
    {
     "data": {
      "text/plain": [
       "[0, 1, 1, 2]"
      ]
     },
     "execution_count": 133,
     "metadata": {},
     "output_type": "execute_result"
    }
   ],
   "source": [
    "def Fibonacci(n):\n",
    "    if n < 1:\n",
    "        return -1\n",
    "    a = []\n",
    "    for i in range(n):\n",
    "        if i == 0:\n",
    "            a.append(0)\n",
    "        elif i == 1:\n",
    "            a.append(1)\n",
    "        else:\n",
    "            a.append(a[i - 1] + a[i - 2])\n",
    "    return a\n",
    "\n",
    "#①：建立空list a，对于所有range(n)内的值i，如果是0，则赋值0，如果是1，则赋值1，否则赋值前两个数相加，最后return a\n",
    "#②：if n < 1的edge case, 和for loop是对齐的。\n",
    "#③：for loop下的if, elif, else分类讨论，else后不需要再写n>1等解释；elif不能写成if。\n",
    "#④：判断用==，不能写成=\n",
    "#⑤将每个数房间list用list.append()。如果加0/1直接赋值，就在括弧里写0/1。如果加前两数就写a[i-1]+a[i-2]。\n",
    "#⑥return与for loop进行对齐\n",
    "\n",
    "Fibonacci(1) \n",
    "#i in range(1) i = 0      #[0]\n",
    "Fibonacci(2) \n",
    "#i in range(2) i = 0,1    #[0, 1]\n",
    "Fibonacci(3) \n",
    "#i in range(3) i = 0,1,2  a[1]+a[0]=1 #[0, 1, 1]\n",
    "Fibonacci(4)\n",
    "#i in range(4) i = 0,1,2,3 a[1]+a[0]=1 a[2]+a[1]=2 #[0, 1, 1, 2]"
   ]
  },
  {
   "cell_type": "code",
   "execution_count": 134,
   "id": "96d2fb3d",
   "metadata": {},
   "outputs": [],
   "source": [
    "#3.2 List Comprehension"
   ]
  },
  {
   "cell_type": "code",
   "execution_count": 135,
   "id": "61a8b3b5",
   "metadata": {},
   "outputs": [
    {
     "name": "stdout",
     "output_type": "stream",
     "text": [
      "[0, 2, 4, 6, 8, 10, 12, 14, 16, 18]\n"
     ]
    }
   ],
   "source": [
    "a = []\n",
    "for i in range(10):\n",
    "    a.append(i*2)\n",
    "print(a)\n",
    "#i: [0, 1, 2, 3, 4, 5, 6, 7, 8, 9]\n",
    "#i*2: [0, 2, 4, 6, 8, 10, 12, 14, 16, 18]"
   ]
  },
  {
   "cell_type": "code",
   "execution_count": 136,
   "id": "1bde4721",
   "metadata": {},
   "outputs": [],
   "source": [
    "a = [i for i in range(10)]"
   ]
  },
  {
   "cell_type": "code",
   "execution_count": 137,
   "id": "0e850e8a",
   "metadata": {},
   "outputs": [
    {
     "name": "stdout",
     "output_type": "stream",
     "text": [
      "[0, 1, 2, 3, 4, 5, 6, 7, 8, 9]\n"
     ]
    }
   ],
   "source": [
    "print(a)\n",
    "#[0, 1, 2, 3, 4, 5, 6, 7, 8, 9]"
   ]
  },
  {
   "cell_type": "code",
   "execution_count": 138,
   "id": "a327a259",
   "metadata": {},
   "outputs": [],
   "source": [
    "a = [i * 2 for i in range(10)]"
   ]
  },
  {
   "cell_type": "code",
   "execution_count": 139,
   "id": "abfe2ec7",
   "metadata": {},
   "outputs": [
    {
     "name": "stdout",
     "output_type": "stream",
     "text": [
      "[0, 2, 4, 6, 8, 10, 12, 14, 16, 18]\n"
     ]
    }
   ],
   "source": [
    "print(a)\n",
    "#[0, 2, 4, 6, 8, 10, 12, 14, 16, 18]"
   ]
  },
  {
   "cell_type": "code",
   "execution_count": 140,
   "id": "8d64f65a",
   "metadata": {},
   "outputs": [],
   "source": [
    "#练习4：i j之间数值\n",
    "#build a function LstConstr which takes two integers(i and j) as inputs\n",
    "#and returns a list of numbers from i to j."
   ]
  },
  {
   "cell_type": "code",
   "execution_count": 141,
   "id": "bb5c1d61",
   "metadata": {},
   "outputs": [],
   "source": [
    "def LstConstr2(i, j):\n",
    "    return [k for k in range(i, j+1)]\n",
    "\n",
    "#①注意要有k作为中间变量\n",
    "#要有中括弧囊括return内容"
   ]
  },
  {
   "cell_type": "code",
   "execution_count": 142,
   "id": "77852b0e",
   "metadata": {},
   "outputs": [
    {
     "data": {
      "text/plain": [
       "[1, 2, 3]"
      ]
     },
     "execution_count": 142,
     "metadata": {},
     "output_type": "execute_result"
    }
   ],
   "source": [
    "LstConstr2(1,3)\n",
    "#[1, 2, 3]"
   ]
  },
  {
   "cell_type": "code",
   "execution_count": 143,
   "id": "5e03192b",
   "metadata": {},
   "outputs": [],
   "source": [
    "def LstConstr3(i, j):\n",
    "    return list(range(i, j + 1))"
   ]
  },
  {
   "cell_type": "code",
   "execution_count": 144,
   "id": "7561e01b",
   "metadata": {},
   "outputs": [
    {
     "data": {
      "text/plain": [
       "[1, 2, 3]"
      ]
     },
     "execution_count": 144,
     "metadata": {},
     "output_type": "execute_result"
    }
   ],
   "source": [
    "LstConstr3(1,3)\n",
    "#[1, 2, 3]"
   ]
  },
  {
   "cell_type": "code",
   "execution_count": 145,
   "id": "4adf7e4e",
   "metadata": {},
   "outputs": [],
   "source": [
    "#只返奇数\n",
    "def LstConstr4(i, j):\n",
    "    return [k for k in range(i, j + 1) if k % 2 != 0]"
   ]
  },
  {
   "cell_type": "code",
   "execution_count": 146,
   "id": "9364c382",
   "metadata": {},
   "outputs": [
    {
     "data": {
      "text/plain": [
       "[1, 3]"
      ]
     },
     "execution_count": 146,
     "metadata": {},
     "output_type": "execute_result"
    }
   ],
   "source": [
    "LstConstr4(1,3)\n",
    "#[1, 3]"
   ]
  },
  {
   "cell_type": "code",
   "execution_count": 147,
   "id": "abb8ee58",
   "metadata": {},
   "outputs": [],
   "source": [
    "#练习5：C2F:\n",
    "#build a function C2F which converts a lit of temeratures \n",
    "#in degreees from Celsius to Fahrenheit"
   ]
  },
  {
   "cell_type": "code",
   "execution_count": 148,
   "id": "dfed56cf",
   "metadata": {},
   "outputs": [],
   "source": [
    "#①ax + b for C in Cs写法：\n",
    "def C2F(Cs):\n",
    "    return [C * 1.8 + 32 for C in Cs]\n",
    "\n",
    "#为什么必须加[]：\n",
    "#在给定的代码中，方括号[]用于创建列表推导式（list comprehension）。\n",
    "#列表推导式是一种简洁的方式，通过迭代现有可迭代对象（在这种情况下是列表Cs）并对每个元素应用表达式，来创建一个新的列表。\n",
    "#[]是一个列表推导式，它通过迭代输入列表Cs中的每个元素C*1.8+32，并将结果添加到新列表中。方括号将列表推导式括起来，并指示结果应该是一个列表。"
   ]
  },
  {
   "cell_type": "code",
   "execution_count": 149,
   "id": "f8d0483a",
   "metadata": {},
   "outputs": [],
   "source": [
    "#②用for loop写法：\n",
    "def C2F(Cs):\n",
    "    a = []\n",
    "    for C in Cs:\n",
    "        F = C * 1.8 + 32\n",
    "        a.append(F)\n",
    "    return a"
   ]
  },
  {
   "cell_type": "code",
   "execution_count": 150,
   "id": "69292e53",
   "metadata": {},
   "outputs": [],
   "source": [
    "def C2F(Cs):\n",
    "    result = []\n",
    "    for C in Cs:\n",
    "        Fahrenheit = C * 1.8 + 32\n",
    "        result.append(Fahrenheit)\n",
    "    return result"
   ]
  },
  {
   "cell_type": "code",
   "execution_count": 151,
   "id": "94395959",
   "metadata": {},
   "outputs": [
    {
     "data": {
      "text/plain": [
       "[32.0, 100.4]"
      ]
     },
     "execution_count": 151,
     "metadata": {},
     "output_type": "execute_result"
    }
   ],
   "source": [
    "C2F([0, 38])\n",
    "#[32.0, 100.4]"
   ]
  },
  {
   "cell_type": "code",
   "execution_count": 152,
   "id": "853c5b52",
   "metadata": {},
   "outputs": [],
   "source": [
    "#3.3 Concatenate 不同lists"
   ]
  },
  {
   "cell_type": "code",
   "execution_count": 153,
   "id": "ae40d28b",
   "metadata": {},
   "outputs": [
    {
     "name": "stdout",
     "output_type": "stream",
     "text": [
      "[0, 1, 2, 3, 4, 5, 6, 7, 8, 9]\n"
     ]
    }
   ],
   "source": [
    "a = [i for i in range(10)]\n",
    "print(a)\n",
    "#[0, 1, 2, 3, 4, 5, 6, 7, 8, 9]"
   ]
  },
  {
   "cell_type": "code",
   "execution_count": 154,
   "id": "937d0ecc",
   "metadata": {},
   "outputs": [
    {
     "name": "stdout",
     "output_type": "stream",
     "text": [
      "[0, 2, 4, 6, 8, 10, 12, 14, 16, 18]\n"
     ]
    }
   ],
   "source": [
    "b = [i * 2 for i in range(10)]\n",
    "print(b)\n",
    "#[0, 2, 4, 6, 8, 10, 12, 14, 16, 18]"
   ]
  },
  {
   "cell_type": "code",
   "execution_count": 155,
   "id": "116d62ff",
   "metadata": {},
   "outputs": [
    {
     "name": "stdout",
     "output_type": "stream",
     "text": [
      "[0, 1, 2, 3, 4, 5, 6, 7, 8, 9, 0, 2, 4, 6, 8, 10, 12, 14, 16, 18]\n"
     ]
    }
   ],
   "source": [
    "c = a + b\n",
    "print(c)\n",
    "#[0, 2, 4, 6, 8, 10, 12, 14, 16, 18, 0, 1, 2, 3, 4, 5, 6, 7, 8, 9]"
   ]
  },
  {
   "cell_type": "code",
   "execution_count": 156,
   "id": "99860767",
   "metadata": {},
   "outputs": [
    {
     "data": {
      "text/plain": [
       "[0, 3, 6, 9, 12, 15, 18, 21, 24, 27]"
      ]
     },
     "execution_count": 156,
     "metadata": {},
     "output_type": "execute_result"
    }
   ],
   "source": [
    "[x + y for x, y in zip(a, b)]\n",
    "#[0, 3, 6, 9, 12, 15, 18, 21, 24, 27]"
   ]
  },
  {
   "cell_type": "code",
   "execution_count": 157,
   "id": "766e9aaf",
   "metadata": {},
   "outputs": [],
   "source": [
    "#练习6：sperate numbers：分开奇偶数\n",
    "#build a function SepNum which extracts the odd numbers from a given list\n",
    "#and append the odd numbers at the end of the list\n"
   ]
  },
  {
   "cell_type": "code",
   "execution_count": 158,
   "id": "d679dde6",
   "metadata": {},
   "outputs": [],
   "source": [
    "def SepNum(nums):\n",
    "    odds = []\n",
    "    evens = []\n",
    "    for num in nums:\n",
    "        if num % 2 == 0:          #放偶数\n",
    "            evens.append(num)\n",
    "        else:                     #放奇数\n",
    "            odds.append(num)\n",
    "    return evens + odds\n",
    "\n",
    "#①：分别建立偶数空集和奇数空集，对于在nums中的num，如果除以2余数为0，append到偶数集，否则奇数集。\n",
    "#②：for数字在列表中，可以写for num in nums。\n",
    "#③：两个list相连直接相加即可\n",
    "#④：在if 和else后分别进行append操作，return两个list相连与 for loop对齐。"
   ]
  },
  {
   "cell_type": "code",
   "execution_count": 159,
   "id": "9c38f14f",
   "metadata": {},
   "outputs": [
    {
     "data": {
      "text/plain": [
       "[2, 4, 6, 1, 3, 5]"
      ]
     },
     "execution_count": 159,
     "metadata": {},
     "output_type": "execute_result"
    }
   ],
   "source": [
    "SepNum([1, 2, 3, 4, 5, 6])\n",
    "#[2, 4, 6, 1, 3, 5]"
   ]
  },
  {
   "cell_type": "markdown",
   "id": "19a2c4cb",
   "metadata": {},
   "source": [
    "## 1.4 Sorting a list"
   ]
  },
  {
   "cell_type": "code",
   "execution_count": 160,
   "id": "d4f0c150",
   "metadata": {},
   "outputs": [],
   "source": [
    "#4.1 \n",
    "#.sort：正向从小到大\n",
    "#.sort(reverse = True)：反向从大到小"
   ]
  },
  {
   "cell_type": "code",
   "execution_count": 161,
   "id": "e3419744",
   "metadata": {},
   "outputs": [],
   "source": [
    "a = [1, 3, 2, 7, 5]"
   ]
  },
  {
   "cell_type": "code",
   "execution_count": 162,
   "id": "ab6b56e4",
   "metadata": {},
   "outputs": [],
   "source": [
    "a.sort()"
   ]
  },
  {
   "cell_type": "code",
   "execution_count": 163,
   "id": "5ef2460c",
   "metadata": {},
   "outputs": [
    {
     "name": "stdout",
     "output_type": "stream",
     "text": [
      "[1, 2, 3, 5, 7]\n"
     ]
    }
   ],
   "source": [
    "print(a)\n",
    "#[1, 2, 3, 5, 7]"
   ]
  },
  {
   "cell_type": "code",
   "execution_count": 164,
   "id": "6dda8b21",
   "metadata": {},
   "outputs": [],
   "source": [
    "a.sort(reverse = True)"
   ]
  },
  {
   "cell_type": "code",
   "execution_count": 165,
   "id": "5913c10e",
   "metadata": {},
   "outputs": [
    {
     "name": "stdout",
     "output_type": "stream",
     "text": [
      "[7, 5, 3, 2, 1]\n"
     ]
    }
   ],
   "source": [
    "print(a)\n",
    "#[7, 5, 3, 2, 1]"
   ]
  },
  {
   "cell_type": "code",
   "execution_count": 166,
   "id": "04920487",
   "metadata": {},
   "outputs": [],
   "source": [
    "#4.2 \n",
    "# sorted(list)效果等同于list.sort，区别在于list.sort后sort改变，而sorted(list)后sort没有改变\n",
    "# b = sorted(a)，b改变，a没有改变"
   ]
  },
  {
   "cell_type": "code",
   "execution_count": 167,
   "id": "b6fae910",
   "metadata": {},
   "outputs": [],
   "source": [
    "a = [1, 3, 2, 7, 5]"
   ]
  },
  {
   "cell_type": "code",
   "execution_count": 168,
   "id": "9b15e956",
   "metadata": {},
   "outputs": [
    {
     "data": {
      "text/plain": [
       "[1, 2, 3, 5, 7]"
      ]
     },
     "execution_count": 168,
     "metadata": {},
     "output_type": "execute_result"
    }
   ],
   "source": [
    "sorted(a)\n",
    "#[1, 2, 3, 5, 7]"
   ]
  },
  {
   "cell_type": "code",
   "execution_count": 169,
   "id": "a5f81422",
   "metadata": {},
   "outputs": [
    {
     "name": "stdout",
     "output_type": "stream",
     "text": [
      "[1, 3, 2, 7, 5]\n"
     ]
    }
   ],
   "source": [
    "print(a)\n",
    "#[7, 5, 3, 2, 1]"
   ]
  },
  {
   "cell_type": "code",
   "execution_count": 170,
   "id": "06967c8f",
   "metadata": {},
   "outputs": [],
   "source": [
    "b = sorted(a)"
   ]
  },
  {
   "cell_type": "code",
   "execution_count": 171,
   "id": "8745d819",
   "metadata": {
    "scrolled": true
   },
   "outputs": [
    {
     "name": "stdout",
     "output_type": "stream",
     "text": [
      "[1, 2, 3, 5, 7]\n"
     ]
    }
   ],
   "source": [
    "print(b)\n",
    "#[1, 2, 3, 5, 7]"
   ]
  },
  {
   "cell_type": "code",
   "execution_count": 172,
   "id": "c7422bc1",
   "metadata": {},
   "outputs": [
    {
     "data": {
      "text/plain": [
       "[1, 2, 3, 4, 4, 5]"
      ]
     },
     "execution_count": 172,
     "metadata": {},
     "output_type": "execute_result"
    }
   ],
   "source": [
    "#练习7：\n",
    "#build a function SortLst which sorts a list. use built-in function\n",
    "def SortLst(nums):\n",
    "    return sorted(nums)\n",
    "SortLst([4, 2, 1, 3, 4, 5])\n",
    "#[1, 2, 3, 4, 4, 5]"
   ]
  },
  {
   "cell_type": "code",
   "execution_count": 173,
   "id": "7f85ff81",
   "metadata": {},
   "outputs": [
    {
     "data": {
      "text/plain": [
       "[1, 3, 7]"
      ]
     },
     "execution_count": 173,
     "metadata": {},
     "output_type": "execute_result"
    }
   ],
   "source": [
    "#practice：\n",
    "def SortLst(a):\n",
    "    a = sorted(a)  #为什么写a = a.sort()就不可以？\n",
    "    return a\n",
    "SortLst([1, 7, 3])\n",
    "#[1, 3, 7]"
   ]
  },
  {
   "cell_type": "code",
   "execution_count": 174,
   "id": "aa4de014",
   "metadata": {},
   "outputs": [],
   "source": [
    "#练习8：在sorted list加入一个值：append值后sorted(list)\n",
    "def NumInsert(nums, target):\n",
    "    nums.append(target)\n",
    "    return sorted(nums)"
   ]
  },
  {
   "cell_type": "code",
   "execution_count": 175,
   "id": "bbd0a310",
   "metadata": {},
   "outputs": [
    {
     "data": {
      "text/plain": [
       "[1, 2, 3, 3, 4, 5, 6]"
      ]
     },
     "execution_count": 175,
     "metadata": {},
     "output_type": "execute_result"
    }
   ],
   "source": [
    "NumInsert([1, 2, 3, 4, 5, 6], 3)\n",
    "#[1, 2, 3, 3, 4, 5, 6]"
   ]
  },
  {
   "cell_type": "code",
   "execution_count": 176,
   "id": "d821b128",
   "metadata": {},
   "outputs": [],
   "source": [
    "#练习8：merge two sorted lists\n",
    "#build a function mergesorted which merges two sorted lists as one sorted list\n",
    "def MergeSorted(Lst1, Lst2):\n",
    "    return sorted(Lst1 + Lst2)"
   ]
  },
  {
   "cell_type": "code",
   "execution_count": 177,
   "id": "69d6d1fa",
   "metadata": {},
   "outputs": [
    {
     "data": {
      "text/plain": [
       "[1, 2, 3, 4, 5, 6]"
      ]
     },
     "execution_count": 177,
     "metadata": {},
     "output_type": "execute_result"
    }
   ],
   "source": [
    "MergeSorted([1, 3, 5], [2, 4, 6])\n",
    "#[1, 2, 3, 4, 5, 6]"
   ]
  },
  {
   "cell_type": "code",
   "execution_count": 178,
   "id": "c067b73e",
   "metadata": {},
   "outputs": [],
   "source": [
    "#4.3 sort a list of lists"
   ]
  },
  {
   "cell_type": "code",
   "execution_count": 179,
   "id": "e1107e98",
   "metadata": {},
   "outputs": [],
   "source": [
    "a = [[4,2], [5,1], [2,4], [3,0]]"
   ]
  },
  {
   "cell_type": "code",
   "execution_count": 180,
   "id": "ece64689",
   "metadata": {},
   "outputs": [
    {
     "data": {
      "text/plain": [
       "[[2, 4], [3, 0], [4, 2], [5, 1]]"
      ]
     },
     "execution_count": 180,
     "metadata": {},
     "output_type": "execute_result"
    }
   ],
   "source": [
    "#sorted(list) 按照第一个值sort 从小到大\n",
    "sorted(a)\n",
    "#[[2, 4], [3, 0], [4, 2], [5, 1]]"
   ]
  },
  {
   "cell_type": "code",
   "execution_count": 181,
   "id": "21779735",
   "metadata": {},
   "outputs": [
    {
     "data": {
      "text/plain": [
       "[[5, 1], [4, 2], [3, 0], [2, 4]]"
      ]
     },
     "execution_count": 181,
     "metadata": {},
     "output_type": "execute_result"
    }
   ],
   "source": [
    "#从大到小\n",
    "sorted(a, reverse = True)\n",
    "#[[5, 1], [4, 2], [3, 0], [2, 4]]"
   ]
  },
  {
   "cell_type": "code",
   "execution_count": 182,
   "id": "8b7f52c7",
   "metadata": {},
   "outputs": [
    {
     "data": {
      "text/plain": [
       "[[2, 4], [3, 0], [4, 2], [5, 1]]"
      ]
     },
     "execution_count": 182,
     "metadata": {},
     "output_type": "execute_result"
    }
   ],
   "source": [
    "#lambda define function\n",
    "#在a里面按照index = 0的元素，sort的是这个list中的第一个元素\n",
    "sorted(a, key = lambda x:x[0])\n",
    "#[[2, 4], [3, 0], [4, 2], [5, 1]]"
   ]
  },
  {
   "cell_type": "code",
   "execution_count": 183,
   "id": "db7f7b75",
   "metadata": {},
   "outputs": [
    {
     "data": {
      "text/plain": [
       "[[3, 0], [5, 1], [4, 2], [2, 4]]"
      ]
     },
     "execution_count": 183,
     "metadata": {},
     "output_type": "execute_result"
    }
   ],
   "source": [
    "#按第二位元素，从小到大sort\n",
    "sorted(a, key = lambda x:x[1])\n",
    "#[[3, 0], [5, 1], [4, 2], [2, 4]]"
   ]
  },
  {
   "cell_type": "code",
   "execution_count": 184,
   "id": "c75916e6",
   "metadata": {},
   "outputs": [
    {
     "data": {
      "text/plain": [
       "[[5, 1], [4, 2], [3, 0], [2, 4]]"
      ]
     },
     "execution_count": 184,
     "metadata": {},
     "output_type": "execute_result"
    }
   ],
   "source": [
    "#按第二位元素，从大到小sort\n",
    "sorted(a, key = lambda x:x[0], reverse = True)\n",
    "#[[5, 1], [4, 2], [3, 0], [2, 4]]"
   ]
  },
  {
   "cell_type": "code",
   "execution_count": 185,
   "id": "b366756d",
   "metadata": {},
   "outputs": [],
   "source": [
    "#练习9：sort list of lists 将一个包含list的list排序\n",
    "#build a function SortLL which sorts a list of lists by their last elements"
   ]
  },
  {
   "cell_type": "code",
   "execution_count": 186,
   "id": "f148446c",
   "metadata": {},
   "outputs": [],
   "source": [
    "def SortLL(Lsts):\n",
    "    return sorted(Lsts, key = lambda x:x[-1])"
   ]
  },
  {
   "cell_type": "code",
   "execution_count": 187,
   "id": "9b8534d5",
   "metadata": {},
   "outputs": [
    {
     "data": {
      "text/plain": [
       "[[3], [2, 4], [1, 3, 5], [9, 7]]"
      ]
     },
     "execution_count": 187,
     "metadata": {},
     "output_type": "execute_result"
    }
   ],
   "source": [
    "SortLL([[1, 3, 5], [2, 4], [9, 7], [3]])\n",
    "#[[3], [2, 4], [1, 3, 5], [9, 7]]\n",
    "#按最后一个元素，3,4,5,7的顺序从小到大排序"
   ]
  },
  {
   "cell_type": "markdown",
   "id": "3e163f13",
   "metadata": {},
   "source": [
    "## 1.5 Reversing a list"
   ]
  },
  {
   "cell_type": "code",
   "execution_count": 188,
   "id": "5e0c857e",
   "metadata": {},
   "outputs": [],
   "source": [
    "#完成reverse：\n",
    "#①list.reverse()\n",
    "#②list[::-1]"
   ]
  },
  {
   "cell_type": "code",
   "execution_count": 189,
   "id": "6fac9393",
   "metadata": {},
   "outputs": [],
   "source": [
    "a = [1, 3, 2, 7, 5]"
   ]
  },
  {
   "cell_type": "code",
   "execution_count": 190,
   "id": "a775f4fc",
   "metadata": {},
   "outputs": [],
   "source": [
    "a.reverse()"
   ]
  },
  {
   "cell_type": "code",
   "execution_count": 191,
   "id": "cc94a769",
   "metadata": {},
   "outputs": [
    {
     "name": "stdout",
     "output_type": "stream",
     "text": [
      "[5, 7, 2, 3, 1]\n"
     ]
    }
   ],
   "source": [
    "print(a)\n",
    "#[5, 7, 2, 3, 1]"
   ]
  },
  {
   "cell_type": "code",
   "execution_count": 192,
   "id": "8b351180",
   "metadata": {},
   "outputs": [],
   "source": [
    "a = a[::-1]"
   ]
  },
  {
   "cell_type": "code",
   "execution_count": 193,
   "id": "817d8d79",
   "metadata": {},
   "outputs": [
    {
     "name": "stdout",
     "output_type": "stream",
     "text": [
      "[1, 3, 2, 7, 5]\n"
     ]
    }
   ],
   "source": [
    "print(a)\n",
    "#[5, 7, 2, 3, 1]"
   ]
  },
  {
   "cell_type": "code",
   "execution_count": 194,
   "id": "5a4f9acb",
   "metadata": {},
   "outputs": [],
   "source": [
    "#练习10：反转list\n",
    "#build a function RevLst which reverse a list"
   ]
  },
  {
   "cell_type": "code",
   "execution_count": 195,
   "id": "6adb0b5f",
   "metadata": {},
   "outputs": [],
   "source": [
    "#方法1：list.reverse()\n",
    "def RevLst(nums):\n",
    "    nums.reverse()\n",
    "    return nums\n",
    "\n",
    "#注意：先写一行list.reverse()，再写return list，两者对齐\n",
    "#为什么要写两行？"
   ]
  },
  {
   "cell_type": "code",
   "execution_count": 196,
   "id": "3b29e03f",
   "metadata": {},
   "outputs": [
    {
     "data": {
      "text/plain": [
       "[4, 8, 9, 1, 3]"
      ]
     },
     "execution_count": 196,
     "metadata": {},
     "output_type": "execute_result"
    }
   ],
   "source": [
    "RevLst([3, 1, 9, 8, 4])\n",
    "#[4, 8, 9, 1, 3]"
   ]
  },
  {
   "cell_type": "code",
   "execution_count": 197,
   "id": "fd61afb0",
   "metadata": {},
   "outputs": [],
   "source": [
    "#法2：list[::-1]\n",
    "def RevLst(nums):\n",
    "    return nums[::-1]\n",
    "\n",
    "#注意：只用写一行return list[::-1]"
   ]
  },
  {
   "cell_type": "code",
   "execution_count": 198,
   "id": "ac0fabd4",
   "metadata": {},
   "outputs": [
    {
     "data": {
      "text/plain": [
       "[4, 8, 9, 1, 3]"
      ]
     },
     "execution_count": 198,
     "metadata": {},
     "output_type": "execute_result"
    }
   ],
   "source": [
    "RevLst([3, 1, 9, 8, 4])\n",
    "#[4, 8, 9, 1, 3]"
   ]
  },
  {
   "cell_type": "code",
   "execution_count": 199,
   "id": "6c151645",
   "metadata": {},
   "outputs": [],
   "source": [
    "#练习11：移除目标元素并返回更新后的列表。\n",
    "\n",
    "# Remove an Element\n",
    "# Description\n",
    "# Build a function RmEl to remove a target element from a list. If the target element appears in the list for multiple times, only remove the first one.\n",
    "\n",
    "# Examples\n",
    "# RmEl([1, 2, 3, 4, 5], 2) returns [1, 3, 4, 5]\n",
    "# RmEl([1, 2, 3, 4, 5], 6) returns [1, 2, 3, 4, 5]\n",
    "# RmEl([1, 2, 3, 3, 4, 5], 3) returns [1, 2, 3, 4, 5]"
   ]
  },
  {
   "cell_type": "code",
   "execution_count": 200,
   "id": "07cfe159",
   "metadata": {},
   "outputs": [],
   "source": [
    "def RmEl(nums, target):\n",
    "    if target in nums:   \n",
    "        nums.remove(target)\n",
    "    return nums\n",
    "\n",
    "#①：要检查target在nums中才可以进行remove操作\n",
    "#②：if k in a: 直接操作a.remove(k)，再return a。不用写nums = XXX。\n",
    "#③：return 应与if对齐"
   ]
  },
  {
   "cell_type": "code",
   "execution_count": 201,
   "id": "aae2b625",
   "metadata": {},
   "outputs": [],
   "source": [
    "#练习12：移除重复元素并返回更新后列表。\n",
    "\n",
    "# Remove Duplicates from a List\n",
    "# Description\n",
    "# Build a function RmDuplicate which remove all the duplicates from a list.\n",
    "\n",
    "# Examples\n",
    "# RmDuplicate([3, 1, 2, 3, 4, 5, 6]) returns [1, 2, 3, 4, 5, 6]\n",
    "# RmDuplicate([1, 3, 5]) returns [1, 3, 5]"
   ]
  },
  {
   "cell_type": "code",
   "execution_count": 202,
   "id": "2717a65f",
   "metadata": {},
   "outputs": [],
   "source": [
    "#法1：如果num没在a空集中，就把num append进a中，并进行sort\n",
    "def RmDuplicate(nums):\n",
    "    a = []\n",
    "    for num in nums:\n",
    "        if num not in a:\n",
    "            a.append(num)\n",
    "            a.sort()\n",
    "    return a  \n",
    "\n",
    "#①：只需要建立一个最后需要return的a集，\n",
    "#②：for num in nums, if num not in a, a.append(num) 可以写成步步缩进格式:\n",
    "#即在num在nums中的时候，如果num没在a里，就把其放进去。\n",
    "#③：在append后，要进行sort。\n",
    "#④：return 和 for进行对齐。"
   ]
  },
  {
   "cell_type": "markdown",
   "id": "1b8c5525",
   "metadata": {},
   "source": [
    "# Unit 2"
   ]
  },
  {
   "cell_type": "markdown",
   "id": "3398aae0",
   "metadata": {},
   "source": [
    "## 2.1 Lambda "
   ]
  },
  {
   "cell_type": "markdown",
   "id": "15c942e5",
   "metadata": {},
   "source": [
    "### 2.1.1 Review"
   ]
  },
  {
   "cell_type": "code",
   "execution_count": 203,
   "id": "a78ccf54",
   "metadata": {},
   "outputs": [],
   "source": [
    "a = [[4, 3, 2], [5, 2, 1], [2, 5, 4], [3, 1, 0]]"
   ]
  },
  {
   "cell_type": "code",
   "execution_count": 204,
   "id": "1ddc8ffe",
   "metadata": {},
   "outputs": [
    {
     "data": {
      "text/plain": [
       "[[2, 5, 4], [3, 1, 0], [4, 3, 2], [5, 2, 1]]"
      ]
     },
     "execution_count": 204,
     "metadata": {},
     "output_type": "execute_result"
    }
   ],
   "source": [
    "#按照每个小list的第一个元素，从小到大排序\n",
    "sorted(a)\n",
    "#[[2, 5, 4], [3, 1, 0], [4, 3, 2], [5, 2, 1]]"
   ]
  },
  {
   "cell_type": "code",
   "execution_count": 205,
   "id": "a55f1233",
   "metadata": {},
   "outputs": [
    {
     "data": {
      "text/plain": [
       "[[3, 1, 0], [5, 2, 1], [4, 3, 2], [2, 5, 4]]"
      ]
     },
     "execution_count": 205,
     "metadata": {},
     "output_type": "execute_result"
    }
   ],
   "source": [
    "#按照每个小list的最后一个元素，从小到大排序\n",
    "sorted(a, key = lambda x:x[-1])\n",
    "#[[3, 1, 0], [5, 2, 1], [4, 3, 2], [2, 5, 4]]\n",
    "\n",
    "#key是根据什么来排序，默认是按照第一个元素\n",
    "#x:x[-1]表示根据最后一个元素\n",
    "#lambda是定义匿名函数的方式，和def用法相同，写法更简洁\n",
    "#函数 = lambda 变量: 方程"
   ]
  },
  {
   "cell_type": "markdown",
   "id": "f6e46b37",
   "metadata": {},
   "source": [
    "### 2.1.2 Intro to Lambda"
   ]
  },
  {
   "cell_type": "markdown",
   "id": "9b21da45",
   "metadata": {},
   "source": [
    "#### 2.1.2.1 Build a function"
   ]
  },
  {
   "cell_type": "code",
   "execution_count": 206,
   "id": "7c3a8ff1",
   "metadata": {},
   "outputs": [],
   "source": [
    "def Square(num):\n",
    "    return num * num"
   ]
  },
  {
   "cell_type": "code",
   "execution_count": 207,
   "id": "552d2871",
   "metadata": {},
   "outputs": [
    {
     "data": {
      "text/plain": [
       "4"
      ]
     },
     "execution_count": 207,
     "metadata": {},
     "output_type": "execute_result"
    }
   ],
   "source": [
    "Square(2)\n",
    "#4"
   ]
  },
  {
   "cell_type": "code",
   "execution_count": 208,
   "id": "24e3e863",
   "metadata": {},
   "outputs": [
    {
     "data": {
      "text/plain": [
       "9"
      ]
     },
     "execution_count": 208,
     "metadata": {},
     "output_type": "execute_result"
    }
   ],
   "source": [
    "Square(3)\n",
    "#9"
   ]
  },
  {
   "cell_type": "markdown",
   "id": "e2cfd878",
   "metadata": {},
   "source": [
    "#### 2.1.2.2  Built a function with lambda "
   ]
  },
  {
   "cell_type": "code",
   "execution_count": 209,
   "id": "5f4fd46d",
   "metadata": {},
   "outputs": [],
   "source": [
    "new_square = lambda num: num * num"
   ]
  },
  {
   "cell_type": "code",
   "execution_count": 210,
   "id": "d31517d3",
   "metadata": {},
   "outputs": [
    {
     "data": {
      "text/plain": [
       "4"
      ]
     },
     "execution_count": 210,
     "metadata": {},
     "output_type": "execute_result"
    }
   ],
   "source": [
    "new_square(2)\n",
    "#4"
   ]
  },
  {
   "cell_type": "markdown",
   "id": "c8a71369",
   "metadata": {},
   "source": [
    "### 2.1.3 Replace lambda with traditional function building "
   ]
  },
  {
   "cell_type": "markdown",
   "id": "e519d96b",
   "metadata": {},
   "source": [
    "#### 2.1.3.1  How does lambda work in sorted"
   ]
  },
  {
   "cell_type": "code",
   "execution_count": 211,
   "id": "ab75069c",
   "metadata": {},
   "outputs": [],
   "source": [
    "a = [[4, 3, 2], [5, 2, 1], [2, 5, 4], [3, 1, 0]]"
   ]
  },
  {
   "cell_type": "code",
   "execution_count": 212,
   "id": "228d254f",
   "metadata": {},
   "outputs": [
    {
     "data": {
      "text/plain": [
       "[[3, 1, 0], [5, 2, 1], [4, 3, 2], [2, 5, 4]]"
      ]
     },
     "execution_count": 212,
     "metadata": {},
     "output_type": "execute_result"
    }
   ],
   "source": [
    "#按照每个list最后一个元素排列\n",
    "sorted(a, key = lambda x:x[-1])\n",
    "#[[3, 1, 0], [5, 2, 1], [4, 3, 2], [2, 5, 4]]\n",
    "\n",
    "#lambda定义一个函数，输入x是小list，返回小list的最后一个值"
   ]
  },
  {
   "cell_type": "code",
   "execution_count": 213,
   "id": "5423d0a3",
   "metadata": {},
   "outputs": [],
   "source": [
    "#取list中最后一个元素\n",
    "fun = lambda x: x[-1]"
   ]
  },
  {
   "cell_type": "code",
   "execution_count": 214,
   "id": "8c21f78d",
   "metadata": {},
   "outputs": [
    {
     "data": {
      "text/plain": [
       "2"
      ]
     },
     "execution_count": 214,
     "metadata": {},
     "output_type": "execute_result"
    }
   ],
   "source": [
    "fun([4, 3, 2])\n",
    "#2"
   ]
  },
  {
   "cell_type": "markdown",
   "id": "656834bb",
   "metadata": {},
   "source": [
    "#### 2.1.3.2 Replace lambda with a traditional function #不用lambda用def"
   ]
  },
  {
   "cell_type": "code",
   "execution_count": 215,
   "id": "9c85e53f",
   "metadata": {},
   "outputs": [],
   "source": [
    "#①按照每个小list中，最后一个元素，从小到大排序\n",
    "def get_last_element(nums):\n",
    "    return nums[-1]"
   ]
  },
  {
   "cell_type": "code",
   "execution_count": 216,
   "id": "06f56ef1",
   "metadata": {},
   "outputs": [
    {
     "data": {
      "text/plain": [
       "2"
      ]
     },
     "execution_count": 216,
     "metadata": {},
     "output_type": "execute_result"
    }
   ],
   "source": [
    "get_last_element([4,3,2])\n",
    "#2"
   ]
  },
  {
   "cell_type": "code",
   "execution_count": 217,
   "id": "461ee30b",
   "metadata": {},
   "outputs": [
    {
     "data": {
      "text/plain": [
       "'c'"
      ]
     },
     "execution_count": 217,
     "metadata": {},
     "output_type": "execute_result"
    }
   ],
   "source": [
    "get_last_element('abc')\n",
    "#'c'"
   ]
  },
  {
   "cell_type": "code",
   "execution_count": 218,
   "id": "542f9242",
   "metadata": {},
   "outputs": [
    {
     "data": {
      "text/plain": [
       "[[3, 1, 0], [5, 2, 1], [4, 3, 2], [2, 5, 4]]"
      ]
     },
     "execution_count": 218,
     "metadata": {},
     "output_type": "execute_result"
    }
   ],
   "source": [
    "sorted(a, key = get_last_element)\n",
    "#[[3, 1, 0], [5, 2, 1], [4, 3, 2], [2, 5, 4]]\n",
    "\n",
    "#效果等同于sorted(a, key = lambda x:x[-1])"
   ]
  },
  {
   "cell_type": "code",
   "execution_count": 219,
   "id": "30665f25",
   "metadata": {},
   "outputs": [],
   "source": [
    "#②按照每个小list中，第二个元素，从小到大排序\n",
    "def get_second_element(nums):\n",
    "    return nums[1]"
   ]
  },
  {
   "cell_type": "code",
   "execution_count": 220,
   "id": "7df946a2",
   "metadata": {},
   "outputs": [
    {
     "data": {
      "text/plain": [
       "3"
      ]
     },
     "execution_count": 220,
     "metadata": {},
     "output_type": "execute_result"
    }
   ],
   "source": [
    "get_second_element([4,3,2])\n",
    "#3"
   ]
  },
  {
   "cell_type": "code",
   "execution_count": 221,
   "id": "7c822b45",
   "metadata": {},
   "outputs": [
    {
     "data": {
      "text/plain": [
       "[[3, 1, 0], [5, 2, 1], [4, 3, 2], [2, 5, 4]]"
      ]
     },
     "execution_count": 221,
     "metadata": {},
     "output_type": "execute_result"
    }
   ],
   "source": [
    "sorted(a, key = get_second_element)\n",
    "#[[3, 1, 0], [5, 2, 1], [4, 3, 2], [2, 5, 4]]"
   ]
  },
  {
   "cell_type": "code",
   "execution_count": 222,
   "id": "b272f50c",
   "metadata": {},
   "outputs": [],
   "source": [
    "#总结：def 和 lambda替换写法：\n",
    "\n",
    "# ①def：\n",
    "# def function(nums):\n",
    "#     return nums[-1]\n",
    "# sorted(a, key = function)\n",
    "\n",
    "# ②lambda：\n",
    "# sorted(a, key = lambda x:x[-1])"
   ]
  },
  {
   "cell_type": "markdown",
   "id": "7570755f",
   "metadata": {},
   "source": [
    "## 2.2 Append & Insert"
   ]
  },
  {
   "cell_type": "markdown",
   "id": "51b6c306",
   "metadata": {},
   "source": [
    "### 2.2.1 modify a list elementwisely"
   ]
  },
  {
   "cell_type": "code",
   "execution_count": 223,
   "id": "61ded231",
   "metadata": {},
   "outputs": [],
   "source": [
    "a = [1, 2, 3, 4, 5, 7, 6]"
   ]
  },
  {
   "cell_type": "code",
   "execution_count": 224,
   "id": "b8d3e17e",
   "metadata": {},
   "outputs": [
    {
     "name": "stdout",
     "output_type": "stream",
     "text": [
      "[1, 2, 3, 4, 5, 7, 6]\n"
     ]
    }
   ],
   "source": [
    "print(a)\n",
    "#[1, 2, 3, 4, 5, 6, 7]"
   ]
  },
  {
   "cell_type": "markdown",
   "id": "27e92ed3",
   "metadata": {},
   "source": [
    "### 2.2.2 append an element at the end"
   ]
  },
  {
   "cell_type": "code",
   "execution_count": 225,
   "id": "bfa5dc78",
   "metadata": {},
   "outputs": [],
   "source": [
    "#append将元素加在末尾\n",
    "#list.append(num)对list进行操作后，不返回任何东西；就像.sort()不返回任何东西一样"
   ]
  },
  {
   "cell_type": "code",
   "execution_count": 226,
   "id": "4dc4a07c",
   "metadata": {},
   "outputs": [],
   "source": [
    "a.append(\"a\")"
   ]
  },
  {
   "cell_type": "code",
   "execution_count": 227,
   "id": "e144b53e",
   "metadata": {},
   "outputs": [
    {
     "name": "stdout",
     "output_type": "stream",
     "text": [
      "[1, 2, 3, 4, 5, 7, 6, 'a']\n"
     ]
    }
   ],
   "source": [
    "print(a)\n",
    "#[1, 2, 3, 4, 5, 6, 7, 'a']"
   ]
  },
  {
   "cell_type": "code",
   "execution_count": 228,
   "id": "d558d6cb",
   "metadata": {},
   "outputs": [],
   "source": [
    "a.append(\"b\")"
   ]
  },
  {
   "cell_type": "code",
   "execution_count": 229,
   "id": "432add8a",
   "metadata": {},
   "outputs": [
    {
     "name": "stdout",
     "output_type": "stream",
     "text": [
      "[1, 2, 3, 4, 5, 7, 6, 'a', 'b']\n"
     ]
    }
   ],
   "source": [
    "print(a)\n",
    "#[1, 2, 3, 4, 5, 6, 7, 'a', 'b']"
   ]
  },
  {
   "cell_type": "markdown",
   "id": "e92483ed",
   "metadata": {},
   "source": [
    "### 2.2.3 insert an element"
   ]
  },
  {
   "cell_type": "code",
   "execution_count": 230,
   "id": "acafa2bf",
   "metadata": {},
   "outputs": [],
   "source": [
    "#insert在i位置上插入元素k，其余元素顺延；即输入原list该位置元素的前面！\n",
    "#list.insert(k)"
   ]
  },
  {
   "cell_type": "code",
   "execution_count": 231,
   "id": "f1327fc6",
   "metadata": {},
   "outputs": [],
   "source": [
    "a.insert(0, \"c\")"
   ]
  },
  {
   "cell_type": "code",
   "execution_count": 232,
   "id": "213d364d",
   "metadata": {},
   "outputs": [
    {
     "name": "stdout",
     "output_type": "stream",
     "text": [
      "['c', 1, 2, 3, 4, 5, 7, 6, 'a', 'b']\n"
     ]
    }
   ],
   "source": [
    "print(a)\n",
    "#['c', 1, 2, 3, 4, 5, 6, 7, 'a', 'b']"
   ]
  },
  {
   "cell_type": "code",
   "execution_count": 233,
   "id": "7f5217f6",
   "metadata": {},
   "outputs": [],
   "source": [
    "a.insert(0, \"d\")"
   ]
  },
  {
   "cell_type": "code",
   "execution_count": 234,
   "id": "394ab4ba",
   "metadata": {},
   "outputs": [
    {
     "name": "stdout",
     "output_type": "stream",
     "text": [
      "['d', 'c', 1, 2, 3, 4, 5, 7, 6, 'a', 'b']\n"
     ]
    }
   ],
   "source": [
    "print(a)\n",
    "#['d', 'c', 1, 2, 3, 4, 5, 6, 7, 'a', 'b']"
   ]
  },
  {
   "cell_type": "code",
   "execution_count": 235,
   "id": "9c875c29",
   "metadata": {},
   "outputs": [],
   "source": [
    "#在原list元素3的位置，插入e，其余顺延\n",
    "a.insert(3, \"e\")"
   ]
  },
  {
   "cell_type": "code",
   "execution_count": 236,
   "id": "a28104d1",
   "metadata": {},
   "outputs": [
    {
     "name": "stdout",
     "output_type": "stream",
     "text": [
      "['d', 'c', 1, 'e', 2, 3, 4, 5, 7, 6, 'a', 'b']\n"
     ]
    }
   ],
   "source": [
    "print(a)\n",
    "#['d', 'c', 1, 'e', 2, 3, 4, 5, 6, 7, 'a', 'b']"
   ]
  },
  {
   "cell_type": "code",
   "execution_count": 237,
   "id": "899d2845",
   "metadata": {},
   "outputs": [],
   "source": [
    "#在原list最后一个元素的位置上，插入f，其余顺延\n",
    "a.insert(-1, \"f\")"
   ]
  },
  {
   "cell_type": "code",
   "execution_count": 238,
   "id": "2126bcc4",
   "metadata": {},
   "outputs": [
    {
     "name": "stdout",
     "output_type": "stream",
     "text": [
      "['d', 'c', 1, 'e', 2, 3, 4, 5, 7, 6, 'a', 'f', 'b']\n"
     ]
    }
   ],
   "source": [
    "print(a)\n",
    "#['d', 'c', 1, 'e', 2, 3, 4, 5, 6, 7, 'a', 'f', 'b']"
   ]
  },
  {
   "cell_type": "markdown",
   "id": "484fd071",
   "metadata": {},
   "source": [
    "## 2.3 Example using Insert"
   ]
  },
  {
   "cell_type": "code",
   "execution_count": 239,
   "id": "22d69026",
   "metadata": {},
   "outputs": [],
   "source": [
    "# 1、Insert a Number in a Sorted List\n",
    "\n",
    "# Code\n",
    "# Exercise 6.2.1: Insert a Number in a Sorted List\n",
    "# Build a function NumInsert which inserts a number in a sorted list.\n",
    "# Example: NumInsert([1, 2, 3, 4, 5, 6], 3) returns [1, 2, 3, 3, 4, 5, 6]\n",
    "# Example: NumInsert([1, 2, 3, 4, 5, 6], 7) returns [1, 2, 3, 4, 5, 6, 7]\n",
    "# Example: NumInsert([1, 2, 3, 4, 5, 6], -1) returns [-1, 1, 2, 3, 4, 5, 6]"
   ]
  },
  {
   "cell_type": "code",
   "execution_count": 240,
   "id": "a597456b",
   "metadata": {},
   "outputs": [],
   "source": [
    "#法1：append后，sort下"
   ]
  },
  {
   "cell_type": "code",
   "execution_count": 241,
   "id": "cb24532f",
   "metadata": {},
   "outputs": [],
   "source": [
    "#法2：insert\n",
    "#让ind = list长度，从头至尾遍历所有元素，当list中的元素大于插入值时，让ind = i\n",
    "#list.insert(index, target)，让index位置插入target元素\n",
    "\n",
    "#解题思路1：从左到右逐个比较，找到合适位置\n",
    "#步骤：\n",
    "#1.从左到右遍历\n",
    "#2.当元素数值大于或者等于需要插入的数字，将该数字插入到这个元素左边\n",
    "#局限：当元素数值较大，需要花很多时间才能找到位置"
   ]
  },
  {
   "cell_type": "code",
   "execution_count": 242,
   "id": "f312fb26",
   "metadata": {},
   "outputs": [],
   "source": [
    "def NumInsert(nums, target):\n",
    "    ind = len(nums)\n",
    "    for i in range(len(nums)):\n",
    "        if nums[i] >= target:\n",
    "            ind = i\n",
    "            break\n",
    "    nums.insert(ind, target)\n",
    "    return nums"
   ]
  },
  {
   "cell_type": "code",
   "execution_count": 243,
   "id": "69f9a9bd",
   "metadata": {
    "scrolled": false
   },
   "outputs": [
    {
     "data": {
      "text/plain": [
       "[1, 2, 3, 4, 5, 6, 7]"
      ]
     },
     "execution_count": 243,
     "metadata": {},
     "output_type": "execute_result"
    }
   ],
   "source": [
    "NumInsert([1, 2, 3, 4, 5, 6], 3)\n",
    "#[1, 2, 3, 3, 4, 5, 6]\n",
    "NumInsert([1, 2, 3, 4, 5, 6], 7)\n",
    "#[1, 2, 3, 4, 5, 6, 7]"
   ]
  },
  {
   "cell_type": "markdown",
   "id": "fcb3b855",
   "metadata": {},
   "source": [
    "## 2.4 Example using Insert with Binary Search"
   ]
  },
  {
   "cell_type": "code",
   "execution_count": 244,
   "id": "4364a460",
   "metadata": {},
   "outputs": [],
   "source": [
    "#二分法比遍历法快：\n",
    "\n",
    "#解题思路2：二分法\n",
    "\n",
    "#步骤：\n",
    "# 1.设定左右两个指针，分解为L和R\n",
    "# 2.L初始值为0，R初始值为List长度\n",
    "# 3.计算中间指针的值 M = (left + right) / 2\n",
    "#     3.1. 若M指针对应的数，大于需要插入的数，将M设为R\n",
    "#     3.2. 若M指针对应的数，小于需要插入的数，将M设为L\n",
    "# 4.重复步骤3，直到\n",
    "#     4.1M指针对应的值等于需要插入的值\n",
    "#     4.2或者，左右指针相遇\n",
    "# 5.将目标数字插入相应的位置\n",
    "\n",
    "#每次取一半，把另一半扔掉，比从头到尾遍历要快"
   ]
  },
  {
   "cell_type": "code",
   "execution_count": 245,
   "id": "ca302496",
   "metadata": {},
   "outputs": [],
   "source": [
    "def NumInsert(nums, target):\n",
    "    left = 0\n",
    "    right = len(nums)\n",
    "    while right - left > 1:\n",
    "        mid = (left + right) // 2   #整数除法 //：向下取整\n",
    "        if nums[mid] == target:\n",
    "            nums.insert(mid, target)\n",
    "            return nums\n",
    "        elif nums[mid] > target:\n",
    "            right = mid\n",
    "        else:\n",
    "            left = mid\n",
    "    if target > nums[mid]:\n",
    "        nums.insert(right, target)\n",
    "    else:\n",
    "        nums.insert(left, target)\n",
    "    return nums\n",
    "\n",
    "#https://pythontutor.com/render.html#code=def%20NumInsert%28nums,%20target%29%3A%0A%20%20%20%20left%20%3D%200%0A%20%20%20%20right%20%3D%20len%28nums%29%0A%20%20%20%20while%20right%20-%20left%20%3E%201%3A%0A%20%20%20%20%20%20%20%20mid%20%3D%20%28left%20%2B%20right%29%20//%202%0A%20%20%20%20%20%20%20%20if%20nums%5Bmid%5D%20%3D%3D%20target%3A%0A%20%20%20%20%20%20%20%20%20%20%20%20nums.insert%28mid,%20target%29%0A%20%20%20%20%20%20%20%20%20%20%20%20return%20nums%0A%20%20%20%20%20%20%20%20elif%20nums%5Bmid%5D%20%3E%20target%3A%0A%20%20%20%20%20%20%20%20%20%20%20%20right%20%3D%20mid%0A%20%20%20%20%20%20%20%20else%3A%0A%20%20%20%20%20%20%20%20%20%20%20%20left%20%3D%20mid%0A%20%20%20%20if%20target%20%3E%20nums%5Bmid%5D%3A%0A%20%20%20%20%20%20%20%20nums.insert%28right,%20target%29%0A%20%20%20%20else%3A%0A%20%20%20%20%20%20%20%20nums.insert%28left,%20target%29%0A%20%20%20%20return%20nums%0ANumInsert%28%5B1,%202,%203,%204,%205,%206%5D,%203%29&cumulative=false&curInstr=15&heapPrimitives=nevernest&mode=display&origin=opt-frontend.js&py=3&rawInputLstJSON=%5B%5D&textReferences=false"
   ]
  },
  {
   "cell_type": "code",
   "execution_count": 246,
   "id": "b75e413f",
   "metadata": {},
   "outputs": [
    {
     "data": {
      "text/plain": [
       "[1, 2, 3, 3, 4, 5, 6]"
      ]
     },
     "execution_count": 246,
     "metadata": {},
     "output_type": "execute_result"
    }
   ],
   "source": [
    "NumInsert([1, 2, 3, 4, 5, 6], 3)\n",
    "#[1, 2, 3, 3, 4, 5, 6]"
   ]
  },
  {
   "cell_type": "code",
   "execution_count": 247,
   "id": "6de3715b",
   "metadata": {},
   "outputs": [
    {
     "data": {
      "text/plain": [
       "6"
      ]
     },
     "execution_count": 247,
     "metadata": {},
     "output_type": "execute_result"
    }
   ],
   "source": [
    "len([1, 2, 3, 4, 5, 6])\n",
    "#6"
   ]
  },
  {
   "cell_type": "markdown",
   "id": "bb70df62",
   "metadata": {},
   "source": [
    "## 2.5 Remove"
   ]
  },
  {
   "cell_type": "markdown",
   "id": "23125506",
   "metadata": {},
   "source": [
    "### 2.5.1 remove an element\n",
    "\n",
    ".remove()；.insert()；.sort()不返回任何东西\n",
    "#.remove每次只remove一个元素，如果原list中有多个元素，只remove最左边第一个元素"
   ]
  },
  {
   "cell_type": "code",
   "execution_count": 248,
   "id": "1088092d",
   "metadata": {},
   "outputs": [],
   "source": [
    "a = ['d', 'c', 1, 'e', 2, 3, 4, 5, 6, 7, 'a', 'f', 'b']"
   ]
  },
  {
   "cell_type": "code",
   "execution_count": 249,
   "id": "bd98e42a",
   "metadata": {},
   "outputs": [
    {
     "name": "stdout",
     "output_type": "stream",
     "text": [
      "['d', 'c', 1, 'e', 2, 3, 4, 5, 6, 7, 'a', 'f', 'b']\n"
     ]
    }
   ],
   "source": [
    "print(a)\n",
    "#['d', 'c', 1, 'e', 2, 3, 4, 5, 6, 7, 'a', 'f', 'b']"
   ]
  },
  {
   "cell_type": "code",
   "execution_count": 250,
   "id": "1407fd89",
   "metadata": {},
   "outputs": [],
   "source": [
    "a.remove('e')   #等同于a.remove(\"e\")"
   ]
  },
  {
   "cell_type": "code",
   "execution_count": 251,
   "id": "115a9b96",
   "metadata": {},
   "outputs": [
    {
     "name": "stdout",
     "output_type": "stream",
     "text": [
      "['d', 'c', 1, 2, 3, 4, 5, 6, 7, 'a', 'f', 'b']\n"
     ]
    }
   ],
   "source": [
    "print(a)\n",
    "#['d', 'c', 1, 2, 3, 4, 5, 6, 7, 'a', 'f', 'b']"
   ]
  },
  {
   "cell_type": "code",
   "execution_count": 252,
   "id": "79bd416b",
   "metadata": {},
   "outputs": [],
   "source": [
    "#a.remove('e')\n",
    "\n",
    "\n",
    "# ---------------------------------------------------------------------------\n",
    "# ValueError                                Traceback (most recent call last)\n",
    "# Cell In[498], line 1\n",
    "# ----> 1 a.remove('e')\n",
    "\n",
    "# ValueError: list.remove(x): x not in list\n",
    "\n",
    "#因为list中已经没有e了，所以报错"
   ]
  },
  {
   "cell_type": "markdown",
   "id": "4b6ad707",
   "metadata": {},
   "source": [
    "### 2.5.2\n",
    "避免移除后原list不存在，再run remove时报错方法 if else：\n",
    "当元素在原list里面时就remove，否则就说没有"
   ]
  },
  {
   "cell_type": "code",
   "execution_count": 253,
   "id": "bfc42afd",
   "metadata": {},
   "outputs": [
    {
     "name": "stdout",
     "output_type": "stream",
     "text": [
      "It is not there\n"
     ]
    }
   ],
   "source": [
    "if \"e\" in a:\n",
    "    a.remove(\"e\")\n",
    "else:\n",
    "    print(\"It is not there\")\n",
    "    \n",
    "#It is not there    "
   ]
  },
  {
   "cell_type": "code",
   "execution_count": 254,
   "id": "80704191",
   "metadata": {},
   "outputs": [
    {
     "name": "stdout",
     "output_type": "stream",
     "text": [
      "['d', 'c', 1, 2, 3, 4, 5, 6, 7, 'a', 'f', 'b']\n"
     ]
    }
   ],
   "source": [
    "print(a)\n",
    "#['d', 'c', 1, 2, 3, 4, 5, 6, 7, 'a', 'f', 'b']"
   ]
  },
  {
   "cell_type": "code",
   "execution_count": 255,
   "id": "4393ff41",
   "metadata": {},
   "outputs": [],
   "source": [
    "a.append(\"f\")"
   ]
  },
  {
   "cell_type": "code",
   "execution_count": 256,
   "id": "a7f04b4f",
   "metadata": {},
   "outputs": [
    {
     "name": "stdout",
     "output_type": "stream",
     "text": [
      "['d', 'c', 1, 2, 3, 4, 5, 6, 7, 'a', 'f', 'b', 'f']\n"
     ]
    }
   ],
   "source": [
    "print(a)\n",
    "#['d', 'c', 1, 2, 3, 4, 5, 6, 7, 'a', 'f', 'b', 'f', 'f']"
   ]
  },
  {
   "cell_type": "markdown",
   "id": "f360dc2e",
   "metadata": {},
   "source": [
    "### 2.5.3\n",
    "\n",
    ".remove每次只remove一个元素，如果原list中有多个元素，只remove最左边第一个元素\n"
   ]
  },
  {
   "cell_type": "code",
   "execution_count": 257,
   "id": "314670d7",
   "metadata": {},
   "outputs": [],
   "source": [
    "a.remove(\"f\")"
   ]
  },
  {
   "cell_type": "code",
   "execution_count": 258,
   "id": "90bae63d",
   "metadata": {},
   "outputs": [
    {
     "name": "stdout",
     "output_type": "stream",
     "text": [
      "['d', 'c', 1, 2, 3, 4, 5, 6, 7, 'a', 'b', 'f']\n"
     ]
    }
   ],
   "source": [
    "print(a)\n",
    "#['d', 'c', 1, 2, 3, 4, 5, 6, 7, 'a', 'b', 'f']"
   ]
  },
  {
   "cell_type": "code",
   "execution_count": 259,
   "id": "37b9d340",
   "metadata": {},
   "outputs": [],
   "source": [
    "a.remove(\"f\")"
   ]
  },
  {
   "cell_type": "code",
   "execution_count": 260,
   "id": "c2f2fc5c",
   "metadata": {},
   "outputs": [
    {
     "name": "stdout",
     "output_type": "stream",
     "text": [
      "['d', 'c', 1, 2, 3, 4, 5, 6, 7, 'a', 'b']\n"
     ]
    }
   ],
   "source": [
    "print(a)\n",
    "#['d', 'c', 1, 2, 3, 4, 5, 6, 7, 'a', 'b']"
   ]
  },
  {
   "cell_type": "code",
   "execution_count": 261,
   "id": "b7c1d9a9",
   "metadata": {},
   "outputs": [],
   "source": [
    "c = [\"a\", \"a\"]"
   ]
  },
  {
   "cell_type": "markdown",
   "id": "62cc92af",
   "metadata": {},
   "source": [
    "### 2.5.4\n",
    "\n",
    "可以一次性remove多个同样的元素，用while loop方法：\n",
    "#当元素在list中，就remove，直到没有为止。\n"
   ]
  },
  {
   "cell_type": "code",
   "execution_count": 262,
   "id": "bd04f57e",
   "metadata": {},
   "outputs": [
    {
     "name": "stdout",
     "output_type": "stream",
     "text": [
      "[]\n"
     ]
    }
   ],
   "source": [
    "while \"a\" in c:\n",
    "    c.remove(\"a\")\n",
    "print(c)\n",
    "\n",
    "#[]"
   ]
  },
  {
   "cell_type": "code",
   "execution_count": 263,
   "id": "8a0196c6",
   "metadata": {},
   "outputs": [],
   "source": [
    "b = a.remove(\"b\")"
   ]
  },
  {
   "cell_type": "code",
   "execution_count": 264,
   "id": "957c8024",
   "metadata": {},
   "outputs": [
    {
     "name": "stdout",
     "output_type": "stream",
     "text": [
      "None\n"
     ]
    }
   ],
   "source": [
    "#.remove()操作不会返回任何值\n",
    "print(b)\n",
    "#None"
   ]
  },
  {
   "cell_type": "code",
   "execution_count": 265,
   "id": "83626545",
   "metadata": {},
   "outputs": [
    {
     "name": "stdout",
     "output_type": "stream",
     "text": [
      "['d', 'c', 1, 2, 3, 4, 5, 6, 7, 'a']\n"
     ]
    }
   ],
   "source": [
    "print(a)\n",
    "#['d', 'c', 1, 2, 3, 4, 5, 6, 7, 'a']"
   ]
  },
  {
   "cell_type": "markdown",
   "id": "3bedad63",
   "metadata": {},
   "source": [
    "### 2.5.5 习题："
   ]
  },
  {
   "cell_type": "code",
   "execution_count": 266,
   "id": "308c03b8",
   "metadata": {},
   "outputs": [],
   "source": [
    "#Exercise 6.3.1: Remove an Element：移除重复的元素（如有重复，只保留一个）\n",
    "# Build a function RmEl to remove a target element from a list. If the target element appears in the list for multiple times, only remove the first one.\n",
    "# Example: RmEl([1, 2, 3, 4, 5], 2) returns [1, 3, 4, 5]\n",
    "# Example: RmEl([1, 2, 3, 4, 5], 6) returns [1, 2, 3, 4, 5]\n",
    "# Example: RmEl([1, 2, 3, 3, 4, 5], 3) returns [1, 2, 3, 4, 5]"
   ]
  },
  {
   "cell_type": "code",
   "execution_count": 267,
   "id": "907a0234",
   "metadata": {},
   "outputs": [],
   "source": [
    "def RmEL(nums, target):\n",
    "    if target in nums:\n",
    "        nums.remove(target)\n",
    "    return nums"
   ]
  },
  {
   "cell_type": "code",
   "execution_count": 268,
   "id": "745facd1",
   "metadata": {},
   "outputs": [
    {
     "data": {
      "text/plain": [
       "[1, 2, 3, 4, 5]"
      ]
     },
     "execution_count": 268,
     "metadata": {},
     "output_type": "execute_result"
    }
   ],
   "source": [
    "RmEL([1, 2, 3, 3, 4, 5], 3)\n",
    "#[1, 2, 3, 4, 5]"
   ]
  },
  {
   "cell_type": "code",
   "execution_count": 269,
   "id": "6872fb25",
   "metadata": {},
   "outputs": [
    {
     "data": {
      "text/plain": [
       "[1, 2, 3, 3, 4, 5]"
      ]
     },
     "execution_count": 269,
     "metadata": {},
     "output_type": "execute_result"
    }
   ],
   "source": [
    "RmEL([1, 2, 3, 3, 4, 5], 6)\n",
    "#[1, 2, 3, 3, 4, 5]"
   ]
  },
  {
   "cell_type": "markdown",
   "id": "8fef18e9",
   "metadata": {},
   "source": [
    "## 2.6 Pop"
   ]
  },
  {
   "cell_type": "markdown",
   "id": "6a2005b3",
   "metadata": {},
   "source": [
    "### 2.6.1 pop out ana element\n",
    "\n",
    "i.把最末尾的值从list中取出后返回新list\n",
    "\n",
    "ii.pop和remove不同，是返回值的\n",
    "\n",
    "iii.pop()取出拿掉的是最后一个值\n",
    "\n",
    "iv.pop(i)取出拿掉的是和[i]位置上的元素"
   ]
  },
  {
   "cell_type": "code",
   "execution_count": 270,
   "id": "2403d318",
   "metadata": {},
   "outputs": [],
   "source": [
    "a = [1, 2, 3, 4, 5, 6, 7]"
   ]
  },
  {
   "cell_type": "code",
   "execution_count": 271,
   "id": "f096ca06",
   "metadata": {},
   "outputs": [
    {
     "name": "stdout",
     "output_type": "stream",
     "text": [
      "[1, 2, 3, 4, 5, 6, 7]\n"
     ]
    }
   ],
   "source": [
    "print(a)\n",
    "#[1, 2, 3, 4, 5, 6, 7]"
   ]
  },
  {
   "cell_type": "code",
   "execution_count": 272,
   "id": "b5c05c59",
   "metadata": {},
   "outputs": [],
   "source": [
    "b = a.pop()"
   ]
  },
  {
   "cell_type": "code",
   "execution_count": 273,
   "id": "7a6cf535",
   "metadata": {},
   "outputs": [
    {
     "name": "stdout",
     "output_type": "stream",
     "text": [
      "7\n"
     ]
    }
   ],
   "source": [
    "print(b)\n",
    "#7"
   ]
  },
  {
   "cell_type": "code",
   "execution_count": 274,
   "id": "72063249",
   "metadata": {},
   "outputs": [
    {
     "name": "stdout",
     "output_type": "stream",
     "text": [
      "[1, 2, 3, 4, 5, 6]\n"
     ]
    }
   ],
   "source": [
    "print(a)\n",
    "#[1, 2, 3, 4, 5, 6]"
   ]
  },
  {
   "cell_type": "code",
   "execution_count": 275,
   "id": "2e56c482",
   "metadata": {},
   "outputs": [
    {
     "data": {
      "text/plain": [
       "6"
      ]
     },
     "execution_count": 275,
     "metadata": {},
     "output_type": "execute_result"
    }
   ],
   "source": [
    "a.pop()\n",
    "#6"
   ]
  },
  {
   "cell_type": "code",
   "execution_count": 276,
   "id": "2699d327",
   "metadata": {},
   "outputs": [
    {
     "name": "stdout",
     "output_type": "stream",
     "text": [
      "[1, 2, 3, 4, 5]\n"
     ]
    }
   ],
   "source": [
    "print(a)\n",
    "#[1, 2, 3, 4, 5]"
   ]
  },
  {
   "cell_type": "code",
   "execution_count": 277,
   "id": "a2c7a283",
   "metadata": {},
   "outputs": [
    {
     "data": {
      "text/plain": [
       "2"
      ]
     },
     "execution_count": 277,
     "metadata": {},
     "output_type": "execute_result"
    }
   ],
   "source": [
    "a.pop(1)\n",
    "#pop在[1]这个位置上的元素：2"
   ]
  },
  {
   "cell_type": "code",
   "execution_count": 278,
   "id": "3be5d5ca",
   "metadata": {},
   "outputs": [
    {
     "name": "stdout",
     "output_type": "stream",
     "text": [
      "[1, 3, 4, 5]\n"
     ]
    }
   ],
   "source": [
    "print(a)\n",
    "#[1, 3, 4, 5]"
   ]
  },
  {
   "cell_type": "code",
   "execution_count": 279,
   "id": "2377564c",
   "metadata": {},
   "outputs": [
    {
     "data": {
      "text/plain": [
       "1"
      ]
     },
     "execution_count": 279,
     "metadata": {},
     "output_type": "execute_result"
    }
   ],
   "source": [
    "a.pop(0)\n",
    "#pop在[0]这个位置上的元素：1"
   ]
  },
  {
   "cell_type": "code",
   "execution_count": 280,
   "id": "7e74da4a",
   "metadata": {},
   "outputs": [
    {
     "name": "stdout",
     "output_type": "stream",
     "text": [
      "[3, 4, 5]\n"
     ]
    }
   ],
   "source": [
    "print(a)\n",
    "#[3, 4, 5]"
   ]
  },
  {
   "cell_type": "code",
   "execution_count": 281,
   "id": "88030e84",
   "metadata": {},
   "outputs": [],
   "source": [
    "# Exercise 6.4.1: Remove duplicates from a sorted list：在排序号的list中移除重复值\n",
    "# Build a function SortRm which removes duplicate numbers from a sorted list.\n",
    "# Example: SortRm([1, 2, 2, 3, 4, 4, 5, 6]) returns [1, 2, 3, 4, 5, 6]\n",
    "# Example: SortRm([1, 2, 3, 4, 5, 6]) returns [1, 2, 3, 4, 5, 6]"
   ]
  },
  {
   "cell_type": "code",
   "execution_count": 282,
   "id": "f33323df",
   "metadata": {},
   "outputs": [],
   "source": [
    "def SortRm(nums):\n",
    "    if len(nums) <= 1:       #如果list只有一个元素\n",
    "        return nums          #return这个元素\n",
    "    tmp = nums[0]            #将list中第一位置的值赋值给tmp            \n",
    "    i = 1                    #指针i取值为1，即第二位置\n",
    "    while i < len(nums):     #当指针i < list长度时：还在range中时\n",
    "        print(\"nums = \", nums)\n",
    "        print(\"tmp = \", tmp)\n",
    "        print(\"i = \", i)\n",
    "        print(\"nums[i] = \", nums[i])\n",
    "        print(\"====\")                     \n",
    "        if nums[i] == tmp:   #指针指到的值和tmp比较相同\n",
    "            nums.pop(i)      #则pop\n",
    "        else:                #如果不同\n",
    "            tmp = nums[i]    #将指针指到的值赋值给tmp，加入tmp中\n",
    "            i += 1           #i+1，指针后移\n",
    "    return nums\n",
    "\n",
    "#https://pythontutor.com/render.html#code=def%20SortRm%28nums%29%3A%0A%20%20%20%20if%20len%28nums%29%20%3C%3D%201%3A%0A%20%20%20%20%20%20%20%20return%20nums%0A%20%20%20%20tmp%20%3D%20nums%5B0%5D%0A%20%20%20%20i%20%3D%201%0A%20%20%20%20while%20i%20%3C%20len%28nums%29%3A%0A%20%20%20%20%20%20%20%20print%28%22nums%20%3D%20%22,%20nums%29%0A%20%20%20%20%20%20%20%20print%28%22tmp%20%3D%20%22,%20tmp%29%0A%20%20%20%20%20%20%20%20print%28%22i%20%3D%20%22,%20i%29%0A%20%20%20%20%20%20%20%20print%28%22nums%5Bi%5D%20%3D%20%22,%20nums%5Bi%5D%29%0A%20%20%20%20%20%20%20%20print%28%22%3D%3D%3D%3D%22%29%0A%20%20%20%20%20%20%20%20if%20nums%5Bi%5D%20%3D%3D%20tmp%3A%0A%20%20%20%20%20%20%20%20%20%20%20%20nums.pop%28i%29%0A%20%20%20%20%20%20%20%20else%3A%0A%20%20%20%20%20%20%20%20%20%20%20%20tmp%20%3D%20nums%5Bi%5D%0A%20%20%20%20%20%20%20%20%20%20%20%20i%20%2B%3D%201%0A%20%20%20%20return%20nums%0A%0ASortRm%28%5B1,%202,%202,%203,%204,%204,%205,%206%5D%29&cumulative=false&curInstr=70&heapPrimitives=nevernest&mode=display&origin=opt-frontend.js&py=3&rawInputLstJSON=%5B%5D&textReferences=false"
   ]
  },
  {
   "cell_type": "code",
   "execution_count": 283,
   "id": "ca716038",
   "metadata": {},
   "outputs": [
    {
     "name": "stdout",
     "output_type": "stream",
     "text": [
      "nums =  [1, 2, 2, 3, 4, 4, 5, 6]\n",
      "tmp =  1\n",
      "i =  1\n",
      "nums[i] =  2\n",
      "====\n",
      "nums =  [1, 2, 2, 3, 4, 4, 5, 6]\n",
      "tmp =  2\n",
      "i =  2\n",
      "nums[i] =  2\n",
      "====\n",
      "nums =  [1, 2, 3, 4, 4, 5, 6]\n",
      "tmp =  2\n",
      "i =  2\n",
      "nums[i] =  3\n",
      "====\n",
      "nums =  [1, 2, 3, 4, 4, 5, 6]\n",
      "tmp =  3\n",
      "i =  3\n",
      "nums[i] =  4\n",
      "====\n",
      "nums =  [1, 2, 3, 4, 4, 5, 6]\n",
      "tmp =  4\n",
      "i =  4\n",
      "nums[i] =  4\n",
      "====\n",
      "nums =  [1, 2, 3, 4, 5, 6]\n",
      "tmp =  4\n",
      "i =  4\n",
      "nums[i] =  5\n",
      "====\n",
      "nums =  [1, 2, 3, 4, 5, 6]\n",
      "tmp =  5\n",
      "i =  5\n",
      "nums[i] =  6\n",
      "====\n"
     ]
    },
    {
     "data": {
      "text/plain": [
       "[1, 2, 3, 4, 5, 6]"
      ]
     },
     "execution_count": 283,
     "metadata": {},
     "output_type": "execute_result"
    }
   ],
   "source": [
    "SortRm([1, 2, 2, 3, 4, 4, 5, 6])\n",
    "#[1, 2, 3, 4, 5, 6]"
   ]
  },
  {
   "cell_type": "markdown",
   "id": "e6844f49",
   "metadata": {},
   "source": [
    "## 2.7 Example using Pop"
   ]
  },
  {
   "cell_type": "markdown",
   "id": "5c42c7b9",
   "metadata": {},
   "source": [
    "### 2.7.1 Merge Two Sorted Lists\n",
    "\n",
    "Exercise 6.4.2: Merge Two Sorted Lists\n",
    "Build a function MergeSorted which merges two sorted lists as one sorted list.\n",
    "Example: MergeSorted([1, 3, 5], [2, 4, 6]) returns [1, 2, 3, 4, 5, 6]\n",
    "Example: MergeSorted([1, 2, 3], [4, 5, 6]) returns [1, 2, 3, 4, 5, 6]"
   ]
  },
  {
   "cell_type": "code",
   "execution_count": 284,
   "id": "86ee02bf",
   "metadata": {},
   "outputs": [],
   "source": [
    "def MergeSorted(Lst1, Lst2):\n",
    "    i = 0\n",
    "    while Lst1 and i < len(Lst2):\n",
    "        print(\"==\")\n",
    "        print(\"Lst1=\", Lst1)\n",
    "        print(\"Lst2=\", Lst2)\n",
    "        print(\"Lst1[0]=\", Lst1[0])\n",
    "        print(\"i=\", i)\n",
    "        print(\"Lst2[i]=\", Lst2[i])\n",
    "        if Lst1[0] <= Lst2[i]:\n",
    "            num = Lst1.pop(0)\n",
    "            Lst2.insert(i, num)\n",
    "        i += 1\n",
    "    if Lst1:\n",
    "        return Lst2 + Lst1\n",
    "    \n",
    "    return Lst2\n",
    "\n",
    "#什么是while Lst1 和if Lst1？\n",
    "#https://pythontutor.com/render.html#code=def%20MergeSorted%28Lst1,%20Lst2%29%3A%0A%20%20%20%20i%20%3D%200%0A%20%20%20%20while%20Lst1%20and%20i%20%3C%20len%28Lst2%29%3A%0A%20%20%20%20%20%20%20%20print%28%22%3D%3D%22%29%0A%20%20%20%20%20%20%20%20print%28%22Lst1%3D%22,%20Lst1%29%0A%20%20%20%20%20%20%20%20print%28%22Lst2%3D%22,%20Lst2%29%0A%20%20%20%20%20%20%20%20print%28%22Lst1%5B0%5D%3D%22,%20Lst1%5B0%5D%29%0A%20%20%20%20%20%20%20%20print%28%22i%3D%22,%20i%29%0A%20%20%20%20%20%20%20%20print%28%22Lst2%5Bi%5D%3D%22,%20Lst2%5Bi%5D%29%0A%20%20%20%20%20%20%20%20if%20Lst1%5B0%5D%20%3C%3D%20Lst2%5Bi%5D%3A%0A%20%20%20%20%20%20%20%20%20%20%20%20num%20%3D%20Lst1.pop%280%29%0A%20%20%20%20%20%20%20%20%20%20%20%20Lst2.insert%28i,%20num%29%0A%20%20%20%20%20%20%20%20i%20%2B%3D%201%0A%20%20%20%20if%20Lst1%3A%0A%20%20%20%20%20%20%20%20return%20Lst2%20%2B%20Lst1%0A%20%20%20%20%0A%20%20%20%20return%20Lst2%0AMergeSorted%28%5B1,%203,%205%5D,%20%5B2,%204,%206%5D%29&cumulative=false&curInstr=0&heapPrimitives=nevernest&mode=display&origin=opt-frontend.js&py=3&rawInputLstJSON=%5B%5D&textReferences=false"
   ]
  },
  {
   "cell_type": "code",
   "execution_count": 285,
   "id": "cc4e5ee2",
   "metadata": {},
   "outputs": [
    {
     "name": "stdout",
     "output_type": "stream",
     "text": [
      "==\n",
      "Lst1= [1, 3, 5]\n",
      "Lst2= [2, 4, 6]\n",
      "Lst1[0]= 1\n",
      "i= 0\n",
      "Lst2[i]= 2\n",
      "==\n",
      "Lst1= [3, 5]\n",
      "Lst2= [1, 2, 4, 6]\n",
      "Lst1[0]= 3\n",
      "i= 1\n",
      "Lst2[i]= 2\n",
      "==\n",
      "Lst1= [3, 5]\n",
      "Lst2= [1, 2, 4, 6]\n",
      "Lst1[0]= 3\n",
      "i= 2\n",
      "Lst2[i]= 4\n",
      "==\n",
      "Lst1= [5]\n",
      "Lst2= [1, 2, 3, 4, 6]\n",
      "Lst1[0]= 5\n",
      "i= 3\n",
      "Lst2[i]= 4\n",
      "==\n",
      "Lst1= [5]\n",
      "Lst2= [1, 2, 3, 4, 6]\n",
      "Lst1[0]= 5\n",
      "i= 4\n",
      "Lst2[i]= 6\n"
     ]
    },
    {
     "data": {
      "text/plain": [
       "[1, 2, 3, 4, 5, 6]"
      ]
     },
     "execution_count": 285,
     "metadata": {},
     "output_type": "execute_result"
    }
   ],
   "source": [
    "MergeSorted([1, 3, 5], [2, 4, 6])\n",
    "##[1, 2, 3, 4, 5, 6]"
   ]
  },
  {
   "cell_type": "markdown",
   "id": "902169d6",
   "metadata": {},
   "source": [
    "## 2.8 Modify & Switch"
   ]
  },
  {
   "cell_type": "markdown",
   "id": "ef7e7793",
   "metadata": {},
   "source": [
    "### 2.8.1 Modify an element 修改某个位置上的元素"
   ]
  },
  {
   "cell_type": "code",
   "execution_count": 286,
   "id": "f0700094",
   "metadata": {},
   "outputs": [],
   "source": [
    "a = [1, 2, 3, 4, 5, 6, 7]"
   ]
  },
  {
   "cell_type": "code",
   "execution_count": 287,
   "id": "9bf3e0d9",
   "metadata": {},
   "outputs": [],
   "source": [
    "a[0] = \"a\""
   ]
  },
  {
   "cell_type": "code",
   "execution_count": 288,
   "id": "cd9bd3da",
   "metadata": {},
   "outputs": [
    {
     "name": "stdout",
     "output_type": "stream",
     "text": [
      "['a', 2, 3, 4, 5, 6, 7]\n"
     ]
    }
   ],
   "source": [
    "print(a)\n",
    "#['a', 2, 3, 4, 5, 6, 7]"
   ]
  },
  {
   "cell_type": "code",
   "execution_count": 289,
   "id": "daf73700",
   "metadata": {},
   "outputs": [],
   "source": [
    "a[1] = \"b\""
   ]
  },
  {
   "cell_type": "code",
   "execution_count": 290,
   "id": "2fd26f1f",
   "metadata": {},
   "outputs": [
    {
     "name": "stdout",
     "output_type": "stream",
     "text": [
      "['a', 'b', 3, 4, 5, 6, 7]\n"
     ]
    }
   ],
   "source": [
    "print(a)\n",
    "#['a', 'b', 3, 4, 5, 6, 7]"
   ]
  },
  {
   "cell_type": "code",
   "execution_count": 291,
   "id": "50dc43fd",
   "metadata": {},
   "outputs": [],
   "source": [
    "a[3] = a[0]"
   ]
  },
  {
   "cell_type": "code",
   "execution_count": 292,
   "id": "cafedb13",
   "metadata": {},
   "outputs": [
    {
     "name": "stdout",
     "output_type": "stream",
     "text": [
      "['a', 'b', 3, 'a', 5, 6, 7]\n"
     ]
    }
   ],
   "source": [
    "print(a)\n",
    "#['a', 'b', 3, 'a', 5, 6, 7]"
   ]
  },
  {
   "cell_type": "markdown",
   "id": "a41ab802",
   "metadata": {},
   "source": [
    "### 2.8.2 Switch elements 调换位置"
   ]
  },
  {
   "cell_type": "code",
   "execution_count": 293,
   "id": "d41282d0",
   "metadata": {},
   "outputs": [],
   "source": [
    "a = [1, 2, 3, 4, 5, 6, 7]"
   ]
  },
  {
   "cell_type": "code",
   "execution_count": 294,
   "id": "a5be5af6",
   "metadata": {},
   "outputs": [],
   "source": [
    "#将a[0]与a[3]进行对调，即1与4对调：\n",
    "a[0], a[3] = a[3], a[0]"
   ]
  },
  {
   "cell_type": "code",
   "execution_count": 295,
   "id": "435817b4",
   "metadata": {},
   "outputs": [
    {
     "name": "stdout",
     "output_type": "stream",
     "text": [
      "[4, 2, 3, 1, 5, 6, 7]\n"
     ]
    }
   ],
   "source": [
    "print(a)\n",
    "#[4, 2, 3, 1, 5, 6, 7]"
   ]
  },
  {
   "cell_type": "code",
   "execution_count": 296,
   "id": "f060d41d",
   "metadata": {},
   "outputs": [],
   "source": [
    "# Exercise 6.6.1: Reverse List：翻转list：头尾数字对调至不能对调为止 #算法系解法\n",
    "# Build a function RevLst which reverses a list.\n",
    "# Example: RevLst([3, 1, 9, 8, 4]) -> [4, 8, 9, 1, 3]"
   ]
  },
  {
   "cell_type": "code",
   "execution_count": 297,
   "id": "621f56f2",
   "metadata": {},
   "outputs": [],
   "source": [
    "def RevLst(nums):\n",
    "    left = 0\n",
    "    right = len(nums) - 1\n",
    "    while left < right:\n",
    "        print(\"left0=\", left)\n",
    "        print(\"right0=\", right)\n",
    "        nums[left], nums[right] = nums[right], nums[left]\n",
    "        left += 1\n",
    "        right -= 1\n",
    "        print(\"left=\", left)\n",
    "        print(\"right=\", right)\n",
    "        print(\"===\")\n",
    "    return nums"
   ]
  },
  {
   "cell_type": "code",
   "execution_count": 298,
   "id": "5d09e5e8",
   "metadata": {},
   "outputs": [
    {
     "name": "stdout",
     "output_type": "stream",
     "text": [
      "left0= 0\n",
      "right0= 4\n",
      "left= 1\n",
      "right= 3\n",
      "===\n",
      "left0= 1\n",
      "right0= 3\n",
      "left= 2\n",
      "right= 2\n",
      "===\n"
     ]
    },
    {
     "data": {
      "text/plain": [
       "[4, 8, 9, 1, 3]"
      ]
     },
     "execution_count": 298,
     "metadata": {},
     "output_type": "execute_result"
    }
   ],
   "source": [
    "RevLst([3, 1, 9, 8, 4])\n",
    "#[4, 8, 9, 1, 3]"
   ]
  },
  {
   "cell_type": "code",
   "execution_count": 299,
   "id": "33ab08a4",
   "metadata": {},
   "outputs": [
    {
     "name": "stdout",
     "output_type": "stream",
     "text": [
      "left0= 0\n",
      "right0= 5\n",
      "left= 1\n",
      "right= 4\n",
      "===\n",
      "left0= 1\n",
      "right0= 4\n",
      "left= 2\n",
      "right= 3\n",
      "===\n",
      "left0= 2\n",
      "right0= 3\n",
      "left= 3\n",
      "right= 2\n",
      "===\n"
     ]
    },
    {
     "data": {
      "text/plain": [
       "[5, 4, 8, 9, 1, 3]"
      ]
     },
     "execution_count": 299,
     "metadata": {},
     "output_type": "execute_result"
    }
   ],
   "source": [
    "RevLst([3, 1, 9, 8, 4, 5])\n",
    "# [5, 4, 8, 9, 1, 3]"
   ]
  },
  {
   "cell_type": "code",
   "execution_count": 300,
   "id": "7f8f0ae1",
   "metadata": {},
   "outputs": [],
   "source": [
    "#总结：比较难懂的4个算法写法：插入【遍历&二分】；移除【pop】；合并【pop】；翻转【对调】\n",
    "\n",
    "# Q2:Insert a Number in a Sorted List：在list中插入一个值\n",
    "# Description\n",
    "# Build a function NumInsert which inserts a number in a sorted list.\n",
    "\n",
    "#写法0：遍历法\n",
    "#遍历已排序列表，找到合适的插入位置，并将新的数字插入到正确的位置，以保持列表的有序性。\n",
    "#让ind = list长度，从头至尾遍历所有元素，当list中的元素大于插入值时，让ind = i\n",
    "#list.insert(index, target)，让index位置插入target元素\n",
    "def NumInsert(nums, target):\n",
    "    ind = len(nums)\n",
    "    for i in range(len(nums)):\n",
    "        if nums[i] >= target:\n",
    "            ind = i\n",
    "            break\n",
    "    nums.insert(ind, target)\n",
    "    return nums"
   ]
  },
  {
   "cell_type": "code",
   "execution_count": 301,
   "id": "966b152e",
   "metadata": {},
   "outputs": [],
   "source": [
    "#写法1: 二分法\n",
    "#步骤：\n",
    "# 1.设定左右两个指针，分解为L和R\n",
    "# 2.L初始值为0，R初始值为List长度\n",
    "# 3.计算中间指针的值 M = (left + right) / 2\n",
    "#     3.1. 若M指针对应的数，大于需要插入的数，将M设为R\n",
    "#     3.2. 若M指针对应的数，小于需要插入的数，将M设为L\n",
    "# 4.重复步骤3，直到\n",
    "#     4.1M指针对应的值等于需要插入的值\n",
    "#     4.2或者，左右指针相遇\n",
    "# 5.将目标数字插入相应的位置\n",
    "\n",
    "#每次取一半，把另一半扔掉，比从头到尾遍历要快\n",
    "\n",
    "def NumInsert(nums, target):\n",
    "    left = 0\n",
    "    right = len(nums)\n",
    "    while right - left > 1:\n",
    "        mid = (left + right) // 2   #整数除法 //：向下取整\n",
    "        if nums[mid] == target:\n",
    "            nums.insert(mid, target)\n",
    "            return nums\n",
    "        elif nums[mid] > target:\n",
    "            right = mid\n",
    "        else:\n",
    "            left = mid\n",
    "    if target > nums[mid]:\n",
    "        nums.insert(right, target)\n",
    "    else:\n",
    "        nums.insert(left, target)\n",
    "    return nums"
   ]
  },
  {
   "cell_type": "code",
   "execution_count": 302,
   "id": "15a04659",
   "metadata": {},
   "outputs": [],
   "source": [
    "# Q3:Remove duplicates from a sorted list：从排好序的列表中移除重复值\n",
    "# Description\n",
    "# Build a function SortRm which removes duplicate numbers in a sorted list.\n",
    "\n",
    "# Examples\n",
    "# SortRm([1, 2, 2, 3, 4, 4, 5, 6]) returns [1, 2, 3, 4, 5, 6]\n",
    "# SortRm([1, 2, 3, 4, 5, 6]) returns [1, 2, 3, 4, 5, 6]\n"
   ]
  },
  {
   "cell_type": "raw",
   "id": "366b2371",
   "metadata": {},
   "source": [
    "1. 把两个list加起来，sort后return整个list\n",
    "def MergeSorted(list1, list2):\n",
    "    list3 =  list1 + list2\n",
    "\n",
    "2. 3种写法都可以：    \n",
    "    list3.sort()\n",
    "    return list3\n",
    "\n",
    "    list3 = sorted(list3)\n",
    "    return list3\n",
    "\n",
    "    return sorted(list3)\n",
    "\n",
    "3. 如果list1不为空，A；为空，B\n",
    "if list1:\n",
    "    return A\n",
    "return B"
   ]
  },
  {
   "cell_type": "code",
   "execution_count": 303,
   "id": "5023cc6f",
   "metadata": {},
   "outputs": [],
   "source": [
    "#写法3：\n",
    "#pop1:tmp定为第一个位置元素，i指针指向第二位：如果i指针上元素与tmp相同，则移除；否则tmp = i位置元素，i向后走一位\n",
    "#遍历法：后一个数 = 前一个数则pop，否则更新tmp，指针i后移，最后返回nums\n",
    "\n",
    "def SortRm(nums):\n",
    "    if len(nums) <= 1:       #如果nums长度是0或1\n",
    "        return nums          #return nums\n",
    "    tmp = nums[0]            #tmp设为nums第一个值\n",
    "    i = 1                    #i设为1，第二个值\n",
    "    while i < len(nums):     #当i < nums长度\n",
    "        if nums[i] == tmp:   #如果nums[i] == tmp:\n",
    "            nums.pop(i)      #nums pop掉 i指针的值\n",
    "        else:                #否则\n",
    "            tmp = nums[i]    #tmp更新为num[i]值\n",
    "            i += 1           #i+1\n",
    "    return nums   "
   ]
  },
  {
   "cell_type": "code",
   "execution_count": 304,
   "id": "d0d823bb",
   "metadata": {},
   "outputs": [],
   "source": [
    "# Q4: Merge Two Sorted Lists:两个排好序的list合并\n",
    "# Description\n",
    "# Build a function MergeSorted which merges two sorted lists as one sorted list.\n",
    "\n",
    "# Examples\n",
    "# MergeSorted([1, 3, 5], [2, 4, 6]) returns [1, 2, 3, 4, 5, 6]\n",
    "# MergeSorted([1, 2, 3], [4, 5, 6]) returns [1, 2, 3, 4, 5, 6]"
   ]
  },
  {
   "cell_type": "code",
   "execution_count": 305,
   "id": "475f7035",
   "metadata": {},
   "outputs": [],
   "source": [
    "#写法3：i = 0, 如果list1[0]小于list2[i]个值，则把list1[0] pop出来，插入在list2[i]值之前；否则i后移1步，指向新的list2[i]。return list2+list1。\n",
    "\n",
    "def MergeSorted(Lst1, Lst2):\n",
    "    i = 0\n",
    "    while Lst1 and i < len(Lst2):\n",
    "        if Lst1[0] <= Lst2[i]:\n",
    "            num = Lst1.pop(0)\n",
    "            Lst2.insert(i, num)\n",
    "        i += 1\n",
    "    \n",
    "    if Lst1:\n",
    "        return Lst2 + Lst1\n",
    "    \n",
    "    return Lst2"
   ]
  },
  {
   "cell_type": "code",
   "execution_count": 306,
   "id": "8d7b5aaf",
   "metadata": {},
   "outputs": [],
   "source": [
    "#Q5: Reverse List：翻转list：头尾数字对调至不能对调为止 #算法系解法\n",
    "# Build a function RevLst which reverses a list.\n",
    "# Example: RevLst([3, 1, 9, 8, 4]) -> [4, 8, 9, 1, 3]"
   ]
  },
  {
   "cell_type": "code",
   "execution_count": 307,
   "id": "c0ed7237",
   "metadata": {},
   "outputs": [],
   "source": [
    "def RevLst(nums):\n",
    "    left = 0\n",
    "    right = len(nums) - 1\n",
    "    while left < right:\n",
    "        nums[left], nums[right] = nums[right], nums[left]\n",
    "        left += 1\n",
    "        right -= 1\n",
    "    return nums"
   ]
  },
  {
   "cell_type": "code",
   "execution_count": 308,
   "id": "632aa762",
   "metadata": {},
   "outputs": [],
   "source": [
    "#0714练习"
   ]
  },
  {
   "cell_type": "code",
   "execution_count": 309,
   "id": "9f07fe93",
   "metadata": {},
   "outputs": [],
   "source": [
    "# Q2:Insert a Number in a Sorted List\n",
    "# Description\n",
    "# Build a function NumInsert which inserts a number in a sorted list.\n",
    "\n",
    "\n",
    "#1.遍历法:\n",
    "#注意限制条件用while, i< len(nums) and num[i]<target时，就i+1\n",
    "#直到nums[i] > target, 在i值前的插入target：nums.insert(i, target)\n",
    "#return nums\n",
    "# def NumInsert(nums, target):\n",
    "#     i = 0\n",
    "#     while i < len(nums) and nums[i] < target:\n",
    "#         i += 1\n",
    "#     nums.insert(i, target)\n",
    "#     return nums\n",
    "\n",
    "#2.遍历法：\n",
    "#将ind设置为最后一位元素，\n",
    "#当i在len(nums)中时，如果nums[i]>= target, 就ind = i；\n",
    "#直到nums[i]<target时，nums.insert(ind, target)。\n",
    "#return nums\n",
    "# def NumInsert(nums, target):\n",
    "#     ind = len(nums)                     #ind = 长度\n",
    "#     for i in range(len(nums)):          #i在list内移动\n",
    "#         if nums[i] >= target:           #list[i]比插入值大时\n",
    "#             ind = i                     #ind更新为i\n",
    "#             break                       #结束\n",
    "#     nums.insert(ind, target)            #在[i]前插入target\n",
    "#     return nums\n",
    "\n",
    "\n",
    "\n",
    "#3.二分法：\n",
    "#左右两个指针，L和R\n",
    "#L初始值0，R初始值list长度\n",
    "#计算中间指针M值：M = (left + right) // 2\n",
    "    #如果M指针对应的值 = target，在M前插入值\n",
    "    #如果M指针对应的值 > target，将M设为R\n",
    "    #如果M指针对应的值 < target，将M设为L\n",
    "#重复步骤3，直到\n",
    "    #M指针对应的值= target\n",
    "    #左右指针相遇\n",
    "#将target插入相应位置\n",
    "\n",
    "def NumInsert(nums, target):\n",
    "    left = 0 \n",
    "    right = len(nums)\n",
    "    while right - left > 1:\n",
    "        mid = (left + right) // 2\n",
    "        if nums[mid] == target:\n",
    "            nums.insert(mid, target)\n",
    "            return nums\n",
    "        elif nums[mid] > target:\n",
    "            right = mid\n",
    "        else:\n",
    "            left = mid\n",
    "    if target > nums[mid]:\n",
    "        nums.insert(right, target)\n",
    "    else:\n",
    "        nums.insert(left, target)\n",
    "    return nums\n",
    "\n",
    "#4.1 append&sort法:\n",
    "# def NumInsert(nums, target):\n",
    "#     nums.append(target)\n",
    "#     nums.sort()\n",
    "#     return nums\n",
    "\n",
    "# 4.1 append&sort法:\n",
    "# def NumInsert(nums, target):\n",
    "#     nums.append(target)\n",
    "#     nums = sorted(nums)\n",
    "#     return nums\n",
    "\n",
    "\n",
    "\n",
    "\n",
    "##---------------------------\n",
    "#写法1：\n",
    "# def NumInsert(nums, target):\n",
    "#     nums.append(target)\n",
    "#     nums.sort()\n",
    "#     return nums\n",
    "#写法2：\n",
    "# def NumInsert(nums, target):\n",
    "#     nums.append(target)\n",
    "#     nums = sorted(nums)\n",
    "#     return nums\n",
    "# #写法3：\n",
    "# def NumInsert(nums, target):\n",
    "#     nums.append(target)\n",
    "#     return sorted(nums)"
   ]
  },
  {
   "cell_type": "code",
   "execution_count": 310,
   "id": "456fa138",
   "metadata": {},
   "outputs": [],
   "source": [
    "# Q3: Remove duplicates from a sorted list\n",
    "# Description\n",
    "# Build a function SortRm which removes duplicate numbers in a sorted list.\n",
    "\n",
    "#1. append法：\n",
    "#创建新list，对于num in nums来说\n",
    "#如果num没在result中，则append进result中\n",
    "#return result\n",
    "\n",
    "# def SortRm(nums):\n",
    "#     result = []\n",
    "#     for num in nums:\n",
    "#         if num not in result:\n",
    "#             result.append(num)\n",
    "#     return result\n",
    "\n",
    "\n",
    "#2. 遍历法：后一个数 = 前一个数则pop，否则更新tmp，指针i后移，最后返回nums\n",
    "\n",
    "# def SortRm(nums):\n",
    "#     if len(nums) <= 1:       #如果nums长度是0或1\n",
    "#         return nums          #return nums\n",
    "#     tmp = nums[0]            #tmp设为nums第一个值\n",
    "#     i = 1                    #i设为1，第二个值\n",
    "#     while i < len(nums):     #当i < nums长度\n",
    "#         if nums[i] == tmp:   #如果nums[i] == tmp:\n",
    "#             nums.pop(i)      #nums pop掉 i指针的值\n",
    "#         else:                #否则\n",
    "#             tmp = nums[i]    #tmp更新为num[i]值\n",
    "#             i += 1           #i+1\n",
    "#     return nums              \n",
    "\n",
    "#错误代码：\n",
    "# def SortRm(nums):\n",
    "#     a = []\n",
    "#     for i in range(len(nums)):\n",
    "#         if nums[i] not in a:\n",
    "#             a.append(nums[i])\n",
    "#         nums.pop(nums[i])\n",
    "#     return a\n",
    "\n",
    "#不可以用pop(num[i])：\n",
    "# nums.pop()函数的参数应该是一个索引值，而不是列表中的元素值。因此，nums.pop(nums[i])的写法是不正确的。\n",
    "# 另外，在遍历列表时，使用nums.pop()函数会导致索引值的不一致，因为在列表中删除元素后，后续的索引值会发生变化，可能会导致跳过一些元素或出现索引错误。\n",
    "# 修正后的代码应该使用一个新的列表来存储非重复的元素，并使用一个额外的变量来迭代遍历原始列表。以下是修正后的实现方式：\n",
    "\n",
    "##=========================================\n",
    "# def SortRm(nums):\n",
    "#     result = []\n",
    "#     for num in nums:    \n",
    "#         if num not in result:\n",
    "#             result.append(num)\n",
    "#     return result"
   ]
  },
  {
   "cell_type": "markdown",
   "id": "377c35f1",
   "metadata": {},
   "source": [
    "# Unit 3"
   ]
  },
  {
   "cell_type": "markdown",
   "id": "f015254a",
   "metadata": {},
   "source": [
    "## 3.1 Example: List2Num\n",
    "\n",
    "List to Number: Build a function Lst2Num which convert a number list into one number.\n",
    "\n",
    "\n",
    "Example: Lst2Num([1, 3, 5]) returns 135\n",
    "\n",
    "Example: Lst2Num([0, 1, 2, 0, 3]) returns 1203"
   ]
  },
  {
   "cell_type": "code",
   "execution_count": 311,
   "id": "5db71e6d",
   "metadata": {},
   "outputs": [],
   "source": [
    "#输入list, 返回list中不加空格的数字：\n",
    "#loop遍历数字，把数字取出来，让res * 10 + 数字\n",
    "\n",
    "def Lst2Num(nums):\n",
    "    res = 0                         #res = () × 不可以，否则报错 \n",
    "    for num in nums:\n",
    "        res = res* 10 + num\n",
    "    return res"
   ]
  },
  {
   "cell_type": "code",
   "execution_count": 312,
   "id": "ecd69207",
   "metadata": {},
   "outputs": [
    {
     "data": {
      "text/plain": [
       "135"
      ]
     },
     "execution_count": 312,
     "metadata": {},
     "output_type": "execute_result"
    }
   ],
   "source": [
    "Lst2Num([1, 3, 5])"
   ]
  },
  {
   "cell_type": "code",
   "execution_count": 313,
   "id": "99cfb3d4",
   "metadata": {},
   "outputs": [],
   "source": [
    "def Lst2Num(nums):\n",
    "    res = 0\n",
    "    for num in nums:\n",
    "        print(\"res =\", res)\n",
    "        print(\"num = \", num)\n",
    "        res = res * 10 + num\n",
    "        print(\"res = \", res)\n",
    "        print(\"===\")\n",
    "    return res"
   ]
  },
  {
   "cell_type": "code",
   "execution_count": 314,
   "id": "91c2f252",
   "metadata": {},
   "outputs": [
    {
     "name": "stdout",
     "output_type": "stream",
     "text": [
      "res = 0\n",
      "num =  1\n",
      "res =  1\n",
      "===\n",
      "res = 1\n",
      "num =  3\n",
      "res =  13\n",
      "===\n",
      "res = 13\n",
      "num =  5\n",
      "res =  135\n",
      "===\n"
     ]
    },
    {
     "data": {
      "text/plain": [
       "135"
      ]
     },
     "execution_count": 314,
     "metadata": {},
     "output_type": "execute_result"
    }
   ],
   "source": [
    "Lst2Num([1, 3, 5])"
   ]
  },
  {
   "cell_type": "code",
   "execution_count": 315,
   "id": "d5ec61c3",
   "metadata": {},
   "outputs": [
    {
     "name": "stdout",
     "output_type": "stream",
     "text": [
      "res = 0\n",
      "num =  0\n",
      "res =  0\n",
      "===\n",
      "res = 0\n",
      "num =  1\n",
      "res =  1\n",
      "===\n",
      "res = 1\n",
      "num =  2\n",
      "res =  12\n",
      "===\n",
      "res = 12\n",
      "num =  0\n",
      "res =  120\n",
      "===\n",
      "res = 120\n",
      "num =  3\n",
      "res =  1203\n",
      "===\n"
     ]
    },
    {
     "data": {
      "text/plain": [
       "1203"
      ]
     },
     "execution_count": 315,
     "metadata": {},
     "output_type": "execute_result"
    }
   ],
   "source": [
    "Lst2Num([0, 1, 2, 0, 3])"
   ]
  },
  {
   "cell_type": "markdown",
   "id": "5af2717d",
   "metadata": {},
   "source": [
    "## 3.2  Maximum Stock Gain (2-loop version)\n",
    "\n",
    "Maximum Stock Gain\n",
    "\n",
    "Build a function MaxGain to find the maximum you can gain by buying and selling stocks. The strock prices represented as a list of numbers. You need to buy stocks before you sell them.\n",
    "\n",
    "Example: MaxGain([3, 4, 1, 5, 7, 2]) returns 6\n",
    "\n",
    "Explanation: Buy stocks when the price is 1 and sell them when the price is 7.\n",
    "\n",
    "Example: MaxGain([5, 4, 3, 2, 1]) returns 0"
   ]
  },
  {
   "cell_type": "code",
   "execution_count": 316,
   "id": "3940d1d3",
   "metadata": {},
   "outputs": [],
   "source": [
    "#事后诸葛亮形式，看何时买何时卖能最大程度盈利\n",
    "#看时间复杂度：\n",
    "#所有到每一天和之前的进行比较：先把每一天遍历；再把这一天之前的每一天遍历\n",
    "#如果后面的天 - 前面的天 > gain, 就把gain替换上去\n",
    "\n",
    "def MaxGain(nums):\n",
    "    gain = 0 \n",
    "    for i in range(len(nums)):\n",
    "        for j in range(i):\n",
    "            if nums[i] - nums[j] > gain:\n",
    "                gain = nums[i] - nums[j]\n",
    "    return gain"
   ]
  },
  {
   "cell_type": "code",
   "execution_count": 317,
   "id": "63e682e1",
   "metadata": {},
   "outputs": [
    {
     "data": {
      "text/plain": [
       "6"
      ]
     },
     "execution_count": 317,
     "metadata": {},
     "output_type": "execute_result"
    }
   ],
   "source": [
    "#股价为1买入，股价为7卖出，max gain = 6\n",
    "MaxGain([3, 4, 1, 5, 7, 2])\n",
    "#6"
   ]
  },
  {
   "cell_type": "code",
   "execution_count": 318,
   "id": "94b7a2cd",
   "metadata": {},
   "outputs": [
    {
     "data": {
      "text/plain": [
       "8"
      ]
     },
     "execution_count": 318,
     "metadata": {},
     "output_type": "execute_result"
    }
   ],
   "source": [
    "#股价为1时买入，9时卖出，maxgain = 8\n",
    "MaxGain([9, 10, 1, 5, 7, 2, 9])\n",
    "#8"
   ]
  },
  {
   "cell_type": "code",
   "execution_count": 319,
   "id": "59a1e3b0",
   "metadata": {},
   "outputs": [
    {
     "data": {
      "text/plain": [
       "0"
      ]
     },
     "execution_count": 319,
     "metadata": {},
     "output_type": "execute_result"
    }
   ],
   "source": [
    "#股价后面一直降价，不操作赚最多，max gain = 0\n",
    "MaxGain([5, 4, 3, 2, 1])\n",
    "#0"
   ]
  },
  {
   "cell_type": "code",
   "execution_count": 320,
   "id": "f9c42020",
   "metadata": {},
   "outputs": [],
   "source": [
    "def MaxGain(nums):\n",
    "    gain = 0 \n",
    "    for i in range(len(nums)):\n",
    "        print(\"==============\")\n",
    "        print(\"i=\", i)\n",
    "        print(\"nums[i]=\", nums[i])\n",
    "        for j in range(i):\n",
    "            print(\"nums[j] = \", nums[j])\n",
    "            print(\"gain\", gain)\n",
    "            print(\"cur_gain\", nums[i] - nums[j])\n",
    "            print(\"-------------\")\n",
    "            if nums[i] - nums[j] > gain:\n",
    "                gain = nums[i] - nums[j]\n",
    "    return gain"
   ]
  },
  {
   "cell_type": "code",
   "execution_count": 321,
   "id": "baa22449",
   "metadata": {},
   "outputs": [
    {
     "name": "stdout",
     "output_type": "stream",
     "text": [
      "==============\n",
      "i= 0\n",
      "nums[i]= 3\n",
      "==============\n",
      "i= 1\n",
      "nums[i]= 4\n",
      "nums[j] =  3\n",
      "gain 0\n",
      "cur_gain 1\n",
      "-------------\n",
      "==============\n",
      "i= 2\n",
      "nums[i]= 1\n",
      "nums[j] =  3\n",
      "gain 1\n",
      "cur_gain -2\n",
      "-------------\n",
      "nums[j] =  4\n",
      "gain 1\n",
      "cur_gain -3\n",
      "-------------\n",
      "==============\n",
      "i= 3\n",
      "nums[i]= 5\n",
      "nums[j] =  3\n",
      "gain 1\n",
      "cur_gain 2\n",
      "-------------\n",
      "nums[j] =  4\n",
      "gain 2\n",
      "cur_gain 1\n",
      "-------------\n",
      "nums[j] =  1\n",
      "gain 2\n",
      "cur_gain 4\n",
      "-------------\n",
      "==============\n",
      "i= 4\n",
      "nums[i]= 7\n",
      "nums[j] =  3\n",
      "gain 4\n",
      "cur_gain 4\n",
      "-------------\n",
      "nums[j] =  4\n",
      "gain 4\n",
      "cur_gain 3\n",
      "-------------\n",
      "nums[j] =  1\n",
      "gain 4\n",
      "cur_gain 6\n",
      "-------------\n",
      "nums[j] =  5\n",
      "gain 6\n",
      "cur_gain 2\n",
      "-------------\n",
      "==============\n",
      "i= 5\n",
      "nums[i]= 2\n",
      "nums[j] =  3\n",
      "gain 6\n",
      "cur_gain -1\n",
      "-------------\n",
      "nums[j] =  4\n",
      "gain 6\n",
      "cur_gain -2\n",
      "-------------\n",
      "nums[j] =  1\n",
      "gain 6\n",
      "cur_gain 1\n",
      "-------------\n",
      "nums[j] =  5\n",
      "gain 6\n",
      "cur_gain -3\n",
      "-------------\n",
      "nums[j] =  7\n",
      "gain 6\n",
      "cur_gain -5\n",
      "-------------\n"
     ]
    },
    {
     "data": {
      "text/plain": [
       "6"
      ]
     },
     "execution_count": 321,
     "metadata": {},
     "output_type": "execute_result"
    }
   ],
   "source": [
    "MaxGain([3, 4, 1, 5, 7, 2])"
   ]
  },
  {
   "cell_type": "code",
   "execution_count": 322,
   "id": "6899d7c4",
   "metadata": {},
   "outputs": [
    {
     "name": "stdout",
     "output_type": "stream",
     "text": [
      "==============\n",
      "i= 0\n",
      "nums[i]= 9\n",
      "==============\n",
      "i= 1\n",
      "nums[i]= 10\n",
      "nums[j] =  9\n",
      "gain 0\n",
      "cur_gain 1\n",
      "-------------\n",
      "==============\n",
      "i= 2\n",
      "nums[i]= 1\n",
      "nums[j] =  9\n",
      "gain 1\n",
      "cur_gain -8\n",
      "-------------\n",
      "nums[j] =  10\n",
      "gain 1\n",
      "cur_gain -9\n",
      "-------------\n",
      "==============\n",
      "i= 3\n",
      "nums[i]= 5\n",
      "nums[j] =  9\n",
      "gain 1\n",
      "cur_gain -4\n",
      "-------------\n",
      "nums[j] =  10\n",
      "gain 1\n",
      "cur_gain -5\n",
      "-------------\n",
      "nums[j] =  1\n",
      "gain 1\n",
      "cur_gain 4\n",
      "-------------\n",
      "==============\n",
      "i= 4\n",
      "nums[i]= 7\n",
      "nums[j] =  9\n",
      "gain 4\n",
      "cur_gain -2\n",
      "-------------\n",
      "nums[j] =  10\n",
      "gain 4\n",
      "cur_gain -3\n",
      "-------------\n",
      "nums[j] =  1\n",
      "gain 4\n",
      "cur_gain 6\n",
      "-------------\n",
      "nums[j] =  5\n",
      "gain 6\n",
      "cur_gain 2\n",
      "-------------\n",
      "==============\n",
      "i= 5\n",
      "nums[i]= 2\n",
      "nums[j] =  9\n",
      "gain 6\n",
      "cur_gain -7\n",
      "-------------\n",
      "nums[j] =  10\n",
      "gain 6\n",
      "cur_gain -8\n",
      "-------------\n",
      "nums[j] =  1\n",
      "gain 6\n",
      "cur_gain 1\n",
      "-------------\n",
      "nums[j] =  5\n",
      "gain 6\n",
      "cur_gain -3\n",
      "-------------\n",
      "nums[j] =  7\n",
      "gain 6\n",
      "cur_gain -5\n",
      "-------------\n",
      "==============\n",
      "i= 6\n",
      "nums[i]= 9\n",
      "nums[j] =  9\n",
      "gain 6\n",
      "cur_gain 0\n",
      "-------------\n",
      "nums[j] =  10\n",
      "gain 6\n",
      "cur_gain -1\n",
      "-------------\n",
      "nums[j] =  1\n",
      "gain 6\n",
      "cur_gain 8\n",
      "-------------\n",
      "nums[j] =  5\n",
      "gain 8\n",
      "cur_gain 4\n",
      "-------------\n",
      "nums[j] =  7\n",
      "gain 8\n",
      "cur_gain 2\n",
      "-------------\n",
      "nums[j] =  2\n",
      "gain 8\n",
      "cur_gain 7\n",
      "-------------\n"
     ]
    },
    {
     "data": {
      "text/plain": [
       "8"
      ]
     },
     "execution_count": 322,
     "metadata": {},
     "output_type": "execute_result"
    }
   ],
   "source": [
    "#股价为1买入，股价为9卖出，max gain = 8\n",
    "MaxGain([9, 10, 1, 5, 7, 2, 9])"
   ]
  },
  {
   "cell_type": "code",
   "execution_count": 323,
   "id": "102be641",
   "metadata": {
    "scrolled": true
   },
   "outputs": [
    {
     "name": "stdout",
     "output_type": "stream",
     "text": [
      "==============\n",
      "i= 0\n",
      "nums[i]= 5\n",
      "==============\n",
      "i= 1\n",
      "nums[i]= 4\n",
      "nums[j] =  5\n",
      "gain 0\n",
      "cur_gain -1\n",
      "-------------\n",
      "==============\n",
      "i= 2\n",
      "nums[i]= 3\n",
      "nums[j] =  5\n",
      "gain 0\n",
      "cur_gain -2\n",
      "-------------\n",
      "nums[j] =  4\n",
      "gain 0\n",
      "cur_gain -1\n",
      "-------------\n",
      "==============\n",
      "i= 3\n",
      "nums[i]= 2\n",
      "nums[j] =  5\n",
      "gain 0\n",
      "cur_gain -3\n",
      "-------------\n",
      "nums[j] =  4\n",
      "gain 0\n",
      "cur_gain -2\n",
      "-------------\n",
      "nums[j] =  3\n",
      "gain 0\n",
      "cur_gain -1\n",
      "-------------\n",
      "==============\n",
      "i= 4\n",
      "nums[i]= 1\n",
      "nums[j] =  5\n",
      "gain 0\n",
      "cur_gain -4\n",
      "-------------\n",
      "nums[j] =  4\n",
      "gain 0\n",
      "cur_gain -3\n",
      "-------------\n",
      "nums[j] =  3\n",
      "gain 0\n",
      "cur_gain -2\n",
      "-------------\n",
      "nums[j] =  2\n",
      "gain 0\n",
      "cur_gain -1\n",
      "-------------\n"
     ]
    },
    {
     "data": {
      "text/plain": [
       "0"
      ]
     },
     "execution_count": 323,
     "metadata": {},
     "output_type": "execute_result"
    }
   ],
   "source": [
    "#后一天都比前一天价低，不操作赚的最多，所以gain = 0\n",
    "MaxGain([5, 4, 3, 2, 1])"
   ]
  },
  {
   "cell_type": "markdown",
   "id": "1d7b6b21",
   "metadata": {},
   "source": [
    "# 3.3 Example: Maximum Stock Gain (1-loop version)\n",
    "Homework\n",
    "1、Maximum Stock Gain\n",
    "\n",
    "Code\n",
    " Maximum Stock Gain\n",
    "Build a function MaxGain to find the maximum you can gain by buying and selling stocks. The strock prices represented as a list of numbers. You need to buy stocks before you sell them.\n",
    "Example: MaxGain([3, 4, 1, 5, 7, 2]) returns 6\n",
    "--Explanation: Buy stocks when the price is 1 and sell them when the price is 7.\n",
    "\n",
    "Example: MaxGain([5, 4, 3, 2, 1]) returns 0"
   ]
  },
  {
   "cell_type": "code",
   "execution_count": 324,
   "id": "fb9212ba",
   "metadata": {},
   "outputs": [],
   "source": [
    "#时间复杂度为n\n",
    "#1 loop比 2 loop省时间\n",
    "#1 loop key: 把之前最低的价格记下来, 更新gain\n",
    "# 遍历数字，每到一个数字进行两次判断：\n",
    "# i.当前值 - min > gain, 就更新gain：这天卖最赚；\n",
    "# ii.当前值 < min，就更新min\n",
    "\n",
    "def MaxGain(nums):\n",
    "    min_price = nums[0]                 #第一天值\n",
    "    gain = 0\n",
    "    for num in nums:\n",
    "        if num - min_price > gain:      #※当前价 - 最低价 > gain\n",
    "            gain = num - min_price      #把gain值更新\n",
    "        if num < min_price:             #※当前价 与 最低价 低\n",
    "            min_price = num             #把最低价更新\n",
    "    return gain"
   ]
  },
  {
   "cell_type": "code",
   "execution_count": 325,
   "id": "70e06a4a",
   "metadata": {},
   "outputs": [
    {
     "data": {
      "text/plain": [
       "6"
      ]
     },
     "execution_count": 325,
     "metadata": {},
     "output_type": "execute_result"
    }
   ],
   "source": [
    "MaxGain([3, 4, 1, 5, 7, 2])\n",
    "#6"
   ]
  },
  {
   "cell_type": "code",
   "execution_count": 326,
   "id": "0ed75020",
   "metadata": {},
   "outputs": [
    {
     "data": {
      "text/plain": [
       "8"
      ]
     },
     "execution_count": 326,
     "metadata": {},
     "output_type": "execute_result"
    }
   ],
   "source": [
    "MaxGain([9, 10, 1, 5, 7, 2, 9])\n",
    "#8"
   ]
  },
  {
   "cell_type": "code",
   "execution_count": 327,
   "id": "5f4a21bc",
   "metadata": {},
   "outputs": [
    {
     "data": {
      "text/plain": [
       "0"
      ]
     },
     "execution_count": 327,
     "metadata": {},
     "output_type": "execute_result"
    }
   ],
   "source": [
    "MaxGain([5, 4, 3, 2, 1])\n",
    "#0"
   ]
  },
  {
   "cell_type": "code",
   "execution_count": 328,
   "id": "b9527958",
   "metadata": {},
   "outputs": [],
   "source": [
    "def MaxGain(nums):\n",
    "    min_price = nums[0]\n",
    "    gain = 0\n",
    "    for num in nums:\n",
    "        print(\"min_price=\", min_price)\n",
    "        print(\"gain=\", gain)\n",
    "        print(\"cur_price=\", num)\n",
    "        print(\"cur_gain=\", num - min_price)\n",
    "        print(\"===========\")\n",
    "        if num - min_price > gain:\n",
    "            gain = num - min_price\n",
    "        if num < min_price:\n",
    "            min_price = num\n",
    "    return gain"
   ]
  },
  {
   "cell_type": "code",
   "execution_count": 329,
   "id": "88138282",
   "metadata": {},
   "outputs": [
    {
     "name": "stdout",
     "output_type": "stream",
     "text": [
      "min_price= 9\n",
      "gain= 0\n",
      "cur_price= 9\n",
      "cur_gain= 0\n",
      "===========\n",
      "min_price= 9\n",
      "gain= 0\n",
      "cur_price= 10\n",
      "cur_gain= 1\n",
      "===========\n",
      "min_price= 9\n",
      "gain= 1\n",
      "cur_price= 1\n",
      "cur_gain= -8\n",
      "===========\n",
      "min_price= 1\n",
      "gain= 1\n",
      "cur_price= 5\n",
      "cur_gain= 4\n",
      "===========\n",
      "min_price= 1\n",
      "gain= 4\n",
      "cur_price= 7\n",
      "cur_gain= 6\n",
      "===========\n",
      "min_price= 1\n",
      "gain= 6\n",
      "cur_price= 2\n",
      "cur_gain= 1\n",
      "===========\n",
      "min_price= 1\n",
      "gain= 6\n",
      "cur_price= 9\n",
      "cur_gain= 8\n",
      "===========\n"
     ]
    },
    {
     "data": {
      "text/plain": [
       "8"
      ]
     },
     "execution_count": 329,
     "metadata": {},
     "output_type": "execute_result"
    }
   ],
   "source": [
    "MaxGain([9, 10, 1, 5, 7, 2, 9])"
   ]
  },
  {
   "cell_type": "code",
   "execution_count": 330,
   "id": "31d620ad",
   "metadata": {},
   "outputs": [
    {
     "name": "stdout",
     "output_type": "stream",
     "text": [
      "min_price= 5\n",
      "gain= 0\n",
      "cur_price= 5\n",
      "cur_gain= 0\n",
      "===========\n",
      "min_price= 5\n",
      "gain= 0\n",
      "cur_price= 4\n",
      "cur_gain= -1\n",
      "===========\n",
      "min_price= 4\n",
      "gain= 0\n",
      "cur_price= 3\n",
      "cur_gain= -1\n",
      "===========\n",
      "min_price= 3\n",
      "gain= 0\n",
      "cur_price= 2\n",
      "cur_gain= -1\n",
      "===========\n",
      "min_price= 2\n",
      "gain= 0\n",
      "cur_price= 1\n",
      "cur_gain= -1\n",
      "===========\n"
     ]
    },
    {
     "data": {
      "text/plain": [
       "0"
      ]
     },
     "execution_count": 330,
     "metadata": {},
     "output_type": "execute_result"
    }
   ],
   "source": [
    "MaxGain([5, 4, 3, 2, 1])"
   ]
  },
  {
   "cell_type": "markdown",
   "id": "6bc8e344",
   "metadata": {},
   "source": [
    "## 3.4 Example: Pascal’s Triangle (Recursion) \n",
    "Homework\n",
    "1、Pascal's Triangle\n",
    "\n",
    "Code\n",
    "7.3 Pascal's Triangle\n",
    "Build a function PascalT which takes an integer n as an input and generate a n layer Pascal's Triangle.\n",
    "\n",
    "Example: PascalT(3) returns [[1], [1, 1], [1, 2, 1]]\n",
    "\n",
    "Example: PascalT(5) returns [[1], [1, 1], [1, 2, 1], [1, 3, 3, 1], [1, 4, 6, 4, 1]]"
   ]
  },
  {
   "attachments": {
    "1.png": {
     "image/png": "[encoded data removed]"
    }
   },
   "cell_type": "markdown",
   "id": "f80c8585",
   "metadata": {},
   "source": [
    "![1.png](attachment:1.png)"
   ]
  },
  {
   "cell_type": "code",
   "execution_count": 331,
   "id": "7fb32e5a",
   "metadata": {},
   "outputs": [],
   "source": [
    "#杨辉三角\n",
    "# 每一层数字的数目等于层数\n",
    "# 最左边和最右边的数字都是1\n",
    "# 从第三层开始，中间第i个数字的值，是上一层第i和第i-1数字的和\n",
    "# 里面每一个元素是一个list\n",
    "\n",
    "#每一层是上面一层元素加和出来，recursion递归：函数内部调用函数，互换自己\n",
    "\n",
    "#法1：\n",
    "def PascalT(n):\n",
    "    if n == 1:\n",
    "        return [[1]]           #返回一个list, list里只有一个数1\n",
    "    elif n == 2:\n",
    "        return [[1], [1, 1]]\n",
    "    else:\n",
    "        T = PascalT(n - 1)     #recusion：叫自己\n",
    "        last_layer = T[-1]     \n",
    "        new_layer = [1]        #left\n",
    "        for i in range(n - 2):\n",
    "            new_layer.append(last_layer[i] + last_layer[i + 1])\n",
    "        new_layer.append(1)    #right\n",
    "        T.append(new_layer)\n",
    "        return T"
   ]
  },
  {
   "cell_type": "code",
   "execution_count": 332,
   "id": "7d064c35",
   "metadata": {},
   "outputs": [
    {
     "data": {
      "text/plain": [
       "[[1], [1, 1], [1, 2, 1], [1, 3, 3, 1], [1, 4, 6, 4, 1]]"
      ]
     },
     "execution_count": 332,
     "metadata": {},
     "output_type": "execute_result"
    }
   ],
   "source": [
    "PascalT(5)"
   ]
  },
  {
   "cell_type": "code",
   "execution_count": 333,
   "id": "169c7730",
   "metadata": {},
   "outputs": [],
   "source": [
    "def PascalT(n):\n",
    "    print(\"====\")\n",
    "    print(\"n=\", n)\n",
    "    if n == 1:\n",
    "        return [[1]]\n",
    "    elif n == 2:\n",
    "        return [[1], [1,1]]\n",
    "    else:\n",
    "        T = PascalT(n - 1)\n",
    "        print(\"T\", T)\n",
    "        last_layer = T[-1]\n",
    "        new_layer = T[1]  #left\n",
    "        print(\"-----\")\n",
    "        print(\"new_layer = \", new_layer)\n",
    "        for i in range(n - 2):\n",
    "            print(\"i = \", i)\n",
    "            print(\"last_layer[i]\", last_layer[i])\n",
    "            print(\"last_layer[i + 1]\", last_layer[i + 1])\n",
    "            new_layer.append(last_layer[i] + last_layer[i + 1])\n",
    "        new_layer.append(1) #right\n",
    "        print(\"new_layer = \", new_layer)\n",
    "        T.append(new_layer)\n",
    "        return T"
   ]
  },
  {
   "cell_type": "code",
   "execution_count": 334,
   "id": "f442e02d",
   "metadata": {},
   "outputs": [
    {
     "name": "stdout",
     "output_type": "stream",
     "text": [
      "====\n",
      "n= 5\n",
      "====\n",
      "n= 4\n",
      "====\n",
      "n= 3\n",
      "====\n",
      "n= 2\n",
      "T [[1], [1, 1]]\n",
      "-----\n",
      "new_layer =  [1, 1]\n",
      "i =  0\n",
      "last_layer[i] 1\n",
      "last_layer[i + 1] 1\n",
      "new_layer =  [1, 1, 2, 1]\n",
      "T [[1], [1, 1, 2, 1], [1, 1, 2, 1]]\n",
      "-----\n",
      "new_layer =  [1, 1, 2, 1]\n",
      "i =  0\n",
      "last_layer[i] 1\n",
      "last_layer[i + 1] 1\n",
      "i =  1\n",
      "last_layer[i] 1\n",
      "last_layer[i + 1] 2\n",
      "new_layer =  [1, 1, 2, 1, 2, 3, 1]\n",
      "T [[1], [1, 1, 2, 1, 2, 3, 1], [1, 1, 2, 1, 2, 3, 1], [1, 1, 2, 1, 2, 3, 1]]\n",
      "-----\n",
      "new_layer =  [1, 1, 2, 1, 2, 3, 1]\n",
      "i =  0\n",
      "last_layer[i] 1\n",
      "last_layer[i + 1] 1\n",
      "i =  1\n",
      "last_layer[i] 1\n",
      "last_layer[i + 1] 2\n",
      "i =  2\n",
      "last_layer[i] 2\n",
      "last_layer[i + 1] 1\n",
      "new_layer =  [1, 1, 2, 1, 2, 3, 1, 2, 3, 3, 1]\n"
     ]
    },
    {
     "data": {
      "text/plain": [
       "[[1],\n",
       " [1, 1, 2, 1, 2, 3, 1, 2, 3, 3, 1],\n",
       " [1, 1, 2, 1, 2, 3, 1, 2, 3, 3, 1],\n",
       " [1, 1, 2, 1, 2, 3, 1, 2, 3, 3, 1],\n",
       " [1, 1, 2, 1, 2, 3, 1, 2, 3, 3, 1]]"
      ]
     },
     "execution_count": 334,
     "metadata": {},
     "output_type": "execute_result"
    }
   ],
   "source": [
    "PascalT(5)"
   ]
  },
  {
   "cell_type": "markdown",
   "id": "3658246a",
   "metadata": {},
   "source": [
    "## 3.5 Pascal's Triangle (LOOP) #比recursion解法更简单\n",
    "Build a function PascalT which takes an integer n as an input and generate a n layer Pascal's Triangle.\n",
    "\n",
    "Example: PascalT(3) returns [[1], [1, 1], [1, 2, 1]]\n",
    "\n",
    "Example: PascalT(5) returns [[1], [1, 1], [1, 2, 1], [1, 3, 3, 1], [1, 4, 6, 4, 1]]"
   ]
  },
  {
   "attachments": {
    "2.png": {
     "image/png": "[encoded data removed]"
    }
   },
   "cell_type": "markdown",
   "id": "1f0d94ee",
   "metadata": {},
   "source": [
    "![2.png](attachment:2.png)"
   ]
  },
  {
   "cell_type": "code",
   "execution_count": 335,
   "id": "a105a20c",
   "metadata": {},
   "outputs": [],
   "source": [
    "def PascalT(n):\n",
    "    if n <= 0:\n",
    "        return []\n",
    "    \n",
    "    T = [[1]]\n",
    "    \n",
    "    if n > 1:\n",
    "        for i in range(1, n):\n",
    "            last_layer = T[-1]\n",
    "            last_layer = [0] + last_layer + [0]   #头尾加0\n",
    "            new_layer = []\n",
    "            for j in range(len(last_layer) - 1):\n",
    "                new_layer.append(last_layer[j] + last_layer[j + 1])\n",
    "            T.append(new_layer)\n",
    "    return T"
   ]
  },
  {
   "cell_type": "code",
   "execution_count": 336,
   "id": "66adb997",
   "metadata": {},
   "outputs": [
    {
     "data": {
      "text/plain": [
       "[[1], [1, 1], [1, 2, 1], [1, 3, 3, 1], [1, 4, 6, 4, 1]]"
      ]
     },
     "execution_count": 336,
     "metadata": {},
     "output_type": "execute_result"
    }
   ],
   "source": [
    "PascalT(5)\n",
    "#[[1], [1, 1], [1, 2, 1], [1, 3, 3, 1], [1, 4, 6, 4, 1]]"
   ]
  },
  {
   "cell_type": "code",
   "execution_count": 337,
   "id": "1b0cc588",
   "metadata": {},
   "outputs": [],
   "source": [
    "def PascalT(n):\n",
    "    if n <= 0:\n",
    "        return []\n",
    "    \n",
    "    T = [[1]]\n",
    "    \n",
    "    if n > 1:\n",
    "        for i in range(1, n):\n",
    "            print(\"=======\")\n",
    "            print(\"cur_layer_num\", i + 1)\n",
    "            last_layer = T[-1]\n",
    "            print(\"last_layer = \", last_layer)\n",
    "            new_layer = []\n",
    "            for j in range(len(last_layer) - 1):\n",
    "                new_layer.append(last_layer[j] + last_layer[j + 1])\n",
    "                print(\"j = \", j)\n",
    "                print(\"new_layer\", new_layer)\n",
    "            T.append(new_layer)\n",
    "        return T"
   ]
  },
  {
   "cell_type": "code",
   "execution_count": 338,
   "id": "de7220d2",
   "metadata": {},
   "outputs": [
    {
     "name": "stdout",
     "output_type": "stream",
     "text": [
      "=======\n",
      "cur_layer_num 2\n",
      "last_layer =  [1]\n",
      "=======\n",
      "cur_layer_num 3\n",
      "last_layer =  []\n",
      "=======\n",
      "cur_layer_num 4\n",
      "last_layer =  []\n",
      "=======\n",
      "cur_layer_num 5\n",
      "last_layer =  []\n"
     ]
    },
    {
     "data": {
      "text/plain": [
       "[[1], [], [], [], []]"
      ]
     },
     "execution_count": 338,
     "metadata": {},
     "output_type": "execute_result"
    }
   ],
   "source": [
    "PascalT(5)\n",
    "# =======\n",
    "# cur_layer_num 2\n",
    "# last_layer =  [1]\n",
    "# =======\n",
    "# cur_layer_num 3\n",
    "# last_layer =  []\n",
    "# =======\n",
    "# cur_layer_num 4\n",
    "# last_layer =  []\n",
    "# =======\n",
    "# cur_layer_num 5\n",
    "# last_layer =  []\n",
    "# [[1], [], [], [], []]"
   ]
  },
  {
   "cell_type": "markdown",
   "id": "39dcf77c",
   "metadata": {},
   "source": [
    "## 3.6 Intro to Set "
   ]
  },
  {
   "cell_type": "markdown",
   "id": "2e072d2b",
   "metadata": {},
   "source": [
    "### 3.6.1 Set\n",
    "a set is denoted by a pair of curly braces"
   ]
  },
  {
   "cell_type": "markdown",
   "id": "71c11376",
   "metadata": {},
   "source": [
    "#### 3.6.1.1 An empty set "
   ]
  },
  {
   "cell_type": "code",
   "execution_count": 339,
   "id": "eec703cc",
   "metadata": {},
   "outputs": [],
   "source": [
    "#花括号定义set\n",
    "a = {}"
   ]
  },
  {
   "cell_type": "code",
   "execution_count": 340,
   "id": "15becded",
   "metadata": {},
   "outputs": [
    {
     "name": "stdout",
     "output_type": "stream",
     "text": [
      "{}\n"
     ]
    }
   ],
   "source": [
    "print(a)\n",
    "#{}"
   ]
  },
  {
   "cell_type": "markdown",
   "id": "7f412bb0",
   "metadata": {},
   "source": [
    "#### 3.6.1.2 Sets of numbers "
   ]
  },
  {
   "cell_type": "code",
   "execution_count": 341,
   "id": "65589add",
   "metadata": {},
   "outputs": [],
   "source": [
    "a = {1, 2, 3, 4}"
   ]
  },
  {
   "cell_type": "code",
   "execution_count": 342,
   "id": "fac8c9db",
   "metadata": {},
   "outputs": [
    {
     "name": "stdout",
     "output_type": "stream",
     "text": [
      "{1, 2, 3, 4}\n"
     ]
    }
   ],
   "source": [
    "print(a)\n",
    "#{1, 2, 3, 4}"
   ]
  },
  {
   "cell_type": "markdown",
   "id": "3c81d0e3",
   "metadata": {},
   "source": [
    "#### 3.6.1.3 A set of strings "
   ]
  },
  {
   "cell_type": "code",
   "execution_count": 343,
   "id": "91bd8da5",
   "metadata": {},
   "outputs": [],
   "source": [
    "a = {\"a\", \"b\", \"cd\", \"e\"}"
   ]
  },
  {
   "cell_type": "code",
   "execution_count": 344,
   "id": "51e11669",
   "metadata": {},
   "outputs": [
    {
     "name": "stdout",
     "output_type": "stream",
     "text": [
      "{'b', 'e', 'a', 'cd'}\n"
     ]
    }
   ],
   "source": [
    "print(a)\n",
    "#{'b', 'e', 'cd', 'a'}"
   ]
  },
  {
   "cell_type": "markdown",
   "id": "8952567e",
   "metadata": {},
   "source": [
    "#### 3.6.1.4 A set of numbers and strings"
   ]
  },
  {
   "cell_type": "code",
   "execution_count": 345,
   "id": "255e50bd",
   "metadata": {},
   "outputs": [],
   "source": [
    "a = {1, 2, \"a\", \"bc\"}"
   ]
  },
  {
   "cell_type": "code",
   "execution_count": 346,
   "id": "82989de1",
   "metadata": {},
   "outputs": [
    {
     "name": "stdout",
     "output_type": "stream",
     "text": [
      "{1, 2, 'a', 'bc'}\n"
     ]
    }
   ],
   "source": [
    "print(a)\n",
    "#{1, 2, 'a', 'bc'}"
   ]
  },
  {
   "cell_type": "markdown",
   "id": "d0e133e9",
   "metadata": {},
   "source": [
    "#### 3.6.1.5 No list of set can be in a set"
   ]
  },
  {
   "cell_type": "code",
   "execution_count": 347,
   "id": "7537c221",
   "metadata": {},
   "outputs": [],
   "source": [
    "#list里可以有list, set里不能有list\n",
    "#{[]}\n",
    "\n",
    "# ---------------------------------------------------------------------------\n",
    "# TypeError                                 Traceback (most recent call last)\n",
    "# Cell In[88], line 1\n",
    "# ----> 1 {[]}\n",
    "\n",
    "# TypeError: unhashable type: 'list'"
   ]
  },
  {
   "cell_type": "code",
   "execution_count": 348,
   "id": "20beb06f",
   "metadata": {},
   "outputs": [],
   "source": [
    "#set里也不能有set\n",
    "#{{}}\n",
    "\n",
    "# ---------------------------------------------------------------------------\n",
    "# TypeError                                 Traceback (most recent call last)\n",
    "# Cell In[90], line 1\n",
    "# ----> 1 {{}}\n",
    "\n",
    "# TypeError: unhashable type: 'dict'"
   ]
  },
  {
   "cell_type": "markdown",
   "id": "32a5802d",
   "metadata": {},
   "source": [
    "#### 3.6.1.6 A set contains no duplicates\n",
    "set中没有重复值，类似于select distinct"
   ]
  },
  {
   "cell_type": "code",
   "execution_count": 349,
   "id": "1b538e68",
   "metadata": {},
   "outputs": [],
   "source": [
    "a = {1, 1, 2, 3, 4, 4, 5}"
   ]
  },
  {
   "cell_type": "code",
   "execution_count": 350,
   "id": "557a608f",
   "metadata": {},
   "outputs": [
    {
     "name": "stdout",
     "output_type": "stream",
     "text": [
      "{1, 2, 3, 4, 5}\n"
     ]
    }
   ],
   "source": [
    "print(a)\n",
    "#{1, 2, 3, 4, 5}"
   ]
  },
  {
   "cell_type": "code",
   "execution_count": 351,
   "id": "98c3d3fe",
   "metadata": {},
   "outputs": [],
   "source": [
    "a = {\"a\", 1, 3, \"a\", 1, 3}"
   ]
  },
  {
   "cell_type": "code",
   "execution_count": 352,
   "id": "c8a66a38",
   "metadata": {},
   "outputs": [
    {
     "name": "stdout",
     "output_type": "stream",
     "text": [
      "{1, 3, 'a'}\n"
     ]
    }
   ],
   "source": [
    "print(a)\n",
    "#{1, 3, 'a'}"
   ]
  },
  {
   "cell_type": "markdown",
   "id": "aa63bd73",
   "metadata": {},
   "source": [
    "## 3.7 Using set to remove duplicates "
   ]
  },
  {
   "cell_type": "code",
   "execution_count": 353,
   "id": "33bb448a",
   "metadata": {},
   "outputs": [],
   "source": [
    "#Transformation between set and list"
   ]
  },
  {
   "cell_type": "markdown",
   "id": "5abdab08",
   "metadata": {},
   "source": [
    "### 3.7.1 List to set"
   ]
  },
  {
   "cell_type": "code",
   "execution_count": 354,
   "id": "99634483",
   "metadata": {},
   "outputs": [],
   "source": [
    "a = [1, 2, 3, 4]"
   ]
  },
  {
   "cell_type": "code",
   "execution_count": 355,
   "id": "753542eb",
   "metadata": {},
   "outputs": [
    {
     "data": {
      "text/plain": [
       "{1, 2, 3, 4}"
      ]
     },
     "execution_count": 355,
     "metadata": {},
     "output_type": "execute_result"
    }
   ],
   "source": [
    "#将这个list转换成set：set(list) \n",
    "set(a)\n",
    "#{1, 2, 3, 4}"
   ]
  },
  {
   "cell_type": "markdown",
   "id": "921a93e7",
   "metadata": {},
   "source": [
    "### 3.7.2 Set to list"
   ]
  },
  {
   "cell_type": "code",
   "execution_count": 356,
   "id": "e59f00fd",
   "metadata": {},
   "outputs": [],
   "source": [
    "a = {1, 2, 3, 4}"
   ]
  },
  {
   "cell_type": "code",
   "execution_count": 357,
   "id": "b1bccd38",
   "metadata": {},
   "outputs": [
    {
     "data": {
      "text/plain": [
       "[1, 2, 3, 4]"
      ]
     },
     "execution_count": 357,
     "metadata": {},
     "output_type": "execute_result"
    }
   ],
   "source": [
    "#将set转换成list: list(set)\n",
    "list(a)\n",
    "#[1, 2, 3, 4]"
   ]
  },
  {
   "cell_type": "markdown",
   "id": "22cde075",
   "metadata": {},
   "source": [
    "### 3.7.3 Exercise 2.2.1: Remove Duplicates from a List\n",
    "Build a function RmDuplicate which remove all the duplicates from a list.\n",
    "Example: RmDuplicates([3, 1, 2, 3, 4, 5, 6]) returns [1, 2, 3, 4, 5, 6]\n",
    "Example: RmDuplicates([1, 3, 5]) returns [1, 3, 5] "
   ]
  },
  {
   "cell_type": "code",
   "execution_count": 358,
   "id": "7cc0ea90",
   "metadata": {},
   "outputs": [],
   "source": [
    "def RmDuplicates(nums):\n",
    "    return list(set(nums))"
   ]
  },
  {
   "cell_type": "code",
   "execution_count": 359,
   "id": "1b3477d1",
   "metadata": {},
   "outputs": [
    {
     "data": {
      "text/plain": [
       "[1, 2, 3, 4, 5, 6]"
      ]
     },
     "execution_count": 359,
     "metadata": {},
     "output_type": "execute_result"
    }
   ],
   "source": [
    "RmDuplicates([3, 1, 2, 3, 4, 5, 6])\n",
    "#[1, 2, 3, 4, 5, 6]"
   ]
  },
  {
   "cell_type": "markdown",
   "id": "3ca53cdf",
   "metadata": {},
   "source": [
    "## 3.8 Using Set for Search "
   ]
  },
  {
   "cell_type": "markdown",
   "id": "0e07dcdc",
   "metadata": {},
   "source": [
    "### 3.8.1 Elements in a set "
   ]
  },
  {
   "cell_type": "markdown",
   "id": "25228225",
   "metadata": {},
   "source": [
    "#### 3.8.1.1 We can't get an element from a set using index"
   ]
  },
  {
   "cell_type": "code",
   "execution_count": 360,
   "id": "5477d189",
   "metadata": {},
   "outputs": [],
   "source": [
    "a = {1, 2, 3, 4}"
   ]
  },
  {
   "cell_type": "code",
   "execution_count": 361,
   "id": "dc8e800e",
   "metadata": {},
   "outputs": [
    {
     "name": "stdout",
     "output_type": "stream",
     "text": [
      "{1, 2, 3, 4}\n"
     ]
    }
   ],
   "source": [
    "print(a)\n",
    "#{1, 2, 3, 4}"
   ]
  },
  {
   "cell_type": "code",
   "execution_count": 362,
   "id": "ee51a5c8",
   "metadata": {},
   "outputs": [],
   "source": [
    "#不能用index去叫set中的数：\n",
    "\n",
    "#print(a[1])\n",
    "\n",
    "# ---------------------------------------------------------------------------\n",
    "# TypeError                                 Traceback (most recent call last)\n",
    "# Cell In[135], line 1\n",
    "# ----> 1 print(a[1])\n",
    "\n",
    "# TypeError: 'set' object is not subscriptable"
   ]
  },
  {
   "cell_type": "markdown",
   "id": "b711bf32",
   "metadata": {},
   "source": [
    "#### 3.8.1.2 Checking whether an element in a set is fast\n",
    "\n",
    "总结：set可以去重；如果找是否有一个元素在set中，速度特别快"
   ]
  },
  {
   "cell_type": "code",
   "execution_count": 363,
   "id": "64d6722b",
   "metadata": {},
   "outputs": [],
   "source": [
    "#a是list，b是set，set中找东西很方便\n",
    "#set找东西的速度很快\n",
    "a = [i for i in range(1000)]\n",
    "b = set(a)"
   ]
  },
  {
   "cell_type": "code",
   "execution_count": 364,
   "id": "6d3aaeaf",
   "metadata": {},
   "outputs": [
    {
     "name": "stdout",
     "output_type": "stream",
     "text": [
      "True\n"
     ]
    }
   ],
   "source": [
    "print(5 in a)"
   ]
  },
  {
   "cell_type": "code",
   "execution_count": 365,
   "id": "d2ca9d48",
   "metadata": {},
   "outputs": [
    {
     "name": "stdout",
     "output_type": "stream",
     "text": [
      "True\n"
     ]
    }
   ],
   "source": [
    "print(5 in b)"
   ]
  },
  {
   "cell_type": "markdown",
   "id": "ecf6ff4e",
   "metadata": {},
   "source": [
    "# Unit 4: String\n"
   ]
  },
  {
   "cell_type": "markdown",
   "id": "b38a7977",
   "metadata": {},
   "source": [
    "## 4.1 Introduction to String"
   ]
  },
  {
   "cell_type": "code",
   "execution_count": 366,
   "id": "4feb6cb7",
   "metadata": {},
   "outputs": [],
   "source": [
    "#list用[]；set用{}；string用'' or \"\" or \"\"\"\"\"\""
   ]
  },
  {
   "cell_type": "markdown",
   "id": "da6f0095",
   "metadata": {},
   "source": [
    "### 4.1.1 An empty string"
   ]
  },
  {
   "cell_type": "code",
   "execution_count": 367,
   "id": "d0c83096",
   "metadata": {},
   "outputs": [],
   "source": [
    "a = \"\""
   ]
  },
  {
   "cell_type": "code",
   "execution_count": 368,
   "id": "2a5bf7f8",
   "metadata": {},
   "outputs": [
    {
     "name": "stdout",
     "output_type": "stream",
     "text": [
      "\n"
     ]
    }
   ],
   "source": [
    "print(a)"
   ]
  },
  {
   "cell_type": "code",
   "execution_count": 369,
   "id": "8c8c1ff6",
   "metadata": {},
   "outputs": [],
   "source": [
    "a = ''"
   ]
  },
  {
   "cell_type": "code",
   "execution_count": 370,
   "id": "44cb34f7",
   "metadata": {},
   "outputs": [
    {
     "name": "stdout",
     "output_type": "stream",
     "text": [
      "\n"
     ]
    }
   ],
   "source": [
    "print(a)"
   ]
  },
  {
   "cell_type": "code",
   "execution_count": 371,
   "id": "04b7a2cf",
   "metadata": {},
   "outputs": [],
   "source": [
    "a = \"\"\"\"\"\""
   ]
  },
  {
   "cell_type": "code",
   "execution_count": 372,
   "id": "72b3e3e6",
   "metadata": {},
   "outputs": [
    {
     "name": "stdout",
     "output_type": "stream",
     "text": [
      "\n"
     ]
    }
   ],
   "source": [
    "print(a)"
   ]
  },
  {
   "cell_type": "code",
   "execution_count": 373,
   "id": "674c1cae",
   "metadata": {},
   "outputs": [],
   "source": [
    "a =  ''''''"
   ]
  },
  {
   "cell_type": "code",
   "execution_count": 374,
   "id": "8ec8fadc",
   "metadata": {},
   "outputs": [
    {
     "name": "stdout",
     "output_type": "stream",
     "text": [
      "\n"
     ]
    }
   ],
   "source": [
    "print(a)"
   ]
  },
  {
   "cell_type": "code",
   "execution_count": 375,
   "id": "71b56104",
   "metadata": {},
   "outputs": [],
   "source": [
    "#但引号不能混用：eg. 一个单引号 一个双引号\n",
    "#a = '\"\n",
    "\n",
    "#SyntaxError: unterminated string literal (detected at line 1)"
   ]
  },
  {
   "cell_type": "markdown",
   "id": "5d0caa22",
   "metadata": {},
   "source": [
    "### 4.1.2 A string with letters"
   ]
  },
  {
   "cell_type": "code",
   "execution_count": 376,
   "id": "d7bfd06a",
   "metadata": {},
   "outputs": [],
   "source": [
    "#红色是字符串\n",
    "a = \"abcde\""
   ]
  },
  {
   "cell_type": "code",
   "execution_count": 377,
   "id": "970314ff",
   "metadata": {},
   "outputs": [
    {
     "name": "stdout",
     "output_type": "stream",
     "text": [
      "abcde\n"
     ]
    }
   ],
   "source": [
    "print(a)"
   ]
  },
  {
   "cell_type": "code",
   "execution_count": 378,
   "id": "3f3aae76",
   "metadata": {},
   "outputs": [],
   "source": [
    "#绿色是数字\n",
    "a = 1234"
   ]
  },
  {
   "cell_type": "code",
   "execution_count": 379,
   "id": "903873b7",
   "metadata": {},
   "outputs": [
    {
     "name": "stdout",
     "output_type": "stream",
     "text": [
      "1234\n"
     ]
    }
   ],
   "source": [
    "print(a)"
   ]
  },
  {
   "cell_type": "code",
   "execution_count": 380,
   "id": "93e336f2",
   "metadata": {},
   "outputs": [],
   "source": [
    "a = \"1234\""
   ]
  },
  {
   "cell_type": "code",
   "execution_count": 381,
   "id": "b73271bf",
   "metadata": {},
   "outputs": [
    {
     "name": "stdout",
     "output_type": "stream",
     "text": [
      "1234\n"
     ]
    }
   ],
   "source": [
    "print(a)"
   ]
  },
  {
   "cell_type": "code",
   "execution_count": 382,
   "id": "f38d208e",
   "metadata": {},
   "outputs": [
    {
     "name": "stdout",
     "output_type": "stream",
     "text": [
      "5555\n"
     ]
    }
   ],
   "source": [
    "#数字相加：\n",
    "a = 1234\n",
    "b = 4321\n",
    "print(a + b)\n",
    "#5555"
   ]
  },
  {
   "cell_type": "code",
   "execution_count": 383,
   "id": "728cde39",
   "metadata": {},
   "outputs": [
    {
     "name": "stdout",
     "output_type": "stream",
     "text": [
      "12344321\n"
     ]
    }
   ],
   "source": [
    "#字符串相加：将数字引号起\n",
    "a = \"1234\"\n",
    "b = \"4321\"\n",
    "print(a + b)\n",
    "#12344321"
   ]
  },
  {
   "cell_type": "markdown",
   "id": "72a0032b",
   "metadata": {},
   "source": [
    "### 4.1.3 Strings with quotation marks"
   ]
  },
  {
   "cell_type": "code",
   "execution_count": 384,
   "id": "98ef468d",
   "metadata": {},
   "outputs": [],
   "source": [
    "#双引号，单引号，三引号，可以组合出现；只要最外层和内里的引号种类不同，就可以打印内里的引号"
   ]
  },
  {
   "cell_type": "code",
   "execution_count": 385,
   "id": "e4d6c8ac",
   "metadata": {},
   "outputs": [],
   "source": [
    "a = \"ab'c'de\""
   ]
  },
  {
   "cell_type": "code",
   "execution_count": 386,
   "id": "33ab83bb",
   "metadata": {},
   "outputs": [
    {
     "name": "stdout",
     "output_type": "stream",
     "text": [
      "ab'c'de\n"
     ]
    }
   ],
   "source": [
    "print(a)\n",
    "#ab'c'de"
   ]
  },
  {
   "cell_type": "code",
   "execution_count": 387,
   "id": "b8b3ffd6",
   "metadata": {},
   "outputs": [],
   "source": [
    "a = 'a\"bcd\"e'"
   ]
  },
  {
   "cell_type": "code",
   "execution_count": 388,
   "id": "5fdd4f50",
   "metadata": {},
   "outputs": [
    {
     "name": "stdout",
     "output_type": "stream",
     "text": [
      "a\"bcd\"e\n"
     ]
    }
   ],
   "source": [
    "print(a)\n",
    "#a\"bcd\"e"
   ]
  },
  {
   "cell_type": "code",
   "execution_count": 389,
   "id": "762ca38a",
   "metadata": {},
   "outputs": [],
   "source": [
    "a = \"\"\"a\"b'c'de\"\"\""
   ]
  },
  {
   "cell_type": "code",
   "execution_count": 390,
   "id": "958ce314",
   "metadata": {},
   "outputs": [
    {
     "name": "stdout",
     "output_type": "stream",
     "text": [
      "a\"b'c'de\n"
     ]
    }
   ],
   "source": [
    "print(a)\n",
    "#a\"b'c'de"
   ]
  },
  {
   "cell_type": "markdown",
   "id": "2c2eb900",
   "metadata": {},
   "source": [
    "## 4.2 Example: Palindrome"
   ]
  },
  {
   "cell_type": "markdown",
   "id": "2e68b79d",
   "metadata": {},
   "source": [
    "## 4.2.1 Get characters from a string "
   ]
  },
  {
   "cell_type": "code",
   "execution_count": 391,
   "id": "ffdbf084",
   "metadata": {},
   "outputs": [],
   "source": [
    "a = \"abcde\""
   ]
  },
  {
   "cell_type": "code",
   "execution_count": 392,
   "id": "8ab5d593",
   "metadata": {},
   "outputs": [
    {
     "data": {
      "text/plain": [
       "'a'"
      ]
     },
     "execution_count": 392,
     "metadata": {},
     "output_type": "execute_result"
    }
   ],
   "source": [
    "a[0]\n",
    "#'a'"
   ]
  },
  {
   "cell_type": "code",
   "execution_count": 393,
   "id": "7680dc34",
   "metadata": {},
   "outputs": [
    {
     "data": {
      "text/plain": [
       "'b'"
      ]
     },
     "execution_count": 393,
     "metadata": {},
     "output_type": "execute_result"
    }
   ],
   "source": [
    "a[1]\n",
    "#'b'"
   ]
  },
  {
   "cell_type": "code",
   "execution_count": 394,
   "id": "31b9f6a7",
   "metadata": {},
   "outputs": [
    {
     "data": {
      "text/plain": [
       "'e'"
      ]
     },
     "execution_count": 394,
     "metadata": {},
     "output_type": "execute_result"
    }
   ],
   "source": [
    "a[-1]\n",
    "#'e'"
   ]
  },
  {
   "cell_type": "markdown",
   "id": "0dbebdcb",
   "metadata": {},
   "source": [
    "### 4.2.2 Exercise 2.1.1: Palindrome\n",
    "\n",
    "Build a function isPalindrome which takes a string as an input and returns boolin value telling whether the string is a palindrome.\n",
    "Example: isPalindrome(\"abcba\") returns True\n",
    "Example: isPalindrome(\"abba\") returns True\n",
    "Example: isPalindrome(\"a\") returns True\n",
    "Example: isPalindrome(\"\") returns True\n",
    "Example: isPalindrome(\"abcd\") returns False\n",
    "\n",
    "回文：看是否对称"
   ]
  },
  {
   "cell_type": "code",
   "execution_count": 395,
   "id": "e83ff29d",
   "metadata": {},
   "outputs": [],
   "source": [
    "def isPalindrome(s):\n",
    "    left = 0\n",
    "    right = len(s) - 1\n",
    "    while left < right:\n",
    "        if s[left] == s[right]:\n",
    "            left += 1\n",
    "            right -= 1\n",
    "        else:\n",
    "            return False\n",
    "    return True"
   ]
  },
  {
   "cell_type": "code",
   "execution_count": 396,
   "id": "fb0a88e5",
   "metadata": {},
   "outputs": [],
   "source": [
    "#左从第一个指针，右从最后一个元素指针，开始(最后一个元素的数，[]是元素length - 1)\n",
    "#当 左 小于 右：看左右指针是否相等\n",
    "#如果相等，就把左右 都往内 移一格；\n",
    "#当奇数个数字时，左右指针相遇相等时结束；当偶数个数字时，左右指针在最近的地方挨着时结束\n",
    "#一旦不等，就return False；否则走完所有指针都相等 return True"
   ]
  },
  {
   "cell_type": "code",
   "execution_count": 397,
   "id": "5f1aa49b",
   "metadata": {},
   "outputs": [
    {
     "data": {
      "text/plain": [
       "False"
      ]
     },
     "execution_count": 397,
     "metadata": {},
     "output_type": "execute_result"
    }
   ],
   "source": [
    "isPalindrome(\"abcde\")\n",
    "#False"
   ]
  },
  {
   "cell_type": "code",
   "execution_count": 398,
   "id": "21580ad3",
   "metadata": {},
   "outputs": [
    {
     "data": {
      "text/plain": [
       "False"
      ]
     },
     "execution_count": 398,
     "metadata": {},
     "output_type": "execute_result"
    }
   ],
   "source": [
    "isPalindrome(\"abcd\")\n",
    "#False"
   ]
  },
  {
   "cell_type": "code",
   "execution_count": 399,
   "id": "34032ac9",
   "metadata": {},
   "outputs": [],
   "source": [
    "def isPalindrome(s):\n",
    "    left = 0\n",
    "    right = len(s) - 1\n",
    "    while left < right:\n",
    "        print(\"left = \", left)\n",
    "        print(\"right = \", right)\n",
    "        print(\"s[left]=\", s[left])\n",
    "        print(\"s[right]=\", s[right])\n",
    "        print(\"====\")\n",
    "        if s[left] == s[right]:\n",
    "            left += 1\n",
    "            right -= 1\n",
    "        else:\n",
    "            return False\n",
    "    return True"
   ]
  },
  {
   "cell_type": "code",
   "execution_count": 400,
   "id": "4e794f90",
   "metadata": {},
   "outputs": [
    {
     "name": "stdout",
     "output_type": "stream",
     "text": [
      "left =  0\n",
      "right =  4\n",
      "s[left]= a\n",
      "s[right]= a\n",
      "====\n",
      "left =  1\n",
      "right =  3\n",
      "s[left]= b\n",
      "s[right]= b\n",
      "====\n"
     ]
    },
    {
     "data": {
      "text/plain": [
       "True"
      ]
     },
     "execution_count": 400,
     "metadata": {},
     "output_type": "execute_result"
    }
   ],
   "source": [
    "isPalindrome(\"abcba\")"
   ]
  },
  {
   "cell_type": "code",
   "execution_count": 401,
   "id": "dfb1d2cd",
   "metadata": {},
   "outputs": [
    {
     "name": "stdout",
     "output_type": "stream",
     "text": [
      "left =  0\n",
      "right =  3\n",
      "s[left]= a\n",
      "s[right]= d\n",
      "====\n"
     ]
    },
    {
     "data": {
      "text/plain": [
       "False"
      ]
     },
     "execution_count": 401,
     "metadata": {},
     "output_type": "execute_result"
    }
   ],
   "source": [
    "isPalindrome(\"abcd\")"
   ]
  },
  {
   "cell_type": "markdown",
   "id": "66aa8c71",
   "metadata": {},
   "source": [
    "## 4.3 Example: Valid Parentheses"
   ]
  },
  {
   "cell_type": "markdown",
   "id": "36b81046",
   "metadata": {},
   "source": [
    "### 4.3.1 Exercise 2.1.2: Valid Parenthesis\n",
    "Build a function ValidParenthesis to determine the parenthesis in a string are valid. Example: ValidParenthesis('((()))()') returns True\n",
    "Example: ValidParenthesis('()()()') returns True\n",
    "Example: ValidParenthesis(')()()()') returns False\n",
    "Example: ValidParenthesis('((())))') returns False"
   ]
  },
  {
   "cell_type": "code",
   "execution_count": 402,
   "id": "85337adc",
   "metadata": {},
   "outputs": [],
   "source": [
    "#list 和 string的综合应用 => stack\n",
    "#消消乐：\n",
    "# i. 遇到(：就把其存入tmp\n",
    "# ii.遇到)：如果之前有存入的(，就将其消掉；如果没有，就false\n",
    "# iii. 走完全程时，tmp不为空，还有剩的(，也false"
   ]
  },
  {
   "cell_type": "code",
   "execution_count": 403,
   "id": "cccf9928",
   "metadata": {},
   "outputs": [],
   "source": [
    "def ValidParenthesis(s):\n",
    "    tmp = []\n",
    "    for c in s:\n",
    "        if c == '(':              #遇到(\n",
    "            tmp.append(c)         #存入tmp中\n",
    "        if c == ')':              #遇到)\n",
    "            if tmp:               #看下tmp中是否有元素\n",
    "                tmp.pop()         #若有，则pop一个(\n",
    "            else:                 #若没有\n",
    "                return False      #则false【说明)大于(的数量，不是回文】())\n",
    "    if tmp:                       #全跑完，如果tmp还有值\n",
    "        return False              #则false【说明(大于)的数量，不是回文】(() ※注意此处 if 和for对齐\n",
    "    else:                         #全跑完，tmp没有值\n",
    "        return True               #则true (())()"
   ]
  },
  {
   "cell_type": "code",
   "execution_count": 404,
   "id": "8866d859",
   "metadata": {},
   "outputs": [
    {
     "data": {
      "text/plain": [
       "True"
      ]
     },
     "execution_count": 404,
     "metadata": {},
     "output_type": "execute_result"
    }
   ],
   "source": [
    "ValidParenthesis('((()))()')\n",
    "#True"
   ]
  },
  {
   "cell_type": "code",
   "execution_count": 405,
   "id": "5e15a264",
   "metadata": {},
   "outputs": [
    {
     "data": {
      "text/plain": [
       "False"
      ]
     },
     "execution_count": 405,
     "metadata": {},
     "output_type": "execute_result"
    }
   ],
   "source": [
    "ValidParenthesis(')()()()')\n",
    "#False"
   ]
  },
  {
   "cell_type": "code",
   "execution_count": 406,
   "id": "3be1af93",
   "metadata": {},
   "outputs": [],
   "source": [
    "def ValidParenthesis(s):\n",
    "    tmp = []\n",
    "    for c in s:\n",
    "        print(\"tmp=\", tmp)\n",
    "        print(\"c=\", c)\n",
    "        print(\"=================\")\n",
    "        if c == '(':\n",
    "            tmp.append(c)\n",
    "        if c == ')':\n",
    "            if tmp:\n",
    "                tmp.pop()\n",
    "            else:\n",
    "                return False\n",
    "    print(\"final tmp=\", tmp)\n",
    "    if tmp:\n",
    "        return False\n",
    "    else:\n",
    "        return True"
   ]
  },
  {
   "cell_type": "code",
   "execution_count": 407,
   "id": "b025f388",
   "metadata": {},
   "outputs": [
    {
     "name": "stdout",
     "output_type": "stream",
     "text": [
      "tmp= []\n",
      "c= (\n",
      "=================\n",
      "tmp= ['(']\n",
      "c= (\n",
      "=================\n",
      "tmp= ['(', '(']\n",
      "c= (\n",
      "=================\n",
      "tmp= ['(', '(', '(']\n",
      "c= )\n",
      "=================\n",
      "tmp= ['(', '(']\n",
      "c= )\n",
      "=================\n",
      "tmp= ['(']\n",
      "c= )\n",
      "=================\n",
      "tmp= []\n",
      "c= (\n",
      "=================\n",
      "tmp= ['(']\n",
      "c= )\n",
      "=================\n",
      "final tmp= []\n"
     ]
    },
    {
     "data": {
      "text/plain": [
       "True"
      ]
     },
     "execution_count": 407,
     "metadata": {},
     "output_type": "execute_result"
    }
   ],
   "source": [
    "ValidParenthesis('((()))()')"
   ]
  },
  {
   "cell_type": "code",
   "execution_count": 408,
   "id": "4484cb09",
   "metadata": {},
   "outputs": [
    {
     "name": "stdout",
     "output_type": "stream",
     "text": [
      "tmp= []\n",
      "c= (\n",
      "=================\n",
      "tmp= ['(']\n",
      "c= (\n",
      "=================\n",
      "tmp= ['(', '(']\n",
      "c= (\n",
      "=================\n",
      "tmp= ['(', '(', '(']\n",
      "c= (\n",
      "=================\n",
      "tmp= ['(', '(', '(', '(']\n",
      "c= )\n",
      "=================\n",
      "tmp= ['(', '(', '(']\n",
      "c= )\n",
      "=================\n",
      "tmp= ['(', '(']\n",
      "c= )\n",
      "=================\n",
      "tmp= ['(']\n",
      "c= (\n",
      "=================\n",
      "tmp= ['(', '(']\n",
      "c= )\n",
      "=================\n",
      "final tmp= ['(']\n"
     ]
    },
    {
     "data": {
      "text/plain": [
       "False"
      ]
     },
     "execution_count": 408,
     "metadata": {},
     "output_type": "execute_result"
    }
   ],
   "source": [
    "ValidParenthesis('(((()))()')"
   ]
  },
  {
   "cell_type": "code",
   "execution_count": 409,
   "id": "012238f9",
   "metadata": {
    "scrolled": true
   },
   "outputs": [
    {
     "name": "stdout",
     "output_type": "stream",
     "text": [
      "tmp= []\n",
      "c= (\n",
      "=================\n",
      "tmp= ['(']\n",
      "c= (\n",
      "=================\n",
      "tmp= ['(', '(']\n",
      "c= )\n",
      "=================\n",
      "tmp= ['(']\n",
      "c= )\n",
      "=================\n",
      "tmp= []\n",
      "c= )\n",
      "=================\n"
     ]
    },
    {
     "data": {
      "text/plain": [
       "False"
      ]
     },
     "execution_count": 409,
     "metadata": {},
     "output_type": "execute_result"
    }
   ],
   "source": [
    "ValidParenthesis('(()))()')\n",
    "#         if c == ')':\n",
    "#             if tmp:\n",
    "#                 tmp.pop()\n",
    "#             else:\n",
    "#                 return False\n",
    "#如果是退无可退的)，直接return False"
   ]
  },
  {
   "cell_type": "markdown",
   "id": "721c5829",
   "metadata": {},
   "source": [
    "## 4.4 Example: Ngrams"
   ]
  },
  {
   "cell_type": "markdown",
   "id": "a96c8be8",
   "metadata": {},
   "source": [
    "### 4.4.1  Get a substring"
   ]
  },
  {
   "cell_type": "code",
   "execution_count": 410,
   "id": "03eb5a44",
   "metadata": {},
   "outputs": [],
   "source": [
    "a = 'abcde'"
   ]
  },
  {
   "cell_type": "code",
   "execution_count": 411,
   "id": "050cb1f9",
   "metadata": {},
   "outputs": [
    {
     "data": {
      "text/plain": [
       "'cd'"
      ]
     },
     "execution_count": 411,
     "metadata": {},
     "output_type": "execute_result"
    }
   ],
   "source": [
    "a[2:4]\n",
    "#'cd'"
   ]
  },
  {
   "cell_type": "code",
   "execution_count": 412,
   "id": "3b04d988",
   "metadata": {},
   "outputs": [
    {
     "data": {
      "text/plain": [
       "'cde'"
      ]
     },
     "execution_count": 412,
     "metadata": {},
     "output_type": "execute_result"
    }
   ],
   "source": [
    "a[2:]\n",
    "#'cde'"
   ]
  },
  {
   "cell_type": "code",
   "execution_count": 413,
   "id": "b9f5a132",
   "metadata": {},
   "outputs": [
    {
     "data": {
      "text/plain": [
       "'ab'"
      ]
     },
     "execution_count": 413,
     "metadata": {},
     "output_type": "execute_result"
    }
   ],
   "source": [
    "a[:2]\n",
    "#'ab'"
   ]
  },
  {
   "cell_type": "markdown",
   "id": "656159ba",
   "metadata": {},
   "source": [
    "### 4.4.2 Exercise 2.2.1: N Grams\n",
    "Build a function NGram which takes a string s and an integer n as inputs, returns a list of n grams of s.\n",
    "\n",
    "Example: NGram(\"techlent\", 2) returns [\"te\", \"ec\", \"ch\", \"hl\", \"le\", \"en\", \"nt\"]\n",
    "\n",
    "Example: NGram(\"abc\", 3) returns [\"abc\"]\n",
    "\n",
    "Example: NGram(\"abc\", 4) returns []\n",
    "\n",
    "Example: NGram(\"abc\", 1) returns [\"a\", \"b\", \"c\"]"
   ]
  },
  {
   "cell_type": "code",
   "execution_count": 414,
   "id": "5bc023bf",
   "metadata": {},
   "outputs": [],
   "source": [
    "#s代表字符串，n是需要几个字符：\n",
    "#lens(s) - n + 1的作用，是i运行到 元素总数 - n 个元素时停止：\n",
    "def NGram(s, n):\n",
    "    res = []\n",
    "    for i in range(len(s) - n + 1):\n",
    "        res.append(s[i: i + n])\n",
    "    return res"
   ]
  },
  {
   "cell_type": "code",
   "execution_count": 415,
   "id": "a4fe51c6",
   "metadata": {},
   "outputs": [
    {
     "data": {
      "text/plain": [
       "['t', 'e', 'c', 'h', 'l', 'e', 'n', 't']"
      ]
     },
     "execution_count": 415,
     "metadata": {},
     "output_type": "execute_result"
    }
   ],
   "source": [
    "NGram(\"techlent\", 1)\n",
    "#['t', 'e', 'c', 'h', 'l', 'e', 'n', 't']\n",
    "#https://pythontutor.com/render.html#code=def%20NGram%28s,%20n%29%3A%0A%20%20%20%20res%20%3D%20%5B%5D%0A%20%20%20%20for%20i%20in%20range%28len%28s%29%20-%20n%20%2B%201%29%3A%0A%20%20%20%20%20%20%20%20res.append%28s%5Bi%3A%20i%20%2B%20n%5D%29%0A%20%20%20%20return%20res%0A%0ANGram%28%22techlent%22,%201%29&cumulative=false&curInstr=0&heapPrimitives=nevernest&mode=display&origin=opt-frontend.js&py=3&rawInputLstJSON=%5B%5D&textReferences=false"
   ]
  },
  {
   "cell_type": "code",
   "execution_count": 416,
   "id": "7f9720db",
   "metadata": {},
   "outputs": [
    {
     "data": {
      "text/plain": [
       "['te', 'ec', 'ch', 'hl', 'le', 'en', 'nt']"
      ]
     },
     "execution_count": 416,
     "metadata": {},
     "output_type": "execute_result"
    }
   ],
   "source": [
    "NGram(\"techlent\", 2)\n",
    "#https://pythontutor.com/render.html#code=def%20NGram%28s,%20n%29%3A%0A%20%20%20%20res%20%3D%20%5B%5D%0A%20%20%20%20for%20i%20in%20range%28len%28s%29%20-%20n%20%2B%201%29%3A%0A%20%20%20%20%20%20%20%20res.append%28s%5Bi%3A%20i%20%2B%20n%5D%29%0A%20%20%20%20return%20res%0A%0ANGram%28%22techlent%22,%202%29&cumulative=false&curInstr=0&heapPrimitives=nevernest&mode=display&origin=opt-frontend.js&py=3&rawInputLstJSON=%5B%5D&textReferences=false"
   ]
  },
  {
   "cell_type": "code",
   "execution_count": 417,
   "id": "f8d9aad9",
   "metadata": {},
   "outputs": [
    {
     "data": {
      "text/plain": [
       "['tec', 'ech', 'chl', 'hle', 'len', 'ent']"
      ]
     },
     "execution_count": 417,
     "metadata": {},
     "output_type": "execute_result"
    }
   ],
   "source": [
    "NGram(\"techlent\", 3)\n",
    "#https://pythontutor.com/render.html#code=def%20NGram%28s,%20n%29%3A%0A%20%20%20%20res%20%3D%20%5B%5D%0A%20%20%20%20for%20i%20in%20range%28len%28s%29%20-%20n%20%2B%201%29%3A%0A%20%20%20%20%20%20%20%20res.append%28s%5Bi%3A%20i%20%2B%20n%5D%29%0A%20%20%20%20return%20res%0A%0ANGram%28%22techlent%22,%203%29&cumulative=false&curInstr=19&heapPrimitives=nevernest&mode=display&origin=opt-frontend.js&py=3&rawInputLstJSON=%5B%5D&textReferences=false"
   ]
  },
  {
   "cell_type": "code",
   "execution_count": 418,
   "id": "3785d858",
   "metadata": {},
   "outputs": [
    {
     "data": {
      "text/plain": [
       "[]"
      ]
     },
     "execution_count": 418,
     "metadata": {},
     "output_type": "execute_result"
    }
   ],
   "source": [
    "NGram(\"techlent\", 10)"
   ]
  },
  {
   "cell_type": "code",
   "execution_count": 419,
   "id": "0f864229",
   "metadata": {},
   "outputs": [],
   "source": [
    "def NGram(s, n):\n",
    "    res = []\n",
    "    print(\"len(s) - n + 1 =\", len(s) - n + 1)\n",
    "    for i in range(len(s) - n + 1):\n",
    "        print(\"i=\", i)\n",
    "        print(\"i + n =\", i + n)\n",
    "        print(\"s[i : i + n] = \", s[i : i + n])\n",
    "        print(\"===\")\n",
    "        res.append(s[i: i + n])\n",
    "    return res"
   ]
  },
  {
   "cell_type": "code",
   "execution_count": 420,
   "id": "bd5d6d42",
   "metadata": {},
   "outputs": [
    {
     "name": "stdout",
     "output_type": "stream",
     "text": [
      "len(s) - n + 1 = 9\n",
      "i= 0\n",
      "i + n = 1\n",
      "s[i : i + n] =  t\n",
      "===\n",
      "i= 1\n",
      "i + n = 2\n",
      "s[i : i + n] =  e\n",
      "===\n",
      "i= 2\n",
      "i + n = 3\n",
      "s[i : i + n] =  c\n",
      "===\n",
      "i= 3\n",
      "i + n = 4\n",
      "s[i : i + n] =  h\n",
      "===\n",
      "i= 4\n",
      "i + n = 5\n",
      "s[i : i + n] =  e\n",
      "===\n",
      "i= 5\n",
      "i + n = 6\n",
      "s[i : i + n] =  l\n",
      "===\n",
      "i= 6\n",
      "i + n = 7\n",
      "s[i : i + n] =  e\n",
      "===\n",
      "i= 7\n",
      "i + n = 8\n",
      "s[i : i + n] =  n\n",
      "===\n",
      "i= 8\n",
      "i + n = 9\n",
      "s[i : i + n] =  t\n",
      "===\n"
     ]
    },
    {
     "data": {
      "text/plain": [
       "['t', 'e', 'c', 'h', 'e', 'l', 'e', 'n', 't']"
      ]
     },
     "execution_count": 420,
     "metadata": {},
     "output_type": "execute_result"
    }
   ],
   "source": [
    "NGram(\"techelent\", 1)"
   ]
  },
  {
   "cell_type": "code",
   "execution_count": 421,
   "id": "4bfc8f8c",
   "metadata": {},
   "outputs": [
    {
     "name": "stdout",
     "output_type": "stream",
     "text": [
      "len(s) - n + 1 = 7\n",
      "i= 0\n",
      "i + n = 2\n",
      "s[i : i + n] =  te\n",
      "===\n",
      "i= 1\n",
      "i + n = 3\n",
      "s[i : i + n] =  ec\n",
      "===\n",
      "i= 2\n",
      "i + n = 4\n",
      "s[i : i + n] =  ch\n",
      "===\n",
      "i= 3\n",
      "i + n = 5\n",
      "s[i : i + n] =  hl\n",
      "===\n",
      "i= 4\n",
      "i + n = 6\n",
      "s[i : i + n] =  le\n",
      "===\n",
      "i= 5\n",
      "i + n = 7\n",
      "s[i : i + n] =  en\n",
      "===\n",
      "i= 6\n",
      "i + n = 8\n",
      "s[i : i + n] =  nt\n",
      "===\n"
     ]
    },
    {
     "data": {
      "text/plain": [
       "['te', 'ec', 'ch', 'hl', 'le', 'en', 'nt']"
      ]
     },
     "execution_count": 421,
     "metadata": {},
     "output_type": "execute_result"
    }
   ],
   "source": [
    "NGram(\"techlent\", 2)"
   ]
  },
  {
   "cell_type": "code",
   "execution_count": 422,
   "id": "5cad11cb",
   "metadata": {},
   "outputs": [
    {
     "name": "stdout",
     "output_type": "stream",
     "text": [
      "len(s) - n + 1 = 6\n",
      "i= 0\n",
      "i + n = 3\n",
      "s[i : i + n] =  tec\n",
      "===\n",
      "i= 1\n",
      "i + n = 4\n",
      "s[i : i + n] =  ech\n",
      "===\n",
      "i= 2\n",
      "i + n = 5\n",
      "s[i : i + n] =  chl\n",
      "===\n",
      "i= 3\n",
      "i + n = 6\n",
      "s[i : i + n] =  hle\n",
      "===\n",
      "i= 4\n",
      "i + n = 7\n",
      "s[i : i + n] =  len\n",
      "===\n",
      "i= 5\n",
      "i + n = 8\n",
      "s[i : i + n] =  ent\n",
      "===\n"
     ]
    },
    {
     "data": {
      "text/plain": [
       "['tec', 'ech', 'chl', 'hle', 'len', 'ent']"
      ]
     },
     "execution_count": 422,
     "metadata": {},
     "output_type": "execute_result"
    }
   ],
   "source": [
    "NGram(\"techlent\", 3)"
   ]
  },
  {
   "cell_type": "code",
   "execution_count": 423,
   "id": "d32f05fa",
   "metadata": {},
   "outputs": [
    {
     "name": "stdout",
     "output_type": "stream",
     "text": [
      "len(s) - n + 1 = -1\n"
     ]
    },
    {
     "data": {
      "text/plain": [
       "[]"
      ]
     },
     "execution_count": 423,
     "metadata": {},
     "output_type": "execute_result"
    }
   ],
   "source": [
    "NGram(\"techlent\", 10)"
   ]
  },
  {
   "cell_type": "markdown",
   "id": "9a90005a",
   "metadata": {},
   "source": [
    "## 4.5 Example: All Red"
   ]
  },
  {
   "cell_type": "code",
   "execution_count": 424,
   "id": "1664defe",
   "metadata": {},
   "outputs": [
    {
     "name": "stdout",
     "output_type": "stream",
     "text": [
      "True\n",
      "True\n",
      "False\n"
     ]
    }
   ],
   "source": [
    "a = \"abcde\"\n",
    "\n",
    "print(\"a\" in a)\n",
    "#True\n",
    "\n",
    "print(\"bcd\" in a)\n",
    "#True\n",
    "\n",
    "print(\"acd\" in a)\n",
    "#False"
   ]
  },
  {
   "cell_type": "markdown",
   "id": "5dc2fb2a",
   "metadata": {},
   "source": [
    "### 4.5.1 Exercise 2.3.1: All Red\n",
    "Build a function AllRed that takes a list of strings as input, returns a boolean indicating whether all the strings containing word \"red\".\n",
    "\n",
    "Example: AllRed([\"red hat\", \"a pair of red shoes\", \"three red apples\"]) returns True\n",
    "\n",
    "Example: AllRed([\"red hat\", \"white shirt\", \"black eyes\"]) returns False\n",
    "\n",
    "Example: AllRed([]) returns False"
   ]
  },
  {
   "cell_type": "code",
   "execution_count": 425,
   "id": "d15a9c07",
   "metadata": {},
   "outputs": [],
   "source": [
    "#如果Lst为空，返回false; \n",
    "#对于在Lst中的每个元素s, 如果red不在其中，返回false\n",
    "#否则返回True\n",
    "\n",
    "def AllRed(Lst):\n",
    "    if not Lst:\n",
    "        return False\n",
    "    for s in Lst:\n",
    "        if 'red' not in s:\n",
    "            return False\n",
    "    return True"
   ]
  },
  {
   "cell_type": "code",
   "execution_count": 426,
   "id": "0d70c4ef",
   "metadata": {},
   "outputs": [
    {
     "data": {
      "text/plain": [
       "True"
      ]
     },
     "execution_count": 426,
     "metadata": {},
     "output_type": "execute_result"
    }
   ],
   "source": [
    "AllRed([\"red hat\", \"a pair of red shoes\", \"three red apples\"]) \n",
    "#True"
   ]
  },
  {
   "cell_type": "code",
   "execution_count": 427,
   "id": "9ac6ab26",
   "metadata": {},
   "outputs": [
    {
     "data": {
      "text/plain": [
       "False"
      ]
     },
     "execution_count": 427,
     "metadata": {},
     "output_type": "execute_result"
    }
   ],
   "source": [
    "AllRed([\"red hat\", \"white shirt\", \"black eyes\"])\n",
    "#False"
   ]
  },
  {
   "cell_type": "code",
   "execution_count": 428,
   "id": "3867fece",
   "metadata": {},
   "outputs": [],
   "source": [
    "def AllRed(Lst):\n",
    "    if not Lst:\n",
    "        return False\n",
    "    for s in Lst:\n",
    "        print(\"s=\", s)\n",
    "        if 'red' not in s:\n",
    "            return False\n",
    "    return True"
   ]
  },
  {
   "cell_type": "code",
   "execution_count": 429,
   "id": "28141fb3",
   "metadata": {},
   "outputs": [
    {
     "name": "stdout",
     "output_type": "stream",
     "text": [
      "s= red hat\n",
      "s= a pair of red shoes\n",
      "s= three red apples\n"
     ]
    },
    {
     "data": {
      "text/plain": [
       "True"
      ]
     },
     "execution_count": 429,
     "metadata": {},
     "output_type": "execute_result"
    }
   ],
   "source": [
    "AllRed([\"red hat\", \"a pair of red shoes\", \"three red apples\"]) "
   ]
  },
  {
   "cell_type": "code",
   "execution_count": 430,
   "id": "5336427d",
   "metadata": {},
   "outputs": [
    {
     "name": "stdout",
     "output_type": "stream",
     "text": [
      "s= red hat\n",
      "s= white shirt\n"
     ]
    },
    {
     "data": {
      "text/plain": [
       "False"
      ]
     },
     "execution_count": 430,
     "metadata": {},
     "output_type": "execute_result"
    }
   ],
   "source": [
    "AllRed([\"red hat\", \"white shirt\", \"black eyes\"])"
   ]
  },
  {
   "cell_type": "code",
   "execution_count": 431,
   "id": "571d7e71",
   "metadata": {},
   "outputs": [
    {
     "data": {
      "text/plain": [
       "False"
      ]
     },
     "execution_count": 431,
     "metadata": {},
     "output_type": "execute_result"
    }
   ],
   "source": [
    "AllRed([]) "
   ]
  },
  {
   "cell_type": "markdown",
   "id": "8d363cba",
   "metadata": {},
   "source": [
    "## 4.6 Modifying a string: Replacing characters in a string"
   ]
  },
  {
   "cell_type": "markdown",
   "id": "d357b063",
   "metadata": {},
   "source": [
    "### 4.6.1 Strings are immutable\n",
    "\n",
    "List可以修改，string不可修改\n",
    "一定要改，用.replace function"
   ]
  },
  {
   "cell_type": "code",
   "execution_count": 432,
   "id": "50025665",
   "metadata": {},
   "outputs": [],
   "source": [
    "a = \"abcde\""
   ]
  },
  {
   "cell_type": "code",
   "execution_count": 433,
   "id": "71e17569",
   "metadata": {},
   "outputs": [
    {
     "data": {
      "text/plain": [
       "'a'"
      ]
     },
     "execution_count": 433,
     "metadata": {},
     "output_type": "execute_result"
    }
   ],
   "source": [
    "a[0]\n",
    "#'a'"
   ]
  },
  {
   "cell_type": "code",
   "execution_count": 434,
   "id": "d0b02737",
   "metadata": {},
   "outputs": [],
   "source": [
    "#string is immutable: string不可修改\n",
    "\n",
    "#a[0] = \"f\"\n",
    "\n",
    "# ---------------------------------------------------------------------------\n",
    "# TypeError                                 Traceback (most recent call last)\n",
    "# Cell In[58], line 1\n",
    "# ----> 1 a[0] = \"f\"\n",
    "\n",
    "# TypeError: 'str' object does not support item assignment"
   ]
  },
  {
   "cell_type": "markdown",
   "id": "a43f3469",
   "metadata": {},
   "source": [
    "### 4.6.2 Replace \n",
    "\n",
    "1. a.replace(\"要替代的string\", \"想替成的string\")\n",
    "2. a.replace(\"要替代的string\", \"想替成的string\", 2)：把前两个要提到的string换成新的\n",
    "3. \"想替成的string\" + a[1:]：新string和从第二个元素开始结合\n",
    "4. a[:m] + \"想替成的string\" + a[n:]：前m-1个元素字符 + 新String + n个元素后的字符"
   ]
  },
  {
   "cell_type": "code",
   "execution_count": 435,
   "id": "ea891faf",
   "metadata": {},
   "outputs": [],
   "source": [
    "#之前学到remove没有返回值，pop有返回值\n",
    "#replace有返回值，并没有改变a本身\n",
    "#把新a赋值给a时，才改变a本身"
   ]
  },
  {
   "cell_type": "code",
   "execution_count": 436,
   "id": "b6e6bf15",
   "metadata": {},
   "outputs": [],
   "source": [
    "a = 'abcde'"
   ]
  },
  {
   "cell_type": "code",
   "execution_count": 437,
   "id": "82c218c0",
   "metadata": {},
   "outputs": [
    {
     "name": "stdout",
     "output_type": "stream",
     "text": [
      "abcde\n"
     ]
    }
   ],
   "source": [
    "#直接进行replace操作，不会改变原a\n",
    "a.replace(\"a\", \"f\")\n",
    "#'fbcde'\n",
    "print(a)\n",
    "#abcde"
   ]
  },
  {
   "cell_type": "code",
   "execution_count": 438,
   "id": "9bc45c5d",
   "metadata": {},
   "outputs": [
    {
     "name": "stdout",
     "output_type": "stream",
     "text": [
      "fbcde\n"
     ]
    }
   ],
   "source": [
    "#赋值给a后进行replace操作，会改变原a\n",
    "a = a.replace(\"a\", \"f\")\n",
    "print(a)\n",
    "#fbcde"
   ]
  },
  {
   "cell_type": "code",
   "execution_count": 439,
   "id": "9591bd9b",
   "metadata": {},
   "outputs": [
    {
     "name": "stdout",
     "output_type": "stream",
     "text": [
      "aaaaaa\n"
     ]
    }
   ],
   "source": [
    "a = \"aaaaaa\"\n",
    "print(a)\n",
    "#aaaaaa"
   ]
  },
  {
   "cell_type": "code",
   "execution_count": 440,
   "id": "95d9fe53",
   "metadata": {},
   "outputs": [
    {
     "name": "stdout",
     "output_type": "stream",
     "text": [
      "aaaaaa\n"
     ]
    }
   ],
   "source": [
    "a.replace(\"a\", \"f\")\n",
    "#'ffffff'\n",
    "print(a)\n",
    "#aaaaaa"
   ]
  },
  {
   "cell_type": "code",
   "execution_count": 441,
   "id": "e4011043",
   "metadata": {},
   "outputs": [
    {
     "data": {
      "text/plain": [
       "'ffaaaa'"
      ]
     },
     "execution_count": 441,
     "metadata": {},
     "output_type": "execute_result"
    }
   ],
   "source": [
    "a.replace(\"a\", \"f\", 2)\n",
    "#'ffaaaa'"
   ]
  },
  {
   "cell_type": "code",
   "execution_count": 442,
   "id": "03f606d7",
   "metadata": {},
   "outputs": [
    {
     "data": {
      "text/plain": [
       "'faaaaa'"
      ]
     },
     "execution_count": 442,
     "metadata": {},
     "output_type": "execute_result"
    }
   ],
   "source": [
    "\"f\" + a[1:]\n",
    "#'faaaaa'"
   ]
  },
  {
   "cell_type": "code",
   "execution_count": 443,
   "id": "30b796fd",
   "metadata": {},
   "outputs": [
    {
     "data": {
      "text/plain": [
       "'aaafaa'"
      ]
     },
     "execution_count": 443,
     "metadata": {},
     "output_type": "execute_result"
    }
   ],
   "source": [
    "a[:3] + \"f\" + a[4:]\n",
    "#'aaafaa'"
   ]
  },
  {
   "cell_type": "markdown",
   "id": "942594dd",
   "metadata": {},
   "source": [
    "## 4.7 Modifying a string: Concatenating strings & reversing strings"
   ]
  },
  {
   "cell_type": "markdown",
   "id": "5ae0a5a4",
   "metadata": {},
   "source": [
    "### 4.7.1 Homework\n",
    "\n",
    "1、Exercise 3.4.1: Reverse String\n",
    "\n",
    "2、Exercise 3.4.2: Palindrome"
   ]
  },
  {
   "cell_type": "markdown",
   "id": "d9531279",
   "metadata": {},
   "source": [
    "### 4.7.2  Concatenate Strings"
   ]
  },
  {
   "cell_type": "code",
   "execution_count": 444,
   "id": "905816e9",
   "metadata": {},
   "outputs": [
    {
     "name": "stdout",
     "output_type": "stream",
     "text": [
      "abcde12345\n"
     ]
    }
   ],
   "source": [
    "a = \"abcde\"\n",
    "b = \"12345\"\n",
    "c = a + b \n",
    "print(c)\n",
    "#abcde12345"
   ]
  },
  {
   "cell_type": "markdown",
   "id": "5ebf99cf",
   "metadata": {},
   "source": [
    "### 4.7.3 Reverse a string"
   ]
  },
  {
   "cell_type": "code",
   "execution_count": 445,
   "id": "e6d8ac15",
   "metadata": {},
   "outputs": [],
   "source": [
    "a = \"abcde\""
   ]
  },
  {
   "cell_type": "code",
   "execution_count": 446,
   "id": "792987a1",
   "metadata": {},
   "outputs": [
    {
     "data": {
      "text/plain": [
       "'edcba'"
      ]
     },
     "execution_count": 446,
     "metadata": {},
     "output_type": "execute_result"
    }
   ],
   "source": [
    "a[::-1]\n",
    "#'edcba'"
   ]
  },
  {
   "cell_type": "code",
   "execution_count": 447,
   "id": "a4abdfe7",
   "metadata": {},
   "outputs": [
    {
     "data": {
      "text/plain": [
       "'abcde'"
      ]
     },
     "execution_count": 447,
     "metadata": {},
     "output_type": "execute_result"
    }
   ],
   "source": [
    "a[::]\n",
    "#'abcde'"
   ]
  },
  {
   "cell_type": "code",
   "execution_count": 448,
   "id": "fff8d3ed",
   "metadata": {},
   "outputs": [
    {
     "data": {
      "text/plain": [
       "'ace'"
      ]
     },
     "execution_count": 448,
     "metadata": {},
     "output_type": "execute_result"
    }
   ],
   "source": [
    "a[::2]\n",
    "#'ace'"
   ]
  },
  {
   "cell_type": "markdown",
   "id": "58fcac07",
   "metadata": {},
   "source": [
    "### 4.7.4 Exercise 3.4.1: Reverse String\n",
    "Build a function RevStr to reverse a string.\n",
    "Example: RevStr(\"abcd\") returns “dcba”"
   ]
  },
  {
   "cell_type": "code",
   "execution_count": 449,
   "id": "3b268284",
   "metadata": {},
   "outputs": [],
   "source": [
    "def RevStr(s):\n",
    "    return s[::-1]"
   ]
  },
  {
   "cell_type": "code",
   "execution_count": 450,
   "id": "d51319f2",
   "metadata": {},
   "outputs": [
    {
     "data": {
      "text/plain": [
       "'dcba'"
      ]
     },
     "execution_count": 450,
     "metadata": {},
     "output_type": "execute_result"
    }
   ],
   "source": [
    "RevStr(\"abcd\")\n",
    "#'dcba'"
   ]
  },
  {
   "cell_type": "markdown",
   "id": "8474893c",
   "metadata": {},
   "source": [
    "### 4.7.5 Exercise 3.4.2: Palindrome\n",
    "Build a function isPalindrome which takes a string as an input and returns boolin value telling whether the string is a palindrome.\n",
    "Example: isPalindrome(\"abcba\") returns True\n",
    "Example: isPalindrome(\"abba\") returns True\n",
    "Example: isPalindrome(\"a\") returns True\n",
    "Example: isPalindrome(\"\") returns True\n",
    "Example: isPalindrome(\"abcd\") returns False\n",
    "\n",
    "#回文的最优解：反过来还相等\n",
    "#可能还会再考指针写法"
   ]
  },
  {
   "cell_type": "code",
   "execution_count": 451,
   "id": "106c1998",
   "metadata": {},
   "outputs": [],
   "source": [
    "def isPalindrome(s):\n",
    "    return s == s[::-1]"
   ]
  },
  {
   "cell_type": "code",
   "execution_count": 452,
   "id": "24de2400",
   "metadata": {},
   "outputs": [
    {
     "data": {
      "text/plain": [
       "True"
      ]
     },
     "execution_count": 452,
     "metadata": {},
     "output_type": "execute_result"
    }
   ],
   "source": [
    "isPalindrome(\"abcba\")\n",
    "#True"
   ]
  },
  {
   "cell_type": "code",
   "execution_count": 453,
   "id": "9c63c5af",
   "metadata": {},
   "outputs": [
    {
     "data": {
      "text/plain": [
       "False"
      ]
     },
     "execution_count": 453,
     "metadata": {},
     "output_type": "execute_result"
    }
   ],
   "source": [
    "isPalindrome(\"abcd\")\n",
    "#False"
   ]
  },
  {
   "cell_type": "markdown",
   "id": "39a8e4cd",
   "metadata": {},
   "source": [
    "## 4.8 Transforming a string: String to List & List to String"
   ]
  },
  {
   "cell_type": "markdown",
   "id": "509174b4",
   "metadata": {},
   "source": [
    "### 4.8.1 String to list\n",
    "①使用sorted(string)\n",
    "② a = list(string)；a.sort()"
   ]
  },
  {
   "cell_type": "code",
   "execution_count": 454,
   "id": "5e57e6f8",
   "metadata": {},
   "outputs": [],
   "source": [
    "a = 'baedc'"
   ]
  },
  {
   "cell_type": "code",
   "execution_count": 455,
   "id": "01c74c6d",
   "metadata": {},
   "outputs": [],
   "source": [
    "#a.sort()\n",
    "\n",
    "# ---------------------------------------------------------------------------\n",
    "# AttributeError                            Traceback (most recent call last)\n",
    "# Cell In[117], line 2\n",
    "#       1 a = 'baedc'\n",
    "# ----> 2 a.sort()\n",
    "\n",
    "# AttributeError: 'str' object has no attribute 'sort'"
   ]
  },
  {
   "cell_type": "code",
   "execution_count": 456,
   "id": "cf5606de",
   "metadata": {},
   "outputs": [
    {
     "data": {
      "text/plain": [
       "['a', 'b', 'c', 'd', 'e']"
      ]
     },
     "execution_count": 456,
     "metadata": {},
     "output_type": "execute_result"
    }
   ],
   "source": [
    "#sort string：①使用sorted(string)\n",
    "sorted(a)\n",
    "#['a', 'b', 'c', 'd', 'e']"
   ]
  },
  {
   "cell_type": "code",
   "execution_count": 457,
   "id": "23823a69",
   "metadata": {},
   "outputs": [
    {
     "name": "stdout",
     "output_type": "stream",
     "text": [
      "['b', 'a', 'e', 'd', 'c']\n",
      "['a', 'b', 'c', 'd', 'e']\n"
     ]
    }
   ],
   "source": [
    "#sort string：② a = list(string)；a.sort()\n",
    "a = list(a)\n",
    "print(a)\n",
    "#['b', 'a', 'e', 'd', 'c']\n",
    "a.sort()\n",
    "print(a)\n",
    "#['a', 'b', 'c', 'd', 'e']"
   ]
  },
  {
   "cell_type": "markdown",
   "id": "46e40152",
   "metadata": {},
   "source": [
    "### 4.8.2 List to string\n",
    "\n",
    "①使用string = \"分隔符或为空\".join(list) ②string = str(list)"
   ]
  },
  {
   "cell_type": "code",
   "execution_count": 458,
   "id": "5835babc",
   "metadata": {},
   "outputs": [
    {
     "name": "stdout",
     "output_type": "stream",
     "text": [
      "['a', 'b', 'c', 'd', 'e']\n"
     ]
    }
   ],
   "source": [
    "a = [\"a\", \"b\", \"c\", \"d\", \"e\"]\n",
    "print(a)\n",
    "#['a', 'b', 'c', 'd', 'e']"
   ]
  },
  {
   "cell_type": "code",
   "execution_count": 459,
   "id": "c65bec81",
   "metadata": {},
   "outputs": [
    {
     "name": "stdout",
     "output_type": "stream",
     "text": [
      "abcde\n"
     ]
    }
   ],
   "source": [
    "a = \"\".join(a)\n",
    "print(a)\n",
    "#abcde"
   ]
  },
  {
   "cell_type": "code",
   "execution_count": 460,
   "id": "40893790",
   "metadata": {},
   "outputs": [
    {
     "name": "stdout",
     "output_type": "stream",
     "text": [
      "['a', 'b', 'c', 'd', 'e']\n"
     ]
    }
   ],
   "source": [
    "a = [\"a\", \"b\", \"c\", \"d\", \"e\"]\n",
    "print(a)\n",
    "#['a', 'b', 'c', 'd', 'e']"
   ]
  },
  {
   "cell_type": "code",
   "execution_count": 461,
   "id": "0bf66d70",
   "metadata": {},
   "outputs": [
    {
     "name": "stdout",
     "output_type": "stream",
     "text": [
      "['a', 'b', 'c', 'd', 'e']\n"
     ]
    }
   ],
   "source": [
    "b = str(a)\n",
    "print(b)\n",
    "#['a', 'b', 'c', 'd', 'e']"
   ]
  },
  {
   "cell_type": "code",
   "execution_count": 462,
   "id": "ee24ac3f",
   "metadata": {},
   "outputs": [
    {
     "data": {
      "text/plain": [
       "'['"
      ]
     },
     "execution_count": 462,
     "metadata": {},
     "output_type": "execute_result"
    }
   ],
   "source": [
    "b[0]\n",
    "#'['"
   ]
  },
  {
   "cell_type": "code",
   "execution_count": 463,
   "id": "2d048bd0",
   "metadata": {},
   "outputs": [
    {
     "data": {
      "text/plain": [
       "\"'\""
      ]
     },
     "execution_count": 463,
     "metadata": {},
     "output_type": "execute_result"
    }
   ],
   "source": [
    "b[1]\n",
    "#\"'\""
   ]
  },
  {
   "cell_type": "code",
   "execution_count": 464,
   "id": "7900da55",
   "metadata": {},
   "outputs": [
    {
     "data": {
      "text/plain": [
       "'1'"
      ]
     },
     "execution_count": 464,
     "metadata": {},
     "output_type": "execute_result"
    }
   ],
   "source": [
    "str(1)\n",
    "#'1'"
   ]
  },
  {
   "cell_type": "code",
   "execution_count": 465,
   "id": "e5e7f25e",
   "metadata": {},
   "outputs": [
    {
     "name": "stdout",
     "output_type": "stream",
     "text": [
      "['a', 'b', 'c', 'd', 'e']\n"
     ]
    }
   ],
   "source": [
    "a = [\"a\", \"b\", \"c\", \"d\", \"e\"]\n",
    "print(a)\n",
    "#['a', 'b', 'c', 'd', 'e']"
   ]
  },
  {
   "cell_type": "code",
   "execution_count": 466,
   "id": "376f9f1c",
   "metadata": {},
   "outputs": [
    {
     "name": "stdout",
     "output_type": "stream",
     "text": [
      "a,b,c,d,e\n"
     ]
    }
   ],
   "source": [
    "a = \",\".join(a)\n",
    "print(a)\n",
    "#a,b,c,d,e"
   ]
  },
  {
   "cell_type": "code",
   "execution_count": 467,
   "id": "4d8f34c8",
   "metadata": {},
   "outputs": [
    {
     "data": {
      "text/plain": [
       "'abcde'"
      ]
     },
     "execution_count": 467,
     "metadata": {},
     "output_type": "execute_result"
    }
   ],
   "source": [
    "a = [\"a\", \"b\", \"c\", \"d\", \"e\"]\n",
    "\"\".join(a)\n",
    "#'abcde'"
   ]
  },
  {
   "cell_type": "code",
   "execution_count": 468,
   "id": "9f72262d",
   "metadata": {},
   "outputs": [
    {
     "data": {
      "text/plain": [
       "'a;b;c;d;e'"
      ]
     },
     "execution_count": 468,
     "metadata": {},
     "output_type": "execute_result"
    }
   ],
   "source": [
    "\";\".join(a)\n",
    "#'a;b;c;d;e'"
   ]
  },
  {
   "cell_type": "markdown",
   "id": "65edcac3",
   "metadata": {},
   "source": [
    "### 4.8.3 Split a string"
   ]
  },
  {
   "cell_type": "code",
   "execution_count": 469,
   "id": "5e2af079",
   "metadata": {},
   "outputs": [
    {
     "data": {
      "text/plain": [
       "['a', ' b', ' cd', ' e']"
      ]
     },
     "execution_count": 469,
     "metadata": {},
     "output_type": "execute_result"
    }
   ],
   "source": [
    "a = 'a, b, cd, e'\n",
    "a.split(\",\")\n",
    "#['a', ' b', ' cd', ' e']"
   ]
  },
  {
   "cell_type": "code",
   "execution_count": 470,
   "id": "d0e684be",
   "metadata": {},
   "outputs": [
    {
     "data": {
      "text/plain": [
       "['a', ' b', ' cd', '', ' e']"
      ]
     },
     "execution_count": 470,
     "metadata": {},
     "output_type": "execute_result"
    }
   ],
   "source": [
    "a = 'a, b, cd,, e'\n",
    "a.split(\",\")\n",
    "#['a', ' b', ' cd', '', ' e']"
   ]
  },
  {
   "cell_type": "code",
   "execution_count": 471,
   "id": "9371c019",
   "metadata": {},
   "outputs": [
    {
     "data": {
      "text/plain": [
       "['abcde']"
      ]
     },
     "execution_count": 471,
     "metadata": {},
     "output_type": "execute_result"
    }
   ],
   "source": [
    "a = 'abcde'\n",
    "a.split()\n",
    "#['abcde']"
   ]
  },
  {
   "cell_type": "markdown",
   "id": "306f77e7",
   "metadata": {},
   "source": [
    "## 4.9 Example: Reverse Sentence"
   ]
  },
  {
   "cell_type": "markdown",
   "id": "b78a2fcd",
   "metadata": {},
   "source": [
    "## 4.9.1 Exercise 4.3.1: Reverse Sentence\n",
    "Build a function RevSen to reverse a sentence.\n",
    "Example: RevSen(\"we are all friends\") returns “friends all are we”\n",
    "\n",
    "①list = string.split()：string分开为list\n",
    "\n",
    "②list_2 = list[::-1]：list全部返回来\n",
    "\n",
    "③string = \"\".join(list)：join一起成为新string"
   ]
  },
  {
   "cell_type": "code",
   "execution_count": 472,
   "id": "83d3cf1e",
   "metadata": {},
   "outputs": [],
   "source": [
    "def RevSen(sen):                    #定义RevSen函数，接收sen\n",
    "    words = sen.split()             #words = sen句子拆分成词\n",
    "    return \" \".join(words[::-1])    #return 用空格来合并（倒序的，拆分后每个最小单位仍正序的词"
   ]
  },
  {
   "cell_type": "code",
   "execution_count": 473,
   "id": "43d8c3d0",
   "metadata": {},
   "outputs": [
    {
     "data": {
      "text/plain": [
       "'friends all are we'"
      ]
     },
     "execution_count": 473,
     "metadata": {},
     "output_type": "execute_result"
    }
   ],
   "source": [
    "RevSen(\"we are all friends\")\n",
    "#'friends all are we'"
   ]
  },
  {
   "cell_type": "code",
   "execution_count": 474,
   "id": "bf6b27b5",
   "metadata": {},
   "outputs": [],
   "source": [
    "#分解打印式：\n",
    "def RevSen(sen):\n",
    "    words = sen.split()\n",
    "    print(\"words = \", words)\n",
    "    \n",
    "    new_words = words[::-1]\n",
    "    print(\"new_words\", new_words)\n",
    "    \n",
    "    res = \" \".join(new_words)\n",
    "    print(\"res\", res)\n",
    "    \n",
    "    return res"
   ]
  },
  {
   "cell_type": "code",
   "execution_count": 475,
   "id": "af7e92d4",
   "metadata": {},
   "outputs": [
    {
     "name": "stdout",
     "output_type": "stream",
     "text": [
      "words =  ['we', 'are', 'all', 'friends']\n",
      "new_words ['friends', 'all', 'are', 'we']\n",
      "res friends all are we\n"
     ]
    },
    {
     "data": {
      "text/plain": [
       "'friends all are we'"
      ]
     },
     "execution_count": 475,
     "metadata": {},
     "output_type": "execute_result"
    }
   ],
   "source": [
    "RevSen(\"we are all friends\")\n",
    "# words =  ['we', 'are', 'all', 'friends']\n",
    "# new_words ['friends', 'all', 'are', 'we']\n",
    "# res friends all are we\n",
    "# 'friends all are we'"
   ]
  },
  {
   "cell_type": "markdown",
   "id": "751a1a51",
   "metadata": {},
   "source": [
    "## 4.10 Example: Reverse Words"
   ]
  },
  {
   "cell_type": "markdown",
   "id": "bb03fc24",
   "metadata": {},
   "source": [
    "### 4.10.1 Exercise 4.3.2: Reverse Words\n",
    "Build a function RevWords to reverse each word of a sentence.\n",
    "Example: RevWords(\"we are all friends\") returns “ew era lla sdneirf”\n",
    "\n",
    "①法1：句split成词; 词倒过来；放进res\n",
    "②法2：句split成词; 每个单词倒过来加到新的list；再.join[更简单]"
   ]
  },
  {
   "cell_type": "code",
   "execution_count": 476,
   "id": "829b0c07",
   "metadata": {},
   "outputs": [],
   "source": [
    "#法1：句split成词; 词倒过来；放进res\n",
    "def RevWords(sen):\n",
    "    words = sen.split()\n",
    "    res = \"\"\n",
    "    for word in words:\n",
    "        if res:\n",
    "            res += \" \"\n",
    "        res += word[::-1]\n",
    "    return res"
   ]
  },
  {
   "cell_type": "code",
   "execution_count": 477,
   "id": "3d704721",
   "metadata": {},
   "outputs": [
    {
     "data": {
      "text/plain": [
       "'ew era lla sdneirf'"
      ]
     },
     "execution_count": 477,
     "metadata": {},
     "output_type": "execute_result"
    }
   ],
   "source": [
    "RevWords(\"we are all friends\")\n",
    "#'ew era lla sdneirf'"
   ]
  },
  {
   "cell_type": "code",
   "execution_count": 758,
   "id": "aaaa7f3d",
   "metadata": {},
   "outputs": [],
   "source": [
    "def RevWords(sen):\n",
    "    words = sen.split()                        #拆句成词\n",
    "    print(\"words = \", words)\n",
    "    res = \"\"                                   #result为空\n",
    "    for word in words:                         #对于在words中的word\n",
    "        print(\"word = \", word)\n",
    "        print(\"word[::-1]=\", word[::-1])\n",
    "        if res:                                #如果result不为空\n",
    "            res += \" \"                         #就在result后加个空格\n",
    "        res += word[::-1]                      #将word内词序逆序，加到result中\n",
    "        print(\"res\", res)\n",
    "        print(\"========\")\n",
    "    return res                                 #返回result"
   ]
  },
  {
   "cell_type": "code",
   "execution_count": 759,
   "id": "518cf3c2",
   "metadata": {},
   "outputs": [
    {
     "name": "stdout",
     "output_type": "stream",
     "text": [
      "words =  ['we', 'are', 'all', 'friends']\n",
      "word =  we\n",
      "word[::-1]= ew\n",
      "res ew\n",
      "========\n",
      "word =  are\n",
      "word[::-1]= era\n",
      "res ew era\n",
      "========\n",
      "word =  all\n",
      "word[::-1]= lla\n",
      "res ew era lla\n",
      "========\n",
      "word =  friends\n",
      "word[::-1]= sdneirf\n",
      "res ew era lla sdneirf\n",
      "========\n"
     ]
    },
    {
     "data": {
      "text/plain": [
       "'ew era lla sdneirf'"
      ]
     },
     "execution_count": 759,
     "metadata": {},
     "output_type": "execute_result"
    }
   ],
   "source": [
    "RevWords(\"we are all friends\")"
   ]
  },
  {
   "cell_type": "code",
   "execution_count": 480,
   "id": "0e117965",
   "metadata": {},
   "outputs": [],
   "source": [
    "#法2：句split成词; 每个单词倒过来加到新的list；再join\n",
    "def RevWords(sen):\n",
    "    words = sen.split()\n",
    "    new_words = []\n",
    "    for word in words:\n",
    "        new_words.append(word[::-1])\n",
    "    return \" \".join(new_words)"
   ]
  },
  {
   "cell_type": "code",
   "execution_count": 481,
   "id": "07cc6b27",
   "metadata": {},
   "outputs": [
    {
     "data": {
      "text/plain": [
       "'ew era lla sdneirf'"
      ]
     },
     "execution_count": 481,
     "metadata": {},
     "output_type": "execute_result"
    }
   ],
   "source": [
    "RevWords(\"we are all friends\")\n",
    "#'ewerallasdneirf'"
   ]
  },
  {
   "cell_type": "markdown",
   "id": "f4e967a1",
   "metadata": {},
   "source": [
    "# Unit 5: Boolean"
   ]
  },
  {
   "cell_type": "markdown",
   "id": "6f46d67f",
   "metadata": {},
   "source": [
    "## 5.1 Boolean: Review of Boolean\n",
    "\n",
    "True and False"
   ]
  },
  {
   "cell_type": "code",
   "execution_count": 482,
   "id": "4724fa8d",
   "metadata": {},
   "outputs": [
    {
     "data": {
      "text/plain": [
       "True"
      ]
     },
     "execution_count": 482,
     "metadata": {},
     "output_type": "execute_result"
    }
   ],
   "source": [
    "True"
   ]
  },
  {
   "cell_type": "code",
   "execution_count": 483,
   "id": "78143b59",
   "metadata": {},
   "outputs": [
    {
     "data": {
      "text/plain": [
       "False"
      ]
     },
     "execution_count": 483,
     "metadata": {},
     "output_type": "execute_result"
    }
   ],
   "source": [
    "False"
   ]
  },
  {
   "cell_type": "code",
   "execution_count": 484,
   "id": "8a4d36ea",
   "metadata": {},
   "outputs": [
    {
     "data": {
      "text/plain": [
       "False"
      ]
     },
     "execution_count": 484,
     "metadata": {},
     "output_type": "execute_result"
    }
   ],
   "source": [
    "1 == 2\n",
    "#False"
   ]
  },
  {
   "cell_type": "code",
   "execution_count": 485,
   "id": "02fb0ad1",
   "metadata": {},
   "outputs": [
    {
     "data": {
      "text/plain": [
       "True"
      ]
     },
     "execution_count": 485,
     "metadata": {},
     "output_type": "execute_result"
    }
   ],
   "source": [
    "(1 == 2) == False\n",
    "#True"
   ]
  },
  {
   "cell_type": "code",
   "execution_count": 486,
   "id": "dfbbeab1",
   "metadata": {},
   "outputs": [
    {
     "data": {
      "text/plain": [
       "False"
      ]
     },
     "execution_count": 486,
     "metadata": {},
     "output_type": "execute_result"
    }
   ],
   "source": [
    "not True\n",
    "#False"
   ]
  },
  {
   "cell_type": "code",
   "execution_count": 487,
   "id": "e746d945",
   "metadata": {},
   "outputs": [
    {
     "data": {
      "text/plain": [
       "True"
      ]
     },
     "execution_count": 487,
     "metadata": {},
     "output_type": "execute_result"
    }
   ],
   "source": [
    "not False\n",
    "#True"
   ]
  },
  {
   "cell_type": "code",
   "execution_count": 488,
   "id": "52b6c381",
   "metadata": {},
   "outputs": [],
   "source": [
    "#Boolean function:\n",
    "\n",
    "def boolean_exmaple(boolean):\n",
    "    if boolean:\n",
    "        return \"It is true\"\n",
    "    else:\n",
    "        return \"It is false\""
   ]
  },
  {
   "cell_type": "code",
   "execution_count": 489,
   "id": "55e4aadc",
   "metadata": {},
   "outputs": [
    {
     "data": {
      "text/plain": [
       "'It is true'"
      ]
     },
     "execution_count": 489,
     "metadata": {},
     "output_type": "execute_result"
    }
   ],
   "source": [
    "boolean_exmaple(True)\n",
    "#'It is true'"
   ]
  },
  {
   "cell_type": "code",
   "execution_count": 490,
   "id": "71ba0d5d",
   "metadata": {},
   "outputs": [
    {
     "data": {
      "text/plain": [
       "'It is false'"
      ]
     },
     "execution_count": 490,
     "metadata": {},
     "output_type": "execute_result"
    }
   ],
   "source": [
    "boolean_exmaple(False)\n",
    "#'It is false'"
   ]
  },
  {
   "cell_type": "code",
   "execution_count": 491,
   "id": "ad7c5f40",
   "metadata": {},
   "outputs": [
    {
     "data": {
      "text/plain": [
       "'It is true'"
      ]
     },
     "execution_count": 491,
     "metadata": {},
     "output_type": "execute_result"
    }
   ],
   "source": [
    "boolean_exmaple(2 == 2)\n",
    "#'It is true'"
   ]
  },
  {
   "cell_type": "markdown",
   "id": "c1bc9635",
   "metadata": {},
   "source": [
    "## 5.2 Boolean: Using Integers as Booleans\n",
    "\n",
    "Code\n",
    "\n",
    "Number"
   ]
  },
  {
   "cell_type": "code",
   "execution_count": 492,
   "id": "02316fae",
   "metadata": {},
   "outputs": [],
   "source": [
    "#0就是false, 1就是true\n",
    "#python中其他整数值，即使不直接等于true(eg. -1, 2)，但是可以当做true来用"
   ]
  },
  {
   "cell_type": "code",
   "execution_count": 493,
   "id": "2a7fd6ef",
   "metadata": {},
   "outputs": [],
   "source": [
    "def number_example(num):\n",
    "    if num:\n",
    "        return \"It is true\"\n",
    "    else:\n",
    "        return \"It is false\""
   ]
  },
  {
   "cell_type": "code",
   "execution_count": 494,
   "id": "94d7bef6",
   "metadata": {},
   "outputs": [
    {
     "data": {
      "text/plain": [
       "'It is true'"
      ]
     },
     "execution_count": 494,
     "metadata": {},
     "output_type": "execute_result"
    }
   ],
   "source": [
    "number_example(1)\n",
    "#'It is true'"
   ]
  },
  {
   "cell_type": "code",
   "execution_count": 495,
   "id": "8add0677",
   "metadata": {},
   "outputs": [
    {
     "data": {
      "text/plain": [
       "'It is false'"
      ]
     },
     "execution_count": 495,
     "metadata": {},
     "output_type": "execute_result"
    }
   ],
   "source": [
    "#对整数integer来讲，0就是false。\n",
    "number_example(0)\n",
    "#'It is false'"
   ]
  },
  {
   "cell_type": "code",
   "execution_count": 496,
   "id": "1157b301",
   "metadata": {},
   "outputs": [
    {
     "data": {
      "text/plain": [
       "'It is true'"
      ]
     },
     "execution_count": 496,
     "metadata": {},
     "output_type": "execute_result"
    }
   ],
   "source": [
    "number_example(2)\n",
    "#'It is true'\n",
    "# 2 本身不等于true, 但number_example(2) 可以当做 true来用"
   ]
  },
  {
   "cell_type": "code",
   "execution_count": 497,
   "id": "5d0fae05",
   "metadata": {},
   "outputs": [
    {
     "data": {
      "text/plain": [
       "'It is true'"
      ]
     },
     "execution_count": 497,
     "metadata": {},
     "output_type": "execute_result"
    }
   ],
   "source": [
    "number_example(-1)\n",
    "#'It is true'"
   ]
  },
  {
   "cell_type": "code",
   "execution_count": 498,
   "id": "eda7fb30",
   "metadata": {},
   "outputs": [
    {
     "data": {
      "text/plain": [
       "True"
      ]
     },
     "execution_count": 498,
     "metadata": {},
     "output_type": "execute_result"
    }
   ],
   "source": [
    "1 == True\n",
    "#True"
   ]
  },
  {
   "cell_type": "code",
   "execution_count": 499,
   "id": "a6f32b73",
   "metadata": {},
   "outputs": [
    {
     "data": {
      "text/plain": [
       "False"
      ]
     },
     "execution_count": 499,
     "metadata": {},
     "output_type": "execute_result"
    }
   ],
   "source": [
    "2 == True\n",
    "#False"
   ]
  },
  {
   "cell_type": "code",
   "execution_count": 500,
   "id": "761a8ab1",
   "metadata": {},
   "outputs": [
    {
     "data": {
      "text/plain": [
       "True"
      ]
     },
     "execution_count": 500,
     "metadata": {},
     "output_type": "execute_result"
    }
   ],
   "source": [
    "0 == False\n",
    "#True"
   ]
  },
  {
   "cell_type": "code",
   "execution_count": 501,
   "id": "dd0ec79b",
   "metadata": {},
   "outputs": [
    {
     "data": {
      "text/plain": [
       "False"
      ]
     },
     "execution_count": 501,
     "metadata": {},
     "output_type": "execute_result"
    }
   ],
   "source": [
    "-1 == True\n",
    "#False"
   ]
  },
  {
   "cell_type": "code",
   "execution_count": 502,
   "id": "16369c3d",
   "metadata": {},
   "outputs": [],
   "source": [
    "#应用0会成为false的特殊性质，当num = 0时会退出，所以显示的是num 到 0 ，递减为1的序列\n",
    "def count_down(num):\n",
    "    while num:\n",
    "        print(num)\n",
    "        num -= 1"
   ]
  },
  {
   "cell_type": "code",
   "execution_count": 503,
   "id": "a0f3d56d",
   "metadata": {},
   "outputs": [
    {
     "name": "stdout",
     "output_type": "stream",
     "text": [
      "4\n",
      "3\n",
      "2\n",
      "1\n"
     ]
    }
   ],
   "source": [
    "count_down(4)\n",
    "# 4\n",
    "# 3\n",
    "# 2\n",
    "# 1"
   ]
  },
  {
   "cell_type": "markdown",
   "id": "90776ac7",
   "metadata": {},
   "source": [
    "## 5.3 Boolean: Using Lists as Booleans\n",
    "List"
   ]
  },
  {
   "cell_type": "code",
   "execution_count": 504,
   "id": "ce6d2342",
   "metadata": {},
   "outputs": [],
   "source": [
    "#一个list里，只要有东西（包括0），就返回True；如果为空，返回False\n",
    "def list_example(li):\n",
    "    if li:\n",
    "        return \"It is true\"\n",
    "    else:\n",
    "        return \"It is false\""
   ]
  },
  {
   "cell_type": "code",
   "execution_count": 505,
   "id": "0553f805",
   "metadata": {},
   "outputs": [
    {
     "data": {
      "text/plain": [
       "'It is true'"
      ]
     },
     "execution_count": 505,
     "metadata": {},
     "output_type": "execute_result"
    }
   ],
   "source": [
    "list_example([1, 2, 3, 4])\n",
    "#'It is true'"
   ]
  },
  {
   "cell_type": "code",
   "execution_count": 506,
   "id": "fb8c9d4c",
   "metadata": {},
   "outputs": [
    {
     "data": {
      "text/plain": [
       "'It is true'"
      ]
     },
     "execution_count": 506,
     "metadata": {},
     "output_type": "execute_result"
    }
   ],
   "source": [
    "list_example([0])\n",
    "#'It is true'"
   ]
  },
  {
   "cell_type": "code",
   "execution_count": 507,
   "id": "8a9637c1",
   "metadata": {},
   "outputs": [
    {
     "data": {
      "text/plain": [
       "'It is true'"
      ]
     },
     "execution_count": 507,
     "metadata": {},
     "output_type": "execute_result"
    }
   ],
   "source": [
    "list_example([\"a\", \"b\", \"c\", \"d\"])\n",
    "#'It is true'"
   ]
  },
  {
   "cell_type": "code",
   "execution_count": 508,
   "id": "cac1e82a",
   "metadata": {},
   "outputs": [
    {
     "data": {
      "text/plain": [
       "'It is false'"
      ]
     },
     "execution_count": 508,
     "metadata": {},
     "output_type": "execute_result"
    }
   ],
   "source": [
    "list_example([])\n",
    "#'It is false'"
   ]
  },
  {
   "cell_type": "code",
   "execution_count": 509,
   "id": "f449607b",
   "metadata": {},
   "outputs": [
    {
     "data": {
      "text/plain": [
       "False"
      ]
     },
     "execution_count": 509,
     "metadata": {},
     "output_type": "execute_result"
    }
   ],
   "source": [
    "[1, 2, 3, 4] == True\n",
    "#False"
   ]
  },
  {
   "cell_type": "code",
   "execution_count": 510,
   "id": "633d3b9f",
   "metadata": {},
   "outputs": [
    {
     "data": {
      "text/plain": [
       "False"
      ]
     },
     "execution_count": 510,
     "metadata": {},
     "output_type": "execute_result"
    }
   ],
   "source": [
    "[] == False\n",
    "#False"
   ]
  },
  {
   "cell_type": "code",
   "execution_count": 511,
   "id": "a8eed328",
   "metadata": {},
   "outputs": [],
   "source": [
    "#应用性质，如果list里有东西，就会打印 + pop\n",
    "def pop_out(li):\n",
    "    while li:\n",
    "        print(li)\n",
    "        li.pop()"
   ]
  },
  {
   "cell_type": "code",
   "execution_count": 512,
   "id": "c82d781c",
   "metadata": {},
   "outputs": [
    {
     "name": "stdout",
     "output_type": "stream",
     "text": [
      "[1, 2, 3, 4]\n",
      "[1, 2, 3]\n",
      "[1, 2]\n",
      "[1]\n"
     ]
    }
   ],
   "source": [
    "pop_out([1, 2, 3, 4])\n",
    "# [1, 2, 3, 4]\n",
    "# [1, 2, 3]\n",
    "# [1, 2]\n",
    "# [1]"
   ]
  },
  {
   "cell_type": "markdown",
   "id": "1743bb18",
   "metadata": {},
   "source": [
    "## 5.4 Boolean: Using Strings as Booleans\n",
    "\n",
    "\"\"：echo特效"
   ]
  },
  {
   "cell_type": "code",
   "execution_count": 513,
   "id": "e4577755",
   "metadata": {},
   "outputs": [],
   "source": [
    "def string_example(string):\n",
    "    if string:\n",
    "        return \"It is true\"\n",
    "    else:\n",
    "        return \"It is False\""
   ]
  },
  {
   "cell_type": "code",
   "execution_count": 514,
   "id": "911c76cf",
   "metadata": {},
   "outputs": [
    {
     "data": {
      "text/plain": [
       "'It is true'"
      ]
     },
     "execution_count": 514,
     "metadata": {},
     "output_type": "execute_result"
    }
   ],
   "source": [
    "string_example(\"Techlent\")\n",
    "#'It is true'"
   ]
  },
  {
   "cell_type": "code",
   "execution_count": 515,
   "id": "5915ced3",
   "metadata": {},
   "outputs": [
    {
     "data": {
      "text/plain": [
       "'It is False'"
      ]
     },
     "execution_count": 515,
     "metadata": {},
     "output_type": "execute_result"
    }
   ],
   "source": [
    "string_example(\"\")\n",
    "#'It is False'"
   ]
  },
  {
   "cell_type": "code",
   "execution_count": 516,
   "id": "a1bc5014",
   "metadata": {},
   "outputs": [
    {
     "data": {
      "text/plain": [
       "'It is true'"
      ]
     },
     "execution_count": 516,
     "metadata": {},
     "output_type": "execute_result"
    }
   ],
   "source": [
    "string_example(\" \")\n",
    "#'It is true'"
   ]
  },
  {
   "cell_type": "code",
   "execution_count": 517,
   "id": "b17975a5",
   "metadata": {},
   "outputs": [
    {
     "data": {
      "text/plain": [
       "False"
      ]
     },
     "execution_count": 517,
     "metadata": {},
     "output_type": "execute_result"
    }
   ],
   "source": [
    "\"1234\" == True\n",
    "#False"
   ]
  },
  {
   "cell_type": "code",
   "execution_count": 518,
   "id": "3bf105ea",
   "metadata": {},
   "outputs": [
    {
     "data": {
      "text/plain": [
       "False"
      ]
     },
     "execution_count": 518,
     "metadata": {},
     "output_type": "execute_result"
    }
   ],
   "source": [
    "\"\" == False\n",
    "#False"
   ]
  },
  {
   "cell_type": "code",
   "execution_count": 519,
   "id": "6d68cace",
   "metadata": {},
   "outputs": [],
   "source": [
    "def shrink(string):\n",
    "    while string:\n",
    "        print(string)\n",
    "        string = string[1:]"
   ]
  },
  {
   "cell_type": "code",
   "execution_count": 520,
   "id": "87eb483d",
   "metadata": {},
   "outputs": [
    {
     "name": "stdout",
     "output_type": "stream",
     "text": [
      "Techlent\n",
      "echlent\n",
      "chlent\n",
      "hlent\n",
      "lent\n",
      "ent\n",
      "nt\n",
      "t\n"
     ]
    }
   ],
   "source": [
    "shrink(\"Techlent\")\n",
    "# Techlent\n",
    "# echlent\n",
    "# chlent\n",
    "# hlent\n",
    "# lent\n",
    "# ent\n",
    "# nt\n",
    "# t"
   ]
  },
  {
   "cell_type": "code",
   "execution_count": 521,
   "id": "297c4c60",
   "metadata": {},
   "outputs": [
    {
     "name": "stdout",
     "output_type": "stream",
     "text": [
      "Samoyed\n",
      "amoyed\n",
      "moyed\n",
      "oyed\n",
      "yed\n",
      "ed\n",
      "d\n"
     ]
    }
   ],
   "source": [
    "shrink(\"Samoyed\")"
   ]
  },
  {
   "cell_type": "code",
   "execution_count": 522,
   "id": "02b3a264",
   "metadata": {},
   "outputs": [
    {
     "name": "stdout",
     "output_type": "stream",
     "text": [
      "要 ~ 开 ~ 心 ~ 吖 ~\n",
      "~ 开 ~ 心 ~ 吖 ~\n",
      "开 ~ 心 ~ 吖 ~\n",
      "~ 心 ~ 吖 ~\n",
      "心 ~ 吖 ~\n",
      "~ 吖 ~\n",
      "吖 ~\n",
      "~\n"
     ]
    }
   ],
   "source": [
    "def echo(string):\n",
    "    while string:\n",
    "        print(string)\n",
    "        string = string[2:]\n",
    "        \n",
    "echo(\"要 ~ 开 ~ 心 ~ 吖 ~\")"
   ]
  },
  {
   "cell_type": "markdown",
   "id": "1a48ff88",
   "metadata": {},
   "source": [
    "## 5.5 Built-in functions: Calling A Function\n",
    "\n",
    "Code\n",
    "\n",
    "Function determining whether a number is odd"
   ]
  },
  {
   "cell_type": "code",
   "execution_count": 523,
   "id": "f6a189c7",
   "metadata": {},
   "outputs": [],
   "source": [
    "def is_odd(num):\n",
    "    \"\"\"\n",
    "    This function returns whether a num is odd.\n",
    "    \"\"\"\n",
    "    if num % 2 == 0:             #数字除以2\n",
    "        return False             #如余数 == 0， 则为偶数，故false\n",
    "    else:\n",
    "        return True              #如余数 !== 0， 则为奇数，故true"
   ]
  },
  {
   "cell_type": "code",
   "execution_count": 524,
   "id": "f33a1c31",
   "metadata": {},
   "outputs": [
    {
     "data": {
      "text/plain": [
       "False"
      ]
     },
     "execution_count": 524,
     "metadata": {},
     "output_type": "execute_result"
    }
   ],
   "source": [
    "is_odd(2)\n",
    "#False"
   ]
  },
  {
   "cell_type": "code",
   "execution_count": 525,
   "id": "a2644abc",
   "metadata": {},
   "outputs": [
    {
     "data": {
      "text/plain": [
       "True"
      ]
     },
     "execution_count": 525,
     "metadata": {},
     "output_type": "execute_result"
    }
   ],
   "source": [
    "is_odd(3)\n",
    "#True"
   ]
  },
  {
   "cell_type": "markdown",
   "id": "42eed241",
   "metadata": {},
   "source": [
    "### 5.5.1 Using the function in another function\n",
    "\n",
    "类似于cte table, 使用上方已产生的变量和表名\n",
    "写一个collect所有奇数的函数，将判断奇数的函数，放在里面"
   ]
  },
  {
   "cell_type": "code",
   "execution_count": 526,
   "id": "5c17a2c4",
   "metadata": {},
   "outputs": [],
   "source": [
    "def collect_odds(nums):\n",
    "    \"\"\"\n",
    "    This function returns a list of all the odd numbers in nums\n",
    "    \"\"\"\n",
    "    res = []\n",
    "    for num in nums:\n",
    "        if is_odd(num):\n",
    "            res.append(num)\n",
    "    return res"
   ]
  },
  {
   "cell_type": "code",
   "execution_count": 527,
   "id": "61624afb",
   "metadata": {},
   "outputs": [
    {
     "data": {
      "text/plain": [
       "[1, 3, 5]"
      ]
     },
     "execution_count": 527,
     "metadata": {},
     "output_type": "execute_result"
    }
   ],
   "source": [
    "collect_odds([1, 2, 3, 4, 5])\n",
    "#[1, 3, 5]"
   ]
  },
  {
   "cell_type": "markdown",
   "id": "3c65d987",
   "metadata": {},
   "source": [
    "## 5.6 Import"
   ]
  },
  {
   "cell_type": "markdown",
   "id": "9e486ca4",
   "metadata": {},
   "source": [
    "### 5.6.1 Import is_even function \n",
    "\n",
    "##先下载even.py到所在文件夹，就可以调用even.py中写好的函数，即类似调用numpy, pandas中的函数"
   ]
  },
  {
   "cell_type": "code",
   "execution_count": 528,
   "id": "7e58532c",
   "metadata": {},
   "outputs": [],
   "source": [
    "#even.py中内容：\n",
    "# def is_even(num):\n",
    "#     if num % 2 == 0:\n",
    "#         return True\n",
    "#     else:\n",
    "#         return False"
   ]
  },
  {
   "cell_type": "code",
   "execution_count": 529,
   "id": "ac76f8c0",
   "metadata": {},
   "outputs": [
    {
     "ename": "ModuleNotFoundError",
     "evalue": "No module named 'even'",
     "output_type": "error",
     "traceback": [
      "\u001b[0;31m---------------------------------------------------------------------------\u001b[0m",
      "\u001b[0;31mModuleNotFoundError\u001b[0m                       Traceback (most recent call last)",
      "Cell \u001b[0;32mIn[529], line 1\u001b[0m\n\u001b[0;32m----> 1\u001b[0m \u001b[38;5;28;01mfrom\u001b[39;00m \u001b[38;5;21;01meven\u001b[39;00m \u001b[38;5;28;01mimport\u001b[39;00m is_even\n",
      "\u001b[0;31mModuleNotFoundError\u001b[0m: No module named 'even'"
     ]
    }
   ],
   "source": [
    "from even import is_even"
   ]
  },
  {
   "cell_type": "code",
   "execution_count": null,
   "id": "89342a79",
   "metadata": {},
   "outputs": [],
   "source": [
    "is_even(2)\n",
    "#True"
   ]
  },
  {
   "cell_type": "code",
   "execution_count": null,
   "id": "d753c243",
   "metadata": {},
   "outputs": [],
   "source": [
    "is_even(3)\n",
    "#False"
   ]
  },
  {
   "cell_type": "markdown",
   "id": "4b55ff98",
   "metadata": {},
   "source": [
    "### 5.6.2 Using the imported function in another function"
   ]
  },
  {
   "cell_type": "code",
   "execution_count": null,
   "id": "61f073ea",
   "metadata": {},
   "outputs": [],
   "source": [
    "def collect_evens(nums):\n",
    "    \"\"\"\n",
    "    This function returns a list of all the even numbers in nums.\n",
    "    \"\"\"\n",
    "    res = []\n",
    "    for num in nums:\n",
    "        if is_even(num):\n",
    "            res.append(num)\n",
    "    return res"
   ]
  },
  {
   "cell_type": "code",
   "execution_count": null,
   "id": "a5a3891c",
   "metadata": {},
   "outputs": [],
   "source": [
    "collect_evens([1, 2, 3, 4, 5])\n",
    "#[2, 4]"
   ]
  },
  {
   "cell_type": "markdown",
   "id": "6f54d7ae",
   "metadata": {},
   "source": [
    "### 5.7 Example: Remove Punctuations"
   ]
  },
  {
   "cell_type": "markdown",
   "id": "a637b20d",
   "metadata": {},
   "source": [
    "### 5.7.1 String Module -Built-in functions"
   ]
  },
  {
   "cell_type": "code",
   "execution_count": null,
   "id": "b61f059c",
   "metadata": {},
   "outputs": [],
   "source": [
    "import string"
   ]
  },
  {
   "cell_type": "code",
   "execution_count": null,
   "id": "158daf13",
   "metadata": {},
   "outputs": [],
   "source": [
    "string.ascii_letters\n",
    "#'abcdefghijklmnopqrstuvwxyzABCDEFGHIJKLMNOPQRSTUVWXYZ'"
   ]
  },
  {
   "cell_type": "code",
   "execution_count": null,
   "id": "f75758d7",
   "metadata": {},
   "outputs": [],
   "source": [
    "string.ascii_lowercase\n",
    "#'abcdefghijklmnopqrstuvwxyz'"
   ]
  },
  {
   "cell_type": "code",
   "execution_count": null,
   "id": "54fe00a0",
   "metadata": {},
   "outputs": [],
   "source": [
    "string.digits\n",
    "#'0123456789'"
   ]
  },
  {
   "cell_type": "code",
   "execution_count": null,
   "id": "fd23afbe",
   "metadata": {},
   "outputs": [],
   "source": [
    "string.punctuation\n",
    "#'!\"#$%&\\'()*+,-./:;<=>?@[\\\\]^_`{|}~'"
   ]
  },
  {
   "cell_type": "markdown",
   "id": "507758bd",
   "metadata": {},
   "source": [
    "### 5.7.2 Example: Remove Punctuations\n",
    "\n",
    "Build a function RmPunct to remove punctuations from a string.\n",
    "\n",
    "Example: RmPunct(\"He said, 'that is great!!'\") returns “He said that is great”"
   ]
  },
  {
   "cell_type": "code",
   "execution_count": 753,
   "id": "a9ff2af2",
   "metadata": {},
   "outputs": [],
   "source": [
    "import string\n",
    "def RmPunct(s):                       #RmPunct函数，接收string\n",
    "    res = \"\"                          #result为空\n",
    "    punts = set(string.punctuation)   #punts设置为string的标点\n",
    "    for c in s:                       #对每个在string中的character\n",
    "        print(\"c:\", c)\n",
    "        if c not in punts:            #如果不在punctuation中\n",
    "            res += c                  #就加到result中\n",
    "            print(\"res:\", res)\n",
    "    return res"
   ]
  },
  {
   "cell_type": "code",
   "execution_count": 754,
   "id": "bd082880",
   "metadata": {},
   "outputs": [
    {
     "name": "stdout",
     "output_type": "stream",
     "text": [
      "c: H\n",
      "res: H\n",
      "c: e\n",
      "res: He\n",
      "c:  \n",
      "res: He \n",
      "c: s\n",
      "res: He s\n",
      "c: a\n",
      "res: He sa\n",
      "c: i\n",
      "res: He sai\n",
      "c: d\n",
      "res: He said\n",
      "c: ,\n",
      "c:  \n",
      "res: He said \n",
      "c: '\n",
      "c: t\n",
      "res: He said t\n",
      "c: h\n",
      "res: He said th\n",
      "c: a\n",
      "res: He said tha\n",
      "c: t\n",
      "res: He said that\n",
      "c:  \n",
      "res: He said that \n",
      "c: i\n",
      "res: He said that i\n",
      "c: s\n",
      "res: He said that is\n",
      "c:  \n",
      "res: He said that is \n",
      "c: g\n",
      "res: He said that is g\n",
      "c: r\n",
      "res: He said that is gr\n",
      "c: e\n",
      "res: He said that is gre\n",
      "c: a\n",
      "res: He said that is grea\n",
      "c: t\n",
      "res: He said that is great\n",
      "c: !\n",
      "c: !\n"
     ]
    },
    {
     "data": {
      "text/plain": [
       "'He said that is great'"
      ]
     },
     "execution_count": 754,
     "metadata": {},
     "output_type": "execute_result"
    }
   ],
   "source": [
    "RmPunct(\"He said, 'that is great!!\")\n",
    "#'He said that is great'\n",
    "#走到,空格 '' !! 时，就不会将其加入到result中"
   ]
  },
  {
   "cell_type": "code",
   "execution_count": null,
   "id": "7c5d20bc",
   "metadata": {},
   "outputs": [],
   "source": [
    "RmPunct(\"10001 He said, 'that is great!'\")\n",
    "#'10001 He said that is great'"
   ]
  },
  {
   "cell_type": "markdown",
   "id": "c5a20e5e",
   "metadata": {},
   "source": [
    "## 5.8 Exampes: Capitalize First Letters & Letter Palindrom"
   ]
  },
  {
   "cell_type": "markdown",
   "id": "4449d2c7",
   "metadata": {},
   "source": [
    "### 5.8.1 Code: Capitalize "
   ]
  },
  {
   "cell_type": "code",
   "execution_count": null,
   "id": "0d9bfb19",
   "metadata": {},
   "outputs": [],
   "source": [
    "#大写词：首字母大写\n",
    "\"apple\".capitalize()\n",
    "#'Apple'"
   ]
  },
  {
   "cell_type": "code",
   "execution_count": null,
   "id": "3f0842cf",
   "metadata": {},
   "outputs": [],
   "source": [
    "#大写句子：首字母大写\n",
    "\"this is an apple\".capitalize()\n",
    "#'This is an apple'"
   ]
  },
  {
   "cell_type": "code",
   "execution_count": null,
   "id": "15d72a57",
   "metadata": {},
   "outputs": [],
   "source": [
    "#小写：\n",
    "\"APPLE\".lower()\n",
    "#'apple'"
   ]
  },
  {
   "cell_type": "code",
   "execution_count": null,
   "id": "09d02de0",
   "metadata": {},
   "outputs": [],
   "source": [
    "\"Apple\".lower()\n",
    "#'apple'"
   ]
  },
  {
   "cell_type": "markdown",
   "id": "fe95bd1b",
   "metadata": {},
   "source": [
    "### 5.8.2 Exercise 6.2.1: Capitalize First Letters\n",
    "\n",
    "Build a function CapLett to capitalize the first letter of each word in a sentence.\n",
    "Example: CapLett(\"we are all friends\") returns “We Are All Friends”"
   ]
  },
  {
   "cell_type": "code",
   "execution_count": 720,
   "id": "30597e64",
   "metadata": {},
   "outputs": [],
   "source": [
    "#注意缩进顺序：\n",
    "def CapLett(sen):\n",
    "    res = \"\"                      #设置result为空\n",
    "    for word in sen.split():      #对于在句子拆分状态下的词：\n",
    "        if res:                   #如果result不为空\n",
    "            res += \" \"            #就把每个result中间空格\n",
    "        res += word.capitalize()  #让每个词首字母大写\n",
    "    return res"
   ]
  },
  {
   "cell_type": "code",
   "execution_count": 721,
   "id": "041e1b1b",
   "metadata": {},
   "outputs": [
    {
     "data": {
      "text/plain": [
       "'We Are All Friends'"
      ]
     },
     "execution_count": 721,
     "metadata": {},
     "output_type": "execute_result"
    }
   ],
   "source": [
    "CapLett(\"we are all friends\")\n",
    "#'We Are All Friends'"
   ]
  },
  {
   "cell_type": "code",
   "execution_count": 748,
   "id": "5db85726",
   "metadata": {},
   "outputs": [],
   "source": [
    "#拆解式分解：\n",
    "def CapLett(sen):\n",
    "    res = \"\"                      #设置result为空\n",
    "    for word in sen.split():      #对于在句子拆分状态下的词：\n",
    "        print(\"word:\",word)\n",
    "        if res:                   #如果result不为空\n",
    "            res += \" \"            #就把result后加一个空格\n",
    "            print(\"res with space:\", res)\n",
    "        res += word.capitalize()  #让新词首字母大写，放到result中\n",
    "        print(\"res:\",res)         \n",
    "    return res"
   ]
  },
  {
   "cell_type": "code",
   "execution_count": 749,
   "id": "5a044dbb",
   "metadata": {},
   "outputs": [
    {
     "name": "stdout",
     "output_type": "stream",
     "text": [
      "word: we\n",
      "res: We\n",
      "word: are\n",
      "res with space: We \n",
      "res: We Are\n",
      "word: all\n",
      "res with space: We Are \n",
      "res: We Are All\n",
      "word: friends\n",
      "res with space: We Are All \n",
      "res: We Are All Friends\n"
     ]
    },
    {
     "data": {
      "text/plain": [
       "'We Are All Friends'"
      ]
     },
     "execution_count": 749,
     "metadata": {},
     "output_type": "execute_result"
    }
   ],
   "source": [
    "CapLett(\"we are all friends\")\n",
    "#将句子拆分成词，检索到第一个词是we，因为result为空，所以不加空格，直接大写首字母，放到result里是W\n",
    "#第二个词是are, 因为result已有We，不为空，就将其后加一个空格；让are首字母大写，放到result中"
   ]
  },
  {
   "cell_type": "markdown",
   "id": "0058aed1",
   "metadata": {},
   "source": [
    "### 5.8.3 Lower "
   ]
  },
  {
   "cell_type": "code",
   "execution_count": null,
   "id": "1a58eff1",
   "metadata": {},
   "outputs": [],
   "source": [
    "\"Techlent\".lower()\n",
    "#'techlent'"
   ]
  },
  {
   "cell_type": "code",
   "execution_count": null,
   "id": "02e0aa39",
   "metadata": {},
   "outputs": [],
   "source": [
    "\"TECHLENT\".lower()\n",
    "#'techlent'"
   ]
  },
  {
   "cell_type": "markdown",
   "id": "7cbdd24a",
   "metadata": {},
   "source": [
    "### 5.8.4 Exercise 6.3.1: Letter Palindrome\n",
    "Build a function LettPalind to determine a string is a palindrome or not. We only consider letters this time.\n",
    "\n",
    "Example: LettPalind(\"909@,.\") returns True\n",
    "\n",
    "Example: LettPalind(\"He is Sieh!\") returns True\n",
    "\n",
    "Example: LettPalind(\"His name is Sieh.\") returns False\n",
    "\n",
    "判断一个句子是否是回文"
   ]
  },
  {
   "cell_type": "code",
   "execution_count": null,
   "id": "79b2ab4f",
   "metadata": {},
   "outputs": [],
   "source": [
    "import string\n",
    "def LettPalind(s):\n",
    "    letts = set(string.ascii_lowercase)\n",
    "    s = s.lower()\n",
    "    left = 0\n",
    "    right = len(s) - 1\n",
    "    while left < right:\n",
    "        if s[left] not in letts:\n",
    "            left += 1\n",
    "        elif s[right] not in letts:\n",
    "            right -= 1\n",
    "        elif s[left] == s[right]:\n",
    "            left += 1\n",
    "            right -= 1\n",
    "        else:\n",
    "            return False\n",
    "    return True        "
   ]
  },
  {
   "cell_type": "code",
   "execution_count": null,
   "id": "65604097",
   "metadata": {},
   "outputs": [],
   "source": [
    "LettPalind(\"He is Sieh!\")\n",
    "#True"
   ]
  },
  {
   "cell_type": "code",
   "execution_count": null,
   "id": "80ebe8fc",
   "metadata": {},
   "outputs": [],
   "source": [
    "LettPalind(\"His name is Sieh!\")\n",
    "#False"
   ]
  },
  {
   "cell_type": "markdown",
   "id": "6b775a64",
   "metadata": {},
   "source": [
    "# Unit 6: Dictionary"
   ]
  },
  {
   "cell_type": "markdown",
   "id": "03ae57b1",
   "metadata": {},
   "source": [
    "## 6.1 Introduction to Dict\n",
    "\n",
    "set也是花括号，但set是没有value的dictionary"
   ]
  },
  {
   "cell_type": "code",
   "execution_count": null,
   "id": "7b22416b",
   "metadata": {},
   "outputs": [],
   "source": [
    "a = {\"a\": 1, \"b\": 2, \"c\": 3}\n",
    "print(a)\n",
    "#{'a': 1, 'b': 2, 'c': 3}"
   ]
  },
  {
   "cell_type": "markdown",
   "id": "d43af5fa",
   "metadata": {},
   "source": [
    "### 6.1.1 Get the value with key\n",
    "\n",
    "调用dictionary的key\n",
    "\n",
    "a[\"key\"] = value"
   ]
  },
  {
   "cell_type": "code",
   "execution_count": null,
   "id": "53d51b05",
   "metadata": {},
   "outputs": [],
   "source": [
    "a[\"a\"]\n",
    "#1"
   ]
  },
  {
   "cell_type": "code",
   "execution_count": null,
   "id": "c085c3f5",
   "metadata": {},
   "outputs": [],
   "source": [
    "a[\"b\"]\n",
    "#2"
   ]
  },
  {
   "cell_type": "code",
   "execution_count": null,
   "id": "0f572cfe",
   "metadata": {},
   "outputs": [],
   "source": [
    "#a[\"d\"]\n",
    "\n",
    "# ---------------------------------------------------------------------------\n",
    "# KeyError                                  Traceback (most recent call last)\n",
    "# Cell In[176], line 1\n",
    "# ----> 1 a[\"d\"]\n",
    "\n",
    "# KeyError: 'd'"
   ]
  },
  {
   "cell_type": "markdown",
   "id": "470b4e69",
   "metadata": {},
   "source": [
    "### 6.1.2 Keys have to be unique\n",
    "\n",
    "重复命名的key，将采用最新一次赋值的value"
   ]
  },
  {
   "cell_type": "code",
   "execution_count": null,
   "id": "2b023899",
   "metadata": {},
   "outputs": [],
   "source": [
    "a = {\"a\": 1, \"a\": 2, \"b\": 3}"
   ]
  },
  {
   "cell_type": "code",
   "execution_count": null,
   "id": "a6450dfd",
   "metadata": {},
   "outputs": [],
   "source": [
    "print(a)\n",
    "#{'a': 2, 'b': 3}"
   ]
  },
  {
   "cell_type": "markdown",
   "id": "af2f41bb",
   "metadata": {},
   "source": [
    "### 6.1.3 Values don't have to be unique\n",
    "\n",
    "values不用唯一值\n",
    "\n",
    "可以把一个东西装在两个不同的盒子里面，但是不能一个盒子装两样东西"
   ]
  },
  {
   "cell_type": "code",
   "execution_count": null,
   "id": "c4ee3719",
   "metadata": {},
   "outputs": [],
   "source": [
    "a = {\"a\": 1, \"b\": 1, \"c\":2}"
   ]
  },
  {
   "cell_type": "code",
   "execution_count": null,
   "id": "43a69846",
   "metadata": {},
   "outputs": [],
   "source": [
    "print(a)\n",
    "#{'a': 1, 'b': 1, 'c': 2}"
   ]
  },
  {
   "cell_type": "markdown",
   "id": "6a4be258",
   "metadata": {},
   "source": [
    "### 6.1.4 Check whether a key is in a dictionary\n",
    "\n",
    "看元素是否在dictionary里：\n",
    "\n",
    "print(\"key\" in dict)"
   ]
  },
  {
   "cell_type": "code",
   "execution_count": null,
   "id": "3afa8df6",
   "metadata": {},
   "outputs": [],
   "source": [
    "a = {\"a\": 1, \"b\": 2, \"c\": 3}"
   ]
  },
  {
   "cell_type": "code",
   "execution_count": null,
   "id": "2e2936d0",
   "metadata": {},
   "outputs": [],
   "source": [
    "print(\"c\" in a)\n",
    "#True"
   ]
  },
  {
   "cell_type": "code",
   "execution_count": null,
   "id": "628dfe26",
   "metadata": {},
   "outputs": [],
   "source": [
    "print(\"d\" in a)\n",
    "#False"
   ]
  },
  {
   "cell_type": "markdown",
   "id": "c7f101a2",
   "metadata": {},
   "source": [
    "### 6.1.5 Keys can be either numbers or strings \n",
    "\n",
    "print(a[key]): 返值key上的value"
   ]
  },
  {
   "cell_type": "code",
   "execution_count": null,
   "id": "6125f0f2",
   "metadata": {},
   "outputs": [],
   "source": [
    "a = {2: \"a\", 1: \"b\", \"c\": 3}"
   ]
  },
  {
   "cell_type": "code",
   "execution_count": null,
   "id": "4a4786f5",
   "metadata": {},
   "outputs": [],
   "source": [
    "#print(a[key]): 返值key上的value\n",
    "print(a[2])\n",
    "#a"
   ]
  },
  {
   "cell_type": "code",
   "execution_count": null,
   "id": "7a8b2740",
   "metadata": {},
   "outputs": [],
   "source": [
    "#print(a[key]): 返值key上的value\n",
    "print(a[\"c\"])\n",
    "#3"
   ]
  },
  {
   "cell_type": "code",
   "execution_count": null,
   "id": "fc78a5a2",
   "metadata": {},
   "outputs": [],
   "source": [
    "a = {2:\"a\", 1:\"b\", \"c\":2}"
   ]
  },
  {
   "cell_type": "code",
   "execution_count": null,
   "id": "e3605193",
   "metadata": {},
   "outputs": [],
   "source": [
    "print(a)\n",
    "#{2: 'a', 1: 'b', 'c': 2}"
   ]
  },
  {
   "cell_type": "markdown",
   "id": "6703fc89",
   "metadata": {},
   "source": [
    "## 6.2 Getting Keys & Values from Dict"
   ]
  },
  {
   "cell_type": "markdown",
   "id": "e7e161dd",
   "metadata": {},
   "source": [
    "### 6.2.1 Keys and values"
   ]
  },
  {
   "cell_type": "code",
   "execution_count": null,
   "id": "dc525fee",
   "metadata": {},
   "outputs": [],
   "source": [
    "a = {\"a\":1, \"b\":2, \"c\":3}"
   ]
  },
  {
   "cell_type": "code",
   "execution_count": null,
   "id": "b3bbbfae",
   "metadata": {},
   "outputs": [],
   "source": [
    "print(a)\n",
    "# {'a': 1, 'b': 2, 'c': 3}"
   ]
  },
  {
   "cell_type": "markdown",
   "id": "04ab96ad",
   "metadata": {},
   "source": [
    "### 6.2.2 Get all the keys\n",
    "\n",
    "a.keys() 返回dict_keys(['a', 'b', 'c'])\n",
    "\n",
    "list(a.keys()) 返回['a', 'b', 'c']\n",
    "\n",
    "list(a)返回['a', 'b', 'c']\n",
    "\n",
    "set(a)返回{'a', 'b', 'c'}"
   ]
  },
  {
   "cell_type": "code",
   "execution_count": 530,
   "id": "1ad6ddc9",
   "metadata": {},
   "outputs": [
    {
     "ename": "AttributeError",
     "evalue": "'str' object has no attribute 'keys'",
     "output_type": "error",
     "traceback": [
      "\u001b[0;31m---------------------------------------------------------------------------\u001b[0m",
      "\u001b[0;31mAttributeError\u001b[0m                            Traceback (most recent call last)",
      "Cell \u001b[0;32mIn[530], line 1\u001b[0m\n\u001b[0;32m----> 1\u001b[0m a\u001b[38;5;241m.\u001b[39mkeys()\n",
      "\u001b[0;31mAttributeError\u001b[0m: 'str' object has no attribute 'keys'"
     ]
    }
   ],
   "source": [
    "a.keys()\n",
    "#dict_keys(['a', 'b', 'c'])"
   ]
  },
  {
   "cell_type": "code",
   "execution_count": null,
   "id": "22285dab",
   "metadata": {},
   "outputs": [],
   "source": [
    "list(a.keys())\n",
    "#['a', 'b', 'c']"
   ]
  },
  {
   "cell_type": "code",
   "execution_count": 531,
   "id": "3d991f58",
   "metadata": {},
   "outputs": [
    {
     "data": {
      "text/plain": [
       "['a', 'b', 'c', 'd', 'e']"
      ]
     },
     "execution_count": 531,
     "metadata": {},
     "output_type": "execute_result"
    }
   ],
   "source": [
    "list(a)\n",
    "#['a', 'b', 'c']"
   ]
  },
  {
   "cell_type": "code",
   "execution_count": 532,
   "id": "b7bffc6f",
   "metadata": {},
   "outputs": [
    {
     "data": {
      "text/plain": [
       "{'a', 'b', 'c', 'd', 'e'}"
      ]
     },
     "execution_count": 532,
     "metadata": {},
     "output_type": "execute_result"
    }
   ],
   "source": [
    "set(a)\n",
    "#{'a', 'b', 'c'}"
   ]
  },
  {
   "cell_type": "markdown",
   "id": "ca0ec49b",
   "metadata": {},
   "source": [
    "### 6.2.3 Get all the values\n",
    "\n",
    "a.values()返回([1, 2, 3])\n",
    "\n",
    "list(a.values())返回[1, 2, 3]\n",
    "\n",
    "set(a.values())返回{1, 2, 3}"
   ]
  },
  {
   "cell_type": "code",
   "execution_count": 533,
   "id": "73726e52",
   "metadata": {},
   "outputs": [],
   "source": [
    "a = {\"a\": 1, \"b\": 2, \"c\": 3}"
   ]
  },
  {
   "cell_type": "code",
   "execution_count": 534,
   "id": "683d4b73",
   "metadata": {},
   "outputs": [
    {
     "data": {
      "text/plain": [
       "dict_values([1, 2, 3])"
      ]
     },
     "execution_count": 534,
     "metadata": {},
     "output_type": "execute_result"
    }
   ],
   "source": [
    "a.values()\n",
    "#dict_values([1, 2, 3])"
   ]
  },
  {
   "cell_type": "code",
   "execution_count": 535,
   "id": "49a2c13e",
   "metadata": {},
   "outputs": [
    {
     "data": {
      "text/plain": [
       "[1, 2, 3]"
      ]
     },
     "execution_count": 535,
     "metadata": {},
     "output_type": "execute_result"
    }
   ],
   "source": [
    "list(a.values())\n",
    "#[1, 2, 3]"
   ]
  },
  {
   "cell_type": "code",
   "execution_count": 536,
   "id": "5a8a3699",
   "metadata": {},
   "outputs": [
    {
     "data": {
      "text/plain": [
       "{1, 2, 3}"
      ]
     },
     "execution_count": 536,
     "metadata": {},
     "output_type": "execute_result"
    }
   ],
   "source": [
    "set(a.values())\n",
    "#{1, 2, 3}"
   ]
  },
  {
   "cell_type": "markdown",
   "id": "b595e606",
   "metadata": {},
   "source": [
    "### 6.2.4 Get key-value pairs\n",
    "\n",
    "a.items()返回dict_items([('a', 1), ('b', 2), ('c', 3)])\n",
    "\n",
    "list(a.items())返回[('a', 1), ('b', 2), ('c', 3)]\n",
    "\n",
    "sorted(a.items())，根据key排序，返回[('a', 1), ('b', 2), ('c', 3)]\n",
    "\n",
    "sorted(a.items(), key = lambda x:x[-1], reverse = True)，根据value排序，返回[('c', 3), ('b', 2), ('a', 1)]"
   ]
  },
  {
   "cell_type": "code",
   "execution_count": 537,
   "id": "63c10c4c",
   "metadata": {},
   "outputs": [
    {
     "data": {
      "text/plain": [
       "dict_items([('a', 1), ('b', 2), ('c', 3)])"
      ]
     },
     "execution_count": 537,
     "metadata": {},
     "output_type": "execute_result"
    }
   ],
   "source": [
    "a.items()\n",
    "#dict_items([('a', 1), ('b', 2), ('c', 3)])"
   ]
  },
  {
   "cell_type": "code",
   "execution_count": 538,
   "id": "05262c8a",
   "metadata": {},
   "outputs": [
    {
     "data": {
      "text/plain": [
       "[('a', 1), ('b', 2), ('c', 3)]"
      ]
     },
     "execution_count": 538,
     "metadata": {},
     "output_type": "execute_result"
    }
   ],
   "source": [
    "list(a.items())\n",
    "#[('a', 1), ('b', 2), ('c', 3)]"
   ]
  },
  {
   "cell_type": "code",
   "execution_count": 539,
   "id": "ca406228",
   "metadata": {},
   "outputs": [
    {
     "data": {
      "text/plain": [
       "[('a', 1), ('b', 2), ('c', 3)]"
      ]
     },
     "execution_count": 539,
     "metadata": {},
     "output_type": "execute_result"
    }
   ],
   "source": [
    "sorted(a.items())\n",
    "#[('a', 1), ('b', 2), ('c', 3)]"
   ]
  },
  {
   "cell_type": "code",
   "execution_count": 540,
   "id": "e69e4428",
   "metadata": {},
   "outputs": [
    {
     "data": {
      "text/plain": [
       "[('c', 3), ('b', 2), ('a', 1)]"
      ]
     },
     "execution_count": 540,
     "metadata": {},
     "output_type": "execute_result"
    }
   ],
   "source": [
    "sorted(a.items(), key = lambda x:x[-1], reverse = True)\n",
    "#[('c', 3), ('b', 2), ('a', 1)]"
   ]
  },
  {
   "cell_type": "markdown",
   "id": "d089ff81",
   "metadata": {},
   "source": [
    "## 6.3 Exercise 2.3.1: Key Value Switch\n",
    "key和value互换：\n",
    "Build a function kvSwitch to switch the keys and values of a dictionary.\n",
    "Example: kvSwitch({\"a\": 1, \"b\": 2, \"c\": 3}) returns {1: \"a\", 2: \"b\", 3: \"c\"}"
   ]
  },
  {
   "cell_type": "code",
   "execution_count": 541,
   "id": "7e4e2e89",
   "metadata": {},
   "outputs": [],
   "source": [
    "def kvSwitch(d):\n",
    "    return {v:k for k,v in d.items()}"
   ]
  },
  {
   "cell_type": "code",
   "execution_count": 542,
   "id": "a29112b8",
   "metadata": {},
   "outputs": [
    {
     "data": {
      "text/plain": [
       "{1: 'a', 2: 'b', 3: 'c'}"
      ]
     },
     "execution_count": 542,
     "metadata": {},
     "output_type": "execute_result"
    }
   ],
   "source": [
    "kvSwitch({\"a\": 1, \"b\": 2, \"c\":3})\n",
    "#{1: 'a', 2: 'b', 3: 'c'}"
   ]
  },
  {
   "cell_type": "code",
   "execution_count": 543,
   "id": "0876162f",
   "metadata": {},
   "outputs": [],
   "source": [
    "def kvSwitch(d):\n",
    "    new_dict = {}                      #新字典为空\n",
    "    for k, v in d.items():             #在字典key value pair中，for key, value\n",
    "        new_dict[v] = k                #新字典key = v, value = k\n",
    "    return new_dict"
   ]
  },
  {
   "cell_type": "code",
   "execution_count": 544,
   "id": "aa754d21",
   "metadata": {},
   "outputs": [
    {
     "data": {
      "text/plain": [
       "{1: 'a', 2: 'b', 3: 'c'}"
      ]
     },
     "execution_count": 544,
     "metadata": {},
     "output_type": "execute_result"
    }
   ],
   "source": [
    "kvSwitch({\"a\": 1, \"b\": 2, \"c\": 3})\n",
    "#{1: 'a', 2: 'b', 3: 'c'}"
   ]
  },
  {
   "cell_type": "code",
   "execution_count": 545,
   "id": "ff1670ff",
   "metadata": {},
   "outputs": [],
   "source": [
    "#演示过程：\n",
    "def kvSwitch(d):\n",
    "    new_dict = {}\n",
    "    for k, v in d.items():\n",
    "        new_dict[v] = k\n",
    "        print(\"k=\", k)\n",
    "        print(\"v=\", v)\n",
    "        print(\"new_dict = \", new_dict)\n",
    "        print(\"==\")\n",
    "    return new_dict"
   ]
  },
  {
   "cell_type": "code",
   "execution_count": 546,
   "id": "3b9991ad",
   "metadata": {},
   "outputs": [
    {
     "name": "stdout",
     "output_type": "stream",
     "text": [
      "k= a\n",
      "v= 1\n",
      "new_dict =  {1: 'a'}\n",
      "==\n",
      "k= b\n",
      "v= 2\n",
      "new_dict =  {1: 'a', 2: 'b'}\n",
      "==\n",
      "k= c\n",
      "v= 3\n",
      "new_dict =  {1: 'a', 2: 'b', 3: 'c'}\n",
      "==\n"
     ]
    },
    {
     "data": {
      "text/plain": [
       "{1: 'a', 2: 'b', 3: 'c'}"
      ]
     },
     "execution_count": 546,
     "metadata": {},
     "output_type": "execute_result"
    }
   ],
   "source": [
    "kvSwitch({\"a\": 1, \"b\": 2, \"c\": 3})"
   ]
  },
  {
   "cell_type": "markdown",
   "id": "fe71dcb8",
   "metadata": {},
   "source": [
    "## 6.4 Exercise 2.3.2: Rank Keys by Values\n",
    "按照value大小，排key-value pair，\n",
    "用random forest里有Feature importance, 通过value sort keys；NLP根据重复次数，找到关键词\n",
    "\n",
    "Build a function RankK which takes a dictionary as input returns a list of keys which sorted by their values.\n",
    "Example: RankK({\"a\": 7, \"b\": 5, \"c\": 9}) returns [\"b\", \"a\", \"c\"]"
   ]
  },
  {
   "cell_type": "code",
   "execution_count": 547,
   "id": "055f5237",
   "metadata": {},
   "outputs": [],
   "source": [
    "#法1：\n",
    "def RankK(d):\n",
    "    items = sorted(d.items(), key = lambda x:x[-1])    #key = value\n",
    "    res = []                                           #key返回到list中\n",
    "    for item in items:\n",
    "        res.append(item[0])                            #拿出key填到list中\n",
    "    return res\n",
    "\n",
    "#设置rankK函数，接收dictionary\n",
    "#对于d.items, 根据value进行排序，命名为items\n",
    "#设置result list为空\n",
    "#对于在items中的item，将第一个值（即key），append到result中，返回result"
   ]
  },
  {
   "cell_type": "code",
   "execution_count": 548,
   "id": "193c9b17",
   "metadata": {},
   "outputs": [
    {
     "data": {
      "text/plain": [
       "['b', 'a', 'c']"
      ]
     },
     "execution_count": 548,
     "metadata": {},
     "output_type": "execute_result"
    }
   ],
   "source": [
    "RankK({\"a\": 7, \"b\": 5, \"c\": 9})\n",
    "#['b', 'a', 'c']"
   ]
  },
  {
   "cell_type": "code",
   "execution_count": 549,
   "id": "34ea077a",
   "metadata": {},
   "outputs": [],
   "source": [
    "#法2：\n",
    "def RankK(d):\n",
    "    items = d.items()\n",
    "    print(\"items=\", items)\n",
    "    sorted_items = sorted(items, key = lambda x:x[-1])\n",
    "    print(\"sorted_items=\", sorted_items)\n",
    "    res = []\n",
    "    for item in sorted_items:\n",
    "        res.append(item[0])\n",
    "    return res\n",
    "\n",
    "# 设置rankK函数，接收dictionary\n",
    "# 对于d.items()，根据value的大小，进行排列，命名为sorted_items\n",
    "# 设置result为空集，\n",
    "# 对于sorted_items中的item，取第一个值（即key），返回result list"
   ]
  },
  {
   "cell_type": "code",
   "execution_count": 550,
   "id": "4fe23cc3",
   "metadata": {},
   "outputs": [
    {
     "name": "stdout",
     "output_type": "stream",
     "text": [
      "items= dict_items([('a', 7), ('b', 5), ('c', 9)])\n",
      "sorted_items= [('b', 5), ('a', 7), ('c', 9)]\n"
     ]
    },
    {
     "data": {
      "text/plain": [
       "['b', 'a', 'c']"
      ]
     },
     "execution_count": 550,
     "metadata": {},
     "output_type": "execute_result"
    }
   ],
   "source": [
    "RankK({\"a\": 7, \"b\": 5, \"c\": 9})\n",
    "# items= dict_items([('a', 7), ('b', 5), ('c', 9)])\n",
    "# sorted_items= [('b', 5), ('a', 7), ('c', 9)]\n",
    "# ['b', 'a', 'c']"
   ]
  },
  {
   "cell_type": "markdown",
   "id": "0b36e99b",
   "metadata": {},
   "source": [
    "## 6.5 Zip"
   ]
  },
  {
   "cell_type": "markdown",
   "id": "6aece43a",
   "metadata": {},
   "source": [
    "### 6.5.1 Exercise 2.3.2: Rank Keys by Values\n",
    "Build a function RankK which takes a dictionary as input returns a list of keys which sorted by their values.\n",
    "Example: RankK({\"a\": 7, \"b\": 5, \"c\": 9}) returns [\"b\", \"a\", \"c\"]"
   ]
  },
  {
   "cell_type": "code",
   "execution_count": 551,
   "id": "8f6c6cc3",
   "metadata": {},
   "outputs": [],
   "source": [
    "def RankK(d):\n",
    "    items = sorted(d.items(), key = lambda x:x[-1])  #items拿出，根据value去sort\n",
    "    return list(zip(*items))[0]                      "
   ]
  },
  {
   "cell_type": "code",
   "execution_count": 552,
   "id": "9d54d9eb",
   "metadata": {},
   "outputs": [
    {
     "data": {
      "text/plain": [
       "('b', 'a', 'c')"
      ]
     },
     "execution_count": 552,
     "metadata": {},
     "output_type": "execute_result"
    }
   ],
   "source": [
    "RankK({\"a\": 7, \"b\": 5, \"c\":9})\n",
    "#('b', 'a', 'c')"
   ]
  },
  {
   "cell_type": "code",
   "execution_count": 553,
   "id": "ae403f97",
   "metadata": {},
   "outputs": [],
   "source": [
    "a = {\"a\":7, \"b\":5, \"c\":9}"
   ]
  },
  {
   "cell_type": "code",
   "execution_count": 554,
   "id": "38014f40",
   "metadata": {},
   "outputs": [
    {
     "name": "stdout",
     "output_type": "stream",
     "text": [
      "{'a': 7, 'b': 5, 'c': 9}\n"
     ]
    }
   ],
   "source": [
    "print(a)\n",
    "#{'a': 7, 'b': 5, 'c': 9}"
   ]
  },
  {
   "cell_type": "code",
   "execution_count": 555,
   "id": "d844f8e5",
   "metadata": {},
   "outputs": [],
   "source": [
    "items = sorted(a.items(), key = lambda x:x[-1])"
   ]
  },
  {
   "cell_type": "code",
   "execution_count": 556,
   "id": "b2fda622",
   "metadata": {},
   "outputs": [
    {
     "name": "stdout",
     "output_type": "stream",
     "text": [
      "[('b', 5), ('a', 7), ('c', 9)]\n"
     ]
    }
   ],
   "source": [
    "print(items)\n",
    "#[('b', 5), ('a', 7), ('c', 9)]"
   ]
  },
  {
   "cell_type": "code",
   "execution_count": 557,
   "id": "ca59c0ca",
   "metadata": {},
   "outputs": [
    {
     "data": {
      "text/plain": [
       "<zip at 0x108a487c0>"
      ]
     },
     "execution_count": 557,
     "metadata": {},
     "output_type": "execute_result"
    }
   ],
   "source": [
    "# zip(*)：把里面的内容拆出来了\n",
    "zip(*items)\n",
    "#<zip at 0x22c68e4c700>"
   ]
  },
  {
   "cell_type": "code",
   "execution_count": 558,
   "id": "247671ad",
   "metadata": {},
   "outputs": [
    {
     "data": {
      "text/plain": [
       "[('b', 'a', 'c'), (5, 7, 9)]"
      ]
     },
     "execution_count": 558,
     "metadata": {},
     "output_type": "execute_result"
    }
   ],
   "source": [
    "list(zip(*items))\n",
    "#[('b', 'a', 'c'), (5, 7, 9)]"
   ]
  },
  {
   "cell_type": "code",
   "execution_count": 559,
   "id": "288c63cb",
   "metadata": {},
   "outputs": [
    {
     "data": {
      "text/plain": [
       "('b', 'a', 'c')"
      ]
     },
     "execution_count": 559,
     "metadata": {},
     "output_type": "execute_result"
    }
   ],
   "source": [
    "#拿出zip(*items)中的key：\n",
    "list(zip(*items))[0]\n",
    "#('b', 'a', 'c')"
   ]
  },
  {
   "cell_type": "code",
   "execution_count": 560,
   "id": "649b43ea",
   "metadata": {},
   "outputs": [],
   "source": [
    "a = [1, 2, 3]\n",
    "b = [4, 5, 6]\n",
    "c = list(zip(a, b))"
   ]
  },
  {
   "cell_type": "code",
   "execution_count": 561,
   "id": "c172bd63",
   "metadata": {},
   "outputs": [
    {
     "name": "stdout",
     "output_type": "stream",
     "text": [
      "[(1, 4), (2, 5), (3, 6)]\n"
     ]
    }
   ],
   "source": [
    "print(c)\n",
    "#[(1, 4), (2, 5), (3, 6)]"
   ]
  },
  {
   "cell_type": "code",
   "execution_count": 562,
   "id": "1eed7085",
   "metadata": {},
   "outputs": [
    {
     "data": {
      "text/plain": [
       "[(1, 2, 3), (4, 5, 6)]"
      ]
     },
     "execution_count": 562,
     "metadata": {},
     "output_type": "execute_result"
    }
   ],
   "source": [
    "list(zip(*c))\n",
    "#[(1, 2, 3), (4, 5, 6)]"
   ]
  },
  {
   "cell_type": "code",
   "execution_count": 563,
   "id": "646b6218",
   "metadata": {},
   "outputs": [
    {
     "name": "stdout",
     "output_type": "stream",
     "text": [
      "(1, 4)\n",
      "(2, 5)\n",
      "(3, 6)\n"
     ]
    }
   ],
   "source": [
    "for i in zip(a, b):\n",
    "    print(i)\n",
    "# (1, 4)\n",
    "# (2, 5)\n",
    "# (3, 6)"
   ]
  },
  {
   "cell_type": "markdown",
   "id": "06297059",
   "metadata": {},
   "source": [
    "### 6.5.2 zip(*)的实例"
   ]
  },
  {
   "cell_type": "code",
   "execution_count": 564,
   "id": "2761f426",
   "metadata": {},
   "outputs": [],
   "source": [
    "# a = [x, y, z]\n",
    "# b = [β, γ, Ω]\n",
    "# ①c = [(x, β), (y, γ), (z, Ω)]\n",
    "# ②list(zip(*c)) = [(x, y, z), (β, γ, Ω)]\n",
    "# ③ for i in zip(a, b):\n",
    "#     print(i)\n",
    "# (x, β), (y, γ), (z, Ω)"
   ]
  },
  {
   "cell_type": "markdown",
   "id": "46048913",
   "metadata": {},
   "source": [
    "## 6.6 Solving problems with dictionary"
   ]
  },
  {
   "cell_type": "markdown",
   "id": "ed85db68",
   "metadata": {},
   "source": [
    "### 6.6.1 Example: 3.1 Character Frequency\n",
    "\n",
    "数下每个字符出现的频率，算一段话，word出现了多少次（除了stop word等），出现越多的词，说明越重要。此处考虑字符频率。\n",
    "\n",
    "Build a function ChaFreq to calculate the frequencies of characters in a string. Store the results in a dictionary.\n",
    "Example: ChaFreq(\"techlent\") returns {'c': 1, 'e': 2, 'h': 1, 'l': 1, 'n': 1, 't': 2}"
   ]
  },
  {
   "cell_type": "code",
   "execution_count": 565,
   "id": "07224834",
   "metadata": {},
   "outputs": [],
   "source": [
    "def ChaFreq(s):\n",
    "    res = {}\n",
    "    for c in s:                       #在string中，一个字符一个字符的去过：\n",
    "        if c in res:                  #如果字符在dict中\n",
    "            res[c] += 1               #dict中的Value加1\n",
    "        else:                         #如果字符没在dict中\n",
    "            res[c] = 1                #则把字符加到dict中并让value = 1\n",
    "    return res"
   ]
  },
  {
   "cell_type": "code",
   "execution_count": 566,
   "id": "f4bc9dfe",
   "metadata": {},
   "outputs": [
    {
     "data": {
      "text/plain": [
       "{'t': 2, 'e': 2, 'c': 1, 'h': 1, 'l': 1, 'n': 1}"
      ]
     },
     "execution_count": 566,
     "metadata": {},
     "output_type": "execute_result"
    }
   ],
   "source": [
    "ChaFreq(\"techlent\")\n",
    "#{'t': 2, 'e': 2, 'c': 1, 'h': 1, 'l': 1, 'n': 1}"
   ]
  },
  {
   "cell_type": "code",
   "execution_count": 567,
   "id": "a8db3ab4",
   "metadata": {},
   "outputs": [],
   "source": [
    "def ChaFreq(s):\n",
    "    res = {}\n",
    "    for c in s:\n",
    "        print(\"c =\", c)\n",
    "        if c in res:\n",
    "            res[c] += 1\n",
    "        else:\n",
    "            res[c] = 1\n",
    "        print(\"res\", res)\n",
    "    return res"
   ]
  },
  {
   "cell_type": "code",
   "execution_count": 568,
   "id": "e4e7f420",
   "metadata": {},
   "outputs": [
    {
     "name": "stdout",
     "output_type": "stream",
     "text": [
      "c = t\n",
      "res {'t': 1}\n",
      "c = e\n",
      "res {'t': 1, 'e': 1}\n",
      "c = c\n",
      "res {'t': 1, 'e': 1, 'c': 1}\n",
      "c = h\n",
      "res {'t': 1, 'e': 1, 'c': 1, 'h': 1}\n",
      "c = l\n",
      "res {'t': 1, 'e': 1, 'c': 1, 'h': 1, 'l': 1}\n",
      "c = e\n",
      "res {'t': 1, 'e': 2, 'c': 1, 'h': 1, 'l': 1}\n",
      "c = n\n",
      "res {'t': 1, 'e': 2, 'c': 1, 'h': 1, 'l': 1, 'n': 1}\n",
      "c = t\n",
      "res {'t': 2, 'e': 2, 'c': 1, 'h': 1, 'l': 1, 'n': 1}\n"
     ]
    },
    {
     "data": {
      "text/plain": [
       "{'t': 2, 'e': 2, 'c': 1, 'h': 1, 'l': 1, 'n': 1}"
      ]
     },
     "execution_count": 568,
     "metadata": {},
     "output_type": "execute_result"
    }
   ],
   "source": [
    "ChaFreq(\"techlent\")"
   ]
  },
  {
   "cell_type": "markdown",
   "id": "37adffb3",
   "metadata": {},
   "source": [
    "## 6.7  Example: 3.2 Unique Only\n",
    "\n",
    "写一个函数，看其中是否只包含唯一的字符：\n",
    "Build a function UniqueOnly to detect whether a string only contains unique characters.\n",
    "Example: UniqueOnly(\"techlent\") returns False\n",
    "Example: UniqueOnly(\"abcde\") returns True"
   ]
  },
  {
   "cell_type": "code",
   "execution_count": 569,
   "id": "ebf16c50",
   "metadata": {},
   "outputs": [],
   "source": [
    "def UniqueOnly(s):\n",
    "    tmp = {}\n",
    "    for c in s:\n",
    "        if c in tmp:\n",
    "            return False\n",
    "        else:\n",
    "            tmp[c] = 1\n",
    "    return True"
   ]
  },
  {
   "cell_type": "code",
   "execution_count": 570,
   "id": "4f5a3979",
   "metadata": {},
   "outputs": [
    {
     "data": {
      "text/plain": [
       "False"
      ]
     },
     "execution_count": 570,
     "metadata": {},
     "output_type": "execute_result"
    }
   ],
   "source": [
    "UniqueOnly(\"techlent\")\n",
    "#False"
   ]
  },
  {
   "cell_type": "code",
   "execution_count": 571,
   "id": "47883a2d",
   "metadata": {},
   "outputs": [
    {
     "data": {
      "text/plain": [
       "True"
      ]
     },
     "execution_count": 571,
     "metadata": {},
     "output_type": "execute_result"
    }
   ],
   "source": [
    "UniqueOnly(\"abcde\")\n",
    "#True"
   ]
  },
  {
   "cell_type": "code",
   "execution_count": 572,
   "id": "60901714",
   "metadata": {},
   "outputs": [],
   "source": [
    "def UniqueOnly(s):\n",
    "    tmp = {}\n",
    "    for c in s:\n",
    "        print(\"c =\", c)\n",
    "        if c in tmp:\n",
    "            return False\n",
    "        else:\n",
    "            tmp[c] = 1\n",
    "        print(\"tmp = \", tmp)\n",
    "    return True"
   ]
  },
  {
   "cell_type": "code",
   "execution_count": 573,
   "id": "fc86a43d",
   "metadata": {},
   "outputs": [
    {
     "name": "stdout",
     "output_type": "stream",
     "text": [
      "c = t\n",
      "tmp =  {'t': 1}\n",
      "c = e\n",
      "tmp =  {'t': 1, 'e': 1}\n",
      "c = c\n",
      "tmp =  {'t': 1, 'e': 1, 'c': 1}\n",
      "c = h\n",
      "tmp =  {'t': 1, 'e': 1, 'c': 1, 'h': 1}\n",
      "c = l\n",
      "tmp =  {'t': 1, 'e': 1, 'c': 1, 'h': 1, 'l': 1}\n",
      "c = e\n"
     ]
    },
    {
     "data": {
      "text/plain": [
       "False"
      ]
     },
     "execution_count": 573,
     "metadata": {},
     "output_type": "execute_result"
    }
   ],
   "source": [
    "UniqueOnly(\"techlent\")"
   ]
  },
  {
   "cell_type": "code",
   "execution_count": 574,
   "id": "1a5e7c8b",
   "metadata": {},
   "outputs": [],
   "source": [
    "#法2：[更简单]\n",
    "# set是没有value的dict, 如有重复值，则自动去掉\n",
    "# 如果string长度 = set长度，说明字符都是unique\n",
    "\n",
    "def UniqueOnly(s):\n",
    "    return len(s) == len(set(s))"
   ]
  },
  {
   "cell_type": "code",
   "execution_count": 575,
   "id": "7060c1e9",
   "metadata": {},
   "outputs": [
    {
     "data": {
      "text/plain": [
       "False"
      ]
     },
     "execution_count": 575,
     "metadata": {},
     "output_type": "execute_result"
    }
   ],
   "source": [
    "UniqueOnly(\"techlent\")\n",
    "#False"
   ]
  },
  {
   "cell_type": "code",
   "execution_count": 576,
   "id": "d5d27c5f",
   "metadata": {},
   "outputs": [
    {
     "data": {
      "text/plain": [
       "True"
      ]
     },
     "execution_count": 576,
     "metadata": {},
     "output_type": "execute_result"
    }
   ],
   "source": [
    "UniqueOnly(\"abcde\")\n",
    "#True"
   ]
  },
  {
   "cell_type": "markdown",
   "id": "8840b590",
   "metadata": {},
   "source": [
    "## 6.8 Example: Same Pattern\n",
    "Build a function SamePattern takes two strings as inputs and determines whether they are in the same pattern.\n",
    "\n",
    "Example: SamePattern('egg', 'zoo') returns True\n",
    "\n",
    "Example: SamePattern('abb', 'ab') returns False\n",
    "\n",
    "Example: SamePattern('hello', 'agree') returns False\n",
    "\n",
    "Example: SamePattern('aaa', 'abc') returns False\n",
    "\n",
    "Example: SamePattern('abc', 'aaa') returns False"
   ]
  },
  {
   "cell_type": "code",
   "execution_count": 577,
   "id": "3be522ad",
   "metadata": {},
   "outputs": [],
   "source": [
    "#用dict,第一个单词，每个字符做一个key，第二个单词，每个字符做一个value，去对应：\n",
    "#如果g已经用过了，发现对不上\n",
    "\n",
    "def SamePattern(s1, s2):\n",
    "    if len(s1) != len(s2):\n",
    "        return False\n",
    "    d1 = {}\n",
    "    d2 = {}\n",
    "    for i in range(len(s1)):\n",
    "        if s1[i] in d1:\n",
    "            if d1[s1[i]] != s2[i]:\n",
    "                return False\n",
    "        else:\n",
    "            d1[s1[i]] = s2[i]\n",
    "        \n",
    "        if s2[i] in d2:\n",
    "            if d2[s2[i]] != s1[i]:\n",
    "                return False\n",
    "        else:\n",
    "            d2[s2[i]] = s1[i]\n",
    "    return True"
   ]
  },
  {
   "cell_type": "code",
   "execution_count": 578,
   "id": "60d26a56",
   "metadata": {},
   "outputs": [
    {
     "data": {
      "text/plain": [
       "True"
      ]
     },
     "execution_count": 578,
     "metadata": {},
     "output_type": "execute_result"
    }
   ],
   "source": [
    "SamePattern('egg', 'zoo')\n",
    "#True"
   ]
  },
  {
   "cell_type": "code",
   "execution_count": 579,
   "id": "0f0598a5",
   "metadata": {},
   "outputs": [
    {
     "data": {
      "text/plain": [
       "False"
      ]
     },
     "execution_count": 579,
     "metadata": {},
     "output_type": "execute_result"
    }
   ],
   "source": [
    "SamePattern('abb', 'ab')\n",
    "#False"
   ]
  },
  {
   "cell_type": "code",
   "execution_count": 580,
   "id": "78b2929e",
   "metadata": {},
   "outputs": [
    {
     "data": {
      "text/plain": [
       "False"
      ]
     },
     "execution_count": 580,
     "metadata": {},
     "output_type": "execute_result"
    }
   ],
   "source": [
    "SamePattern('abb', 'aba')\n",
    "#False"
   ]
  },
  {
   "cell_type": "code",
   "execution_count": 581,
   "id": "bd71fd9b",
   "metadata": {},
   "outputs": [
    {
     "data": {
      "text/plain": [
       "False"
      ]
     },
     "execution_count": 581,
     "metadata": {},
     "output_type": "execute_result"
    }
   ],
   "source": [
    "SamePattern('abb', 'bba')\n",
    "#False"
   ]
  },
  {
   "cell_type": "code",
   "execution_count": 582,
   "id": "6115cfe9",
   "metadata": {},
   "outputs": [],
   "source": [
    "def SamePattern(s1, s2):\n",
    "    if len(s1) != len(s2):              #string1和string 2长度不同，直接pass\n",
    "        return False\n",
    "                                        #建立两个dict\n",
    "    d1 = {}\n",
    "    d2 = {}\n",
    "    \n",
    "    for i in range(len(s1)):\n",
    "        print(\"=====\")\n",
    "        print(\"i=\", i)\n",
    "        print(\"s1[i]=\", s1[i])\n",
    "        print(\"s2[i]=\", s2[i])\n",
    "        print(\"d1=\", d1)\n",
    "        print(\"d2=\", d2)\n",
    "        if s1[i] in d1:                 \n",
    "            if d1[s1[i]] != s2[i]:      \n",
    "                return False\n",
    "        else:\n",
    "            d1[s1[i]] = s2[i]\n",
    "            \n",
    "        if s2[i] in d2:\n",
    "            if d2[s2[i]] != s1[i]:\n",
    "                return False\n",
    "        else:\n",
    "            d2[s2[i]] = s1[i]\n",
    "        print(\"new_d1=\", d1)\n",
    "        print(\"new_d2=\", d2)\n",
    "    return True"
   ]
  },
  {
   "cell_type": "code",
   "execution_count": 583,
   "id": "9ca5703e",
   "metadata": {
    "scrolled": true
   },
   "outputs": [
    {
     "name": "stdout",
     "output_type": "stream",
     "text": [
      "=====\n",
      "i= 0\n",
      "s1[i]= e\n",
      "s2[i]= z\n",
      "d1= {}\n",
      "d2= {}\n",
      "new_d1= {'e': 'z'}\n",
      "new_d2= {'z': 'e'}\n",
      "=====\n",
      "i= 1\n",
      "s1[i]= g\n",
      "s2[i]= o\n",
      "d1= {'e': 'z'}\n",
      "d2= {'z': 'e'}\n",
      "new_d1= {'e': 'z', 'g': 'o'}\n",
      "new_d2= {'z': 'e', 'o': 'g'}\n",
      "=====\n",
      "i= 2\n",
      "s1[i]= g\n",
      "s2[i]= o\n",
      "d1= {'e': 'z', 'g': 'o'}\n",
      "d2= {'z': 'e', 'o': 'g'}\n",
      "new_d1= {'e': 'z', 'g': 'o'}\n",
      "new_d2= {'z': 'e', 'o': 'g'}\n"
     ]
    },
    {
     "data": {
      "text/plain": [
       "True"
      ]
     },
     "execution_count": 583,
     "metadata": {},
     "output_type": "execute_result"
    }
   ],
   "source": [
    "SamePattern('egg', 'zoo')\n",
    "#i= 0\n",
    "#先开始为空，找到string1, string2第一个元素，存入d1, d2\n",
    "#d1中e对应z, d2中z对应e\n",
    "#再找到string1, string2第2个元素，存入d1, d2\n",
    "#i = 1\n",
    "#d1中g对应o, d2中o对应g\n",
    "#再找到string1, string2第3个元素，存入d1, d2\n",
    "#d1中g对应o, d2中o对应g\n",
    "#i = 2:\n",
    "#此时s1[i]=g在d1中，看在d1中g所对应的字符，是否是现在的s2[i]即o；因为相等，所以不报错\n",
    "#此时s2[i]=o在d2中，看在d2中o对应的字符，是否是现在的s1[i]即g；因为相等，所以不报错\n",
    "\n"
   ]
  },
  {
   "cell_type": "code",
   "execution_count": 584,
   "id": "906deeb9",
   "metadata": {},
   "outputs": [
    {
     "name": "stdout",
     "output_type": "stream",
     "text": [
      "=====\n",
      "i= 0\n",
      "s1[i]= e\n",
      "s2[i]= z\n",
      "d1= {}\n",
      "d2= {}\n",
      "new_d1= {'e': 'z'}\n",
      "new_d2= {'z': 'e'}\n",
      "=====\n",
      "i= 1\n",
      "s1[i]= g\n",
      "s2[i]= o\n",
      "d1= {'e': 'z'}\n",
      "d2= {'z': 'e'}\n",
      "new_d1= {'e': 'z', 'g': 'o'}\n",
      "new_d2= {'z': 'e', 'o': 'g'}\n",
      "=====\n",
      "i= 2\n",
      "s1[i]= t\n",
      "s2[i]= o\n",
      "d1= {'e': 'z', 'g': 'o'}\n",
      "d2= {'z': 'e', 'o': 'g'}\n"
     ]
    },
    {
     "data": {
      "text/plain": [
       "False"
      ]
     },
     "execution_count": 584,
     "metadata": {},
     "output_type": "execute_result"
    }
   ],
   "source": [
    "SamePattern('egt', 'zoo')\n",
    "#i = 2\n",
    "#s2[i] = o时，s1[i] = t了，与'o':'g'中的g 对应不上，则报错"
   ]
  },
  {
   "cell_type": "markdown",
   "id": "52c4424b",
   "metadata": {},
   "source": [
    "## 6.9 Example: Anagrams\n",
    "\n",
    "字符出现的频率相同\n",
    "\n",
    "Build a function anagrams to determine whether two given strings are anagrams.\n",
    "\n",
    "Example: anagrams('abc', 'cba') returns True\n",
    "\n",
    "Example: anagrams('ab', 'abc') returns False\n",
    "\n",
    "Example: anagrams('abccba', 'aabbbc') returns False\n",
    "\n",
    "Example: anagrams('abccba', 'aabbcc') returns True"
   ]
  },
  {
   "cell_type": "code",
   "execution_count": 585,
   "id": "f4672fb8",
   "metadata": {},
   "outputs": [],
   "source": [
    "def anagrams(s1, s2):\n",
    "    d1 = {}                  #算s1中每个字符出现的频率，如果已有则+1，负责赋值为1\n",
    "    for c in s1:\n",
    "        if c in d1:\n",
    "            d1[c] += 1\n",
    "        else:\n",
    "            d1[c] = 1\n",
    "    for c in s2:             #算s2字符出现频率时用减法\n",
    "        if c in d1 and d1[c] > 0:\n",
    "            d1[c] -= 1\n",
    "        else:\n",
    "            return False\n",
    "    return True"
   ]
  },
  {
   "cell_type": "code",
   "execution_count": 586,
   "id": "d6db5d9b",
   "metadata": {},
   "outputs": [
    {
     "data": {
      "text/plain": [
       "True"
      ]
     },
     "execution_count": 586,
     "metadata": {},
     "output_type": "execute_result"
    }
   ],
   "source": [
    "anagrams('abc', 'cba') \n",
    "#True"
   ]
  },
  {
   "cell_type": "code",
   "execution_count": 587,
   "id": "0a035419",
   "metadata": {},
   "outputs": [
    {
     "data": {
      "text/plain": [
       "False"
      ]
     },
     "execution_count": 587,
     "metadata": {},
     "output_type": "execute_result"
    }
   ],
   "source": [
    "anagrams('ab', 'abc')\n",
    "#False"
   ]
  },
  {
   "cell_type": "code",
   "execution_count": 588,
   "id": "c27f6dd8",
   "metadata": {},
   "outputs": [
    {
     "data": {
      "text/plain": [
       "False"
      ]
     },
     "execution_count": 588,
     "metadata": {},
     "output_type": "execute_result"
    }
   ],
   "source": [
    "anagrams('abccba', 'aabbbc') \n",
    "#False"
   ]
  },
  {
   "cell_type": "code",
   "execution_count": 589,
   "id": "33f04dd4",
   "metadata": {},
   "outputs": [
    {
     "data": {
      "text/plain": [
       "True"
      ]
     },
     "execution_count": 589,
     "metadata": {},
     "output_type": "execute_result"
    }
   ],
   "source": [
    "anagrams('abccba', 'aabbcc')\n",
    "#True"
   ]
  },
  {
   "cell_type": "code",
   "execution_count": 590,
   "id": "da155968",
   "metadata": {},
   "outputs": [],
   "source": [
    "def anagrams(s1, s2):\n",
    "    d1 = {}\n",
    "    \n",
    "    for c in s1:\n",
    "        print(\"c=\", c)\n",
    "        if c in d1:\n",
    "            d1[c] += 1\n",
    "        else:\n",
    "            d1[c] = 1\n",
    "        print(\"d1=\", d1)\n",
    "            \n",
    "    print(\"==\")\n",
    "    \n",
    "    for c in s2:\n",
    "        print(\"c=\", c)\n",
    "        if c in d1 and d1[c] > 0:\n",
    "            d1[c] -= 1\n",
    "        else:\n",
    "            return False \n",
    "        print(\"d1=\", d1)\n",
    "        \n",
    "    return True"
   ]
  },
  {
   "cell_type": "code",
   "execution_count": 591,
   "id": "c5393782",
   "metadata": {},
   "outputs": [
    {
     "name": "stdout",
     "output_type": "stream",
     "text": [
      "c= a\n",
      "d1= {'a': 1}\n",
      "c= b\n",
      "d1= {'a': 1, 'b': 1}\n",
      "c= c\n",
      "d1= {'a': 1, 'b': 1, 'c': 1}\n",
      "c= c\n",
      "d1= {'a': 1, 'b': 1, 'c': 2}\n",
      "c= b\n",
      "d1= {'a': 1, 'b': 2, 'c': 2}\n",
      "c= a\n",
      "d1= {'a': 2, 'b': 2, 'c': 2}\n",
      "==\n",
      "c= a\n",
      "d1= {'a': 1, 'b': 2, 'c': 2}\n",
      "c= a\n",
      "d1= {'a': 0, 'b': 2, 'c': 2}\n",
      "c= b\n",
      "d1= {'a': 0, 'b': 1, 'c': 2}\n",
      "c= b\n",
      "d1= {'a': 0, 'b': 0, 'c': 2}\n",
      "c= c\n",
      "d1= {'a': 0, 'b': 0, 'c': 1}\n",
      "c= c\n",
      "d1= {'a': 0, 'b': 0, 'c': 0}\n"
     ]
    },
    {
     "data": {
      "text/plain": [
       "True"
      ]
     },
     "execution_count": 591,
     "metadata": {},
     "output_type": "execute_result"
    }
   ],
   "source": [
    "anagrams('abccba', 'aabbcc')"
   ]
  },
  {
   "cell_type": "code",
   "execution_count": 592,
   "id": "d34b2fff",
   "metadata": {},
   "outputs": [
    {
     "name": "stdout",
     "output_type": "stream",
     "text": [
      "c= a\n",
      "d1= {'a': 1}\n",
      "c= b\n",
      "d1= {'a': 1, 'b': 1}\n",
      "c= c\n",
      "d1= {'a': 1, 'b': 1, 'c': 1}\n",
      "c= c\n",
      "d1= {'a': 1, 'b': 1, 'c': 2}\n",
      "c= b\n",
      "d1= {'a': 1, 'b': 2, 'c': 2}\n",
      "c= a\n",
      "d1= {'a': 2, 'b': 2, 'c': 2}\n",
      "==\n",
      "c= a\n",
      "d1= {'a': 1, 'b': 2, 'c': 2}\n",
      "c= a\n",
      "d1= {'a': 0, 'b': 2, 'c': 2}\n",
      "c= b\n",
      "d1= {'a': 0, 'b': 1, 'c': 2}\n",
      "c= b\n",
      "d1= {'a': 0, 'b': 0, 'c': 2}\n",
      "c= c\n",
      "d1= {'a': 0, 'b': 0, 'c': 1}\n",
      "c= c\n",
      "d1= {'a': 0, 'b': 0, 'c': 0}\n",
      "c= e\n"
     ]
    },
    {
     "data": {
      "text/plain": [
       "False"
      ]
     },
     "execution_count": 592,
     "metadata": {},
     "output_type": "execute_result"
    }
   ],
   "source": [
    "anagrams('abccba', 'aabbcce')\n",
    "#当e在s2，但没在s1中，无法减时，就报错了"
   ]
  },
  {
   "cell_type": "code",
   "execution_count": 593,
   "id": "28fec09a",
   "metadata": {},
   "outputs": [
    {
     "name": "stdout",
     "output_type": "stream",
     "text": [
      "c= a\n",
      "d1= {'a': 1}\n",
      "c= b\n",
      "d1= {'a': 1, 'b': 1}\n",
      "c= c\n",
      "d1= {'a': 1, 'b': 1, 'c': 1}\n",
      "c= c\n",
      "d1= {'a': 1, 'b': 1, 'c': 2}\n",
      "c= b\n",
      "d1= {'a': 1, 'b': 2, 'c': 2}\n",
      "c= a\n",
      "d1= {'a': 2, 'b': 2, 'c': 2}\n",
      "==\n",
      "c= a\n",
      "d1= {'a': 1, 'b': 2, 'c': 2}\n",
      "c= a\n",
      "d1= {'a': 0, 'b': 2, 'c': 2}\n",
      "c= b\n",
      "d1= {'a': 0, 'b': 1, 'c': 2}\n",
      "c= b\n",
      "d1= {'a': 0, 'b': 0, 'c': 2}\n",
      "c= c\n",
      "d1= {'a': 0, 'b': 0, 'c': 1}\n",
      "c= c\n",
      "d1= {'a': 0, 'b': 0, 'c': 0}\n",
      "c= a\n"
     ]
    },
    {
     "data": {
      "text/plain": [
       "False"
      ]
     },
     "execution_count": 593,
     "metadata": {},
     "output_type": "execute_result"
    }
   ],
   "source": [
    "anagrams('abccba', 'aabbcca')\n",
    "#当读取到s2最后一个a时，因为前面都减完没有可减的了，所以报错"
   ]
  },
  {
   "cell_type": "code",
   "execution_count": 594,
   "id": "4641a1e6",
   "metadata": {},
   "outputs": [],
   "source": [
    "#法2：当sorted(s1) = sorted(s2)时，则两个string, 字符出现频率相同\n",
    "def anagrams(s1, s2):\n",
    "    return sorted(s1) == sorted(s2)"
   ]
  },
  {
   "cell_type": "code",
   "execution_count": 595,
   "id": "25ed4f23",
   "metadata": {},
   "outputs": [
    {
     "data": {
      "text/plain": [
       "True"
      ]
     },
     "execution_count": 595,
     "metadata": {},
     "output_type": "execute_result"
    }
   ],
   "source": [
    "anagrams('abc', 'cba') \n",
    "#True"
   ]
  },
  {
   "cell_type": "code",
   "execution_count": 596,
   "id": "b35cf643",
   "metadata": {},
   "outputs": [
    {
     "data": {
      "text/plain": [
       "False"
      ]
     },
     "execution_count": 596,
     "metadata": {},
     "output_type": "execute_result"
    }
   ],
   "source": [
    "anagrams('ab', 'abc')\n",
    "#False"
   ]
  },
  {
   "cell_type": "markdown",
   "id": "9e8758fd",
   "metadata": {},
   "source": [
    "## 6.10 Example: Two Sum\n",
    "\n",
    "Leetcode第一题：判断给出的list中，有没有两个数相加等于target\n",
    "\n",
    "Build a function TargetSum which takes a list and a target number as inputs. If there are two numbers in the list whose sum equals to the target number, the function returns the indice of the two numbers, otherwise returns -1.\n",
    "\n",
    "Example: TargetDiff([1, 2, 5, 9, 8, 11], 6) returns 0, 2 [1+5=6]\n",
    "\n",
    "Example: TargetDiff([1, 2, 5, 9, 8, 11], 11) returns 1, 3\n",
    "\n",
    "Example: TargetDiff([1, 2, 5, 9, 8, 11], 5) returns -1\n",
    "\n",
    "Example: TargetDiff([1, 2, 5, 9, 8, 11], 14) returns -1"
   ]
  },
  {
   "cell_type": "code",
   "execution_count": 597,
   "id": "9fd2f5e8",
   "metadata": {},
   "outputs": [],
   "source": [
    "#法1：暴力解法\n",
    "#时间复杂度：n * n = n^2\n",
    "\n",
    "def TargetDiff(nums, target):\n",
    "    for i in range(len(nums)):\n",
    "        for j in range(i):\n",
    "            print(\"i=\", i)\n",
    "            print(\"j=\", j)\n",
    "            if (nums[i] + nums[j]) == target:\n",
    "                return j, i\n",
    "    return -1"
   ]
  },
  {
   "cell_type": "code",
   "execution_count": 598,
   "id": "6e9e2679",
   "metadata": {},
   "outputs": [
    {
     "name": "stdout",
     "output_type": "stream",
     "text": [
      "i= 1\n",
      "j= 0\n",
      "i= 2\n",
      "j= 0\n"
     ]
    },
    {
     "data": {
      "text/plain": [
       "(0, 2)"
      ]
     },
     "execution_count": 598,
     "metadata": {},
     "output_type": "execute_result"
    }
   ],
   "source": [
    "TargetDiff([1, 2, 5, 9, 8, 11], 6)\n",
    "# i= 1\n",
    "# j= 0\n",
    "# i= 2\n",
    "# j= 0\n",
    "# (0, 2)"
   ]
  },
  {
   "cell_type": "code",
   "execution_count": 599,
   "id": "dde1977b",
   "metadata": {},
   "outputs": [
    {
     "name": "stdout",
     "output_type": "stream",
     "text": [
      "i= 1\n",
      "j= 0\n",
      "i= 2\n",
      "j= 0\n",
      "i= 2\n",
      "j= 1\n",
      "i= 3\n",
      "j= 0\n",
      "i= 3\n",
      "j= 1\n",
      "i= 3\n",
      "j= 2\n",
      "i= 4\n",
      "j= 0\n",
      "i= 4\n",
      "j= 1\n",
      "i= 4\n",
      "j= 2\n",
      "i= 4\n",
      "j= 3\n",
      "i= 5\n",
      "j= 0\n",
      "i= 5\n",
      "j= 1\n",
      "i= 5\n",
      "j= 2\n",
      "i= 5\n",
      "j= 3\n",
      "i= 5\n",
      "j= 4\n"
     ]
    },
    {
     "data": {
      "text/plain": [
       "-1"
      ]
     },
     "execution_count": 599,
     "metadata": {},
     "output_type": "execute_result"
    }
   ],
   "source": [
    "TargetDiff([1, 2, 5, 9, 8, 11], 5)"
   ]
  },
  {
   "cell_type": "code",
   "execution_count": 3,
   "id": "42b51cf9",
   "metadata": {},
   "outputs": [],
   "source": [
    "def TargetDiff(nums, target):\n",
    "    tmp = {}\n",
    "    for i in range(len(nums)):\n",
    "        print(\"tmp=\", tmp)\n",
    "        if nums[i] in tmp:\n",
    "            return tmp[nums[i]], i\n",
    "        else:\n",
    "            tmp[target - nums[i]] = i\n",
    "    return -1"
   ]
  },
  {
   "cell_type": "code",
   "execution_count": 4,
   "id": "adb2aec6",
   "metadata": {},
   "outputs": [
    {
     "name": "stdout",
     "output_type": "stream",
     "text": [
      "tmp= {}\n",
      "tmp= {5: 0}\n",
      "tmp= {5: 0, 4: 1}\n"
     ]
    },
    {
     "data": {
      "text/plain": [
       "(0, 2)"
      ]
     },
     "execution_count": 4,
     "metadata": {},
     "output_type": "execute_result"
    }
   ],
   "source": [
    "#当target value - nums[i]，放入index中\n",
    "# 当跑道第三个元素时，5已经在dict中了，因为之前6 - 1 = 5，\n",
    "# 那么久把存入的5的index0， 和现在5的index2拿出来即可\n",
    "\n",
    "TargetDiff([1, 2, 5, 9, 8, 11], 6)"
   ]
  },
  {
   "cell_type": "code",
   "execution_count": 602,
   "id": "d9babbb7",
   "metadata": {},
   "outputs": [
    {
     "name": "stdout",
     "output_type": "stream",
     "text": [
      "tmp= {}\n",
      "tmp= {10: 0}\n",
      "tmp= {10: 0, 9: 1}\n",
      "tmp= {10: 0, 9: 1, 6: 2}\n"
     ]
    },
    {
     "data": {
      "text/plain": [
       "(1, 3)"
      ]
     },
     "execution_count": 602,
     "metadata": {},
     "output_type": "execute_result"
    }
   ],
   "source": [
    "TargetDiff([1, 2, 5, 9, 8, 11], 11)"
   ]
  },
  {
   "cell_type": "code",
   "execution_count": 603,
   "id": "4c9d5db4",
   "metadata": {},
   "outputs": [
    {
     "name": "stdout",
     "output_type": "stream",
     "text": [
      "tmp= {}\n",
      "tmp= {4: 0}\n",
      "tmp= {4: 0, 3: 1}\n",
      "tmp= {4: 0, 3: 1, 0: 2}\n",
      "tmp= {4: 0, 3: 1, 0: 2, -4: 3}\n",
      "tmp= {4: 0, 3: 1, 0: 2, -4: 3, -3: 4}\n"
     ]
    },
    {
     "data": {
      "text/plain": [
       "-1"
      ]
     },
     "execution_count": 603,
     "metadata": {},
     "output_type": "execute_result"
    }
   ],
   "source": [
    "TargetDiff([1, 2, 5, 9, 8, 11], 5)"
   ]
  },
  {
   "cell_type": "markdown",
   "id": "e98f4060",
   "metadata": {},
   "source": [
    "# Unit 7 Tuple"
   ]
  },
  {
   "cell_type": "markdown",
   "id": "65678ffc",
   "metadata": {},
   "source": [
    "## 7.1 Tuple"
   ]
  },
  {
   "cell_type": "markdown",
   "id": "4e70855d",
   "metadata": {},
   "source": [
    "### 7.1.1 What is this?"
   ]
  },
  {
   "cell_type": "code",
   "execution_count": 604,
   "id": "d1536086",
   "metadata": {},
   "outputs": [],
   "source": [
    "def tmp_fun(num1, num2):\n",
    "    return num1, num2"
   ]
  },
  {
   "cell_type": "code",
   "execution_count": 605,
   "id": "583fbfd9",
   "metadata": {},
   "outputs": [
    {
     "data": {
      "text/plain": [
       "(1, 2)"
      ]
     },
     "execution_count": 605,
     "metadata": {},
     "output_type": "execute_result"
    }
   ],
   "source": [
    "tmp_fun(1, 2)\n",
    "#(1, 2)"
   ]
  },
  {
   "cell_type": "code",
   "execution_count": 606,
   "id": "9f13292d",
   "metadata": {
    "scrolled": true
   },
   "outputs": [
    {
     "data": {
      "text/plain": [
       "False"
      ]
     },
     "execution_count": 606,
     "metadata": {},
     "output_type": "execute_result"
    }
   ],
   "source": [
    "#返回的是tuple，不是返回list\n",
    "tmp_fun(1, 2) == [1, 2]\n",
    "#False"
   ]
  },
  {
   "cell_type": "code",
   "execution_count": 607,
   "id": "8846085d",
   "metadata": {},
   "outputs": [
    {
     "data": {
      "text/plain": [
       "True"
      ]
     },
     "execution_count": 607,
     "metadata": {},
     "output_type": "execute_result"
    }
   ],
   "source": [
    "#返回的是tuple\n",
    "tmp_fun(1, 2) == (1, 2)\n",
    "#True"
   ]
  },
  {
   "cell_type": "code",
   "execution_count": 608,
   "id": "77778be6",
   "metadata": {},
   "outputs": [
    {
     "data": {
      "text/plain": [
       "('a', [1, 2])"
      ]
     },
     "execution_count": 608,
     "metadata": {},
     "output_type": "execute_result"
    }
   ],
   "source": [
    "tmp_fun(\"a\", [1, 2])\n",
    "#('a', [1, 2])"
   ]
  },
  {
   "cell_type": "markdown",
   "id": "004de774",
   "metadata": {},
   "source": [
    "### 7.1.2 Defining a Tuple"
   ]
  },
  {
   "cell_type": "code",
   "execution_count": 609,
   "id": "7cc226ae",
   "metadata": {},
   "outputs": [],
   "source": [
    "a = (1, 2, 2, 3)"
   ]
  },
  {
   "cell_type": "code",
   "execution_count": 610,
   "id": "7a76f98f",
   "metadata": {},
   "outputs": [
    {
     "name": "stdout",
     "output_type": "stream",
     "text": [
      "(1, 2, 2, 3)\n"
     ]
    }
   ],
   "source": [
    "print(a)\n",
    "#(1, 2, 2, 3)"
   ]
  },
  {
   "cell_type": "code",
   "execution_count": 611,
   "id": "6ac0a10b",
   "metadata": {},
   "outputs": [
    {
     "data": {
      "text/plain": [
       "[1, 2, 2, 3]"
      ]
     },
     "execution_count": 611,
     "metadata": {},
     "output_type": "execute_result"
    }
   ],
   "source": [
    "list(a)\n",
    "#[1, 2, 2, 3]"
   ]
  },
  {
   "cell_type": "code",
   "execution_count": 612,
   "id": "dfc1763f",
   "metadata": {},
   "outputs": [
    {
     "data": {
      "text/plain": [
       "{1, 2, 3}"
      ]
     },
     "execution_count": 612,
     "metadata": {},
     "output_type": "execute_result"
    }
   ],
   "source": [
    "set(a)\n",
    "#{1, 2, 3}"
   ]
  },
  {
   "cell_type": "code",
   "execution_count": 613,
   "id": "c070c62b",
   "metadata": {},
   "outputs": [
    {
     "data": {
      "text/plain": [
       "'(1, 2, 2, 3)'"
      ]
     },
     "execution_count": 613,
     "metadata": {},
     "output_type": "execute_result"
    }
   ],
   "source": [
    "str(a)\n",
    "#'(1, 2, 2, 3)'"
   ]
  },
  {
   "cell_type": "markdown",
   "id": "124e74ae",
   "metadata": {},
   "source": [
    "### 7.1.3 Similarity wit List"
   ]
  },
  {
   "cell_type": "markdown",
   "id": "449d0bdb",
   "metadata": {},
   "source": [
    "#### 7.1.3.1 Getting the length"
   ]
  },
  {
   "cell_type": "code",
   "execution_count": 614,
   "id": "1b7858ae",
   "metadata": {},
   "outputs": [],
   "source": [
    "a = (1, 2, 2, 3)"
   ]
  },
  {
   "cell_type": "code",
   "execution_count": 615,
   "id": "544d4cf9",
   "metadata": {},
   "outputs": [
    {
     "data": {
      "text/plain": [
       "4"
      ]
     },
     "execution_count": 615,
     "metadata": {},
     "output_type": "execute_result"
    }
   ],
   "source": [
    "#与list, set, string 得到长度的方式相同：\n",
    "len(a)\n",
    "#4"
   ]
  },
  {
   "cell_type": "markdown",
   "id": "cce40e9f",
   "metadata": {},
   "source": [
    "#### 7.1.3.2 Getting element(s) "
   ]
  },
  {
   "cell_type": "code",
   "execution_count": 616,
   "id": "de76ef11",
   "metadata": {},
   "outputs": [],
   "source": [
    "a = (1, 2, 2, 3)"
   ]
  },
  {
   "cell_type": "code",
   "execution_count": 617,
   "id": "3cb7c8e0",
   "metadata": {},
   "outputs": [
    {
     "data": {
      "text/plain": [
       "1"
      ]
     },
     "execution_count": 617,
     "metadata": {},
     "output_type": "execute_result"
    }
   ],
   "source": [
    "a[0]\n",
    "#1"
   ]
  },
  {
   "cell_type": "code",
   "execution_count": 618,
   "id": "4e3f7ea2",
   "metadata": {},
   "outputs": [
    {
     "data": {
      "text/plain": [
       "2"
      ]
     },
     "execution_count": 618,
     "metadata": {},
     "output_type": "execute_result"
    }
   ],
   "source": [
    "a[1]\n",
    "#2"
   ]
  },
  {
   "cell_type": "code",
   "execution_count": 619,
   "id": "52ea370f",
   "metadata": {},
   "outputs": [
    {
     "data": {
      "text/plain": [
       "3"
      ]
     },
     "execution_count": 619,
     "metadata": {},
     "output_type": "execute_result"
    }
   ],
   "source": [
    "a[-1]\n",
    "#3"
   ]
  },
  {
   "cell_type": "code",
   "execution_count": 620,
   "id": "e28590b2",
   "metadata": {},
   "outputs": [
    {
     "data": {
      "text/plain": [
       "(2, 2, 3)"
      ]
     },
     "execution_count": 620,
     "metadata": {},
     "output_type": "execute_result"
    }
   ],
   "source": [
    "a[1:]\n",
    "#(2, 2, 3)"
   ]
  },
  {
   "cell_type": "code",
   "execution_count": 621,
   "id": "9614dd60",
   "metadata": {},
   "outputs": [
    {
     "data": {
      "text/plain": [
       "(2, 2)"
      ]
     },
     "execution_count": 621,
     "metadata": {},
     "output_type": "execute_result"
    }
   ],
   "source": [
    "a[1:-1]\n",
    "#(2, 2)"
   ]
  },
  {
   "cell_type": "markdown",
   "id": "d48baad7",
   "metadata": {},
   "source": [
    "#### 7.1.3.3 Concatinating tuples "
   ]
  },
  {
   "cell_type": "code",
   "execution_count": 622,
   "id": "98ecf622",
   "metadata": {},
   "outputs": [
    {
     "data": {
      "text/plain": [
       "(1, 2, 2, 3, 'a', 'b', 'c', 'd')"
      ]
     },
     "execution_count": 622,
     "metadata": {},
     "output_type": "execute_result"
    }
   ],
   "source": [
    "#与连接两个list的方式相同\n",
    "a = (1, 2, 2, 3)\n",
    "b = (\"a\", \"b\", \"c\", \"d\")\n",
    "a + b\n",
    "#(1, 2, 2, 3, 'a', 'b', 'c', 'd')"
   ]
  },
  {
   "cell_type": "markdown",
   "id": "85306661",
   "metadata": {},
   "source": [
    "### 7.1.4 Difference from List "
   ]
  },
  {
   "cell_type": "markdown",
   "id": "41207b0b",
   "metadata": {},
   "source": [
    "#### 7.1.4.1 Lack of many functions"
   ]
  },
  {
   "cell_type": "code",
   "execution_count": 623,
   "id": "ee63dc81",
   "metadata": {},
   "outputs": [],
   "source": [
    "#tuple不能append\n",
    "#a.append(4)\n",
    "\n",
    "# ---------------------------------------------------------------------------\n",
    "# AttributeError                            Traceback (most recent call last)\n",
    "# Cell In[68], line 1\n",
    "# ----> 1 a.append(4)\n",
    "\n",
    "# AttributeError: 'tuple' object has no attribute 'append'"
   ]
  },
  {
   "cell_type": "code",
   "execution_count": 624,
   "id": "2832bc53",
   "metadata": {},
   "outputs": [],
   "source": [
    "#tuple不能remove\n",
    "#a.remove(1)\n",
    "\n",
    "# ---------------------------------------------------------------------------\n",
    "# AttributeError                            Traceback (most recent call last)\n",
    "# Cell In[70], line 1\n",
    "# ----> 1 a.remove(1)\n",
    "\n",
    "# AttributeError: 'tuple' object has no attribute 'remove'"
   ]
  },
  {
   "cell_type": "code",
   "execution_count": 625,
   "id": "6b352833",
   "metadata": {},
   "outputs": [],
   "source": [
    "#tuple不能sort\n",
    "#(1, 2, 3).sort()\n",
    "\n",
    "# ---------------------------------------------------------------------------\n",
    "# AttributeError                            Traceback (most recent call last)\n",
    "# Cell In[72], line 1\n",
    "# ----> 1 (1, 2, 3).sort()\n",
    "\n",
    "# AttributeError: 'tuple' object has no attribute 'sort'"
   ]
  },
  {
   "cell_type": "code",
   "execution_count": 626,
   "id": "97c04231",
   "metadata": {},
   "outputs": [
    {
     "data": {
      "text/plain": [
       "[2, 3, 3]"
      ]
     },
     "execution_count": 626,
     "metadata": {},
     "output_type": "execute_result"
    }
   ],
   "source": [
    "#tuple使用sorted()后变成list\n",
    "sorted((3, 2, 3))\n",
    "#[2, 3, 3]"
   ]
  },
  {
   "cell_type": "markdown",
   "id": "16932e57",
   "metadata": {},
   "source": [
    "#### 7.1.4.2 Immutable "
   ]
  },
  {
   "cell_type": "code",
   "execution_count": 627,
   "id": "d9b476ca",
   "metadata": {},
   "outputs": [],
   "source": [
    "a = (1, 2, 2, 3)"
   ]
  },
  {
   "cell_type": "code",
   "execution_count": 628,
   "id": "f34417c2",
   "metadata": {},
   "outputs": [],
   "source": [
    "#a[0] = 4\n",
    "\n",
    "# ---------------------------------------------------------------------------\n",
    "# TypeError                                 Traceback (most recent call last)\n",
    "# Cell In[78], line 2\n",
    "#       1 a = (1, 2, 2, 3)\n",
    "# ----> 2 a[0] = 4\n",
    "\n",
    "# TypeError: 'tuple' object does not support item assignment"
   ]
  },
  {
   "cell_type": "code",
   "execution_count": 629,
   "id": "8ca52c58",
   "metadata": {},
   "outputs": [
    {
     "data": {
      "text/plain": [
       "{(1, 2), (3, 4)}"
      ]
     },
     "execution_count": 629,
     "metadata": {},
     "output_type": "execute_result"
    }
   ],
   "source": [
    "#tuple可以放在set中\n",
    "{(1, 2), (3, 4)}\n",
    "#{(1, 2), (3, 4)}"
   ]
  },
  {
   "cell_type": "code",
   "execution_count": 630,
   "id": "be0a2eaf",
   "metadata": {},
   "outputs": [
    {
     "data": {
      "text/plain": [
       "{(1, 2)}"
      ]
     },
     "execution_count": 630,
     "metadata": {},
     "output_type": "execute_result"
    }
   ],
   "source": [
    "#tuple可以放在set中是去重的\n",
    "{(1, 2), (1, 2)}\n",
    "# {(1, 2)}"
   ]
  },
  {
   "cell_type": "code",
   "execution_count": 631,
   "id": "24b97728",
   "metadata": {},
   "outputs": [],
   "source": [
    "#list不能放在tuple中\n",
    "#{[1, 2], [3, 4]}\n",
    "\n",
    "# ---------------------------------------------------------------------------\n",
    "# TypeError                                 Traceback (most recent call last)\n",
    "# Cell In[88], line 1\n",
    "# ----> 1 {[1, 2], [3, 4]}\n",
    "\n",
    "# TypeError: unhashable type: 'list'"
   ]
  },
  {
   "cell_type": "code",
   "execution_count": 632,
   "id": "05dfcf59",
   "metadata": {},
   "outputs": [],
   "source": [
    "#set不能放在tuple中\n",
    "#set是没有value的dictionary\n",
    "#{{1, 2}, {3, 4}}\n",
    "\n",
    "# ---------------------------------------------------------------------------\n",
    "# TypeError                                 Traceback (most recent call last)\n",
    "# Cell In[91], line 1\n",
    "# ----> 1 {{1, 2}, {3, 4}}\n",
    "\n",
    "# TypeError: unhashable type: 'set'"
   ]
  },
  {
   "cell_type": "code",
   "execution_count": 633,
   "id": "d8d07fc8",
   "metadata": {},
   "outputs": [
    {
     "data": {
      "text/plain": [
       "{(1, 2): 3, ('a', 'b', 'c'): 'd'}"
      ]
     },
     "execution_count": 633,
     "metadata": {},
     "output_type": "execute_result"
    }
   ],
   "source": [
    "#在dictionary中，tuple可以做key\n",
    "\n",
    "{(1, 2):3, (\"a\", \"b\", \"c\"):\"d\"}\n",
    "#{(1, 2): 3, ('a', 'b', 'c'): 'd'}"
   ]
  },
  {
   "cell_type": "code",
   "execution_count": 634,
   "id": "8038c5ac",
   "metadata": {},
   "outputs": [],
   "source": [
    "#在dictionary中，list不可以做key\n",
    "\n",
    "#{[1, 2]:3, [\"a\", \"b\", \"c\"]:\"d\"}\n",
    "\n",
    "# ---------------------------------------------------------------------------\n",
    "# TypeError                                 Traceback (most recent call last)\n",
    "# Cell In[97], line 1\n",
    "# ----> 1 {[1, 2]:3, [\"a\", \"b\", \"c\"]:\"d\"}\n",
    "\n",
    "# TypeError: unhashable type: 'list'"
   ]
  },
  {
   "cell_type": "markdown",
   "id": "2190566f",
   "metadata": {},
   "source": [
    "## 7.2 Format"
   ]
  },
  {
   "cell_type": "markdown",
   "id": "63898e02",
   "metadata": {},
   "source": [
    "### 7.2.1 Using format to output pretty strings"
   ]
  },
  {
   "cell_type": "markdown",
   "id": "2d684b6d",
   "metadata": {},
   "source": [
    "### 7.2.2 Example 1:\n",
    "\n",
    "Write a function which takes a name string as the input and outputs a self-introduction string “Hello, my name is {name}.”"
   ]
  },
  {
   "cell_type": "code",
   "execution_count": 635,
   "id": "3b21c23a",
   "metadata": {},
   "outputs": [],
   "source": [
    "#返回句子+变量\n",
    "#return \"{}\".format(变量)\n",
    "def introduction(name):\n",
    "    return \"Hello, my name is {}.\".format(name)"
   ]
  },
  {
   "cell_type": "code",
   "execution_count": 636,
   "id": "15ff8259",
   "metadata": {},
   "outputs": [
    {
     "data": {
      "text/plain": [
       "'Hello, my name is ICBer.'"
      ]
     },
     "execution_count": 636,
     "metadata": {},
     "output_type": "execute_result"
    }
   ],
   "source": [
    "introduction(\"ICBer\")"
   ]
  },
  {
   "cell_type": "markdown",
   "id": "b43888ef",
   "metadata": {},
   "source": [
    "### 7.2.3 Example 2: \n",
    "\n",
    "Write a function which outputs a text string to remind about an appointment. The text string includes the name of the customer and the meeting time."
   ]
  },
  {
   "cell_type": "code",
   "execution_count": 637,
   "id": "87d94152",
   "metadata": {},
   "outputs": [],
   "source": [
    "#按顺序多个变量放入句子中\n",
    "#return \"{} {} {}\".format(变量1，变量2，变量3)\n",
    "def appointment(customer_name, hour, minute):\n",
    "    return \"{} will meet you at {}:{}.\".format(customer_name, hour, minute)"
   ]
  },
  {
   "cell_type": "code",
   "execution_count": 638,
   "id": "99fe7667",
   "metadata": {},
   "outputs": [
    {
     "data": {
      "text/plain": [
       "'ICBer will meet you at 12:12.'"
      ]
     },
     "execution_count": 638,
     "metadata": {},
     "output_type": "execute_result"
    }
   ],
   "source": [
    "appointment(\"ICBer\", 12, 12)"
   ]
  },
  {
   "cell_type": "code",
   "execution_count": 639,
   "id": "7d8d565e",
   "metadata": {},
   "outputs": [],
   "source": [
    "#在写报错log中，常用此种形式"
   ]
  },
  {
   "cell_type": "markdown",
   "id": "7741f496",
   "metadata": {},
   "source": [
    "### 7.2.4 Example 3: \n",
    "Write a function which outputs division statement"
   ]
  },
  {
   "cell_type": "code",
   "execution_count": 640,
   "id": "1a9feb15",
   "metadata": {},
   "outputs": [],
   "source": [
    "#equals {} 返回一连串的数字\n",
    "def divide(num1, num2):\n",
    "    result = num1 / num2\n",
    "    return \"{} divided by {} equals {}\".format(num1, num2, result)"
   ]
  },
  {
   "cell_type": "code",
   "execution_count": 641,
   "id": "0adefb03",
   "metadata": {},
   "outputs": [
    {
     "data": {
      "text/plain": [
       "'10 divided by 2 equals 5.0'"
      ]
     },
     "execution_count": 641,
     "metadata": {},
     "output_type": "execute_result"
    }
   ],
   "source": [
    "divide(10, 2)\n",
    "#'10 divided by 2 equals 5.0'"
   ]
  },
  {
   "cell_type": "code",
   "execution_count": 642,
   "id": "a676509d",
   "metadata": {},
   "outputs": [
    {
     "data": {
      "text/plain": [
       "'7 divided by 3 equals 2.3333333333333335'"
      ]
     },
     "execution_count": 642,
     "metadata": {},
     "output_type": "execute_result"
    }
   ],
   "source": [
    "divide(7, 3)\n",
    "#'7 divided by 3 equals 2.3333333333333335'"
   ]
  },
  {
   "cell_type": "code",
   "execution_count": 643,
   "id": "2ee1d0c0",
   "metadata": {},
   "outputs": [],
   "source": [
    "#f表示float number, 2表示小数点后面，只要2个两位数\n",
    "#equals {:.2f} 返回保留两位小数\n",
    "def divide_float(num1, num2):\n",
    "    result = num1 / num2\n",
    "    return \"{} divided by {} equals {:.2f}\".format(num1, num2, result)"
   ]
  },
  {
   "cell_type": "code",
   "execution_count": 644,
   "id": "b03bd136",
   "metadata": {},
   "outputs": [
    {
     "data": {
      "text/plain": [
       "'10 divided by 2 equals 5.00'"
      ]
     },
     "execution_count": 644,
     "metadata": {},
     "output_type": "execute_result"
    }
   ],
   "source": [
    "divide_float(10, 2)"
   ]
  },
  {
   "cell_type": "code",
   "execution_count": 645,
   "id": "2b036a66",
   "metadata": {},
   "outputs": [
    {
     "data": {
      "text/plain": [
       "'7 divided by 3 equals 2.33'"
      ]
     },
     "execution_count": 645,
     "metadata": {},
     "output_type": "execute_result"
    }
   ],
   "source": [
    "divide_float(7, 3)"
   ]
  },
  {
   "cell_type": "code",
   "execution_count": 646,
   "id": "82abbed6",
   "metadata": {},
   "outputs": [],
   "source": [
    "def divide_float(num1, num2):\n",
    "    result = num1 / num2\n",
    "    return \"{0} divided by {1} equals {2:.2f}\".format(num1, num2, result)    "
   ]
  },
  {
   "cell_type": "code",
   "execution_count": 647,
   "id": "d1423fa7",
   "metadata": {},
   "outputs": [
    {
     "data": {
      "text/plain": [
       "'10 divided by 2 equals 5.00'"
      ]
     },
     "execution_count": 647,
     "metadata": {},
     "output_type": "execute_result"
    }
   ],
   "source": [
    "divide_float(10, 2)\n",
    "#'10 divided by 2 equals 5.00'"
   ]
  },
  {
   "cell_type": "code",
   "execution_count": 648,
   "id": "6907050e",
   "metadata": {},
   "outputs": [],
   "source": [
    "def divide_float(num1, num2):\n",
    "    result = num1 / num2\n",
    "    return \"{2} divided by {1} equals {0:.2f}\".format(num1, num2, result)  "
   ]
  },
  {
   "cell_type": "code",
   "execution_count": 649,
   "id": "0d53c853",
   "metadata": {
    "scrolled": true
   },
   "outputs": [
    {
     "data": {
      "text/plain": [
       "'5.0 divided by 2 equals 10.00'"
      ]
     },
     "execution_count": 649,
     "metadata": {},
     "output_type": "execute_result"
    }
   ],
   "source": [
    "# {2}第三个元素 = 10/2 = 5\n",
    "# {1}第二个元素 = 2\n",
    "# {0}第一个元素 = 10\n",
    "\n",
    "divide_float(10, 2)\n",
    "#'5.0 divided by 2 equals 10.00'"
   ]
  },
  {
   "cell_type": "code",
   "execution_count": 650,
   "id": "7904c53e",
   "metadata": {},
   "outputs": [],
   "source": [
    "def divide_float(num1, num2):\n",
    "    result = num1 / num2\n",
    "    return \"{0} divided by {1} equals {2:.2f}. {0} is the number being divided.\".format(num1, num2, result)"
   ]
  },
  {
   "cell_type": "code",
   "execution_count": 651,
   "id": "c1fb1e61",
   "metadata": {},
   "outputs": [
    {
     "data": {
      "text/plain": [
       "'10 divided by 2 equals 5.00. 10 is the number being divided.'"
      ]
     },
     "execution_count": 651,
     "metadata": {},
     "output_type": "execute_result"
    }
   ],
   "source": [
    "# {0}第一个元素 = 10\n",
    "# {1}第二个元素 = 2\n",
    "# {2}第三个元素 = 10/2 = 5\n",
    "\n",
    "divide_float(10, 2)\n",
    "#'10 divided by 2 equals 5.00. 10 is the number being divided.'"
   ]
  },
  {
   "cell_type": "markdown",
   "id": "9b8737dc",
   "metadata": {},
   "source": [
    "## 7.3 Objects in Python\n",
    "\n",
    "每一个数据结构，都是一个对象"
   ]
  },
  {
   "cell_type": "code",
   "execution_count": 652,
   "id": "9f225d33",
   "metadata": {},
   "outputs": [],
   "source": [
    "#a是一个对象\n",
    "a = [1, 2, 3]"
   ]
  },
  {
   "cell_type": "code",
   "execution_count": 653,
   "id": "8ff0feea",
   "metadata": {},
   "outputs": [
    {
     "data": {
      "text/plain": [
       "[1, 2, 3]"
      ]
     },
     "execution_count": 653,
     "metadata": {},
     "output_type": "execute_result"
    }
   ],
   "source": [
    "a\n",
    "#[1, 2, 3]"
   ]
  },
  {
   "cell_type": "code",
   "execution_count": 654,
   "id": "f45f06e4",
   "metadata": {},
   "outputs": [
    {
     "data": {
      "text/plain": [
       "3"
      ]
     },
     "execution_count": 654,
     "metadata": {},
     "output_type": "execute_result"
    }
   ],
   "source": [
    "len(a)\n",
    "#3"
   ]
  },
  {
   "cell_type": "code",
   "execution_count": 655,
   "id": "fed54fab",
   "metadata": {},
   "outputs": [
    {
     "data": {
      "text/plain": [
       "3"
      ]
     },
     "execution_count": 655,
     "metadata": {},
     "output_type": "execute_result"
    }
   ],
   "source": [
    "a.pop()\n",
    "#3"
   ]
  },
  {
   "cell_type": "code",
   "execution_count": 656,
   "id": "873dddcc",
   "metadata": {},
   "outputs": [
    {
     "data": {
      "text/plain": [
       "[1, 2]"
      ]
     },
     "execution_count": 656,
     "metadata": {},
     "output_type": "execute_result"
    }
   ],
   "source": [
    "a\n",
    "#[1, 2]"
   ]
  },
  {
   "cell_type": "code",
   "execution_count": 657,
   "id": "3c8ff302",
   "metadata": {},
   "outputs": [],
   "source": [
    "import string"
   ]
  },
  {
   "cell_type": "code",
   "execution_count": 658,
   "id": "d70c3e5d",
   "metadata": {},
   "outputs": [
    {
     "data": {
      "text/plain": [
       "'abcdefghijklmnopqrstuvwxyzABCDEFGHIJKLMNOPQRSTUVWXYZ'"
      ]
     },
     "execution_count": 658,
     "metadata": {},
     "output_type": "execute_result"
    }
   ],
   "source": [
    "string.ascii_letters\n",
    "#'abcdefghijklmnopqrstuvwxyzABCDEFGHIJKLMNOPQRSTUVWXYZ'"
   ]
  },
  {
   "cell_type": "markdown",
   "id": "ac18007b",
   "metadata": {},
   "source": [
    "## 7.4 Define & Initialize a Class"
   ]
  },
  {
   "cell_type": "markdown",
   "id": "74bc5861",
   "metadata": {},
   "source": [
    "### 7.4.1 Defining a class"
   ]
  },
  {
   "cell_type": "code",
   "execution_count": 659,
   "id": "9ab513bf",
   "metadata": {},
   "outputs": [],
   "source": [
    "#矩阵，三维矢量\n",
    "\n",
    "class Vector():\n",
    "    \"\"\"\n",
    "    This class creates a 3 dimentional vector.\n",
    "    \"\"\"\n",
    "    def __init__(self, elements):  #将(1,2,3)输入elements\n",
    "        \"\"\"\n",
    "        Initialize the object.\n",
    "        Input: a 3 element tuple\n",
    "        \"\"\"\n",
    "        self.els = elements\n",
    "        self.x = elements[0]\n",
    "        self.y = elements[1]\n",
    "        self.z = elements[2]\n",
    "        \n",
    "    def __repr__(self):           #represent, 全局变量：变量本身被函数记住(self.x等)\n",
    "        return \"<{}, {}, {}>\".format(self.x, self.y, self.z)\n",
    "    \n",
    "    def length(self):\n",
    "        return (self.x ** 2 + self.y ** 2 + self.z ** 2) ** 0.5\n",
    "    \n",
    "    def add(self, another_vector):\n",
    "        new_x = self.x + another_vector.x\n",
    "        new_y = self.y + another_vector.y\n",
    "        new_z = self.z + another_vector.z\n",
    "        new_tuple = (new_x, new_y, new_z)\n",
    "        return Vector(new_tuple)"
   ]
  },
  {
   "cell_type": "markdown",
   "id": "ad9ad6cc",
   "metadata": {},
   "source": [
    "### 7.4.2 Inititalize a object"
   ]
  },
  {
   "cell_type": "code",
   "execution_count": 660,
   "id": "c4ed3e9f",
   "metadata": {},
   "outputs": [],
   "source": [
    "v1 = Vector((1, 2, 3))"
   ]
  },
  {
   "cell_type": "code",
   "execution_count": 661,
   "id": "48f3f653",
   "metadata": {},
   "outputs": [
    {
     "data": {
      "text/plain": [
       "<1, 2, 3>"
      ]
     },
     "execution_count": 661,
     "metadata": {},
     "output_type": "execute_result"
    }
   ],
   "source": [
    "v1\n",
    "#<1, 2, 3>"
   ]
  },
  {
   "cell_type": "markdown",
   "id": "cb60d2b8",
   "metadata": {},
   "source": [
    "## 7.5 Self in Class"
   ]
  },
  {
   "cell_type": "markdown",
   "id": "4ca5edf6",
   "metadata": {},
   "source": [
    "### 7.5.1 Defining a class"
   ]
  },
  {
   "cell_type": "code",
   "execution_count": 662,
   "id": "49d6c9b5",
   "metadata": {},
   "outputs": [],
   "source": [
    "#如果没有self，变量只在每个def下的函数里存在，\n",
    "#当存在后调用其他函数def时，跑完是不会被记的。\n",
    "#如果有self, 可以在调用其他函数时，使用被记住的变量\n",
    "\n",
    "class Vector():\n",
    "    \"\"\"\n",
    "    This class creates a 3 dimentional vector.\n",
    "    \"\"\"\n",
    "    def __init__(self, elements):\n",
    "        \"\"\"\n",
    "        Inititalize the object.\n",
    "        Input: a 3 element tuple\n",
    "        \"\"\"\n",
    "        self.els = elements\n",
    "        self.x = elements[0]\n",
    "        self.y = elements[1]\n",
    "        self.z = elements[2]\n",
    "        \n",
    "    def __repr__(self):\n",
    "        return \"<{}, {}, {}>\".format(self.x, self.y, self.z)\n",
    "    \n",
    "    def length(self):\n",
    "        return (self.x ** 2 + self.y ** 2 + self.z ** 2) ** 0.5\n",
    "    \n",
    "    def add(self, another_vector):\n",
    "        new_x = self.x + another_vector.x\n",
    "        new_y = self.y + another_vector.y\n",
    "        new_z = self.z + another_vector.z\n",
    "        new_tuple = (new_x, new_y, new_z)\n",
    "        return Vector(new_tuple)"
   ]
  },
  {
   "cell_type": "markdown",
   "id": "4cdcb462",
   "metadata": {},
   "source": [
    "### 7.5.2 Initialize a object"
   ]
  },
  {
   "cell_type": "code",
   "execution_count": 663,
   "id": "5d62fdb3",
   "metadata": {},
   "outputs": [],
   "source": [
    "v1 = Vector((1, 2, 3))"
   ]
  },
  {
   "cell_type": "code",
   "execution_count": 664,
   "id": "e325ed59",
   "metadata": {},
   "outputs": [
    {
     "data": {
      "text/plain": [
       "<1, 2, 3>"
      ]
     },
     "execution_count": 664,
     "metadata": {},
     "output_type": "execute_result"
    }
   ],
   "source": [
    "v1\n",
    "#<1, 2, 3>"
   ]
  },
  {
   "cell_type": "markdown",
   "id": "3fc432fb",
   "metadata": {},
   "source": [
    "### 7.5.3 Getting info from the object "
   ]
  },
  {
   "cell_type": "code",
   "execution_count": 665,
   "id": "27dfbba7",
   "metadata": {},
   "outputs": [],
   "source": [
    "#因为全局变量只叫了self.els，没有elements，所以没有记忆会报错\n",
    "#v1.elements\n",
    "\n",
    "# ---------------------------------------------------------------------------\n",
    "# AttributeError                            Traceback (most recent call last)\n",
    "# Cell In[201], line 1\n",
    "# ----> 1 v1.elements\n",
    "\n",
    "# AttributeError: 'Vector' object has no attribute 'elements'"
   ]
  },
  {
   "cell_type": "code",
   "execution_count": 666,
   "id": "93a93ade",
   "metadata": {},
   "outputs": [
    {
     "data": {
      "text/plain": [
       "(1, 2, 3)"
      ]
     },
     "execution_count": 666,
     "metadata": {},
     "output_type": "execute_result"
    }
   ],
   "source": [
    "#定义过全局变量self.els = elements，所以可以被叫到\n",
    "\n",
    "v1.els\n",
    "#(1, 2, 3)"
   ]
  },
  {
   "cell_type": "code",
   "execution_count": 667,
   "id": "7bdee270",
   "metadata": {},
   "outputs": [
    {
     "data": {
      "text/plain": [
       "1"
      ]
     },
     "execution_count": 667,
     "metadata": {},
     "output_type": "execute_result"
    }
   ],
   "source": [
    "#定义过全局变量self.x = elements[0]，所以可以被叫到\n",
    "\n",
    "v1.x\n",
    "#1"
   ]
  },
  {
   "cell_type": "code",
   "execution_count": 668,
   "id": "903a7d8f",
   "metadata": {},
   "outputs": [
    {
     "data": {
      "text/plain": [
       "2"
      ]
     },
     "execution_count": 668,
     "metadata": {},
     "output_type": "execute_result"
    }
   ],
   "source": [
    "v1.y\n",
    "#2"
   ]
  },
  {
   "cell_type": "code",
   "execution_count": 669,
   "id": "1533dbd4",
   "metadata": {},
   "outputs": [
    {
     "data": {
      "text/plain": [
       "3"
      ]
     },
     "execution_count": 669,
     "metadata": {},
     "output_type": "execute_result"
    }
   ],
   "source": [
    "v1.z\n",
    "#3"
   ]
  },
  {
   "cell_type": "code",
   "execution_count": 670,
   "id": "dc46ad2e",
   "metadata": {},
   "outputs": [
    {
     "data": {
      "text/plain": [
       "3.7416573867739413"
      ]
     },
     "execution_count": 670,
     "metadata": {},
     "output_type": "execute_result"
    }
   ],
   "source": [
    "v1.length()\n",
    "#3.7416573867739413\n",
    "\n",
    "#(self.x ** 2 + self.y ** 2 + self.z ** 2) ** 0.5\n",
    "#(1^2 + 2^2 + 3^2)^2 = 3.74"
   ]
  },
  {
   "cell_type": "markdown",
   "id": "2055f14d",
   "metadata": {},
   "source": [
    "## 7.6 Calculations using a Custom Class"
   ]
  },
  {
   "cell_type": "markdown",
   "id": "27362623",
   "metadata": {},
   "source": [
    "### 7.6.1 Defining a class¶"
   ]
  },
  {
   "cell_type": "code",
   "execution_count": 671,
   "id": "c69bc081",
   "metadata": {},
   "outputs": [],
   "source": [
    "class Vector():\n",
    "    \"\"\"\n",
    "    This class creates a 3 dimentional vector.\n",
    "    \"\"\"\n",
    "    def __init__(self, elements):\n",
    "        \"\"\"\n",
    "        Initialize the object.\n",
    "        Input: a 3 element tuple\n",
    "        \"\"\"\n",
    "        self.els = elements\n",
    "        self.x = elements[0]\n",
    "        self.y = elements[1]\n",
    "        self.z = elements[2]\n",
    "    \n",
    "    def __repr__(self):\n",
    "        return \"<{}, {}, {}>\".format(self.x, self.y, self.z)\n",
    "        \n",
    "    def length(self):\n",
    "        return (self.x ** 2 + self.y ** 2 + self.z ** 2) ** 0.5\n",
    "    \n",
    "    def add(self, another_vector):\n",
    "        new_x = self.x + another_vector.x\n",
    "        new_y = self.y + another_vector.y\n",
    "        new_z = self.z + another_vector.z\n",
    "        new_tuple = (new_x, new_y, new_z)\n",
    "        return Vector(new_tuple)"
   ]
  },
  {
   "cell_type": "markdown",
   "id": "6b01e737",
   "metadata": {},
   "source": [
    "### 7.6.2 Initialize a object"
   ]
  },
  {
   "cell_type": "code",
   "execution_count": 672,
   "id": "38d0197a",
   "metadata": {},
   "outputs": [],
   "source": [
    "v1 = Vector((1, 2, 3))"
   ]
  },
  {
   "cell_type": "code",
   "execution_count": 673,
   "id": "9ec70415",
   "metadata": {},
   "outputs": [
    {
     "data": {
      "text/plain": [
       "<1, 2, 3>"
      ]
     },
     "execution_count": 673,
     "metadata": {},
     "output_type": "execute_result"
    }
   ],
   "source": [
    "v1\n",
    "#<1, 2, 3>"
   ]
  },
  {
   "cell_type": "markdown",
   "id": "b4f9d3aa",
   "metadata": {},
   "source": [
    "### 7.6.3 Getting info from the object"
   ]
  },
  {
   "cell_type": "code",
   "execution_count": 674,
   "id": "5e4cae55",
   "metadata": {},
   "outputs": [],
   "source": [
    "#v1.elements\n",
    "\n",
    "# ---------------------------------------------------------------------------\n",
    "# AttributeError                            Traceback (most recent call last)\n",
    "# Cell In[223], line 1\n",
    "# ----> 1 v1.elements\n",
    "\n",
    "# AttributeError: 'Vector' object has no attribute 'elements'"
   ]
  },
  {
   "cell_type": "code",
   "execution_count": 675,
   "id": "fef990a1",
   "metadata": {},
   "outputs": [
    {
     "data": {
      "text/plain": [
       "(1, 2, 3)"
      ]
     },
     "execution_count": 675,
     "metadata": {},
     "output_type": "execute_result"
    }
   ],
   "source": [
    "v1.els\n",
    "#(1, 2, 3)"
   ]
  },
  {
   "cell_type": "code",
   "execution_count": 676,
   "id": "f1fe246f",
   "metadata": {},
   "outputs": [
    {
     "data": {
      "text/plain": [
       "1"
      ]
     },
     "execution_count": 676,
     "metadata": {},
     "output_type": "execute_result"
    }
   ],
   "source": [
    "v1.x\n",
    "#1"
   ]
  },
  {
   "cell_type": "code",
   "execution_count": 677,
   "id": "ac79b1f7",
   "metadata": {},
   "outputs": [
    {
     "data": {
      "text/plain": [
       "2"
      ]
     },
     "execution_count": 677,
     "metadata": {},
     "output_type": "execute_result"
    }
   ],
   "source": [
    "v1.y\n",
    "#2"
   ]
  },
  {
   "cell_type": "code",
   "execution_count": 678,
   "id": "ea1a6d94",
   "metadata": {},
   "outputs": [
    {
     "data": {
      "text/plain": [
       "3"
      ]
     },
     "execution_count": 678,
     "metadata": {},
     "output_type": "execute_result"
    }
   ],
   "source": [
    "v1.z\n",
    "#3"
   ]
  },
  {
   "cell_type": "code",
   "execution_count": 679,
   "id": "bbeb3f40",
   "metadata": {},
   "outputs": [
    {
     "data": {
      "text/plain": [
       "3.7416573867739413"
      ]
     },
     "execution_count": 679,
     "metadata": {},
     "output_type": "execute_result"
    }
   ],
   "source": [
    "v1.length()\n",
    "#3.7416573867739413"
   ]
  },
  {
   "cell_type": "markdown",
   "id": "b2a546b3",
   "metadata": {},
   "source": [
    "### 7.6.4 Calculations with custom objects "
   ]
  },
  {
   "cell_type": "code",
   "execution_count": 680,
   "id": "0b9011e6",
   "metadata": {},
   "outputs": [],
   "source": [
    "v1 = Vector((1, 2, 3))"
   ]
  },
  {
   "cell_type": "code",
   "execution_count": 681,
   "id": "6d8173fe",
   "metadata": {},
   "outputs": [
    {
     "data": {
      "text/plain": [
       "<1, 2, 3>"
      ]
     },
     "execution_count": 681,
     "metadata": {},
     "output_type": "execute_result"
    }
   ],
   "source": [
    "v1\n",
    "#<1, 2, 3>"
   ]
  },
  {
   "cell_type": "code",
   "execution_count": 682,
   "id": "b9ce858d",
   "metadata": {},
   "outputs": [],
   "source": [
    "v2 = Vector((3, 4, 5))"
   ]
  },
  {
   "cell_type": "code",
   "execution_count": 683,
   "id": "f086c4fe",
   "metadata": {},
   "outputs": [
    {
     "data": {
      "text/plain": [
       "<3, 4, 5>"
      ]
     },
     "execution_count": 683,
     "metadata": {},
     "output_type": "execute_result"
    }
   ],
   "source": [
    "v2\n",
    "#<3, 4, 5>"
   ]
  },
  {
   "cell_type": "code",
   "execution_count": 684,
   "id": "5d372e93",
   "metadata": {},
   "outputs": [],
   "source": [
    "v3 = v1.add(v2)"
   ]
  },
  {
   "cell_type": "code",
   "execution_count": 685,
   "id": "106670e5",
   "metadata": {},
   "outputs": [
    {
     "data": {
      "text/plain": [
       "<4, 6, 8>"
      ]
     },
     "execution_count": 685,
     "metadata": {},
     "output_type": "execute_result"
    }
   ],
   "source": [
    "v3\n",
    "#<4, 6, 8>"
   ]
  },
  {
   "cell_type": "code",
   "execution_count": 686,
   "id": "e40fbb4b",
   "metadata": {},
   "outputs": [
    {
     "data": {
      "text/plain": [
       "(4, 6, 8)"
      ]
     },
     "execution_count": 686,
     "metadata": {},
     "output_type": "execute_result"
    }
   ],
   "source": [
    "v3.els\n",
    "#(4, 6, 8)"
   ]
  },
  {
   "cell_type": "code",
   "execution_count": 687,
   "id": "e98ccf52",
   "metadata": {},
   "outputs": [
    {
     "data": {
      "text/plain": [
       "10.770329614269007"
      ]
     },
     "execution_count": 687,
     "metadata": {},
     "output_type": "execute_result"
    }
   ],
   "source": [
    "v3.length()\n",
    "#10.770329614269007"
   ]
  },
  {
   "cell_type": "markdown",
   "id": "32bfbd20",
   "metadata": {},
   "source": [
    "# Unit 8"
   ]
  },
  {
   "cell_type": "markdown",
   "id": "083fcff8",
   "metadata": {},
   "source": [
    "## 8.1 Line Break"
   ]
  },
  {
   "cell_type": "code",
   "execution_count": 688,
   "id": "d9b087d8",
   "metadata": {},
   "outputs": [],
   "source": [
    "#自带module\n",
    "import string"
   ]
  },
  {
   "cell_type": "code",
   "execution_count": 689,
   "id": "e57dc6ae",
   "metadata": {},
   "outputs": [
    {
     "data": {
      "text/plain": [
       "'abcdefghijklmnopqrstuvwxyz'"
      ]
     },
     "execution_count": 689,
     "metadata": {},
     "output_type": "execute_result"
    }
   ],
   "source": [
    "#写一个string,把字母小写打印\n",
    "string.ascii_lowercase\n",
    "#'abcdefghijklmnopqrstuvwxyz'"
   ]
  },
  {
   "cell_type": "code",
   "execution_count": 690,
   "id": "aa596cdc",
   "metadata": {},
   "outputs": [
    {
     "data": {
      "text/plain": [
       "'ABCDEFGHIJKLMNOPQRSTUVWXYZ'"
      ]
     },
     "execution_count": 690,
     "metadata": {},
     "output_type": "execute_result"
    }
   ],
   "source": [
    "##写一个string,把字母小写打印\n",
    "string.ascii_uppercase\n",
    "#'ABCDEFGHIJKLMNOPQRSTUVWXYZ'"
   ]
  },
  {
   "cell_type": "code",
   "execution_count": 691,
   "id": "599bd773",
   "metadata": {},
   "outputs": [],
   "source": [
    "#小写，大写，顺序，放在{}里\n",
    "txt = \"\"\n",
    "for i in range(len(string.ascii_lowercase)):\n",
    "    lower = string.ascii_lowercase[i]\n",
    "    upper = string.ascii_uppercase[i]\n",
    "    txt += \"{},{},{}\".format(i, lower, upper)"
   ]
  },
  {
   "cell_type": "code",
   "execution_count": 692,
   "id": "124a27dd",
   "metadata": {},
   "outputs": [
    {
     "name": "stdout",
     "output_type": "stream",
     "text": [
      "0,a,A1,b,B2,c,C3,d,D4,e,E5,f,F6,g,G7,h,H8,i,I9,j,J10,k,K11,l,L12,m,M13,n,N14,o,O15,p,P16,q,Q17,r,R18,s,S19,t,T20,u,U21,v,V22,w,W23,x,X24,y,Y25,z,Z\n"
     ]
    }
   ],
   "source": [
    "#顺序1和A连起来了\n",
    "print(txt)"
   ]
  },
  {
   "cell_type": "code",
   "execution_count": 693,
   "id": "e63e7286",
   "metadata": {},
   "outputs": [],
   "source": [
    "#使用\\n断行符切断\n",
    "txt = \"\"\n",
    "for i in range(len(string.ascii_lowercase)):\n",
    "    lower  = string.ascii_lowercase[i]\n",
    "    upper = string.ascii_uppercase[i]\n",
    "    txt += \"{},{},{}\\n\".format(i, lower, upper)"
   ]
  },
  {
   "cell_type": "code",
   "execution_count": 694,
   "id": "97bbdc88",
   "metadata": {},
   "outputs": [
    {
     "name": "stdout",
     "output_type": "stream",
     "text": [
      "0,a,A\n",
      "1,b,B\n",
      "2,c,C\n",
      "3,d,D\n",
      "4,e,E\n",
      "5,f,F\n",
      "6,g,G\n",
      "7,h,H\n",
      "8,i,I\n",
      "9,j,J\n",
      "10,k,K\n",
      "11,l,L\n",
      "12,m,M\n",
      "13,n,N\n",
      "14,o,O\n",
      "15,p,P\n",
      "16,q,Q\n",
      "17,r,R\n",
      "18,s,S\n",
      "19,t,T\n",
      "20,u,U\n",
      "21,v,V\n",
      "22,w,W\n",
      "23,x,X\n",
      "24,y,Y\n",
      "25,z,Z\n",
      "\n"
     ]
    }
   ],
   "source": [
    "print(txt)"
   ]
  },
  {
   "cell_type": "code",
   "execution_count": 695,
   "id": "7da495d3",
   "metadata": {},
   "outputs": [
    {
     "data": {
      "text/plain": [
       "'0,a,A\\n1,b,B\\n2,c,C\\n3,d,D\\n4,e,E\\n5,f,F\\n6,g,G\\n7,h,H\\n8,i,I\\n9,j,J\\n10,k,K\\n11,l,L\\n12,m,M\\n13,n,N\\n14,o,O\\n15,p,P\\n16,q,Q\\n17,r,R\\n18,s,S\\n19,t,T\\n20,u,U\\n21,v,V\\n22,w,W\\n23,x,X\\n24,y,Y\\n25,z,Z\\n'"
      ]
     },
     "execution_count": 695,
     "metadata": {},
     "output_type": "execute_result"
    }
   ],
   "source": [
    "#看原始\n",
    "txt"
   ]
  },
  {
   "cell_type": "markdown",
   "id": "114344da",
   "metadata": {},
   "source": [
    "## 8.2 Write Strings into A File\n",
    "#打开，文件名，写入 as file\n",
    "\n",
    "with open(\"letters.txt\", \"w\") as f:\n",
    "    f.write(txt)"
   ]
  },
  {
   "cell_type": "code",
   "execution_count": 696,
   "id": "cc9b1822",
   "metadata": {},
   "outputs": [],
   "source": [
    "import string"
   ]
  },
  {
   "cell_type": "code",
   "execution_count": 697,
   "id": "900298a6",
   "metadata": {},
   "outputs": [],
   "source": [
    "#将没有换行符的txt写进file\n",
    "txt = \"\"\n",
    "for i in range(len(string.ascii_lowercase)):\n",
    "    lower = string.ascii_lowercase[i]\n",
    "    upper = string.ascii_uppercase[i]\n",
    "    txt += \"{},{},{}\".format(i, lower, upper)"
   ]
  },
  {
   "cell_type": "code",
   "execution_count": 698,
   "id": "710f6d3d",
   "metadata": {},
   "outputs": [
    {
     "name": "stdout",
     "output_type": "stream",
     "text": [
      "0,a,A1,b,B2,c,C3,d,D4,e,E5,f,F6,g,G7,h,H8,i,I9,j,J10,k,K11,l,L12,m,M13,n,N14,o,O15,p,P16,q,Q17,r,R18,s,S19,t,T20,u,U21,v,V22,w,W23,x,X24,y,Y25,z,Z\n"
     ]
    }
   ],
   "source": [
    "print(txt)\n",
    "#0,a,A1,b,B2,c,C3,d,D4,e,E5,f,F6,g,G7,h,H8,i,I9,j,J10,k,K11,l,L12,m,M13,n,N14,o,O15,p,P16,q,Q17,r,R18,s,S19,t,T20,u,U21,v,V22,w,W23,x,X24,y,Y25,z,Z"
   ]
  },
  {
   "cell_type": "code",
   "execution_count": 699,
   "id": "0a3d1706",
   "metadata": {},
   "outputs": [],
   "source": [
    "with open(\"letters.txt\", \"w\") as f:\n",
    "    f.write(txt)"
   ]
  },
  {
   "cell_type": "code",
   "execution_count": 700,
   "id": "ab9709e6",
   "metadata": {},
   "outputs": [],
   "source": [
    "#将有换行符的txt写进file\n",
    "txt = \"\"\n",
    "for i in range(len(string.ascii_lowercase)):\n",
    "    lower = string.ascii_lowercase[i]\n",
    "    upper = string.ascii_uppercase[i]\n",
    "    txt += \"{},{},{}\\n\".format(i, lower, upper)"
   ]
  },
  {
   "cell_type": "code",
   "execution_count": 701,
   "id": "3c1fcc83",
   "metadata": {},
   "outputs": [
    {
     "name": "stdout",
     "output_type": "stream",
     "text": [
      "0,a,A\n",
      "1,b,B\n",
      "2,c,C\n",
      "3,d,D\n",
      "4,e,E\n",
      "5,f,F\n",
      "6,g,G\n",
      "7,h,H\n",
      "8,i,I\n",
      "9,j,J\n",
      "10,k,K\n",
      "11,l,L\n",
      "12,m,M\n",
      "13,n,N\n",
      "14,o,O\n",
      "15,p,P\n",
      "16,q,Q\n",
      "17,r,R\n",
      "18,s,S\n",
      "19,t,T\n",
      "20,u,U\n",
      "21,v,V\n",
      "22,w,W\n",
      "23,x,X\n",
      "24,y,Y\n",
      "25,z,Z\n",
      "\n"
     ]
    }
   ],
   "source": [
    "print(txt)"
   ]
  },
  {
   "cell_type": "code",
   "execution_count": 702,
   "id": "01101ea7",
   "metadata": {},
   "outputs": [],
   "source": [
    "with open(\"letters.txt\",\"w\") as f:\n",
    "    f.write(txt)"
   ]
  },
  {
   "cell_type": "code",
   "execution_count": 703,
   "id": "c900fddd",
   "metadata": {},
   "outputs": [],
   "source": [
    "## 一行一行写\n",
    "#0, a, A1, b, B2, c, C3\n",
    "with open(\"letters2.txt\", \"w\") as f:\n",
    "    for i in range(len(string.ascii_lowercase)):\n",
    "        lower = string.ascii_lowercase[i]\n",
    "        upper = string.ascii_uppercase[i]\n",
    "        line = \"{}, {}, {}\".format(i, lower, upper)\n",
    "        f.write(line)"
   ]
  },
  {
   "cell_type": "code",
   "execution_count": 704,
   "id": "fe8998bc",
   "metadata": {},
   "outputs": [],
   "source": [
    "# 0, a, A\n",
    "# 1, b, B\n",
    "# 2, c, C\n",
    "with open(\"letters2.txt\", \"w\") as f:\n",
    "    for i in range(len(string.ascii_lowercase)):\n",
    "        lower = string.ascii_lowercase[i]\n",
    "        upper = string.ascii_uppercase[i]\n",
    "        line = \"{}, {}, {}\\n\".format(i, lower, upper)\n",
    "        f.write(line)"
   ]
  },
  {
   "cell_type": "markdown",
   "id": "e4c0c822",
   "metadata": {},
   "source": [
    "## 8.3 Read From A File\n",
    "\n",
    "with open(\"letters.txt\", \"r\") as f:\n",
    "    \n",
    "    lines = f.readlines()\n",
    "    \n",
    "for line in lines:\n",
    "    \n",
    "    print(line)\n",
    "    print(line[:-1])"
   ]
  },
  {
   "cell_type": "code",
   "execution_count": 705,
   "id": "33780fd5",
   "metadata": {},
   "outputs": [],
   "source": [
    "import string"
   ]
  },
  {
   "cell_type": "code",
   "execution_count": 706,
   "id": "e2828b7e",
   "metadata": {},
   "outputs": [],
   "source": [
    "#分隔符\\n要写清\n",
    "txt = \"\"\n",
    "for i in range(len(string.ascii_lowercase)):\n",
    "    lower = string.ascii_lowercase[i]\n",
    "    upper = string.ascii_uppercase[i]\n",
    "    txt += \"{}, {}, {}\\n\".format(i, lower, upper)"
   ]
  },
  {
   "cell_type": "code",
   "execution_count": 707,
   "id": "cd5bbe8a",
   "metadata": {},
   "outputs": [],
   "source": [
    "#写入\n",
    "with open(\"letters.txt\", \"w\") as f:\n",
    "    f.write(txt)"
   ]
  },
  {
   "cell_type": "code",
   "execution_count": 708,
   "id": "0bcc0cd7",
   "metadata": {},
   "outputs": [],
   "source": [
    "#读取filte：open(\"name.txt\", \"r\")：用分隔符读取\n",
    "with open(\"letters.txt\", \"r\") as f:\n",
    "    lines = f.readlines()"
   ]
  },
  {
   "cell_type": "code",
   "execution_count": 709,
   "id": "81a588db",
   "metadata": {},
   "outputs": [
    {
     "name": "stdout",
     "output_type": "stream",
     "text": [
      "['0, a, A\\n', '1, b, B\\n', '2, c, C\\n', '3, d, D\\n', '4, e, E\\n', '5, f, F\\n', '6, g, G\\n', '7, h, H\\n', '8, i, I\\n', '9, j, J\\n', '10, k, K\\n', '11, l, L\\n', '12, m, M\\n', '13, n, N\\n', '14, o, O\\n', '15, p, P\\n', '16, q, Q\\n', '17, r, R\\n', '18, s, S\\n', '19, t, T\\n', '20, u, U\\n', '21, v, V\\n', '22, w, W\\n', '23, x, X\\n', '24, y, Y\\n', '25, z, Z\\n']\n"
     ]
    }
   ],
   "source": [
    "#读取list\n",
    "print(lines)"
   ]
  },
  {
   "cell_type": "code",
   "execution_count": 710,
   "id": "9f9c5c4b",
   "metadata": {},
   "outputs": [
    {
     "name": "stdout",
     "output_type": "stream",
     "text": [
      "0, a, A\n",
      "\n",
      "1, b, B\n",
      "\n",
      "2, c, C\n",
      "\n",
      "3, d, D\n",
      "\n",
      "4, e, E\n",
      "\n",
      "5, f, F\n",
      "\n",
      "6, g, G\n",
      "\n",
      "7, h, H\n",
      "\n",
      "8, i, I\n",
      "\n",
      "9, j, J\n",
      "\n",
      "10, k, K\n",
      "\n",
      "11, l, L\n",
      "\n",
      "12, m, M\n",
      "\n",
      "13, n, N\n",
      "\n",
      "14, o, O\n",
      "\n",
      "15, p, P\n",
      "\n",
      "16, q, Q\n",
      "\n",
      "17, r, R\n",
      "\n",
      "18, s, S\n",
      "\n",
      "19, t, T\n",
      "\n",
      "20, u, U\n",
      "\n",
      "21, v, V\n",
      "\n",
      "22, w, W\n",
      "\n",
      "23, x, X\n",
      "\n",
      "24, y, Y\n",
      "\n",
      "25, z, Z\n",
      "\n"
     ]
    }
   ],
   "source": [
    "for line in lines:\n",
    "    print(line)"
   ]
  },
  {
   "cell_type": "code",
   "execution_count": 711,
   "id": "54377df2",
   "metadata": {},
   "outputs": [
    {
     "name": "stdout",
     "output_type": "stream",
     "text": [
      "0, a, A\n",
      "1, b, B\n",
      "2, c, C\n",
      "3, d, D\n",
      "4, e, E\n",
      "5, f, F\n",
      "6, g, G\n",
      "7, h, H\n",
      "8, i, I\n",
      "9, j, J\n",
      "10, k, K\n",
      "11, l, L\n",
      "12, m, M\n",
      "13, n, N\n",
      "14, o, O\n",
      "15, p, P\n",
      "16, q, Q\n",
      "17, r, R\n",
      "18, s, S\n",
      "19, t, T\n",
      "20, u, U\n",
      "21, v, V\n",
      "22, w, W\n",
      "23, x, X\n",
      "24, y, Y\n",
      "25, z, Z\n"
     ]
    }
   ],
   "source": [
    "#末尾分隔符去掉：\n",
    "for line in lines:\n",
    "    print(line[:-1])"
   ]
  },
  {
   "cell_type": "markdown",
   "id": "58261e29",
   "metadata": {},
   "source": [
    "## 8.4 CSV\n",
    "\n",
    "①with open(\"letters.csv\", \"w\") as f:\n",
    "\n",
    "    f.write(\"rank, lower, upper\\n\")\n",
    "\n",
    "②import pandas as pd\n",
    "\n",
    "df = pd.read_csv(\"letters.csv\")\n"
   ]
  },
  {
   "cell_type": "code",
   "execution_count": 712,
   "id": "96d286a2",
   "metadata": {},
   "outputs": [],
   "source": [
    "import string"
   ]
  },
  {
   "cell_type": "code",
   "execution_count": 713,
   "id": "edc28e39",
   "metadata": {},
   "outputs": [],
   "source": [
    "#把txt写进csv\n",
    "with open(\"letters.csv\", \"w\") as f:\n",
    "    f.write(\"rank, lower, upper\\n\")\n",
    "    for i in range(len(string.ascii_lowercase)):\n",
    "        lower = string.ascii_lowercase[i]\n",
    "        upper = string.ascii_uppercase[i]\n",
    "        line = \"{}, {}, {}\\n\".format(i, lower, upper)\n",
    "        f.write(line)"
   ]
  },
  {
   "cell_type": "code",
   "execution_count": 714,
   "id": "daa91916",
   "metadata": {},
   "outputs": [
    {
     "data": {
      "text/html": [
       "<div>\n",
       "<style scoped>\n",
       "    .dataframe tbody tr th:only-of-type {\n",
       "        vertical-align: middle;\n",
       "    }\n",
       "\n",
       "    .dataframe tbody tr th {\n",
       "        vertical-align: top;\n",
       "    }\n",
       "\n",
       "    .dataframe thead th {\n",
       "        text-align: right;\n",
       "    }\n",
       "</style>\n",
       "<table border=\"1\" class=\"dataframe\">\n",
       "  <thead>\n",
       "    <tr style=\"text-align: right;\">\n",
       "      <th></th>\n",
       "      <th>rank</th>\n",
       "      <th>lower</th>\n",
       "      <th>upper</th>\n",
       "    </tr>\n",
       "  </thead>\n",
       "  <tbody>\n",
       "    <tr>\n",
       "      <th>0</th>\n",
       "      <td>0</td>\n",
       "      <td>a</td>\n",
       "      <td>A</td>\n",
       "    </tr>\n",
       "    <tr>\n",
       "      <th>1</th>\n",
       "      <td>1</td>\n",
       "      <td>b</td>\n",
       "      <td>B</td>\n",
       "    </tr>\n",
       "    <tr>\n",
       "      <th>2</th>\n",
       "      <td>2</td>\n",
       "      <td>c</td>\n",
       "      <td>C</td>\n",
       "    </tr>\n",
       "    <tr>\n",
       "      <th>3</th>\n",
       "      <td>3</td>\n",
       "      <td>d</td>\n",
       "      <td>D</td>\n",
       "    </tr>\n",
       "    <tr>\n",
       "      <th>4</th>\n",
       "      <td>4</td>\n",
       "      <td>e</td>\n",
       "      <td>E</td>\n",
       "    </tr>\n",
       "    <tr>\n",
       "      <th>5</th>\n",
       "      <td>5</td>\n",
       "      <td>f</td>\n",
       "      <td>F</td>\n",
       "    </tr>\n",
       "    <tr>\n",
       "      <th>6</th>\n",
       "      <td>6</td>\n",
       "      <td>g</td>\n",
       "      <td>G</td>\n",
       "    </tr>\n",
       "    <tr>\n",
       "      <th>7</th>\n",
       "      <td>7</td>\n",
       "      <td>h</td>\n",
       "      <td>H</td>\n",
       "    </tr>\n",
       "    <tr>\n",
       "      <th>8</th>\n",
       "      <td>8</td>\n",
       "      <td>i</td>\n",
       "      <td>I</td>\n",
       "    </tr>\n",
       "    <tr>\n",
       "      <th>9</th>\n",
       "      <td>9</td>\n",
       "      <td>j</td>\n",
       "      <td>J</td>\n",
       "    </tr>\n",
       "    <tr>\n",
       "      <th>10</th>\n",
       "      <td>10</td>\n",
       "      <td>k</td>\n",
       "      <td>K</td>\n",
       "    </tr>\n",
       "    <tr>\n",
       "      <th>11</th>\n",
       "      <td>11</td>\n",
       "      <td>l</td>\n",
       "      <td>L</td>\n",
       "    </tr>\n",
       "    <tr>\n",
       "      <th>12</th>\n",
       "      <td>12</td>\n",
       "      <td>m</td>\n",
       "      <td>M</td>\n",
       "    </tr>\n",
       "    <tr>\n",
       "      <th>13</th>\n",
       "      <td>13</td>\n",
       "      <td>n</td>\n",
       "      <td>N</td>\n",
       "    </tr>\n",
       "    <tr>\n",
       "      <th>14</th>\n",
       "      <td>14</td>\n",
       "      <td>o</td>\n",
       "      <td>O</td>\n",
       "    </tr>\n",
       "    <tr>\n",
       "      <th>15</th>\n",
       "      <td>15</td>\n",
       "      <td>p</td>\n",
       "      <td>P</td>\n",
       "    </tr>\n",
       "    <tr>\n",
       "      <th>16</th>\n",
       "      <td>16</td>\n",
       "      <td>q</td>\n",
       "      <td>Q</td>\n",
       "    </tr>\n",
       "    <tr>\n",
       "      <th>17</th>\n",
       "      <td>17</td>\n",
       "      <td>r</td>\n",
       "      <td>R</td>\n",
       "    </tr>\n",
       "    <tr>\n",
       "      <th>18</th>\n",
       "      <td>18</td>\n",
       "      <td>s</td>\n",
       "      <td>S</td>\n",
       "    </tr>\n",
       "    <tr>\n",
       "      <th>19</th>\n",
       "      <td>19</td>\n",
       "      <td>t</td>\n",
       "      <td>T</td>\n",
       "    </tr>\n",
       "    <tr>\n",
       "      <th>20</th>\n",
       "      <td>20</td>\n",
       "      <td>u</td>\n",
       "      <td>U</td>\n",
       "    </tr>\n",
       "    <tr>\n",
       "      <th>21</th>\n",
       "      <td>21</td>\n",
       "      <td>v</td>\n",
       "      <td>V</td>\n",
       "    </tr>\n",
       "    <tr>\n",
       "      <th>22</th>\n",
       "      <td>22</td>\n",
       "      <td>w</td>\n",
       "      <td>W</td>\n",
       "    </tr>\n",
       "    <tr>\n",
       "      <th>23</th>\n",
       "      <td>23</td>\n",
       "      <td>x</td>\n",
       "      <td>X</td>\n",
       "    </tr>\n",
       "    <tr>\n",
       "      <th>24</th>\n",
       "      <td>24</td>\n",
       "      <td>y</td>\n",
       "      <td>Y</td>\n",
       "    </tr>\n",
       "    <tr>\n",
       "      <th>25</th>\n",
       "      <td>25</td>\n",
       "      <td>z</td>\n",
       "      <td>Z</td>\n",
       "    </tr>\n",
       "  </tbody>\n",
       "</table>\n",
       "</div>"
      ],
      "text/plain": [
       "    rank  lower  upper\n",
       "0      0      a      A\n",
       "1      1      b      B\n",
       "2      2      c      C\n",
       "3      3      d      D\n",
       "4      4      e      E\n",
       "5      5      f      F\n",
       "6      6      g      G\n",
       "7      7      h      H\n",
       "8      8      i      I\n",
       "9      9      j      J\n",
       "10    10      k      K\n",
       "11    11      l      L\n",
       "12    12      m      M\n",
       "13    13      n      N\n",
       "14    14      o      O\n",
       "15    15      p      P\n",
       "16    16      q      Q\n",
       "17    17      r      R\n",
       "18    18      s      S\n",
       "19    19      t      T\n",
       "20    20      u      U\n",
       "21    21      v      V\n",
       "22    22      w      W\n",
       "23    23      x      X\n",
       "24    24      y      Y\n",
       "25    25      z      Z"
      ]
     },
     "execution_count": 714,
     "metadata": {},
     "output_type": "execute_result"
    }
   ],
   "source": [
    "#用pandas读csv变成date frame\n",
    "import pandas as pd\n",
    "df = pd.read_csv(\"letters.csv\")\n",
    "df"
   ]
  }
 ],
 "metadata": {
  "kernelspec": {
   "display_name": "Python 3 (ipykernel)",
   "language": "python",
   "name": "python3"
  },
  "language_info": {
   "codemirror_mode": {
    "name": "ipython",
    "version": 3
   },
   "file_extension": ".py",
   "mimetype": "text/x-python",
   "name": "python",
   "nbconvert_exporter": "python",
   "pygments_lexer": "ipython3",
   "version": "3.11.4"
  }
 },
 "nbformat": 4,
 "nbformat_minor": 5
}
