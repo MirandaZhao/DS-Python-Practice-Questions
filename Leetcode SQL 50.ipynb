{
 "cells": [
  {
   "cell_type": "code",
   "execution_count": 5,
   "id": "afd539d5",
   "metadata": {},
   "outputs": [],
   "source": [
    "#https://leetcode.com/studyplan/top-sql-50/"
   ]
  },
  {
   "cell_type": "code",
   "execution_count": 7,
   "id": "c5d48fbc",
   "metadata": {},
   "outputs": [
    {
     "ename": "SyntaxError",
     "evalue": "invalid syntax (3397638104.py, line 1)",
     "output_type": "error",
     "traceback": [
      "\u001b[0;36m  Cell \u001b[0;32mIn[7], line 1\u001b[0;36m\u001b[0m\n\u001b[0;31m    1757. Recyclable and Low Fat Products\u001b[0m\n\u001b[0m          ^\u001b[0m\n\u001b[0;31mSyntaxError\u001b[0m\u001b[0;31m:\u001b[0m invalid syntax\n"
     ]
    }
   ],
   "source": [
    "1757. Recyclable and Low Fat Products\n",
    "\n",
    "https://leetcode.com/problems/recyclable-and-low-fat-products/"
   ]
  },
  {
   "cell_type": "code",
   "execution_count": null,
   "id": "63216963",
   "metadata": {},
   "outputs": [],
   "source": [
    "1757. Recyclable and Low Fat Products\n",
    "\n",
    "Table: Products\n",
    "\n",
    "+-------------+---------+\n",
    "| Column Name | Type    |\n",
    "+-------------+---------+\n",
    "| product_id  | int     |\n",
    "| low_fats    | enum    |\n",
    "| recyclable  | enum    |\n",
    "+-------------+---------+\n",
    "product_id is the primary key (column with unique values) for this table.\n",
    "low_fats is an ENUM (category) of type ('Y', 'N') where 'Y' means this product is low fat and 'N' means it is not.\n",
    "recyclable is an ENUM (category) of types ('Y', 'N') where 'Y' means this product is recyclable and 'N' means it is not.\n",
    " \n",
    "\n",
    "Write a solution to find the ids of products that are both low fat and recyclable.\n",
    "\n",
    "Return the result table in any order.\n",
    "\n",
    "The result format is in the following example.\n",
    "\n",
    " \n",
    "\n",
    "Example 1:\n",
    "\n",
    "Input: \n",
    "Products table:\n",
    "+-------------+----------+------------+\n",
    "| product_id  | low_fats | recyclable |\n",
    "+-------------+----------+------------+\n",
    "| 0           | Y        | N          |\n",
    "| 1           | Y        | Y          |\n",
    "| 2           | N        | Y          |\n",
    "| 3           | Y        | Y          |\n",
    "| 4           | N        | N          |\n",
    "+-------------+----------+------------+\n",
    "Output: \n",
    "+-------------+\n",
    "| product_id  |\n",
    "+-------------+\n",
    "| 1           |\n",
    "| 3           |\n",
    "+-------------+\n",
    "Explanation: Only products 1 and 3 are both low fat and recyclable."
   ]
  },
  {
   "cell_type": "code",
   "execution_count": 3,
   "id": "70845fd5",
   "metadata": {},
   "outputs": [
    {
     "ename": "IndentationError",
     "evalue": "unexpected indent (2253741262.py, line 2)",
     "output_type": "error",
     "traceback": [
      "\u001b[0;36m  Cell \u001b[0;32mIn[3], line 2\u001b[0;36m\u001b[0m\n\u001b[0;31m    product_id\u001b[0m\n\u001b[0m    ^\u001b[0m\n\u001b[0;31mIndentationError\u001b[0m\u001b[0;31m:\u001b[0m unexpected indent\n"
     ]
    }
   ],
   "source": [
    "SELECT\n",
    "    product_id \n",
    "FROM \n",
    "    Products\n",
    "WHERE \n",
    "    low_fats = 'Y' AND recyclable = 'Y'"
   ]
  },
  {
   "cell_type": "code",
   "execution_count": null,
   "id": "b1eabf15",
   "metadata": {},
   "outputs": [],
   "source": [
    "584. Find Customer Referee\n",
    "\n",
    "https://leetcode.com/problems/find-customer-referee/"
   ]
  },
  {
   "cell_type": "code",
   "execution_count": 8,
   "id": "0b54530a",
   "metadata": {},
   "outputs": [
    {
     "ename": "SyntaxError",
     "evalue": "invalid decimal literal (3853961792.py, line 3)",
     "output_type": "error",
     "traceback": [
      "\u001b[0;36m  Cell \u001b[0;32mIn[8], line 3\u001b[0;36m\u001b[0m\n\u001b[0;31m    1.5K\u001b[0m\n\u001b[0m      ^\u001b[0m\n\u001b[0;31mSyntaxError\u001b[0m\u001b[0;31m:\u001b[0m invalid decimal literal\n"
     ]
    }
   ],
   "source": [
    "584. Find Customer Referee\n",
    "Easy\n",
    "1.5K\n",
    "317\n",
    "company\n",
    "Apple\n",
    "company\n",
    "Adobe\n",
    "company\n",
    "Amazon\n",
    "SQL Schema\n",
    "Pandas Schema\n",
    "Table: Customer\n",
    "\n",
    "+-------------+---------+\n",
    "| Column Name | Type    |\n",
    "+-------------+---------+\n",
    "| id          | int     |\n",
    "| name        | varchar |\n",
    "| referee_id  | int     |\n",
    "+-------------+---------+\n",
    "In SQL, id is the primary key column for this table.\n",
    "Each row of this table indicates the id of a customer, their name, and the id of the customer who referred them.\n",
    " \n",
    "\n",
    "Find the names of the customer that are not referred by the customer with id = 2.\n",
    "\n",
    "Return the result table in any order.\n",
    "\n",
    "The result format is in the following example.\n",
    "\n",
    " \n",
    "\n",
    "Example 1:\n",
    "\n",
    "Input: \n",
    "Customer table:\n",
    "+----+------+------------+\n",
    "| id | name | referee_id |\n",
    "+----+------+------------+\n",
    "| 1  | Will | null       |\n",
    "| 2  | Jane | null       |\n",
    "| 3  | Alex | 2          |\n",
    "| 4  | Bill | null       |\n",
    "| 5  | Zack | 1          |\n",
    "| 6  | Mark | 2          |\n",
    "+----+------+------------+\n",
    "Output: \n",
    "+------+\n",
    "| name |\n",
    "+------+\n",
    "| Will |\n",
    "| Jane |\n",
    "| Bill |\n",
    "| Zack |\n",
    "+------+"
   ]
  },
  {
   "cell_type": "code",
   "execution_count": 9,
   "id": "3bd73a5e",
   "metadata": {},
   "outputs": [
    {
     "ename": "IndentationError",
     "evalue": "unexpected indent (1466189086.py, line 2)",
     "output_type": "error",
     "traceback": [
      "\u001b[0;36m  Cell \u001b[0;32mIn[9], line 2\u001b[0;36m\u001b[0m\n\u001b[0;31m    name\u001b[0m\n\u001b[0m    ^\u001b[0m\n\u001b[0;31mIndentationError\u001b[0m\u001b[0;31m:\u001b[0m unexpected indent\n"
     ]
    }
   ],
   "source": [
    "SELECT\n",
    "    name\n",
    "FROM \n",
    "    Customer\n",
    "WHERE \n",
    "    referee_id != 2\n",
    "OR \n",
    "    referee_id IS NULL"
   ]
  },
  {
   "cell_type": "code",
   "execution_count": 10,
   "id": "7f2cc9ea",
   "metadata": {},
   "outputs": [
    {
     "ename": "SyntaxError",
     "evalue": "invalid syntax (3536791793.py, line 1)",
     "output_type": "error",
     "traceback": [
      "\u001b[0;36m  Cell \u001b[0;32mIn[10], line 1\u001b[0;36m\u001b[0m\n\u001b[0;31m    595. Big Countries\u001b[0m\n\u001b[0m         ^\u001b[0m\n\u001b[0;31mSyntaxError\u001b[0m\u001b[0;31m:\u001b[0m invalid syntax\n"
     ]
    }
   ],
   "source": [
    "595. Big Countries\n",
    "https://leetcode.com/problems/big-countries/"
   ]
  },
  {
   "cell_type": "code",
   "execution_count": 11,
   "id": "7b7724cf",
   "metadata": {},
   "outputs": [
    {
     "ename": "SyntaxError",
     "evalue": "invalid decimal literal (2417258849.py, line 3)",
     "output_type": "error",
     "traceback": [
      "\u001b[0;36m  Cell \u001b[0;32mIn[11], line 3\u001b[0;36m\u001b[0m\n\u001b[0;31m    2.3K\u001b[0m\n\u001b[0m      ^\u001b[0m\n\u001b[0;31mSyntaxError\u001b[0m\u001b[0;31m:\u001b[0m invalid decimal literal\n"
     ]
    }
   ],
   "source": [
    "595. Big Countries\n",
    "Easy\n",
    "2.3K\n",
    "1.2K\n",
    "company\n",
    "Amazon\n",
    "company\n",
    "Google\n",
    "company\n",
    "Apple\n",
    "SQL Schema\n",
    "Pandas Schema\n",
    "Table: World\n",
    "\n",
    "+-------------+---------+\n",
    "| Column Name | Type    |\n",
    "+-------------+---------+\n",
    "| name        | varchar |\n",
    "| continent   | varchar |\n",
    "| area        | int     |\n",
    "| population  | int     |\n",
    "| gdp         | bigint  |\n",
    "+-------------+---------+\n",
    "name is the primary key (column with unique values) for this table.\n",
    "Each row of this table gives information about the name of a country, the continent to which it belongs, its area, the population, and its GDP value.\n",
    " \n",
    "\n",
    "A country is big if:\n",
    "\n",
    "it has an area of at least three million (i.e., 3000000 km2), or\n",
    "it has a population of at least twenty-five million (i.e., 25000000).\n",
    "Write a solution to find the name, population, and area of the big countries.\n",
    "\n",
    "Return the result table in any order.\n",
    "\n",
    "The result format is in the following example.\n",
    "\n",
    " \n",
    "\n",
    "Example 1:\n",
    "\n",
    "Input: \n",
    "World table:\n",
    "+-------------+-----------+---------+------------+--------------+\n",
    "| name        | continent | area    | population | gdp          |\n",
    "+-------------+-----------+---------+------------+--------------+\n",
    "| Afghanistan | Asia      | 652230  | 25500100   | 20343000000  |\n",
    "| Albania     | Europe    | 28748   | 2831741    | 12960000000  |\n",
    "| Algeria     | Africa    | 2381741 | 37100000   | 188681000000 |\n",
    "| Andorra     | Europe    | 468     | 78115      | 3712000000   |\n",
    "| Angola      | Africa    | 1246700 | 20609294   | 100990000000 |\n",
    "+-------------+-----------+---------+------------+--------------+\n",
    "Output: \n",
    "+-------------+------------+---------+\n",
    "| name        | population | area    |\n",
    "+-------------+------------+---------+\n",
    "| Afghanistan | 25500100   | 652230  |\n",
    "| Algeria     | 37100000   | 2381741 |\n",
    "+-------------+------------+---------+"
   ]
  },
  {
   "cell_type": "code",
   "execution_count": 12,
   "id": "0cc08c68",
   "metadata": {},
   "outputs": [
    {
     "ename": "IndentationError",
     "evalue": "unexpected indent (4163868571.py, line 2)",
     "output_type": "error",
     "traceback": [
      "\u001b[0;36m  Cell \u001b[0;32mIn[12], line 2\u001b[0;36m\u001b[0m\n\u001b[0;31m    name,\u001b[0m\n\u001b[0m    ^\u001b[0m\n\u001b[0;31mIndentationError\u001b[0m\u001b[0;31m:\u001b[0m unexpected indent\n"
     ]
    }
   ],
   "source": [
    "SELECT\n",
    "    name,\n",
    "    population,\n",
    "    area\n",
    "FROM \n",
    "    World\n",
    "WHERE \n",
    "    area >= 3000000\n",
    "OR \n",
    "    population >= 25000000\n",
    "\n",
    "# Complexity\n",
    "# Time complexity: O(n)O(n)O(n)\n",
    "# Space complexity: O(n)O(n)O(n)"
   ]
  },
  {
   "cell_type": "code",
   "execution_count": 13,
   "id": "01bdbb4e",
   "metadata": {},
   "outputs": [
    {
     "ename": "SyntaxError",
     "evalue": "invalid syntax (3891579452.py, line 1)",
     "output_type": "error",
     "traceback": [
      "\u001b[0;36m  Cell \u001b[0;32mIn[13], line 1\u001b[0;36m\u001b[0m\n\u001b[0;31m    1148. Article Views I\u001b[0m\n\u001b[0m          ^\u001b[0m\n\u001b[0;31mSyntaxError\u001b[0m\u001b[0;31m:\u001b[0m invalid syntax\n"
     ]
    }
   ],
   "source": [
    "1148. Article Views I\n",
    "\n",
    "https://leetcode.com/problems/article-views-i/"
   ]
  },
  {
   "cell_type": "code",
   "execution_count": 15,
   "id": "de05fe27",
   "metadata": {},
   "outputs": [
    {
     "ename": "SyntaxError",
     "evalue": "leading zeros in decimal integer literals are not permitted; use an 0o prefix for octal integers (3833022253.py, line 43)",
     "output_type": "error",
     "traceback": [
      "\u001b[0;36m  Cell \u001b[0;32mIn[15], line 43\u001b[0;36m\u001b[0m\n\u001b[0;31m    | 1          | 3         | 5         | 2019-08-01 |\u001b[0m\n\u001b[0m                                                ^\u001b[0m\n\u001b[0;31mSyntaxError\u001b[0m\u001b[0;31m:\u001b[0m leading zeros in decimal integer literals are not permitted; use an 0o prefix for octal integers\n"
     ]
    }
   ],
   "source": [
    "1148. Article Views I\n",
    "Easy\n",
    "974\n",
    "48\n",
    "company\n",
    "Amazon\n",
    "company\n",
    "Yahoo\n",
    "company\n",
    "Google\n",
    "SQL Schema\n",
    "Pandas Schema\n",
    "Table: Views\n",
    "\n",
    "+---------------+---------+\n",
    "| Column Name   | Type    |\n",
    "+---------------+---------+\n",
    "| article_id    | int     |\n",
    "| author_id     | int     |\n",
    "| viewer_id     | int     |\n",
    "| view_date     | date    |\n",
    "+---------------+---------+\n",
    "There is no primary key (column with unique values) for this table, the table may have duplicate rows.\n",
    "Each row of this table indicates that some viewer viewed an article (written by some author) on some date. \n",
    "Note that equal author_id and viewer_id indicate the same person.\n",
    " \n",
    "\n",
    "Write a solution to find all the authors that viewed at least one of their own articles.\n",
    "\n",
    "Return the result table sorted by id in ascending order.\n",
    "\n",
    "The result format is in the following example.\n",
    "\n",
    " \n",
    "\n",
    "Example 1:\n",
    "\n",
    "Input: \n",
    "Views table:\n",
    "+------------+-----------+-----------+------------+\n",
    "| article_id | author_id | viewer_id | view_date  |\n",
    "+------------+-----------+-----------+------------+\n",
    "| 1          | 3         | 5         | 2019-08-01 |\n",
    "| 1          | 3         | 6         | 2019-08-02 |\n",
    "| 2          | 7         | 7         | 2019-08-01 |\n",
    "| 2          | 7         | 6         | 2019-08-02 |\n",
    "| 4          | 7         | 1         | 2019-07-22 |\n",
    "| 3          | 4         | 4         | 2019-07-21 |\n",
    "| 3          | 4         | 4         | 2019-07-21 |\n",
    "+------------+-----------+-----------+------------+\n",
    "Output: \n",
    "+------+\n",
    "| id   |\n",
    "+------+\n",
    "| 4    |\n",
    "| 7    |\n",
    "+------+"
   ]
  },
  {
   "cell_type": "code",
   "execution_count": null,
   "id": "0626826b",
   "metadata": {},
   "outputs": [],
   "source": [
    "#①order by 原列名或新命名列名都可以，即id或者author_id都可以\n",
    "#②因为duplicate records，所以需要distinct\n",
    "#③相同的author_id和viewer_id是同一个人，找到（至少读了一次他们自己文章的）所有的作家\n",
    "# <=> WHERE viewer_id = author_id"
   ]
  },
  {
   "cell_type": "code",
   "execution_count": 17,
   "id": "2056ca29",
   "metadata": {},
   "outputs": [
    {
     "ename": "IndentationError",
     "evalue": "unexpected indent (21509848.py, line 2)",
     "output_type": "error",
     "traceback": [
      "\u001b[0;36m  Cell \u001b[0;32mIn[17], line 2\u001b[0;36m\u001b[0m\n\u001b[0;31m    DISTINCT\u001b[0m\n\u001b[0m    ^\u001b[0m\n\u001b[0;31mIndentationError\u001b[0m\u001b[0;31m:\u001b[0m unexpected indent\n"
     ]
    }
   ],
   "source": [
    "SELECT\n",
    "    DISTINCT\n",
    "    author_id AS id\n",
    "FROM Views\n",
    "WHERE viewer_id = author_id\n",
    "ORDER BY id"
   ]
  },
  {
   "cell_type": "code",
   "execution_count": null,
   "id": "3389a3be",
   "metadata": {},
   "outputs": [],
   "source": [
    "1683. Invalid Tweets\n",
    "https://leetcode.com/problems/invalid-tweets/"
   ]
  },
  {
   "cell_type": "code",
   "execution_count": 19,
   "id": "63f849d7",
   "metadata": {},
   "outputs": [
    {
     "ename": "SyntaxError",
     "evalue": "invalid syntax (879102578.py, line 1)",
     "output_type": "error",
     "traceback": [
      "\u001b[0;36m  Cell \u001b[0;32mIn[19], line 1\u001b[0;36m\u001b[0m\n\u001b[0;31m    1683. Invalid Tweets\u001b[0m\n\u001b[0m          ^\u001b[0m\n\u001b[0;31mSyntaxError\u001b[0m\u001b[0;31m:\u001b[0m invalid syntax\n"
     ]
    }
   ],
   "source": [
    "1683. Invalid Tweets\n",
    "Easy\n",
    "601\n",
    "195\n",
    "company\n",
    "Amazon\n",
    "company\n",
    "Twitter\n",
    "SQL Schema\n",
    "Pandas Schema\n",
    "Table: Tweets\n",
    "\n",
    "+----------------+---------+\n",
    "| Column Name    | Type    |\n",
    "+----------------+---------+\n",
    "| tweet_id       | int     |\n",
    "| content        | varchar |\n",
    "+----------------+---------+\n",
    "tweet_id is the primary key (column with unique values) for this table.\n",
    "This table contains all the tweets in a social media app.\n",
    " \n",
    "\n",
    "Write a solution to find the IDs of the invalid tweets. The tweet is invalid if the number of characters used in the content of the tweet is strictly greater than 15.\n",
    "\n",
    "Return the result table in any order.\n",
    "\n",
    "The result format is in the following example.\n",
    "\n",
    " \n",
    "\n",
    "Example 1:\n",
    "\n",
    "Input: \n",
    "Tweets table:\n",
    "+----------+----------------------------------+\n",
    "| tweet_id | content                          |\n",
    "+----------+----------------------------------+\n",
    "| 1        | Vote for Biden                   |\n",
    "| 2        | Let us make America great again! |\n",
    "+----------+----------------------------------+\n",
    "Output: \n",
    "+----------+\n",
    "| tweet_id |\n",
    "+----------+\n",
    "| 2        |\n",
    "+----------+\n",
    "Explanation: \n",
    "Tweet 1 has length = 14. It is a valid tweet.\n",
    "Tweet 2 has length = 32. It is an invalid tweet."
   ]
  },
  {
   "cell_type": "code",
   "execution_count": null,
   "id": "1fe1ed9c",
   "metadata": {},
   "outputs": [],
   "source": [
    "#衡量变量长度（包含空格）：LENGTH(a); CHAR_LENGTH(a)\n",
    "\n",
    "#LENGTH(a)/ CHAR_LENGTH(a)数word长度，可以直接用在where中"
   ]
  },
  {
   "cell_type": "code",
   "execution_count": 20,
   "id": "1fdfac59",
   "metadata": {},
   "outputs": [
    {
     "ename": "IndentationError",
     "evalue": "unexpected indent (2072224294.py, line 2)",
     "output_type": "error",
     "traceback": [
      "\u001b[0;36m  Cell \u001b[0;32mIn[20], line 2\u001b[0;36m\u001b[0m\n\u001b[0;31m    tweet_id\u001b[0m\n\u001b[0m    ^\u001b[0m\n\u001b[0;31mIndentationError\u001b[0m\u001b[0;31m:\u001b[0m unexpected indent\n"
     ]
    }
   ],
   "source": [
    "SELECT\n",
    "    tweet_id    \n",
    "FROM Tweets\n",
    "WHERE LENGTH(content) > 15\n",
    "# WHERE CHAR_LENGTH(content) > 15\n",
    "\n",
    "\n",
    "# Complexity\n",
    "# Time complexity: O(n)O(n)O(n)\n",
    "# Space complexity: O(n)O(n)O(n)"
   ]
  },
  {
   "cell_type": "code",
   "execution_count": null,
   "id": "86330841",
   "metadata": {},
   "outputs": [],
   "source": [
    "https://leetcode.com/problems/replace-employee-id-with-the-unique-identifier/"
   ]
  },
  {
   "cell_type": "code",
   "execution_count": 21,
   "id": "23242add",
   "metadata": {},
   "outputs": [
    {
     "ename": "SyntaxError",
     "evalue": "invalid syntax (2444352452.py, line 1)",
     "output_type": "error",
     "traceback": [
      "\u001b[0;36m  Cell \u001b[0;32mIn[21], line 1\u001b[0;36m\u001b[0m\n\u001b[0;31m    1378. Replace Employee ID With The Unique Identifier\u001b[0m\n\u001b[0m          ^\u001b[0m\n\u001b[0;31mSyntaxError\u001b[0m\u001b[0;31m:\u001b[0m invalid syntax\n"
     ]
    }
   ],
   "source": [
    "1378. Replace Employee ID With The Unique Identifier\n",
    "Easy\n",
    "692\n",
    "68\n",
    "company\n",
    "Amazon\n",
    "Point72\n",
    "SQL Schema\n",
    "Pandas Schema\n",
    "Table: Employees\n",
    "\n",
    "+---------------+---------+\n",
    "| Column Name   | Type    |\n",
    "+---------------+---------+\n",
    "| id            | int     |\n",
    "| name          | varchar |\n",
    "+---------------+---------+\n",
    "id is the primary key (column with unique values) for this table.\n",
    "Each row of this table contains the id and the name of an employee in a company.\n",
    " \n",
    "\n",
    "Table: EmployeeUNI\n",
    "\n",
    "+---------------+---------+\n",
    "| Column Name   | Type    |\n",
    "+---------------+---------+\n",
    "| id            | int     |\n",
    "| unique_id     | int     |\n",
    "+---------------+---------+\n",
    "(id, unique_id) is the primary key (combination of columns with unique values) for this table.\n",
    "Each row of this table contains the id and the corresponding unique id of an employee in the company.\n",
    " \n",
    "\n",
    "Write a solution to show the unique ID of each user, If a user does not have a unique ID replace just show null.\n",
    "\n",
    "Return the result table in any order.\n",
    "\n",
    "The result format is in the following example.\n",
    "\n",
    " \n",
    "\n",
    "Example 1:\n",
    "\n",
    "Input: \n",
    "Employees table:\n",
    "+----+----------+\n",
    "| id | name     |\n",
    "+----+----------+\n",
    "| 1  | Alice    |\n",
    "| 7  | Bob      |\n",
    "| 11 | Meir     |\n",
    "| 90 | Winston  |\n",
    "| 3  | Jonathan |\n",
    "+----+----------+\n",
    "EmployeeUNI table:\n",
    "+----+-----------+\n",
    "| id | unique_id |\n",
    "+----+-----------+\n",
    "| 3  | 1         |\n",
    "| 11 | 2         |\n",
    "| 90 | 3         |\n",
    "+----+-----------+\n",
    "Output: \n",
    "+-----------+----------+\n",
    "| unique_id | name     |\n",
    "+-----------+----------+\n",
    "| null      | Alice    |\n",
    "| null      | Bob      |\n",
    "| 2         | Meir     |\n",
    "| 3         | Winston  |\n",
    "| 1         | Jonathan |\n",
    "+-----------+----------+\n",
    "Explanation: \n",
    "Alice and Bob do not have a unique ID, We will show null instead.\n",
    "The unique ID of Meir is 2.\n",
    "The unique ID of Winston is 3.\n",
    "The unique ID of Jonathan is 1."
   ]
  },
  {
   "cell_type": "code",
   "execution_count": 1,
   "id": "a5ec0190",
   "metadata": {},
   "outputs": [
    {
     "ename": "IndentationError",
     "evalue": "unexpected indent (1357809579.py, line 2)",
     "output_type": "error",
     "traceback": [
      "\u001b[0;36m  Cell \u001b[0;32mIn[1], line 2\u001b[0;36m\u001b[0m\n\u001b[0;31m    unique_id,\u001b[0m\n\u001b[0m    ^\u001b[0m\n\u001b[0;31mIndentationError\u001b[0m\u001b[0;31m:\u001b[0m unexpected indent\n"
     ]
    }
   ],
   "source": [
    "SELECT\n",
    "  unique_id,\n",
    "  name \n",
    "FROM Employees e\n",
    "LEFT JOIN EmployeeUNI eu\n",
    "ON e.id = eu.id\n",
    "\n",
    "# Time complexity:\n",
    "# The time complexity of the query depends on the number of rows in the Employees table and the EmployeeUNI table, as well as the efficiency of the join operation. Assuming the join operation has been appropriately indexed, the time complexity is generally O(n+m)O(n+m)O(n+m), where n is the number of rows in the Employees table and m is the number of rows in the EmployeeUNI table.\n",
    "\n",
    "# Space complexity:\n",
    "# The space complexity depends on the result set produced by the query. The space required to store the result set will depend on the number of matching rows between the Employees table and the EmployeeUNI table. If the result set is significantly smaller than the original tables, the space complexity can be considered relatively low."
   ]
  },
  {
   "cell_type": "code",
   "execution_count": 5,
   "id": "504cfc95",
   "metadata": {},
   "outputs": [],
   "source": [
    "#https://leetcode.com/problems/product-sales-analysis-i/"
   ]
  },
  {
   "cell_type": "raw",
   "id": "121d7943",
   "metadata": {},
   "source": [
    "1068. Product Sales Analysis I\n",
    "Easy\n",
    "581\n",
    "188\n",
    "company\n",
    "Google\n",
    "company\n",
    "Amazon\n",
    "SQL Schema\n",
    "Pandas Schema\n",
    "Table: Sales\n",
    "\n",
    "+-------------+-------+\n",
    "| Column Name | Type  |\n",
    "+-------------+-------+\n",
    "| sale_id     | int   |\n",
    "| product_id  | int   |\n",
    "| year        | int   |\n",
    "| quantity    | int   |\n",
    "| price       | int   |\n",
    "+-------------+-------+\n",
    "(sale_id, year) is the primary key (combination of columns with unique values) of this table.\n",
    "product_id is a foreign key (reference column) to Product table.\n",
    "Each row of this table shows a sale on the product product_id in a certain year.\n",
    "Note that the price is per unit.\n",
    " \n",
    "\n",
    "Table: Product\n",
    "\n",
    "+--------------+---------+\n",
    "| Column Name  | Type    |\n",
    "+--------------+---------+\n",
    "| product_id   | int     |\n",
    "| product_name | varchar |\n",
    "+--------------+---------+\n",
    "product_id is the primary key (column with unique values) of this table.\n",
    "Each row of this table indicates the product name of each product.\n",
    " \n",
    "\n",
    "Write a solution to report the product_name, year, and price for each sale_id in the Sales table.\n",
    "\n",
    "Return the resulting table in any order.\n",
    "\n",
    "The result format is in the following example.\n",
    "\n",
    " \n",
    "\n",
    "Example 1:\n",
    "\n",
    "Input: \n",
    "Sales table:\n",
    "+---------+------------+------+----------+-------+\n",
    "| sale_id | product_id | year | quantity | price |\n",
    "+---------+------------+------+----------+-------+ \n",
    "| 1       | 100        | 2008 | 10       | 5000  |\n",
    "| 2       | 100        | 2009 | 12       | 5000  |\n",
    "| 7       | 200        | 2011 | 15       | 9000  |\n",
    "+---------+------------+------+----------+-------+\n",
    "Product table:\n",
    "+------------+--------------+\n",
    "| product_id | product_name |\n",
    "+------------+--------------+\n",
    "| 100        | Nokia        |\n",
    "| 200        | Apple        |\n",
    "| 300        | Samsung      |\n",
    "+------------+--------------+\n",
    "Output: \n",
    "+--------------+-------+-------+\n",
    "| product_name | year  | price |\n",
    "+--------------+-------+-------+\n",
    "| Nokia        | 2008  | 5000  |\n",
    "| Nokia        | 2009  | 5000  |\n",
    "| Apple        | 2011  | 9000  |\n",
    "+--------------+-------+-------+\n",
    "Explanation: \n",
    "From sale_id = 1, we can conclude that Nokia was sold for 5000 in the year 2008.\n",
    "From sale_id = 2, we can conclude that Nokia was sold for 5000 in the year 2009.\n",
    "From sale_id = 7, we can conclude that Apple was sold for 9000 in the year 2011."
   ]
  },
  {
   "cell_type": "code",
   "execution_count": null,
   "id": "956e3968",
   "metadata": {},
   "outputs": [],
   "source": [
    "SELECT\n",
    "  DISTINCT p.product_name,\n",
    "  s.year,\n",
    "  s.price\n",
    "FROM \n",
    "  Sales s\n",
    "JOIN \n",
    "  Product p\n",
    "ON s.product_id = p.product_id"
   ]
  },
  {
   "cell_type": "code",
   "execution_count": 6,
   "id": "dec01b79",
   "metadata": {},
   "outputs": [],
   "source": [
    "#https://leetcode.com/problems/customer-who-visited-but-did-not-make-any-transactions/"
   ]
  },
  {
   "cell_type": "raw",
   "id": "ccde3312",
   "metadata": {},
   "source": [
    "1581. Customer Who Visited but Did Not Make Any Transactions\n",
    "Easy\n",
    "1.4K\n",
    "182\n",
    "company\n",
    "Amazon\n",
    "company\n",
    "Apple\n",
    "company\n",
    "Adobe\n",
    "SQL Schema\n",
    "Pandas Schema\n",
    "Table: Visits\n",
    "\n",
    "+-------------+---------+\n",
    "| Column Name | Type    |\n",
    "+-------------+---------+\n",
    "| visit_id    | int     |\n",
    "| customer_id | int     |\n",
    "+-------------+---------+\n",
    "visit_id is the column with unique values for this table.\n",
    "This table contains information about the customers who visited the mall.\n",
    " \n",
    "\n",
    "Table: Transactions\n",
    "\n",
    "+----------------+---------+\n",
    "| Column Name    | Type    |\n",
    "+----------------+---------+\n",
    "| transaction_id | int     |\n",
    "| visit_id       | int     |\n",
    "| amount         | int     |\n",
    "+----------------+---------+\n",
    "transaction_id is column with unique values for this table.\n",
    "This table contains information about the transactions made during the visit_id.\n",
    " \n",
    "\n",
    "Write a solution to find the IDs of the users who visited without making any transactions and the number of times they made these types of visits.\n",
    "\n",
    "Return the result table sorted in any order.\n",
    "\n",
    "The result format is in the following example.\n",
    "\n",
    " \n",
    "\n",
    "Example 1:\n",
    "\n",
    "Input: \n",
    "Visits\n",
    "+----------+-------------+\n",
    "| visit_id | customer_id |\n",
    "+----------+-------------+\n",
    "| 1        | 23          |\n",
    "| 2        | 9           |\n",
    "| 4        | 30          |\n",
    "| 5        | 54          |\n",
    "| 6        | 96          |\n",
    "| 7        | 54          |\n",
    "| 8        | 54          |\n",
    "+----------+-------------+\n",
    "Transactions\n",
    "+----------------+----------+--------+\n",
    "| transaction_id | visit_id | amount |\n",
    "+----------------+----------+--------+\n",
    "| 2              | 5        | 310    |\n",
    "| 3              | 5        | 300    |\n",
    "| 9              | 5        | 200    |\n",
    "| 12             | 1        | 910    |\n",
    "| 13             | 2        | 970    |\n",
    "+----------------+----------+--------+\n",
    "Output: \n",
    "+-------------+----------------+\n",
    "| customer_id | count_no_trans |\n",
    "+-------------+----------------+\n",
    "| 54          | 2              |\n",
    "| 30          | 1              |\n",
    "| 96          | 1              |\n",
    "+-------------+----------------+\n",
    "Explanation: \n",
    "Customer with id = 23 visited the mall once and made one transaction during the visit with id = 12.\n",
    "Customer with id = 9 visited the mall once and made one transaction during the visit with id = 13.\n",
    "Customer with id = 30 visited the mall once and did not make any transactions.\n",
    "Customer with id = 54 visited the mall three times. During 2 visits they did not make any transactions, and during one visit they made 3 transactions.\n",
    "Customer with id = 96 visited the mall once and did not make any transactions.\n",
    "As we can see, users with IDs 30 and 96 visited the mall one time without making any transactions. Also, user 54 visited the mall twice and did not make any transactions."
   ]
  },
  {
   "cell_type": "code",
   "execution_count": 7,
   "id": "f504c22f",
   "metadata": {},
   "outputs": [
    {
     "ename": "IndentationError",
     "evalue": "unexpected indent (1319178622.py, line 3)",
     "output_type": "error",
     "traceback": [
      "\u001b[0;36m  Cell \u001b[0;32mIn[7], line 3\u001b[0;36m\u001b[0m\n\u001b[0;31m    v.customer_id,\u001b[0m\n\u001b[0m    ^\u001b[0m\n\u001b[0;31mIndentationError\u001b[0m\u001b[0;31m:\u001b[0m unexpected indent\n"
     ]
    }
   ],
   "source": [
    "#法1：LEFT JOIN + WHERE a IS NULL\n",
    "SELECT \n",
    "  v.customer_id, \n",
    "  COUNT(v.visit_id) AS count_no_trans \n",
    "FROM Visits v LEFT JOIN Transactions t \n",
    "ON v.visit_id = t.visit_id  \n",
    "WHERE t.transaction_id IS NULL \n",
    "GROUP BY v.customer_id\n",
    "\n",
    "/*\n",
    "#法2：NOT IN 不在子集法: SELECT a FROM A WHERE a NOT IN (SELECT a FROM B)\n",
    "SELECT\n",
    "  customer_id,\n",
    "  COUNT(visit_id) as count_no_trans\n",
    "FROM Visits\n",
    "WHERE visit_id NOT IN (SELECT visit_id FROM Transactions)\n",
    "GROUP BY customer_id\n",
    "*/"
   ]
  },
  {
   "cell_type": "code",
   "execution_count": 8,
   "id": "6516da80",
   "metadata": {},
   "outputs": [
    {
     "ename": "SyntaxError",
     "evalue": "invalid syntax (482599944.py, line 1)",
     "output_type": "error",
     "traceback": [
      "\u001b[0;36m  Cell \u001b[0;32mIn[8], line 1\u001b[0;36m\u001b[0m\n\u001b[0;31m    https://leetcode.com/problems/rising-temperature/\u001b[0m\n\u001b[0m          ^\u001b[0m\n\u001b[0;31mSyntaxError\u001b[0m\u001b[0;31m:\u001b[0m invalid syntax\n"
     ]
    }
   ],
   "source": [
    "https://leetcode.com/problems/rising-temperature/"
   ]
  },
  {
   "cell_type": "raw",
   "id": "d862b4d8",
   "metadata": {},
   "source": [
    "197. Rising Temperature\n",
    "Easy\n",
    "2.4K\n",
    "550\n",
    "company\n",
    "Google\n",
    "company\n",
    "Amazon\n",
    "company\n",
    "Yahoo\n",
    "SQL Schema\n",
    "Pandas Schema\n",
    "Table: Weather\n",
    "\n",
    "+---------------+---------+\n",
    "| Column Name   | Type    |\n",
    "+---------------+---------+\n",
    "| id            | int     |\n",
    "| recordDate    | date    |\n",
    "| temperature   | int     |\n",
    "+---------------+---------+\n",
    "id is the column with unique values for this table.\n",
    "This table contains information about the temperature on a certain day.\n",
    " \n",
    "\n",
    "Write a solution to find all dates' Id with higher temperatures compared to its previous dates (yesterday).\n",
    "\n",
    "Return the result table in any order.\n",
    "\n",
    "The result format is in the following example.\n",
    "\n",
    " \n",
    "\n",
    "Example 1:\n",
    "\n",
    "Input: \n",
    "Weather table:\n",
    "+----+------------+-------------+\n",
    "| id | recordDate | temperature |\n",
    "+----+------------+-------------+\n",
    "| 1  | 2015-01-01 | 10          |\n",
    "| 2  | 2015-01-02 | 25          |\n",
    "| 3  | 2015-01-03 | 20          |\n",
    "| 4  | 2015-01-04 | 30          |\n",
    "+----+------------+-------------+\n",
    "Output: \n",
    "+----+\n",
    "| id |\n",
    "+----+\n",
    "| 2  |\n",
    "| 4  |\n",
    "+----+\n",
    "Explanation: \n",
    "In 2015-01-02, the temperature was higher than the previous day (10 -> 25).\n",
    "In 2015-01-04, the temperature was higher than the previous day (20 -> 30)."
   ]
  },
  {
   "cell_type": "code",
   "execution_count": 9,
   "id": "06e7c353",
   "metadata": {},
   "outputs": [
    {
     "ename": "IndentationError",
     "evalue": "unexpected indent (746725120.py, line 10)",
     "output_type": "error",
     "traceback": [
      "\u001b[0;36m  Cell \u001b[0;32mIn[9], line 10\u001b[0;36m\u001b[0m\n\u001b[0;31m    w1.id\u001b[0m\n\u001b[0m    ^\u001b[0m\n\u001b[0;31mIndentationError\u001b[0m\u001b[0;31m:\u001b[0m unexpected indent\n"
     ]
    }
   ],
   "source": [
    "# DATEDIFF(a, b) = 1 计算相差天数为1\n",
    "# self join + c > d 进行filter\n",
    "\n",
    "# 因为要保证差值为1的相邻的date，后一天比前一天温度高，两个条件，\n",
    "# 所以如果做lag要做两个；如果datediff要让差值为1\n",
    "# 通过self join可以让变量后一项减前一项\n",
    "\n",
    "#法1：self join + datediff(date1, date2) = 1 and temp1 > temp2\n",
    "SELECT \n",
    "  w1.id\n",
    "FROM Weather w1 JOIN Weather w2\n",
    "ON DATEDIFF(w1.recordDate, w2.recordDate) = 1 \n",
    "AND w1.temperature > w2.temperature\n",
    "\n",
    "#法2(my sql server)：\n",
    "# SELECT id\n",
    "# FROM\n",
    "# (SELECT *, \n",
    "#     LAG(temperature,1) OVER (ORDER BY recordDate)  as prevTemp,\n",
    "#     LAG(recordDate,1) OVER (ORDER BY recordDate)  as prevDate\n",
    "#     FROM Weather) a\n",
    "# WHERE temperature > prevTemp\n",
    "# AND DATEDIFF(day,recordDate,prevDate) = -1 "
   ]
  },
  {
   "cell_type": "code",
   "execution_count": null,
   "id": "c3ddd75a",
   "metadata": {},
   "outputs": [],
   "source": [
    "#https://leetcode.com/problems/average-time-of-process-per-machine/"
   ]
  },
  {
   "cell_type": "raw",
   "id": "874b74c3",
   "metadata": {},
   "source": [
    "1661. Average Time of Process per Machine\n",
    "Easy\n",
    "848\n",
    "71\n",
    "company\n",
    "Bloomberg\n",
    "company\n",
    "Adobe\n",
    "company\n",
    "Microsoft\n",
    "SQL Schema\n",
    "Pandas Schema\n",
    "Table: Activity\n",
    "\n",
    "+----------------+---------+\n",
    "| Column Name    | Type    |\n",
    "+----------------+---------+\n",
    "| machine_id     | int     |\n",
    "| process_id     | int     |\n",
    "| activity_type  | enum    |\n",
    "| timestamp      | float   |\n",
    "+----------------+---------+\n",
    "The table shows the user activities for a factory website.\n",
    "(machine_id, process_id, activity_type) is the primary key (combination of columns with unique values) of this table.\n",
    "machine_id is the ID of a machine.\n",
    "process_id is the ID of a process running on the machine with ID machine_id.\n",
    "activity_type is an ENUM (category) of type ('start', 'end').\n",
    "timestamp is a float representing the current time in seconds.\n",
    "'start' means the machine starts the process at the given timestamp and 'end' means the machine ends the process at the given timestamp.\n",
    "The 'start' timestamp will always be before the 'end' timestamp for every (machine_id, process_id) pair.\n",
    " \n",
    "\n",
    "There is a factory website that has several machines each running the same number of processes. Write a solution to find the average time each machine takes to complete a process.\n",
    "\n",
    "The time to complete a process is the 'end' timestamp minus the 'start' timestamp. The average time is calculated by the total time to complete every process on the machine divided by the number of processes that were run.\n",
    "\n",
    "The resulting table should have the machine_id along with the average time as processing_time, which should be rounded to 3 decimal places.\n",
    "\n",
    "Return the result table in any order.\n",
    "\n",
    "The result format is in the following example.\n",
    "\n",
    " \n",
    "\n",
    "Example 1:\n",
    "\n",
    "Input: \n",
    "Activity table:\n",
    "+------------+------------+---------------+-----------+\n",
    "| machine_id | process_id | activity_type | timestamp |\n",
    "+------------+------------+---------------+-----------+\n",
    "| 0          | 0          | start         | 0.712     |\n",
    "| 0          | 0          | end           | 1.520     |\n",
    "| 0          | 1          | start         | 3.140     |\n",
    "| 0          | 1          | end           | 4.120     |\n",
    "| 1          | 0          | start         | 0.550     |\n",
    "| 1          | 0          | end           | 1.550     |\n",
    "| 1          | 1          | start         | 0.430     |\n",
    "| 1          | 1          | end           | 1.420     |\n",
    "| 2          | 0          | start         | 4.100     |\n",
    "| 2          | 0          | end           | 4.512     |\n",
    "| 2          | 1          | start         | 2.500     |\n",
    "| 2          | 1          | end           | 5.000     |\n",
    "+------------+------------+---------------+-----------+\n",
    "Output: \n",
    "+------------+-----------------+\n",
    "| machine_id | processing_time |\n",
    "+------------+-----------------+\n",
    "| 0          | 0.894           |\n",
    "| 1          | 0.995           |\n",
    "| 2          | 1.456           |\n",
    "+------------+-----------------+\n",
    "Explanation: \n",
    "There are 3 machines running 2 processes each.\n",
    "Machine 0's average time is ((1.520 - 0.712) + (4.120 - 3.140)) / 2 = 0.894\n",
    "Machine 1's average time is ((1.550 - 0.550) + (1.420 - 0.430)) / 2 = 0.995\n",
    "Machine 2's average time is ((4.512 - 4.100) + (5.000 - 2.500)) / 2 = 1.456"
   ]
  },
  {
   "cell_type": "code",
   "execution_count": 10,
   "id": "1642aeb5",
   "metadata": {},
   "outputs": [
    {
     "ename": "SyntaxError",
     "evalue": "invalid syntax (2354558494.py, line 1)",
     "output_type": "error",
     "traceback": [
      "\u001b[0;36m  Cell \u001b[0;32mIn[10], line 1\u001b[0;36m\u001b[0m\n\u001b[0;31m    mysql:\u001b[0m\n\u001b[0m          ^\u001b[0m\n\u001b[0;31mSyntaxError\u001b[0m\u001b[0;31m:\u001b[0m invalid syntax\n"
     ]
    }
   ],
   "source": [
    "mysql:\n",
    "SELECT\n",
    "  a.machine_id,\n",
    "  ROUND(AVG(b.timestamp - a.timestamp), 3) AS processing_time\n",
    "FROM Activity a\n",
    "JOIN Activity b\n",
    "ON a.machine_id = b.machine_id\n",
    "AND a.process_id = b.process_id\n",
    "# AND a.timestamp < b.timestamp\n",
    " AND a.activity_type = 'start' AND b.activity_type = 'end'\n",
    "GROUP BY a.machine_id\n",
    "\n",
    "\n",
    "--post:\n",
    "SELECT\n",
    "--*,\n",
    "  a.machine_id,\n",
    "  ROUND(AVG(b.timestamp - a.timestamp)::DECIMAL, 3) AS processing_time\n",
    "FROM Activity a\n",
    "JOIN Activity b\n",
    "ON a.machine_id = b.machine_id\n",
    "AND a.process_id = b.process_id\n",
    "AND a.timestamp < b.timestamp\n",
    "--AND a.activity_type = 'start' AND b.activity_type = 'end'\n",
    "GROUP BY a.machine_id"
   ]
  },
  {
   "cell_type": "code",
   "execution_count": null,
   "id": "83c7cecc",
   "metadata": {},
   "outputs": [],
   "source": []
  }
 ],
 "metadata": {
  "kernelspec": {
   "display_name": "Python 3 (ipykernel)",
   "language": "python",
   "name": "python3"
  },
  "language_info": {
   "codemirror_mode": {
    "name": "ipython",
    "version": 3
   },
   "file_extension": ".py",
   "mimetype": "text/x-python",
   "name": "python",
   "nbconvert_exporter": "python",
   "pygments_lexer": "ipython3",
   "version": "3.11.5"
  }
 },
 "nbformat": 4,
 "nbformat_minor": 5
}
