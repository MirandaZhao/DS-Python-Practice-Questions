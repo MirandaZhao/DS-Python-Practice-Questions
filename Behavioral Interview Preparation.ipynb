{
 "cells": [
  {
   "cell_type": "markdown",
   "id": "09aa894f",
   "metadata": {},
   "source": [
    "# 1. What is a Behavioral Interview"
   ]
  },
  {
   "cell_type": "markdown",
   "id": "a819b3f5",
   "metadata": {},
   "source": [
    "## 1.1 Definition\n",
    "\n",
    "- behavior in employment-related situations (past stories predict future performance)\n",
    "- give an example of / describe a situation where/ have you ever had to/ tell about how\n",
    "- specific stories or experiences"
   ]
  },
  {
   "cell_type": "markdown",
   "id": "cbb353c4",
   "metadata": {},
   "source": [
    "## 1.2 Purpose\n",
    "\n",
    "- Boost confidence\n",
    "- Convince the interviewer that you are a good fit"
   ]
  },
  {
   "cell_type": "markdown",
   "id": "f4556645",
   "metadata": {},
   "source": [
    "# 2. Common Behavioral Questions"
   ]
  },
  {
   "cell_type": "markdown",
   "id": "a9070b31",
   "metadata": {},
   "source": [
    "## 2.1 Communication & Teamwork\n",
    "\n",
    "- Most critical characteristics in almost all interviews\n",
    "- \"Give me an example of when you worked well with a team.\"\n",
    "- \"Describe a time when you disagreed with a team member.\""
   ]
  },
  {
   "cell_type": "markdown",
   "id": "ed5cb6a4",
   "metadata": {},
   "source": [
    "## 2.2 Leadership\n",
    "\n",
    "- Not only applicable to managerial positions\n",
    "- \"Give me an example of when you set a goal and how you achieved it.\"\n",
    "- \"Have you ever gone above and beyond the call of duty?\""
   ]
  },
  {
   "cell_type": "markdown",
   "id": "4598286c",
   "metadata": {},
   "source": [
    "## 2.3 Management, Efficiency, Timeliness, Attention to Detail\n",
    "\n",
    "- Project details probing\n",
    "- \"What do you do when you schedule is interrupted?\"\n",
    "- \"How do you handle multiple projects?\"\n",
    "- \"Tell about a conflict at your job.\""
   ]
  },
  {
   "cell_type": "markdown",
   "id": "ec10a4b4",
   "metadata": {},
   "source": [
    "## 2.4 Problem-solving, Creativity\n",
    "\n",
    "- Essential characteristics because difficulties are inevitable at work\n",
    "- \"What is the most difficult/ challenging situation you've ever had to resolve in the workplace?\n",
    "- \"What's the best idea you've come up with on a team-based project?\""
   ]
  },
  {
   "cell_type": "markdown",
   "id": "b67864a4",
   "metadata": {},
   "source": [
    "## 2.5 Summary\n",
    "\n",
    "- Communication& teamwork\n",
    "- Leadership\n",
    "- Management, efficiency, timeliness, attention to detail\n",
    "- Problem-solving& creativity"
   ]
  },
  {
   "cell_type": "markdown",
   "id": "46193320",
   "metadata": {},
   "source": [
    "# 3. How to answer behavioral questions"
   ]
  },
  {
   "cell_type": "markdown",
   "id": "3df48179",
   "metadata": {},
   "source": [
    "## 3.1 STAR method\n",
    "\n",
    "- Situation\n",
    "- Task\n",
    "- Action\n",
    "- Result\n",
    "\n",
    "**Key: provide context and describe details using specific and concrete examples**"
   ]
  },
  {
   "cell_type": "markdown",
   "id": "445dbf8c",
   "metadata": {},
   "source": [
    "## 3.2 STAR application I\n",
    "\n",
    "Tell me about a situation where you had to solve a difficult problem\n",
    "\n",
    "- **1. Situation: what was going on and why it happened?**\n",
    "- When the client was using the predictive tool that we created, she discovered a huge gap between the predicted and the actual results but couldn't figure out why\n",
    "\n",
    "- **2. Task: What you were responsible for and supposed to achieve?**\n",
    "- So I was supposed to look into the issue and find out why the tool failed to predict accurate results.\n",
    "\n",
    "- **3. Action: What you did specifically?**\n",
    "- So I checked the history data and calculated the prices that were supposed to be input into the tool, only to find that the client's input prices were considerably different from the actual prices, causing the prediction deviating from reality.\n",
    "\n",
    "- **4. Result: What impact it made?**\n",
    "- After digging into the issue, I realized that the difference between prediction and reality was merely 10%, which meant the tool's prediction was still within a normal range. I had also created another tool that's more user friendly for the client's use and she was really surprised and happy."
   ]
  },
  {
   "cell_type": "markdown",
   "id": "4d740fb1",
   "metadata": {},
   "source": [
    "## 3.2 STAR 应用 II\n",
    "\n",
    "告诉我一个你必须解决一个难题的情况\n",
    "\n",
    "- **1. 情况：发生了什么以及为什么会发生？**\n",
    "- 当客户使用我们创建的预测工具时，她发现预测结果与实际结果之间存在巨大差距，但无法找出原因\n",
    "\n",
    "- **2. 任务：你负责什么并应该实现什么？**\n",
    "- 所以我应该调查这个问题并找出该工具无法预测准确结果的原因。\n",
    "\n",
    "- **3. 行动：你具体做了什么？**\n",
    "- 于是我查了历史数据，计算了应该输入到工具中的价格，却发现客户输入的价格与实际价格相差很大，导致预测与实际存在偏差。\n",
    "\n",
    "- **4. 结果：产生了什么影响？**\n",
    "- 经过深入研究，我发现预测与实际的差异只有10%，这意味着该工具的预测仍在正常范围内。 我还创建了另一个更方便客户使用的工具，她真的感到惊讶和高兴。"
   ]
  },
  {
   "cell_type": "markdown",
   "id": "2027196b",
   "metadata": {},
   "source": [
    "## 3.3 STAR application II\n",
    "\n",
    "Tell me about a time you worked on a team\n",
    "\n",
    "- In my last position, four of my colleagues and I were tasked with a complex project\n",
    "\n",
    "- We had to work together, relying on each other's strengths to complete the required work.\n",
    "\n",
    "- To get started, we assessed the tasks we needed to accomplish as well as each one's skillset. Then we divided up the workload and planned the timeline accordingly, ensuring we could focus our energy on areas where we shined.\n",
    "\n",
    "- This approach kept our efforts organized and ultimately led the project to success."
   ]
  },
  {
   "cell_type": "markdown",
   "id": "7146c2b7",
   "metadata": {},
   "source": [
    "## 3.3 STAR应用II\n",
    "\n",
    "告诉我你在团队中工作的经历\n",
    "\n",
    "- 在我的上一个职位中，我和我的四位同事负责一个复杂的项目\n",
    "\n",
    "- 我们必须共同努力，依靠彼此的优势来完成所需的工作。\n",
    "\n",
    "- 首先，我们评估了需要完成的任务以及每个人的技能。 然后我们划分工作量并相应地规划时间表，确保我们能够将精力集中在我们擅长的领域。\n",
    "\n",
    "- 这种方法使我们的努力井井有条，并最终使项目取得了成功。"
   ]
  },
  {
   "cell_type": "markdown",
   "id": "a7c1b5cf",
   "metadata": {},
   "source": [
    "# 4. How to prepare for interviews"
   ]
  },
  {
   "cell_type": "markdown",
   "id": "07679724",
   "metadata": {},
   "source": [
    "## 4.1 What to apply STAR to?\n",
    "\n",
    "- Common topics\n",
    "- What the job description specifies\n",
    "- If JD include \"work with various teams with minimal supervision, excellent communication skill\"\n",
    "- Questions sample could be ①tell me a time you worked on a team ②tell me about a project that tyou worked on\n",
    "- If JD include \"leading independently, building solutions to problems, broader team\"\n",
    "- Questions sample could be ①can you tell me about a time when you demonstrated leadership capabilities on the job ②tell me a situation where you had to solve a difficult problem"
   ]
  },
  {
   "cell_type": "markdown",
   "id": "37db377c",
   "metadata": {},
   "source": [
    "## 4.1 STAR 应用于什么？\n",
    "\n",
    "- 常见话题\n",
    "- 职位描述具体说明了什么\n",
    "- 如果JD包括“在最少的监督下与各个团队合作，具有出色的沟通技巧”\n",
    "- 问题示例可以是①告诉我您在团队中工作的一次经历②告诉我您从事过的一个项目\n",
    "- 如果JD包括“独立领导、构建问题解决方案、更广泛的团队”\n",
    "- 问题可能是 ①你能告诉我你在工作中表现出领导能力的一次经历 ②告诉我你必须解决一个难题的情况"
   ]
  },
  {
   "cell_type": "markdown",
   "id": "8e866b59",
   "metadata": {},
   "source": [
    "## 4.2 Preparation Strategy\n",
    "\n",
    "- Create a list of experiences or stories that highlight what the job descriptions emphasize\n",
    "- Craft answers by following STAR"
   ]
  },
  {
   "cell_type": "markdown",
   "id": "1554a433",
   "metadata": {},
   "source": [
    "# 5. Special Situations"
   ]
  },
  {
   "cell_type": "markdown",
   "id": "c04ba4a6",
   "metadata": {},
   "source": [
    "## 5.1 Tricky Questions I\n",
    "\n",
    "- Have you ever found it difficult to work with a manager or other team members?\n",
    "- **Key: Keep an optimistic attitude, be hones and positive, and avoid complaining.**\n",
    "- eg. I have often worked with managers and coworkers, and I rarely find it difficult. Sometimes it takes some time to adjust to a new manager or leader in a team environment. However, as long as we take the time to connect and clarify expectations, I think everything will work out. I expect and adjustment period, just like any other relationship."
   ]
  },
  {
   "cell_type": "markdown",
   "id": "a5c00451",
   "metadata": {},
   "source": [
    "## 5.1 问题 I\n",
    "\n",
    "- 您是否曾发现与经理或其他团队成员一起工作很困难？\n",
    "- **关键：保持乐观态度，诚实积极，避免抱怨。**\n",
    "- 例如。 我经常与经理和同事一起工作，我很少觉得这很困难。 有时，在团队环境中适应新的经理或领导者需要一些时间。 然而，只要我们花时间联系并明确期望，我认为一切都会成功。 我期望有一个调整期，就像任何其他关系一样。"
   ]
  },
  {
   "cell_type": "markdown",
   "id": "1ad3b33f",
   "metadata": {},
   "source": [
    "## 5.2 Tricky Questions II\n",
    "\n",
    "- What's your greatest weakness?\n",
    "- **Key: Reframe weakness positively. Found weakness and the overcame/ improved it**\n",
    "- eg. I focus too much on the details/ I can have trouble asking for help/ I sometimes lack confidence/ I could use more experience in (some behavioral characteristic)"
   ]
  },
  {
   "cell_type": "markdown",
   "id": "ce8747fe",
   "metadata": {},
   "source": [
    "## 5.2 问题二\n",
    "\n",
    "- 你最大的弱点是什么？\n",
    "- **关键：积极重构弱点。 发现弱点并克服/改进它**\n",
    "- 例如。 我过于关注细节/我在寻求帮助时遇到困难/我有时缺乏信心/我可以在（某些行为特征）方面运用更多经验"
   ]
  },
  {
   "cell_type": "markdown",
   "id": "e3e94598",
   "metadata": {},
   "source": [
    "## 5.3 Tricky Questions III\n",
    "\n",
    "- Questions that you can't think of an answer to\n",
    "- Key 1: Use a similar situation or answer hypothetically\n",
    "- Key 2: Use interchangeable or flexible examples\n",
    "- Working on a team- teamwork, communication, leadership, time management, motivation\n",
    "- Solving a problem- problem solving, communication, leadership, challenge overcoming, goal achieving, creativity\n",
    "- Disagree with someone- conflict resolution, communication, teamwork, pressure handling\n",
    "\n",
    "**Key: prepare versatile stories or experiences with rich details, so that you can tailer them based on needs.**"
   ]
  },
  {
   "cell_type": "markdown",
   "id": "1a97c794",
   "metadata": {},
   "source": [
    "## 5.3 问题三\n",
    "\n",
    "- 你想不出答案的问题\n",
    "- 关键 1：使用类似的情况或假设性地回答\n",
    "- 关键 2：使用可互换或灵活的示例\n",
    "- 团队合作——团队合作、沟通、领导力、时间管理、激励\n",
    "- 解决问题——解决问题、沟通、领导力、克服挑战、实现目标、创造力\n",
    "- 不同意某人的观点——冲突解决、沟通、团队合作、压力处理\n",
    "\n",
    "**关键：准备丰富细节的多样化故事或体验，以便您根据需要进行定制。**"
   ]
  },
  {
   "cell_type": "markdown",
   "id": "8caecea2",
   "metadata": {},
   "source": [
    "# 6. Summary\n",
    "\n",
    "1. Prepare ahead of time\n",
    "2. Prepare specific examples\n",
    "3. Follow the STAR method\n",
    "4. Draw from the Job Description\n",
    "5. Be positive and flexible"
   ]
  },
  {
   "cell_type": "markdown",
   "id": "8c1ab49a",
   "metadata": {},
   "source": [
    "# 描述项目"
   ]
  },
  {
   "cell_type": "markdown",
   "id": "2dab5595",
   "metadata": {},
   "source": [
    "1. Tell me about this project **概况**\n",
    "\n",
    "    - Describe this project in general from a high-level perspective in about 3 sentences. (I design/design/ develop/ implement/ complete/ build/ complete/ establish/...)\n",
    "    - Describe the basic modules/aspects/structures of the project with 1-2 sentence for each.\n",
    "    - Describe the functions/features of the project (this project could help to do /provide sth/ enable sth to do sth, etc.) with 1-2 sentence for each.\n",
    "\n",
    "    概括描述 设计/设计/开发/实施/完成/构建/完成/建立 3句话\n",
    "\n",
    "    基本模块/方面/结构 1-2句话\n",
    "\n",
    "    功能/特点 帮助做/提供某事 1-2句话"
   ]
  },
  {
   "cell_type": "markdown",
   "id": "86315076",
   "metadata": {},
   "source": [
    "2. What did you achieve and what tools/frameworks/api did you use? **细节**\n",
    "\n",
    "    - How to implement the basic modules/aspects structures of the project, from start to end. 4-5 sentences at least)\n",
    "    - How to implement the functions/features, in details. 4-5 sentences (at least)\n",
    "    - Why is your implementation good? What level of performance does it reach?\n",
    "    - What is the impact of vour implementation on the overall system/architecture?\n",
    "\n",
    "    从头到尾实现项目的基本模块/方面结构 4-5句话\n",
    "\n",
    "    详细说明如何实现功能/特性 4-5句话\n",
    "\n",
    "    实施效果很好原因 性能水平\n",
    "\n",
    "    实施对整个系统/架构影响"
   ]
  },
  {
   "cell_type": "markdown",
   "id": "cf0c8747",
   "metadata": {},
   "source": [
    "3. What is the biggest challenge you had during this project? **挑战**\n",
    "\n",
    "    - The problems/ challenges/ bottlenecks you may face when implementing the basic modules/aspects/structures of project, and how you conquer/resolve/address them. (2-3 options, 5 sentences of each option at least)\n",
    "    - The technical key steps/milestones of project. 2-3 sentences of each at least.\n",
    "\n",
    "    遇到的最大挑战\n",
    "\n",
    "    实现项目的基本模块/方面/结构时可能面临的问题/挑战/瓶颈，以及如何克服/解决/解决它们 每个选项至少5句\n",
    "\n",
    "    项目的技术关键步骤/里程碑 2-3 句话"
   ]
  },
  {
   "cell_type": "markdown",
   "id": "f58aaa88",
   "metadata": {},
   "source": [
    "4. What have you learned in this project? **经验**\n",
    "\n",
    "    - What skills/understandings/feeling do the student acquire after completing this project, especially after addressing problems/ challenges/ bottlenecks. 3-4 sentences at least.\n",
    "    - What kind of bigger problems/ challenges/ bottlenecks will the students be able to address? 4-5 sentences at least.\n",
    "\n",
    "    学到的经验\n",
    "\n",
    "    解决问题/挑战/瓶颈之后，获得了哪些技能/理解/感受 3-4句话\n",
    "\n",
    "    将来能够解决哪些更大的问题/挑战/瓶颈 4-5句话"
   ]
  },
  {
   "cell_type": "markdown",
   "id": "a4f78350",
   "metadata": {},
   "source": [
    "5. What can be improved upon your current implementation, and how? **提升**\n",
    "\n",
    "    - The after-class tasks for the students to work on their own to develop this broiect. 3-4 sentences at least.\n",
    "    - The parts/modules of the project that could be improved/enhanced/upgraded. 3-4 sentences at least.\n",
    "\n",
    "    完成项目的课后任务 3-4句话\n",
    "\n",
    "    项目中可以改进/增强/升级的部分 3-4句话"
   ]
  },
  {
   "cell_type": "markdown",
   "id": "9408ed46",
   "metadata": {},
   "source": [
    "6. **反思**：\n",
    "    1) 如果做的事是，用A技术实现的X目的:\n",
    "        - A的原理，应用场景，优缺点\n",
    "        - X目的是什么，如果想实现X，需要怎么做，包括哪几块呢？\n",
    "        - A的相似B技术，能不能实现X，A和B的区别？B还能做什么？\n",
    "        - A技术除了能做X，还能做什么，怎么做？\n",
    "\n",
    "\n",
    "    2) 如果做的事是，用A、B技术实现的X目的，需要思考\n",
    "\n",
    "        - 进行A、B、X的延展准备\n",
    "        - A和B技术到底是怎么配合/连起来/互相补充"
   ]
  }
 ],
 "metadata": {
  "kernelspec": {
   "display_name": "Python 3 (ipykernel)",
   "language": "python",
   "name": "python3"
  },
  "language_info": {
   "codemirror_mode": {
    "name": "ipython",
    "version": 3
   },
   "file_extension": ".py",
   "mimetype": "text/x-python",
   "name": "python",
   "nbconvert_exporter": "python",
   "pygments_lexer": "ipython3",
   "version": "3.11.5"
  }
 },
 "nbformat": 4,
 "nbformat_minor": 5
}
